{
  "nbformat": 4,
  "nbformat_minor": 0,
  "metadata": {
    "colab": {
      "name": "W3D1_Tutorial1",
      "provenance": [],
      "collapsed_sections": [
        "jWmfLbhzBpfz"
      ],
      "toc_visible": true,
      "include_colab_link": true
    },
    "interpreter": {
      "hash": "3e19903e646247cead5404f55ff575624523d45cf244c3f93aaf5fa10367032a"
    },
    "kernel": {
      "display_name": "Python 3",
      "language": "python",
      "name": "python3"
    },
    "kernelspec": {
      "display_name": "Python 3.7.10 64-bit ('nma': conda)",
      "name": "python3"
    },
    "language_info": {
      "codemirror_mode": {
        "name": "ipython",
        "version": 3
      },
      "file_extension": ".py",
      "mimetype": "text/x-python",
      "name": "python",
      "nbconvert_exporter": "python",
      "pygments_lexer": "ipython3",
      "version": "3.7.11"
    },
    "widgets": {
      "application/vnd.jupyter.widget-state+json": {
        "9d0a2313cc38466b9c3d8a4b43d0c429": {
          "model_module": "@jupyter-widgets/controls",
          "model_name": "TabModel",
          "state": {
            "_view_name": "TabView",
            "_dom_classes": [],
            "_titles": {
              "0": "Youtube",
              "1": "Bilibili"
            },
            "_model_name": "TabModel",
            "_view_module": "@jupyter-widgets/controls",
            "selected_index": 0,
            "_model_module_version": "1.5.0",
            "_view_count": null,
            "_view_module_version": "1.5.0",
            "box_style": "",
            "layout": "IPY_MODEL_108f39e11e93404cbc1e8e9699fe61ad",
            "_model_module": "@jupyter-widgets/controls",
            "children": [
              "IPY_MODEL_6caa4bfb8bbe4e64b098c261cade896b",
              "IPY_MODEL_a4649dd393814058bfca3df045900dbb"
            ]
          }
        },
        "108f39e11e93404cbc1e8e9699fe61ad": {
          "model_module": "@jupyter-widgets/base",
          "model_name": "LayoutModel",
          "state": {
            "_view_name": "LayoutView",
            "grid_template_rows": null,
            "right": null,
            "justify_content": null,
            "_view_module": "@jupyter-widgets/base",
            "overflow": null,
            "_model_module_version": "1.2.0",
            "_view_count": null,
            "flex_flow": null,
            "width": null,
            "min_width": null,
            "border": null,
            "align_items": null,
            "bottom": null,
            "_model_module": "@jupyter-widgets/base",
            "top": null,
            "grid_column": null,
            "overflow_y": null,
            "overflow_x": null,
            "grid_auto_flow": null,
            "grid_area": null,
            "grid_template_columns": null,
            "flex": null,
            "_model_name": "LayoutModel",
            "justify_items": null,
            "grid_row": null,
            "max_height": null,
            "align_content": null,
            "visibility": null,
            "align_self": null,
            "height": null,
            "min_height": null,
            "padding": null,
            "grid_auto_rows": null,
            "grid_gap": null,
            "max_width": null,
            "order": null,
            "_view_module_version": "1.2.0",
            "grid_template_areas": null,
            "object_position": null,
            "object_fit": null,
            "grid_auto_columns": null,
            "margin": null,
            "display": null,
            "left": null
          }
        },
        "6caa4bfb8bbe4e64b098c261cade896b": {
          "model_module": "@jupyter-widgets/output",
          "model_name": "OutputModel",
          "state": {
            "_view_name": "OutputView",
            "msg_id": "",
            "_dom_classes": [],
            "_model_name": "OutputModel",
            "outputs": [
              {
                "output_type": "stream",
                "metadata": {
                  "tags": []
                },
                "text": "Video available at https://youtube.com/watch?v=Hcx2_JTpf2M\n",
                "stream": "stdout"
              },
              {
                "output_type": "display_data",
                "metadata": {
                  "tags": []
                },
                "text/html": "\n        <iframe\n            width=\"854\"\n            height=\"480\"\n            src=\"https://www.youtube.com/embed/Hcx2_JTpf2M?fs=1&rel=0\"\n            frameborder=\"0\"\n            allowfullscreen\n        ></iframe>\n        ",
                "text/plain": "<IPython.lib.display.YouTubeVideo at 0x7f70ea59da50>",
                "image/jpeg": "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\n"
              }
            ],
            "_view_module": "@jupyter-widgets/output",
            "_model_module_version": "1.0.0",
            "_view_count": null,
            "_view_module_version": "1.0.0",
            "layout": "IPY_MODEL_11f29d7a35d949a8a799b4123dd22279",
            "_model_module": "@jupyter-widgets/output"
          }
        },
        "a4649dd393814058bfca3df045900dbb": {
          "model_module": "@jupyter-widgets/output",
          "model_name": "OutputModel",
          "state": {
            "_view_name": "OutputView",
            "msg_id": "",
            "_dom_classes": [],
            "_model_name": "OutputModel",
            "outputs": [
              {
                "output_type": "stream",
                "metadata": {
                  "tags": []
                },
                "text": "Video available at https://www.bilibili.com/video/BV1Ch41167jN\n",
                "stream": "stdout"
              },
              {
                "output_type": "display_data",
                "metadata": {
                  "tags": []
                },
                "text/html": "\n        <iframe\n            width=\"854\"\n            height=\"480\"\n            src=\"https://player.bilibili.com/player.html?bvid=BV1Ch41167jN&page=1?fs=1\"\n            frameborder=\"0\"\n            allowfullscreen\n        ></iframe>\n        ",
                "text/plain": "<__main__.BiliVideo at 0x7f70ea59d590>"
              }
            ],
            "_view_module": "@jupyter-widgets/output",
            "_model_module_version": "1.0.0",
            "_view_count": null,
            "_view_module_version": "1.0.0",
            "layout": "IPY_MODEL_e1b3f9de96574bf9919d6d2f5282e264",
            "_model_module": "@jupyter-widgets/output"
          }
        },
        "11f29d7a35d949a8a799b4123dd22279": {
          "model_module": "@jupyter-widgets/base",
          "model_name": "LayoutModel",
          "state": {
            "_view_name": "LayoutView",
            "grid_template_rows": null,
            "right": null,
            "justify_content": null,
            "_view_module": "@jupyter-widgets/base",
            "overflow": null,
            "_model_module_version": "1.2.0",
            "_view_count": null,
            "flex_flow": null,
            "width": null,
            "min_width": null,
            "border": null,
            "align_items": null,
            "bottom": null,
            "_model_module": "@jupyter-widgets/base",
            "top": null,
            "grid_column": null,
            "overflow_y": null,
            "overflow_x": null,
            "grid_auto_flow": null,
            "grid_area": null,
            "grid_template_columns": null,
            "flex": null,
            "_model_name": "LayoutModel",
            "justify_items": null,
            "grid_row": null,
            "max_height": null,
            "align_content": null,
            "visibility": null,
            "align_self": null,
            "height": null,
            "min_height": null,
            "padding": null,
            "grid_auto_rows": null,
            "grid_gap": null,
            "max_width": null,
            "order": null,
            "_view_module_version": "1.2.0",
            "grid_template_areas": null,
            "object_position": null,
            "object_fit": null,
            "grid_auto_columns": null,
            "margin": null,
            "display": null,
            "left": null
          }
        },
        "e1b3f9de96574bf9919d6d2f5282e264": {
          "model_module": "@jupyter-widgets/base",
          "model_name": "LayoutModel",
          "state": {
            "_view_name": "LayoutView",
            "grid_template_rows": null,
            "right": null,
            "justify_content": null,
            "_view_module": "@jupyter-widgets/base",
            "overflow": null,
            "_model_module_version": "1.2.0",
            "_view_count": null,
            "flex_flow": null,
            "width": null,
            "min_width": null,
            "border": null,
            "align_items": null,
            "bottom": null,
            "_model_module": "@jupyter-widgets/base",
            "top": null,
            "grid_column": null,
            "overflow_y": null,
            "overflow_x": null,
            "grid_auto_flow": null,
            "grid_area": null,
            "grid_template_columns": null,
            "flex": null,
            "_model_name": "LayoutModel",
            "justify_items": null,
            "grid_row": null,
            "max_height": null,
            "align_content": null,
            "visibility": null,
            "align_self": null,
            "height": null,
            "min_height": null,
            "padding": null,
            "grid_auto_rows": null,
            "grid_gap": null,
            "max_width": null,
            "order": null,
            "_view_module_version": "1.2.0",
            "grid_template_areas": null,
            "object_position": null,
            "object_fit": null,
            "grid_auto_columns": null,
            "margin": null,
            "display": null,
            "left": null
          }
        },
        "027b58268181425cba7e94e960d41ece": {
          "model_module": "@jupyter-widgets/controls",
          "model_name": "TabModel",
          "state": {
            "_view_name": "TabView",
            "_dom_classes": [],
            "_titles": {
              "0": "Youtube",
              "1": "Bilibili"
            },
            "_model_name": "TabModel",
            "_view_module": "@jupyter-widgets/controls",
            "selected_index": 0,
            "_model_module_version": "1.5.0",
            "_view_count": null,
            "_view_module_version": "1.5.0",
            "box_style": "",
            "layout": "IPY_MODEL_f3bc5809aa57416c9cb1f4a59d1bf11e",
            "_model_module": "@jupyter-widgets/controls",
            "children": [
              "IPY_MODEL_95010db2a2c54dceab2c97c7d04fc529",
              "IPY_MODEL_f6121171338e463aaaff08f6f1c87b22"
            ]
          }
        },
        "f3bc5809aa57416c9cb1f4a59d1bf11e": {
          "model_module": "@jupyter-widgets/base",
          "model_name": "LayoutModel",
          "state": {
            "_view_name": "LayoutView",
            "grid_template_rows": null,
            "right": null,
            "justify_content": null,
            "_view_module": "@jupyter-widgets/base",
            "overflow": null,
            "_model_module_version": "1.2.0",
            "_view_count": null,
            "flex_flow": null,
            "width": null,
            "min_width": null,
            "border": null,
            "align_items": null,
            "bottom": null,
            "_model_module": "@jupyter-widgets/base",
            "top": null,
            "grid_column": null,
            "overflow_y": null,
            "overflow_x": null,
            "grid_auto_flow": null,
            "grid_area": null,
            "grid_template_columns": null,
            "flex": null,
            "_model_name": "LayoutModel",
            "justify_items": null,
            "grid_row": null,
            "max_height": null,
            "align_content": null,
            "visibility": null,
            "align_self": null,
            "height": null,
            "min_height": null,
            "padding": null,
            "grid_auto_rows": null,
            "grid_gap": null,
            "max_width": null,
            "order": null,
            "_view_module_version": "1.2.0",
            "grid_template_areas": null,
            "object_position": null,
            "object_fit": null,
            "grid_auto_columns": null,
            "margin": null,
            "display": null,
            "left": null
          }
        },
        "95010db2a2c54dceab2c97c7d04fc529": {
          "model_module": "@jupyter-widgets/output",
          "model_name": "OutputModel",
          "state": {
            "_view_name": "OutputView",
            "msg_id": "",
            "_dom_classes": [],
            "_model_name": "OutputModel",
            "outputs": [
              {
                "output_type": "stream",
                "metadata": {
                  "tags": []
                },
                "text": "Video available at https://youtube.com/watch?v=kAdBjWOI_yE\n",
                "stream": "stdout"
              },
              {
                "output_type": "display_data",
                "metadata": {
                  "tags": []
                },
                "text/html": "\n        <iframe\n            width=\"854\"\n            height=\"480\"\n            src=\"https://www.youtube.com/embed/kAdBjWOI_yE?fs=1&rel=0\"\n            frameborder=\"0\"\n            allowfullscreen\n        ></iframe>\n        ",
                "text/plain": "<IPython.lib.display.YouTubeVideo at 0x7f70f0120b10>",
                "image/jpeg": "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\n"
              }
            ],
            "_view_module": "@jupyter-widgets/output",
            "_model_module_version": "1.0.0",
            "_view_count": null,
            "_view_module_version": "1.0.0",
            "layout": "IPY_MODEL_835f75e609be41f09afbc0fd2aded974",
            "_model_module": "@jupyter-widgets/output"
          }
        },
        "f6121171338e463aaaff08f6f1c87b22": {
          "model_module": "@jupyter-widgets/output",
          "model_name": "OutputModel",
          "state": {
            "_view_name": "OutputView",
            "msg_id": "",
            "_dom_classes": [],
            "_model_name": "OutputModel",
            "outputs": [
              {
                "output_type": "stream",
                "metadata": {
                  "tags": []
                },
                "text": "Video available at https://www.bilibili.com/video/BV1TP4y147pJ\n",
                "stream": "stdout"
              },
              {
                "output_type": "display_data",
                "metadata": {
                  "tags": []
                },
                "text/html": "\n        <iframe\n            width=\"854\"\n            height=\"480\"\n            src=\"https://player.bilibili.com/player.html?bvid=BV1TP4y147pJ&page=1?fs=1\"\n            frameborder=\"0\"\n            allowfullscreen\n        ></iframe>\n        ",
                "text/plain": "<__main__.BiliVideo at 0x7f70dec22450>"
              }
            ],
            "_view_module": "@jupyter-widgets/output",
            "_model_module_version": "1.0.0",
            "_view_count": null,
            "_view_module_version": "1.0.0",
            "layout": "IPY_MODEL_deae242ab658422b8c39b11028d3de1e",
            "_model_module": "@jupyter-widgets/output"
          }
        },
        "835f75e609be41f09afbc0fd2aded974": {
          "model_module": "@jupyter-widgets/base",
          "model_name": "LayoutModel",
          "state": {
            "_view_name": "LayoutView",
            "grid_template_rows": null,
            "right": null,
            "justify_content": null,
            "_view_module": "@jupyter-widgets/base",
            "overflow": null,
            "_model_module_version": "1.2.0",
            "_view_count": null,
            "flex_flow": null,
            "width": null,
            "min_width": null,
            "border": null,
            "align_items": null,
            "bottom": null,
            "_model_module": "@jupyter-widgets/base",
            "top": null,
            "grid_column": null,
            "overflow_y": null,
            "overflow_x": null,
            "grid_auto_flow": null,
            "grid_area": null,
            "grid_template_columns": null,
            "flex": null,
            "_model_name": "LayoutModel",
            "justify_items": null,
            "grid_row": null,
            "max_height": null,
            "align_content": null,
            "visibility": null,
            "align_self": null,
            "height": null,
            "min_height": null,
            "padding": null,
            "grid_auto_rows": null,
            "grid_gap": null,
            "max_width": null,
            "order": null,
            "_view_module_version": "1.2.0",
            "grid_template_areas": null,
            "object_position": null,
            "object_fit": null,
            "grid_auto_columns": null,
            "margin": null,
            "display": null,
            "left": null
          }
        },
        "deae242ab658422b8c39b11028d3de1e": {
          "model_module": "@jupyter-widgets/base",
          "model_name": "LayoutModel",
          "state": {
            "_view_name": "LayoutView",
            "grid_template_rows": null,
            "right": null,
            "justify_content": null,
            "_view_module": "@jupyter-widgets/base",
            "overflow": null,
            "_model_module_version": "1.2.0",
            "_view_count": null,
            "flex_flow": null,
            "width": null,
            "min_width": null,
            "border": null,
            "align_items": null,
            "bottom": null,
            "_model_module": "@jupyter-widgets/base",
            "top": null,
            "grid_column": null,
            "overflow_y": null,
            "overflow_x": null,
            "grid_auto_flow": null,
            "grid_area": null,
            "grid_template_columns": null,
            "flex": null,
            "_model_name": "LayoutModel",
            "justify_items": null,
            "grid_row": null,
            "max_height": null,
            "align_content": null,
            "visibility": null,
            "align_self": null,
            "height": null,
            "min_height": null,
            "padding": null,
            "grid_auto_rows": null,
            "grid_gap": null,
            "max_width": null,
            "order": null,
            "_view_module_version": "1.2.0",
            "grid_template_areas": null,
            "object_position": null,
            "object_fit": null,
            "grid_auto_columns": null,
            "margin": null,
            "display": null,
            "left": null
          }
        },
        "54e4d129208146798f9141a5440a98f9": {
          "model_module": "@jupyter-widgets/controls",
          "model_name": "TabModel",
          "state": {
            "_view_name": "TabView",
            "_dom_classes": [],
            "_titles": {
              "0": "Youtube",
              "1": "Bilibili"
            },
            "_model_name": "TabModel",
            "_view_module": "@jupyter-widgets/controls",
            "selected_index": 0,
            "_model_module_version": "1.5.0",
            "_view_count": null,
            "_view_module_version": "1.5.0",
            "box_style": "",
            "layout": "IPY_MODEL_f03b0da1e6a0469d81729bacb45f383a",
            "_model_module": "@jupyter-widgets/controls",
            "children": [
              "IPY_MODEL_2babf017a79c44d2a81c09bfae4a694a",
              "IPY_MODEL_30e7d07beee843979f949d20f068d52f"
            ]
          }
        },
        "f03b0da1e6a0469d81729bacb45f383a": {
          "model_module": "@jupyter-widgets/base",
          "model_name": "LayoutModel",
          "state": {
            "_view_name": "LayoutView",
            "grid_template_rows": null,
            "right": null,
            "justify_content": null,
            "_view_module": "@jupyter-widgets/base",
            "overflow": null,
            "_model_module_version": "1.2.0",
            "_view_count": null,
            "flex_flow": null,
            "width": null,
            "min_width": null,
            "border": null,
            "align_items": null,
            "bottom": null,
            "_model_module": "@jupyter-widgets/base",
            "top": null,
            "grid_column": null,
            "overflow_y": null,
            "overflow_x": null,
            "grid_auto_flow": null,
            "grid_area": null,
            "grid_template_columns": null,
            "flex": null,
            "_model_name": "LayoutModel",
            "justify_items": null,
            "grid_row": null,
            "max_height": null,
            "align_content": null,
            "visibility": null,
            "align_self": null,
            "height": null,
            "min_height": null,
            "padding": null,
            "grid_auto_rows": null,
            "grid_gap": null,
            "max_width": null,
            "order": null,
            "_view_module_version": "1.2.0",
            "grid_template_areas": null,
            "object_position": null,
            "object_fit": null,
            "grid_auto_columns": null,
            "margin": null,
            "display": null,
            "left": null
          }
        },
        "2babf017a79c44d2a81c09bfae4a694a": {
          "model_module": "@jupyter-widgets/output",
          "model_name": "OutputModel",
          "state": {
            "_view_name": "OutputView",
            "msg_id": "",
            "_dom_classes": [],
            "_model_name": "OutputModel",
            "outputs": [
              {
                "output_type": "stream",
                "metadata": {
                  "tags": []
                },
                "text": "Video available at https://youtube.com/watch?v=8-5RM0k3IKE\n",
                "stream": "stdout"
              },
              {
                "output_type": "display_data",
                "metadata": {
                  "tags": []
                },
                "text/html": "\n        <iframe\n            width=\"854\"\n            height=\"480\"\n            src=\"https://www.youtube.com/embed/8-5RM0k3IKE?fs=1&rel=0\"\n            frameborder=\"0\"\n            allowfullscreen\n        ></iframe>\n        ",
                "text/plain": "<IPython.lib.display.YouTubeVideo at 0x7f70dedc6a50>",
                "image/jpeg": "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\n"
              }
            ],
            "_view_module": "@jupyter-widgets/output",
            "_model_module_version": "1.0.0",
            "_view_count": null,
            "_view_module_version": "1.0.0",
            "layout": "IPY_MODEL_33da4ded9df74a889f1e54785c0b4fc9",
            "_model_module": "@jupyter-widgets/output"
          }
        },
        "30e7d07beee843979f949d20f068d52f": {
          "model_module": "@jupyter-widgets/output",
          "model_name": "OutputModel",
          "state": {
            "_view_name": "OutputView",
            "msg_id": "",
            "_dom_classes": [],
            "_model_name": "OutputModel",
            "outputs": [
              {
                "output_type": "stream",
                "metadata": {
                  "tags": []
                },
                "text": "Video available at https://www.bilibili.com/video/BV1uL411H7ZE\n",
                "stream": "stdout"
              },
              {
                "output_type": "display_data",
                "metadata": {
                  "tags": []
                },
                "text/html": "\n        <iframe\n            width=\"854\"\n            height=\"480\"\n            src=\"https://player.bilibili.com/player.html?bvid=BV1uL411H7ZE&page=1?fs=1\"\n            frameborder=\"0\"\n            allowfullscreen\n        ></iframe>\n        ",
                "text/plain": "<__main__.BiliVideo at 0x7f70ded69590>"
              }
            ],
            "_view_module": "@jupyter-widgets/output",
            "_model_module_version": "1.0.0",
            "_view_count": null,
            "_view_module_version": "1.0.0",
            "layout": "IPY_MODEL_d3f7840b08f34ad48c28d757dccbfc35",
            "_model_module": "@jupyter-widgets/output"
          }
        },
        "33da4ded9df74a889f1e54785c0b4fc9": {
          "model_module": "@jupyter-widgets/base",
          "model_name": "LayoutModel",
          "state": {
            "_view_name": "LayoutView",
            "grid_template_rows": null,
            "right": null,
            "justify_content": null,
            "_view_module": "@jupyter-widgets/base",
            "overflow": null,
            "_model_module_version": "1.2.0",
            "_view_count": null,
            "flex_flow": null,
            "width": null,
            "min_width": null,
            "border": null,
            "align_items": null,
            "bottom": null,
            "_model_module": "@jupyter-widgets/base",
            "top": null,
            "grid_column": null,
            "overflow_y": null,
            "overflow_x": null,
            "grid_auto_flow": null,
            "grid_area": null,
            "grid_template_columns": null,
            "flex": null,
            "_model_name": "LayoutModel",
            "justify_items": null,
            "grid_row": null,
            "max_height": null,
            "align_content": null,
            "visibility": null,
            "align_self": null,
            "height": null,
            "min_height": null,
            "padding": null,
            "grid_auto_rows": null,
            "grid_gap": null,
            "max_width": null,
            "order": null,
            "_view_module_version": "1.2.0",
            "grid_template_areas": null,
            "object_position": null,
            "object_fit": null,
            "grid_auto_columns": null,
            "margin": null,
            "display": null,
            "left": null
          }
        },
        "d3f7840b08f34ad48c28d757dccbfc35": {
          "model_module": "@jupyter-widgets/base",
          "model_name": "LayoutModel",
          "state": {
            "_view_name": "LayoutView",
            "grid_template_rows": null,
            "right": null,
            "justify_content": null,
            "_view_module": "@jupyter-widgets/base",
            "overflow": null,
            "_model_module_version": "1.2.0",
            "_view_count": null,
            "flex_flow": null,
            "width": null,
            "min_width": null,
            "border": null,
            "align_items": null,
            "bottom": null,
            "_model_module": "@jupyter-widgets/base",
            "top": null,
            "grid_column": null,
            "overflow_y": null,
            "overflow_x": null,
            "grid_auto_flow": null,
            "grid_area": null,
            "grid_template_columns": null,
            "flex": null,
            "_model_name": "LayoutModel",
            "justify_items": null,
            "grid_row": null,
            "max_height": null,
            "align_content": null,
            "visibility": null,
            "align_self": null,
            "height": null,
            "min_height": null,
            "padding": null,
            "grid_auto_rows": null,
            "grid_gap": null,
            "max_width": null,
            "order": null,
            "_view_module_version": "1.2.0",
            "grid_template_areas": null,
            "object_position": null,
            "object_fit": null,
            "grid_auto_columns": null,
            "margin": null,
            "display": null,
            "left": null
          }
        },
        "80f11eba98c44c86b869dc92f2261015": {
          "model_module": "@jupyter-widgets/controls",
          "model_name": "VBoxModel",
          "state": {
            "_view_name": "VBoxView",
            "_dom_classes": [
              "widget-interact"
            ],
            "_model_name": "VBoxModel",
            "_view_module": "@jupyter-widgets/controls",
            "_model_module_version": "1.5.0",
            "_view_count": null,
            "_view_module_version": "1.5.0",
            "box_style": "",
            "layout": "IPY_MODEL_5418d27b9d494d89a6ab172423f486d4",
            "_model_module": "@jupyter-widgets/controls",
            "children": [
              "IPY_MODEL_84c216329ff5445faa37fc836ac4f058",
              "IPY_MODEL_6d05c528c4a94a98a01a17ad4c2f24fb"
            ]
          }
        },
        "5418d27b9d494d89a6ab172423f486d4": {
          "model_module": "@jupyter-widgets/base",
          "model_name": "LayoutModel",
          "state": {
            "_view_name": "LayoutView",
            "grid_template_rows": null,
            "right": null,
            "justify_content": null,
            "_view_module": "@jupyter-widgets/base",
            "overflow": null,
            "_model_module_version": "1.2.0",
            "_view_count": null,
            "flex_flow": null,
            "width": null,
            "min_width": null,
            "border": null,
            "align_items": null,
            "bottom": null,
            "_model_module": "@jupyter-widgets/base",
            "top": null,
            "grid_column": null,
            "overflow_y": null,
            "overflow_x": null,
            "grid_auto_flow": null,
            "grid_area": null,
            "grid_template_columns": null,
            "flex": null,
            "_model_name": "LayoutModel",
            "justify_items": null,
            "grid_row": null,
            "max_height": null,
            "align_content": null,
            "visibility": null,
            "align_self": null,
            "height": null,
            "min_height": null,
            "padding": null,
            "grid_auto_rows": null,
            "grid_gap": null,
            "max_width": null,
            "order": null,
            "_view_module_version": "1.2.0",
            "grid_template_areas": null,
            "object_position": null,
            "object_fit": null,
            "grid_auto_columns": null,
            "margin": null,
            "display": null,
            "left": null
          }
        },
        "84c216329ff5445faa37fc836ac4f058": {
          "model_module": "@jupyter-widgets/controls",
          "model_name": "FloatSliderModel",
          "state": {
            "_view_name": "FloatSliderView",
            "style": "IPY_MODEL_d4548578e955499986431a8e6361381f",
            "_dom_classes": [],
            "description": "p(s = left)",
            "step": 0.01,
            "_model_name": "FloatSliderModel",
            "orientation": "horizontal",
            "max": 1,
            "_view_module": "@jupyter-widgets/controls",
            "_model_module_version": "1.5.0",
            "value": 0.5,
            "_view_count": null,
            "disabled": false,
            "_view_module_version": "1.5.0",
            "min": 0,
            "continuous_update": true,
            "readout_format": ".2f",
            "description_tooltip": null,
            "readout": true,
            "_model_module": "@jupyter-widgets/controls",
            "layout": "IPY_MODEL_5546ccfebdf24b409194a7d9bd579cc0"
          }
        },
        "6d05c528c4a94a98a01a17ad4c2f24fb": {
          "model_module": "@jupyter-widgets/output",
          "model_name": "OutputModel",
          "state": {
            "_view_name": "OutputView",
            "msg_id": "",
            "_dom_classes": [],
            "_model_name": "OutputModel",
            "outputs": [
              {
                "output_type": "display_data",
                "metadata": {
                  "tags": [],
                  "image/png": {
                    "width": 674,
                    "height": 277
                  },
                  "needs_background": "light"
                },
                "image/png": "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\n",
                "text/plain": "<Figure size 1224x216 with 3 Axes>"
              }
            ],
            "_view_module": "@jupyter-widgets/output",
            "_model_module_version": "1.0.0",
            "_view_count": null,
            "_view_module_version": "1.0.0",
            "layout": "IPY_MODEL_1cc76ab52ab347c1b2c93be8e3584aa0",
            "_model_module": "@jupyter-widgets/output"
          }
        },
        "d4548578e955499986431a8e6361381f": {
          "model_module": "@jupyter-widgets/controls",
          "model_name": "SliderStyleModel",
          "state": {
            "_view_name": "StyleView",
            "handle_color": null,
            "_model_name": "SliderStyleModel",
            "description_width": "",
            "_view_module": "@jupyter-widgets/base",
            "_model_module_version": "1.5.0",
            "_view_count": null,
            "_view_module_version": "1.2.0",
            "_model_module": "@jupyter-widgets/controls"
          }
        },
        "5546ccfebdf24b409194a7d9bd579cc0": {
          "model_module": "@jupyter-widgets/base",
          "model_name": "LayoutModel",
          "state": {
            "_view_name": "LayoutView",
            "grid_template_rows": null,
            "right": null,
            "justify_content": null,
            "_view_module": "@jupyter-widgets/base",
            "overflow": null,
            "_model_module_version": "1.2.0",
            "_view_count": null,
            "flex_flow": null,
            "width": null,
            "min_width": null,
            "border": null,
            "align_items": null,
            "bottom": null,
            "_model_module": "@jupyter-widgets/base",
            "top": null,
            "grid_column": null,
            "overflow_y": null,
            "overflow_x": null,
            "grid_auto_flow": null,
            "grid_area": null,
            "grid_template_columns": null,
            "flex": null,
            "_model_name": "LayoutModel",
            "justify_items": null,
            "grid_row": null,
            "max_height": null,
            "align_content": null,
            "visibility": null,
            "align_self": null,
            "height": null,
            "min_height": null,
            "padding": null,
            "grid_auto_rows": null,
            "grid_gap": null,
            "max_width": null,
            "order": null,
            "_view_module_version": "1.2.0",
            "grid_template_areas": null,
            "object_position": null,
            "object_fit": null,
            "grid_auto_columns": null,
            "margin": null,
            "display": null,
            "left": null
          }
        },
        "1cc76ab52ab347c1b2c93be8e3584aa0": {
          "model_module": "@jupyter-widgets/base",
          "model_name": "LayoutModel",
          "state": {
            "_view_name": "LayoutView",
            "grid_template_rows": null,
            "right": null,
            "justify_content": null,
            "_view_module": "@jupyter-widgets/base",
            "overflow": null,
            "_model_module_version": "1.2.0",
            "_view_count": null,
            "flex_flow": null,
            "width": null,
            "min_width": null,
            "border": null,
            "align_items": null,
            "bottom": null,
            "_model_module": "@jupyter-widgets/base",
            "top": null,
            "grid_column": null,
            "overflow_y": null,
            "overflow_x": null,
            "grid_auto_flow": null,
            "grid_area": null,
            "grid_template_columns": null,
            "flex": null,
            "_model_name": "LayoutModel",
            "justify_items": null,
            "grid_row": null,
            "max_height": null,
            "align_content": null,
            "visibility": null,
            "align_self": null,
            "height": null,
            "min_height": null,
            "padding": null,
            "grid_auto_rows": null,
            "grid_gap": null,
            "max_width": null,
            "order": null,
            "_view_module_version": "1.2.0",
            "grid_template_areas": null,
            "object_position": null,
            "object_fit": null,
            "grid_auto_columns": null,
            "margin": null,
            "display": null,
            "left": null
          }
        },
        "e2158c86622e4b2880b101e4f323a8de": {
          "model_module": "@jupyter-widgets/controls",
          "model_name": "TabModel",
          "state": {
            "_view_name": "TabView",
            "_dom_classes": [],
            "_titles": {
              "0": "Youtube",
              "1": "Bilibili"
            },
            "_model_name": "TabModel",
            "_view_module": "@jupyter-widgets/controls",
            "selected_index": 0,
            "_model_module_version": "1.5.0",
            "_view_count": null,
            "_view_module_version": "1.5.0",
            "box_style": "",
            "layout": "IPY_MODEL_a7b58b46e73d41c3b3d245f643f34362",
            "_model_module": "@jupyter-widgets/controls",
            "children": [
              "IPY_MODEL_dc9e77287b3149789ce49d4105114bfb",
              "IPY_MODEL_ea1e81f0133f4d76adcfba576971bca9"
            ]
          }
        },
        "a7b58b46e73d41c3b3d245f643f34362": {
          "model_module": "@jupyter-widgets/base",
          "model_name": "LayoutModel",
          "state": {
            "_view_name": "LayoutView",
            "grid_template_rows": null,
            "right": null,
            "justify_content": null,
            "_view_module": "@jupyter-widgets/base",
            "overflow": null,
            "_model_module_version": "1.2.0",
            "_view_count": null,
            "flex_flow": null,
            "width": null,
            "min_width": null,
            "border": null,
            "align_items": null,
            "bottom": null,
            "_model_module": "@jupyter-widgets/base",
            "top": null,
            "grid_column": null,
            "overflow_y": null,
            "overflow_x": null,
            "grid_auto_flow": null,
            "grid_area": null,
            "grid_template_columns": null,
            "flex": null,
            "_model_name": "LayoutModel",
            "justify_items": null,
            "grid_row": null,
            "max_height": null,
            "align_content": null,
            "visibility": null,
            "align_self": null,
            "height": null,
            "min_height": null,
            "padding": null,
            "grid_auto_rows": null,
            "grid_gap": null,
            "max_width": null,
            "order": null,
            "_view_module_version": "1.2.0",
            "grid_template_areas": null,
            "object_position": null,
            "object_fit": null,
            "grid_auto_columns": null,
            "margin": null,
            "display": null,
            "left": null
          }
        },
        "dc9e77287b3149789ce49d4105114bfb": {
          "model_module": "@jupyter-widgets/output",
          "model_name": "OutputModel",
          "state": {
            "_view_name": "OutputView",
            "msg_id": "",
            "_dom_classes": [],
            "_model_name": "OutputModel",
            "outputs": [
              {
                "output_type": "stream",
                "metadata": {
                  "tags": []
                },
                "text": "Video available at https://youtube.com/watch?v=GHQbmsEyQjE\n",
                "stream": "stdout"
              },
              {
                "output_type": "display_data",
                "metadata": {
                  "tags": []
                },
                "text/html": "\n        <iframe\n            width=\"854\"\n            height=\"480\"\n            src=\"https://www.youtube.com/embed/GHQbmsEyQjE?fs=1&rel=0\"\n            frameborder=\"0\"\n            allowfullscreen\n        ></iframe>\n        ",
                "text/plain": "<IPython.lib.display.YouTubeVideo at 0x7f70de39b310>",
                "image/jpeg": "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\n"
              }
            ],
            "_view_module": "@jupyter-widgets/output",
            "_model_module_version": "1.0.0",
            "_view_count": null,
            "_view_module_version": "1.0.0",
            "layout": "IPY_MODEL_902d883b0f7c486e9d9e161cc1934baa",
            "_model_module": "@jupyter-widgets/output"
          }
        },
        "ea1e81f0133f4d76adcfba576971bca9": {
          "model_module": "@jupyter-widgets/output",
          "model_name": "OutputModel",
          "state": {
            "_view_name": "OutputView",
            "msg_id": "",
            "_dom_classes": [],
            "_model_name": "OutputModel",
            "outputs": [
              {
                "output_type": "stream",
                "metadata": {
                  "tags": []
                },
                "text": "Video available at https://www.bilibili.com/video/BV1po4y1D7Fu\n",
                "stream": "stdout"
              },
              {
                "output_type": "display_data",
                "metadata": {
                  "tags": []
                },
                "text/html": "\n        <iframe\n            width=\"854\"\n            height=\"480\"\n            src=\"https://player.bilibili.com/player.html?bvid=BV1po4y1D7Fu&page=1?fs=1\"\n            frameborder=\"0\"\n            allowfullscreen\n        ></iframe>\n        ",
                "text/plain": "<__main__.BiliVideo at 0x7f70de39cfd0>"
              }
            ],
            "_view_module": "@jupyter-widgets/output",
            "_model_module_version": "1.0.0",
            "_view_count": null,
            "_view_module_version": "1.0.0",
            "layout": "IPY_MODEL_df01da220ee7403db028f1f0130b33f8",
            "_model_module": "@jupyter-widgets/output"
          }
        },
        "902d883b0f7c486e9d9e161cc1934baa": {
          "model_module": "@jupyter-widgets/base",
          "model_name": "LayoutModel",
          "state": {
            "_view_name": "LayoutView",
            "grid_template_rows": null,
            "right": null,
            "justify_content": null,
            "_view_module": "@jupyter-widgets/base",
            "overflow": null,
            "_model_module_version": "1.2.0",
            "_view_count": null,
            "flex_flow": null,
            "width": null,
            "min_width": null,
            "border": null,
            "align_items": null,
            "bottom": null,
            "_model_module": "@jupyter-widgets/base",
            "top": null,
            "grid_column": null,
            "overflow_y": null,
            "overflow_x": null,
            "grid_auto_flow": null,
            "grid_area": null,
            "grid_template_columns": null,
            "flex": null,
            "_model_name": "LayoutModel",
            "justify_items": null,
            "grid_row": null,
            "max_height": null,
            "align_content": null,
            "visibility": null,
            "align_self": null,
            "height": null,
            "min_height": null,
            "padding": null,
            "grid_auto_rows": null,
            "grid_gap": null,
            "max_width": null,
            "order": null,
            "_view_module_version": "1.2.0",
            "grid_template_areas": null,
            "object_position": null,
            "object_fit": null,
            "grid_auto_columns": null,
            "margin": null,
            "display": null,
            "left": null
          }
        },
        "df01da220ee7403db028f1f0130b33f8": {
          "model_module": "@jupyter-widgets/base",
          "model_name": "LayoutModel",
          "state": {
            "_view_name": "LayoutView",
            "grid_template_rows": null,
            "right": null,
            "justify_content": null,
            "_view_module": "@jupyter-widgets/base",
            "overflow": null,
            "_model_module_version": "1.2.0",
            "_view_count": null,
            "flex_flow": null,
            "width": null,
            "min_width": null,
            "border": null,
            "align_items": null,
            "bottom": null,
            "_model_module": "@jupyter-widgets/base",
            "top": null,
            "grid_column": null,
            "overflow_y": null,
            "overflow_x": null,
            "grid_auto_flow": null,
            "grid_area": null,
            "grid_template_columns": null,
            "flex": null,
            "_model_name": "LayoutModel",
            "justify_items": null,
            "grid_row": null,
            "max_height": null,
            "align_content": null,
            "visibility": null,
            "align_self": null,
            "height": null,
            "min_height": null,
            "padding": null,
            "grid_auto_rows": null,
            "grid_gap": null,
            "max_width": null,
            "order": null,
            "_view_module_version": "1.2.0",
            "grid_template_areas": null,
            "object_position": null,
            "object_fit": null,
            "grid_auto_columns": null,
            "margin": null,
            "display": null,
            "left": null
          }
        },
        "7f20004a56f44bc483b8ab8f81a92404": {
          "model_module": "@jupyter-widgets/controls",
          "model_name": "TabModel",
          "state": {
            "_view_name": "TabView",
            "_dom_classes": [],
            "_titles": {
              "0": "Youtube",
              "1": "Bilibili"
            },
            "_model_name": "TabModel",
            "_view_module": "@jupyter-widgets/controls",
            "selected_index": 0,
            "_model_module_version": "1.5.0",
            "_view_count": null,
            "_view_module_version": "1.5.0",
            "box_style": "",
            "layout": "IPY_MODEL_c66d8a15efa340e1b56af1796252341d",
            "_model_module": "@jupyter-widgets/controls",
            "children": [
              "IPY_MODEL_0eacecb9acc84f498fafcfcc0108aeb0",
              "IPY_MODEL_65d25ca12e2b4af29b421ffda1661f2b"
            ]
          }
        },
        "c66d8a15efa340e1b56af1796252341d": {
          "model_module": "@jupyter-widgets/base",
          "model_name": "LayoutModel",
          "state": {
            "_view_name": "LayoutView",
            "grid_template_rows": null,
            "right": null,
            "justify_content": null,
            "_view_module": "@jupyter-widgets/base",
            "overflow": null,
            "_model_module_version": "1.2.0",
            "_view_count": null,
            "flex_flow": null,
            "width": null,
            "min_width": null,
            "border": null,
            "align_items": null,
            "bottom": null,
            "_model_module": "@jupyter-widgets/base",
            "top": null,
            "grid_column": null,
            "overflow_y": null,
            "overflow_x": null,
            "grid_auto_flow": null,
            "grid_area": null,
            "grid_template_columns": null,
            "flex": null,
            "_model_name": "LayoutModel",
            "justify_items": null,
            "grid_row": null,
            "max_height": null,
            "align_content": null,
            "visibility": null,
            "align_self": null,
            "height": null,
            "min_height": null,
            "padding": null,
            "grid_auto_rows": null,
            "grid_gap": null,
            "max_width": null,
            "order": null,
            "_view_module_version": "1.2.0",
            "grid_template_areas": null,
            "object_position": null,
            "object_fit": null,
            "grid_auto_columns": null,
            "margin": null,
            "display": null,
            "left": null
          }
        },
        "0eacecb9acc84f498fafcfcc0108aeb0": {
          "model_module": "@jupyter-widgets/output",
          "model_name": "OutputModel",
          "state": {
            "_view_name": "OutputView",
            "msg_id": "",
            "_dom_classes": [],
            "_model_name": "OutputModel",
            "outputs": [
              {
                "output_type": "stream",
                "metadata": {
                  "tags": []
                },
                "text": "Video available at https://youtube.com/watch?v=Yv8MDjdm1l4\n",
                "stream": "stdout"
              },
              {
                "output_type": "display_data",
                "metadata": {
                  "tags": []
                },
                "text/html": "\n        <iframe\n            width=\"854\"\n            height=\"480\"\n            src=\"https://www.youtube.com/embed/Yv8MDjdm1l4?fs=1&rel=0\"\n            frameborder=\"0\"\n            allowfullscreen\n        ></iframe>\n        ",
                "text/plain": "<IPython.lib.display.YouTubeVideo at 0x7f70de192a10>",
                "image/jpeg": "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\n"
              }
            ],
            "_view_module": "@jupyter-widgets/output",
            "_model_module_version": "1.0.0",
            "_view_count": null,
            "_view_module_version": "1.0.0",
            "layout": "IPY_MODEL_1799936478bb431abaa1f119e7450d7f",
            "_model_module": "@jupyter-widgets/output"
          }
        },
        "65d25ca12e2b4af29b421ffda1661f2b": {
          "model_module": "@jupyter-widgets/output",
          "model_name": "OutputModel",
          "state": {
            "_view_name": "OutputView",
            "msg_id": "",
            "_dom_classes": [],
            "_model_name": "OutputModel",
            "outputs": [
              {
                "output_type": "stream",
                "metadata": {
                  "tags": []
                },
                "text": "Video available at https://www.bilibili.com/video/BV1EK4y1u7AV\n",
                "stream": "stdout"
              },
              {
                "output_type": "display_data",
                "metadata": {
                  "tags": []
                },
                "text/html": "\n        <iframe\n            width=\"854\"\n            height=\"480\"\n            src=\"https://player.bilibili.com/player.html?bvid=BV1EK4y1u7AV&page=1?fs=1\"\n            frameborder=\"0\"\n            allowfullscreen\n        ></iframe>\n        ",
                "text/plain": "<__main__.BiliVideo at 0x7f70de0b7c10>"
              }
            ],
            "_view_module": "@jupyter-widgets/output",
            "_model_module_version": "1.0.0",
            "_view_count": null,
            "_view_module_version": "1.0.0",
            "layout": "IPY_MODEL_743df9e092fd423ea9bdbd22f6331b72",
            "_model_module": "@jupyter-widgets/output"
          }
        },
        "1799936478bb431abaa1f119e7450d7f": {
          "model_module": "@jupyter-widgets/base",
          "model_name": "LayoutModel",
          "state": {
            "_view_name": "LayoutView",
            "grid_template_rows": null,
            "right": null,
            "justify_content": null,
            "_view_module": "@jupyter-widgets/base",
            "overflow": null,
            "_model_module_version": "1.2.0",
            "_view_count": null,
            "flex_flow": null,
            "width": null,
            "min_width": null,
            "border": null,
            "align_items": null,
            "bottom": null,
            "_model_module": "@jupyter-widgets/base",
            "top": null,
            "grid_column": null,
            "overflow_y": null,
            "overflow_x": null,
            "grid_auto_flow": null,
            "grid_area": null,
            "grid_template_columns": null,
            "flex": null,
            "_model_name": "LayoutModel",
            "justify_items": null,
            "grid_row": null,
            "max_height": null,
            "align_content": null,
            "visibility": null,
            "align_self": null,
            "height": null,
            "min_height": null,
            "padding": null,
            "grid_auto_rows": null,
            "grid_gap": null,
            "max_width": null,
            "order": null,
            "_view_module_version": "1.2.0",
            "grid_template_areas": null,
            "object_position": null,
            "object_fit": null,
            "grid_auto_columns": null,
            "margin": null,
            "display": null,
            "left": null
          }
        },
        "743df9e092fd423ea9bdbd22f6331b72": {
          "model_module": "@jupyter-widgets/base",
          "model_name": "LayoutModel",
          "state": {
            "_view_name": "LayoutView",
            "grid_template_rows": null,
            "right": null,
            "justify_content": null,
            "_view_module": "@jupyter-widgets/base",
            "overflow": null,
            "_model_module_version": "1.2.0",
            "_view_count": null,
            "flex_flow": null,
            "width": null,
            "min_width": null,
            "border": null,
            "align_items": null,
            "bottom": null,
            "_model_module": "@jupyter-widgets/base",
            "top": null,
            "grid_column": null,
            "overflow_y": null,
            "overflow_x": null,
            "grid_auto_flow": null,
            "grid_area": null,
            "grid_template_columns": null,
            "flex": null,
            "_model_name": "LayoutModel",
            "justify_items": null,
            "grid_row": null,
            "max_height": null,
            "align_content": null,
            "visibility": null,
            "align_self": null,
            "height": null,
            "min_height": null,
            "padding": null,
            "grid_auto_rows": null,
            "grid_gap": null,
            "max_width": null,
            "order": null,
            "_view_module_version": "1.2.0",
            "grid_template_areas": null,
            "object_position": null,
            "object_fit": null,
            "grid_auto_columns": null,
            "margin": null,
            "display": null,
            "left": null
          }
        },
        "f9b135cf562640d696e155b6fb697bc5": {
          "model_module": "@jupyter-widgets/controls",
          "model_name": "TabModel",
          "state": {
            "_view_name": "TabView",
            "_dom_classes": [],
            "_titles": {
              "0": "Youtube",
              "1": "Bilibili"
            },
            "_model_name": "TabModel",
            "_view_module": "@jupyter-widgets/controls",
            "selected_index": 0,
            "_model_module_version": "1.5.0",
            "_view_count": null,
            "_view_module_version": "1.5.0",
            "box_style": "",
            "layout": "IPY_MODEL_abd653e28b124959a003f0f282adc621",
            "_model_module": "@jupyter-widgets/controls",
            "children": [
              "IPY_MODEL_c9e8340617734c43a85a47f3109ea4bc",
              "IPY_MODEL_ddf662ee814546a78a753ecd1203fcd8"
            ]
          }
        },
        "abd653e28b124959a003f0f282adc621": {
          "model_module": "@jupyter-widgets/base",
          "model_name": "LayoutModel",
          "state": {
            "_view_name": "LayoutView",
            "grid_template_rows": null,
            "right": null,
            "justify_content": null,
            "_view_module": "@jupyter-widgets/base",
            "overflow": null,
            "_model_module_version": "1.2.0",
            "_view_count": null,
            "flex_flow": null,
            "width": null,
            "min_width": null,
            "border": null,
            "align_items": null,
            "bottom": null,
            "_model_module": "@jupyter-widgets/base",
            "top": null,
            "grid_column": null,
            "overflow_y": null,
            "overflow_x": null,
            "grid_auto_flow": null,
            "grid_area": null,
            "grid_template_columns": null,
            "flex": null,
            "_model_name": "LayoutModel",
            "justify_items": null,
            "grid_row": null,
            "max_height": null,
            "align_content": null,
            "visibility": null,
            "align_self": null,
            "height": null,
            "min_height": null,
            "padding": null,
            "grid_auto_rows": null,
            "grid_gap": null,
            "max_width": null,
            "order": null,
            "_view_module_version": "1.2.0",
            "grid_template_areas": null,
            "object_position": null,
            "object_fit": null,
            "grid_auto_columns": null,
            "margin": null,
            "display": null,
            "left": null
          }
        },
        "c9e8340617734c43a85a47f3109ea4bc": {
          "model_module": "@jupyter-widgets/output",
          "model_name": "OutputModel",
          "state": {
            "_view_name": "OutputView",
            "msg_id": "",
            "_dom_classes": [],
            "_model_name": "OutputModel",
            "outputs": [
              {
                "output_type": "stream",
                "metadata": {
                  "tags": []
                },
                "text": "Video available at https://youtube.com/watch?v=iprFMHch2_g\n",
                "stream": "stdout"
              },
              {
                "output_type": "display_data",
                "metadata": {
                  "tags": []
                },
                "text/html": "\n        <iframe\n            width=\"854\"\n            height=\"480\"\n            src=\"https://www.youtube.com/embed/iprFMHch2_g?fs=1&rel=0\"\n            frameborder=\"0\"\n            allowfullscreen\n        ></iframe>\n        ",
                "text/plain": "<IPython.lib.display.YouTubeVideo at 0x7f70de0ff390>",
                "image/jpeg": "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\n"
              }
            ],
            "_view_module": "@jupyter-widgets/output",
            "_model_module_version": "1.0.0",
            "_view_count": null,
            "_view_module_version": "1.0.0",
            "layout": "IPY_MODEL_00159539af8740c79e14807b1195e91d",
            "_model_module": "@jupyter-widgets/output"
          }
        },
        "ddf662ee814546a78a753ecd1203fcd8": {
          "model_module": "@jupyter-widgets/output",
          "model_name": "OutputModel",
          "state": {
            "_view_name": "OutputView",
            "msg_id": "",
            "_dom_classes": [],
            "_model_name": "OutputModel",
            "outputs": [
              {
                "output_type": "stream",
                "metadata": {
                  "tags": []
                },
                "text": "Video available at https://www.bilibili.com/video/BV1Zq4y1p7N6\n",
                "stream": "stdout"
              },
              {
                "output_type": "display_data",
                "metadata": {
                  "tags": []
                },
                "text/html": "\n        <iframe\n            width=\"854\"\n            height=\"480\"\n            src=\"https://player.bilibili.com/player.html?bvid=BV1Zq4y1p7N6&page=1?fs=1\"\n            frameborder=\"0\"\n            allowfullscreen\n        ></iframe>\n        ",
                "text/plain": "<__main__.BiliVideo at 0x7f70de4fb7d0>"
              }
            ],
            "_view_module": "@jupyter-widgets/output",
            "_model_module_version": "1.0.0",
            "_view_count": null,
            "_view_module_version": "1.0.0",
            "layout": "IPY_MODEL_62e7d906d0eb43538b559819549a8076",
            "_model_module": "@jupyter-widgets/output"
          }
        },
        "00159539af8740c79e14807b1195e91d": {
          "model_module": "@jupyter-widgets/base",
          "model_name": "LayoutModel",
          "state": {
            "_view_name": "LayoutView",
            "grid_template_rows": null,
            "right": null,
            "justify_content": null,
            "_view_module": "@jupyter-widgets/base",
            "overflow": null,
            "_model_module_version": "1.2.0",
            "_view_count": null,
            "flex_flow": null,
            "width": null,
            "min_width": null,
            "border": null,
            "align_items": null,
            "bottom": null,
            "_model_module": "@jupyter-widgets/base",
            "top": null,
            "grid_column": null,
            "overflow_y": null,
            "overflow_x": null,
            "grid_auto_flow": null,
            "grid_area": null,
            "grid_template_columns": null,
            "flex": null,
            "_model_name": "LayoutModel",
            "justify_items": null,
            "grid_row": null,
            "max_height": null,
            "align_content": null,
            "visibility": null,
            "align_self": null,
            "height": null,
            "min_height": null,
            "padding": null,
            "grid_auto_rows": null,
            "grid_gap": null,
            "max_width": null,
            "order": null,
            "_view_module_version": "1.2.0",
            "grid_template_areas": null,
            "object_position": null,
            "object_fit": null,
            "grid_auto_columns": null,
            "margin": null,
            "display": null,
            "left": null
          }
        },
        "62e7d906d0eb43538b559819549a8076": {
          "model_module": "@jupyter-widgets/base",
          "model_name": "LayoutModel",
          "state": {
            "_view_name": "LayoutView",
            "grid_template_rows": null,
            "right": null,
            "justify_content": null,
            "_view_module": "@jupyter-widgets/base",
            "overflow": null,
            "_model_module_version": "1.2.0",
            "_view_count": null,
            "flex_flow": null,
            "width": null,
            "min_width": null,
            "border": null,
            "align_items": null,
            "bottom": null,
            "_model_module": "@jupyter-widgets/base",
            "top": null,
            "grid_column": null,
            "overflow_y": null,
            "overflow_x": null,
            "grid_auto_flow": null,
            "grid_area": null,
            "grid_template_columns": null,
            "flex": null,
            "_model_name": "LayoutModel",
            "justify_items": null,
            "grid_row": null,
            "max_height": null,
            "align_content": null,
            "visibility": null,
            "align_self": null,
            "height": null,
            "min_height": null,
            "padding": null,
            "grid_auto_rows": null,
            "grid_gap": null,
            "max_width": null,
            "order": null,
            "_view_module_version": "1.2.0",
            "grid_template_areas": null,
            "object_position": null,
            "object_fit": null,
            "grid_auto_columns": null,
            "margin": null,
            "display": null,
            "left": null
          }
        },
        "db8bdd428a684ddfb206dab69effaa89": {
          "model_module": "@jupyter-widgets/controls",
          "model_name": "VBoxModel",
          "state": {
            "_view_name": "VBoxView",
            "_dom_classes": [
              "widget-interact"
            ],
            "_model_name": "VBoxModel",
            "_view_module": "@jupyter-widgets/controls",
            "_model_module_version": "1.5.0",
            "_view_count": null,
            "_view_module_version": "1.5.0",
            "box_style": "",
            "layout": "IPY_MODEL_a30bcf896f204f13afa46543b79d2af4",
            "_model_module": "@jupyter-widgets/controls",
            "children": [
              "IPY_MODEL_4a9658951c834e8b8ed5f3c66506d8b3",
              "IPY_MODEL_7c8241d6099d4e9c960f33eded65382c",
              "IPY_MODEL_278cad2fc7914957b0d786f5cdafb83b",
              "IPY_MODEL_472df50afa7c42d1b66426c18cb44b69"
            ]
          }
        },
        "a30bcf896f204f13afa46543b79d2af4": {
          "model_module": "@jupyter-widgets/base",
          "model_name": "LayoutModel",
          "state": {
            "_view_name": "LayoutView",
            "grid_template_rows": null,
            "right": null,
            "justify_content": null,
            "_view_module": "@jupyter-widgets/base",
            "overflow": null,
            "_model_module_version": "1.2.0",
            "_view_count": null,
            "flex_flow": null,
            "width": null,
            "min_width": null,
            "border": null,
            "align_items": null,
            "bottom": null,
            "_model_module": "@jupyter-widgets/base",
            "top": null,
            "grid_column": null,
            "overflow_y": null,
            "overflow_x": null,
            "grid_auto_flow": null,
            "grid_area": null,
            "grid_template_columns": null,
            "flex": null,
            "_model_name": "LayoutModel",
            "justify_items": null,
            "grid_row": null,
            "max_height": null,
            "align_content": null,
            "visibility": null,
            "align_self": null,
            "height": null,
            "min_height": null,
            "padding": null,
            "grid_auto_rows": null,
            "grid_gap": null,
            "max_width": null,
            "order": null,
            "_view_module_version": "1.2.0",
            "grid_template_areas": null,
            "object_position": null,
            "object_fit": null,
            "grid_auto_columns": null,
            "margin": null,
            "display": null,
            "left": null
          }
        },
        "4a9658951c834e8b8ed5f3c66506d8b3": {
          "model_module": "@jupyter-widgets/controls",
          "model_name": "FloatSliderModel",
          "state": {
            "_view_name": "FloatSliderView",
            "style": "IPY_MODEL_8044f29d2008475899da255f8b958bbe",
            "_dom_classes": [],
            "description": "p(color=golden)",
            "step": 0.01,
            "_model_name": "FloatSliderModel",
            "orientation": "horizontal",
            "max": 0.99,
            "_view_module": "@jupyter-widgets/controls",
            "_model_module_version": "1.5.0",
            "value": 0.69,
            "_view_count": null,
            "disabled": false,
            "_view_module_version": "1.5.0",
            "min": 0.01,
            "continuous_update": true,
            "readout_format": ".2f",
            "description_tooltip": null,
            "readout": true,
            "_model_module": "@jupyter-widgets/controls",
            "layout": "IPY_MODEL_2bb402cd35914525bd9956a36fa22f34"
          }
        },
        "7c8241d6099d4e9c960f33eded65382c": {
          "model_module": "@jupyter-widgets/controls",
          "model_name": "FloatSliderModel",
          "state": {
            "_view_name": "FloatSliderView",
            "style": "IPY_MODEL_712fac4abae2498da647beda0144dbbd",
            "_dom_classes": [],
            "description": "p(size=large)",
            "step": 0.01,
            "_model_name": "FloatSliderModel",
            "orientation": "horizontal",
            "max": 0.99,
            "_view_module": "@jupyter-widgets/controls",
            "_model_module_version": "1.5.0",
            "value": 0.5,
            "_view_count": null,
            "disabled": false,
            "_view_module_version": "1.5.0",
            "min": 0.01,
            "continuous_update": true,
            "readout_format": ".2f",
            "description_tooltip": null,
            "readout": true,
            "_model_module": "@jupyter-widgets/controls",
            "layout": "IPY_MODEL_2180025823044a41acefacf63137473d"
          }
        },
        "278cad2fc7914957b0d786f5cdafb83b": {
          "model_module": "@jupyter-widgets/controls",
          "model_name": "FloatSliderModel",
          "state": {
            "_view_name": "FloatSliderView",
            "style": "IPY_MODEL_b8383f60e3854ec6a6d0571dcf0d54b3",
            "_dom_classes": [],
            "description": "ρ",
            "step": 0.01,
            "_model_name": "FloatSliderModel",
            "orientation": "horizontal",
            "max": 0.6602800625998363,
            "_view_module": "@jupyter-widgets/controls",
            "_model_module_version": "1.5.0",
            "value": 0.4264357804719847,
            "_view_count": null,
            "disabled": false,
            "_view_module_version": "1.5.0",
            "min": -0.6602800625998363,
            "continuous_update": true,
            "readout_format": ".2f",
            "description_tooltip": null,
            "readout": true,
            "_model_module": "@jupyter-widgets/controls",
            "layout": "IPY_MODEL_2246ec1ed0d94ce0a6197cdbb44b2dc3"
          }
        },
        "472df50afa7c42d1b66426c18cb44b69": {
          "model_module": "@jupyter-widgets/output",
          "model_name": "OutputModel",
          "state": {
            "_view_name": "OutputView",
            "msg_id": "",
            "_dom_classes": [],
            "_model_name": "OutputModel",
            "outputs": [
              {
                "output_type": "display_data",
                "metadata": {
                  "tags": [],
                  "image/png": {
                    "width": 384,
                    "height": 361
                  },
                  "needs_background": "light"
                },
                "image/png": "iVBORw0KGgoAAAANSUhEUgAAAwAAAALSCAYAAABqALYeAAAABHNCSVQICAgIfAhkiAAAAAlwSFlzAAAWJQAAFiUBSVIk8AAAADh0RVh0U29mdHdhcmUAbWF0cGxvdGxpYiB2ZXJzaW9uMy4yLjIsIGh0dHA6Ly9tYXRwbG90bGliLm9yZy+WH4yJAAAgAElEQVR4nOzdebxWVd3//9dHERxQFBRNUXBWtMEp0zKLHNBMMxUkKzCsW/Auq/suq7vBtH4OZQ8zhyJNMsshxwbHNE1LvomoJDiBE0IoyiQowoH1+2Pvc7gOnnOdwznnOufAej0fj+tx7WHtvRbFkv2+9t5rRUoJSZIkSXlYp6sbIEmSJKnzGAAkSZKkjBgAJEmSpIwYACRJkqSMGAAkSZKkjBgAJEmSpIwYACRJkqSMGAAkSZKkjBgAJEmSpIwYACRJkqSMGAAkSZKkjBgAJEmSpIwYACRJkqSMGAAkSZKkjBgAJEmSpIwYACRJkqSMGAAkSZKkjBgAJEmSpIwYACRJkqSMGAAkSZKkjBgAJEmSpIwYACRJkqSMGAAkSZKkjBgAJEmSpIwYACRJkqSMGAAkSZKkjBgAJEmSpIwYACRJkqSMGAAkSZKkjBgAJEmSpIwYACRJaqUoDI+IP0fEyxHxdkT8JyLuiYhTIqJHjepdNyJOiIhrI2JaRCyKiIUR8WxE3B4R34iInVtxnoMiYnx53KLy80xEjIuI/WvRdkndT6SUuroNkiR1exGxGXADMKRKsUnAsSmllzqw3r2AK4C9Wij6s5TSV5o5x0bA5cCJVY5PwEXA11JKK9rSVklrhpr8UiFJ0tokInoCtwIHlZtmAOOAacAA4PPA7sDewO0RcUBKaWEH1PtB4DZgk3LTfcCdwEvAcmArYB/gyCrnWBe4ETi83LQYuBL4f8AKimAxGtgMOB2I8lvSWso7AJIktSAiTgcuLFcnAYeklOZV7F8fuIWVF9k/SSl9vZ11bglMAfoBrwEnpJTua6bsukD/lNJ/mtg3Bri0XH0Z+GhKadoqZd4F3AvsVm46OKX09/a0X1L3ZQCQJKmK8rn+WcAWFI/JvDulNKWJcv2B54CNgLeBbVJKr7ej3muB4UAdcEBKaWIbz/MkKy/sP5FS+nMz5d5PcVcA4MGU0kFNlZO05vMlYEmSqhtCcfEPcE9TF/8AKaVXgWvL1V7AMW2tMCIGAieUq79tx8X/u1h58T8X+EtzZVNK/wKeKlc/GBHbtaVOSd2fAUCSpOoOq1i+o4WylfuHtqPOkaz8N/rqdpxnQMXys6nl2/7PlN8BHNGOeiV1YwYASZKq27Ni+ZEWylb+Ur9ns6Va9uHyOwEPR0SfiPhORDweEW+Un6kRcUlE7FblPNGONry7HcdK6sYMAJIkVbdLxfILLZR9mWJ0HoCdI6KtF+D7lt8LgJ2AfwNnA+8Bepef3YGxwBMR8c1mzjO7Yrk17an8s+66uo2WtGYwAEiSVN2mFcuvVSuYUqoD6of/7EHxQvBqKUcU6lOurkMxDOi2wLPAtyleDB5LMRwowLrAORHxtSba8xJFKAHoS/XhQvdl5fsC0PjPLWkt4ihAkiRVERFLgfXK1fXKi/xq5WcCW5erWzc1NGcLx28FrHrMrcCwlNLSVcqeClxWri4DdkwpzVilzPeAH5SrM4CPpJSeW6XMlhTDgA6u2PxMSsm7ANJayDsAkiR1L6v+2/w6MHLVi3+AlNIvKCb5giKkjGnifD+lmE8AijsJj0XEzyLipIgYERHnAVMpLv4rg4GzAUtrKWcCliSpukUUs+QCrF+uV7NBxfIbbahv1WOuSyktqFJ+HHBcufyxVXemlBZFxFDgZop3CzYGvtzEee4AxrNyKNN5TZSRtBbwDoAkSdXNr1jevFrBctKwTcrVZcDiNtS3iGLyr3otjTxUuX/HpgqklF4GPgB8BvgzxcvBSynuLtxbbj8S2LDisNlIWit5B0CSpOqeAbYvlwdRfSSgARQv5QJMa8W4+++QUkoR8SzFKD9QjARUTeX+Ps0VSiktB35XfpoUEZXvADzcQr2S1lDeAZAkqbonKpb3aaHsvhXLTzRbqmWTK5abvahvYn9LYaElB1csP9DOc0nqpgwAkiRVd2fF8uEtlK2c/belWYOrub1iuaXQUbn/mWZLtSAi9gD2K1efTik92NZzSereDACSJFX3N2BOuXxIeaH8DhHRHzixXF1CMXRnW90KvFkuD4+IancBvlix3KbQERHrAhdVbPpJW84jac1gAJAkqYpy3P8flasBXBURm1WWKSfv+g0rJ/66OKX0elPni4jxEZHKz5nN1DkfuKBc7Qf8JiJ6NnGu/2LlCECLWTknwKrlPlRe5De1bxPgamBIuelvwBVNlZW0dvAlYEmSWnYZxYX2QcDewOMR8UtgGsWLv6NZ+dLuVOCHHVDnucARFO8VHAM8ERG/phirfzPgkzR+5Oi/Ukpz3nGWwi+AvhHxF2ASxR2NTYD3Ucws3L8s9wRwYlteXpa05nAmYEmSWqH81f8GVv5S3pRJwLEppZeqnGc8MLJc/UFK6cwqZbcArgc+UqXOt4AxKaXfVDnPE0CTjy5VuBE4NaX0WgvlJK3hvAMgSVIrpJTmRcQhwDDgs8BeFPMCzKOYafda4MrykaGOqnNORAwBTgA+TXH3YUuKi/7nKJ75vzilNKuFU42lGOf/Q8B2FL/4LwFmAfcBv0sp/aOj2i2pe/MOgCRJkpQRXwKWJEmSMmIAkCRJkjJiAJAkSZIyYgCQJEmSMmIAkCRJkjLiMKCSpFbZ+6x7HTZOWZj0vSHR1W2Qask7AJIkSVJGDACSJElSRgwAkiRJUkYMAJIkSVJGDACSJElSRgwAkiRJUkYMAJIkSVJGDACSJElSRgwAkiRJUkYMAJIkSVJGDACSJElSRgwAkiRJUkYMAJIkSVJGDACSJElSRgwAkiRJUkYMAJIkSVJGDACSJElSRgwAkiRJUkYMAJIkSVJGDACSJElSRgwAkiRJUkYMAJIkSVJGDACSJElSRgwAkiRJUkYMAJIkSVJGDACSJElSRnp0dQMkFSIigGHAZ4H3AVsAc4GpwDXA+JRSXQfUsyHwYWC/8rMDsDnQF3gbmA1MAm4AbkopLW/hfD2BdwP7APuW3+8G1iuLnJxSGt/edkuSpI5hAJC6gYjYjOKCe8gqu7YqP0OAMRFxbErppXZW92Hg9mb2rQfsVH6GAZMjYnhK6akq53sI2LudbZIkSZ3EACB1sfIX9FuBg8pNM4BxwDRgAPB5YHeKi+zbI+KAlNLCDqh6KvAv4CngZWAJsGlZz4kUdwTeA9wfEe9NKc1u5jzrrrI+m+JOwsAOaKMkSepgBgCp641h5cX/JOCQlNK8+p0RcTFwC3A4MBj4LvD1dtT3MLB1Suk/zey/IiK+C9wG7A/0B75ftrMp91IEmEeAiSmlWRFxZnmMJEnqZgwAUheKiB7A/5WrCfhc5cU/QEppSUR8DngO2Aj4UkScm1J6vS11tua4lNLciBhDEUgAPl6l7Nfa0g5JktQ1HAVI6lpDKF72BbgnpTSlqUIppVeBa8vVXsAxndC2qRXLW3VCfZIkqRMYAKSudVjF8h0tlK3cP7QGbVnVjhXLzT3/L0mS1jAGAKlr7Vmx/EgLZSc2c1yHi4iNgIsqNt1Uy/okSVLn8R0AqWvtUrH8QgtlXwaWU4y6s3NEREoptafyiOgNHFK/CmxCMfLPCOBd5fbHgDPbU48kSeo+DABS19q0Yvm1agVTSnURsRDYjKLvbgQsamf9A4Cbm9k3F/gN8J2U0pvtrEeSJHUTPgIkda3eFctLWlH+rYrljTu4Lav6J3D/KnVKkqQ1nAFAylhK6amUUqSUguKuwpbAJ4A7gaMo5h+4vnwnQJIkrQUMAFLXqnyEZ/1WlN+gYvmNjmxISml5SunVlNKfU0pDgR+Wu44HruzIuiRJUtcxAEhda37F8ubVCpaThm1Sri4DFteqUaXvA8+UyydExOAa1ydJkjqBAUDqWs9ULA9qoewAihGAAKa1dwSglqSUVgB3V2w6uJb1SZKkzmEAkLrWExXL+7RQdt9mjqulyseMNm22lCRJWmMYAKSudWfF8uEtlK2c/belWYM7yk4Vy1WHKZUkSWsGA4DUtf4GzCmXD4mIPZoqFBH9gRPL1SXArbVuWEQMAI6s2PTPWtcpSZJqzwAgdaGUUh3wo3I1gKsiYrPKMhGxPsWEXPVDcV6cUnq9qfNFxPiISOXnzGbKnBcRA6u1KyJ2BP4MbFhuuj+lNKU1fyZJktS9OROw1PUuA44DDgL2Bh6PiF8C0yhe/B0N7F6WncrK4Tnb6r+Ar0fEBIpf9Z+mGI2oB7A18CGKX/57luVnA6c0d7KI2Ktsf6UPVyx/KiJ2WmX/FSml59v8J5AkSW1mAJC6WEppaUQcA9wADAG2pemL/EnAsSmlBR1QbQAHlJ9q7gNOSSlNr1LmvcD/Vdn/ifJT6a+AAUCSpC5gAJC6gZTSvIg4BBgGfBbYi2JegHnAFOBa4MrykaH2eh/FC8cHAu8GtgP6AMuBBcB04GHg+pTSPzqgPkmS1I1EjYcSlyStJfY+617/wVAWJn1vSHR1G6Ra8iVgSZIkKSMGAEmSJCkjBgBJkiQpIwYASZIkKSOOAqRu4c9PvOLLhcrCUXtu6cuFkqQu5R0ASZIkKSMGAEmSJCkjBgBJkiQpIwYASZIkKSMGAEmSJCkjBgBJkiQpIwYASZIkKSMGAEmSJCkjBgBJkiQpIwYASZIkKSMGAEmSJCkjBgBJkiQpIwYASZIkKSMGAEmSJCkjBgBJkiQpIwYASZIkKSMGAEmSJCkjBgBJkiQpIwYASZIkKSMGAEmSJCkjBgBJkiQpIwYASZIkKSMGAEmSJCkjBgBJkiQpIwYASZIkKSMGAEmSJCkjBgBJkiQpIwYASZIkKSMGAEmSJCkjBgBJkiQpIwYASZIkKSMGAEmSJCkjBgBJkiQpIwYASZIkKSMGAEmSJCkjBgBJkiQpIwYASZIkKSMGAEmSJCkjBgBJkiQpIwYASZIkKSMGAEmSJCkjBgBJkiQpIwYASZIkKSMGAEmSJCkjkVLq6jZIkiRJ6iTeAZAkSZIyYgCQJEmSMmIAUKtExO8i4ndd3Q5JkiS1T4+uboDWGLsNHjx476effvrTXd0QSc2LiK5ugqQW7LLLLnZUdSnvAEiSJEkZMQBIkiRJGTEASJIkSRkxAEiSJEkZMQBIkiRJGTEASJIkSRkxAEiSJEkZMQBIkiRJGTEASJIkSRkxAEiSJEkZMQBIkiRJGTEASJIkSRkxAEiSJEkZMQBIkiRJGTEASJIkSRkxAEiSJEkZMQBIkiRJGTEASJIkSRkxAEiSJEkZMQBIkiRJGTEASJIkSRkxAEiSJEkZ6dHVDZAkScpV3diPp65uQ3fW49K/RFe3YW3kHQBJkiQpIwYASZIkKSMGAEmSJCkjBgBJkiQpIwYASZIkKSMGAEmSJCkjBgBJkiQpIwYASZIkKSMGAEmSJCkjBgBJkiQpIwYASZIkKSMGAEmSJCkjBgBJkiQpIwYASZIkKSMGAEmSJCkjBgBJkiQpIwYASZIkKSMGAEmSJCkjBgBJkiQpIwYASZIkKSMGAEmSJCkjBgBJkiQpIwYASZIkKSMGAEmSJCkjBgBJkiQpIwYASZIkKSMGAEmSJCkjBgBJkiQpIwYASZIkKSMGAEmSJCkjBgBJkiQpIwYASZIkKSMGAEmSJCkjBgBJkiQpIwYASZIkKSMGAEmSJCkjBgBJkiQpIwYASZIkKSMGAEmSJCkjBgBJkiQpIwYASZIkKSMGAEmSJCkjBgBJkiQpIwYASZIkKSMGAEmSJCkjBgBJkiQpIwYASZIkKSMGAEmSJCkjBgBJkiQpIwYASZIkKSMGAEmSJCkjBgBJkiQpIwYASZIkKSMGAEmSJCkjBgBJkiQpIwYASZIkKSMGAEmSJCkjBgBJkiQpIwYASZIkKSMGAEmSJCkjBgBJkiQpIwYASZIkKSMGAEmSJCkjBgBJkiQpIwYASZIkKSMGAEmSJCkjBgBJkiQpIwYASZIkKSMGAEmSJCkjBgBJkiQpIwYASZIkKSMGAEmSJCkjBgBJkiQpIwYASZIkKSMGAEmSJCkjBgBJkiQpIwYASZIkKSMGAEmSJCkjBgBJkiQpIz26ugGSCiklbr/9dm699Vaeeuop5s6dy6abbsqOO+7Ixz/+cY499lh69OiYLjtr1iz+/ve/M3HiRJ5++mlmzZrF0qVL6d27N9tvvz0f+MAHOP7449l6661bPNeQIUOYNWtWq+rdb7/9+O1vf9ve5ktdprKfPvnkk4366VFHHVWTfvrwww83209POOGEVvfTmTNntqre97///fZTdSsREcAw4LPA+4AtgLnAVOAaYHxKqa6D6kqrUfw3KaVRrTjnesAo4ERgMNAXmAM8ClwNXJ9SWp16280AIHUDCxYs4PTTT2fChAmNts+ZM4c5c+YwYcIErrnmGi6++OJW/WNfzWmnnca9995LU/+tmTdvHvPmzWPSpElcfvnlnH766YwePbpd9UlriwULFvDlL3+5U/rp2LFjW91Pv/KVr9hPtdaKiM2AG4Ahq+zaqvwMAcZExLEppZc6u30tiYhBwE3AXqvs2qb8HAWcEhEnpJTmd1a7DABSF1u6dCmnnXYaEydOBOBd73oXw4YNY7vttmP27NncdNNNTJ8+nalTp/LFL36Ra6+9lt69e7e5vmeffbbhouLd7343+++/P4MGDaJ3797Mnj2bu+66i0mTJrF06VJ+/OMfs2zZMk499dQWz9u3b1/OOuusqmU222yzNrdb6kpLly5l7Nix7+inAwcOZPbs2dx4441Mnz6dKVOm8IUvfIHrrruuZv30lVde4c4772zop+effz5Lly5lzJgxLZ63b9++nH322VXLbLrppm1ut9SRli5fAXArcFC5aQYwDpgGDAA+D+wO7A3cHhEHpJQWdlD1U4DvtFCmauCIiE2B24Hdyk1PAr8GXgZ2Ar4IbAscAtwUEYd11J2MlhgApC527bXXNlxUDB48mCuvvJI+ffo07P/MZz7DaaedxoMPPsi0adO49NJL+cY3vtHm+nr16sWnP/1pPvOZz7DDDju8Y/+oUaMYP3485557LgAXX3wxhx9+ONtvv33V866//voccsghbW6X1J1dc801Df10jz32aLKfjh07tqGfXnLJJZxxxhltrq9Xr16cdNJJLfbTc845Byj66dChQ1vspxtssIH9VGuMX0x5EVZe/E8CDkkpzavfHxEXA7cAh1M8WvNd4OsdVP1rKaVb2nmO77Py4v8O4NiU0pL6nRFxKfBXirsDHwX+C7iknXW2ii8Br4EiYlBEpPIzqLX71P3U1dXxi1/8AoCI4Lzzzmt0UQHFhcB5553HhhtuCMDVV1/NvHnz3nGu1rr66qv53ve+1+RFRb1Ro0Zx2GGHNbTxT3/6U5vrk9Z0re2n559/fof109/97net6qeHH354Qxvtp1qb1K1YwbmPTK9fTcDnKi/+AcqL6c8Bi8tNX4qIfp3XyuZFRH9gbLm6GBhZefEPkFKaS9H++mf9vhMR63ZG+9b6ABCFEyLi5oh4MSLeiohFETE9Ih6MiJ9GxLERsUlXt1X5mTBhAnPnzgXggAMOYOedd26yXL9+/TjyyCOB4lGEe++9t811rnrh0pyhQ4c2LD/77LNtrk9a07W1n95zzz1trrMt/fSZZ55pc31Sd/O3ma8zZ8nS+tV7UkpTmiqXUnoVuLZc7QUc0wnNa41PAj3L5WvKdr5DSukJoP4f9a2AgzuhbWt3ACifvfobcD3F/xHbUTz29Ha5/EHgqxQvZ3yqi5qpjP3jH/9oWP7Qhz5UtWzl/gceeKBmbaq30UYbNSwvWbKkSklp7VbZTw866KAqJRvvt59KbXf3jNcqV+9ooXjl/qHNlupch1Usd7v2r+3vAFxFkaSWAxcCvwSmp5RWREQPiufFhgKf7romKmeVv6zvscceVcvuueeeTR5XK5V1tGZEk/nz53PyySfz9NNP88Ybb9C7d28GDBjA/vvv3/BSs7Qmqvxlvbv108q2taafzps3j1GjRjXZT4cPH24/VbcxZe4blauPtFB8YsXyns2WWj27RsSDFC8ZbwzMA54G7gF+mVKa3cLxle3oivZXtdbeAYiInYFPlKvfSSn9b0rp2ZTSCoCUUl1KaXJK6fyU0vuA67qsscrWCy+80LC8zTbbVC271VZbse66xaOBL774YpPDA3aUuro6brrppob1gw9u+Y7km2++yUMPPcTcuXNZtmwZ8+bN49///jeXX345RxxxBBdccAHLly+vWZulWllT+ulHPvKRFo+p1k+HDh1qP1W38ez8xZWrL7RQ/GWKH3sBdi7nDWivrSieFOkLrAf0p3gh+UzghYg4vbkDI2IdYMdydXnZvmperFjepY3tXS1r8x2A91Us39pS4ZTSW5XrEfECMBA4meIRom8Aw8tt8ykS4PdSSs+X5TenePP8WIohnRYAfwb+L6X0yqr1lZNCHEEx/uveFGPB9ivP/SgwHri2syeGUOd6442Vv3C0NERmjx496N27NwsWLKCuro4333yz0e3/jvTrX/+a5557DoBdd921xQuL/v37c9BBB7Hbbrux+eabs2zZMl588UXuvvtunnnmGZYvX86vfvUr5syZ0zC6kLSmWNv66e67706/fv1YtmwZL730EnfddVdDPx03bpz9VN3C/KWNRsN8rblyUPyoGxELgc0orm03Aha1o/rpwF3AZOB1YANgD+B4YAeKdw0ujIi+KaXvN3F8b1ZeY89vxdCer1csd8o4vGtzAKg0gGLs1bboA0wA3g0soXhT+13AZ4CPRcSBFHdS/gpsD7xZrm8JjAY+HBH7NjEu7QdpHEwWluffguK5scOAYyPixPq7Flr7vPnmmw3LvXr1arF8ZZnFixfX5MJiwoQJXHTRRUBxMXPmmWeyzjrN3yz88Y9/zF577dVkmS996Utcc801nH322axYsYJbbrmFD37wg3ziE59o4kxS99Rd++nPfvYzoOinP/jBD6r20/PPP5+999672X76+9//vqGf3nzzzRx44IEcffTRHd5uqbUWLWt0zdyaF1zeoggAUDyy09YAcHBK6e9N7YiIb1PcAaifH+B7EXF3SunBVYpWTgLS2rbX27i1DW2PtfYRIOBhVg6rdEFEtPWWypkU/2ccRpEo65fnUASB8yimoV4AHJBS2oji//jhFGFgZ4q7B6t6k+KdhEOBPimlPimlTSjuApxOEQhOAP67je2WVttzzz3HV77yFerqiv/wfvWrX2WvvVadvLCxffbZp+qFx4gRI/jyl7/csH7ZZZd1TGOlTE2fPp3TTz99tfrpvvvuW7WffvrTn+b001c+0WA/Va6au/gv9y1PKX0X+FXF5v+rfas63lobAFJKLwCXl6vvBp6KiEkRcUlEfD4i9mzlM2K9gENTSnenlFaU/+ffDXyz3D+M4rGgQ1JKE8q6l6WUrgcuKMuc2ET7/pVSOjWl9NfKuwMppbkppYso7h4AfHnVY7X2qB8zHODtt99usXxlmY7+VfHll1/m5JNPZv78YibykSNHMnr06BaOap2TTz6ZjTcuftR47rnnmDFjRoecV+oM3amfzpgx4x399JRTTumQc9tP1Z30Xq/RQyrrt+KQDSqW32i2VMc4k5U/Mn80IjZYZX/l3Yfu1nZgLQ4ApbHA2RQTMATFTGtjgSuAfwOzy3kAtqxyjhtTStOa2H5nxfK4lNLrVcrsGBGr+6/AXyqO3Wo1j10tEfFISx9WzmSnDlT/jy3Q4qRBdXV1LFpU/DdlvfXWa3RR0l7/+c9/GDlyJK+8UryucuKJJ/Ktb32rw87fq1cv3vve9zas1z+3LK0JunM//fa3v91h57efqjvZtGejALB5tbLlyI718zktY+XEYDWRUpoF1A/B1YviEfBKi4D6Z5g2LdtXTeXkZfPb38KWrdUBoBzp53sUL9h+luKOwONA/cwS/SnmAXgiIt7fzGn+1cz2yhd7H25FmXe81BERG0fE1yPi/oh4NSKW1s/iS/GIUL0BzZxfa7hBgwY1LM+cObNq2dmzZzeMzrHddtvRMYMcwCuvvMKoUaMa6j/uuOP4/vebeqepfTbddGUXWLhw1VdipO6ru/TTkSNHNuqnZ555Zoecu5L9VN3Fzps2+t10UAvFBwD1M+hO66QBVJp9cbd8d7N+GuN1afk6bmDFcqfM6LdWB4B6KaUFKaWrU0pfKIf87EPx7H39vOmbAzdGRFO3aZq8FbPKG93N3a6pLLNe5Y7ynYSpwPnAhyle/l1G8W7BKzQOD7UZQqKUUtqnpQ/wVC3bkKvKGUWnTGlyksMGTzzxRJPHtcecOXMYNWoUL75YjEB29NFHc/bZZ3fYRUul+kcWADbZxIm3tebYZZeVr5B1VT8dOXJko376wx/+0H6qtdoefRu9C7tPC8X3rVh+otlSHaulX+0r29Ht2p9FAFhVSmlJ+ez90cBvys0D6NzZ464s63yB4mXffimljVJK/VNKW1HctajX8f+VV7dQObvvgw+uOohAY5X7W5qNtDXmzp3LySefzPPPPw/AkUceyTnnnFP1RcG2Wrp0KY8//njDeuUvqlJ3tzr9tHL2347qp6NGjWrUT88991z7qdZ6h23b6Kmfw1soXnn91tKsu+0WEe9i5Xj9S2k8jn+9ykfFu1X7IdMAsIpxFcu7dkaFEbEtcGC5OiKldENKae4qxWr63L+6h/3335++ffsC8NBDDzU7c+jrr7/ObbfdBhTP6Q4ZMqRd9dbP2jttWvF6y6GHHsr555/fMIFRR7vyyisbxlIfOHAgAwcObOEIqfuo7Kf//Oc/W91PP/axj7Wr3vnz5zNq1KiGfnrYYYfx4x//uFP66aBBg+yn6lIf2aYfW6zfs371kIhochruiOjPysFWltCKuZ86wJms/HH2/pRSU+8c3MLKR85HlO18h4jYE6j/R302cH8HtrNZBoDGb2q3PLxDx9i2YvnRZsoc0hkNUdfq0aMHp556KgApJc444wwWLFjQqMzbb7/NN7/5zYaxyE866aRmJ+HP6sAAACAASURBVCP65je/yW677cZuu+3Gz3/+8ybLvPHGG4wePZqnn34agI997GP89Kc/pUeP1Z8W5Be/+AXTp0+vWubaa69tmFcAaPjzSmuK1vbTM844o9X9dNddd2XXXXet2k8///nPd0g/veyyy1rsp9dcc03DvAJgP1XX67HOOnxzn/rJdAngqoho1KnKR7d/w8pHpS9uZlAWImJ8/XuWEXFmM2XOiYjtmmtTRKwbEWcBX6zY/KOmyqaU5gCXlqu9gfGrPmpe/nmuYmWY+GFKqVOm4l5rJwKLiO2B9VJKLb1MMbJieVINm1Sp8l+O97LKi8YRsTErJ5nQWu7EE0/krrvuYuLEiUydOpVPfvKTDB8+nO22247Zs2dz4403NvzjvdNOOzFmzJh21feFL3yh4Tnm/v37c9RRR3H//dV/cFh//fUbPQZR74477uDCCy9k8ODB7Lfffuywww706dOn0UzA9RcwUDy7fOyxx7ar/VJXGDFiREM/nTJlCscccwzDhw9n4MCBzJ49mxtuuKFRPx07dmy76qtlP91xxx3ZZJNNGs0EbD9Vd3TqHgP5n388+QBwELA38HhE/BKYRvEY9Whg97L4VOCH7axyDHBGRPwT+AfFC7kLKIbpHEwx9PsOFeV/lFKq1jF/QPF4z27AEcCkiLgcmAnsBPwXK38Uvo/GT6XU1FobACimbL41Iu4ArgP+Xs4NQESsB+xJMcb+qLL8v4DqD3d2nCeBl4DtgF9HxMiU0iNl2w4ALmblbHZay/Xs2ZNLLrmE008/nQkTJvCf//yHCy+88B3lBg8ezMUXX9xoSMK2eOyxxxqWX331Vb761a+2eMzWW2/Nvffe2+z+qVOnMnXq1Gb39+jRgy984Qucdtppq9dYqZvo2bMnl156KV/+8per9tM99tijQ/rpo4+uvDnc2n66zTbbdEg//e//dv5JdQ89110H4BjgBorHZLal6Yv8ScCxKaUFTexbXQF8sPw0503gjJTSxdVOlFKaHxFHADdRDEW/OyvniKr0V+CElNKytjV59a3NAWAZxSNOR5YfImIpxSM/m9H4xdr6vzgrOqNhKaUVEXEacDNFUJkYEfXDfm5IMX7tMRR/IZSBPn36cOWVV3L77bdz66238uSTTzJv3jz69OnDTjvtxJFHHsmnPvWpNt3+r6XzzjuPiRMn8thjjzFt2jTmzZvH/PnzWbFiRUPb99tvP4477ji23LLadBtS99enTx/Gjx/f0E+nTp3aqJ9+/OMf75b99Pzzz2fixIk8+uijVfvp8ccfbz9Vt5NSmhcRh1D8+v5ZigvpzYF5wBTgWuDKVUZnbKvDKS78D6B4yXcLitF+llMM+zkZuAcY38S7m821/4WI2J/iB+cTKa77NgNeo3gM/LfA9Z00dGmD6OT6OlVE7ERx8f8hil/8B1A8J/YWMIvif/ibgD+sevEfES9QjMt6ckppfDPnb5gFLqV0XxP7BwHPl6vb19+BqNh/AMUU0h+kuPCfTfEX67yU0tPNnb/aeVuqs60i4pHBgwfvfdNNN3XE6STVSC2GhpTUsXbZZZeGjlo39uNr74VYB+hx6V/8j1oNdK+fKTpYOYPvReVndY8d1IoyVf9SlhffzZZJKT0EHLW656923pbqlCRJUt4cBUiSJEnKiAFAkiRJyogBQJIkScqIAUCSJEnKiAFAkiRJyogBQJIkScqIAUCSJEnKiAFAkiRJyogBQJIkScqIAUCSJEnKiAFAkiRJyogBQJIkScqIAUCSJEnKiAFAkiRJyogBQJIkScqIAUCSJEnKiAFAkiRJyogBQJIkScqIAUCSJEnKiAFAkiRJyogBQJIkScqIAUCSJEnKiAFAkiRJyogBQJIkScqIAUCSJEnKiAFAkiRJyogBQJIkScqIAUCSJEnKiAFAkiRJyogBQJIkScqIAUCSJEnKiAFAkiRJyogBQJIkScqIAUCSJEnKiAFAkiRJyogBQJIkScqIAUCSJEnKiAFAkiRJyogBQJIkScqIAUCSJEnKiAFAkiRJyogBQJIkScqIAUCSJEnKiAFAkiRJyogBQJIkScqIAUCSJEnKiAFAkiRJyogBQJIkScqIAUCSJEnKiAFAkiRJyogBQJIkScqIAUCSJEnKiAFAkiRJyogBQJIkScqIAUCSJEnKiAFAkiRJyogBQJIkScqIAUCSJEnKiAFAkiRJyogBQJIkScqIAUCSJEnKiAFAkiRJyogBQJIkScqIAUCSJEnKiAFAkiRJyogBQJIkScqIAUCSJEnKiAFAkiRJyogBQJIkScqIAUCSJEnKiAFAkiRJyogBQJIkScqIAUCSJEnKiAFAkiRJyogBQJIkScqIAUCSJEnKiAFAkiRJyogBQJIkScqIAUCSJEnKiAFAkiRJyogBQJIkScqIAUCSJEnKSI/OqCQitgE+BuwObAasl1Ia3Rl1S5IkSVqppgEgIvoDFwLHA+vWbwYSMHqVspcCpwAzUko71rJdkiRJ3UGPS/8SXd0G5admjwBFxM7Ao8BwiqAR5ac5F5flBkXER2rVLkmSJClnNQkAEbEe8GfgXRQX/b8FDgf+u7ljUkpTganl6tBatEuSJEnKXa0eARoN7EzxqM+YlNI4gIjYsIXj7gMGA/vXqF2SJElS1mr1CNCnyu+/1V/8t9KU8nuXDm6PJEmSJGoXAN5N8ev/Lat53Ovl92Yd2xxJkiRJULsA0Lf8/s9qHueb8JIkSVIN1SoALCi/N17N4waU369XLSVJkiSpTWoVAJ4vv/dbzeMOKb+f6MC2SJIkSSrVKgDcTfE4z4kR0arn+SNiX+AwincH7qxRuyRJkqSs1SoA/BJ4G9gUuCYiNqhWOCJ2B26gCA0LgV/XqF2SJElS1moyD0BKaUZEnAX8CDgUeDIiLgN61ZeJiA8D21L86j8c6Enx6///pJQW1qJdkiRJUu5qNREYKaVzIqI/cDqwHfD/1e8qv/9WUbx+9J+zUkr++i9JkiTVSK0eAQIgpfRV4FhgMsVFfnOfKcDRKaUf1LI9kiRJUu5qdgegXkrpVuDWiHgPcBAwCOgDLAJmAvenlCbWuh2SJEmSOiEA1EspTaa4EyBJkiSpi9T0ESBJkiRJ3UtN7gBExPfKxfnAJSml5a08bleKEYFIKZ1Vi7ZJkiRJOavVI0BnsnK0n6Mj4viU0vxWHLdbxbEGAEmSJKmD1foRoAA+CkyIiJ1rXJckSZKkFtQ6AEynCAG7UISAITWuT5IkSVIVtQ4A/0sxGzDAZsDtEXFqjeuUJEmS1IxaB4CUUvou8BlgCbAecElEXBQRjkAkSZIkdbJOuQhPKf0eGAK8QvFI0GnAbRGxSWfUL0mSJKnQmROBTYiI/YE/Au8BDgUeioijUkrPd1Y71Ha9evVi0KBBXd0MSVXcfPPNXd0ESS3YZZdduroJylynPoaTUnoJ+CDwJ4o7AbsB/4qID3dmOyRJkqRcdfpz+CmlxcAngZ9QhIB+wF0RMbqz2yJJkiTlptMeAaqUUkrANyLiSeAyoCcwDni4K9ojSZIk5aJLR+JJKV1J8S7AaxR3A/bryvZIkiRJa7suH4ozpfQA8AHgSYoQIEmSJKlGavUI0EfL7ydaUzil9FxEfAA4G+hTozZJkiRJ2atJAEgp3d+GY94AvlKD5kiSJEkqdfkjQJIkSZI6jwFAkiRJyki7HgGqnMArpfT3pra3VeX5JEmSJHWM9r4DcB+Qyk+PJra31arnkyRJktQBOuIiu7mhOx3SU5IkSepm2hsAfrCa2yVJkiR1oXYFgJRSkxf6zW2XJEmS1LUcBUiSJEnKSJe+aBsRAexctmN6SuntrmyPJEmStLaryR2AiNggIo4uP9s2U2YEMAt4Evg38GpEnFmL9kiSJEkq1OoOwAnAeGA5sMOqOyPicODq+tXye2PguxGxcUrpf2rULkmSJClrtXoH4NDy+/+llGY0sf/HFBf+AUwEbgAWlOunR8R7a9QuSZIkKWu1CgCDKSbzesdsvhGxN7Bnuf+nKaX3p5SGAfsBiylCwOdr1C5JkiQpa7UKAFuU3083se/w8nsZ8KP6jSmlacD1FAHgQzVqlyRJkpS1WgWAzcvvhU3sq7+4/2dKad4q+x4uv7evSaskSZKkzNXqJeD6F3s3aLSxGPbzAJp5PAh4rfzuXaN2SZIkdRt1Yz+euroN3VmPS/8SLZfS6qrVHYA55fcuq2x/P7BpufzPJo7bsPxeUotGSZIkSbmrVQB4jOIuwIiIqLwL8IXyexnwjyaOqx8y9D81apckSZKUtVo9AvQH4ChgJ+C+iPg9sAfF6D4J+EtKaXETx+1ffj9Zo3ZJkiRJWatVAPgd8CVg34pPvaXAmaseEBGbAB+lCAgTatQuSZIkKWs1eQQopbQCOAK4tdxUP+nXLOD4lNK/mzhsFNCzXP5rLdolSZIk5a5WdwBIKb0OHBsRW1A82/8mMKUMB015Cji5ODRNrFW7JEmSpJzVLADUSynNYeWoQNXK3VXrtkiSJEm5q9UoQJIkSZK6IQOAJEmSlBEDgCRJkpQRA4AkSZKUEQOAJEmSlBEDgCRJkpQRA4AkSZKUEQOAJEmSlBEDgCRJkpQRA4AkSZKUEQOAJEmSlBEDgCRJkpQRA4AkSZKUEQOAJEmSlBEDgCRJkpQRA4AkSZKUEQOAJEmSlBEDgCRJkpQRA4AkSZKUEQOAJEmSlBEDgCRJkpQRA4AkSZKUEQOAJEmSlBEDgCRJkpQRA4AkSZKUEQOAJEmSlBEDgCRJkpQRA4AkSZKUEQOAJEmSlBEDgCRJkpQRA4AkSZKUEQOAJEmSlBEDgCRJkpQRA4AkSZKUEQOAJEmSlBEDgCRJkpQRA4AkSZKUEQOAJEmSlBEDgCRJkpQRA4AkSZKUEQOAJEmSlBEDgCRJkpQRA4AkSZKUEQOAJEmSlBEDgCRJkpQRA4AkSZKUEQOAJEmSlBEDgCRJkpQRA4AkSZKUEQOAJEmSlBEDgCRJkpQRA4AkSZKUEQOAJEmSlBEDgCRJkpQRA4AkSZKUEQOAJEmSlBEDgCRJkpQRA4AkSZKUEQOAJEmSlBEDgCRJkpQRA4AkSZKUEQOAJEmSlBEDgCRJkpQRA4AkSZKUEQOAJEmSlBEDgCRJkpQRA4AkSZKUEQOAJEmSlBEDgCRJkpQRA4AkSZKUEQOAJEmSlBEDgCRJkpSRHl3dAEmFlBI33HADv//975k8eTJz5syhb9++7LbbbgwbNozPfe5z9OjRsV128eLFXH755dx8881Mnz6dhQsX0r9/f/bff39GjhzJoYceutrnvPPOO7nxxhuZMGECs2fPpq6ujv79+zNw4EA+/OEPc9RRR/He9763Q/8cUmdJKTFhwgQeeOABXnzxRRYuXEjv3r3ZZpttOPDAAzn44INZd911a9qGRYsW8b//+78sWLCgYdtFF13EFltssdrnqqur41vf+hYvv/xyw7bvfve7DB48uEPaKnWEiAhgGPBZ4H3AFsBcYCpwDTA+pVTXQXWl1Sj+m5TSqFaccz1gFHAiMBjoC8wBHgWuBq5PKa1Ove1mAJC6gXnz5jFixAjuu+++Rttnz57N7Nmzue+++/jVr37Fddddx3bbbdchdT722GOMGDGC559/vtH2GTNmMGPGDG644QZOPPFExo0bR8+ePVs83/PPP8+pp57K/fff/459L7zwAi+88AL3338/jz32GH/4wx865M8gdaZFixZx4YUXMmXKlEbb58+fz/z585kyZQp//etf+drXvsbmm29es3ZcffXVjS7+2+OWW25pdPEvdTcRsRlwAzBklV1blZ8hwJiIODal9FJnt68lETEIuAnYa5Vd25Sfo4BTIuKElNL8zmqXAUDqYkuXLuX444/nH//4BwADBgxg9OjR7LjjjsycOZPf/OY3PPXUUzz66KMcc8wx3H///WyyySbtqvPFF1/kmGOO4ZVXXgFgv/32Y8SIEfTr148nnniCX//617z++utce+21RARXXnll1fM988wzDB06lFmzZgGwzz77cOSRRzJo0CDWX3995syZw+TJk7njjjva1W6pq9TV1XHBBRfw1FNPAdCvXz+GDBnCVlttxdy5c7nvvvuYOXMmzz//POeeey5nnXUWG264YYe3Y/Lkydx///1EBD169GDZsmVtPtfLL7/MrbfeCkCvXr14++23O6qZUodYunwFwK3AQeWmGcA4YBowAPg8sDuwN3B7RByQUlrYQdVPAb7TQpmqgSMiNgVuB3YrNz0J/Bp4GdgJ+CKwLXAIcFNEHNZRdzJaYgCQuti4ceMaLv732msvbrvtNjbbbLOG/WPGjOGEE07g7rvv5sknn+Scc87hnHPOaVedX//61xsu/keOHMlll13GOusUrwQNHz6cU045hUMOOYQZM2ZwzTXXMGzYMI444ogmz/XWW2/xqU99ilmzZrHhhhvyq1/9iuOOO67JsiklZs6c2a62S13h7rvvbrj433777fn2t79N7969G/YfdthhXHDBBUyePJmZM2dy8803c9JJJ3VoG95++22uuOKKhvoeeeQRXnvttTada8WKFYwbN466ujr23ntv3nrrLZ588smObK7Ubr+Y8iKsvPifBBySUppXvz8iLgZuAQ6neLTmu8DXO6j611JKt7TzHN9n5cX/HcCxKaUl9Tsj4lLgrxR3Bz4K/BdwSTvrbBVfApa6UF1dHeeddx4AEcEVV1zR6OIfYP311+eKK65go402AuDSSy/l9ddfb3OdkydP5o9//CMA2267LT/72c8aLv7rDRw4kJ///OcN6z/84Q+bPd+PfvQjpk2bBsD48eObvfiH4s84YMCANrdd6grLly/nlluK64CIYMyYMY0u/gF69uzJ2LFj6dWrF1C8C/PGG290aDuuv/56Xn31Vfr27cvw4cPbda677rqLZ599ll69enHyySd3UAuljlO3YgXnPjK9fjUBn6u8+AcoL6Y/BywuN30pIvp1XiubFxH9gbHl6mJgZOXFP0BKaS5F++uf//9ORNT2JaLSWhsAIuLMiEir+TKH1Kn+9re/MWfOHAA++tGPNvviXf/+/TnhhBOA4lfAP/3pT22us/L5+9GjR7P++us3We7www9nxx13BOCRRx7hueeee0eZxYsXM27cOAAOPvhgjj766Da3S+qupkyZwsKFxVMFe+yxB9tuu22T5fr06cOBBx4IwLJly5g4cWKHtWHatGncfvvtAIwaNYoNNtigzeeaM2cO1113HQDDhg2r6fsKUlv9bebrzFmytH71npTSlKbKpZReBa4tV3sBx3RC81rjk0D9C3TXlO18h5TSE8C95epWwMGd0La1NwBIa4J77rmnYfmwww6rWrZy/913313zOiOi0ShATdV58803N1wYjRgxos1tkrqzyZMnNyy3NIJV5f7HH3+8Q+qvq6tj3LhxpJTYd9992W+//dp1vssvv5wlS5aw/fbbM3To0A5po9TR7p7R6PG2ll4gq9zfXf5SV/4D2+3abwCQulDlaCJ77bXqAAGN7b333k0etzpWrFjR8Jxvjx49eM973tOuOh988MGG5f3224+3336biy++mIMOOogtt9ySvn37MnjwYL74xS/y8MMPt6nNUlebMWNGw/IOO+xQtWzl/o4aXeePf/wjM2bMYIMNNmDUqFHtOtcDDzzA5MmTWWeddTjllFPe8fif1F1MmdvoEbpHWiheebttzw5qwq4R8WBEvB4RSyPilYj4e0R8PyK2asXxle3oivZX5UvAUhd69tlnG5YHDhxYteyAAQNYd911Wb58OdOmTSOlRDE0cuu9/PLLvPXWWwBsvfXWLc4rUDnkaGVb602aNKlhefny5RxwwAFMnTq1UZnnnnuO5557jquuuooxY8bwk5/8pObjpEsdafbs2Q3LLY2137dvX9ZZZx1WrFjB7Nmz29RPK82cObPh/YNhw4bRr1/bH29euHAhV111FQBDhw5tMcxIXenZ+YsrV19oofjLwHJgXWDniIgOGFe/fpjRev3Lz0HAtyLijJTSz5o6MCLWAXYsV5eX7avmxYrlXdrW3NVj9K8QEZtFxOiIuD4i/h0RcyNiSUS8GBG/j4gPVDm2/p2D+8r14yLiroh4NSJWRMSZq5Q/JiLujYj5EbEoIh6PiG9ExHqrnquZ+gZFxIURMaU8/s2IeCoifhYRHTNQvGqucizvlp7D7dGjR8Pwn3V1dSxevLhq+fbWBzS62Ghq3PH6kYQATjrpJKZOncrWW2/Nt771La666iouu+wyjjvuuIYLoMsuu4yvf72jBmiQOkdlX9t4442rll133XUbns9fvnx5u4bWrB+pZ9myZeywww4tPibYkvHjx7No0SL69evX8E6R1F3NX9poNMyqw12VQ2fWD//ZA9iondVPBy4DxlBMQDYSOB+ofxmuF3BhRPygmeN7s/JH9vmtGNqzcmSPTdvU4tXkHYDGTqcYsgmKxFb/l2m78nNiRHwlpXRRtZNExAXA1yje6p4PrFhl/0+A/6nYNJ9i+KrzgI8DD1JFRJwEXEHxFxDg7bKOXcvPyRFxfErprmrnUddbtGhRw3JzL+NW2mCDDZg3rxgE4Y033njHSCSrU1/9aCUt1VevqRFN5s9fOWfJs88+y/vf/37+9Kc/0adPn4btJ598MrfddhvDhg2jrq6OSy+9lOHDh7P//vuvVtulrrJkycqBO9Zbb70Wy/fs2bMhNLz11lut6ttNufvuu3nmmWc65HGdSZMm8dBDDwFFn2xrm6TOsmhZo2vmJc2Vq/AWUD+M3sbAoiplqzk4pfT3pnZExLeBM1k5P8D3IuLulNKq122V/zi3tu31qv/K0EG8A9DYLOAHwL7AhimlvsAGwA5A/W2en0ZEtYe196G4+D8P2LI8x0bAlQARcSIrL/5/DwxIKW1G8X/4F4H3UyTOJkXEocBVFLe5zge2L9u4EcVYs38oz/UH7wT8/+3de7hcdX3v8fc3NxOBkASQYJIjtyBphBJQKUKPQVCMFioWNaFAqKTWqBSU00KPIFTUtnDaWgukUqgRGixKiFDBRgWCiEqqBChgqkCikJRbMBAuMST5nj/Wmr0nOzOzr9l7J+v9ep55Zq2Z31rrlwcm+X3W+l20rW3e3J5thw8fzjXXXLNF47/mPe95D5/4xCfa9i+/vF+mOZa2W88++yz/9m/FxCYzZsxgn3326fG5Xnnllbb1A9761rdy2GGH9UkdpR1Rs8Z/+d2mzLwA+Oe6jz+97WvV9wwAdTLzysy8KDN/mpkbys8yM1dk5tnAFRQN74+3OM3OwN9l5nmZ+Ux5jt9k5i+j6AdxcVnuu8ApmbmqLLM+M/+ZovE/ttGJyz5ll1P8d/t4Zp6bmSuz3X9n5geBm4HRFEFEg1j9Hfz6u4zN1PrvQ+ddETq7Xle6JnR2vfrPjjnmGPbee++m5zrjjDPatu+8885Ory0NFvV3y7uy8u6GDW1TF/Z4us6rr76a9evXs/vuu3PSSSf16Bw11113Hc899xyjRo1i9uzZvTqX1F92Hr5FJ5WuPLKq/7H17SIcW7uI9rn7j46Ijj/0+qcPg63ugAGgu24p349qUWYzxd3/Rg6hWPoZ4AtNBqh8leZLS/9vYDJFX7irWtThmvL9uBZl2kTETzt70b6SnfpQ/d3yzlb03LhxY9uUm8OHD29bGGxbXQ/YYsGxRnf26z/rbBajyZMntwWQp556aovuSNJgVv9b62xxr02bNrUF56FDh3apq11HP/jBD7jvvvsA+PCHP9yr7jrLly9vm/p35syZjBs3rsfnkvrTmBFbBICWg9YiYhjFjU+AV2lfGGybyMzVwM/L3ddQ9Mao9yJQ68M0pqxfK/Wj+9c2LdWHHAPQQUTsS7Fy29EUI7h3Yeug1Gop00eaLfYA1OZUfBX4YaMCmZkRcSdwaoOvjyzfdwVWt5hZorbwROtpZTTgJk+ezMqVKwH45S9/2fIO+hNPPMGmTZsA2G+//Xo0s8jEiRMZNWoUr7zyCqtXr2bjxo0tZwL61a/as+jkyZO3+v6AAw5gxYoVQOOA0NGuu+7a1vB//vnnuz2GQRoI48eP5+mni7/Wn3nmmZYzAT333HNtXePGjx/fo9/pHXfcAcCYMWNYsWJF22+so/ondIsXL+a1r30tAO94xzsYM6YYR7hkyRIykxEjRrBu3TpuvPHGhueqvyFw1113sXz5cgCOOOII9tprr27/GaTemjxmJ1asa/t/fG9azwQ0kaKHBhTtsP5YBLbpwN3M3BwRj1KMyxxa1m9li3PVt9d+3rRUHzIA1ImIE4Gv0T64FoqBwOspHvWMoOie0+rWa7PGP0DtX401tS5GTaxq8vnry/fhwJ4tjq/p0rPnzOy0Q2j5FODQzsqpe6ZOndq2wNayZct4+9ubLwBYP+Xm1KlTe3S9IUOGMGXKFO699142btzIAw88sMVc/9295kEHHcTixYuBxrMEdVR7ggFdCwzSYDBp0qS2xcAee+yxpit2176vmTix1b2i5mptl7Vr126xcncrt9xyS9v2oYce2hYAaufasGEDN9xwQ5fOtWTJkrbtSZMmGQA0IKaO24XvtC8GdhiwpEXxN9dtP7it6tRBZ3ftH6QIAFDUf2WLc/V7/e0CVIqI3YD5FI3/24HpFAOBd83MPTNzPNCVedM2daFMT5NpLd3ek5nRlVcPr6N+cuyxx7Ztd7a673e+0z6pU/0Kvdvqmpm5xfeNrlk/LeGyZctaXvcXv/hFW/eJvfbay7v/2m7UL5hXvypwI/Wr/3a2arCk5t41aYteP511aa5fPbezVXd7LSL2on2+/g1sOY9/zeK67UFVf/AJQL33UPQf+zVwfGa+3KBMV1Z+a+WZ8n33iBjR4inAhCaf11ajsWvPDmL69OnssccePPPMM9x+++08/PDDDe8uPv300213AkeOHMnxxx/f42uedNJJXHLJJQBcddVV+LgfmwAAGS1JREFUnHXWWQ37GC9evJhHH30UgMMOO6zhokFHHXUUEyZMYNWqVdx2222sXLmyaTem2iwk0LsAI/W3qVOnMnr0aF544QUefPBBHn/8cSZNmrRVueeff54f/rDo3Tl8+HDe/OY3b1WmKz7zmc90qdyZZ57Z1nXnS1/6UsOuSXPnzmXu3KYTy7X57Gc/27ZK+AUXXNDyKYfUH6ZP2I09Ro7gmfUbAI6NiKmZudWS9BHxOmBmubseuKkfqncRULvJemdmNhpz8E3gMoreI7Mi4vxGXcQj4k3AO8rdJ4F+mSXDJwDtan+b/3eTxj/AsU0+76paf4rhwNsaFShnCvrfTY6/u3wfHxE9+5dFg8qwYcM499xzgeKO+xlnnNE2z3/N+vXrmTNnTtu84nPnzm26GuicOXMYOXIkI0eO5OKLL25Y5uCDD+aEE04A4PHHH+fss8/eYjpPKPr+n3nmmW37559/Po0MGTKECy64AChmR5k9e3bDrkC33norl112WdsxZ511VsPzSYPR0KFDed/73gcUv9N58+ZtNYh9w4YNzJs3r212reOOO67pTF3z5s1j1qxZzJo1q8vdcqSqGTZkCOcdVltMlwCuiYgtZkmMiJEUk6fUumZflpn1ffPry84vF1nNjouz1pX5q1ZTqEfE0Ij4LMW07TWfb1S2nAnyinJ3Z2B+Wd/6842lmLilFiY+l5ld6UnSaz4BaFdrtRwQESMzc4s5GSPiEODkXl7jPuARipmAzouIOxsMVDmF5nf476g7/u8j4phWYwkiYlxmPtfLOmsb+8hHPsKiRYu4++67WbZsGW95y1uYM2cO++23H6tWrWL+/PltA/KmTJnCeeed1+trXnrppdxzzz089dRTzJ8/n4cffpiTTz6ZcePG8eCDD3L11Ve3zQA0c+ZMZsyY0fRcp512GjfffDO33nor99xzD9OmTeP0009nypQpvPTSS3zve99j4cKFbX2RL7zwwh6PYZAGyjvf+U6WLl3K8uXLWbFiBeeddx7HHHMM48ePZ82aNSxZsoRVq4rhWxMmTODEE08c4BpL27+PTn0D59z9s7uA36UYh3h/RHyZoi00ETgDmFIWfxj4XC8vORc4NyJ+SHHT9ecU7cNRFAu2fpBibaiaz2dmqzv2f0nRvedAYAZwb0RcRTHWc3/gT2i/Ab0EuLKX9e+ySgSAiGg5fRTFVE3foZjCcxywICL+NDNXRcQI4H0Uj3HWseWgj24pZ/i5EFhA0R/sqxFxXmauLlPhHwL/SNENaau1ADJzY0R8lKJ/2FHA9yPi08D3M/PV8s+6L/Auih/FTfT+x6BtbMSIEdxwww3MmjWLJUuW8MQTT3DRRRdtVW7atGlcf/31fTJ49g1veAM33XQTs2bNYsWKFSxdupSlS5duVe5DH/oQV17Z+u+jIUOGsGDBAubMmcPChQtZvXo1X/jCF7YqN3ToUC688EL+/M//vNf1l/rbsGHDOOecc/jiF7/IQw89xJo1a/j617++Vbl99tmHT33qU20z8kjquRFDhwD8PnADRTeZSTRu19wLnJiZnc9G0bmgmHXxyBZlXgbOzczLWp0oM9dGxAzgRmAaRVj52wZFvwd8oNaW6w+VCAC0971v5v7MPCQiLgXOBd4PvD8ingdeS9FlZwXF0s8LelORzLwuIt4CnE0x1ecpEbGW4vHQcIoByPcAf0GD5aMz87aI+ADFI6PDKf6neTUiXijPUT+D0Td7U1f1n7Fjx/Ltb3+bG264geuuu47777+fZ599lrFjxzJlyhQ+8IEPMHv27JZTdnbXIYccwk9+8hOuuuoqFi1axCOPPMK6devYY489OPzww5k9e/YWg3xbGTVqFAsWLOD000/n2muvbXu6MHz4cCZNmsTRRx/N3Llz2X///Ts/mTRI7bzzznz605/mxz/+MXfddRcrV65k3bp17LTTTkycOJEjjjiC6dOnM3To0M5PJqlLMvPXEXEsxd33Uyka0rtT3Cx9CPg34CuZubH5WbrsOIqG/xEUg3z3oLjxu4li2s8HgNuA+V3tYZGZKyPicOB0irEKUylu8j4LLAOuBb7eT1OXtol+vl6/Kft3XdjF4vdn5iHlcacCnwAOopit55fAIuASiv/p7gDoOMNO3fXuzMzpXajficCfUjzSGkbxOOta4IsU6fBPgeszc2aT419HsV7BDIrFwUZTLHyxAvhPikXLbu1kutEui4ifTps27dAf/ehHfXE6SdvIokWLBroKkjoxc+bMtjbExo+9d8dsiPWRYVfc4oyG28AO+wQgMy+iGKXd3eOupWiIN7KE9oEavbpeZi6iCBZbqRvgu9Vo97rjny6v1+VrSpIkSc4CNMhExNtpnyGoX+aClSRJUnUYAAZARFweEadHxPhy2k8iYkxE/Ant89fenpn/OXC1lCRJ0o5oh+0CNMgdSdF/H+A3EfEyMIb27kUPA6cNRMUkSZK0YzMADIzPUEwtejiwJ7Ar7aPZbwSubLEYmSRJktRjBoABkJk3AzcPdD0kSZJUPY4BkCRJkirEACBJkiRViAFAkiRJqhADgCRJklQhBgBJkiSpQgwAkiRJUoUYACRJkqQKMQBIkiRJFWIAkCRJkirEACBJkiRViAFAkiRJqhADgCRJklQhBgBJkiSpQgwAkiRJUoUYACRJkqQKMQBIkiRJFWIAkCRJkirEACBJkiRViAFAkiRJqhADgCRJklQhBgBJkiSpQgwAkiRJUoUYACRJkqQKMQBIkiRJFWIAkCRJkirEACBJkiRViAFAkiRJqhADgCRJklQhBgBJkiSpQgwAkiRJUoUYACRJkqQKMQBIkiRJFWIAkCRJkirEACBJkiRViAFAkiRJqhADgCRJklQhBgBJkiSpQgwAkiRJUoUYACRJkqQKMQBIkiRJFWIAkCRJkirEACBJkiRViAFAkiRJqhADgCRJklQhBgBJkiSpQgwAkiRJUoUYACRJkqQKMQBIkiRJFWIAkCRJkirEACBJkiRViAFAkiRJqhADgCRJklQhBgBJkiSpQgwAkiRJUoUYACRJkqQKMQBIkiRJFWIAkCRJkirEACBJkiRViAFAkiRJqhADgCRJklQhBgBJkiSpQgwAkiRJUoUYACRJkqQKMQBIkiRJFWIAkCRJkirEACBJkiRViAFAkiRJqhADgCRJklQhBgBJkiSpQgwAkiRJUoUYACRJkqQKMQBIkiRJFWIAkCRJkirEACBJkiRViAFAkiRJqhADgCRJklQhBgBJkiSpQgwAkiRJUoUMG+gKSJIkVdWwK26Jga6DqscnAJIkSVKFGAAkSZKkCjEASJIkSRViAJAkSZIqxAAgSZIkVYgBQJIkSaoQA4AkSZJUIQYASZIkqUIMAJIkSVKFGAAkSZKkCjEASJIkSRViAJAkSZIqxAAgSZIkVYgBQJIkSaoQA4AkSZJUIQYASZIkqUIMAJIkSVKFGAAkSZKkCjEASJIkSRViAJAkSZIqxAAgSZIkVYgBQJIkSaqQyMyBroO2AxGxZtSoUeMOPPDAga6KpBbWrl070FWQ1IkVK1Zcl5l/OND1UHUZANQlEbECGA2sHOCqqO/U0tzyAa2FpFb8ne6YlhsANJAMAFJFRcRPATLzsIGui6TG/J1K2hYcAyBJkiRViAFAkiRJqhADgCRJklQhBgBJkiSpQgwAkiRJUoUYACRJkqQKMQBIkiRJFWIAkCRJkirEhcAkSZKkCvEJgCRJklQhBgBJkiSpQgwAkiRJUoUYACRJkqQKMQBIkiRJFWIAkCRJkirEACBthyJiSURkRFzUne8k7TgiYu/yt54RsXd/Hy9p+zVsoCsgVVlEBHAScDJwKPA6YBPwFPA/wFLgLuC2zHxhoOopqbmIGAL8PnA88DvAnsBo4EVgFbAM+A/g3/0dSxoMDADSAImIMcA3gbfXfbwReBn4X8C+wJHAJ4E/AubXlfsV8N/As/1RV0mNRcThwFeBN9Z9vAl4HtgJmFq+TgFeiIiLMvPv+72iklTHLkDSwLmGovG/Cfhb4ADgNZm5GzAK+G3gXOD+jgdm5mmZeWBmXtaP9ZVUJyLeB3yfovG/BrgAeBMwPDN3y8yRFE8DTgJuAnYGPjRA1ZWkNj4BkAZAREym6C4AcH5m/nX995m5EXigfF0SEaP6uYqSWoiIA4F/BUZQ/E5nZObqjuUy82lgIbAwIqYCc/q1opLUgE8ApIFxSN32TZ0VzsxX6ve7O9A3IqbVDfY7uJOy15Tlbmvy/XsjYmFErIqI30TEryPi+xExNyJGNDmmrb4RMTwizomIn0TE2vLz6V35c0iDyOcouvi8BJzYqPHfUWY+lJmfbPRdROwXEfMi4hcR8UpEvBAR90bEZyJidE8rGRETIuLLEfF4+Xt9IiK+EhH79/SckrZ/BgBp4E3c1hfIzGXAQ+Xuqc3KRcROwPvL3Ws6fDcqIr4BfKss83pgPbAr8LvAFcCdETG2RVVGAkuA/0fRxWkzkN3840gDKiL2ov13cm1mPtbL832Q4vf5UWB/4FWKJwvTgL8EHoyIKT0476HAfwEfofh7ZhPF7/V04KfAW3tTb0nbLwOANDD+k/aG799GxAH9cM1ag/7kctaSRk6k/a7mwg7fXUnRl/kx4A+BXTNzV+C1FDOgPEYxA8q/tKjDx4GDKQY1j87MccAeFF0opO3F0UCU2zf35kRlI/1fgdcAdwMHZ+Zoit/VCRSzgU0C/j0idu7GeXcBFgFjKSYNeBewU2buArwNeBz4cm/qLmn7ZQCQBkBmrgSuKncPApaXj/svj4gPR8SbyilC+9ICijvurweObVKm9nRgUWa+WPswIn6XYhaTp4HpmXldbTrDzFyfmTdTDGh+CXhfRBxCYzsDJ2fm/Fq3psxck5nP9fLPJvWn36rbvq+X5/o8MBx4BHhXZv4XQGZuzsx/B95LMTvYfhRPCLpqLsVsYhuAd2fmdzMzy3P/iOLvAJ++SRVlAJAGzseAiykazUHxuP9jwNUUj+2fjIi/i4g9++JimbkKuL3c3aobUNmt4Zhy99oOX59Rvi/IzMebnP8J4I5y97gm1XiobNRI27Pd6rYbhteI2D8inmzyeltZZgztv5VLM/Pljucpu+/dWO7O6kYdZ5bv38jMnzU475PAP3XjfJJ2IAYAaYBk5sbM/AwwgaJBfhXFlJ8byiKvo1gD4MGI6Ku+urVuQCeW/f3rnQwMBVYD3+vw3ZHl+xktGjVP0v5k4Q1Nrn93b/8A0nZiGMUUoI1etcHyh9Lelajjb67ed8v3gyNieGcXLgfjH1Tu3t6iaKvvJO3ADADSAMvM5zPzXzPzjzPzEIpBeu8EanfKd6eYQnBkH1zuRorVSesH+9bUngosyMzNHb57ffk+muaNmj0pBvlC0X+5kad7XHNp8FhTtz2uUYHMXJ6ZUXsB+zQo9rq67VUtrvdE+T6s2fU6GEf7NN9dOa+kijEASINM2af+e5l5AsUKo1DM4PHuPjj3S7R3Jzit9nlEHEQxKw9s3f0HiicDAHPrGzUtXqc3qcKm3v4ZpEHg4brtZuNdJGnQMgBIg9uVddtv7KNz1hr474iICeV27e7/fbVBiB08Wb4369ojVckdtA+gPaEX56l/ItZqOuDadxtpMuagg+doD9sTWpRr9Z2kHZgBQBrcXqzb/k0fnfN2ikf/Q2ifEvTk8rtrmhxT67v/e31UB2m7lZn/Q/uTtFMjolH3nq64l2JmLmgfgN9IbWzN/Zn5ahfqt4H2qXWPblH0HZ3WUNIOyQAgDYCI2KeLc//Prtu+ty+uXfbvX1DunkrRCJhAccfwuiaH1Z5EvCki5rY6f0Ts1GxFYGkHcj7FDF47Ad+MiNd3Un4rmbkWWFzu/llEbDV2JiJ+G/iDcvdr3Tj99eX7ByJiq6eHEfE6ujetqKQdiAFAGhhTgZ9FxC0RcVpE7F37IiKGR8S0iPgK8Kny46XAD/rw+rVuQAcBf1Vufyczn2pUODPvBL5S7l4eEX8fEfvW1fk1EfE7EXEJ8Eu2HNwo7XAycznF2hgbKBa3eyAizo+IqfVreETE6Ih4N/CPTU51PsXKv/sDi8vxOETEkIh4D3ArxYDeR+newl3zKJ70vQb4j4g4plaviDicYtYh2wBSRQ3rvIikbeBVin9831O+iIgNFF1+xtI+NSAUd/5PbDAzT49l5kMRcS/FNIRvLj9u1v2n5qMUTwnmAGcDZ0fEixR/ll3ZsjHhAkPa4WXmNyPi7cB8ijE6F5evTRGxlmKBr9F1h6wDLgF+XHeOeyPiVIrf31EUQeIFiqlCa7NqPQ4cX784Xxfq9kJEnEgxhejeFA3+lyNiM8WCfOsofsvXNz2JpB2W6V8aAJm5GJgMnAV8A/gZRR//McDLwC+Ar1Ms5vOWzFy9DapR3+B/AbipkzpvyMw/Bt5G0eB5lGJ2oJ0pBjMuAT4LHFwuOibt8DLzxxQrA/8Bxe9iOcXvaVeK/v0/o+hyNxvYKzM/l5nrO5zjeoqngl+m+F29hmLA733AhcCbGi3m1YW6/YTi6cRVFNOBDgOep5hd7FCKJ4uSKijKlcElSZIkVYBPACRJkqQKMQBIkiRJFWIAkCRJkirEACBJkiRViAFAkiRJqhADgCRJklQhBgBJkiSpQgwAkiRJUoUYACRJkqQKMQBIkiRJFWIAkCRJkirEACBJkiRViAFAknYQETE9IrJ8XTTQ9ZEkDU4GAEmSJKlCDACSJElShRgAJEmSpAoxAEiSJEkVYgCQJEmSKsQAIEl9KCJeGxEfi4hvRcTjEfFK+XosIm6MiI9ExOgmxw6LiDkRcWtErI6I30TEmoj4SUR8LiL26uN6fjIi7oiIJ8trPR0RP4iIv4iIXTs5/qK6GYeml58dExFfi4gVEbG+/G7vvqqzJKlvDBvoCkjSjiIi3g3MB/Zs8PU+5etE4AjgjzocewBwM/DGDseNK1+HAWdHxMcy85pe1vN3gIXA6zt8tUf5OhI4JyJOzszvdO2UcRnw8d7US5LUPwwAktQHIuKDwHXA0PKjByga2Y8ACUwC3gYcB0SHYycCP6BofFMeM798HwucAMwAdgLmR8SmzFzQw3pOA24HRpUfLSvr/StgPPBBigCwG/CtiHhXZi7p5LR/VtbvybLeD1L8+/JW4Dc9qackadsxAEhSL0XEvsC/UDT+NwOfAr6Umdmg7Fjgtzt8/M+0N/5vAE7JzPqG8z9FxOnA1RRdN+dFxO2Z+T/drOcQ4FraG///AHwqMzfXFftSRFwAfBYYDlwTEQdk5voWp55BEWDem5kv1H3+1e7UT5LUPxwDIEm9dx7F3XmAv8nMf2jU+AfIzF/X31GPiIOBd5e7K4HTOjT+a8fNB+aVu7vQs+42vwdMLbd/DHyyQ+O/dq2LgVvK3UnAKZ2c9yXgQx0a/5KkQcoAIEm9EBFDgQ+Vu+uAv+rmKd5ft/2PmflKi7KXUHQn6nhcT651abOQUvrrJsc1sjAzV/egPpKkAWAAkKTeORiozepzR2au6+bxb63bbjngNjN/BSwvdw9sNptQF66VwHc7KftD4MVy+/BOyt7VzXpIkgaQAUCSemdi3fbPenB8/dSeP+9C+VqZoBi025NrPdlZUCm7Bj1a7o6LiBEtiq/qZj0kSQPIACBJvVN/F/7FpqWa26V835iZG7pQvv4auzQt1fpaL3WxfFev1arbkiRpkDEASFLv1A983bkHx9fuxA/r5C57o2t0t7tRrfxOLUv1zbUkSYOUAUCSeueJuu0pPTi+firPyV0oXyuTFPPu9+Ra4yOiZViJiAD2K3fXdPHphCRpO2AAkKTeeYD2pwBHR0R3u+Usrdt+Z6uCETEJOLDcXd6DaTdr1wrg2E7Kvo32JwBLWxWUJG1fDACS1AuZuQn4Wrm7C/AX3TzFjXXbZ0bEyBZl/4z2v7cXdvM6HY/5P+Vd/mbObXKcJGk7ZwCQpN77G9oHzJ4bEWc1a1xHxJiIeHttPzMfAL5d7u4LfKXRWICIOJX2xb/WAVf0oJ63AA+V20cCl5arA3e81v8Fji93HwcW9OBakqRBathAV0CStneZuSIizqB4EjAE+CLw4Yi4gWIqzc3ABOAIYAbwDeDOulN8BLgX2AOYCRwaEV8FHgHGACcA760rPzcz68cOdLWemyPiFIo5/kcB51B0W1pAMZZhT+CDwFHlIa9SrEy8vrvXkiQNXgYASeoDmfn1iHgZ+AqwO8UCYQc3Kb65w7FPRMRRwM3AG4EDgM83OO5lisZ/j+/IZ+Z9EXEMRbeevYBDy1dHzwEnZ+aSnl5LkjQ4GQAkqY9k5rciYl9gDsUd+zcB44CNwGpgGUU3nG80OPbnEXEQMBv4A+AQYDeKrkUrgP8ALs/M1X1Qzx9FxGSKJw+/D/wWxZOGFygWGvsWcEVmru3ttSRJg09k5kDXQZIkSVI/cRCwJEmSVCEGAEmSJKlCDACSJElShRgAJEmSpAoxAEiSJEkVYgCQJEmSKsQAIEmSJFWIAUCSJEmqEAOAJEmSVCEGAEmSJKlCDACSJElShRgAJEmSpAoxAEiSJEkVYgCQJEmSKsQAIEmSJFWIAUCSJEmqEAOAJEmSVCEGAEmSJKlCDACSJElShfx/P165T3vDMI4AAAAASUVORK5CYII=\n",
                "text/plain": "<Figure size 360x360 with 3 Axes>"
              }
            ],
            "_view_module": "@jupyter-widgets/output",
            "_model_module_version": "1.0.0",
            "_view_count": null,
            "_view_module_version": "1.0.0",
            "layout": "IPY_MODEL_caf414cbcc2c43e9b93af1c2925a140c",
            "_model_module": "@jupyter-widgets/output"
          }
        },
        "8044f29d2008475899da255f8b958bbe": {
          "model_module": "@jupyter-widgets/controls",
          "model_name": "SliderStyleModel",
          "state": {
            "_view_name": "StyleView",
            "handle_color": null,
            "_model_name": "SliderStyleModel",
            "description_width": "initial",
            "_view_module": "@jupyter-widgets/base",
            "_model_module_version": "1.5.0",
            "_view_count": null,
            "_view_module_version": "1.2.0",
            "_model_module": "@jupyter-widgets/controls"
          }
        },
        "2bb402cd35914525bd9956a36fa22f34": {
          "model_module": "@jupyter-widgets/base",
          "model_name": "LayoutModel",
          "state": {
            "_view_name": "LayoutView",
            "grid_template_rows": null,
            "right": null,
            "justify_content": null,
            "_view_module": "@jupyter-widgets/base",
            "overflow": null,
            "_model_module_version": "1.2.0",
            "_view_count": null,
            "flex_flow": null,
            "width": null,
            "min_width": null,
            "border": null,
            "align_items": null,
            "bottom": null,
            "_model_module": "@jupyter-widgets/base",
            "top": null,
            "grid_column": null,
            "overflow_y": null,
            "overflow_x": null,
            "grid_auto_flow": null,
            "grid_area": "widget002",
            "grid_template_columns": null,
            "flex": null,
            "_model_name": "LayoutModel",
            "justify_items": null,
            "grid_row": null,
            "max_height": null,
            "align_content": null,
            "visibility": null,
            "align_self": null,
            "height": null,
            "min_height": null,
            "padding": null,
            "grid_auto_rows": null,
            "grid_gap": null,
            "max_width": null,
            "order": null,
            "_view_module_version": "1.2.0",
            "grid_template_areas": null,
            "object_position": null,
            "object_fit": null,
            "grid_auto_columns": null,
            "margin": null,
            "display": null,
            "left": null
          }
        },
        "712fac4abae2498da647beda0144dbbd": {
          "model_module": "@jupyter-widgets/controls",
          "model_name": "SliderStyleModel",
          "state": {
            "_view_name": "StyleView",
            "handle_color": null,
            "_model_name": "SliderStyleModel",
            "description_width": "initial",
            "_view_module": "@jupyter-widgets/base",
            "_model_module_version": "1.5.0",
            "_view_count": null,
            "_view_module_version": "1.2.0",
            "_model_module": "@jupyter-widgets/controls"
          }
        },
        "2180025823044a41acefacf63137473d": {
          "model_module": "@jupyter-widgets/base",
          "model_name": "LayoutModel",
          "state": {
            "_view_name": "LayoutView",
            "grid_template_rows": null,
            "right": null,
            "justify_content": null,
            "_view_module": "@jupyter-widgets/base",
            "overflow": null,
            "_model_module_version": "1.2.0",
            "_view_count": null,
            "flex_flow": null,
            "width": null,
            "min_width": null,
            "border": null,
            "align_items": null,
            "bottom": null,
            "_model_module": "@jupyter-widgets/base",
            "top": null,
            "grid_column": null,
            "overflow_y": null,
            "overflow_x": null,
            "grid_auto_flow": null,
            "grid_area": "widget003",
            "grid_template_columns": null,
            "flex": null,
            "_model_name": "LayoutModel",
            "justify_items": null,
            "grid_row": null,
            "max_height": null,
            "align_content": null,
            "visibility": null,
            "align_self": null,
            "height": null,
            "min_height": null,
            "padding": null,
            "grid_auto_rows": null,
            "grid_gap": null,
            "max_width": null,
            "order": null,
            "_view_module_version": "1.2.0",
            "grid_template_areas": null,
            "object_position": null,
            "object_fit": null,
            "grid_auto_columns": null,
            "margin": null,
            "display": null,
            "left": null
          }
        },
        "b8383f60e3854ec6a6d0571dcf0d54b3": {
          "model_module": "@jupyter-widgets/controls",
          "model_name": "SliderStyleModel",
          "state": {
            "_view_name": "StyleView",
            "handle_color": null,
            "_model_name": "SliderStyleModel",
            "description_width": "",
            "_view_module": "@jupyter-widgets/base",
            "_model_module_version": "1.5.0",
            "_view_count": null,
            "_view_module_version": "1.2.0",
            "_model_module": "@jupyter-widgets/controls"
          }
        },
        "2246ec1ed0d94ce0a6197cdbb44b2dc3": {
          "model_module": "@jupyter-widgets/base",
          "model_name": "LayoutModel",
          "state": {
            "_view_name": "LayoutView",
            "grid_template_rows": null,
            "right": null,
            "justify_content": null,
            "_view_module": "@jupyter-widgets/base",
            "overflow": null,
            "_model_module_version": "1.2.0",
            "_view_count": null,
            "flex_flow": null,
            "width": null,
            "min_width": null,
            "border": null,
            "align_items": null,
            "bottom": null,
            "_model_module": "@jupyter-widgets/base",
            "top": null,
            "grid_column": null,
            "overflow_y": null,
            "overflow_x": null,
            "grid_auto_flow": null,
            "grid_area": "widget001",
            "grid_template_columns": null,
            "flex": null,
            "_model_name": "LayoutModel",
            "justify_items": null,
            "grid_row": null,
            "max_height": null,
            "align_content": null,
            "visibility": null,
            "align_self": null,
            "height": null,
            "min_height": null,
            "padding": null,
            "grid_auto_rows": null,
            "grid_gap": null,
            "max_width": null,
            "order": null,
            "_view_module_version": "1.2.0",
            "grid_template_areas": null,
            "object_position": null,
            "object_fit": null,
            "grid_auto_columns": null,
            "margin": null,
            "display": null,
            "left": null
          }
        },
        "caf414cbcc2c43e9b93af1c2925a140c": {
          "model_module": "@jupyter-widgets/base",
          "model_name": "LayoutModel",
          "state": {
            "_view_name": "LayoutView",
            "grid_template_rows": null,
            "right": null,
            "justify_content": null,
            "_view_module": "@jupyter-widgets/base",
            "overflow": null,
            "_model_module_version": "1.2.0",
            "_view_count": null,
            "flex_flow": null,
            "width": null,
            "min_width": null,
            "border": null,
            "align_items": null,
            "bottom": null,
            "_model_module": "@jupyter-widgets/base",
            "top": null,
            "grid_column": null,
            "overflow_y": null,
            "overflow_x": null,
            "grid_auto_flow": null,
            "grid_area": null,
            "grid_template_columns": null,
            "flex": null,
            "_model_name": "LayoutModel",
            "justify_items": null,
            "grid_row": null,
            "max_height": null,
            "align_content": null,
            "visibility": null,
            "align_self": null,
            "height": null,
            "min_height": null,
            "padding": null,
            "grid_auto_rows": null,
            "grid_gap": null,
            "max_width": null,
            "order": null,
            "_view_module_version": "1.2.0",
            "grid_template_areas": null,
            "object_position": null,
            "object_fit": null,
            "grid_auto_columns": null,
            "margin": null,
            "display": null,
            "left": null
          }
        },
        "343905237d514fb0a7fa2bcabf9b26cc": {
          "model_module": "@jupyter-widgets/controls",
          "model_name": "TabModel",
          "state": {
            "_view_name": "TabView",
            "_dom_classes": [],
            "_titles": {
              "0": "Youtube",
              "1": "Bilibili"
            },
            "_model_name": "TabModel",
            "_view_module": "@jupyter-widgets/controls",
            "selected_index": 0,
            "_model_module_version": "1.5.0",
            "_view_count": null,
            "_view_module_version": "1.5.0",
            "box_style": "",
            "layout": "IPY_MODEL_50fef435a5bf4272897ce34ab2a98781",
            "_model_module": "@jupyter-widgets/controls",
            "children": [
              "IPY_MODEL_3d9a1ce47ed8444f9904ba4cdba19411",
              "IPY_MODEL_7ab8771a679b43b1b30afa7108a24b2f"
            ]
          }
        },
        "50fef435a5bf4272897ce34ab2a98781": {
          "model_module": "@jupyter-widgets/base",
          "model_name": "LayoutModel",
          "state": {
            "_view_name": "LayoutView",
            "grid_template_rows": null,
            "right": null,
            "justify_content": null,
            "_view_module": "@jupyter-widgets/base",
            "overflow": null,
            "_model_module_version": "1.2.0",
            "_view_count": null,
            "flex_flow": null,
            "width": null,
            "min_width": null,
            "border": null,
            "align_items": null,
            "bottom": null,
            "_model_module": "@jupyter-widgets/base",
            "top": null,
            "grid_column": null,
            "overflow_y": null,
            "overflow_x": null,
            "grid_auto_flow": null,
            "grid_area": null,
            "grid_template_columns": null,
            "flex": null,
            "_model_name": "LayoutModel",
            "justify_items": null,
            "grid_row": null,
            "max_height": null,
            "align_content": null,
            "visibility": null,
            "align_self": null,
            "height": null,
            "min_height": null,
            "padding": null,
            "grid_auto_rows": null,
            "grid_gap": null,
            "max_width": null,
            "order": null,
            "_view_module_version": "1.2.0",
            "grid_template_areas": null,
            "object_position": null,
            "object_fit": null,
            "grid_auto_columns": null,
            "margin": null,
            "display": null,
            "left": null
          }
        },
        "3d9a1ce47ed8444f9904ba4cdba19411": {
          "model_module": "@jupyter-widgets/output",
          "model_name": "OutputModel",
          "state": {
            "_view_name": "OutputView",
            "msg_id": "",
            "_dom_classes": [],
            "_model_name": "OutputModel",
            "outputs": [
              {
                "output_type": "stream",
                "metadata": {
                  "tags": []
                },
                "text": "Video available at https://youtube.com/watch?v=cOAJQ4utwD0\n",
                "stream": "stdout"
              },
              {
                "output_type": "display_data",
                "metadata": {
                  "tags": []
                },
                "text/html": "\n        <iframe\n            width=\"854\"\n            height=\"480\"\n            src=\"https://www.youtube.com/embed/cOAJQ4utwD0?fs=1&rel=0\"\n            frameborder=\"0\"\n            allowfullscreen\n        ></iframe>\n        ",
                "text/plain": "<IPython.lib.display.YouTubeVideo at 0x7f70de0ff390>",
                "image/jpeg": "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\n"
              }
            ],
            "_view_module": "@jupyter-widgets/output",
            "_model_module_version": "1.0.0",
            "_view_count": null,
            "_view_module_version": "1.0.0",
            "layout": "IPY_MODEL_442be0beba1a4f598a1ae086913038c9",
            "_model_module": "@jupyter-widgets/output"
          }
        },
        "7ab8771a679b43b1b30afa7108a24b2f": {
          "model_module": "@jupyter-widgets/output",
          "model_name": "OutputModel",
          "state": {
            "_view_name": "OutputView",
            "msg_id": "",
            "_dom_classes": [],
            "_model_name": "OutputModel",
            "outputs": [
              {
                "output_type": "stream",
                "metadata": {
                  "tags": []
                },
                "text": "Video available at https://www.bilibili.com/video/BV1fK4y1M7EC\n",
                "stream": "stdout"
              },
              {
                "output_type": "display_data",
                "metadata": {
                  "tags": []
                },
                "text/html": "\n        <iframe\n            width=\"854\"\n            height=\"480\"\n            src=\"https://player.bilibili.com/player.html?bvid=BV1fK4y1M7EC&page=1?fs=1\"\n            frameborder=\"0\"\n            allowfullscreen\n        ></iframe>\n        ",
                "text/plain": "<__main__.BiliVideo at 0x7f70de0c1b90>"
              }
            ],
            "_view_module": "@jupyter-widgets/output",
            "_model_module_version": "1.0.0",
            "_view_count": null,
            "_view_module_version": "1.0.0",
            "layout": "IPY_MODEL_4b4f29c764914bcfb686ab8180fa0203",
            "_model_module": "@jupyter-widgets/output"
          }
        },
        "442be0beba1a4f598a1ae086913038c9": {
          "model_module": "@jupyter-widgets/base",
          "model_name": "LayoutModel",
          "state": {
            "_view_name": "LayoutView",
            "grid_template_rows": null,
            "right": null,
            "justify_content": null,
            "_view_module": "@jupyter-widgets/base",
            "overflow": null,
            "_model_module_version": "1.2.0",
            "_view_count": null,
            "flex_flow": null,
            "width": null,
            "min_width": null,
            "border": null,
            "align_items": null,
            "bottom": null,
            "_model_module": "@jupyter-widgets/base",
            "top": null,
            "grid_column": null,
            "overflow_y": null,
            "overflow_x": null,
            "grid_auto_flow": null,
            "grid_area": null,
            "grid_template_columns": null,
            "flex": null,
            "_model_name": "LayoutModel",
            "justify_items": null,
            "grid_row": null,
            "max_height": null,
            "align_content": null,
            "visibility": null,
            "align_self": null,
            "height": null,
            "min_height": null,
            "padding": null,
            "grid_auto_rows": null,
            "grid_gap": null,
            "max_width": null,
            "order": null,
            "_view_module_version": "1.2.0",
            "grid_template_areas": null,
            "object_position": null,
            "object_fit": null,
            "grid_auto_columns": null,
            "margin": null,
            "display": null,
            "left": null
          }
        },
        "4b4f29c764914bcfb686ab8180fa0203": {
          "model_module": "@jupyter-widgets/base",
          "model_name": "LayoutModel",
          "state": {
            "_view_name": "LayoutView",
            "grid_template_rows": null,
            "right": null,
            "justify_content": null,
            "_view_module": "@jupyter-widgets/base",
            "overflow": null,
            "_model_module_version": "1.2.0",
            "_view_count": null,
            "flex_flow": null,
            "width": null,
            "min_width": null,
            "border": null,
            "align_items": null,
            "bottom": null,
            "_model_module": "@jupyter-widgets/base",
            "top": null,
            "grid_column": null,
            "overflow_y": null,
            "overflow_x": null,
            "grid_auto_flow": null,
            "grid_area": null,
            "grid_template_columns": null,
            "flex": null,
            "_model_name": "LayoutModel",
            "justify_items": null,
            "grid_row": null,
            "max_height": null,
            "align_content": null,
            "visibility": null,
            "align_self": null,
            "height": null,
            "min_height": null,
            "padding": null,
            "grid_auto_rows": null,
            "grid_gap": null,
            "max_width": null,
            "order": null,
            "_view_module_version": "1.2.0",
            "grid_template_areas": null,
            "object_position": null,
            "object_fit": null,
            "grid_auto_columns": null,
            "margin": null,
            "display": null,
            "left": null
          }
        },
        "8604442e2d81482bbc22d167efdf4c31": {
          "model_module": "@jupyter-widgets/controls",
          "model_name": "VBoxModel",
          "state": {
            "_view_name": "VBoxView",
            "_dom_classes": [],
            "_model_name": "VBoxModel",
            "_view_module": "@jupyter-widgets/controls",
            "_model_module_version": "1.5.0",
            "_view_count": null,
            "_view_module_version": "1.5.0",
            "box_style": "",
            "layout": "IPY_MODEL_6a59c0a70c6f42e6886587f15ae15cee",
            "_model_module": "@jupyter-widgets/controls",
            "children": [
              "IPY_MODEL_fb86c008dd8c411b9d1c1a066cdf1601",
              "IPY_MODEL_1638dbb4ac0c45ad820c0b60caa64df2",
              "IPY_MODEL_70d01c0569c54858af81352c50e9b47b"
            ]
          }
        },
        "6a59c0a70c6f42e6886587f15ae15cee": {
          "model_module": "@jupyter-widgets/base",
          "model_name": "LayoutModel",
          "state": {
            "_view_name": "LayoutView",
            "grid_template_rows": null,
            "right": null,
            "justify_content": null,
            "_view_module": "@jupyter-widgets/base",
            "overflow": null,
            "_model_module_version": "1.2.0",
            "_view_count": null,
            "flex_flow": null,
            "width": null,
            "min_width": null,
            "border": null,
            "align_items": null,
            "bottom": null,
            "_model_module": "@jupyter-widgets/base",
            "top": null,
            "grid_column": null,
            "overflow_y": null,
            "overflow_x": null,
            "grid_auto_flow": null,
            "grid_area": null,
            "grid_template_columns": null,
            "flex": null,
            "_model_name": "LayoutModel",
            "justify_items": null,
            "grid_row": null,
            "max_height": null,
            "align_content": null,
            "visibility": null,
            "align_self": null,
            "height": null,
            "min_height": null,
            "padding": null,
            "grid_auto_rows": null,
            "grid_gap": null,
            "max_width": null,
            "order": null,
            "_view_module_version": "1.2.0",
            "grid_template_areas": null,
            "object_position": null,
            "object_fit": null,
            "grid_auto_columns": null,
            "margin": null,
            "display": null,
            "left": null
          }
        },
        "fb86c008dd8c411b9d1c1a066cdf1601": {
          "model_module": "@jupyter-widgets/controls",
          "model_name": "FloatSliderModel",
          "state": {
            "_view_name": "FloatSliderView",
            "style": "IPY_MODEL_8dcfebb55cc347f99709bd371e25a621",
            "_dom_classes": [],
            "description": "p(s = left)",
            "step": 0.01,
            "_model_name": "FloatSliderModel",
            "orientation": "horizontal",
            "max": 0.99,
            "_view_module": "@jupyter-widgets/controls",
            "_model_module_version": "1.5.0",
            "value": 0.61,
            "_view_count": null,
            "disabled": false,
            "_view_module_version": "1.5.0",
            "min": 0.01,
            "continuous_update": true,
            "readout_format": ".2f",
            "description_tooltip": null,
            "readout": true,
            "_model_module": "@jupyter-widgets/controls",
            "layout": "IPY_MODEL_2cca7c3deba04d2f9e0c9b985f869c2d"
          }
        },
        "1638dbb4ac0c45ad820c0b60caa64df2": {
          "model_module": "@jupyter-widgets/controls",
          "model_name": "HBoxModel",
          "state": {
            "_view_name": "HBoxView",
            "_dom_classes": [],
            "_model_name": "HBoxModel",
            "_view_module": "@jupyter-widgets/controls",
            "_model_module_version": "1.5.0",
            "_view_count": null,
            "_view_module_version": "1.5.0",
            "box_style": "",
            "layout": "IPY_MODEL_f40b636b37784fdfb4f58d455dc9f0b1",
            "_model_module": "@jupyter-widgets/controls",
            "children": [
              "IPY_MODEL_2fab4e99c5a245b083a5c993f583d4d5",
              "IPY_MODEL_d9ed145b29b84f65b1f750ecbf72376d"
            ]
          }
        },
        "70d01c0569c54858af81352c50e9b47b": {
          "model_module": "@jupyter-widgets/controls",
          "model_name": "ToggleButtonsModel",
          "state": {
            "_options_labels": [
              "Fish",
              "No Fish"
            ],
            "_view_name": "ToggleButtonsView",
            "style": "IPY_MODEL_218425521ac24dfaa625be862e7dd490",
            "_dom_classes": [],
            "description": "Observation (m) on the left:",
            "_model_name": "ToggleButtonsModel",
            "tooltips": [],
            "index": 0,
            "button_style": "",
            "_view_module": "@jupyter-widgets/controls",
            "_model_module_version": "1.5.0",
            "_view_count": null,
            "disabled": false,
            "_view_module_version": "1.5.0",
            "icons": [],
            "description_tooltip": null,
            "_model_module": "@jupyter-widgets/controls",
            "layout": "IPY_MODEL_93c578d4e9c54cbcbf8e2b697bfdaecd"
          }
        },
        "8dcfebb55cc347f99709bd371e25a621": {
          "model_module": "@jupyter-widgets/controls",
          "model_name": "SliderStyleModel",
          "state": {
            "_view_name": "StyleView",
            "handle_color": null,
            "_model_name": "SliderStyleModel",
            "description_width": "",
            "_view_module": "@jupyter-widgets/base",
            "_model_module_version": "1.5.0",
            "_view_count": null,
            "_view_module_version": "1.2.0",
            "_model_module": "@jupyter-widgets/controls"
          }
        },
        "2cca7c3deba04d2f9e0c9b985f869c2d": {
          "model_module": "@jupyter-widgets/base",
          "model_name": "LayoutModel",
          "state": {
            "_view_name": "LayoutView",
            "grid_template_rows": null,
            "right": null,
            "justify_content": null,
            "_view_module": "@jupyter-widgets/base",
            "overflow": null,
            "_model_module_version": "1.2.0",
            "_view_count": null,
            "flex_flow": null,
            "width": null,
            "min_width": null,
            "border": null,
            "align_items": null,
            "bottom": null,
            "_model_module": "@jupyter-widgets/base",
            "top": null,
            "grid_column": null,
            "overflow_y": null,
            "overflow_x": null,
            "grid_auto_flow": null,
            "grid_area": null,
            "grid_template_columns": null,
            "flex": null,
            "_model_name": "LayoutModel",
            "justify_items": null,
            "grid_row": null,
            "max_height": null,
            "align_content": null,
            "visibility": null,
            "align_self": null,
            "height": null,
            "min_height": null,
            "padding": null,
            "grid_auto_rows": null,
            "grid_gap": null,
            "max_width": null,
            "order": null,
            "_view_module_version": "1.2.0",
            "grid_template_areas": null,
            "object_position": null,
            "object_fit": null,
            "grid_auto_columns": null,
            "margin": null,
            "display": null,
            "left": null
          }
        },
        "f40b636b37784fdfb4f58d455dc9f0b1": {
          "model_module": "@jupyter-widgets/base",
          "model_name": "LayoutModel",
          "state": {
            "_view_name": "LayoutView",
            "grid_template_rows": null,
            "right": null,
            "justify_content": null,
            "_view_module": "@jupyter-widgets/base",
            "overflow": null,
            "_model_module_version": "1.2.0",
            "_view_count": null,
            "flex_flow": null,
            "width": null,
            "min_width": null,
            "border": null,
            "align_items": null,
            "bottom": null,
            "_model_module": "@jupyter-widgets/base",
            "top": null,
            "grid_column": null,
            "overflow_y": null,
            "overflow_x": null,
            "grid_auto_flow": null,
            "grid_area": null,
            "grid_template_columns": null,
            "flex": null,
            "_model_name": "LayoutModel",
            "justify_items": null,
            "grid_row": null,
            "max_height": null,
            "align_content": null,
            "visibility": null,
            "align_self": null,
            "height": null,
            "min_height": null,
            "padding": null,
            "grid_auto_rows": null,
            "grid_gap": null,
            "max_width": null,
            "order": null,
            "_view_module_version": "1.2.0",
            "grid_template_areas": null,
            "object_position": null,
            "object_fit": null,
            "grid_auto_columns": null,
            "margin": null,
            "display": null,
            "left": null
          }
        },
        "2fab4e99c5a245b083a5c993f583d4d5": {
          "model_module": "@jupyter-widgets/controls",
          "model_name": "FloatSliderModel",
          "state": {
            "_view_name": "FloatSliderView",
            "style": "IPY_MODEL_75028dd63e9245ac800a75782d8b50a3",
            "_dom_classes": [],
            "description": "p(fish on left | state = left)",
            "step": 0.01,
            "_model_name": "FloatSliderModel",
            "orientation": "horizontal",
            "max": 0.99,
            "_view_module": "@jupyter-widgets/controls",
            "_model_module_version": "1.5.0",
            "value": 0.84,
            "_view_count": null,
            "disabled": false,
            "_view_module_version": "1.5.0",
            "min": 0.01,
            "continuous_update": true,
            "readout_format": ".2f",
            "description_tooltip": null,
            "readout": true,
            "_model_module": "@jupyter-widgets/controls",
            "layout": "IPY_MODEL_f523d50335234cce8aec749cafa0ad5c"
          }
        },
        "d9ed145b29b84f65b1f750ecbf72376d": {
          "model_module": "@jupyter-widgets/controls",
          "model_name": "FloatSliderModel",
          "state": {
            "_view_name": "FloatSliderView",
            "style": "IPY_MODEL_9f2f083242734184b571e165964a4b71",
            "_dom_classes": [],
            "description": "p(fish on left | state = right)",
            "step": 0.01,
            "_model_name": "FloatSliderModel",
            "orientation": "horizontal",
            "max": 0.99,
            "_view_module": "@jupyter-widgets/controls",
            "_model_module_version": "1.5.0",
            "value": 0.1,
            "_view_count": null,
            "disabled": false,
            "_view_module_version": "1.5.0",
            "min": 0.01,
            "continuous_update": true,
            "readout_format": ".2f",
            "description_tooltip": null,
            "readout": true,
            "_model_module": "@jupyter-widgets/controls",
            "layout": "IPY_MODEL_f9d3d0a19f5b44ce9da0789ef5b46ec8"
          }
        },
        "218425521ac24dfaa625be862e7dd490": {
          "model_module": "@jupyter-widgets/controls",
          "model_name": "ToggleButtonsStyleModel",
          "state": {
            "_view_name": "StyleView",
            "button_width": "",
            "_model_name": "ToggleButtonsStyleModel",
            "description_width": "initial",
            "_view_module": "@jupyter-widgets/base",
            "_model_module_version": "1.5.0",
            "_view_count": null,
            "font_weight": "",
            "_view_module_version": "1.2.0",
            "_model_module": "@jupyter-widgets/controls"
          }
        },
        "93c578d4e9c54cbcbf8e2b697bfdaecd": {
          "model_module": "@jupyter-widgets/base",
          "model_name": "LayoutModel",
          "state": {
            "_view_name": "LayoutView",
            "grid_template_rows": null,
            "right": null,
            "justify_content": null,
            "_view_module": "@jupyter-widgets/base",
            "overflow": null,
            "_model_module_version": "1.2.0",
            "_view_count": null,
            "flex_flow": null,
            "width": "auto",
            "min_width": null,
            "border": null,
            "align_items": null,
            "bottom": null,
            "_model_module": "@jupyter-widgets/base",
            "top": null,
            "grid_column": null,
            "overflow_y": null,
            "overflow_x": null,
            "grid_auto_flow": null,
            "grid_area": null,
            "grid_template_columns": null,
            "flex": null,
            "_model_name": "LayoutModel",
            "justify_items": null,
            "grid_row": null,
            "max_height": null,
            "align_content": null,
            "visibility": null,
            "align_self": null,
            "height": null,
            "min_height": null,
            "padding": null,
            "grid_auto_rows": null,
            "grid_gap": null,
            "max_width": null,
            "order": null,
            "_view_module_version": "1.2.0",
            "grid_template_areas": null,
            "object_position": null,
            "object_fit": null,
            "grid_auto_columns": null,
            "margin": null,
            "display": "flex",
            "left": null
          }
        },
        "75028dd63e9245ac800a75782d8b50a3": {
          "model_module": "@jupyter-widgets/controls",
          "model_name": "SliderStyleModel",
          "state": {
            "_view_name": "StyleView",
            "handle_color": null,
            "_model_name": "SliderStyleModel",
            "description_width": "initial",
            "_view_module": "@jupyter-widgets/base",
            "_model_module_version": "1.5.0",
            "_view_count": null,
            "_view_module_version": "1.2.0",
            "_model_module": "@jupyter-widgets/controls"
          }
        },
        "f523d50335234cce8aec749cafa0ad5c": {
          "model_module": "@jupyter-widgets/base",
          "model_name": "LayoutModel",
          "state": {
            "_view_name": "LayoutView",
            "grid_template_rows": null,
            "right": null,
            "justify_content": null,
            "_view_module": "@jupyter-widgets/base",
            "overflow": null,
            "_model_module_version": "1.2.0",
            "_view_count": null,
            "flex_flow": null,
            "width": "370px",
            "min_width": null,
            "border": null,
            "align_items": null,
            "bottom": null,
            "_model_module": "@jupyter-widgets/base",
            "top": null,
            "grid_column": null,
            "overflow_y": null,
            "overflow_x": null,
            "grid_auto_flow": null,
            "grid_area": null,
            "grid_template_columns": null,
            "flex": null,
            "_model_name": "LayoutModel",
            "justify_items": null,
            "grid_row": null,
            "max_height": null,
            "align_content": null,
            "visibility": null,
            "align_self": null,
            "height": null,
            "min_height": null,
            "padding": null,
            "grid_auto_rows": null,
            "grid_gap": null,
            "max_width": null,
            "order": null,
            "_view_module_version": "1.2.0",
            "grid_template_areas": null,
            "object_position": null,
            "object_fit": null,
            "grid_auto_columns": null,
            "margin": null,
            "display": null,
            "left": null
          }
        },
        "9f2f083242734184b571e165964a4b71": {
          "model_module": "@jupyter-widgets/controls",
          "model_name": "SliderStyleModel",
          "state": {
            "_view_name": "StyleView",
            "handle_color": null,
            "_model_name": "SliderStyleModel",
            "description_width": "initial",
            "_view_module": "@jupyter-widgets/base",
            "_model_module_version": "1.5.0",
            "_view_count": null,
            "_view_module_version": "1.2.0",
            "_model_module": "@jupyter-widgets/controls"
          }
        },
        "f9d3d0a19f5b44ce9da0789ef5b46ec8": {
          "model_module": "@jupyter-widgets/base",
          "model_name": "LayoutModel",
          "state": {
            "_view_name": "LayoutView",
            "grid_template_rows": null,
            "right": null,
            "justify_content": null,
            "_view_module": "@jupyter-widgets/base",
            "overflow": null,
            "_model_module_version": "1.2.0",
            "_view_count": null,
            "flex_flow": null,
            "width": "370px",
            "min_width": null,
            "border": null,
            "align_items": null,
            "bottom": null,
            "_model_module": "@jupyter-widgets/base",
            "top": null,
            "grid_column": null,
            "overflow_y": null,
            "overflow_x": null,
            "grid_auto_flow": null,
            "grid_area": null,
            "grid_template_columns": null,
            "flex": null,
            "_model_name": "LayoutModel",
            "justify_items": null,
            "grid_row": null,
            "max_height": null,
            "align_content": null,
            "visibility": null,
            "align_self": null,
            "height": null,
            "min_height": null,
            "padding": null,
            "grid_auto_rows": null,
            "grid_gap": null,
            "max_width": null,
            "order": null,
            "_view_module_version": "1.2.0",
            "grid_template_areas": null,
            "object_position": null,
            "object_fit": null,
            "grid_auto_columns": null,
            "margin": null,
            "display": null,
            "left": null
          }
        },
        "0e865158f0234df5bc1d2defbc19a04f": {
          "model_module": "@jupyter-widgets/output",
          "model_name": "OutputModel",
          "state": {
            "_view_name": "OutputView",
            "msg_id": "",
            "_dom_classes": [],
            "_model_name": "OutputModel",
            "outputs": [
              {
                "output_type": "display_data",
                "metadata": {
                  "tags": [],
                  "image/png": {
                    "width": 805,
                    "height": 345
                  },
                  "needs_background": "light"
                },
                "image/png": "iVBORw0KGgoAAAANSUhEUgAABkoAAAKyCAYAAACaO4JvAAAABHNCSVQICAgIfAhkiAAAAAlwSFlzAAAWJQAAFiUBSVIk8AAAADh0RVh0U29mdHdhcmUAbWF0cGxvdGxpYiB2ZXJzaW9uMy4yLjIsIGh0dHA6Ly9tYXRwbG90bGliLm9yZy+WH4yJAAAgAElEQVR4nOzdd5ycVbnA8d+ThBB6D00gSlEBRQFFLDQREVFAsYvGrqDitVz1igoiyhW7KIIKEbyIIgKKCigBQVSQ0KsgXQwl9Jb63D/Ou+y7k9nd2d3ZnU3m9/185pN33jnvOc+Uzc6e55TITCRJkiRJkiRJkrrRhE4HIEmSJEmSJEmS1CkmSiRJkiRJkiRJUtcyUSJJkiRJkiRJkrqWiRJJkiRJkiRJktS1TJRIkiRJkiRJkqSuZaJEkiRJkiRJkiR1LRMlkiRJkiRJkiSpa5kokSRJkiRJkiRJXctEiSRJkiRJkiRJ6lomSiRJkiRJkiRJUtcyUSJJkiRJkiRJkrqWiRJJkiRJkiRJktS1TJRIkiRJkiRJkqSuZaJEkiRJkiRJkiR1LRMlkiRJGrciYkZEZHWbMUC582rlDh67CIcmIm6txTm9DeWydttpFEJeakXEtIbXb1qnYxqqiNgmIhZW8Z/Y6XhGQ8P7dGun42kmIjaJiHlVjH/odDySJEkaOhMlkiRJapuIOLje+dzpeKSlVUQE8H3K33TzgM91NqLulZk3AcdUd3ePiL06GY8kSZKGzkSJJEmSJC153gpsVx0fl5m3dDIYcRgwtzr+ekRM6mQwkiRJGhoTJZIkSZK0BKk64Q+p7i4EvtbBcARk5n+AGdXdTYB3dS4aSZIkDZWJEkmSJI1bmTk9M6O6Te90PGMlM6fVnveMTsejceetwMbV8W8y8+ZOBqOnfKd2/D8RMbFjkUiSJGlITJRIkiRJ0pLl47XjozsWhfrIzOuAv1R3pwH7dC4aSZIkDYWJEkmSJElaQkTES4CtqruzgT92MBwt7qe14/07FoUkSZKGxESJJEmSxq2ImBERWd1mtLHe/SNiYa3u0yJiuX7KToqIN0XE8RFxfUTcHxFzI+LfEXFORHwqIlZvV2xVm7fWYps+xGsnRcQbIuK3EXFLRDwZEfdFxN8j4qCIWGUY8Tw3Ig6PiEsi4u6ImBcR90TErIj4WkQ8f6h1jla9UbwxIk6PiNur539XRPwlIj7W7veqSfuLvXcRsUxEvDkizqi9J3dHxAVVTCsMoYl31o5PycxFLcSUtdtO1bkpETE9Is6uXqe5ETGnuv+GfupZKyIOjoh/RMTD1TW3RcQJEbHNEJ7DuBIRu0XETyLiyoh4ICIWRMQT1Xv0j4j4aUR8ICLWbqG60yj7xgDsFBEbjmLokiRJapNJnQ5AkiRJGksRcRjwP7VTRwMHZObCJmVfCXwP2LRJVetVt10o+xF8IjOPHYWQWxYRGwE/B7ZveGhZYA1gO+AjEfHqzLykhfpWAI4E3sHig6zWqm5bA5+MiJ8B+2fmox2sd33K839Zw0PrVreXAP8dEW8Gbh+svnaIiA2AXwIvanhoanV7KXBgRLwtM/86SF0TgNfVTv1+mDE9q4rpOQ0PrQ68AnhFRJwATO9JxETEvsBPgJUbrtkQeDvw1upn4NvDiakTqsTHL4Admzw8EZhCeY+2pXxWD63u9ysz74uIiyk/gwG8AfhGG8OWJEnSKHBGiSRJkrpCNdNiBn2TJF/MzA/2kyT5EPA7+iZJ5gB/B84FbqydXxX4SUR8ru2Bt24qcD69SZLbq/t/Ax5rKHdWRKwzUGURsSowE5hO378brgPOA64Bsqc4sB9wbkSs1qF6167qrSdJFgJXVPXeVJ1bFziTxZMEo2FF4E/0JklmAxcAF9P3PZlGeU8aE1yNXkRJeEF5bhcMI6Z1KZ/fnud/Q3X/MqA+O2U/4GsAEfFGSkJhZWBBVXYmfX8GJgDfiog9hxHTmIuIZYFz6JskmQ9cTXk9zgUup+/71Orfz+fWjl89gjAlSZI0RkyUSJIkaalXzWD4Lb3LFi0E3peZX+qn/KuA71NGlUPZoHkHYK3M3D4zd8nMzYDNgDNqlx4aEbuNxnNowfcpo/v/DGydmRtl5o6Z+WJgTeCwWtnVKaPjB/JD4IW1+78BnpGZm2fmzpm5JaWD/5RamW2BYzpU748p70ePGcDTMvN5Vb2bAs+lJI6Wo8yOGG1fqGK6A9gTWC8zd8jM7SgJq08D86qyKwInRcRKA9S3c+34usx8ZBgxfQ9Yh/LzsGlmPqv6PG8NPB2oz2r5SETsCBxHSVr9L+VnYOvMfHn1M/Ay4J7aNd+KiBhGXGPtg8AW1fF8ynuxRmY+p3o9dsnM5wMrAc8DDgHuarHui2rHL4mIye0KWpIkSaPDRIkkSZKWahExlTKjYPfq1OPAPpn5437Kr0jZkLmns/d4YKfMvCAzs142M28EXgv8X8/lwDfb+gRatyal83vXzLys/kBmPpmZB9E3OfDm6H9flt2AN9VOnQjsnZm3NNR7O2VpoeNrp/eNiKaj6Eex3j0oiYge38vMd2Xm7IZ6rwJeTkmWrNWsrjZbi5JE2CEzf1f//GTm45n5NcrMjR4b0nfGU6MX1I6vHGZMa1Be970y86b6A9XrvhfwUHVqMnA2sDzwocz8TGY+2HDNX+j7HDZh8aXPxqPX1I6PyMyvNUs8ZXFFZh4MtLpnzhW148nAVsMPU5IkSWPBRIkkSZKWWhGxCWWE/LbVqTnAyzPztwNc9l56O9H/Bby/2dJcParO7/2Bng7kLSJilxEFPjyPUPaUWDBAma/Vjlek/47fA2vHd1M6ybNZwer8AfQdbf+xMa73gNrxbcB/91OOzHwCeDdlCamx8OnMvHWAeH5J39kz7x1gBsLmteOb+ikzmAcZ+HW/j7J/SY/JwMzMPLq/CjPz7IZ4XjrM2MbSBrXjlpYwG+j/gQa3U2ap9Niy1aAkSZLUGSZKJEmStFSKiBdQkiQbV6duA16amX8f5NLptePvZubcwdrKzIeBU2undh1CqO1yUmbeP1CBzPwnZZ+MHls0lomI5YH68mE/qp7fQPU+CtQ70neJiD6bfo9ivSsAr2yo98lB6r0e+ONAZdrkfnpnGw3ku7XjNWmyuXi1nNVGtVP/HmZMJw32ulP24akbbNmzxms277fU+PFE7bjVmSItqZJQ9fdnWjvrlyRJUvuZKJEkSdJSp9pj5Fx6Z4ZcAWxfdZAPdN2q9N3keyid6fXldrbtt9ToubDFcnfWjldt8vgLgEm1+wPNvqk7vXY8AdhujOrdht69ZAD+0GK9v2ux3Eick5nzBy/GBZQZQT0anyPAKpTZHT0GTIoN4G8tlJndcL+Va/5TO16t9XA65h+14y9GxPuqDd7b5YHa8dQ21itJkqRRMGnwIpIkSdISZU/gc/R+1z2Xsg/GYKPooSRJ6oOJvhsRrS63s37teCz2v2jU2Lndn8dqx8s3eXyT2nHS+l4Y11KWs+p53Tehb6JptOqtb+CewDUt1ntVi+VGoqU2MjMj4mpg++rUZk2KrdBw/4kmZVrRyufk8RFe0+xzNd58B3gHJfm0LGXWzNcj4izgfMoMmcuGsNxWo/rr0fjeSZIkaZwxUSJJkqSlzTa14/nAB1pMkkDZ6LpuuEtorTLM60Zi0CXCmogm5+qzAR4dbBmrHpk5PyIeovc1bJxVMFb1tvo6zGmx3EgMpY162VZmZDR771oxb6gXZOZQrxlubGMmM6+OiDcDx1P26wFYGXhDdQN4OCL+VJX5TX/7uvRj3L8GkiRJ6uXSW5IkSVrazKR3tP0ywB8j4uktXtuukd9L8vfs+vJDQ+0grycppoxRvfXlqIZS73ASS0M13HiaLQH1WMP95YYejuoy81TK7J0jgLuaFFkZeB1wGnBpRAxl75X6+9P43kmSJGmcWZL/gJMkSZKauQDYg97OyY2AP0fEJv1f8pQHG+6vnpkxjNu0Nj6fsVZ/DVYa4rX1jdYbX8vRqrc+W2go9a48eJERG248DzV5/CH6Jl5WH1ZE6iMz/5OZ/52Z6wNbAB8AfsbiiZPnUf4f2bDFquvvzz0jj1SSJEmjyUSJJEmSljqZeR6wO70bZG9A6eR85iCXNu7FsHabQ1sS1Dt1J0fE01q5KCKm0ruEUWM9o1nv3Q31rtdKvcAzWiw3Eq3OZIK+8dzd+GC17NNttVMtvX5qXWZem5nHZOZ+lNf3xcDvakXWBA4arJ6ICKD+Oby1nXFKkiSp/UyUSJIkaamUmX8BdqN3dP56wHmDLJ9zJX2Xydm+v4JLsVkN91/c4nWN5S7pUL3btVhvq+VGoqU2ImJN+iZKGp9Tj/pG9a3MkNIwZfE34LWUzd17vLKFyzeiLPvX46p2xiZJkqT2M1EiSZKkpVZm/p2yIfsD1al1KMmS5/ZTfj7wp9qp945uhONPZt4M3Fk7tV+Ll76zdnw3cMMY1fuvhnrfMliFETEJeGOL7Y/ECyNi4xbKvZW+m3+f30+5f9SOm36G1V6ZuYiyR0mPdVq4bKva8TxKAlaSJEnjmIkSSZIkLdUy8xJgF+C+6tRawMyIeH4/lxxRO35xRHxwNOMbp35UO94zInYeqHBE7ADsXb++WipqrOqdUTt+fUS8YKB6gQOAVveaGKnDB3owIlYBPls7dV6V/GnmvNrxM6trNQzV8litqi/9dn8L5esziS7MzHn9lpQkSdK4YKJEkiRJS73MvBzYmd79LdYAzmnWoZ6ZFwIn1U4dGRGfrmYh9CsilomI10bEuRGxUbti75AfAPfW7p8cEds0K1glnH5VOzUH+N4Y13skvZu8TwBOjYhn9VPvXvRNho22fSPi0GYd8xGxKnA6fWcpfHmAui6it6N+IrBD26LsPldGxPSIWGGgQhHxDGD/2qlzW6i7ngD8/XCCkyRJ0tga8I89SZIkaSQi4skhXnJFZo7K3hGZeXVE7AScA6wLrAb8MSJ2r5boqnsPsBmwNaVD+nBg/4j4BXAxpbM/gFWrcttS9kPpGeE/lNHq405m3hcR76F04gclsfT3iDiB0vF7D2Vmzu6UpbF69mNI4H2Z2bjh+mjXe3dEfIzemSXrA5dFxE8oS6ndT9mc+/XA66oyJ1KWvBpNv6As8XUQsFtEHEdZOmxZ4IXAB+i76fePMvOc/irLzIUR8Wt6l4R7NfDb0Qi8C2wJHAd8PyL+SElCXUdvImo9SiJqP3pnlMwDvjpQpdV+Mz0J2ARObm/YkiRJGg0mSjQiETGD3nWjf5qZ0zsXzdIjIk6nbBy5EHhOZl43im1NAq4FNqWs+71ZZj48Wu1JkrrOsqNcfkgy87oqWTKT0pm+CnB2ROxRbf7eU+7xiNiR0vH++ur0hsCnRjO+8SQzfxsRbwGOByZT/nZ4V3VrZj4wPTNP7VC9P42IdentyJ5CWWLrgCbFfw98gdFPlJxJ2Z/iMEpi5IUDlD2NvjMX+vNTehMle0fE/tU+Ghqe5YG9qttAngTelpmDbcy+NyW5CnB+Zt42wvgkSZI0Blx6awkTEQdHRA5wWxQRD0XEzRFxWkR8IiKmdjputS4i9qAkSQCOHc0kCUBmLgD+p7q7NnDIaLYnSVKnZeY/KSPFb69OrQScWSVQ6uUezcx9gVdR9oZYOEjVtwJHAS/NzFvbF3HnZOYvKJuG/5qSsGhmAWWGyFaZeWKH6z2cMhvlhn6KzKHM7ngNg7+fbZGZXwH2AW4aIKYDgddX38sGq+8v9G4OvjZlJpOG7gBKwuyRQco9CfycMnjp1y3U+/ba8VHDjE2SlkgRsVO9j6rT8SwtImKf2uv6lU7H00xDf+XBnY5nNETEjrXn6O/4pVA03wtR41X1n80Xh3jZPMpyEYe28sfXEOOZgTNK2iYiJgJXA8+idBpsnJl3jFHblwNbUTolnjXAJqKSJHWlauPsl1CWcFqDsqzOQ5QEybVL+8jxiFgZ2BHYgLLk2EPAHcCfM/OhcVjvNsDzKUt53Q/cQtkofVQ31o6IW4GePWrelZkzao9tB2xOSXA8QknonDfU7+gR8U56lxk7LTP3GVnU41dETKO8dwC3Zea0Ntc/kfKebEb52V6RkkR7gPL+XJKZj7ZY1zOB66u7twPPyMwxSchJS4sW+jyS8v/nHErS+ALghP6WZtTYqgadPLWXU2Yu0UuRjgcRsRxlaciNgPso/UTjbhWQhp/dQzLz4M5FM3oi4gzK0qeLgG0z87IOh6Q2cumtJd9ZDfcnAKtT1tztWbpiMmVpgWdHxJvS7Nh49g5KkgTgZ2OVJKkcThktNwn4EvC2MWxbkqRxr+q079qNmas/ytu+H8Yo1jsLmNXuekciMy+i7IUxUv8HfB7YGHhNRDwjM29uQ71dp0pkXFXdRurA2vFXTJJIoyKAlavb0ynL5n0lIkZlcOhYiIjplD2TYBQSwlrifZzeARjfGI9Jki7zBUqiZALwTWDnzoajdnLprSVcZu7ecNstM7elbE76ccpU8R5voLV1j4fS/vTMjOo2vZ11d5uImAB8rnbq22McwsnAv6vjN0fEJmPcviRJklpQdQT2jNqcSBftnTNeRcQ69O6z8y/g2A6GIy1Nzmq4/ZGSBJ9bK9MzOPTEiHAGg5YaEbEa8Mnq7kPADzoYjoDMvJTeQes7RcQrOhmP2stEyVIqM5/IzG9RNhOszyA5qOqQ1/izF2VUIMDfM/PKgQq3WzXirWcUywTgY2PZviRJkobkRODi6vjd1RJV6pzPAVOq409lZn9770gagk4PDtXQZOZ5tcG0Jq1G7iOUZUmh7GHrbJLxoT6w+fMdi0JtZ4f5Ui4zz6LvUgbrANt0KBwNrP6F7vgOxVBv950RsUKH4pAkSdIAquV096eskT0ZGJebu3aDiNgY+EB196zMPLWT8UjdwMGhWtpFxLLAAbVTx3QqFi3mbKBnb8KXVfviaSngL4/u0Ljm81b1OxExIyKyus2onX9ZRBwVEVdHxJzq8VtbuXYgEbFsRLw7Ik6JiJsj4tGIeCwibomIUyPivRExZfCaICLOq7V/cO38HhFxfERcHxEPVo+f10qd/bQzvdbOrbXzm0bE4RFxefUaPR4RN0bEjyLiRUOo/2nALtXdRcCvh3DtlhHxtYj4a0TcGxHzqtv9EXFVRPw6Ij4dEc8erK7MvBG4orq7IvC6VuOQJEnS2MrMWZk5sRq5+9ZOx9OtMvNfmTm5eh9273Q8UjdxcKiWYvsCU6vjizPz+k4Go16ZuQj4We3UAf2V1ZLFREl3aNwQfM2BCkfEChFxHHA+8EFgC8oG8SMWEbsDNwA/oXTCPx1YAVgemEYZDfIj4J8R8eph1L9WRPwO+B2wH/BMYJV2xN6krQOAq4FPU5JPqwPLAZsA7wX+GhE/iIhJLVT3enp/Hmdl5t0ttD8pIr4PXElZl3p7ynu7THVbDdgS2IeyUfu1EbF5C7HUN6l9YwvlJUmSJEnqlAEHh9ZFxHOrwY6XRMTd1SDDeyJiVjUA8flDaTgi1o6IT0XE2RFxZzV4cn5EPFwNojwrIg6LiB0bZ7r0DPykdwlsgI1qgzQbbwcPEstqEfHhiDijyaDUX0XEO1rpn4iInert1s6vFxH/HREXVs91flVmp8GubaHNl0TEdyPiyoi4LyLmRsR/IuJvEXFItLiH6gCDXDep6vlHVe+Cqsy0VmNs0lb9vdmpOrd8lMG/50TEHRHxZET8u/p8vCcilhlCE++sHZ88hLhWiYgPRcRvI+LW6nOwICIeqT4LMyPi61EGGA8lno6IiGkNr/W06vwq1ef9/Oo1nhcRsyPitOhn35CqriOqz9mjEfFERPwrIn7Y6mes5le1430jYvnhPUONJ6104GrJ1/gf37wBygbwf5T9MgAeBa4DHgc2rB4floh4B2VTw4m10w9W9SclqbFGdX4D4PSIeF9mHkdrlqUkSF5Q3b8f+CcwH3jGcONuJiLeDxxZ3V1ASZg8SIm7Z5+RAD4ErBkRb64yzv2pJ4XObTGMHwLvaTh3M3An5TmvRElErVV7vJXk6LnAZ6vjXSJiSmY+OdAFkiRJKjJzWqdjkKQuM+jg0CjLSh8JvIPF/y5eq7ptDXwyIn4G7J+Zjw7UaES8F/gWZTWGRitVt02A3YD/oYw6H5XNuCPivygb2q/a5OFp1e31lKXJ9svMi4ZY/1uBo4CVRxbpYvVOBX4MvKbJw+tUtxcBn42I7wGfzswFQ2zj48BXKctUjpqI2JLSef7MhofWq26vAD4aEW8abHZIRKxO76oj0HdA60DXvZbyeq7V5OEVq9s0YGfgE8ARwH+3Uvd4EhHbAydR+inr1qb0Z+4VEV/JzM/Vrvkw8HVK32HdMyjLZ06vfjZaSkpl5uUR8R9gXcrP+quAU4bzfDR+mCjpDo1LLg00W2Efyg/4HOCTwImZ+VRiZRgZ1p7rtqLMFOlJkjwA/FdV//yqzCTKDIbvUhImE4GjI+LyzLyshWYOqGK/DTgQOKPaoHxEsTexBvCd6vgY4KDMvLfWzvOAo4EXVqfeAFxYu6aP6nm/tHbq4mblGq55Hn2TJD8FPp+ZjV8QiYgNgT2B9w9Wb5P2l6d8KTmvxWslSZKkdnoQOKR2LEmNBhwcGhGrAmfR+zd6j+so/SNrAZtTBjsGZXWKZ0fEbpn5QLMGI2I/Sh9H3d3AvygDTVegdKBuRO+A08YEzcWUzejXp6wGQXX/z83aBG5qEsckyood72h46Dbg9up4U0rCoef43Ih4bWb+qZ92Gtt4HWVALZRBrj2v2+rAs1qpo596NwTOoSSTeiwErqEMfF2/ihfKe/xxyvuyT2bObbGNjwPfqNV9dVX31JHE3sT6wC/pTVDcBtxKSUw8h94kzXMpr/8O1dLn/dmd3v6zezLz2sECiIidKR319b7e+4EbgUcoK6CsTUkM9HwWl8SVhrakJElWoCxdfy1wL+U93aJW7n8i4j+ZeWREfJKSFILyM3Y15TXZmN5ky7LAiRFxY2Ze3mIs5wI9S5++GhMlSzwTJUu5iAh6f2h7/G2AS1YCHgN2ysyrGx/MzMV+MbfoKHp/MTwG7JqZlzbUvYDyn9I1wAVVLMtQkhEvYHArAf8GXpKZ/25j7I16RosckZmLZd6rrPIulOTCttXpwyLiZ5k5p0l9W1J+YfW4soUY9qwdX5iZ0/srmJm3U0at/CAiJvZXrlb+oWqK6rTq1AswUSJJkqQOyMwHgYM7HYekcW2wwaE/pG+S5DfAxzLzlp4TVaf9NymzLqD8LX8MZeBjH1Vy4hu1UxcDH87MfzQpuwrwSkoio88qEz39CRExnd7lt+4e4l5HX6ZvkuQ44CuN/R9VJ/r3Ka/VcpS+l60y8z8ttDGj+vdHwBfr11QzH4as6pv4OX2TJD+mDES9u1Zuc0p/xo7VqVcBh1EG9g5mKvC/lNf9cODr9cRXRKxHGcTbDt+iJEmuAT6QmRfW2lmVMqPok5Sk2TqU1/9F9cG9DXauHQ86mLbyTXr7eW+kLKV/bmb2WQKtWiJqF0pf4fwW6x5PZlCSJMdSPi/1z+MWlGRFz6yeL0TEDZTPwVzgIOAHmfl47Zq9KYnA5Smv3zeAl7cYy0X09rnuMlBBLRmWxMyhhuYQ4Hm1+7My8+ZBrjm0WZJkuCJiW8r+GT2+1JgkqcvMK+j7x9C2EfGSFpv7RLMkySi4Efhcfw9m5mOUGR89X4RWoO/6knX1fUMWAbf0U65ug9rxX1oo3xNXf7+EG9W/VG3ZbylJkiRJkjpksMGhEbEb8KbaYycCe9eTJPDUAMM3AMfXTu8bzfdOfRG9MwceBXZvliSp6n0oM3+ZmXtSVp5om4h4EX2XTXp/Zr672SDRzDyX0i9zXXVqLUqncStWAg7JzPc3JlYy8/7MvH/o0fMe4MW1+4dn5vsa92utZlLsRpl50uPjEfGcFtpYjtLx/Z7M/Fzj7KDMvCsznxhG7M2sRdmPd4d6kqRq58EqKfaZ2ultKXvb9qc+WHjQwbQR8TR6+/4S2DMzZzYmSap4Hs/MMzLzrbT+GRhP1qB8Xt7T5PN4DWXv457l2dYCzqAkqPbJzK/XkyTVNadRVrzpsXNEbNRiLFfUjjeKiGZLnmkJYqJkKRPFGhGxe5RNzT9fe3gRZePxgSykZPHb6XW148cps0sGczTlC0ePfVq45j7Gbprb0T1LhvUnM6+k75TZ1/dT9Om147tbXG+z/st8SJvNtejO2vG0UahfkiRJkqSRGmxw6IG147uBDzXrPAaozh8A3FU7/bEmResDF6/pb3muJvW3OnCxVZ+hd1mvEzKzcSmwxvYfouzF0GN6RKzUQjvXAIcOL8R+fbR2fBV9+676qJaDfxelPwnKc/5of+UbnJmZM4YT4DB8cJCk0RFAPaF2QLNCVfKvvixYK6uj1D+T92TmP1u4ZjQ+k2Phnwz8ebmevnv/TgaOy8w/DFDn8fT2QQbQ6mDtxvfGgcZLOBMlS7iIyPqNkgy5D/gDsEet6CLgo5l5TrN6aq7tZ3mokajPJvlzZj4y2AXVjIz6epnb91e25m9D3dRrBAb6D7bud7XjrSOice1U6LvJVqsjMeq/XHeLiG9HxGIb1o1A/Yve1DbWK0mSJEnSsAxlcGi1xNButcd/lJkPD1R/tYF7febHLhHRuIF5feDiZtVG8WOqWvKqvgH611u5LjMvoHcVi+Vpra/lx+3sUI+Izei7l8R3BuvLqfZj/UXt1N4tNtfWWTwDuDozzxuoQJWIO7J26jkRsWmTouvRd8PxVlZNqX8mp0bE+i1cs6Q6toW+v7833D9moMKZ+SRQ35dk8/7KNphNGXDeY1qL12mcMlHSHS4GdszM77dQdrBluYajvubkFf2WWlx9emErG7GPRuzNzKdMqWzFVbXjKfTN8veof6lqddrnr+j7fA8E7oqIP0XE5yJilxF+WatPRRzzL32SJEmSJI1wcOgL6Ls3729bbPb02vEEYLuGxy+hLG8EsBpwekS0c2PwVryM3j69e6oVLVpV75fZtt9Svc4fQt2taEzODOd9WbOfJEOjdsfen+EMpoXFP1vQdzAttDag9jrKfsBQZkScERGt7PW7JBpo3+Ues2vH84BZLVxTX8ZrtVYCqRKI9eSrA4gmoBcAACAASURBVI2XcG7mvuQ7q+H+IuARyn+kVwLnV2v0tWrA0RXDVP8P5t4hXFcv28p/UqMRezMPDmE0RePsnMGeRwzyOACZObdaK/UMYOPq9DKUDad6Np2aHxF/A04Cjq9m6bSqpTgkSZIkSeqwiyn7lTbu31kfcJm0sNdD5VrKHgc9fWabAH98qqLMOyPi5/TujfJy4LqIuLwq91fKiheNm8q303Nrx1Mi4swhXFvf36OVPRXaPSi1/r7Mzsx7Wryu8f3bhLJ/bH8eGub+KcNx1eBFIDPnRMR/gHWrU5s1KdY4WHXQAbVVH9F3KJvGQ1mO7uKI+Cel3/BCymfy9lbiHOdmD16kz+DfOS2uPlO/ZvkhxPM4vX19DjRewpkoWcJl5u5trnLR4EWGrD5lcN4QrptbO14mIiYOkqAYjdibGe5zgL6vRY96AmO5VivOzOsjYkvKGqPvpu8XJSiJkx2q28ER8cHMPLXF6utxDCXBIkmSJElSu4xkcGh9oOKj1fI6g8rM+RHxEGXT6MZ6enywevyVtXPPo7ZfSkRcQ1kN4seZeSfttUbteOWGOIZilRbKtHtQajsG0zbW08xYDaaFxQfJDla2J1HSyqDgVgeyfhFYH3hn7dxm1e0jABHxL+BUymey1ZVSxpuh9MkNpzwMbfCwA42XIi69pbHwYO24lY3CetTXAX1kHG0yNdznAPBQkzL1X/arDyWQzHwyM7+TmVtRfiG+hbLmZeMXxanAr6pZKK2ox9Hq6A5JkiRJktomM3dvuO2RmW/KzA9l5lGDrKAx3EGb0HfQ45QmcT1SDVx9HWV/1WYj1regdF7fFBFfjIh29sG1a+T6oDFlZrsHpbZjMC00eV8ajNVgWhj+8xhsMC20OKA2Mxdk5nRgF8oyZY2vF5QVST4JXBsR34+IZu1raBxovBQxUaKxUO9o37jfUourlx1PnfUrVxunteIZDfebPY9basdT+9nwfVCZeVdmnpSZH8nMLSmv37fo/XIwobrfiqfVjm8dTjySJEmSJHXQcAdtQt9Bjw/2VygzT83MV1AGG+4BHAb8hb6Jk2WBg4GvDjGGgdRjujIzY5i36W2MaTixj2Qgar/vSwcM93kMNpgWhj6g9tzM3JsyW+XlwBcoybz6jKoJwP7A8UOpW31FxET6vp/jqe9Sw2CiRGOhvmnSi4dwXb3sJW2KpV2abbg1WLnbM7PZtNL6CJgJLJ5cGZbMvDkzP07fL2ObRsTTW7i8vmZoS2ttSpIkSZI0jtQ7LSdHxNP6LVkTEVOBFfupp6lqhskfMvOgzHwZZVWHA4EHasU+HhEbthJDC+r7NKzdpjrHSv313DAiWt0WoHHg7XjqlG6ln4XquW5QO9VsH5u76DsbpKXPbaPMfCIzZ2bmoVUyb03gXUB9Gbg3RsRQ+unU17rAxNr9WzsUh9rERInGwp9rx8+OiG0GuyAitgK26qeO8eAtgxWIiMnAvrVT/T2Ha+i7OVfjXiMjdUrD/XUGKhwRqwAb1U79o83xSJIkSZI02mY13G+1Q7ix3JAHbmbmA5n5XeCNtdOTKCP8G9WXiGp1v4O/1o7XbnFA5HhRf1+mAFu3eF39fVkIXN62iEau1cG0W9F3ybDGzyiZmcB1tVObNJYZjsx8LDNnALsB82sPDXd/Gy3+3jjQeAlnokRj4Rf03UTr6xHR7y//6rFv1E49Cpw4SrEN11urZM5A/ou+SYmfNCuUmQsoU3N7DPoLdqDXr4kVG+7fP0j5evuPAxcNoS1JkiRJkjouM2+m7+j5/Vq8tL4Z9t3AsDe9zsw/0Xd5pWYDF+v7GrS0HwVlQGN9A/H3DjG0TrqYvstAtfq+vKN2PCszH21fSCP26ohoXBqsmbfVjp+g/4Gp9fNtHUybmdfRNxEz4GBaDajeL3hrZt7XsUjUFiZKNOqqX171xMdOwNHN9uKopiH+gL6jLL6dmc3WbeykicDpEdE0sx8R+wJfrp26IDMHmhXz+9rxzi20f1JEHBQR6w5UKCKWB75UO/Vv4MZB6q63f25mPtlvSUmSJEmSxq8f1Y73jIgB/96OiB2AvevXVyP862VaHrhYbZZd7/toNnDxP7XjtapVHgZUDbis70H6sYh4fqtxdVLVR/Tz2qn3R8SzBromIvYD6s/vmNGIbQRWAD4/UIFq1s8Ha6d+MUCy57za8QsH+8wNcTAt9B1QO9hgWvWvPtD43I5FobYxUaKx8hXg77X77wOuiIiPR8QrImLXiDgQuIy+vzj+Qd+O/vHgTuACyvJUV0TEdyJir4jYISLeFhGnASdTptVCmREz2OiOU+idbvv8iFhvkPJrA4cCd0bE+RFxWES8OSJeHhEvqeL5EmWUwE616w7NzEXNKqx5Ve34l4OUlSRJkiRpvPoBfTfHPrm/5cCrRMOvaqfmAN9rUvTTEXFMRDynhfa/BCxfu9+sM/VK+i6F9PEW6gX4Lr0DIZcH/hgRrx7soohYNSI+FBFnt9jOaPhfemeVTAbOiIim+7VGxCuAo2unbgT+b3TDG5ZPRMT7mz0QEesDZ9A7Y2ge8LUB6jqL3j6iNYEtB2n7bRFxUkRsP1iQEbE/fffGtYN/+HaqHf++v0JacrS6YZI0Ipm5ICJ2B34D7FCdfjZ9Z5o0uhB4TWbOH6BMJyyk7FFyPuWXy0erWzOPAa/OzH8OVGFm3hER51Jm0gSwD/D9FmKZALysug3ma5l59EAFqhkyPVMHH2Px/U0kSZIkSVoiZOZ9EfEe4HTK39prAH+PiBMoHZv3AGsBu1OW3OqZ/ZHA+zKz2YbhUyiDP98XEdcBf6IM+ryLMlByRWBz4M3AC2vXndSsbyAzH42I0+nd4/QLEfFu4Fr67md6UmaeVLvukYjYi9J3slr13M6IiH9Uz/dKymbyU6rHtgBeROncXQa4rf9XbnRl5g0R8Sl6E1EbA1dGxLHAOZS416PM7nkjvXu3zAPePg5Xvvg5pZ/o6GqFkROBW4CVKP017wdWrZU/pFoCq6nMnBMRM4Fdq1OvZuD9LyYBbwLeFBG3AWcClwJ3UJbCXw7YjNLXtGvtur9SPr8aooh4HmUzdyg/9yZKlgImSjRmMvOhiHg55QvFZ4AN+yl6J2V0wQ+r6aTjTmb+uxqF8l3KL6PJjUWAPwIHZOZNLVZbX3JsPwZOlBxO+YW3KwOvJ5mU2S+HZObMFmJ4e+34hMx8rN+SkiRJkiSNc5n524h4C3A85W/3ScC7qlsz84HpmXlqC9U/u7oN5hxKZ3l//gvYFphW3X9adatbbPPyzLwuIl4InEZJhAC8oLqNa5l5ZLU02RGURMgKwEeqWzOPAPtk5sVjFOJQHEOJ7/3AK6pbf47MzK+0UOdP6U1qvJ7SD9SKjYAPtFDuCmDfFlYdUXP71o5PyczHOxaJ2sZEyRImMw8GDm5zndOB6WNxbZX4OAo4qtoM/XnA1Orhe4HLM3OxX/4D1LdTq2XbLTMfBN4RER+jjMh4GmWkxn+AP2fm7UOs8jTgX5SRFNtFxFaZeUU/bZ9JGSFAREyjfCHakDJCISgjBm4FLsnM2a00HhETgff0NAF8e4jxS5IkSZI07mTmLyLicsqy4K+h774hPRYAvwM+O9Bof8pS26tSZqE8c5Cmr6f8bf2jgTqkM/POqo/kvcAelBkpq1H6GAaUmTdFxNaUxM/HgIH2+0hKB/lvgBMGq3u0ZeY3IuJ84KuU/VKbbRHwJPAL4KDMvHMs4xuKzPxARMwCvkiZDdPoDuAzmXlii1X+irIKy1Rg24h49gCfy5mURMqrgOcw8FYLt1P65b6VmXNbjEU11Z4wb62dOqpTsai9omFPKklNRMR04Ljq7m2ZOW2U2nkXcGx1d0Zm9jfCZTTafiPlyweUKb1vGau2JUmSJEkaCxGxMrAjsAEl4fEQpRP7z5n50BDrWgN4LmVZ7jUoM1YeoyzDddlgy3CPhojYgLLE1lTK85tLWcrqJuCqzByXm3dHxFqUpdrXoyxZdT9lAOj543G0fkTUO1R3zszzqvM9S6RvSlnW7X7gauCvOcRO2Ij4Ir2Dpb+dmf/VwjUrUQYlP6NqfzngceBuSpLs6qHG0WKsB1OSRFBWNTm43W2MFxGxG2UfGSjv60s6GY/ax0SJ1IIxTJRMBK6hjEqZD2ycmXeMRltN2r6M8st0AbBFJ77QSZIkSZIkjXf9JUra3MZqlL1OVqEk9DbMzIfb3U47dFmi5PeU2TsAu2fmWQOV15JjoKlYksZYZi4EPlHdXQb4/Fi0GxGvpyRJAH5gkkSSJEmSJKlzMvMByh4uUJIlH+pgOOKpTdx7kiQXmCRZupgokcaZzPwdZb1QgHdHRCsbww1bREyirNMKcA/whdFsT5IkSZIkSS35FnBbdfzJauk4dc6h1b+LgEGXQtOSxUSJNA5l5l6ZGZk5aZBN5NrR1oLMfGbV3tpDXZNVkiRJkiRJ7Vftz9LTIb8m8JkOhtPVImIHYM/q7o8yc1Yn41H7Tep0AJIkSZIkSZKkxWXmqUB0Oo5ul5nn4/uwVHNGidSCzJxRzbiI0drIXZIkSZIkSZI09pxRIkmSJEmSJEktykxnFkhLGRMlkiRJkiRJkqThOq+fY2mJEZnZ6RgkSZIkSZIkSZI6wj1KJEmSJEmSJElS1xrJ0ltORZGk0eWap9IwnLr6On5HkcReF/660yFIGicmPPvFfq8eHX7nkqTR5e+vMeSMEkmSJEmSJEmS1LVMlEiSJEmSJEmSpK5lokSSJEmSJEmSJHUtEyWSJEmSJEmSJKlrmSiRJEmSJEmSJEldy0SJJEmSJEmSJEnqWiZKJEmSJEmSJElS1zJRIkmSJEmSJEmSupaJEkmSJEmSJEmS1LVMlEiSJEmSJEmSpK5lokSSJEmSJEmSJHUtEyWSJEmSJEmSJKlrmSiRJEmSJEmSJEldy0SJJEmSJEmSJEnqWiZKJEmSJEmSJElS1zJRIkmSJEmSJEmSupaJEkmSJEmSJEmS1LVMlEiSJEmSJEmSpK5lokSSJEmSJEmSJHUtEyWSJEmSJEmSJKlrmSiRJEmSJEmSJEldy0SJJEmSJEmSJEnqWiZKJEmSJEmSJElS1zJRIkmSJEmSJEmSupaJEkmSJEmSJEmS1LUmdToALX1e+YOLOh2CtFQ4a//tOh2CJEmSJDUVb9+s0yFIUsfkz/7Z6RDUZs4okSRJkiRJkiRJXctEiSRJkiRJkiRJ6lomSiRJkiRJkiRJUtcyUSJJkiRJkiRJkrqWiRJJkiRJkiRJktS1TJRIkiRJkiRJkqSuZaJEkiRJkiRJkiR1LRMlkiRJkiRJkiSpa5kokSRJkiRJkiRJXctEiSRJkiRJkiRJ6lomSiRJkiRJkiRJUtcyUSJJkiRJkiRJkrqWiRJJkiRJkiRJktS1TJRIkiRJkiRJkqSuZaJEkiRJkiRJkiR1LRMlkiRJkiRJkiSpa5kokSRJkiRJkiRJXctEiSRJkiRJkiRJ6lomSiRJkiRJkiRJUtcyUSJJkiRJkiRJkrqWiRJJkiRJkiRJktS1TJRIkiRJkiRJkqSuZaJEkiRJkiRJkiR1LRMlkiRJkiRJkiSpa5kokSRJkiRJkiRJXctEiSRJkiRJkiRJ6lomSiRJkiRJkiRJUtcyUSJJkiRJkiRJkrqWiRJJkiRJkiRJktS1TJRIkiRJkiRJkqSuZaJEkiRJkiRJkiR1LRMlkiRJkiRJkiSpa5kokSRJkiRJkiRJXctEiSRJkiRJkiRJ6lomSiRJkiRJkiRJUtcyUSJJkiRJkiRJkrqWiRJJkiRJkiRJktS1TJRIkiRJkiRJkqSuZaJEkiRJkiRJkiR1LRMlkiRJkiRJkiSpa5kokSRJkiRJkiRJXctEiSRJkiRJkiRJ6lomSiRJkiRJkiRJUtcyUSJJkiRJkiRJkrqWiRJJkiRJkiRJktS1TJRIkiRJkiRJkqSuZaJEkiRJkiRJkiR1LRMlkiRJkiRJkiSpa5kokSRJkiRJkiRJXctEiSRJkiRJkiRJ6lomSiRJkiRJkiRJUtcyUSJJkiRJkiRJkrqWiRJJkiRJkiRJktS1TJRIkiRJkiRJkqSuZaJEkiRJkiRJkiR1LRMlkiRJkiRJkiSpa5kokSRJkiRJkiRJXctEiSRJkiRJkiRJ6lomSiRJkiRJkiRJUtcyUSJJkiRJkiRJkrqWiRJJkiRJkiRJktS1TJRIkiRJkiRJkqSuZaJEkiRJkiRJkiR1LRMlkiRJkiRJkiSpa5kokSRJkiRJkiRJXctEiSRJkiRJkiRJ6lomSiRJkiRJkiRJUtcyUSJJkiRJkiRJkrqWiRJJkiRJkiRJktS1TJRIkiRJkiRJkqSuZaJEkiRJkiRJkiR1LRMlkiRJkiRJkiSpa5kokSRJkiRJkiRJXctEiSRJkiRJkiRJ6lomSiRJkiRJkiRJUtcyUSJJkiRJkiRJkrqWiRJJkiRJkiRJktS1TJRIkiRJkiRJkqSuZaJEkiRJkiRJkiR1LRMlkiRJkiRJkiSpa5kokSRJkiRJkiRJXctEiSRJkiRJkiRJ6lomSiRJkiRJkiRJUtcyUSJJkiRJkiRJkrqWiRJJkiRJkiRJktS1TJRIkiRJkiRJkqSuZaJEkiRJkiRJkiR1LRMlkiRJkiRJkiSpa5kokSRJkiRJkiRJXWtSpwNot8zkl7/8JSeccAKXX3459957L6uvvjqbb745b3nLW5g+fTqTJrX/aS9cuJBf//rXnHLKKVxyySXMnj2bCRMmsPbaa7PJJpuw8847s88++7Dppps2vX7evHlcddVVzJo1i0suuYRZs2Zx1VVXMX/+fACOO+44pk+f3va4JUmSxkJmcuH8ufx53hPcsmABD+ciVowJbDBxEi+dvCy7TF6OiRFtbW/WgnlcMPdJblo4nwcWLWI+yfIRrDdhElssswy7Tl6OdSYO73vho4sW8dGH5/BgLnrq3A9XXpOpEye26ylIS6XM5JdnnsPPfnMWV1x/I/fe/yCrr7Iym288jTe9elem771H2/5ee/yJJ7nihpuYdfV1zLr2BmZdfT3X33I7CxcuBOCcGd9jpxduPay6/3D+3/jVWefyt8uv4j/3zmHBwoWsvcbqTFt/HXZ8wfN5zc4v5XnP3qwtz0OSJGk4IiKANwL7Ac8D1gLuB64Ffg7MyMwFbW5zT+DtwIuAtYF5wL+Bs4AfZea1g1y/DPAy4AXVbVNgTWANYCFwL3A5cDpwUmY+0a7Yl6pEyQMPPMC+++7LzJkz+5yfPXs2s2fPZubMmRx11FGceuqpbLjhhm1r97LLLuM973kPl1122WKPPfLII9x0002ceeaZ3HXXXXz7299uWsf222/PpZde2raYJEmSxotHFy3iiMce4qoF8/qcfzAX8eCCeVy1YB5nzX2CT6+4KmtNGHmi4eFFi/j6Yw9y9YL5iz32SCY3LJzPDQvn85snH+cty63IPlNWGHIbxz3xSJ8kiaTBPfDQw7zxYwcx86JZfc7Pvm8Os++bw8yLZnH0Sadxyne/wobrrTPi9jbaZR/uf+jhEddTd8udd/G+z3+Vcy9a/G+3W+68i1vuvItzL7qUS6/9J6ceeXhb25YkSWpVRKwG/ArYpeGhdarbLsCHImKfzLy9De1NpSRfGtubAqwMPBs4ICIOysyvDVDVxsA5Azy+UXXbC/hCRLwtM/86/Mh7LTWJknnz5rHXXntxwQUXALDBBhvw/ve/n0022YQ777yTY489luuuu45LL72UV73qVfztb39j5ZVXHnG7F154IXvssQcPP1y+gO+000688pWvZMMNN2TixInMnj2bWbNm8fvf/37AenpGNfVYZ511WHbZZbnttttGHKMkSVKnzM/k8Mce5NoqabFmTOAVyy7HuhMncd+ihcyc+wR3LlrIzQsX8OVHHuCrK6/O8jH81WEXZnLoow/wr4VlYNRkYMfJyzFt4iRWnBDct2gRl8yfy3UL5rMAOOGJR5lC8Kopy7fcxuXz53LuvCeZQPkyPW+wCyQxb9589vnwZ7hg1hUAbLDO2rzvja9l4w2fxr9n38Nxv/4d1918K5deewOv/sAnuPDnx7DyikNPYtYtXNQ3mbnhumszb/4CZt83Z1j13XDLbez6ro9y1z33AbDtls9iz51ewrSnrceUyZO59/4HuOKGm/j9n9vyt7okSdKwRMRkyoyLl1Wn7gCOAW4Cnga8m5K42Br4Q0Rsn5nDHl0SESsCZwNbVafuA34CXEH5k2l7YDqwHPC/ETE/M781SLU3AxcB1wC3A48DKwHPAd4ErA9MA/4YEdtl5tXDjb/HUpMoOeqoo55Kkmy99db86U9/YrXVVnvq8Q9/+MPsvffenHXWWVx77bUceuihHHHEESNq8+6772avvfbi4YcfZs011+Tkk09mp512alp24cKF3HPPPf3Wtcsuu7DXXnuxzTbbsO2227Leeutx8MEHc8ghh4woRkmSpE46a+4TTyVJnjFxEgevuBorTuhNhOyx7PIc/uiDXL5gHncsWsjJTzzGO5dfadjtXTDvyaeSJGvGBL680uqLLYe1z5QV+OPcxznq8UcA+MWTj7Lbsq0t/TU3k6Or63Zfdjn+MX8u9y5yZok0mB/+4tSnkiRbb/5Mzv7Jt1ltld6Bawe87fXs85HPcvZfLuLaf93Kl486jq996sMjavO1u7yUZ07bkK23eBbbbPFM1lxtVd71P1/m+NP+MOS6nnhyLnvt/2nuuuc+ll9uCsce9jnesHvjgMkiM/n33feOKHZJkqQR+BC9SZJLgV0z84GeByPiSOA04JXA5sDngU+NoL3P05skubJqr/5l6ISI+C5wHmU5rsMj4reZeVOTuu4AnpGZt/TXWEQcBJwEvBZYHjgCeNUI4geWks3cFyxYwGGHHQZARHD88cf3SZIATJkyheOPP54VViijkr73ve8xZ87wRhL1OPDAA5kzZw6TJk3iD3/4Q79JEoCJEyey7rrr9vv4N7/5TQ455BBe+9rXst56640oLklqFBEzIiIjYsYo1P2yiPhdRNwbEQurdk5rdztqLz8TGgsLM/nVk48CEMBHV1ilT5IEYHIEH11hFaZQkhS/n/s4j4wg8XB5bXmvfaas0O+eIa9Ydnk2rvYneTiTOxe1tjTviU88yt2LFrJ6TOBty6047DilbrJgwQK+cvRPgfL32oyvHtQnSQIwZdll+elXP88Kyy0HwJH/dwpzHnxoRO3O+Orn+ewH3skrX7oda6626ojq+tIPjuXG2+4A4IT//WK/SRIoz/Fp60wdUXtaevidS5I0liJiEvC56m4C76gnSQAy80ngHcBj1amPRMQaw2xvGUpipqe9tzckSXravB74SHV3MvDFZvVl5mMDJUmqMk8A76XsWQKwazWLZkSWikTJzJkzuffe8vq//OUvZ4sttmhaburUqbz5zW8GYO7cuZx++unDbvO2227j5JNPBmC//fZj2223HXZdkrSkiogXATOBPSgba90P3A08UD1+cHWb1qkYNbb8TKjuqgXzeDgTgOdMmsyG/WycvuqECbxk8rIAzAcunj932G0+VEuyrDvIxurrTeiN58kqzoHcuGA+v5v7OADvXX4llhvBEmFSN5l50Szuvf9BAHZ50TZssekzmpabusZqvGmPlwMwd948Tj/ngjGLcSCPPf4EPzzpVAB23m5r9t51hw5HJPmdS5LUr10om7YDnJOZ1zQrlJn3UGZlACxL2fNjOLalLIkFcEVmXjVA2V8Dj1bHe0fEcsNskyoZ05OQmUTZ8H1Eloq/7s4+++ynjnffffcBy9YfP/PMM4fd5k9/+v/s3XmcZFV9N/7P6e7ZF4Z9ERDZhAFBAUERCSoGUBOiEMRAlEVRo0FNfBJ8jJHEJb88PtEHY4JoUBEXwCAiRgERFERBkEVAVhEEZZmNGWaf7j6/P6qmp2eml+ltZph6v1+vet1bdc+999sviqlb9bnnnAvS3fwifvLJJw/7OADPce9P4wPpxiRb1Vq3rrVuV2s9tbn9o83HLhuoPtY/7wl63LFiVe+Ol4wb+Aafl4yb0LN++wiCkhm9eqw8scYccGv6Q7MXSVtWD0360llr/nPxgnQnOXjchLxs/MRh1wit5oc33tKzfvRhLxuw7VG9tl/105vHrKahuPSHP86ChY0bLv/iDUdt4Gqgh2suAPryx73WB/vxu/f2gX9U79+OvdbvH6hhrbUrjblHkmRqkmHffVJK2SyNGwWSxv12c4d7rJU2iaDk7rtXzdVy4IEHDti2d8+P3vsN1fXXX5+k0a36pS99aebPn5+Pf/zj2X///TNt2rRMmzYtM2fOzHve857cd999wz4PwEbuRc3lRbXWEX8osUnwnqDH77pWDWe1W/u4Advu3mt77/2G6qW9ApfLli7K0/2EJT9ctrhnLpM/Gj8x09oGviz+9tJFebSrM5NS8vYRzKECrejuhx7uWT9gnxcO2PagfffqWb/nwYcHaLn+3HDrHT3rB+83M8uWL89nL7wkL3/zO7LFIUdl2oGvyZ5HnZDTP/zJ/OJXv96AldJiXHMB0Jd9e63/cpC2t/az31AMPtFj/140eJM+TtgYXuxzSVZ+ifx+czixEdkkJnN/4IEHetZ32WWXAdvuuOOOaW9vT1dXVx588MHUWlPWYeLONd16a+N9tNlmm+Whhx7Ksccem8cee2y1Nvfee2/uvffenHfeefn4xz+es846a8jnAdjITW4uFw7YilbiPUGPJ7pXhRTbtA08DNaWbW1pS9Ld3G+412gvHzchh4ybkJtXLMvs2p0zF8zOH42flBd0dGRqacvs7q7csmJZ7m1OMH/IuAmDBh+Pd3Xm0qXNu8knTc1Wg/wtwOoefGTV96Rdntf/vI1JsuO2W6/6vva7x4b9b8Fo+uXdq2586+rqykuPPy33PLT60Nm/eez3+c1jv89XLvufvOcvjstnPvS+tA8y/B+MkGsuMMz0ggAAIABJREFUAPqyZ6/1RwZp+3ga83y0J9mjlFJqXYcxiVf3ZD/nXksppT1J7zFYB7yDppTSlsaE7StNTbJ3kjcn2a352iNJ3reOtQ5okwhKnnnmmZ71rbYaeDiyjo6OTJ8+PfPmzUtnZ2cWLVqUqVOHNhHn0qVLM39+Y2LB7u7uvO51r8uTTz6ZPfbYI6eeemp22223zJkzJ5dffnmuuuqqdHV15UMf+lDGjx+fv/mbvxn6HwgwxppjF78/yWuTPD+NHoe/S3JVkn+rtf5ujfZrfnB+uZTy5V7PL0jytl7Pr1vjR45Ha627jEbtjA3vCUbDorpqvpBpbQP/0NleSiaXkoW1pivJ0tRMGsbNSaWUfHDKZrlo6aJ8f+niLEnND5cvSZav3m7X9o6cOGlqDuwYP+CPsN215j8WLciKJLu1d+SYCcMeRhda1jMLnu1Z32rGZgO27ejoyPQpkzNvwbPp7OzKosVLMnXK5AH3GWtPzl51s/6Jf/ORPPDIY9lhm61y2nFvyN67vSCLlizJ1T/9RS69+rrUWvMf37g0pZSc8+EPbMCqea5wzQXAKJvRa332QA1rrZ2llAVJNk8jJ5iSoQfwt6bxbWt8kheXUvattfY3jNMb0wg7+qq1L+OTXNbPtoVJLkny97XWAf/OdbVJBCULF6767zdx4uDjRU+aNCnz5s1Lkjz77LNDDkp6BzMLFizIggULcuyxx+aSSy7J+PGrxt9+97vfnc9//vN597vfnSQ566yz8ud//ufZaaedhnQ+gLFUSjkpyflpTN6VJMvSuKn7hc3HqaWU42utV/fa7anmcus0vswtSLKk1/auZpttm8/nZfWfKWeFjZb3BKOl9wTp49ch9Gi0aeyzpNZMGuZN5O2l5M8mTM6UUvLNJQuzoo82D3d15rKlizJ1UsleHf3Pn3LlsiW5v2tF2pK8e/L0tG3gO9vhuWjh4lUfBxMnDDxfUZJMmjgh85rhyrOLF2/woOSZZ1d933zgkcdyyH4z84MvfiabTVv1PfL04/4k3/vxjTnuzA+ls7Mrn/v6f+ctb3htXrb/cEexoBW45gJgDPT+oXtdhqNakkZQkjQmZR9SUFJrXVxK+XqSU9MYhuvCUspr1wwvSil7JvnsGrtPH8q51nBHkmuTzB/BMVazScxRsr6tnMR9pS233DIXXHDBaiHJSu9617ty3HHHJUlWrFiRc889d73UCLAuSimvTfLVNLpZ/p8kL0gyKY27CPZK8q00Pii/VUrZeeV+zYkit0uyciyN9618rfk4vbl9pTetsf2l6+HPYxi8J9gU3LZiWd65YHa+umRhXtgxLv84dUYunLF1Lp6xTf5j+pY5aeLUTEzJvZ0rcvaz8/KL5X1/f5jV3ZWvLWl8T3jDhMnZtWPgeVaATVPv73/jOjryjX/759VCkpXecMQrcubJJ/Q8//ev/fd6qY/nJtdcAGxCPpzkieb6i5P8upTyL6WUE0spJ5dSPpfk9iTbZ9Vk7knj5oB+1VqX1lpLrbWkkWNsmeQ1Sb6Z5LAkX0tyTSll69H4IzaJoKR3j5ClSwcPypYsWXWzxbRpQ5+Mc8193vzmN2ezzfrvQn7GGWf0rP/oRz8a8vkAxkJzrMf/SOOz4D211r+vtT5SV7m/1npCku+mkfIbO3AT5z3BaJvYq/fF8gw+1G3vNpOG2XPjthXL8smFz2RxrXn5uAk5e+rmefG4CZlS2jKulGzf3pHjJk3JP03bPOPSuMX2nEULMq977Unfz1u0IEtTs3VbW06cNLQeyMAqUyevGrJu6bLlA7RsWLJ0Wc/6tMkbtjdJkkzr1aPlyENfOuA8K+84YdUw2tfdNNj8qbQq11wAjKHePUIGH3qpEdKv9Gy/rQZQa30ijSEkH2q+tHWSs9IINC5M8p405tb6cpJ/77XrvCGco9Za59Zar621/kWSdzQ3HZ7kijIKk9ptEkNvzZgxo2cordmzZw84lFZnZ2cWLFiQJBk3blymTJky5PNNnTo1HR0d6ezsTJIceOCBA7bvvf03v/nNkM8HtKZSyjp9u661DvyPUP8OT7JHGmNW/tcA7b6axuRZRw3zPDx3bNTviXX9f+Lbm287eCPWiymlLQtrI4B4trtm0gDzGnfVmsXNobo6kkwcxvwkSXLB4mfTncYvT6dPntbvUFl7dIzLq8ZPytXLl2RJaq5bvjRvmrjquvAny5bkts7GD7pnTJ6+WugDDM2M6dN6htKa/cz8AYfS6uzszIJFi5M0em9Mmbzh5wWaMX1q5s5vfIc8cJ8B5xzNnrvsnKmTJ2Xh4iV5as7cLFy04YcOY6O0SVxz5aQ9xrgSAIbhmawaSmurDDCUVimlI6uGv1qRZNFwT1prvaeU8qI0huA6Lsl+acxBMjfJLUk+X2v9n1LKP/Xa7cm1j7TO5/uvUsqJafQwOSTJ0Ul+MNzjJZtIULLnnnvmt7/9bZLkkUceyS677NJv28cffzxdXY0v7LvvvvuAk3f2p5SSPfbYI/fee2+SDNibZM3tKyeBB9gIvKK53CzJHwb493DluILPH/OK2NC8JxhV27e156lmT42nu7uyTXv/Scmc7u6eftfbtbUP6xrtqa6uPNY8345tHdmibYBkJsl+48bn6uWNnsYPdq4+k8mPmq/PKG15uHNFHu7sa6aT9IQ7SfL9ZYszpVn3aydMyoxBzg+tYo9ddspvH/9DkuSR3z8xYI+Mx5+ater72s47DuvfgtG25y475+HHGvVvtg7zW242bWrPvCzzFy4SlNAX11wAjJUH0hjOMUl2SfLIAG13TGMIyCR5qNY6+DAAA6i1Lk1ybvPRn5m91m8ZyfmSXJlGUJIkR0RQkuy777656qqrkiS//OUvc8QRR/Tb9tZbb11tv+Hab7/9eoKSwcKP3tsHC1UAVhpBT5F1tUNzOS6rJnscyIa/pZOxtlG/J9b1/4nLtthuRBd3jJ6d2ztyR7NXxm+6VmTfcf1P4vxQ16ogYuf24V2izq2rhs9al6G7Jvdqs2yN7wQrnz1Tu/PNpet2Y9V3ly3uWT9o3ARBCTTtu/uuufqnNydJbrvn/hxx8AH9tr317vt61vfZY9cxr21d7PfC3XPlDTclSeYvHHx+0wULV/2bsdnUoY9gQEvYJK65ysl7uuYC2PjcnVU9EQ9M8uMB2h60xn5jqjn05GHNpzXJjSM8ZO+hwmaM8FibxhwlRx21qhfqysCkP1deeWXP+tFHHz3scx5zzDE967/85cC9Untv33PPPYd9ToBRtvIXvJtXTo412GODVsv64D3BqHpxr2DkjhUDz0tw+4pVcxK8ZNyEYZ2vd/Axp485R9Y0q1ebaWWTuCyGjdIfH3Zwz/pVN948YNurfnpTz/pRhx0yZjUNxdGvfFnP+i/vuX/Atg888rs82xw6bPutt9SbhP645gJgrPT+cXywoRt7/zh+Zb+tRs8xSbZrrv+w1vq7ER5v917rs0d4rE2jR8mrXvWqbL311pk1a1auueaa3HPPPdlnn33Wavf000/noosuSpJMnDgxxx577LDPeeyxx2by5MlZvHhxLr744nzyk5/st7fIF77whZ71kYQzAKNs5ViQuvKzkvcEo+pFHeMzvZQsqDW/6lye33V19tlb5Jnu7ty4vBGUjE9y8DCDku3aOjI+jQnaZ9fu3Ne5PHt19N+LZeU5k2S3jtXr+ti0LdbpnO+cPyuzuhuDhn1++lYDDi8GrepVBx+QrbeYkVlzn8mPfn5r7nnw4T57izw9Z14u/v6PkiQTJ4zPsa955foutU+vPHD/7LjdNnn8yadzzc9uGXD4sC9e8t2e9aMOe1mfbSCuuQAYO9clmZXGhOpHllL2qbXes2ajUso2SU5sPl2a5PKxLKqUMjnJp3q99Kn+2q7j8aYm+YteL/1sJMdLNpEeJR0dHfnwhz+cJKm15q1vfWvP5O4rLV26NG9729uyaFGjG/R73/vebLnlln0e75RTTkkpJaWUnH322X22mTFjRv72b/82STJnzpy87W1vy/Lla98ped555+XSSy9NkkyZMiXvfve7h/U3AoyBlV0ctyulHDRgy+Fb2R3fXXDPDd4TjKr2UnL8xMZ4/jXJZxfNz8Lu7tXaLK81/75ofpY23xrHTJicaW19X6L++6L5edO8p/KmeU/loiVrD38zoZS8tFfI8u+LFqzWa6S3/16yKL9qDgs2Lsmh4ycO9c8D1lFHR0f+9zvflqTxfe2UD30885qTo6+0dNmynPKhj2fRksbcHu/5i+Oy5Yy+b0Q79X9/PO0zX5H2ma/IP33u/LEtPklbW1s++p7TkyQrOjtz0gc/mvnPrv1v0Pd+fGM++7VLevb5wCknrtUGmlxzATAmaq2dST7RfFqSfLWUsnnvNqWUiUkuSLJyjNDP1Vrn9HW8UspXSim1+Ti7v/OWUg4fYNu2Sa5Isnfzpa/UWq/pp+1HSilr94BY+3jfyaqhLB9M8sOB9lkXm0SPkiR597vfnUsvvTQ33HBDbrvttuy///555zvfmd133z2PP/54zj///J45RWbOnJl/+Id/GPE5zzrrrPzgBz/Irbfemssvvzz77rtvTjvttOy6666ZN29evvOd76w21Nd5552Xrbfeus9j3X777T2BykrXX399z/q3v/3tPPTQQ6ttP/300/OCF7wgAMN0XZKH0uiq+JlSymtqrf2OjVNK2aLWOneI51iQxiSVIx4rkvXCe4JRd9SESblpxdL8unNFHu7qzN8smJM/njAp27V3ZE53V360bEkeb4YZO7W15/hJIxvP/6RJU3Nn5/IsrDVPdHfl/fPn5PAJE7Nn+7hMKCWzurvys+XL8mCvOVFOmDg1W5lPBMbUu978xnz76h/nhl/emdt+fX9e8sZTcsYJx2a35z8vv39yVr506fdy78OPJElm7rZLPvyuU0Z8zmtv+mWuu3n1YZLvuPfBnvUvXfq9/Ojnt662/W9PfUtmTJ+21rFOeePr8p0fXZ//+fGNuenOe7Lvn5yU04/7k+y9+y5ZtHhprr7x5vz3Vddl5Ryo//zXb8++G8kcK2yUXHMBMJbOTXJcklcmOSDJnaWU89L47NkxyelZFVr8OsnHR+Gc3y+lPJXk+0l+lWReks2THJLkz5NMb7a7Lsl7BzjOcUn+uZRyZ5Lrm/XNTSP02bZ5vGOzKuRZmORtA32OrqtNJigZP358Lr/88hx//PG59tpr89hjj/UZhhxwwAG57LLLRmVS9cmTJ+f73/9+TjjhhPz4xz/Ogw8+mA996ENrtZs0aVLOPffcnHTSSf0e684778wnPvGJfrdfccUVueKKK1Z77cgjjxSUAMNWa+0spbwrjXEoD0tyfSnlw0mur7WuSJJSyq5J/jiND9HLM/QPz7uTvCLJSaWUq2qtiwfbgQ3He4KxMK6UnDVlRj61aH7u6lye2bU73+hjcvRd2zvy91NnZMoI5wrZrr0jH526eT69aH6e6O7KktRctWxJrsqStdq2J3nzxCk5boThDDC48ePH5bLP/X854f3/kGtv/mUee/KpfOSzX1ir3QEzX5hLP/vJbDZt6ojPecOtd+ST513Q7/avX7H2/JanH/8nfQYlbW1tufjTH8spH/p4/vuqa/OHp2fnY+d+ea127e3t+ee/fnvOOuOtIyueTZprLgDGUq11eSnl2CT/neTVSXZK358jtyV5Y611/iidetf0H4J0J/lCkr+pta795Wxt+zcfA7kjyem11tvWvcT+bTJBSZJsvvnmueaaa3LJJZfkwgsvzO23357Zs2dn8803zz777JMTTzwxp556ajo6Ru/P3nrrrXPttdfmW9/6Vr7xjW/ktttuy1NPPZVJkyZl1113zdFHH533vve92WGHHQY/GMB6Vmv9USnlz5N8NY1U/pokK0opC5JMTdJ7ooDvDOMUn0/jC9pxSf60lPJ0ks4kj9daDxtR8YwJ7wnGwtS2tpw9dUZuXLEsP1m+JL/t7MyC2p2ppS07tXfksPET8urxk9JeRmd0kN06xuUz07fMjcuX5hcrluW3XSsyv7s7nWlM+L59W0f2HTcuR45v9GwB1o/NN5ueq790Ti658kf52nevyh33PpDZ8+Zn8+nTss/uL8gJrzsyp77xdaP6fW00TZo4IRd/5mO56qdvyFcv/0FuuuPuPDl7TsZ1dGTn7bfNq192UN7zF8dlj1122tCl8hzgmguAsVRrnVdKOTLJCUn+MslLkmyVRk+Pe5JclOTLzaG6RsObk7w2yaFJntc818Ikj6cxLNZXa62/WofjHJ3GJPSvSCMoeUEavSNrGr0lH03yyySXJrmm1trdz3GGrKzsGjwMw96RTdtR/3nzhi4BNglX/dUhozaecCnlK0neluSCWuspfWzfJslfJTkmyR5pdIlclOS3SW5J8j9Jvr9mV8ZSyiNpTEJ5aq31K/2c++Qk70zyoiTT0pgf69Fa6y4j/sMYtk35PXHZFtu5RgFy7I3f3tAlABuJtr0P3WDzdGzK11zl5D1dcwEtq37tgfVxGvNMrUeCEkadoARGx2gGJdBKBCVAIigBVtmQQcmmTFACtDJByaZnZINAAwAAAAAAPIcJSgAAAAAAgJYlKAEAAAAAAFqWoAQAAAAAAGhZghIAAAAAAKBlCUoAAAAAAICWJSgBAAAAAABalqAEAAAAAABoWYISAAAAAACgZQlKAAAAAACAliUoAQAAAAAAWpagBAAAAAAAaFmCEgAAAAAAoGUJSgAAAAAAgJYlKAEAAAAAAFqWoAQAAAAAAGhZghIAAAAAAKBlCUoAAAAAAICWJSgBAAAAAABalqAEAAAAAABoWYISAAAAAACgZQlKAAAAAACAliUoAQAAAAAAWpagBAAAAAAAaFmCEgAAAAAAoGUJSgAAAAAAgJYlKAEAAAAAAFqWoAQAAAAAAGhZghIAAAAAAKBlCUoAAAAAAICWJSgBAAAAAABalqAEAAAAAABoWYISAAAAAACgZQlKAAAAAACAliUoAQAAAAAAWpagBAAAAAAAaFmCEgAAAAAAoGUJSgAAAAAAgJYlKAEAAAAAAFqWoAQAAAAAAGhZghIAAAAAAKBlCUoAAAAAAICWJSgBAAAAAABalqAEAAAAAABoWYISAAAAAACgZQlKAAAAAACAliUoAQAAAAAAWpagBAAAAAAAaFmCEgAAAAAAoGUJSgAAAAAAgJYlKAEAAAAAAFqWoAQAAAAAAGhZghIAAAAAAKBlCUoAAAAAAICWJSgBAAAAAABalqAEAAAAAABoWYISAAAAAACgZQlKAAAAAACAliUoAQAAAAAAWpagBAAAAAAAaFmCEgAAAAAAoGV1bOgCAOC5oJSyeZIjkxySZL8kz0+yeZJJSZYkmZvk0SS/SnJzkmtqrc9smGoBAAAAWFeCEgDoRyllUpK3JPnLJIdl7Z6YpbmckmTLJHukEaYkSXcp5fokFya5uNa6ZOwrBgAAAGCoDL0FAGsopWxRSvlkkseSfDHJ4Una0whGej+eTfL7JAv72Nae5Igk5yd5rJTyiVLKFuv3LwEAAABgMHqUAEBTKWV8kv/VfEzLqh4js5L8NMlNaQyrdW+SebXWzl77diTZIsneaQzPdUgavVC2br5+VpL3lFL+T5L/W2tdvj7+JgAAAAAGJigBgFV+neQFaQQki5JcnuTrSa6utXYNtGMzNHm6+fhJkpRS2pO8NsnJSY5NMj3Jx5KcmsYwXQAAAABsYIISAFhl1yTzknwmyTm11mdHcrBmuHJlkitLKdOSvC/JB5rnAQAAAGAjYI4SAFjlI0l2qbV+fKQhyZpqrc/WWj+eZJck/ziaxwYAAABg+PQoAYCmWusn1sM5nk0y5ucBAAAAYN3oUQIAAAAAALQsQQkAAAAAANCyDL0FAKOklLJPklek8fl6Z631xg1cEgAAAACDEJQAwCBKKTsk+WDz6Vdqrb/qo83nk7xjjdeuT/KmWuu8sa8SAAAAgOEw9BYADO4tSd6fRhDy8JobSylnJjkjSVnjcXiSS9ZfmQAAAAAMlaAEAAZ3eHN5Xa11Ye8NpZSOJP+7+XRZkv+b5L1JbkkjLHl1KeV166tQAAAAAIZGUAIAg9s1SU1ycx/bXp1km+b2d9Va/67W+p9JXpXk9802f7FeqgQAAABgyAQlADC4rZrLR/rY9urmckGSr698sda6OMk30uhVctBYFgcAAADA8AlKAGBwWzSXi/vY9oo0epNcW2vtXGPb/c3l88aqMAAAAABGRlACAINb3lxu1vvFUsrErOot8tM+9pvfXE4Yo7oAAAAAGCFBCQAMbuVcIy9Z4/UjsyoE+Vkf+81oLhf2sQ0AAACAjYCgBAAGd1Mac42cXErZLUlKKe1JPtjc/kySW/vYb+/m8ndjXiEAAAAAwyIoAYDBfbm5nJHkllLKZUnuTHJ4GvOTfK3W2tXHfq9sbr9rvVQJAAAAwJAJSgBgELXWnyQ5P41eJTOS/GlW9Rb5Q5KPrblPKWWXJC9tPr1xzIsEAAAAYFgEJQCwbs5I8oEk96QxufszSS5JclitdXYf7d/Ta/2qsS8PAAAAgOHo2NAFAMBzQa21Jjmn+VgX/5bkc81dzVECAAAAsJESlADAGKi1PrmhawAAAABgcIbeAgAAAAAAWpagBAAAAAAAaFmCEgBoKqWcU0rZdozPsV0pZV3nOQEAAABgjAlKAGCVv07ycCnl06WU7UfzwKWUHUop/y/Jw0neO5rHBgAAAGD4BCUAsMrtSSYleV+SR0spPyilnFRKmTycg5VSJjf3vzLJI2kEMROb5wEAAABgI9CxoQsAgI3IQUnemeQfk2yX5I+bjyWllFuS/CLJzUnuTzI3ydxa67JSysQkWzQfL0xySJKDm8eb1Dx2SfJkkrOTfHE9/T0AAAAADEJQAgBNtdaa5POllAuSvCeNHiA7JZmc5PDmYzWllK4k7f0csjSXv0vy/5J8vta6dLTrBgAAAGD4SuM3oWEZ9o4ArJMyeBPGUimlPckbkvxlkqPTCEzW1aIkVya5MMn3aq3do18hfblsi+1cowA59sZvb+gSgI1E296Huq4eG665AMaWz6/1SI8SAOhHrbUryeVJLi+ljE/yijSG1do3yfPTGGprQpJlaQzF9UiSu9MYnutntdblG6BsAAAAAIZAUAIA66AZelzXfAAAAACwiWjb0AUAAAAAAABsKIISAAAAAACgZQlKAAAAAACAliUoAQAAAAAAWpagBAAAAAAAaFmCEgAAAAAAoGUJSgAAAAAAgJYlKAEAAAAAAFqWoAQAAAAAAGhZghIAAAAAAKBlCUoAAAAAAICWJSgBAAAAAABaVseGLgAAnotKKTsn2TvJ5knG11q/uoFLAgAAAGAYBCUAMASllDOS/E2SPdbY9NU12n04yR8lebzWetp6Kg8AAACAITL0FgCsg1LK1FLKD5Ocm0ZIUno9+nJTkiOTvK2Uss/6qRIAAACAoRKUAMC6+WaS16QRjPw2yb8k+fwA7a9N8mRz/Q1jWxoAAAAAwyUoAYBBlFJel+T1SWqSC5LsVWv9cJKr+tun1lqT/DCNYOWw9VEnAAAAAEMnKAGAwb21uXwgydtrrZ3ruN+dzeXeo18SAAAAAKNBUAIAg3t5Gr1Jvlpr7RrCfiuH3tp29EsCAAAAYDQISgBgcNs0lw8Ncb/lzeX4UawFAAAAgFEkKAGAwS1tLscNcb+tm8t5o1gLAAAAAKNIUAIAg/tDcznUuUZe3lw+PIq1AAAAADCKBCUAMLifJClJ3lxKWafPzlLKtkmOS2Nuk+vGsDYAAAAARqDUWoe777B3BGCdlA1dAA2llJcl+Vkan33/p9b6oebrxya5LEmttbb3aj8pyfeSvCpJZ5K9aq16lawn9ff3u0YBct4LX7GhSwA2Eu9aONt19dhwzQUwtnx+rUd6lADAIGqtNyW5JI2LlL8rpVxSSjkka8xZUkp5Xinl1CS3JzkijS+P5wpJAAAAADZeHRu6AAB4jjgtyfOTHJLGkFrHNV+vSVJK6czqd3uUJNck+dv1WCMAAAAAQ6RHCQCsg1rr4iR/lOScJCvSCEJWPpLGZ+rK5yuS/FuS19VaO9d/tQAAAACsKz1KAGAd1VqXJ/lAKeVfk5yQ5JVJdkmyWZKFSX6fxsTvF9VaH99QdQIAAACw7gQlADBEtdYnk3y2+QAAAADgOczQWwAAAAAAQMsSlADAIEop15ZSflRKOXSI+7105b5jVRsAAAAAI2PoLQAY3BFJapKthrjfFr32BQAAAGAjpEcJAAAAAADQsgQlADB2JjSXyzdoFQAAAAD0S1ACAGNnv+Zy7gatAgAAAIB+maMEAHoppeycZJd+Nu9bSnlmsEMkmZLkgCR/l8b8JHeMWoEAAAAAjCpBCQCs7tQk/9jH6yXJx4Z4rJJGUHLBSIsCAAAAYGwISgBgbWWIr/dnRZL/W2u9ZIT1AAAAADBGBCUAsLof9/HaR9PoGXJJkvsG2b87ycIkv01yQ611zqhWBwAAAMCoEpQAQC+11p8k+Unv10opH22ufrPW+t31XxUAAAAAY0VQAgCD+6fmcrDeJAAAAAA8xwhKAGAQtdZ/GrwVAAAAAM9FbRu6AAAAAAAAgA1FUAIAAAAAALQsQ28BwBCUUl6Z5C+THJJkxyTTM/iNB7XW6jMXAAAAYCPkRxsAWAellKlJvprk2JUvbcByAAAAABglghIAWDeXJDkqjYBkUZK7krwsSU3y6yRLkjw/ydbN9jXJL5ttAQAAANhImaMEAAZRSnlDkqObT7+VZPta66G9mny41npwrXXbJAcmuTyNQGVSktNrra9arwUDAAAAsM4EJQAwuJOay7lJTqm1LuyvYa319lrrG5N8Isk+SS4vpUxcDzUCAAAAMAyG3oIN7As3PbqhS2AjdcbLnr+hS2CVQ9IYSuvCWuuSPravNV9JrfUjpZTXJ9k/yRlJPju2JQLAbVGWAAAgAElEQVQAwPozd9nTY36OLSZsM+bnAIBEjxIAWBcrv6E9sMbrtbnsr8fI19MIUf58LIoCAAAAYOQEJQAwuJU9MGet8frKIbi2Tt8eay53H/WKAAAAABgVghIAGNyc5nLKGq8/1Vzu1c9+2zWXm496RQAAAACMCkEJAAzuvuZytzVevzONobXeUErp6zP1Tc3lnD62AQAAALAREJQAwOB+nkYgcvAar1/eXO6U5IullOlJUkqZUkr5TJLD05jH5Ib1VSgAAAAAQyMoAYDBXdlc/tHKMKTpkiQPNddPSTKrlPKHJPOTnNl8vTvJp9dHkQAAAAAMnaAEAAZRa/1pkgvS6EHyol6vL09yXJLZafQ4GZfGvCRtzeddSf661vqL9V0zAAAAAOumY0MXAADPBbXWU/t5/a5Syl5J/jrJa5Jsm2RxkluS/Get9c71VyUAAAAAQyUoAYARqrXOS/LPzQcAAAAAzyGG3gIAAAAAAFqWoAQABlFK+VLz8eIh7rdvc7/zx6o2AAAAAEZGUAIAgzslyduS7DzE/Z7X3PeU0S0HAAAAgNEiKAEAAAAAAFqWoAQAxk5Hc9m5QasAAAAAoF+CEgAYOy9sLp/ZoFUAAAAA0K+OwZsAQOsopUxPMqOfzduUUgabp6QkmZLkgCT/K0lNcvfoVQgAAADAaBKUAMDqPpDkH/t4vSQ5b4jHKmkEJRePtCgAAAAAxoagBADWVob4+kAuSvLFEdQCAAAAwBgSlADA6u5IcsEar70tjZ4hP07yu0H2706yMMlvk/yo1nrXaBcIAAAAwOgRlABAL7XWy5Nc3vu1Usrbmqvn1Fq/u/6rAgAAAGCsCEoAYHBfTaNHyWC9SQAAAAB4jhGUAMAgaq2nbOgaAAAAABgbghIAGCWllJJkjzQ+X39Ta122gUsCAAAAYBBtG7oAANjYlVIml1L+tPnYqZ82b0nyhyT3JrkrydOllLPXY5kAAAAADIMeJQAwuOOTfCVJV5Jd19xYSjkqyddWPm0upyX5SCllWq31b9dHkQAAAAAMnR4lADC41zaXN9daH+tj+6fSCEhKkluT/HeS+c3n7yul7L9eqgQAAABgyAQlADC4mUlqkuvX3FBKOSDJvs3tn661HlxrPSHJS5MsSiMsOW091goAAADAEAhKAGBwWzeX9/ex7ajmckWST6x8sdb6UJJL0ghKDhvT6gAAAAAYNkEJAAxuq+ZyQR/bVoYgP6u1zltj2y3N5QvGpCoAAAAARkxQAgCDWzlB+6TVXiylJHl5+hmWK8ns5nLq2JUGAAAAwEgISgBgcLOayz3XeP3gJDOa6z/rY7/JzeXSsSgKAAAAgJETlADA4O5Io1fJW0opvXuVvKO5XJHkxj7227W5fGIMawMAAABgBDo2dAEA8BzwrSRvSLJ7kh+XUr6RZJ8kp6Ux7Nb/1FoX9bHfIc3lveulSgAAAACGTFACAIP7epK/TnJQr8dKy5OcveYOpZTpSV6VRpBy09iXCAAAAMBwGHoLAAZRa+1OckySy5svlebjD0mOr7Xe1cdupyQZ31y/ZqxrBAAAAGB49CgBgHVQa52T5I2llK3TmHtkcZJ7miFKX+5Lcmpj13rreioTAAAAgCESlADAENRaZyWZtQ7trl4P5QAAAAAwQobeAgAAAAAAWpagBAAAAAAAaFmCEgAAAAAAoGUJSgAAAAAAgJYlKAEAAAAAAFqWoAQAAAAAAGhZghIAAAAAAKBlCUoAAAAAAICWJSgBAAAAAABalqAEAAAAAABoWYISAAAAAACgZQlKAAAAAACAliUoAQAAAAAAWpagBAAAAAAAaFmCEgAAAAAAoGUJSgAAAAAAgJYlKAEAAAAAAFqWoAQAAAAAAGhZghIAAAAAAKBlCUoAAAAAAICWJSgBAAAAAABalqAEAAAAAABoWYISAAAAAACgZQlKAAAAAACAliUoAQAAAAAAWpagBAAAAAAAaFmCEgAAAAAAoGUJSgAAAAAAgJYlKAEAAAAAAFqWoAQAAAAAAGhZghIAAAAAAKBlCUoAAAAAAICWJSgBAAAAAABalqAEAAAAAABoWYISAAAAAACgZQlKAAAAAACAliUoAQAAAAAAWpagBAAAAAAAaFmCEgAAAAAAoGUJSgAAAAAAgJYlKAEAAAAAAFqWoAQAAAAAAGhZghIAAAAAAKBlCUoAAAAAAICWJSgBAAAAAABalqAEAAAAAABoWYISAAAAAACgZQlKAAAAAACAliUoAQAAAAAAWpagBAAAAAAAaFmCEgAAAAAAoGUJSgAAAAAAgJYlKAEAAAAAAFpWx4YugA2r1ppLLrkkF154Ye64447MmjUrW2yxRWbOnJm3vOUtOeWUU9LRMfK3yeLFi3P99dfnlltuyS233JKHH344s2fPzty5czNhwoRst912OeCAA3L88cfnTW96U9rb29fpuDfccEPOP//83HjjjXniiSeSJDvssEOOOOKInH766TnkkENGXDsAMDK11lxyxQ/ytUsvzx333JdZc+dmixkzMnOP3XLisa/PKSe8cVSuN5Jk8ZIlufPX9+XWO+/ObXfdk1t/dU/ue+jhdHV1JUmuveSCHHHo0K4PVqxYka9cclku/u738+sHf5O5zzyTrbfYIi/Zd++c9KY/zQl/ckxKKaNSP2zqaq35Zdfy3Ny5LI93d2Vh7c7kUrJ9ac9BHRPy8o4JaR/l/5/u6myc77fdnXm2dqc9JTNKW2a2j8th4yZk+7Z1//enq9b8vHNZbu1clidqVxbXmqmlLTu1tefgjgk5sH28fw+ghayv31R6W7RoUc4777xceumlefDBB7NgwYJsu+22ednLXpbTTjstRx111ID7n3LKKbnggguGfN6PfvSjOfvss4dZNcDGr9Rah7vvsHdk4zBv3rwcf/zxufbaa/ttc8ABB+Syyy7LzjvvPKJzXXnllTnmmGPWqe1+++2Xiy++OHvttVe/bRYtWpS3v/3tueiii/ptU0rJmWeemU9/+tNpa9t4O0994aZHN3QJbKTOeNnzfcuGYai/v981ykZk3jPz8+fvfF+uvfGmftsc8KKZ+fZ/fS47P2+HEZ9vq30Pydxn5ve7fahBySOPPZ7j3nFmbr/71/22OfKVh+aSz/+/zNhs+pBqZWyd98JXbOgSWMOi2p0vLn0293d39ttmp7b2vGvCtGzRtm43Tg1kQe3OlwY5X3uSPx03OX88ftKgx5vT3ZXzlj2bx7q7+m2zV9u4vGPi1EwuG+/3j1b0roWzXVePgbnLnh7za64tJmwz1qcYtvX5m8pKt99+e44//vg8/PDD/bY56aST8qUvfSnjx4/vc/twg5ILLrggb33rW4e8HzAiPr/WI0FJi1q+fHmOPPLI3HDDDUmSnXbaKWeccUZ23333PP744/nSl76Ue++9N0kyc+bM/PznP8/06cP/8r8yKJk5c2YOPvjg7LXXXtlxxx0zceLEPPPMM7ntttty0UUXZe7cuUmSbbbZJnfeeWe22267tY7V1dWV17/+9bnqqquSJFOmTMmpp56aQw45JG1tbbn99ttz/vnnZ968eUmSM888M+ecc86wax9rghL6IyiB4RGUbDyWL1+e177ltNxw861Jkp122D7vOOmE7L7Lznn8iSfz5Yu/nXsf/E2SZOaeu+dnl1+U6dOmjuicm898aeYveLbn+c7P2yHLV6zIk0/PSjK0oOSZ+Qty6LEn5r6HGj9G7L3Hbjn1zW/Kjttvl4ce+V2++PVL8tgfGj1aX3XoIbnqG+eP+l2jDJ+gZOPSWWvOWbogDzVDi81LWw7rmJCt29rzTO3Oz1Ysy5O1EUBsX9rzvyZNz6QRhA1La82/LZ2fx5uhxtSUHDpuQnZs60h3TR7uXpGfdy7Limb748dPzmvG9R+WLK7d+dSSBT01blfac+i4CZlR2jKruys/7VyWebU7SbJnW0fOnDh91HvGMHyCkrHRykHJ+v5NJUkeffTRHHLIIXnqqaeSJAcffHBOPvnkbLXVVrnrrrvyhS98IXPmzEmSnHzyybnwwgv7PM5tt92W3/3ud4Oe78EHH8zf/d3fJUmmTZuWJ598MpMnTx7R3wAMmc+v9UhQ0qLOOeecvP/970/SuMPhmmuuyeabb96zfenSpfmzP/uznjDigx/8YD71qU8N+3xz5szJ8uXLs/322/fbZu7cuXnd616Xm2++OUnyrne9K+eee+5a7c4999z81V/9VZJkxx13zHXXXZfdd999tTZPPPFEXv3qV+e+++5LkvzkJz/J4YcfPuz6x5KghP4ISmB4BCUbj3P+66v5wNmfTNLoNfLDb345m8/YrGf70qXL8sbT35OrfvLTJMnfvvO0fOojfzeic57y/r/Pnru9IAe+aJ8cuN++2WqLzXPqB87KBd/6TpKhBSUfOPtfcs5/Ne64PPqIV+bb//W5TJw4oWf73HnP5LVvOa2nt8m/f/wjec8pJ42ofkaPoGTjcu2KJfnW8sVJGr1G3jdxeqb0CkJW1JrPL3s2v+5qRBdHjpuY48ZPGfb5Llu+KFevWJokeV7zfNPWCF6e7O7KZ5bOz4Ja05HkI5NmZJt+erJ8a9miXNvZON7M9nF514RpGdcrCFlUu3PO0gU9vU3ePH5Kjhg3cdj1M7oEJWOjlYOS9f2bSpK88Y1vzHe+07ieOe200/LFL35xtdEzHn300Rx++OE9Icj3vve9vP71rx/2+c4666z867/+a5Lk7W9/e774xS+OoHpgmHx+rUeCkhbU2dmZHXbYIbNmzUopJXfddVf22Weftdo9/fTT2XXXXbNo0aJMmDAhv//977PllluOaW233357DjjggCSNOzL6usth77337glArrjiirzhDW/o81i/+MUveuYoOeyww3ru9NjYCEroz/oOSkopRyS5LklqraN67lLK2Uk+muQntdYjRvPYrK3V/1sKSjYOnZ2ded6Bh2fWnLkppeRX13w3+7xwj7XaPT17TnY79LVZtHhxJkwYn8dv/Um27PVDw2gYTlDy9Ow52fngI7J8+YpMmTw5v/nZD7PNVmtfB9193wPZ/7XHptaa7bbZOo/d8uN1nmuNsSUo2Xh01ZqzFs/LwtSUJP8wabPs0Me8IAtqd/5x8bwsS2MyzX+ZvHmmDqNXSVet+eDieVnaPN+HJ22W5/UzD8kvO5flv5YtTJIc3D4+p06c1mddH148L51JJiT558mbZ3ofdf2+uzOfWDI/Ncn0UvIvkzZPm14lG4WxCkpa/ZqrVYOSDfGbyp133pkXv/jFSZKdd945999/fyZOXDuM/f73v98Tjhx00EG55ZZbhnW+rq6u7LTTTj1zwd5444059NBDh3UsYERcSKxHBk5tQddee21mzWoMP/Ga17ymzw/0pDH81YknnpgkWbZsWS6//PIxr23mzJk9608++eRa25944omekGSLLbYY8O6IlUN8JY0P9XXpWgpsnEopf1ZKObuU8mcbuhZGxn/L1nHtjTdl1pzGkJqvOezlfYYkSbLNVlvmzX/6uiTJsmXLc/lV/Y/zvT5958prsnx54872E499fZ8hSZLsu9eeefUrXpYkefLpWfnJTcP7QQI2Zfd3rcjC5n12L2wb12dIkiTTS1sO7Gj02upM8qvO5cM636PdnVnaPN/z2tr7DUmS5CXt47Oyn9idXcuzvI8bCe/sXJ6Vs5wc1DGhz5Ckca6O7Nk2LkmyoNY8MMDcKDDWXHONnQ3xm8rFF1/cs37GGWf0GZIkyTHHHNMz4satt9464FwmA7nyyit7QpK99tpLSAK0BEFJC7r66qt71o8++ugB2/befuWVV45ZTSv95je/6Vnva36Sxx9/vGd9jz32SBnkDq0999wzSVJrzQ9+8INRqhI2WYuT3N98bGz+LI076nzRWzf+W7LBXX39jT3rRx1x2IBtj+61/aofbxw9QH/Yq/6jB6m/99935XUbR/2wMbm3a0XP+j4d4wZsu0/7qu339NpvKFbOFZIk25aBe3i1lZKtmsNtLUvyUB/n7F3/zPZB6u/19/26a3hBD88prrla0Ib4TWVdz1lKyVFHHTXic37pS1/qWT/11FOHdQyA5xqzTbagu+++u2f9wAMPHLDtQQcd1Od+Y2HRokU588wze56/6U1vWqvNCIaKy1133TXsfaEV1Fp/kWSvDV0HI+e/JRuDe+57sGf9wBf1faflSgftv2/P+t33PzhAy/Wndx0H7jdI/futqv+ejaR+2Jj8oTkBepLsPEDvjiR5fq/tf+juGqDl2Ph97crMNV77Q6+eIc/fyOtn/XLN1ZrW928q3d3d+fWvG/OhdXR0ZP/99x/Tc86ePTtXXHFFz/ne+ta3DvkYAM9FgpIW9MADD/Ss77LLLgO23XHHHdPe3p6urq48+OCDqbUO2otjMAsXLsw111yTpBF8LFiwIL/61a/yzW9+s6dr54tf/OKcffbZa+3bu5fJutTT+2+9//6N8SYfANg0PfDbR3rWd9npeQO23XH77VZdb/z20VG53hiJ7u7u/ObRx5Ik7e3t2XH7tXu59vb8HVf9fQ88/MhYlgbPSU/1Cgy2HGTOkRmlLW1JupM8XbuG9e9B76Gxnq4DhxXdtWZ2r/qeWiPc6K41s5o9VNqa9Q1ki97nFpT8/+3deZhcVZ3/8fe3u7OSkIQQQAiCgICAgggDIpiAIiCMrLKIQpBRQVBGx/nhDsyo42wO46gjyqaiAoLgMgEcRBAQGEB2ENkhEIgEspJ00unv749706l0uqv3Jbnv1/PUU7dunXvuqaqu6qr7ueccaZ002MdUZs2axZIlSwDYbLPNaGrqIrDdYosO29pdl1xyCcuXFz3pDjrooA5H+5CkdZFDb1XQvHnz2pY33HDDumWbmppYf/31gWLCssWLF/d5/7NmzeLwww/n8MMP54gjjmDGjBl84xvfYPbs2WywwQZ86lOf4tZbb2XixIlrbPv617+eqVOnAvDKK68wc+bMTvdz1113tc1nAqs/bqlqIuLGiMhynOIREfF3EXFXRMwr108vLxkRnXbdiog3R8RlEfFiRCyNiCcj4r8iYqPubF9Tz7si4n8i4i9lPY9ExFkRMbpduellfSeWq05cuY+ay/Q+PTlrGV9LrS3mzV/YtrzhBvUnZ29qamL9ceOA8vvGa68NaNu6smjxa7S0FGeQT1x/fJcHJCZPWvWdZd6CBQPaNmlttKSmV/h6XQQNjRGMLuctbaUYDquntmhoajsjcFbrCp6vM1fIvSuWrbaPJe16sDeTrBzIawxBYxcHONeruf+1PvSG19DzO5c6M9jHVHqyP2C1CeN7cxzkoosualv+8Ic/3OPtJWltZVBSQYsWLWpb7mwCsFpjxoxpW164cGGdkn231157MW3atNX22d5HPvKRtuVTTz21w8nJXnrpJU488cTV1i3wwIUEMBq4Efg3YGeKYxDd+hUfEYcDdwNHAxsDy4HXAacD9wJbdrOevwf+FziIomfjSIohC84GZkasNpj4MuAlYGl5e2l5u/ZS1QHAfS01rC2qCTtGjxpVp2RhzOhVZRYu6vuJGX2xqOYgRo/b3g8nlUjrmuaaf0/1Z/goy9RkEc29CBtGRrB7OSl8Ahc3L2JRzbwlK73UuoLLl63+nl3S7l9pc83NEd04C3wkq8o0d+/fsoY/v3NpNYN9TGUw93f33Xdz//33A8Vk9IccckiPtpektZlBiQbd9ttvT2aSmbS0tPDSSy/xq1/9igMOOIBf//rXHHbYYRx99NGdnmnx6U9/mh13LMYKf+6559hll10444wz+PGPf8xPf/pTzjzzTHbYYQcefvhhttpqq7btGhr8c5eA04C3ACcB62fmBsAU4P56G0XEVsAlFMc3/gjslpnjgbHA/hQ/tr7Rjf3vDHy9vGyUmZOAicA/lPfvy6qz38jMP2TmJsBl5arLMnOTdpc/dGO/6yJfS0mSOnHoiLFMKIONWa0rOOe1eVy9bDF3tjRzR0szlzYv4mtL5jE/kw1rerkM3aB/Gsb8zqXKqO1N8qEPfajLXrWStC7xE6+Cxo0bx6uvvgrA0qVLGVcOddGZlWNhAowfP75f29LY2Nh2lsIhhxzCl770Jb7yla9wxRVXEBFcfvnlHbb/2muv5fDDD+euu+5i4cKFfPOb31yj3IEHHsiMGTM49thjAZg0qf6wH9JwExF3d6dcZtafQXB144D3ZeavarafW+6v3nafp/hRNwfYPzNfKbdN4PqIOAC4rxv7nwick5ln1+x/AXBWROwEHAEcB1zYg8dUVZV7Lbv7nmid9aeuC2nAjRs7llfnzwdgaXMz47r4ob1k6arBb8aPW29A29aVceut2v/S5q4H/lmt7esNbdul4WgUwWvlCfjLgcb6xVlec67+qF7OVzShoYFPjl6f7y5dyF+ylUUk1y1fuka5tzeNYrOGRq5YVvSCG9suKhlVc3N5N3q3LKvpaDDK2GVd4XeuTsxd+lJ/7XKtMtjHVGrrX7p0zc+x/tpfc3MzP/nJT9puO+yWpKrxFPsKqp374+WXX65btqWlpW3IqhEjRrDeAP/4P+ecc9h2220B+NnPfsbDDz/cYbmpU6dy++23c8kll3DIIYewySabMHLkSCZPnsx+++3HJZdcwsyZM3mtZtgPJyCTAHio9kded0TxC/DI8uZ/r/yRVyszHwXWTDbX1EwxbEFHflFev6Un7aswX0sNaxMnrPph/vIrr9Yt29LSwoJyWIkRI0aw3tixA9q2roxbb2zbGZTzFixsm6+kM3NfXTX+98RyHHJJq4ypOZi8uIMhsGqtyGRpGTY0Al0Pfte5TRua+NKYiRw7cj22axjBOIJGYP0I3tw4go+PGs8Jo8atNpfIhHZzqIwi2n40LyFZ0UVYsrjm/rG9DHk07PidS6sZ7GMqPdkfwNy5czvctitXX311WwC0xx57sMMOO/SglZK09rNHSQVtu+22PPXUUwA8/fTTbLnllp2WnTVrFitWrABgm2226eqMmT5raGhg//33589//jMAN910U6f/nBsbGzn++OM5/vjjO62vNmjZfffd+7ex0gDrYU+R7rq1F9tsRXEmG8BNdcrdCHyoi7oeysxFndz3Qnm9QfebVmmVey27+57I5x91UPhhYNs3bMlTz84C4OnnnmfLzad2WnbW7BdXfd/Y8vUD/n2jKw0NDWy9xeY8+sRTrFixglmzX6zb/mdmPd+2vO1WWw5CC6W1y8YNjcxdUQQkc7OVyXX6lMzL1rbJ06dEY58/D0ZEMG3EaKaN6Hxc/xdbV7Qtb9G4+k/khgimRAMvle2al61Mjs7b/0pNELRRQ1d9Z7SW8DtXJ15pnlPJ71yDfUxl6tSpjBkzhiVLlvD888/T0tJSd0isZ555ZrW2dteFF67qlGRvEklVZI+SCtppp53alu++u36P2rvuuqvD7QZSbdfQefPm1SnZtZtuWvWddJ999ulTXdI6Yk4vtplSs/xCp6Xg+Tr3rVRvNsGVp2wb4nePr6WGtR23f2Pb8t0PPFS37F33Pdi2vNN2b6xTcvDUtuPu+7to//2r2r/jMGm/NJxsWhMsPNtav4fWMzX3bzoIQUNrJo+3LgeK+Um2bljzX9emNeueGWbt16DwO5dWM9jHVBoaGtpOIG1paeG+++qP2Nabfc6aNYvrr78egLFjx7YNYS5JVWJQUkEHHHBA2/J1111Xt+y1117btnzggQcOWJtqPf74423LG264Ya/reeihh7jzzjsB2G677dh777373DZpHbCi6yJ1VfKssWHK11LD2gHTVv3f/c1Nt9Qte+2Nq+4/YPrwOLHhPTXtv66L9l9X0/4D9x0e7ZeGkx2aRrQtP9yyvG7Zh1asun/HxhF1SvaPh1YsZ0E5XNb2jSPYoINwY4eadjyyoov21zy+HRpH9lMrNcT8zqXVDMUxle7uMzNXu7+7+7z44otpbS16xB155JGs71CikirIoKSC9t13X6ZMKU5wuf7663nooY7PkpwzZw6XXnopAKNHj+bQQw8d8LbNmjWLmTNntt3ea6+9elXPihUr+OQnP9l2+zOf+Uyf2yZV2F9qljetU26zgW6I+szXUoNm3732YMrkYiSQ62++jYcefazDcnNenstlvyz+948eNYpDD9hv0NpYz2EHvpuRI4uDo5f+4n+Y8/LcDss9+Kc/c8OttwOwyUZTmLanQ31K7W1bzg8C8KfW5bzQSa+MBdnK3S3NAIwA3tI0sEHDskx+vmzVnIb7dzI8185NI9tO17+zpZkFncyz8nxrC38ue6esH8G2HfROUWX4nWsdNhTHVI4++ui25fPOO6/TSd2vueaatpNPd9ttN7baaqtu1X/xxRe3LTvslqSqMiipoKamJr7whS8AxdkGJ5xwQtuEXSstXbqUE088kcWLFwNw+umnM3ny5A7rmzFjBhFBRHD22Wd3WObMM89cbZzMjjzxxBMccsghbROwT5s2jR133LHDsrfcckvbOJ/tLViwgA9+8IPccMMNQPEl5uSTT667b0l1PQmsHAdvep1y9e7rq5VHJJwVtW98LTVompqa+PwnTgGK7xsn/u2ZvDpv/mplli5tZsbffpbF5f/+02Ycz+RJkzqs76RPfZaGqdvTMHV7zv73/xrYxgNTJm/AqSd8AIBFi1/jpE99jqVLm1cr8+q8+Zz4t58ly7PRv/DJU2hsdKgdqb3GCA4aOQYoTq2/uHnRGpO6L8/kB82LWPkumzZiNOOi45+rP2hexKmL53Lq4rn8uiboaO+xOr0/FmQr31m6gBez+E3x9qZRvKmTHiDjo4F3NhUhSjPww+ZFLG83qfvibOUHzYvaug4cNGIsDU7mXmV+51qHDcUxlZ133pnDDjsMgGeffZbTTz+9rQfISs8++yynnnpq2+3O6mrvpptu4oknngBg6623Ztq0ad3aTpLWNZ7iUlGnnnoqV155JTfffDN//OMf2XnnnRGlPc0AACAASURBVPnYxz7GNttsw6xZs7jgggt45JFHANhhhx344he/2Kf9nXfeefzrv/4re+65J3vttRfbbbcdEydOpKWlhRdeeIFbbrmFmTNnsmzZMgA22WQTzj///E7rO+WUU3jllVc4+OCD2XXXXZkyZQoLFizg3nvv5bLLLmPOnGIY2Z122olLL710yCeFldZmmZkR8XPgw8ApEfGfmbnaL4GIeCNwdIcV9I8F5fXEuqVUl6+lBtupJxzLz6/5DTffcRd/fOBhdnnPYXz0g8ewzZavZ9bsF7nw0it55LHih/kO227DF884tYsau3bDrbe39fBY6Z4HH2lbvvDSK7n+lttWu/8zH/swEyesOcTEWZ86jetuvJk/Pf4k1/zu97ztoCM4+bij2GyTjXn86Wf53iWX8dwLswGY/va/4qPHD+RbR1q7vbNpNPe0LOPx1haea13BV5fMZ5+mUUxpaGRetnLr8ua20OJ10ch7R4zp8z6/vXQB46OBnRpHsllDI2MjeC2Tp1pb+GPLMpaWsca2DU0cM3K9unUdPHIMD69Yzou5godWLOdrS+bzjhGjmBgN/KV1BTe3NPNqGf5s29DEPk2j+tx+rb38zrXuG+xjKgDnnnsut912Gy+99BIXXHABDz74IB/60IeYPHkyDzzwAOeddx5z5xY9YI8//ngOPvjgbtV70UUXtS2vDG0kqYoMSipq5MiR/OIXv+Coo47ihhtu4LnnnuvwH/euu+7KVVddxYQJE/q8z8zktttu47bbbqtbbvr06Zx//vlsvfXWdcvNnj27bphy5JFH8t3vfrdP85xIavNPwHHAxsBvIuKjmXlPFN+i9wXOB14DBuqowMqZkveJiO0z808DtJ8q8LXUoBk5ciRXX/Bt3v+xM7jh1tt57oXZfOlfzl2j3K5v3oGfn/8tJqw/vs/7/P3td/K1b3630/sv+fkv11j3N8cd1WFQMnHC+sz80fc48iOf5J4HH+aRx57gM//wz2uUe/c+e3H5d89lxIiBn09BWls1RXDK6PF8f+lCHm1t4dVs5ZfLl6xRbvOGRk4ZNZ4xnfQm6amXs5UbWzoeoiaAvZtGcdTI9RjZxYHBsdHA6aPHc17zQp5rXcGLuYIrO+jNsn3DCD4yehyNHmiU37nWaUNxTGWLLbbgmmuu4aijjuLJJ5/kjjvu4I477lij3Ac+8AEuvPDCbtW5cOFCrrjiCqCYNH7GjBl9bqckra0MSips0qRJXH/99Vx++eX86Ec/4p577uHll19m0qRJ7Ljjjhx77LGcdNJJNDX1/c/k3nvv5brrruMPf/gDDzzwAM8++yzz58+nsbGRCRMmsPXWW7P77rtz9NFH8453vKPL+r7zne8wc+ZMbrnlFp599lnmzJnD6NGj2XTTTZk+fTrHH398t+qR1D2Z+XhEnAD8FNgN+GNELAQagbHA88CngYuA5k4r6r0rga8BU4BHIuJlYHF537GZeXunW2o1vpYabJMmTuB/L72Iy391DZdc+QvuefARXn71VSZNmMCO227DMe97Lycdc0S/fN8YCFtuPpXbf3UZF19+FZf9ciYP/flxXp0/nw0nTeKtO72JDx55KEf/9UGefSl1w3rRwBmj1+fuFcu4o6WZ51pbWJzJ2AheF43s1jSKtzeN6reQ4eRR43lkxXKebF3OvGxlcSajCCY2NPCmhhHsMWIUU3swj8jkhkbOHD2B21qauaulmdm5gtcyWS+CzRua2KNpFG9rHOnngQC/c1XBYB5TWemtb30r999/P+eddx5XXHEFjz32GAsXLmSjjTZizz335MMf/nCPJo2//PLL24YH23///Zk6dWq/tVWS1jaR7cZW7YFebyhple/dXn/uFlXXR/fcot9+ZUfEjcA04JzMPLuTMtOB3wFkZof7joidgS9QjKc8geIH3i+BrwJ7Az8HXsrMTdptdzZwFnBTZk7vzf4jYvuyjn2AjSjmeQXYNzNv7KjOdZGvZdfy+Uf9jiKJ87bzpBlJhVMWvdzj79V+5+raK81zBvw71wajNhroXUjScObZF4PIoEQaYgYl6kx/BiWDISK+CnweuCEz3zXU7VHvre2vpUGJJDAokbRKb4KSwbC2f+cyKJGkATcs/3+tq/pn4FdJUqVFxBTgb8qb1w5lW9Q3vpaSJEkDz+9ckiQNLwYlkqRuiYhPRsRnI2KbiGgq142KiPcCv6fozv8XoHszB2rI+FpKkiQNPL9zSZK09hies2ZKkoajrYAzgH8CVkTEfGB9Vv0vmQ8cnZlzh6h96j5fS0mSpIHndy5JktYSBiWSpO76AbACeCewGTAZWAI8BVwH/GdmPj90zVMP+FpKkiQNPL9zSZK0ljAokSR1S2beA9wz1O1Q3/laSpIkDTy/c0mStPZwjhJJkiRJkiRJklRZBiWSJEmSJEmSJKmyDEokSZIkSZIkSVJlGZRIkiRJkiRJkqTKMiiRJEmSJEmSJEmVZVAiSZIkSZIkSZIqy6BEkiRJkiRJkiRVlkGJJEmSJEmSJEmqLIMSSZIkSZIkSZJUWQYlkiRJkiRJkiSpsgxKJEmSJEmSJElSZRmUSJIkSZIkSZKkyjIokSRJkiRJkiRJlWVQIkmSJEmSJEmSKsugRJIkSZIkSZIkVZZBiSRJkiRJkiRJqiyDEkmSJEmSJEmSVFkGJZIkSZIkSZIkqbIMSiRJkiRJkiRJUmUZlEiSJEmSJEmSpMoyKJEkSZIkSZIkSZVlUCJJkiRJkiRJkirLoESSJEmSJEmSJFWWQYkkSZIkSZIkSaosgxJJkiRJkiRJklRZBiWSJEmSJEmSJKmyDEokSZIkSZIkSVJlGZRIkiRJkiRJkqTKMiiRJEmSJEmSJEmVZVAiSZIkSZIkSZIqy6BEkiRJkiRJkiRVlkGJJEmSJEmSJEmqLIMSSZIkSZIkSZJUWQYlkiRJkiRJkiSpsgxKJEmSJEmSJElSZRmUSJIkSZIkSZKkyjIokSRJkiRJkiRJlWVQIkmSJEmSJEmSKsugRJIkSZIkSZIkVZZBiSRJkiRJkiRJqiyDEkmSJEmSJEmSVFkGJZIkSZIkSZIkqbIMSiRJkiRJkiRJUmUZlEiSJEmSJEmSpMoyKJEkSZIkSZIkSZVlUCJJkiRJkiRJkirLoESSJEmSJEmSJFWWQYkkSZIkSZIkSaosgxJJkiRJkiRJklRZBiWSJEmSJEmSJKmyDEokSZIkSZIkSVJlGZRIkiRJkiRJkqTKMiiRJEmSJEmSJEmVZVAiSZIkSZIkSZIqy6BEkiRJkiRJkiRVlkGJJEmSJEmSJEmqLIMSSZIkSZIkSZJUWQYlkiRJkiRJkiSpsgxKJEmSJEmSJElSZRmUSJIkSZIkSZKkyjIokSRJkiRJkiRJlWVQIkmSJEmSJEmSKsugRJIkSZIkSZIkVZZBiSRJkiRJkiRJqiyDEkmSJEmSJEmSVFkGJZIkSZIkSZIkqbIMSiRJkiRJkiRJUmUZlEiSJEmSJEmSpMoyKJEkSZIkSZIkSZVlUCJJkiRJkiRJkirLoESSJEmSJEmSJFWWQYkkSZIkSZIkSaosgxJJkiRJkiRJklRZBiWSJEmSJEmSJKmyDEokSZIkSZIkSVJlGZRIkiRJkiRJkqTKMiiRJEmSJEmSJEmVZVAiSZIkSZIkSZIqy6BEkiRJkiRJkiRVlkGJJEmSJEmSJEmqLIMSSZIkSZIkSZJUWQYlkiRJkiRJkiSpsgxKJEmSJEmSJElSZRmUSJIkSZIkSZKkyjIokSRJkiRJkiRJlWVQIkmSJEmSJEmSKsugRJIkSZIkSZIkVZZBiSRJkiRJkiRJqqymoW6AVHUf3XOLoW6CJEmSJEk9ssGojYa6CZIk9Rt7lEiSJEmSJEmSpMoyKJEkSZIkSZIkSZVlUCJJkiRJkiRJkirLoESSJEmSJEmSJFWWQYkkSZIkSZIkSaosgxJJkiRJkiRJklRZBiWSJEmSJEmSJKmyDEokSZIkSZIkSVJlGZRIkiRJkiRJkqTKMiiRJEmSJEmSJEmVZVAiSZIkSZIkSZIqy6BEkiRJkiRJkiRVlkGJJEmSJEmSJEmqLIMSSZIkSZIkSZJUWQYlkiRJkiRJkiSpsgxKJEmSJEmSJElSZRmUSJIkSZIkSZKkyjIokSRJkiRJkiRJlWVQIkmSJEmSJEmSKsugRJIkSZIkSZIkVZZBiSRJkiRJkiRJqiyDEkmSJEmSJEmSVFkGJZIkSZIkSZIkqbIMSiRJkiRJkiRJUmUZlEiSJEmSJEmSpMqKzBzqNkiSJEn9JiLuBsjMtw11WyQNHT8LJEmS1F32KJEkSZIkSZIkSZVlUCJJkiRJkiRJkirLoESSJEmSJEmSJFWWQYkkSZIkSZIkSaosgxJJkiRJkiRJklRZBiWSJEmSJEmSJKmyDEokSZIkSZIkSVJlGZRIkiRJkiRJkqTKMiiRJEmSJEmSJEmVFZk51G2QJEmSJEmSJEkaEvYokSRJkiRJkiRJlWVQIkmSJEmSJEmSKsugRJIkSZIkSZIkVZZBiSRJkiRJkiRJqiyDEkmSJEmSJEmSVFkGJZIkSZIkSZIkqbIMSiRJkjQsRERjRHw6Iu6JiMURkeXlsIi4sVw+u5/21a/1SRq+IuKkiLgtIhbUfK78bXnfxeXti/tpX/1anyRJkgZH01A3QJIkSSqdC5xeLi8DXiqXlw5NcySt7SLi74B/K2+2AHOABBYPWaMkSZI07NijRJIkSUMuIsYDHytv/j9gdGZuUl6uBZ4FHgVeHqo2Slor/X15/U1gbGZuXH6ufL9cP5vis2X2kLROkiRJw4I9SiRJkjQcbA+MKJf/OzOz9s7MPGHwmyRpbRYRU4CNy5vfz8zl7ctk5ueAzw1qwyRJkjTs2KNEkiRJw8HYlQuZuWgoGyJpnTG2ZtnPFUmSJHXKoESSJElDJiJmREQCN9asy5rLjeW6Tidfj4imiPhoWebliFgeEXMj4tGIuCwiTu6iDRERH4mIO8rJnheWEz9/sH8frbTuqX1v9uW9FBFHRMSvI+KliFhWXv86Ig7vRZuml58rT9esfqrmc+XpmrJ1J1+PiGMi4pqyPcsjYl5EPBYRv4yI0yJidBdtOap8jl6JiNci4t6IOCMi/C0uSZI0jDj0liRJkobSEopJ20cCk8p1L9Xc/0q9jSOiEZgJ7F+zej6wHrABsC1wNHBBJ1U0AlcBh1JM9PwaMB7YE9gzIt6YmWf14PFIVdWr91JEjAR+CBxTrmqleA9vCBwMHBwRPwVO7GjorE4so/gcaSzrgWJ+oxXl8l+6U0lEXAicVLNqEcUQgduUl78G/ofVA5na7b8FnFY+pgXAGGBn4FxgV+DEbj4eSZIkDTDPYpEkSdKQyczLMnMT4IiadZvUXI6osznAcRQhyVLgb4DxmTmR4oDkxmW9V9TZ/jRgOjADWD8zJwCbA78q7/9iRLyxxw9Mqp7evpe+RhGSJPCPwOTM3IAi4PhaWea48r5uycw/lJ8ru9es3r3mc2X3zrZdKSL2pghJWoEzy3aNz8z1yrYdAPyAIpTpyPuAjwCfBiZl5qRyu/PL+0+IiP26+5gkSZI0sAxKJEmStDbbq7z+YWZesHJ+kyzMycyrMvP9dbafBByemT/IzCXltrOA9wMvUHxfPnoA2y+tK3r8XoqIzYAzyptfz8wvZ+a8cttXM/MLwDfK+z8dEa8bhMex0srPlusz818ys613W2bOzczfZOaMzHyhk+0nAR/LzP/IzAU1230EuLssc9yAtV6SJEk9YlAiSZKktdm88nqTXm5/a2b+rv3KzGwGritvvqWXdUtV0pv30pEUw0EvBb7eSb1fAZophrw6qn+a2i0rP1umlEP89dRzFD1OOvLL8trPFkmSpGHCoESSJElrs5kUQ/a8r5xw+biI2LQH299R576VZ4pv0OvWSdXRm/fSbuX1nSt7XbSXma8Cd7UrPxh+SxHgvBW4OSJOjog39GD7OzMzO7nPzxZJkqRhxqBEkiRJa63MvIVi/oBlwIHAT4DnI+K5iLgoIvbtooqFde5rKa9H9L2l0jqvN++ljcrr57uoe1a78gMuM5+gmPdoEfB2irlFnoyIORFxWUQcGhFRpwo/WyRJktYiBiWSJElaq2XmvwJvAD4FXA3MAaZSTCp9Q0T8LCI8ICmpRzLzx8AWwCnAZRTDaU2hmGvlauCmiFh/6FooSZKk/mJQIkmSpLVeZr6Qmedm5uGZuTHF2P/nl3cfBZw6dK2T1Ik55fXULsqtvH9O3VIDIDNfyczzMvPYzHw9sA3FfCoJ7AOcPdhtkiRJUv8zKJEkSdI6JzMfyMyPALeWq/YfyvZI6lDb3CMRMaGjAhExkZq5TAalVXVk5hOZ+TmKYf7AzxZJkqR1gkGJJEmS1loRMaqLIkvK69aBboukHruSYr6O0RRzDXXk88AoYHlZflD42SJJklQtBiWSJElam10dERdGxEHlmecARMQGEfFF4F3lqv8ZmuZJ6kxmPg/8Z3nzsxFxzsr3cURMjIh/BP6+vP8bmTl7EJv3rYi4PCKOjIi2SeQjYlxEnAKcUK7ys0WSJGkd0DTUDZAkSZL6YAxwUnkhIhaU62snWL6CVfOVSBpePg9sTjFB+peBL0bEfGACq07s+ynwpUFu1wjg/eWFiFhE0ftlYk2ZW4CvDnK7JEmSNAAMSiRJkrQ2+wRwEDANeCOwCcUwPi9QzH/wg8z8+dA1T1I9mbkMOCYiLgdOppiPZBIwl+I9/P3MvGoImvaPwN3AvsCbKD5bxlFMKH8fRXjzw8xcMQRtkyRJUj+LzBzqNkiSJEmSJEmSJA0J5yiRJEmSJEmSJEmVZVAiSZIkSZIkSZIqy6BEkiRJkiRJkiRVlkGJJEmSJEmSJEmqLIMSSZIkSZIkSZJUWQYlkiRJkiRJkiSpsgxKJEmSJEmSJElSZRmUSJIkSZIkSZKkyjIokSRJkiRJkiRJlWVQIkmSJEmSJEmSKsugRJIkSZIkSZIkVZZBiSRJkiRJkiRJqiyDEkmSJElSr0TE2yJiRURkROw21O0BiIi9y/Ysj4gdh7o9kiRJGv4iM4e6DZIkSZKkfhYRuwCHlTevzsx7B2AftwF7Ar/KzPf1d/29FRG/BfYDbsjMdw11eyRJkjS82aNEkiRJktZNuwBnlZdd+rvyiDiCIiQBOLu/6++js8vr/SLigKFsiCRJkoY/gxJJkiRJUm+cU15fm5l/HNKWtJOZNwO3lDfPqVdWkiRJMiiRJEmSJPVI2Utjp/LmD4eyLXWsbNceEbHXkLZEkiRJw5pBiSRJkiSpp04trxcCvxjKhtRxBdBcLn98KBsiSZKk4c2gRJIkSWu9iJgeEVlezi7XbRsR346IxyLitYh4ISJ+FRHv6GD7gyPi1xHxXEQsjYhnIuI7EbFJN/ffEBFHR8RlEfFUub+FEfGniPjviHhzN+p4fUScHhE/i4hHI2JRRCyLiDkRcWNEnBkRE7rZnkMj4vKIeLJsy9KIeD4i7ivr/3hETO5guxtXPo/d2EfdshFxds1rMr1c966I+Gn5HC0t79uyg213jIhvRMS9EfFKRDSX7f9lRBwfEZ3+jomILWv2e3G5brOI+OeIeLh8XudExG8j4uAOtt+75nVcWv7d/DAitunqOamp48CIuLj821tYvgZPlOv27mLbGTXtn1Gu2yEizivrWBIRc8v2HxcR0VkdwEU1qy+qqXfl5enuPqZ29U8G3lvevDozX+vh49ktIn5QPsdLyvfbTyNip3bbNkbEByLihoiYXb4ef46Ir0fE+l21MzNfBa4pbx4eEeN683glSZK07msa6gZIkiRJ/S0ijqQYdmdszeoxwCHAwRFxcmZeFBEjgPOAk9pV8XqKM+YPj4h9MvPxOvvamuLM9Y4my96uvHw0Ir6amV/upI7pwA3AGge9gSnAtPLydxFxRGbe0kE5ImIM8DNgjQAA2LS8vAU4ChgJnNvZ4+pnERHfAk7rolAT8O/A6ax5UtfK9v818ImIOCwzX+zGjvcBfg5sWLN6PWA/iom+z8nMs8vA4R+AL7ar4nXAhyj+FvbPzNvr7GsKcGlZd3tblZcTI+IC4NTMXN6N9s8AvguMqlk9emX7gQOAGV3V08/eC4wol3/Xkw0j4nTgP1j9t+jry8vhEXFoZl4XEeOBy4CD2lXxRuBM4NCIeGdm/qWLXf4OOIzis+DdwNU9aa8kSZKqwaBEkiRJ65q3AZ8FllEEAXdRHHQ/EDiOIoz4fkTcAnySIiS5H7gEeAbYGPgoxfwLmwAXAx32AihDkttZdRD+FuDXZT2NZVtmAJOAL0VEa2ae3UFVo8t2PURxYPcRYG65fnOKA71vowhNfh0Ru2Tm0x3U8zVWhSSzy8f0ELAIGAdsA7wdeGdHj2cA/T3FAe8XKZ7PByl+i/wV5dBIZVBxOXB4uc1sitDhPuA1YAvgWIrnYQ/gtxGxe73eDBQH368CxgPnAzcDyyke/8kUB/vPioibgF0pQpInyzb+GZhIEZK8g+L5+3FE7JCZzbQTERsAtwFbl6vuowhoHgdaKf6eZgCblftuouuA4yCKUGs+8G3gHiDL9p9Utv/EiPh9Zl5Ys90NFM/jfsAnynX/Va6vVe+5q2f/muX/68F2hwBHAH+heD0epAgwj6D4ux0FXBYRbwB+QPH4b6UI/2ZT/A2cVl5vTxG4fLCLfdYGWwdgUCJJkqQORGaXveolSZKkYa3skVF7ZvsTwH6Z+Wy7cp8Hvlre/CPwVoqz9U/PzNaacmMpDrCuHDJrj8z8v3Z1NQB3UhxgbwY+lJk/66BtGwPXUvQ4aQXekpkPtSuzBbB+Zj5Q5zEeRxF8NAAXZ+ZJ7e5vpAhXJlAENX+VmXM6qWsKMDkz/9Ru/Y0UPVfIzI56t3S7bBRDoJ1Vs+oW4ODMXNBJfWewqofLJcDH2ocgZZjyFeDz5ap/zszPtiuzJfBUzaqXgXdn5n3tyn0A+HF58yGKEOk64OjaIKR8Xq9hVThwTGZe3kH7r6IItBL4VGb+ZwdlxgFXAu8pVx2Umde2KzOD1YfMuhc4oP1rGRGHUwQxAI9k5g4d7K+2rpMy8+L2ZXojIh4FtqWYn2Ri7XunizZAEawcWA6LVVvue8BHypt3UwRin8vMr7crtxHFc/I6YAWweWbOrrP/kcACihDmnszctTuPUZIkSdXiHCWSJElaF32wfUhS+neKg7tQBBwPAp9of6C3PEBfe4D2gA7qOqysA+DvOwpJyrpeAo6hOKjbAJzRQZln6oUkZZmfUgQIAMeUw4bVmkIRkgD8orOQpKzrL+1DkgG2mCJg6CwkGc2q8ONO4MSOeopk4QsUPUMATi23recT7UOSsq6fUPQaAdgRmEfxd9PcrtwK4OyaVWv8LUTErhR/DwD/0VFIUta1iKJXzPxy1ae7aPty4KiOXsvMvIqitwXAmyJi8y7q6hcRMYpi+CuAx+qFJB1YRhFEvdrBfedQhExQhCTXtA9JAMrn4lvlzUaK4bQ6lZnLKHoJAewYdea3kSRJUnX5JVGSJEnrmrs7m0eiPAh+V82q88oD4R2pnQdkjbP1KYZkguJs9e/Xa1Bm/plVQxS9p17ZLvyhvB5DMddIrSU1yx21dyhdmZkv1Ln/AGCjcvk/unHwfWVgtD6wZ51ycyiG8+rMrTXLP8rMhZ2U+z+K0ALq/y0kRRjXqTIkmFnefGcZPHTm15n5RJ37a4fSGqzXfHNWzaXzSg+3/VVmPtPRHZn5PPB0zapv16mnq/dmeyuDmZEUPVEkSZKk1ThHiSRJktY1d3Rx/0s1y/XmV6gtN6mD+/cpr2cDBxajQtW1MpDZIiLGZOaS9gUiYg+KORf2pJj4ezyrJs1ubyrFEEUAZOb8iPg/ink/3l0OBfVfwM3dmTR8gN3cxf371CxPiojDOi1Z2Kxm+U3AjZ2Uu6uL0KVbfwuZ2RIRcynmrKn3tzAP+Ktu/C2MqrneimJOmo50OnF86fma5Y7aNRA2qFnuaVDSnffmG8rlvrw325vbrvzznRWUJElSNRmUSJIkaV0zt4v7a4dW6rRsZjbXHPBebXincq6JyeXN7SgmDO+JSdT0ACnnUTifVT0TumP9DtadBvy2vO+w8rI4Iu6gOAv/euDWHg6X1B+6OjC9Zc1yvZ4EHal3oLxf/hbale1oqK8ta9rSm7+FzrzczTZBx+0aCLU9YDrrgdOZ/no9evq4a4d8G9ON8pIkSaoYgxJJkiSta3oSAvQ2MJjQdZG6Rra7/W1WhSTNFEMz3UkRMCxmVW+U/YBPlMuN7SvNzLsiYheKOTXeT3FQeL1yu/2ALwNPR8QXM/PH7bcfQGv0nmmnL89n++ey1mD8LcDwaP9gqQ0pOgrr6un24+nnMK/29enqb1GSJEkVZFAiSZIk9dyimuXfZ+a03lYUEVsCJ5c3ZwHTMvPJTspu1tH6Wpn5FHBiRHwMeDuwF7A3MI0iONkSuCQitsjMr/W23fTvfIe1z+dW5WNYmywCJgLPZuYWQ92YAVY73NYGnZYaXvoyXJgkSZIqwMncJUmSpB7KzPmsOrg/tY/V7ceqybG/3llIUur2QfjMXJqZv8vMr2bmQRSTpZ9JMeE4wJcjYnK7zdp6C5TDgdWzYXfb0g21Q3P19fkcCivbv1FEdDanzLriWVb1DFnbgpJlFHMKSZIkSasxKJEkSZJ65/fl9VYRsU0f6tm4ZvmJLsoe0NudZOaizPwX4Mpy1Shg93bF5tUsb9pZXRExCdi2t23pwE01y+/px3oHy8r2jwbeOZQNaad2+KouZ5jvjsxcBjxW3twmIob1b8qIGAVsVd58MDOzXnlJkiRV07D+UitJkiQNYz+oWf6HPtTzWs3y1p0ViohDgbf0YT8rPV2z3H4o3odrlverU8fH6WCOlD6YyaqJyz8eEa/rx7oHww9rls+KiP58bvqidkiz9fqx3jvK6/HADv1YFx5MTQAABKFJREFU70DYhVXzwNxRr6AkSZKqy6BEkiRJ6p0rKCZcBzguIs6tN1xVRIyJiBkRcWy7u+6sWf5M2Vuj/bZ7ABfWa0xEvDUivhQRG9cpsyHFJO9QDMF1f7si19Ysf66TtrwX+FK9tvRUZi4GzilvbgBcGxFvrLdNROwREf/Sn+3orcy8g1U9dfYBfhwRnU50HhFNEXFERJw2wE2rnetl136s939rlv+qH+sdCHvULF83ZK2QJEnSsOZk7pIkSVIvZGZrRBwJ3AZsBpwBHB0RPwPuA+YD44DXA7sB76I4q799yHAbcDfwNoqJ1v8UEd8FHqWYfH0/4Jiy7I+B4ztp0gSKni1nRcStwB+APwMLKcKHNwMfYNV8DT/OzGfbPaY7IuJmioP92wB/LNvyZLndgcChZb2vAW/txlPVLZn5rYjYHTiBoufMwxHxS4ohzmZT9GCZUj6OdwFvoBiq7P/1Vxv66MMUw5G9meL1OiAiLgfuAl6leC03o3jO9gcmARcMcJseAOZQzE/zwYj4C3A7sKS8f0lm3tTZxnXMpJjvYyQwnS5CvCG2b3m9GLh+KBsiSZKk4cugRJIkSeqlzHyuPLj/I4qD968DPllnkxXAi+3qyLKXyQ3A5hQHtb/cbrulwGkUc050FpSsnHuhkWKejHpzZVwGfLST+04EfkcxcfyWwNfb3f8o8NfA9+vU31szKOa/+CLFHCpHlJfOzBqANvRKZi6IiL2B71EEJRMpnuPOnmeAFwa4TS0R8SXgPGAEa4ZKz1C8xj2t95WImAkcBhweEWMz87WuthtsETEROKi8eVXZc0mSJElag0NvSZIkSX2QmbMz890UZ9afBzxEMSn6CmABxbwflwGnAptn5vkd1PE4RU+DfwIeoQhGFlGEEt8C3paZdc/aL3sGvBn4DMUwUH8q62gtrx+mOPN/WmYem5lLOqnnqbItXyu3WVI+jnuAzwG7ZeZjHW3bV1n4CkVvkS9TTJL+IkXvhaUUwcj1wD8Cb8/M6QPRjt7KzAWZeSzFMFfnUjxnc4EWitfgMeBq4NPA1pnZPhAbiDZ9j6In0NUUz19zP1X9nfJ6HEVgMhy9nyJwA/jvoWyIJEmShrfIzK5LSZIkSZJUIyLuoxgm7TeZecBQt6e9iPg9xTByd2TmnkPdHkmSJA1f9iiRJEmSJPXG2eX1eyLibUPZkPbKYdD2KW+eNZRtkSRJ0vBnUCJJkiRJ6rHMvAq4rbx59hA2pSNnl9c3ZOZ1Q9kQSZIkDX8OvSVJkiRJ6pWI2BW4k+IkvN0z864hbtLK3iQ3U8wNs0tmPjTETZIkSdIwZ1AiSZIkSZIkSZIqy6G3JEmSJEmSJElSZRmUSJIkSZIkSZKkyjIokSRJkiRJkiRJlWVQIkmSJEmSJEmSKsugRJIkSZIkSZIkVZZBiSRJkiRJkiRJqiyDEkmSJEmSJEmSVFkGJZIkSZIkSZIkqbIMSiRJkiRJkiRJUmUZlEiSJEmSJEmSpMoyKJEkSZIkSZIkSZVlUCJJkiRJkiRJkirLoESSJEmSJEmSJFWWQYkkSZIkSZIkSaosgxJJkiRJkiRJklRZ/x9Tya4D13UstgAAAABJRU5ErkJggg==\n",
                "text/plain": "<Figure size 864x288 with 3 Axes>"
              }
            ],
            "_view_module": "@jupyter-widgets/output",
            "_model_module_version": "1.0.0",
            "_view_count": null,
            "_view_module_version": "1.0.0",
            "layout": "IPY_MODEL_0f36ca5f1d634ff7a0f74f46661aded9",
            "_model_module": "@jupyter-widgets/output"
          }
        },
        "0f36ca5f1d634ff7a0f74f46661aded9": {
          "model_module": "@jupyter-widgets/base",
          "model_name": "LayoutModel",
          "state": {
            "_view_name": "LayoutView",
            "grid_template_rows": null,
            "right": null,
            "justify_content": null,
            "_view_module": "@jupyter-widgets/base",
            "overflow": null,
            "_model_module_version": "1.2.0",
            "_view_count": null,
            "flex_flow": null,
            "width": null,
            "min_width": null,
            "border": null,
            "align_items": null,
            "bottom": null,
            "_model_module": "@jupyter-widgets/base",
            "top": null,
            "grid_column": null,
            "overflow_y": null,
            "overflow_x": null,
            "grid_auto_flow": null,
            "grid_area": null,
            "grid_template_columns": null,
            "flex": null,
            "_model_name": "LayoutModel",
            "justify_items": null,
            "grid_row": null,
            "max_height": null,
            "align_content": null,
            "visibility": null,
            "align_self": null,
            "height": null,
            "min_height": null,
            "padding": null,
            "grid_auto_rows": null,
            "grid_gap": null,
            "max_width": null,
            "order": null,
            "_view_module_version": "1.2.0",
            "grid_template_areas": null,
            "object_position": null,
            "object_fit": null,
            "grid_auto_columns": null,
            "margin": null,
            "display": null,
            "left": null
          }
        },
        "64e74d27bad14ae2a6a6e46933bd0c63": {
          "model_module": "@jupyter-widgets/controls",
          "model_name": "TabModel",
          "state": {
            "_view_name": "TabView",
            "_dom_classes": [],
            "_titles": {
              "0": "Youtube",
              "1": "Bilibili"
            },
            "_model_name": "TabModel",
            "_view_module": "@jupyter-widgets/controls",
            "selected_index": 0,
            "_model_module_version": "1.5.0",
            "_view_count": null,
            "_view_module_version": "1.5.0",
            "box_style": "",
            "layout": "IPY_MODEL_3ad65758e2a747398c4ee13f2dde84d8",
            "_model_module": "@jupyter-widgets/controls",
            "children": [
              "IPY_MODEL_0c4de30d4b6d46d6ab8b9e59016b9689",
              "IPY_MODEL_1596c374a625495f9736deeee2ed12d6"
            ]
          }
        },
        "3ad65758e2a747398c4ee13f2dde84d8": {
          "model_module": "@jupyter-widgets/base",
          "model_name": "LayoutModel",
          "state": {
            "_view_name": "LayoutView",
            "grid_template_rows": null,
            "right": null,
            "justify_content": null,
            "_view_module": "@jupyter-widgets/base",
            "overflow": null,
            "_model_module_version": "1.2.0",
            "_view_count": null,
            "flex_flow": null,
            "width": null,
            "min_width": null,
            "border": null,
            "align_items": null,
            "bottom": null,
            "_model_module": "@jupyter-widgets/base",
            "top": null,
            "grid_column": null,
            "overflow_y": null,
            "overflow_x": null,
            "grid_auto_flow": null,
            "grid_area": null,
            "grid_template_columns": null,
            "flex": null,
            "_model_name": "LayoutModel",
            "justify_items": null,
            "grid_row": null,
            "max_height": null,
            "align_content": null,
            "visibility": null,
            "align_self": null,
            "height": null,
            "min_height": null,
            "padding": null,
            "grid_auto_rows": null,
            "grid_gap": null,
            "max_width": null,
            "order": null,
            "_view_module_version": "1.2.0",
            "grid_template_areas": null,
            "object_position": null,
            "object_fit": null,
            "grid_auto_columns": null,
            "margin": null,
            "display": null,
            "left": null
          }
        },
        "0c4de30d4b6d46d6ab8b9e59016b9689": {
          "model_module": "@jupyter-widgets/output",
          "model_name": "OutputModel",
          "state": {
            "_view_name": "OutputView",
            "msg_id": "",
            "_dom_classes": [],
            "_model_name": "OutputModel",
            "outputs": [
              {
                "output_type": "stream",
                "metadata": {
                  "tags": []
                },
                "text": "Video available at https://youtube.com/watch?v=YPQgLVolvBs\n",
                "stream": "stdout"
              },
              {
                "output_type": "display_data",
                "metadata": {
                  "tags": []
                },
                "text/html": "\n        <iframe\n            width=\"854\"\n            height=\"480\"\n            src=\"https://www.youtube.com/embed/YPQgLVolvBs?fs=1&rel=0\"\n            frameborder=\"0\"\n            allowfullscreen\n        ></iframe>\n        ",
                "text/plain": "<IPython.lib.display.YouTubeVideo at 0x7f70de566890>",
                "image/jpeg": "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\n"
              }
            ],
            "_view_module": "@jupyter-widgets/output",
            "_model_module_version": "1.0.0",
            "_view_count": null,
            "_view_module_version": "1.0.0",
            "layout": "IPY_MODEL_53e01c6a4f944bf2927eed58e413a4ca",
            "_model_module": "@jupyter-widgets/output"
          }
        },
        "1596c374a625495f9736deeee2ed12d6": {
          "model_module": "@jupyter-widgets/output",
          "model_name": "OutputModel",
          "state": {
            "_view_name": "OutputView",
            "msg_id": "",
            "_dom_classes": [],
            "_model_name": "OutputModel",
            "outputs": [
              {
                "output_type": "stream",
                "metadata": {
                  "tags": []
                },
                "text": "Video available at https://www.bilibili.com/video/BV1TU4y1G7SM\n",
                "stream": "stdout"
              },
              {
                "output_type": "display_data",
                "metadata": {
                  "tags": []
                },
                "text/html": "\n        <iframe\n            width=\"854\"\n            height=\"480\"\n            src=\"https://player.bilibili.com/player.html?bvid=BV1TU4y1G7SM&page=1?fs=1\"\n            frameborder=\"0\"\n            allowfullscreen\n        ></iframe>\n        ",
                "text/plain": "<__main__.BiliVideo at 0x7f70de2523d0>"
              }
            ],
            "_view_module": "@jupyter-widgets/output",
            "_model_module_version": "1.0.0",
            "_view_count": null,
            "_view_module_version": "1.0.0",
            "layout": "IPY_MODEL_33f9db17d96042f09784b7bb74cc0c88",
            "_model_module": "@jupyter-widgets/output"
          }
        },
        "53e01c6a4f944bf2927eed58e413a4ca": {
          "model_module": "@jupyter-widgets/base",
          "model_name": "LayoutModel",
          "state": {
            "_view_name": "LayoutView",
            "grid_template_rows": null,
            "right": null,
            "justify_content": null,
            "_view_module": "@jupyter-widgets/base",
            "overflow": null,
            "_model_module_version": "1.2.0",
            "_view_count": null,
            "flex_flow": null,
            "width": null,
            "min_width": null,
            "border": null,
            "align_items": null,
            "bottom": null,
            "_model_module": "@jupyter-widgets/base",
            "top": null,
            "grid_column": null,
            "overflow_y": null,
            "overflow_x": null,
            "grid_auto_flow": null,
            "grid_area": null,
            "grid_template_columns": null,
            "flex": null,
            "_model_name": "LayoutModel",
            "justify_items": null,
            "grid_row": null,
            "max_height": null,
            "align_content": null,
            "visibility": null,
            "align_self": null,
            "height": null,
            "min_height": null,
            "padding": null,
            "grid_auto_rows": null,
            "grid_gap": null,
            "max_width": null,
            "order": null,
            "_view_module_version": "1.2.0",
            "grid_template_areas": null,
            "object_position": null,
            "object_fit": null,
            "grid_auto_columns": null,
            "margin": null,
            "display": null,
            "left": null
          }
        },
        "33f9db17d96042f09784b7bb74cc0c88": {
          "model_module": "@jupyter-widgets/base",
          "model_name": "LayoutModel",
          "state": {
            "_view_name": "LayoutView",
            "grid_template_rows": null,
            "right": null,
            "justify_content": null,
            "_view_module": "@jupyter-widgets/base",
            "overflow": null,
            "_model_module_version": "1.2.0",
            "_view_count": null,
            "flex_flow": null,
            "width": null,
            "min_width": null,
            "border": null,
            "align_items": null,
            "bottom": null,
            "_model_module": "@jupyter-widgets/base",
            "top": null,
            "grid_column": null,
            "overflow_y": null,
            "overflow_x": null,
            "grid_auto_flow": null,
            "grid_area": null,
            "grid_template_columns": null,
            "flex": null,
            "_model_name": "LayoutModel",
            "justify_items": null,
            "grid_row": null,
            "max_height": null,
            "align_content": null,
            "visibility": null,
            "align_self": null,
            "height": null,
            "min_height": null,
            "padding": null,
            "grid_auto_rows": null,
            "grid_gap": null,
            "max_width": null,
            "order": null,
            "_view_module_version": "1.2.0",
            "grid_template_areas": null,
            "object_position": null,
            "object_fit": null,
            "grid_auto_columns": null,
            "margin": null,
            "display": null,
            "left": null
          }
        },
        "de899f51b82f4f6d80436b2e3cc986a4": {
          "model_module": "@jupyter-widgets/controls",
          "model_name": "TabModel",
          "state": {
            "_view_name": "TabView",
            "_dom_classes": [],
            "_titles": {
              "0": "Youtube",
              "1": "Bilibili"
            },
            "_model_name": "TabModel",
            "_view_module": "@jupyter-widgets/controls",
            "selected_index": 0,
            "_model_module_version": "1.5.0",
            "_view_count": null,
            "_view_module_version": "1.5.0",
            "box_style": "",
            "layout": "IPY_MODEL_054231c8661246188f84562768aeb123",
            "_model_module": "@jupyter-widgets/controls",
            "children": [
              "IPY_MODEL_f368754eb64a434784fd9aa30a3e915b",
              "IPY_MODEL_1777741b201d4947abd24d896a168858"
            ]
          }
        },
        "054231c8661246188f84562768aeb123": {
          "model_module": "@jupyter-widgets/base",
          "model_name": "LayoutModel",
          "state": {
            "_view_name": "LayoutView",
            "grid_template_rows": null,
            "right": null,
            "justify_content": null,
            "_view_module": "@jupyter-widgets/base",
            "overflow": null,
            "_model_module_version": "1.2.0",
            "_view_count": null,
            "flex_flow": null,
            "width": null,
            "min_width": null,
            "border": null,
            "align_items": null,
            "bottom": null,
            "_model_module": "@jupyter-widgets/base",
            "top": null,
            "grid_column": null,
            "overflow_y": null,
            "overflow_x": null,
            "grid_auto_flow": null,
            "grid_area": null,
            "grid_template_columns": null,
            "flex": null,
            "_model_name": "LayoutModel",
            "justify_items": null,
            "grid_row": null,
            "max_height": null,
            "align_content": null,
            "visibility": null,
            "align_self": null,
            "height": null,
            "min_height": null,
            "padding": null,
            "grid_auto_rows": null,
            "grid_gap": null,
            "max_width": null,
            "order": null,
            "_view_module_version": "1.2.0",
            "grid_template_areas": null,
            "object_position": null,
            "object_fit": null,
            "grid_auto_columns": null,
            "margin": null,
            "display": null,
            "left": null
          }
        },
        "f368754eb64a434784fd9aa30a3e915b": {
          "model_module": "@jupyter-widgets/output",
          "model_name": "OutputModel",
          "state": {
            "_view_name": "OutputView",
            "msg_id": "",
            "_dom_classes": [],
            "_model_name": "OutputModel",
            "outputs": [
              {
                "output_type": "stream",
                "metadata": {
                  "tags": []
                },
                "text": "Video available at https://youtube.com/watch?v=tz9zsmTHR68\n",
                "stream": "stdout"
              },
              {
                "output_type": "display_data",
                "metadata": {
                  "tags": []
                },
                "text/html": "\n        <iframe\n            width=\"854\"\n            height=\"480\"\n            src=\"https://www.youtube.com/embed/tz9zsmTHR68?fs=1&rel=0\"\n            frameborder=\"0\"\n            allowfullscreen\n        ></iframe>\n        ",
                "text/plain": "<IPython.lib.display.YouTubeVideo at 0x7f70de566890>",
                "image/jpeg": "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\n"
              }
            ],
            "_view_module": "@jupyter-widgets/output",
            "_model_module_version": "1.0.0",
            "_view_count": null,
            "_view_module_version": "1.0.0",
            "layout": "IPY_MODEL_cf19f692c696482fbcd2f75ee831a6ed",
            "_model_module": "@jupyter-widgets/output"
          }
        },
        "1777741b201d4947abd24d896a168858": {
          "model_module": "@jupyter-widgets/output",
          "model_name": "OutputModel",
          "state": {
            "_view_name": "OutputView",
            "msg_id": "",
            "_dom_classes": [],
            "_model_name": "OutputModel",
            "outputs": [
              {
                "output_type": "stream",
                "metadata": {
                  "tags": []
                },
                "text": "Video available at https://www.bilibili.com/video/BV1954y1n7uH\n",
                "stream": "stdout"
              },
              {
                "output_type": "display_data",
                "metadata": {
                  "tags": []
                },
                "text/html": "\n        <iframe\n            width=\"854\"\n            height=\"480\"\n            src=\"https://player.bilibili.com/player.html?bvid=BV1954y1n7uH&page=1?fs=1\"\n            frameborder=\"0\"\n            allowfullscreen\n        ></iframe>\n        ",
                "text/plain": "<__main__.BiliVideo at 0x7f70ddea0910>"
              }
            ],
            "_view_module": "@jupyter-widgets/output",
            "_model_module_version": "1.0.0",
            "_view_count": null,
            "_view_module_version": "1.0.0",
            "layout": "IPY_MODEL_c89e17cac28a4a8b8cee493c8daf0185",
            "_model_module": "@jupyter-widgets/output"
          }
        },
        "cf19f692c696482fbcd2f75ee831a6ed": {
          "model_module": "@jupyter-widgets/base",
          "model_name": "LayoutModel",
          "state": {
            "_view_name": "LayoutView",
            "grid_template_rows": null,
            "right": null,
            "justify_content": null,
            "_view_module": "@jupyter-widgets/base",
            "overflow": null,
            "_model_module_version": "1.2.0",
            "_view_count": null,
            "flex_flow": null,
            "width": null,
            "min_width": null,
            "border": null,
            "align_items": null,
            "bottom": null,
            "_model_module": "@jupyter-widgets/base",
            "top": null,
            "grid_column": null,
            "overflow_y": null,
            "overflow_x": null,
            "grid_auto_flow": null,
            "grid_area": null,
            "grid_template_columns": null,
            "flex": null,
            "_model_name": "LayoutModel",
            "justify_items": null,
            "grid_row": null,
            "max_height": null,
            "align_content": null,
            "visibility": null,
            "align_self": null,
            "height": null,
            "min_height": null,
            "padding": null,
            "grid_auto_rows": null,
            "grid_gap": null,
            "max_width": null,
            "order": null,
            "_view_module_version": "1.2.0",
            "grid_template_areas": null,
            "object_position": null,
            "object_fit": null,
            "grid_auto_columns": null,
            "margin": null,
            "display": null,
            "left": null
          }
        },
        "c89e17cac28a4a8b8cee493c8daf0185": {
          "model_module": "@jupyter-widgets/base",
          "model_name": "LayoutModel",
          "state": {
            "_view_name": "LayoutView",
            "grid_template_rows": null,
            "right": null,
            "justify_content": null,
            "_view_module": "@jupyter-widgets/base",
            "overflow": null,
            "_model_module_version": "1.2.0",
            "_view_count": null,
            "flex_flow": null,
            "width": null,
            "min_width": null,
            "border": null,
            "align_items": null,
            "bottom": null,
            "_model_module": "@jupyter-widgets/base",
            "top": null,
            "grid_column": null,
            "overflow_y": null,
            "overflow_x": null,
            "grid_auto_flow": null,
            "grid_area": null,
            "grid_template_columns": null,
            "flex": null,
            "_model_name": "LayoutModel",
            "justify_items": null,
            "grid_row": null,
            "max_height": null,
            "align_content": null,
            "visibility": null,
            "align_self": null,
            "height": null,
            "min_height": null,
            "padding": null,
            "grid_auto_rows": null,
            "grid_gap": null,
            "max_width": null,
            "order": null,
            "_view_module_version": "1.2.0",
            "grid_template_areas": null,
            "object_position": null,
            "object_fit": null,
            "grid_auto_columns": null,
            "margin": null,
            "display": null,
            "left": null
          }
        },
        "3cd30cca4a6546d09094e492e629f4d4": {
          "model_module": "@jupyter-widgets/controls",
          "model_name": "VBoxModel",
          "state": {
            "_view_name": "VBoxView",
            "_dom_classes": [],
            "_model_name": "VBoxModel",
            "_view_module": "@jupyter-widgets/controls",
            "_model_module_version": "1.5.0",
            "_view_count": null,
            "_view_module_version": "1.5.0",
            "box_style": "",
            "layout": "IPY_MODEL_97293776790f44908e532d8fd1ac020a",
            "_model_module": "@jupyter-widgets/controls",
            "children": [
              "IPY_MODEL_180edf4eda10472ea24524f80ce0ff35",
              "IPY_MODEL_884bb5b8a8c54442935178b099812f89",
              "IPY_MODEL_394beb4d275d4c0589b352a850239915"
            ]
          }
        },
        "97293776790f44908e532d8fd1ac020a": {
          "model_module": "@jupyter-widgets/base",
          "model_name": "LayoutModel",
          "state": {
            "_view_name": "LayoutView",
            "grid_template_rows": null,
            "right": null,
            "justify_content": null,
            "_view_module": "@jupyter-widgets/base",
            "overflow": null,
            "_model_module_version": "1.2.0",
            "_view_count": null,
            "flex_flow": null,
            "width": null,
            "min_width": null,
            "border": null,
            "align_items": null,
            "bottom": null,
            "_model_module": "@jupyter-widgets/base",
            "top": null,
            "grid_column": null,
            "overflow_y": null,
            "overflow_x": null,
            "grid_auto_flow": null,
            "grid_area": null,
            "grid_template_columns": null,
            "flex": null,
            "_model_name": "LayoutModel",
            "justify_items": null,
            "grid_row": null,
            "max_height": null,
            "align_content": null,
            "visibility": null,
            "align_self": null,
            "height": null,
            "min_height": null,
            "padding": null,
            "grid_auto_rows": null,
            "grid_gap": null,
            "max_width": null,
            "order": null,
            "_view_module_version": "1.2.0",
            "grid_template_areas": null,
            "object_position": null,
            "object_fit": null,
            "grid_auto_columns": null,
            "margin": null,
            "display": null,
            "left": null
          }
        },
        "180edf4eda10472ea24524f80ce0ff35": {
          "model_module": "@jupyter-widgets/controls",
          "model_name": "FloatSliderModel",
          "state": {
            "_view_name": "FloatSliderView",
            "style": "IPY_MODEL_deb01cccdbd04f1f86ff419931c6dd5e",
            "_dom_classes": [],
            "description": "p(s = left)",
            "step": 0.01,
            "_model_name": "FloatSliderModel",
            "orientation": "horizontal",
            "max": 0.99,
            "_view_module": "@jupyter-widgets/controls",
            "_model_module_version": "1.5.0",
            "value": 0.83,
            "_view_count": null,
            "disabled": false,
            "_view_module_version": "1.5.0",
            "min": 0.01,
            "continuous_update": true,
            "readout_format": ".2f",
            "description_tooltip": null,
            "readout": true,
            "_model_module": "@jupyter-widgets/controls",
            "layout": "IPY_MODEL_681e911769ce42db97785276226c3389"
          }
        },
        "884bb5b8a8c54442935178b099812f89": {
          "model_module": "@jupyter-widgets/controls",
          "model_name": "HBoxModel",
          "state": {
            "_view_name": "HBoxView",
            "_dom_classes": [],
            "_model_name": "HBoxModel",
            "_view_module": "@jupyter-widgets/controls",
            "_model_module_version": "1.5.0",
            "_view_count": null,
            "_view_module_version": "1.5.0",
            "box_style": "",
            "layout": "IPY_MODEL_7ecace0055624c92b8bbc164d1a57b21",
            "_model_module": "@jupyter-widgets/controls",
            "children": [
              "IPY_MODEL_3f8255d70a5f47448e3c4491b2c9881c",
              "IPY_MODEL_0e6ab707e0ed4fb8b2aae737577095db"
            ]
          }
        },
        "394beb4d275d4c0589b352a850239915": {
          "model_module": "@jupyter-widgets/controls",
          "model_name": "ToggleButtonsModel",
          "state": {
            "_options_labels": [
              "Fish",
              "No Fish"
            ],
            "_view_name": "ToggleButtonsView",
            "style": "IPY_MODEL_4b9737c216504f64803b161437b90a78",
            "_dom_classes": [],
            "description": "Observation (m) on the left:",
            "_model_name": "ToggleButtonsModel",
            "tooltips": [],
            "index": 1,
            "button_style": "",
            "_view_module": "@jupyter-widgets/controls",
            "_model_module_version": "1.5.0",
            "_view_count": null,
            "disabled": false,
            "_view_module_version": "1.5.0",
            "icons": [],
            "description_tooltip": null,
            "_model_module": "@jupyter-widgets/controls",
            "layout": "IPY_MODEL_52e9d82fb3bd4d50afdede18d87b867b"
          }
        },
        "deb01cccdbd04f1f86ff419931c6dd5e": {
          "model_module": "@jupyter-widgets/controls",
          "model_name": "SliderStyleModel",
          "state": {
            "_view_name": "StyleView",
            "handle_color": null,
            "_model_name": "SliderStyleModel",
            "description_width": "",
            "_view_module": "@jupyter-widgets/base",
            "_model_module_version": "1.5.0",
            "_view_count": null,
            "_view_module_version": "1.2.0",
            "_model_module": "@jupyter-widgets/controls"
          }
        },
        "681e911769ce42db97785276226c3389": {
          "model_module": "@jupyter-widgets/base",
          "model_name": "LayoutModel",
          "state": {
            "_view_name": "LayoutView",
            "grid_template_rows": null,
            "right": null,
            "justify_content": null,
            "_view_module": "@jupyter-widgets/base",
            "overflow": null,
            "_model_module_version": "1.2.0",
            "_view_count": null,
            "flex_flow": null,
            "width": "300px",
            "min_width": null,
            "border": null,
            "align_items": null,
            "bottom": null,
            "_model_module": "@jupyter-widgets/base",
            "top": null,
            "grid_column": null,
            "overflow_y": null,
            "overflow_x": null,
            "grid_auto_flow": null,
            "grid_area": null,
            "grid_template_columns": null,
            "flex": null,
            "_model_name": "LayoutModel",
            "justify_items": null,
            "grid_row": null,
            "max_height": null,
            "align_content": null,
            "visibility": null,
            "align_self": null,
            "height": null,
            "min_height": null,
            "padding": null,
            "grid_auto_rows": null,
            "grid_gap": null,
            "max_width": null,
            "order": null,
            "_view_module_version": "1.2.0",
            "grid_template_areas": null,
            "object_position": null,
            "object_fit": null,
            "grid_auto_columns": null,
            "margin": null,
            "display": null,
            "left": null
          }
        },
        "7ecace0055624c92b8bbc164d1a57b21": {
          "model_module": "@jupyter-widgets/base",
          "model_name": "LayoutModel",
          "state": {
            "_view_name": "LayoutView",
            "grid_template_rows": null,
            "right": null,
            "justify_content": null,
            "_view_module": "@jupyter-widgets/base",
            "overflow": null,
            "_model_module_version": "1.2.0",
            "_view_count": null,
            "flex_flow": null,
            "width": null,
            "min_width": null,
            "border": null,
            "align_items": null,
            "bottom": null,
            "_model_module": "@jupyter-widgets/base",
            "top": null,
            "grid_column": null,
            "overflow_y": null,
            "overflow_x": null,
            "grid_auto_flow": null,
            "grid_area": null,
            "grid_template_columns": null,
            "flex": null,
            "_model_name": "LayoutModel",
            "justify_items": null,
            "grid_row": null,
            "max_height": null,
            "align_content": null,
            "visibility": null,
            "align_self": null,
            "height": null,
            "min_height": null,
            "padding": null,
            "grid_auto_rows": null,
            "grid_gap": null,
            "max_width": null,
            "order": null,
            "_view_module_version": "1.2.0",
            "grid_template_areas": null,
            "object_position": null,
            "object_fit": null,
            "grid_auto_columns": null,
            "margin": null,
            "display": null,
            "left": null
          }
        },
        "3f8255d70a5f47448e3c4491b2c9881c": {
          "model_module": "@jupyter-widgets/controls",
          "model_name": "FloatSliderModel",
          "state": {
            "_view_name": "FloatSliderView",
            "style": "IPY_MODEL_7085f52559ef44008887ef77253df7dd",
            "_dom_classes": [],
            "description": "p(fish on left | state = left)",
            "step": 0.01,
            "_model_name": "FloatSliderModel",
            "orientation": "horizontal",
            "max": 0.99,
            "_view_module": "@jupyter-widgets/controls",
            "_model_module_version": "1.5.0",
            "value": 0.5,
            "_view_count": null,
            "disabled": false,
            "_view_module_version": "1.5.0",
            "min": 0.01,
            "continuous_update": true,
            "readout_format": ".2f",
            "description_tooltip": null,
            "readout": true,
            "_model_module": "@jupyter-widgets/controls",
            "layout": "IPY_MODEL_58f7a47b18f04509b24c8dddee2cad6f"
          }
        },
        "0e6ab707e0ed4fb8b2aae737577095db": {
          "model_module": "@jupyter-widgets/controls",
          "model_name": "FloatSliderModel",
          "state": {
            "_view_name": "FloatSliderView",
            "style": "IPY_MODEL_7b39a46f111c4a66b412c5c55209f220",
            "_dom_classes": [],
            "description": "p(fish on left | state = right)",
            "step": 0.01,
            "_model_name": "FloatSliderModel",
            "orientation": "horizontal",
            "max": 0.99,
            "_view_module": "@jupyter-widgets/controls",
            "_model_module_version": "1.5.0",
            "value": 0.5,
            "_view_count": null,
            "disabled": false,
            "_view_module_version": "1.5.0",
            "min": 0.01,
            "continuous_update": true,
            "readout_format": ".2f",
            "description_tooltip": null,
            "readout": true,
            "_model_module": "@jupyter-widgets/controls",
            "layout": "IPY_MODEL_59df538ad4bd4147a75a88804377adb7"
          }
        },
        "4b9737c216504f64803b161437b90a78": {
          "model_module": "@jupyter-widgets/controls",
          "model_name": "ToggleButtonsStyleModel",
          "state": {
            "_view_name": "StyleView",
            "button_width": "",
            "_model_name": "ToggleButtonsStyleModel",
            "description_width": "initial",
            "_view_module": "@jupyter-widgets/base",
            "_model_module_version": "1.5.0",
            "_view_count": null,
            "font_weight": "",
            "_view_module_version": "1.2.0",
            "_model_module": "@jupyter-widgets/controls"
          }
        },
        "52e9d82fb3bd4d50afdede18d87b867b": {
          "model_module": "@jupyter-widgets/base",
          "model_name": "LayoutModel",
          "state": {
            "_view_name": "LayoutView",
            "grid_template_rows": null,
            "right": null,
            "justify_content": null,
            "_view_module": "@jupyter-widgets/base",
            "overflow": null,
            "_model_module_version": "1.2.0",
            "_view_count": null,
            "flex_flow": null,
            "width": "auto",
            "min_width": null,
            "border": null,
            "align_items": null,
            "bottom": null,
            "_model_module": "@jupyter-widgets/base",
            "top": null,
            "grid_column": null,
            "overflow_y": null,
            "overflow_x": null,
            "grid_auto_flow": null,
            "grid_area": null,
            "grid_template_columns": null,
            "flex": null,
            "_model_name": "LayoutModel",
            "justify_items": null,
            "grid_row": null,
            "max_height": null,
            "align_content": null,
            "visibility": null,
            "align_self": null,
            "height": null,
            "min_height": null,
            "padding": null,
            "grid_auto_rows": null,
            "grid_gap": null,
            "max_width": null,
            "order": null,
            "_view_module_version": "1.2.0",
            "grid_template_areas": null,
            "object_position": null,
            "object_fit": null,
            "grid_auto_columns": null,
            "margin": null,
            "display": "flex",
            "left": null
          }
        },
        "7085f52559ef44008887ef77253df7dd": {
          "model_module": "@jupyter-widgets/controls",
          "model_name": "SliderStyleModel",
          "state": {
            "_view_name": "StyleView",
            "handle_color": null,
            "_model_name": "SliderStyleModel",
            "description_width": "initial",
            "_view_module": "@jupyter-widgets/base",
            "_model_module_version": "1.5.0",
            "_view_count": null,
            "_view_module_version": "1.2.0",
            "_model_module": "@jupyter-widgets/controls"
          }
        },
        "58f7a47b18f04509b24c8dddee2cad6f": {
          "model_module": "@jupyter-widgets/base",
          "model_name": "LayoutModel",
          "state": {
            "_view_name": "LayoutView",
            "grid_template_rows": null,
            "right": null,
            "justify_content": null,
            "_view_module": "@jupyter-widgets/base",
            "overflow": null,
            "_model_module_version": "1.2.0",
            "_view_count": null,
            "flex_flow": null,
            "width": "370px",
            "min_width": null,
            "border": null,
            "align_items": null,
            "bottom": null,
            "_model_module": "@jupyter-widgets/base",
            "top": null,
            "grid_column": null,
            "overflow_y": null,
            "overflow_x": null,
            "grid_auto_flow": null,
            "grid_area": null,
            "grid_template_columns": null,
            "flex": null,
            "_model_name": "LayoutModel",
            "justify_items": null,
            "grid_row": null,
            "max_height": null,
            "align_content": null,
            "visibility": null,
            "align_self": null,
            "height": null,
            "min_height": null,
            "padding": null,
            "grid_auto_rows": null,
            "grid_gap": null,
            "max_width": null,
            "order": null,
            "_view_module_version": "1.2.0",
            "grid_template_areas": null,
            "object_position": null,
            "object_fit": null,
            "grid_auto_columns": null,
            "margin": null,
            "display": null,
            "left": null
          }
        },
        "7b39a46f111c4a66b412c5c55209f220": {
          "model_module": "@jupyter-widgets/controls",
          "model_name": "SliderStyleModel",
          "state": {
            "_view_name": "StyleView",
            "handle_color": null,
            "_model_name": "SliderStyleModel",
            "description_width": "initial",
            "_view_module": "@jupyter-widgets/base",
            "_model_module_version": "1.5.0",
            "_view_count": null,
            "_view_module_version": "1.2.0",
            "_model_module": "@jupyter-widgets/controls"
          }
        },
        "59df538ad4bd4147a75a88804377adb7": {
          "model_module": "@jupyter-widgets/base",
          "model_name": "LayoutModel",
          "state": {
            "_view_name": "LayoutView",
            "grid_template_rows": null,
            "right": null,
            "justify_content": null,
            "_view_module": "@jupyter-widgets/base",
            "overflow": null,
            "_model_module_version": "1.2.0",
            "_view_count": null,
            "flex_flow": null,
            "width": "370px",
            "min_width": null,
            "border": null,
            "align_items": null,
            "bottom": null,
            "_model_module": "@jupyter-widgets/base",
            "top": null,
            "grid_column": null,
            "overflow_y": null,
            "overflow_x": null,
            "grid_auto_flow": null,
            "grid_area": null,
            "grid_template_columns": null,
            "flex": null,
            "_model_name": "LayoutModel",
            "justify_items": null,
            "grid_row": null,
            "max_height": null,
            "align_content": null,
            "visibility": null,
            "align_self": null,
            "height": null,
            "min_height": null,
            "padding": null,
            "grid_auto_rows": null,
            "grid_gap": null,
            "max_width": null,
            "order": null,
            "_view_module_version": "1.2.0",
            "grid_template_areas": null,
            "object_position": null,
            "object_fit": null,
            "grid_auto_columns": null,
            "margin": null,
            "display": null,
            "left": null
          }
        },
        "996e3dd25d2e4e8db4687e83970b84a1": {
          "model_module": "@jupyter-widgets/output",
          "model_name": "OutputModel",
          "state": {
            "_view_name": "OutputView",
            "msg_id": "",
            "_dom_classes": [],
            "_model_name": "OutputModel",
            "outputs": [
              {
                "output_type": "display_data",
                "metadata": {
                  "tags": [],
                  "image/png": {
                    "width": 682,
                    "height": 549
                  },
                  "needs_background": "light"
                },
                "image/png": "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\n",
                "text/plain": "<Figure size 720x648 with 5 Axes>"
              }
            ],
            "_view_module": "@jupyter-widgets/output",
            "_model_module_version": "1.0.0",
            "_view_count": null,
            "_view_module_version": "1.0.0",
            "layout": "IPY_MODEL_382603d58c2c4dc3ac066c41b55474bd",
            "_model_module": "@jupyter-widgets/output"
          }
        },
        "382603d58c2c4dc3ac066c41b55474bd": {
          "model_module": "@jupyter-widgets/base",
          "model_name": "LayoutModel",
          "state": {
            "_view_name": "LayoutView",
            "grid_template_rows": null,
            "right": null,
            "justify_content": null,
            "_view_module": "@jupyter-widgets/base",
            "overflow": null,
            "_model_module_version": "1.2.0",
            "_view_count": null,
            "flex_flow": null,
            "width": null,
            "min_width": null,
            "border": null,
            "align_items": null,
            "bottom": null,
            "_model_module": "@jupyter-widgets/base",
            "top": null,
            "grid_column": null,
            "overflow_y": null,
            "overflow_x": null,
            "grid_auto_flow": null,
            "grid_area": null,
            "grid_template_columns": null,
            "flex": null,
            "_model_name": "LayoutModel",
            "justify_items": null,
            "grid_row": null,
            "max_height": null,
            "align_content": null,
            "visibility": null,
            "align_self": null,
            "height": null,
            "min_height": null,
            "padding": null,
            "grid_auto_rows": null,
            "grid_gap": null,
            "max_width": null,
            "order": null,
            "_view_module_version": "1.2.0",
            "grid_template_areas": null,
            "object_position": null,
            "object_fit": null,
            "grid_auto_columns": null,
            "margin": null,
            "display": null,
            "left": null
          }
        },
        "e5d5d80335e14e05a20b3814e63de244": {
          "model_module": "@jupyter-widgets/controls",
          "model_name": "TabModel",
          "state": {
            "_view_name": "TabView",
            "_dom_classes": [],
            "_titles": {
              "0": "Youtube",
              "1": "Bilibili"
            },
            "_model_name": "TabModel",
            "_view_module": "@jupyter-widgets/controls",
            "selected_index": 0,
            "_model_module_version": "1.5.0",
            "_view_count": null,
            "_view_module_version": "1.5.0",
            "box_style": "",
            "layout": "IPY_MODEL_20d7d1973d6746e6871c159a4a9cd766",
            "_model_module": "@jupyter-widgets/controls",
            "children": [
              "IPY_MODEL_1c9d1d0eb2014149949ba652a9d89dbf",
              "IPY_MODEL_c6eca4525fd64ca88f78c90b54c2dc3b"
            ]
          }
        },
        "20d7d1973d6746e6871c159a4a9cd766": {
          "model_module": "@jupyter-widgets/base",
          "model_name": "LayoutModel",
          "state": {
            "_view_name": "LayoutView",
            "grid_template_rows": null,
            "right": null,
            "justify_content": null,
            "_view_module": "@jupyter-widgets/base",
            "overflow": null,
            "_model_module_version": "1.2.0",
            "_view_count": null,
            "flex_flow": null,
            "width": null,
            "min_width": null,
            "border": null,
            "align_items": null,
            "bottom": null,
            "_model_module": "@jupyter-widgets/base",
            "top": null,
            "grid_column": null,
            "overflow_y": null,
            "overflow_x": null,
            "grid_auto_flow": null,
            "grid_area": null,
            "grid_template_columns": null,
            "flex": null,
            "_model_name": "LayoutModel",
            "justify_items": null,
            "grid_row": null,
            "max_height": null,
            "align_content": null,
            "visibility": null,
            "align_self": null,
            "height": null,
            "min_height": null,
            "padding": null,
            "grid_auto_rows": null,
            "grid_gap": null,
            "max_width": null,
            "order": null,
            "_view_module_version": "1.2.0",
            "grid_template_areas": null,
            "object_position": null,
            "object_fit": null,
            "grid_auto_columns": null,
            "margin": null,
            "display": null,
            "left": null
          }
        },
        "1c9d1d0eb2014149949ba652a9d89dbf": {
          "model_module": "@jupyter-widgets/output",
          "model_name": "OutputModel",
          "state": {
            "_view_name": "OutputView",
            "msg_id": "",
            "_dom_classes": [],
            "_model_name": "OutputModel",
            "outputs": [
              {
                "output_type": "stream",
                "metadata": {
                  "tags": []
                },
                "text": "Video available at https://youtube.com/watch?v=h9L0EYmUpHs\n",
                "stream": "stdout"
              },
              {
                "output_type": "display_data",
                "metadata": {
                  "tags": []
                },
                "text/html": "\n        <iframe\n            width=\"854\"\n            height=\"480\"\n            src=\"https://www.youtube.com/embed/h9L0EYmUpHs?fs=1&rel=0\"\n            frameborder=\"0\"\n            allowfullscreen\n        ></iframe>\n        ",
                "text/plain": "<IPython.lib.display.YouTubeVideo at 0x7f70de1f7a50>",
                "image/jpeg": "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\n"
              }
            ],
            "_view_module": "@jupyter-widgets/output",
            "_model_module_version": "1.0.0",
            "_view_count": null,
            "_view_module_version": "1.0.0",
            "layout": "IPY_MODEL_c7ad604bf6964aec912c39c481af1aa7",
            "_model_module": "@jupyter-widgets/output"
          }
        },
        "c6eca4525fd64ca88f78c90b54c2dc3b": {
          "model_module": "@jupyter-widgets/output",
          "model_name": "OutputModel",
          "state": {
            "_view_name": "OutputView",
            "msg_id": "",
            "_dom_classes": [],
            "_model_name": "OutputModel",
            "outputs": [
              {
                "output_type": "stream",
                "metadata": {
                  "tags": []
                },
                "text": "Video available at https://www.bilibili.com/video/BV1QU4y137BS\n",
                "stream": "stdout"
              },
              {
                "output_type": "display_data",
                "metadata": {
                  "tags": []
                },
                "text/html": "\n        <iframe\n            width=\"854\"\n            height=\"480\"\n            src=\"https://player.bilibili.com/player.html?bvid=BV1QU4y137BS&page=1?fs=1\"\n            frameborder=\"0\"\n            allowfullscreen\n        ></iframe>\n        ",
                "text/plain": "<__main__.BiliVideo at 0x7f70dcdebd90>"
              }
            ],
            "_view_module": "@jupyter-widgets/output",
            "_model_module_version": "1.0.0",
            "_view_count": null,
            "_view_module_version": "1.0.0",
            "layout": "IPY_MODEL_624677e86a4241ab94f6da57caa2ad4e",
            "_model_module": "@jupyter-widgets/output"
          }
        },
        "c7ad604bf6964aec912c39c481af1aa7": {
          "model_module": "@jupyter-widgets/base",
          "model_name": "LayoutModel",
          "state": {
            "_view_name": "LayoutView",
            "grid_template_rows": null,
            "right": null,
            "justify_content": null,
            "_view_module": "@jupyter-widgets/base",
            "overflow": null,
            "_model_module_version": "1.2.0",
            "_view_count": null,
            "flex_flow": null,
            "width": null,
            "min_width": null,
            "border": null,
            "align_items": null,
            "bottom": null,
            "_model_module": "@jupyter-widgets/base",
            "top": null,
            "grid_column": null,
            "overflow_y": null,
            "overflow_x": null,
            "grid_auto_flow": null,
            "grid_area": null,
            "grid_template_columns": null,
            "flex": null,
            "_model_name": "LayoutModel",
            "justify_items": null,
            "grid_row": null,
            "max_height": null,
            "align_content": null,
            "visibility": null,
            "align_self": null,
            "height": null,
            "min_height": null,
            "padding": null,
            "grid_auto_rows": null,
            "grid_gap": null,
            "max_width": null,
            "order": null,
            "_view_module_version": "1.2.0",
            "grid_template_areas": null,
            "object_position": null,
            "object_fit": null,
            "grid_auto_columns": null,
            "margin": null,
            "display": null,
            "left": null
          }
        },
        "624677e86a4241ab94f6da57caa2ad4e": {
          "model_module": "@jupyter-widgets/base",
          "model_name": "LayoutModel",
          "state": {
            "_view_name": "LayoutView",
            "grid_template_rows": null,
            "right": null,
            "justify_content": null,
            "_view_module": "@jupyter-widgets/base",
            "overflow": null,
            "_model_module_version": "1.2.0",
            "_view_count": null,
            "flex_flow": null,
            "width": null,
            "min_width": null,
            "border": null,
            "align_items": null,
            "bottom": null,
            "_model_module": "@jupyter-widgets/base",
            "top": null,
            "grid_column": null,
            "overflow_y": null,
            "overflow_x": null,
            "grid_auto_flow": null,
            "grid_area": null,
            "grid_template_columns": null,
            "flex": null,
            "_model_name": "LayoutModel",
            "justify_items": null,
            "grid_row": null,
            "max_height": null,
            "align_content": null,
            "visibility": null,
            "align_self": null,
            "height": null,
            "min_height": null,
            "padding": null,
            "grid_auto_rows": null,
            "grid_gap": null,
            "max_width": null,
            "order": null,
            "_view_module_version": "1.2.0",
            "grid_template_areas": null,
            "object_position": null,
            "object_fit": null,
            "grid_auto_columns": null,
            "margin": null,
            "display": null,
            "left": null
          }
        }
      }
    }
  },
  "cells": [
    {
      "cell_type": "markdown",
      "metadata": {
        "id": "view-in-github",
        "colab_type": "text"
      },
      "source": [
        "<a href=\"https://colab.research.google.com/github/luisarai/NMA2021/blob/main/tutorials/W3D1_BayesianDecisions/student/W3D1_Tutorial1.ipynb\" target=\"_parent\"><img src=\"https://colab.research.google.com/assets/colab-badge.svg\" alt=\"Open In Colab\"/></a>"
      ]
    },
    {
      "cell_type": "markdown",
      "metadata": {
        "execution": {},
        "id": "nSbUlyvJt4DC"
      },
      "source": [
        "# Tutorial 1: Bayes with a binary hidden state\n",
        "**Week 3, Day 1: Bayesian Decisions**\n",
        "\n",
        "**By Neuromatch Academy**\n",
        "\n",
        "__Content creators:__ Eric DeWitt, Xaq Pitkow, Ella Batty, Saeed Salehi\n",
        "\n",
        "__Content reviewers:__ Hyosub Kim, Zahra Arjmandi, Anoop Kulkarni\n",
        "\n",
        "__Production editor:__ Ella Batty"
      ]
    },
    {
      "cell_type": "markdown",
      "metadata": {
        "execution": {},
        "id": "HMNbke7Lt4DG"
      },
      "source": [
        "**Our 2021 Sponsors, including Presenting Sponsor Facebook Reality Labs**\n",
        "\n",
        "<p align='center'><img src='https://github.com/NeuromatchAcademy/widgets/blob/master/sponsors.png?raw=True'/></p>"
      ]
    },
    {
      "cell_type": "markdown",
      "metadata": {
        "execution": {},
        "id": "CgEHAgMbt4DI"
      },
      "source": [
        "# Tutorial Objectives\n",
        "\n",
        "*Estimated timing of tutorial: 1 hour, 30 minutes*\n",
        "\n",
        "This is the first of two core tutorials on Bayesian statistics. In these tutorials, we will explore the fundemental concepts of the Bayesian approach. In this tutorial you will work through an example of Bayesian inference and decision making using a binary hidden state. The second tutorial extends these concepts to a continuous hidden state. In the related NMA days, each of these basic ideas will be extended. In Hidden Dynamics, we consider these idea through time as you explore what happens when we infere a hidden state using repeated observations and when the hidden state changes across time. In the Optimal Control day, we will introduce the notion of how to use inference and decisions to select actions for optimal control.\n",
        "\n",
        "This notebook will introduce the fundamental building blocks for Bayesian statistics: \n",
        "\n",
        "1. How do we combine the possible loss (or gain) for making a decision with our probabilitic knowledge?\n",
        "2. How do we use probability distributions to represent hidden states?\n",
        "3. How does marginalization work and how can we use it?\n",
        "4. How do we combine new information with our prior knowledge? "
      ]
    },
    {
      "cell_type": "code",
      "metadata": {
        "cellView": "form",
        "execution": {},
        "id": "o-SH0Njrt4DK"
      },
      "source": [
        "# @title Tutorial slides\n",
        "\n",
        "# @markdown These are the slides for the videos in this tutorial\n",
        "from IPython.display import IFrame\n",
        "IFrame(src=f\"https://mfr.ca-1.osf.io/render?url=https://osf.io/dx7jt/?direct%26mode=render%26action=download%26mode=render\", width=854, height=480)"
      ],
      "execution_count": null,
      "outputs": []
    },
    {
      "cell_type": "code",
      "metadata": {
        "cellView": "form",
        "execution": {},
        "id": "UAWwfE4St4DL",
        "outputId": "4d580b6e-3fb0-48a7-87b2-27aa5f5f9ec1",
        "colab": {
          "base_uri": "https://localhost:8080/",
          "height": 581,
          "referenced_widgets": [
            "9d0a2313cc38466b9c3d8a4b43d0c429",
            "108f39e11e93404cbc1e8e9699fe61ad",
            "6caa4bfb8bbe4e64b098c261cade896b",
            "a4649dd393814058bfca3df045900dbb",
            "11f29d7a35d949a8a799b4123dd22279",
            "e1b3f9de96574bf9919d6d2f5282e264"
          ]
        }
      },
      "source": [
        "# @title Video 1: Introduction to Bayesian Statistics and Decisions\n",
        "from ipywidgets import widgets\n",
        "\n",
        "out2 = widgets.Output()\n",
        "with out2:\n",
        "  from IPython.display import IFrame\n",
        "  class BiliVideo(IFrame):\n",
        "      def __init__(self, id, page=1, width=400, height=300, **kwargs):\n",
        "          self.id=id\n",
        "          src = 'https://player.bilibili.com/player.html?bvid={0}&page={1}'.format(id, page)\n",
        "          super(BiliVideo, self).__init__(src, width, height, **kwargs)\n",
        "\n",
        "  video = BiliVideo(id=\"BV1Ch41167jN\", width=854, height=480, fs=1)\n",
        "  print('Video available at https://www.bilibili.com/video/{0}'.format(video.id))\n",
        "  display(video)\n",
        "\n",
        "out1 = widgets.Output()\n",
        "with out1:\n",
        "  from IPython.display import YouTubeVideo\n",
        "  video = YouTubeVideo(id=\"Hcx2_JTpf2M\", width=854, height=480, fs=1, rel=0)\n",
        "  print('Video available at https://youtube.com/watch?v=' + video.id)\n",
        "  display(video)\n",
        "\n",
        "out = widgets.Tab([out1, out2])\n",
        "out.set_title(0, 'Youtube')\n",
        "out.set_title(1, 'Bilibili')\n",
        "\n",
        "display(out)"
      ],
      "execution_count": 1,
      "outputs": [
        {
          "output_type": "display_data",
          "data": {
            "application/vnd.jupyter.widget-view+json": {
              "model_id": "9d0a2313cc38466b9c3d8a4b43d0c429",
              "version_minor": 0,
              "version_major": 2
            },
            "text/plain": [
              "Tab(children=(Output(), Output()), _titles={'0': 'Youtube', '1': 'Bilibili'})"
            ]
          },
          "metadata": {
            "tags": []
          }
        }
      ]
    },
    {
      "cell_type": "markdown",
      "metadata": {
        "execution": {},
        "id": "jWCictDot4DM"
      },
      "source": [
        "# Setup  \n"
      ]
    },
    {
      "cell_type": "code",
      "metadata": {
        "execution": {},
        "id": "IacfepB9t4DN"
      },
      "source": [
        "# Imports\n",
        "\n",
        "import numpy as np\n",
        "import matplotlib.pyplot as plt\n",
        "from matplotlib import patches, transforms, gridspec\n",
        "from scipy.optimize import fsolve\n",
        "\n",
        "from collections import namedtuple"
      ],
      "execution_count": 2,
      "outputs": []
    },
    {
      "cell_type": "code",
      "metadata": {
        "cellView": "form",
        "execution": {},
        "id": "5Ft5LRDvt4DO"
      },
      "source": [
        "#@title Figure Settings\n",
        "import ipywidgets as widgets       # interactive display\n",
        "from ipywidgets import GridspecLayout, HBox, VBox, FloatSlider, Layout, ToggleButtons\n",
        "from ipywidgets import interactive, interactive_output, Checkbox, Select\n",
        "from IPython.display import clear_output\n",
        "%config InlineBackend.figure_format = 'retina'\n",
        "plt.style.use(\"https://raw.githubusercontent.com/NeuromatchAcademy/course-content/master/nma.mplstyle\")\n",
        "\n",
        "import warnings\n",
        "warnings.filterwarnings(\"ignore\")"
      ],
      "execution_count": 3,
      "outputs": []
    },
    {
      "cell_type": "code",
      "metadata": {
        "cellView": "form",
        "execution": {},
        "id": "cMP9jo5ht4DO"
      },
      "source": [
        "# @title Plotting Functions\n",
        "\n",
        "def plot_joint_probs(P, ):\n",
        "    assert np.all(P >= 0), \"probabilities should be >= 0\"\n",
        "    # normalize if not\n",
        "    P = P / np.sum(P)\n",
        "    marginal_y = np.sum(P,axis=1)\n",
        "    marginal_x = np.sum(P,axis=0)\n",
        "\n",
        "    # definitions for the axes\n",
        "    left, width = 0.1, 0.65\n",
        "    bottom, height = 0.1, 0.65\n",
        "    spacing = 0.005\n",
        "\n",
        "    # start with a square Figure\n",
        "    fig = plt.figure(figsize=(5, 5))\n",
        "\n",
        "    joint_prob = [left, bottom, width, height]\n",
        "    rect_histx = [left, bottom + height + spacing, width, 0.2]\n",
        "    rect_histy = [left + width + spacing, bottom, 0.2, height]\n",
        "\n",
        "    rect_x_cmap = plt.cm.Blues\n",
        "    rect_y_cmap = plt.cm.Reds\n",
        "\n",
        "    # Show joint probs and marginals\n",
        "    ax = fig.add_axes(joint_prob)\n",
        "    ax_x = fig.add_axes(rect_histx, sharex=ax)\n",
        "    ax_y = fig.add_axes(rect_histy, sharey=ax)\n",
        "\n",
        "    # Show joint probs and marginals\n",
        "    ax.matshow(P,vmin=0., vmax=1., cmap='Greys')\n",
        "    ax_x.bar(0, marginal_x[0], facecolor=rect_x_cmap(marginal_x[0]))\n",
        "    ax_x.bar(1, marginal_x[1], facecolor=rect_x_cmap(marginal_x[1]))\n",
        "    ax_y.barh(0, marginal_y[0], facecolor=rect_y_cmap(marginal_y[0]))\n",
        "    ax_y.barh(1, marginal_y[1], facecolor=rect_y_cmap(marginal_y[1]))\n",
        "    # set limits\n",
        "    ax_x.set_ylim([0,1])\n",
        "    ax_y.set_xlim([0,1])\n",
        "\n",
        "    # show values\n",
        "    ind = np.arange(2)\n",
        "    x,y = np.meshgrid(ind,ind)\n",
        "    for i,j in zip(x.flatten(), y.flatten()):\n",
        "        c = f\"{P[i,j]:.2f}\"\n",
        "        ax.text(j,i, c, va='center', ha='center', color='black')\n",
        "    for i in ind:\n",
        "        v = marginal_x[i]\n",
        "        c = f\"{v:.2f}\"\n",
        "        ax_x.text(i, v +0.1, c, va='center', ha='center', color='black')\n",
        "        v = marginal_y[i]\n",
        "        c = f\"{v:.2f}\"\n",
        "        ax_y.text(v+0.2, i, c, va='center', ha='center', color='black')\n",
        "\n",
        "    # set up labels\n",
        "    ax.xaxis.tick_bottom()\n",
        "    ax.yaxis.tick_left()\n",
        "    ax.set_xticks([0,1])\n",
        "    ax.set_yticks([0,1])\n",
        "    ax.set_xticklabels(['Silver','Gold'])\n",
        "    ax.set_yticklabels(['Small', 'Large'])\n",
        "    ax.set_xlabel('color')\n",
        "    ax.set_ylabel('size')\n",
        "    ax_x.axis('off')\n",
        "    ax_y.axis('off')\n",
        "    return fig\n",
        "\n",
        "\n",
        "def plot_prior_likelihood_posterior(prior, likelihood, posterior):\n",
        "\n",
        "    # definitions for the axes\n",
        "    left, width = 0.05, 0.3\n",
        "    bottom, height = 0.05, 0.9\n",
        "    padding = 0.12\n",
        "    small_width = 0.1\n",
        "    left_space = left + small_width + padding\n",
        "    added_space = padding + width\n",
        "\n",
        "    fig = plt.figure(figsize=(12, 4))\n",
        "\n",
        "    rect_prior = [left, bottom, small_width, height]\n",
        "    rect_likelihood = [left_space , bottom , width, height]\n",
        "    rect_posterior = [left_space +  added_space, bottom , width, height]\n",
        "\n",
        "    ax_prior = fig.add_axes(rect_prior)\n",
        "    ax_likelihood = fig.add_axes(rect_likelihood, sharey=ax_prior)\n",
        "    ax_posterior = fig.add_axes(rect_posterior, sharey = ax_prior)\n",
        "\n",
        "    rect_colormap = plt.cm.Blues\n",
        "\n",
        "    # Show posterior probs and marginals\n",
        "    ax_prior.barh(0, prior[0], facecolor = rect_colormap(prior[0, 0]))\n",
        "    ax_prior.barh(1, prior[1], facecolor = rect_colormap(prior[1, 0]))\n",
        "    ax_likelihood.matshow(likelihood, vmin=0., vmax=1., cmap='Reds')\n",
        "    ax_posterior.matshow(posterior, vmin=0., vmax=1., cmap='Greens')\n",
        "\n",
        "\n",
        "    # Probabilities plot details\n",
        "    # ax_prior.set(xlim = [1, 0], yticks = [0, 1], yticklabels = ['left', 'right'],\n",
        "    #              ylabel = 'state (s)', title = \"Prior p(s)\")\n",
        "    ax_prior.set(xlim = [1, 0], xticks = [], yticks = [0, 1], yticklabels = ['left', 'right'],\n",
        "                 title = \"Prior p(s)\")\n",
        "    ax_prior.yaxis.tick_right()\n",
        "    ax_prior.spines['left'].set_visible(False)\n",
        "    ax_prior.spines['bottom'].set_visible(False)\n",
        "\n",
        "    # Likelihood plot details\n",
        "    ax_likelihood.set(xticks = [0, 1], xticklabels = ['fish', 'no fish'],\n",
        "                  yticks = [0, 1], yticklabels = ['left', 'right'],\n",
        "                   ylabel = 'state (s)', xlabel = 'measurement (m)',\n",
        "                   title = 'Likelihood p(m (left) | s)')\n",
        "    ax_likelihood.xaxis.set_ticks_position('bottom')\n",
        "    ax_likelihood.spines['left'].set_visible(False)\n",
        "    ax_likelihood.spines['bottom'].set_visible(False)\n",
        "\n",
        "    # Posterior plot details\n",
        "\n",
        "    ax_posterior.set(xticks = [0, 1], xticklabels = ['fish', 'no fish'],\n",
        "                  yticks = [0, 1], yticklabels = ['left', 'right'],\n",
        "                   ylabel = 'state (s)', xlabel = 'measurement (m)',\n",
        "                   title = 'Posterior p(s | m)')\n",
        "    ax_posterior.xaxis.set_ticks_position('bottom')\n",
        "    ax_posterior.spines['left'].set_visible(False)\n",
        "    ax_posterior.spines['bottom'].set_visible(False)\n",
        "\n",
        "\n",
        "    # show values\n",
        "    ind = np.arange(2)\n",
        "    x,y = np.meshgrid(ind,ind)\n",
        "    for i,j in zip(x.flatten(), y.flatten()):\n",
        "        c = f\"{posterior[i,j]:.2f}\"\n",
        "        ax_posterior.text(j,i, c, va='center', ha='center', color='black')\n",
        "    for i,j in zip(x.flatten(), y.flatten()):\n",
        "        c = f\"{likelihood[i,j]:.2f}\"\n",
        "        ax_likelihood.text(j,i, c, va='center', ha='center', color='black')\n",
        "    for i in ind:\n",
        "        v = prior[i, 0]\n",
        "        c = f\"{v:.2f}\"\n",
        "        ax_prior.text(v+0.2, i, c, va='center', ha='center', color='black')\n",
        "\n",
        "\n",
        "def plot_prior_likelihood(ps, p_a_s1, p_a_s0, measurement):\n",
        "    likelihood = np.asarray([[p_a_s1, 1-p_a_s1],[p_a_s0, 1-p_a_s0]])\n",
        "    assert 0.0 <= ps <= 1.0\n",
        "    prior = np.asarray([ps, 1 - ps])\n",
        "    if measurement == \"Fish\":\n",
        "        posterior = likelihood[:, 0] * prior\n",
        "    else:\n",
        "        posterior = (likelihood[:, 1] * prior).reshape(-1)\n",
        "    posterior /= np.sum(posterior)\n",
        "\n",
        "    # definitions for the axes\n",
        "    left, width = 0.05, 0.3\n",
        "    bottom, height = 0.05, 0.9\n",
        "    padding = 0.12\n",
        "    small_width = 0.2\n",
        "    left_space = left + small_width + padding\n",
        "    small_padding = 0.05\n",
        "\n",
        "    fig = plt.figure(figsize=(12, 4))\n",
        "\n",
        "    rect_prior = [left, bottom, small_width, height]\n",
        "    rect_likelihood = [left_space , bottom , width, height]\n",
        "    rect_posterior = [left_space + width + small_padding, bottom , small_width, height]\n",
        "\n",
        "    ax_prior = fig.add_axes(rect_prior)\n",
        "    ax_likelihood = fig.add_axes(rect_likelihood, sharey=ax_prior)\n",
        "    ax_posterior = fig.add_axes(rect_posterior, sharey=ax_prior)\n",
        "\n",
        "    prior_colormap = plt.cm.Blues\n",
        "    posterior_colormap = plt.cm.Greens\n",
        "\n",
        "    # Show posterior probs and marginals\n",
        "    ax_prior.barh(0, prior[0], facecolor = prior_colormap(prior[0]))\n",
        "    ax_prior.barh(1, prior[1], facecolor = prior_colormap(prior[1]))\n",
        "    ax_likelihood.matshow(likelihood, vmin=0., vmax=1., cmap='Reds')\n",
        "    # ax_posterior.matshow(posterior, vmin=0., vmax=1., cmap='')\n",
        "    ax_posterior.barh(0, posterior[0], facecolor = posterior_colormap(posterior[0]))\n",
        "    ax_posterior.barh(1, posterior[1], facecolor = posterior_colormap(posterior[1]))\n",
        "\n",
        "    # Probabilities plot details\n",
        "    ax_prior.set(xlim = [1, 0], yticks = [0, 1], yticklabels = ['left', 'right'],\n",
        "                 title = \"Prior p(s)\", xticks = [])\n",
        "    ax_prior.yaxis.tick_right()\n",
        "    ax_prior.spines['left'].set_visible(False)\n",
        "    ax_prior.spines['bottom'].set_visible(False)\n",
        "\n",
        "    # Likelihood plot details\n",
        "    ax_likelihood.set(xticks = [0, 1], xticklabels = ['fish', 'no fish'],\n",
        "                  yticks = [0, 1], yticklabels = ['left', 'right'],\n",
        "                   ylabel = 'state (s)', xlabel = 'measurement (m)',\n",
        "                   title = 'Likelihood p(m | s)')\n",
        "    ax_likelihood.xaxis.set_ticks_position('bottom')\n",
        "    ax_likelihood.spines['left'].set_visible(False)\n",
        "    ax_likelihood.spines['bottom'].set_visible(False)\n",
        "\n",
        "    # Posterior plot details\n",
        "    ax_posterior.set(xlim = [0, 1], xticks = [], yticks = [0, 1],\n",
        "                     yticklabels = ['left', 'right'], title = \"Posterior p(s | m)\")\n",
        "    ax_posterior.spines['left'].set_visible(False)\n",
        "    ax_posterior.spines['bottom'].set_visible(False)\n",
        "\n",
        "    # show values\n",
        "    ind = np.arange(2)\n",
        "    x,y = np.meshgrid(ind,ind)\n",
        "    # for i,j in zip(x.flatten(), y.flatten()):\n",
        "    #     c = f\"{posterior[i,j]:.2f}\"\n",
        "    #     ax_posterior.text(j,i, c, va='center', ha='center', color='black')\n",
        "    for i in ind:\n",
        "        v = posterior[i]\n",
        "        c = f\"{v:.2f}\"\n",
        "        ax_posterior.text(v+0.2, i, c, va='center', ha='center', color='black')\n",
        "    for i,j in zip(x.flatten(), y.flatten()):\n",
        "        c = f\"{likelihood[i,j]:.2f}\"\n",
        "        ax_likelihood.text(j,i, c, va='center', ha='center', color='black')\n",
        "    for i in ind:\n",
        "        v = prior[i]\n",
        "        c = f\"{v:.2f}\"\n",
        "        ax_prior.text(v+0.2, i, c, va='center', ha='center', color='black')\n",
        "    return fig\n",
        "\n",
        "\n",
        "from matplotlib import colors\n",
        "def plot_utility(ps):\n",
        "    prior = np.asarray([ps, 1 - ps])\n",
        "\n",
        "    utility = np.array([[2, -3], [-2, 1]])\n",
        "\n",
        "    expected = prior @ utility\n",
        "\n",
        "    # definitions for the axes\n",
        "    left, width = 0.05, 0.16\n",
        "    bottom, height = 0.05, 0.9\n",
        "    padding = 0.02\n",
        "    small_width = 0.1\n",
        "    left_space = left + small_width + padding\n",
        "    added_space = padding + width\n",
        "\n",
        "    fig = plt.figure(figsize=(17, 3))\n",
        "\n",
        "    rect_prior = [left, bottom, small_width, height]\n",
        "    rect_utility = [left + added_space , bottom , width, height]\n",
        "    rect_expected = [left + 2* added_space, bottom , width, height]\n",
        "\n",
        "    ax_prior = fig.add_axes(rect_prior)\n",
        "    ax_utility = fig.add_axes(rect_utility, sharey=ax_prior)\n",
        "    ax_expected = fig.add_axes(rect_expected)\n",
        "\n",
        "    rect_colormap = plt.cm.Blues\n",
        "\n",
        "    # Data of plots\n",
        "    ax_prior.barh(0, prior[0], facecolor = rect_colormap(prior[0]))\n",
        "    ax_prior.barh(1, prior[1], facecolor = rect_colormap(prior[1]))\n",
        "    ax_utility.matshow(utility, cmap='cool')\n",
        "    norm = colors.Normalize(vmin=-3, vmax=3)\n",
        "    ax_expected.bar(0, expected[0], facecolor = rect_colormap(norm(expected[0])))\n",
        "    ax_expected.bar(1, expected[1], facecolor = rect_colormap(norm(expected[1])))\n",
        "\n",
        "    # Probabilities plot details\n",
        "    ax_prior.set(xlim = [1, 0], xticks = [], yticks = [0, 1], yticklabels = ['left', 'right'],\n",
        "                 title = \"Probability of state\")\n",
        "    ax_prior.yaxis.tick_right()\n",
        "    ax_prior.spines['left'].set_visible(False)\n",
        "    ax_prior.spines['bottom'].set_visible(False)\n",
        "\n",
        "    # Utility plot details\n",
        "    ax_utility.set(xticks = [0, 1], xticklabels = ['left', 'right'],\n",
        "                  yticks = [0, 1], yticklabels = ['left', 'right'],\n",
        "                   ylabel = 'state (s)', xlabel = 'action (a)',\n",
        "                   title = 'Utility')\n",
        "    ax_utility.xaxis.set_ticks_position('bottom')\n",
        "    ax_utility.spines['left'].set_visible(False)\n",
        "    ax_utility.spines['bottom'].set_visible(False)\n",
        "\n",
        "    # Expected utility plot details\n",
        "    ax_expected.set(title = 'Expected utility', ylim = [-3, 3],\n",
        "                    xticks = [0, 1], xticklabels = ['left', 'right'],\n",
        "                    xlabel = 'action (a)',\n",
        "                    yticks = [])\n",
        "    ax_expected.xaxis.set_ticks_position('bottom')\n",
        "    ax_expected.spines['left'].set_visible(False)\n",
        "    ax_expected.spines['bottom'].set_visible(False)\n",
        "\n",
        "    # show values\n",
        "    ind = np.arange(2)\n",
        "    x,y = np.meshgrid(ind,ind)\n",
        "\n",
        "    for i,j in zip(x.flatten(), y.flatten()):\n",
        "        c = f\"{utility[i,j]:.2f}\"\n",
        "        ax_utility.text(j,i, c, va='center', ha='center', color='black')\n",
        "    for i in ind:\n",
        "        v = prior[i]\n",
        "        c = f\"{v:.2f}\"\n",
        "        ax_prior.text(v+0.2, i, c, va='center', ha='center', color='black')\n",
        "    for i in ind:\n",
        "        v = expected[i]\n",
        "        c = f\"{v:.2f}\"\n",
        "        ax_expected.text(i, 2.5, c, va='center', ha='center', color='black')\n",
        "\n",
        "    return fig\n",
        "\n",
        "\n",
        "def plot_prior_likelihood_utility(ps, p_a_s1, p_a_s0, measurement):\n",
        "    assert 0.0 <= ps <= 1.0\n",
        "    assert 0.0 <= p_a_s1 <= 1.0\n",
        "    assert 0.0 <= p_a_s0 <= 1.0\n",
        "    prior = np.asarray([ps, 1 - ps])\n",
        "    likelihood = np.asarray([[p_a_s1, 1-p_a_s1],[p_a_s0, 1-p_a_s0]])\n",
        "    utility = np.array([[2.0, -3.0], [-2.0, 1.0]])\n",
        "    # expected = np.zeros_like(utility)\n",
        "\n",
        "    if measurement == \"Fish\":\n",
        "        posterior = likelihood[:, 0] * prior\n",
        "    else:\n",
        "        posterior = (likelihood[:, 1] * prior).reshape(-1)\n",
        "    posterior /= np.sum(posterior)\n",
        "    # expected[:, 0] = utility[:, 0] * posterior\n",
        "    # expected[:, 1] = utility[:, 1] * posterior\n",
        "    expected = posterior @ utility\n",
        "\n",
        "    # definitions for the axes\n",
        "    left, width = 0.05, 0.3\n",
        "    bottom, height = 0.05, 0.3\n",
        "    padding = 0.12\n",
        "    small_width = 0.2\n",
        "    left_space = left + small_width + padding\n",
        "    small_padding = 0.05\n",
        "\n",
        "    fig = plt.figure(figsize=(10, 9))\n",
        "\n",
        "    rect_prior = [left, bottom + height + padding, small_width, height]\n",
        "    rect_likelihood = [left_space , bottom + height + padding , width, height]\n",
        "    rect_posterior = [left_space + width + small_padding, bottom + height + padding , small_width, height]\n",
        "\n",
        "    rect_utility = [padding, bottom, width, height]\n",
        "    rect_expected = [padding + width + padding + left, bottom, width, height]\n",
        "\n",
        "    ax_likelihood = fig.add_axes(rect_likelihood)\n",
        "    ax_prior = fig.add_axes(rect_prior, sharey=ax_likelihood)\n",
        "    ax_posterior = fig.add_axes(rect_posterior, sharey=ax_likelihood)\n",
        "    ax_utility = fig.add_axes(rect_utility)\n",
        "    ax_expected = fig.add_axes(rect_expected)\n",
        "\n",
        "    prior_colormap = plt.cm.Blues\n",
        "    posterior_colormap = plt.cm.Greens\n",
        "    expected_colormap = plt.cm.Wistia\n",
        "\n",
        "    # Show posterior probs and marginals\n",
        "    ax_prior.barh(0, prior[0], facecolor = prior_colormap(prior[0]))\n",
        "    ax_prior.barh(1, prior[1], facecolor = prior_colormap(prior[1]))\n",
        "    ax_likelihood.matshow(likelihood, vmin=0., vmax=1., cmap='Reds')\n",
        "    ax_posterior.barh(0, posterior[0], facecolor = posterior_colormap(posterior[0]))\n",
        "    ax_posterior.barh(1, posterior[1], facecolor = posterior_colormap(posterior[1]))\n",
        "    ax_utility.matshow(utility, vmin=0., vmax=1., cmap='cool')\n",
        "    # ax_expected.matshow(expected, vmin=0., vmax=1., cmap='Wistia')\n",
        "    ax_expected.bar(0, expected[0], facecolor = expected_colormap(expected[0]))\n",
        "    ax_expected.bar(1, expected[1], facecolor = expected_colormap(expected[1]))\n",
        "\n",
        "    # Probabilities plot details\n",
        "    ax_prior.set(xlim = [1, 0], yticks = [0, 1], yticklabels = ['left', 'right'],\n",
        "                 title = \"Prior p(s)\", xticks = [])\n",
        "    ax_prior.yaxis.tick_right()\n",
        "    ax_prior.spines['left'].set_visible(False)\n",
        "    ax_prior.spines['bottom'].set_visible(False)\n",
        "\n",
        "    # Likelihood plot details\n",
        "    ax_likelihood.set(xticks = [0, 1], xticklabels = ['fish', 'no fish'],\n",
        "                  yticks = [0, 1], yticklabels = ['left', 'right'],\n",
        "                   ylabel = 'state (s)', xlabel = 'measurement (m)',\n",
        "                   title = 'Likelihood p(m | s)')\n",
        "    ax_likelihood.xaxis.set_ticks_position('bottom')\n",
        "    ax_likelihood.spines['left'].set_visible(False)\n",
        "    ax_likelihood.spines['bottom'].set_visible(False)\n",
        "\n",
        "    # Posterior plot details\n",
        "    ax_posterior.set(xlim = [0, 1], xticks = [], yticks = [0, 1],\n",
        "                     yticklabels = ['left', 'right'], title = \"Posterior p(s | m)\")\n",
        "    ax_posterior.spines['left'].set_visible(False)\n",
        "    ax_posterior.spines['bottom'].set_visible(False)\n",
        "\n",
        "    # Utility plot details\n",
        "    ax_utility.set(xticks = [0, 1], xticklabels = ['left', 'right'],\n",
        "                   xlabel = 'action (a)', yticks = [0, 1], yticklabels = ['left', 'right'],\n",
        "                   title = 'Utility', ylabel = 'state (s)')\n",
        "    ax_utility.xaxis.set_ticks_position('bottom')\n",
        "    ax_utility.spines['left'].set_visible(False)\n",
        "    ax_utility.spines['bottom'].set_visible(False)\n",
        "\n",
        "    # Expected Utility plot details\n",
        "    ax_expected.set(ylim = [-2, 2], xticks = [0, 1], xticklabels = ['left', 'right'],\n",
        "                 xlabel = 'action (a)', title = 'Expected utility', yticks=[])\n",
        "    # ax_expected.axis('off')\n",
        "    ax_expected.spines['left'].set_visible(False)\n",
        "    # ax_expected.set(xticks = [0, 1], xticklabels = ['left', 'right'],\n",
        "    #                 xlabel = 'action (a)',\n",
        "    #                title = 'Expected utility')\n",
        "    # ax_expected.xaxis.set_ticks_position('bottom')\n",
        "    # ax_expected.spines['left'].set_visible(False)\n",
        "    # ax_expected.spines['bottom'].set_visible(False)\n",
        "\n",
        "    # show values\n",
        "    ind = np.arange(2)\n",
        "    x,y = np.meshgrid(ind,ind)\n",
        "    for i in ind:\n",
        "        v = posterior[i]\n",
        "        c = f\"{v:.2f}\"\n",
        "        ax_posterior.text(v+0.2, i, c, va='center', ha='center', color='black')\n",
        "    for i,j in zip(x.flatten(), y.flatten()):\n",
        "        c = f\"{likelihood[i,j]:.2f}\"\n",
        "        ax_likelihood.text(j,i, c, va='center', ha='center', color='black')\n",
        "    for i,j in zip(x.flatten(), y.flatten()):\n",
        "        c = f\"{utility[i,j]:.2f}\"\n",
        "        ax_utility.text(j,i, c, va='center', ha='center', color='black')\n",
        "    # for i,j in zip(x.flatten(), y.flatten()):\n",
        "    #     c = f\"{expected[i,j]:.2f}\"\n",
        "    #     ax_expected.text(j,i, c, va='center', ha='center', color='black')\n",
        "    for i in ind:\n",
        "        v = prior[i]\n",
        "        c = f\"{v:.2f}\"\n",
        "        ax_prior.text(v+0.2, i, c, va='center', ha='center', color='black')\n",
        "    for i in ind:\n",
        "        v = expected[i]\n",
        "        c = f\"{v:.2f}\"\n",
        "        ax_expected.text(i, v, c, va='center', ha='center', color='black')\n",
        "\n",
        "    return fig"
      ],
      "execution_count": 4,
      "outputs": []
    },
    {
      "cell_type": "code",
      "metadata": {
        "cellView": "form",
        "execution": {},
        "id": "Kt6ZxOvkt4DR"
      },
      "source": [
        "# @title Helper Functions\n",
        "\n",
        "def compute_marginal(px, py, cor):\n",
        "    \"\"\" Calculate 2x2 joint probabilities given marginals p(x=1), p(y=1) and correlation\n",
        "\n",
        "      Args:\n",
        "        px (scalar): marginal probability of x\n",
        "        py (scalar): marginal probability of y\n",
        "        cor (scalar): correlation value\n",
        "\n",
        "      Returns:\n",
        "        ndarray of size (2, 2): joint probability array of x and y\n",
        "    \"\"\"\n",
        "\n",
        "    p11 = px*py + cor*np.sqrt(px*py*(1-px)*(1-py))\n",
        "    p01 = px - p11\n",
        "    p10 = py - p11\n",
        "    p00 = 1.0 - p11 - p01 - p10\n",
        "\n",
        "    return np.asarray([[p00, p01], [p10, p11]])\n",
        "\n",
        "\n",
        "def compute_cor_range(px,py):\n",
        "    \"\"\" Calculate the allowed range of correlation values given marginals p(x=1)\n",
        "      and p(y=1)\n",
        "\n",
        "    Args:\n",
        "      px (scalar): marginal probability of x\n",
        "      py (scalar): marginal probability of y\n",
        "\n",
        "    Returns:\n",
        "      scalar, scalar: minimum and maximum possible values of correlation\n",
        "    \"\"\"\n",
        "\n",
        "    def p11(corr):\n",
        "        return px*py + corr*np.sqrt(px*py*(1-px)*(1-py))\n",
        "    def p01(corr):\n",
        "        return px - p11(corr)\n",
        "    def p10(corr):\n",
        "        return py - p11(corr)\n",
        "    def p00(corr):\n",
        "        return 1.0 - p11(corr) - p01(corr) - p10(corr)\n",
        "    Cmax = min(fsolve(p01, 0.0), fsolve(p10, 0.0))\n",
        "    Cmin = max(fsolve(p11, 0.0), fsolve(p00, 0.0))\n",
        "    return Cmin, Cmax"
      ],
      "execution_count": 5,
      "outputs": []
    },
    {
      "cell_type": "markdown",
      "metadata": {
        "execution": {},
        "id": "GqLyc0-yt4DS"
      },
      "source": [
        "---\n",
        "# Section 1: Gone Fishin'\n"
      ]
    },
    {
      "cell_type": "code",
      "metadata": {
        "cellView": "form",
        "execution": {},
        "id": "GbCMkn-Nt4DT",
        "outputId": "d1e6775e-a446-4a9f-c98b-9910dd75d784",
        "colab": {
          "base_uri": "https://localhost:8080/",
          "height": 581,
          "referenced_widgets": [
            "027b58268181425cba7e94e960d41ece",
            "f3bc5809aa57416c9cb1f4a59d1bf11e",
            "95010db2a2c54dceab2c97c7d04fc529",
            "f6121171338e463aaaff08f6f1c87b22",
            "835f75e609be41f09afbc0fd2aded974",
            "deae242ab658422b8c39b11028d3de1e"
          ]
        }
      },
      "source": [
        "# @title Video 2: Gone Fishin'\n",
        "from ipywidgets import widgets\n",
        "\n",
        "out2 = widgets.Output()\n",
        "with out2:\n",
        "  from IPython.display import IFrame\n",
        "  class BiliVideo(IFrame):\n",
        "      def __init__(self, id, page=1, width=400, height=300, **kwargs):\n",
        "          self.id=id\n",
        "          src = 'https://player.bilibili.com/player.html?bvid={0}&page={1}'.format(id, page)\n",
        "          super(BiliVideo, self).__init__(src, width, height, **kwargs)\n",
        "\n",
        "  video = BiliVideo(id=\"BV1TP4y147pJ\", width=854, height=480, fs=1)\n",
        "  print('Video available at https://www.bilibili.com/video/{0}'.format(video.id))\n",
        "  display(video)\n",
        "\n",
        "out1 = widgets.Output()\n",
        "with out1:\n",
        "  from IPython.display import YouTubeVideo\n",
        "  video = YouTubeVideo(id=\"kAdBjWOI_yE\", width=854, height=480, fs=1, rel=0)\n",
        "  print('Video available at https://youtube.com/watch?v=' + video.id)\n",
        "  display(video)\n",
        "\n",
        "out = widgets.Tab([out1, out2])\n",
        "out.set_title(0, 'Youtube')\n",
        "out.set_title(1, 'Bilibili')\n",
        "\n",
        "display(out)"
      ],
      "execution_count": 6,
      "outputs": [
        {
          "output_type": "display_data",
          "data": {
            "application/vnd.jupyter.widget-view+json": {
              "model_id": "027b58268181425cba7e94e960d41ece",
              "version_minor": 0,
              "version_major": 2
            },
            "text/plain": [
              "Tab(children=(Output(), Output()), _titles={'0': 'Youtube', '1': 'Bilibili'})"
            ]
          },
          "metadata": {
            "tags": []
          }
        }
      ]
    },
    {
      "cell_type": "markdown",
      "metadata": {
        "execution": {},
        "id": "IZZ-a5axt4DT"
      },
      "source": [
        "This video covers the example problem of fishing that we will cover in this tutorial.\n",
        "\n",
        "<details>\n",
        "<summary> <font color=‘blue’>Click here for text recap of video </font></summary>\n",
        "\n",
        "You were just introduced to the **binary hidden state problem** we are going to explore. You need to decide which side to fish on--the hidden state. We know fish like to school together. On different days the school of fish is either on the left or right side, but we don’t know what the case is today. We define our knowledge about the fish location as a distribution over the random hidden state variable. Using our probabilistic knowledge, also called our **belief** about the hidden state, we will explore how to make the decision about where to fish today, based on what to expect in terms of gains or losses for the decision.\n",
        "The gains and losss are defined by the utility of choosing an action, which is fishing on the left or right. The details of the utilities are described \n",
        "</details>\n",
        "\n",
        "In the next two sections we will consider just the probability of where the fish might be and what you gain or lose by choosing where to fish (leaving Bayesian approaches to the last few sections).\n",
        "\n",
        "Remember, you can either think of your self as a scientist conducting an experiment or as a brain trying to make a decision. The Bayesian approach is the same!\n"
      ]
    },
    {
      "cell_type": "markdown",
      "metadata": {
        "execution": {},
        "id": "7oK3iZVyt4DU"
      },
      "source": [
        "---\n",
        "# Section 2: Deciding where to fish \n",
        "\n",
        "*Estimated timing to here from start of tutorial: 10 min*"
      ]
    },
    {
      "cell_type": "code",
      "metadata": {
        "cellView": "form",
        "execution": {},
        "id": "14fch7ujt4DV",
        "outputId": "6da84887-daf7-44bd-8abb-376c521985d9",
        "colab": {
          "base_uri": "https://localhost:8080/",
          "height": 581,
          "referenced_widgets": [
            "54e4d129208146798f9141a5440a98f9",
            "f03b0da1e6a0469d81729bacb45f383a",
            "2babf017a79c44d2a81c09bfae4a694a",
            "30e7d07beee843979f949d20f068d52f",
            "33da4ded9df74a889f1e54785c0b4fc9",
            "d3f7840b08f34ad48c28d757dccbfc35"
          ]
        }
      },
      "source": [
        "# @title Video 3: Utility\n",
        "from ipywidgets import widgets\n",
        "\n",
        "out2 = widgets.Output()\n",
        "with out2:\n",
        "  from IPython.display import IFrame\n",
        "  class BiliVideo(IFrame):\n",
        "      def __init__(self, id, page=1, width=400, height=300, **kwargs):\n",
        "          self.id=id\n",
        "          src = 'https://player.bilibili.com/player.html?bvid={0}&page={1}'.format(id, page)\n",
        "          super(BiliVideo, self).__init__(src, width, height, **kwargs)\n",
        "\n",
        "  video = BiliVideo(id=\"BV1uL411H7ZE\", width=854, height=480, fs=1)\n",
        "  print('Video available at https://www.bilibili.com/video/{0}'.format(video.id))\n",
        "  display(video)\n",
        "\n",
        "out1 = widgets.Output()\n",
        "with out1:\n",
        "  from IPython.display import YouTubeVideo\n",
        "  video = YouTubeVideo(id=\"8-5RM0k3IKE\", width=854, height=480, fs=1, rel=0)\n",
        "  print('Video available at https://youtube.com/watch?v=' + video.id)\n",
        "  display(video)\n",
        "\n",
        "out = widgets.Tab([out1, out2])\n",
        "out.set_title(0, 'Youtube')\n",
        "out.set_title(1, 'Bilibili')\n",
        "\n",
        "display(out)"
      ],
      "execution_count": 7,
      "outputs": [
        {
          "output_type": "display_data",
          "data": {
            "application/vnd.jupyter.widget-view+json": {
              "model_id": "54e4d129208146798f9141a5440a98f9",
              "version_minor": 0,
              "version_major": 2
            },
            "text/plain": [
              "Tab(children=(Output(), Output()), _titles={'0': 'Youtube', '1': 'Bilibili'})"
            ]
          },
          "metadata": {
            "tags": []
          }
        }
      ]
    },
    {
      "cell_type": "markdown",
      "metadata": {
        "execution": {},
        "id": "YGsEztTgt4DY"
      },
      "source": [
        "This video covers utility and expected utility.\n",
        "\n",
        "<details>\n",
        "<summary> <font color=‘blue’>Click here for text recap of video </font></summary>\n",
        "\n",
        "You need to decide where to fish. It may seem obvious - you could just fish on the side where the probability of the fish being is higher! Unfortunately, decisions and actions are always a little more complicated. Deciding to fish may be influenced by more than just the probability of the school of fish being there as we saw by the potential issues of submarines and sunburn. The consequences of the action you take is based on the true (but hidden) state of the world and the action you choose! In our example, fishing on the wrong side, where there aren't many fish, is likely to lead to you spending your afternoon not catching fish and therefore getting a sunburn. The submarine represents a risk to fishing on the right side that is greater than the left side. If you want to know what to expect from taking the action of fishing on one side or the other, you need to calculate the expected utility.\n",
        "\n",
        "You know the (prior) probability that the school of fish is on the left side of the dock today, $P(s = \\textrm{left})$. So, you also know the probability the school is on the right, $P(s = \\textrm{right})$, because these two probabilities must add up to 1.\n",
        "\n",
        "We quantify gains and losses numerically using a **utility** function $U(s,a)$, which describes the consequences of your actions: how much value you gain (or if negative, lose) given the state of the world ($s$) and the action you take ($a$). In our example, our utility can be summarized as:\n",
        "\n",
        "| Utility: U(s,a)   | a = left   | a = right  |\n",
        "| ----------------- |------------|------------|\n",
        "| s = Left          | +2         | -3         |\n",
        "| s = right         | -2         | +1         |\n",
        "\n",
        "To use possible gains and losses to choose an action, we calculate the **expected utility** of that action by weighing these utilities with the probability of that state occuring. This allows us to choose actions by taking probabilities of events into account: we don't care if the outcome of an action-state pair is a loss if the probability of that state is very low. We can formalize this as:\n",
        "\n",
        "$$ \\text{Expected utility of action a} = \\sum_{s}U(s,a)P(s) $$\n",
        "\n",
        "In other words, the expected utility of an action a is the sum over possible states of the utility of that action and state times the probability of that state.\n",
        "\n",
        "</details>\n"
      ]
    },
    {
      "cell_type": "markdown",
      "metadata": {
        "execution": {},
        "id": "ba6xEw_gt4DZ"
      },
      "source": [
        "## Interactive Demo 2: Exploring the decision\n",
        "\n",
        "Let's start to get a sense of how all this works using the interactive demo below. You can change the probability that the school of fish is on the left side,$p(s = \\textrm{left})$, using the slider. You will see the utility function (a matrix) in the middle and the corresponding expected utility for each action on the right.\n",
        "\n",
        "First, make sure you understand how the expected utility of each action is being computed from the probabilities and the utility values. In the initial state: the probability of the fish being on the left is 0.9 and on the right is 0.1. The expected utility of the action of fishing on the left is then $U(s = \\textrm{left},a = \\textrm{left})p(s = \\textrm{left}) + U(s = \\textrm{right},a = \\textrm{left})p(s = \\textrm{right}) = 2(0.9) + -2(0.1) = 1.6$. Essentially, to get the expected utility of action $a$, you are doing a weighted sum over the relevant column of the utility matrix (corresponding to action $a$) where the weights are the state probabilities.\n",
        "\n",
        "For each of these scenarios, think and discuss first. Then use the demo to try out each and see if your action would have been correct (that is, if the expected value of that action is the highest).\n",
        "\n",
        "\n",
        "1.  You just arrived at the dock for the first time and have no sense of where the fish might be. So you guess that the probability of the school being on the left side is 0.5 (so the probability on the right side is also 0.5). Which side would you choose to fish on given our utility values?\n",
        "2.  You think that the probability of the school being on the left side is very low (0.1) and correspondingly high on the right side (0.9). Which side would you choose to fish on given our utility values?\n",
        "3.  What would you choose if the probability of the school being on the left side is slightly lower than on the right side (0. 4 vs 0.6)?"
      ]
    },
    {
      "cell_type": "code",
      "metadata": {
        "cellView": "form",
        "execution": {},
        "id": "QP4m7_07t4Da",
        "outputId": "62530d3b-d125-4161-c872-977d45cb52e2",
        "colab": {
          "base_uri": "https://localhost:8080/",
          "height": 326,
          "referenced_widgets": [
            "80f11eba98c44c86b869dc92f2261015",
            "5418d27b9d494d89a6ab172423f486d4",
            "84c216329ff5445faa37fc836ac4f058",
            "6d05c528c4a94a98a01a17ad4c2f24fb",
            "d4548578e955499986431a8e6361381f",
            "5546ccfebdf24b409194a7d9bd579cc0",
            "1cc76ab52ab347c1b2c93be8e3584aa0"
          ]
        }
      },
      "source": [
        "# @markdown Execute this cell to use the widget\n",
        "ps_widget = widgets.FloatSlider(0.9, description='p(s = left)', min=0.0, max=1.0, step=0.01)\n",
        "\n",
        "@widgets.interact(\n",
        "    ps = ps_widget,\n",
        ")\n",
        "def make_utility_plot(ps):\n",
        "    fig = plot_utility(ps)\n",
        "    plt.show(fig)\n",
        "    plt.close(fig)\n",
        "    return None"
      ],
      "execution_count": 8,
      "outputs": [
        {
          "output_type": "display_data",
          "data": {
            "application/vnd.jupyter.widget-view+json": {
              "model_id": "80f11eba98c44c86b869dc92f2261015",
              "version_minor": 0,
              "version_major": 2
            },
            "text/plain": [
              "interactive(children=(FloatSlider(value=0.9, description='p(s = left)', max=1.0, step=0.01), Output()), _dom_c…"
            ]
          },
          "metadata": {
            "tags": []
          }
        }
      ]
    },
    {
      "cell_type": "markdown",
      "metadata": {
        "execution": {},
        "id": "tmBg1Ldat4Da"
      },
      "source": [
        "[*Click for solution*](https://github.com/NeuromatchAcademy/course-content/tree/master//tutorials/W3D1_BayesianDecisions/solutions/W3D1_Tutorial1_Solution_b21e7033.py)\n",
        "\n"
      ]
    },
    {
      "cell_type": "code",
      "metadata": {
        "cellView": "form",
        "execution": {},
        "id": "OxSgLq2ht4Da",
        "outputId": "bbfa0661-3b6c-4a37-a90e-bb1604ece269",
        "colab": {
          "base_uri": "https://localhost:8080/",
          "height": 581,
          "referenced_widgets": [
            "e2158c86622e4b2880b101e4f323a8de",
            "a7b58b46e73d41c3b3d245f643f34362",
            "dc9e77287b3149789ce49d4105114bfb",
            "ea1e81f0133f4d76adcfba576971bca9",
            "902d883b0f7c486e9d9e161cc1934baa",
            "df01da220ee7403db028f1f0130b33f8"
          ]
        }
      },
      "source": [
        "# @title Video 4: Utility Demo Discussion\n",
        "from ipywidgets import widgets\n",
        "\n",
        "out2 = widgets.Output()\n",
        "with out2:\n",
        "  from IPython.display import IFrame\n",
        "  class BiliVideo(IFrame):\n",
        "      def __init__(self, id, page=1, width=400, height=300, **kwargs):\n",
        "          self.id=id\n",
        "          src = 'https://player.bilibili.com/player.html?bvid={0}&page={1}'.format(id, page)\n",
        "          super(BiliVideo, self).__init__(src, width, height, **kwargs)\n",
        "\n",
        "  video = BiliVideo(id=\"BV1po4y1D7Fu\", width=854, height=480, fs=1)\n",
        "  print('Video available at https://www.bilibili.com/video/{0}'.format(video.id))\n",
        "  display(video)\n",
        "\n",
        "out1 = widgets.Output()\n",
        "with out1:\n",
        "  from IPython.display import YouTubeVideo\n",
        "  video = YouTubeVideo(id=\"GHQbmsEyQjE\", width=854, height=480, fs=1, rel=0)\n",
        "  print('Video available at https://youtube.com/watch?v=' + video.id)\n",
        "  display(video)\n",
        "\n",
        "out = widgets.Tab([out1, out2])\n",
        "out.set_title(0, 'Youtube')\n",
        "out.set_title(1, 'Bilibili')\n",
        "\n",
        "display(out)"
      ],
      "execution_count": 9,
      "outputs": [
        {
          "output_type": "display_data",
          "data": {
            "application/vnd.jupyter.widget-view+json": {
              "model_id": "e2158c86622e4b2880b101e4f323a8de",
              "version_minor": 0,
              "version_major": 2
            },
            "text/plain": [
              "Tab(children=(Output(), Output()), _titles={'0': 'Youtube', '1': 'Bilibili'})"
            ]
          },
          "metadata": {
            "tags": []
          }
        }
      ]
    },
    {
      "cell_type": "markdown",
      "metadata": {
        "execution": {},
        "id": "UuP7YlIxt4Dc"
      },
      "source": [
        "In this section, you have seen that both the utility of various state and action pairs and our knowledge of the probability of each state affects your decision. Importantly, we want our knowledge of the probability of each state to be as accurate as possible! \n",
        "\n",
        "So how do we know these probabilities? We may have prior knowledge from years of fishing at the same dock, learning that the fish are more likely to be on the left side, for example. Of course, we need to update our knowledge (our belief)! To do this, we need to collect more information, or take some measurements! In the next few sections, we will focus on how we improve our knowledge of the probabilities."
      ]
    },
    {
      "cell_type": "markdown",
      "metadata": {
        "execution": {},
        "id": "MyK-xmnOt4Dc"
      },
      "source": [
        "---\n",
        "# Section 3: Likelihood of the fish being on either side\n",
        "\n",
        "*Estimated timing to here from start of tutorial: 25 min*\n",
        " \n"
      ]
    },
    {
      "cell_type": "code",
      "metadata": {
        "cellView": "form",
        "execution": {},
        "id": "wWn9wk_xt4Dc",
        "outputId": "94f1960d-a8a3-4b1d-89f1-7963188d5750",
        "colab": {
          "base_uri": "https://localhost:8080/",
          "height": 581,
          "referenced_widgets": [
            "7f20004a56f44bc483b8ab8f81a92404",
            "c66d8a15efa340e1b56af1796252341d",
            "0eacecb9acc84f498fafcfcc0108aeb0",
            "65d25ca12e2b4af29b421ffda1661f2b",
            "1799936478bb431abaa1f119e7450d7f",
            "743df9e092fd423ea9bdbd22f6331b72"
          ]
        }
      },
      "source": [
        "# @title Video 5: Likelihood\n",
        "from ipywidgets import widgets\n",
        "\n",
        "out2 = widgets.Output()\n",
        "with out2:\n",
        "  from IPython.display import IFrame\n",
        "  class BiliVideo(IFrame):\n",
        "      def __init__(self, id, page=1, width=400, height=300, **kwargs):\n",
        "          self.id=id\n",
        "          src = 'https://player.bilibili.com/player.html?bvid={0}&page={1}'.format(id, page)\n",
        "          super(BiliVideo, self).__init__(src, width, height, **kwargs)\n",
        "\n",
        "  video = BiliVideo(id=\"BV1EK4y1u7AV\", width=854, height=480, fs=1)\n",
        "  print('Video available at https://www.bilibili.com/video/{0}'.format(video.id))\n",
        "  display(video)\n",
        "\n",
        "out1 = widgets.Output()\n",
        "with out1:\n",
        "  from IPython.display import YouTubeVideo\n",
        "  video = YouTubeVideo(id=\"Yv8MDjdm1l4\", width=854, height=480, fs=1, rel=0)\n",
        "  print('Video available at https://youtube.com/watch?v=' + video.id)\n",
        "  display(video)\n",
        "\n",
        "out = widgets.Tab([out1, out2])\n",
        "out.set_title(0, 'Youtube')\n",
        "out.set_title(1, 'Bilibili')\n",
        "\n",
        "display(out)"
      ],
      "execution_count": 10,
      "outputs": [
        {
          "output_type": "display_data",
          "data": {
            "application/vnd.jupyter.widget-view+json": {
              "model_id": "7f20004a56f44bc483b8ab8f81a92404",
              "version_minor": 0,
              "version_major": 2
            },
            "text/plain": [
              "Tab(children=(Output(), Output()), _titles={'0': 'Youtube', '1': 'Bilibili'})"
            ]
          },
          "metadata": {
            "tags": []
          }
        }
      ]
    },
    {
      "cell_type": "markdown",
      "metadata": {
        "execution": {},
        "id": "gn4d7cXrt4Dd"
      },
      "source": [
        "\n",
        "<details>\n",
        "<summary> <font color=‘blue’>Click here for text recap of video </font></summary>\n",
        "\n",
        "First, we'll think about what it means to take a measurement (also often called an observation or just data) and what it tells you about what the hidden state may be. Specifically, we'll be looking at the **likelihood**, which is the probability of your measurement ($m$) given the hidden state ($s$): $P(m | s)$. Remember that in this case, the hidden state is which side of the dock the school of fish is on.\n",
        "We will watch someone fish (for let's say 10 minutes) and our measurement is whether they catch a fish or not. We know something about what catching a fish means for the likelihood of the fish being on one side or the other.\n",
        "</details>"
      ]
    },
    {
      "cell_type": "markdown",
      "metadata": {
        "execution": {},
        "id": "sEuf521-t4De"
      },
      "source": [
        "## Think! 3: Guessing the location of the fish\n",
        "\n",
        "Let's say we go to different dock to fish. Here, there are different probabilities of catching fish given the state of the world. At this dock, if you fish on the side of the dock where the fish are, you have a 70% chance of catching a fish. If you fish on the wrong side, you will catch a fish with only 20% probability. These are the likelihoods of observing someone catching a fish! That is, you are taking a measurement by seeing if someone else catches a fish!\n",
        "\n",
        "You see a fisherperson is fishing on the left side.\n",
        "\n",
        "1) Please figure out each of the following (might be easiest to do this separately and then compare notes):\n",
        "- probability of catching a fish given that the school of fish is on the left side, $P(m = \\textrm{catch fish} | s = \\textrm{left} )$\n",
        "- probability of not catching a fish given that the school of fish is on the left side, $P(m = \\textrm{no fish} | s = \\textrm{left})$\n",
        "- probability of catching a fish given that the school of fish is on the right side, $P(m = \\textrm{catch  fish} | s = \\textrm{right})$\n",
        "- probability of not catching a fish given that the school of fish is on the right side, $P(m = \\textrm{no fish} | s = \\textrm{right})$\n",
        "\n",
        "2) If the fisherperson catches a fish, which side would you guess the school is on? Why?\n",
        "\n",
        "3) If the fisherperson does not catch a fish, which side would you guess the school is on? Why?\n"
      ]
    },
    {
      "cell_type": "markdown",
      "metadata": {
        "execution": {},
        "id": "dzn1Q3yJt4Df"
      },
      "source": [
        "[*Click for solution*](https://github.com/NeuromatchAcademy/course-content/tree/master//tutorials/W3D1_BayesianDecisions/solutions/W3D1_Tutorial1_Solution_84eff60e.py)\n",
        "\n"
      ]
    },
    {
      "cell_type": "markdown",
      "metadata": {
        "execution": {},
        "id": "VVLy6LU6t4Dg"
      },
      "source": [
        "In the prior exercise, you tried to guess where the school of fish was based on the measurement you took (watching someone fish). You did this by choosing the state (side where you think the fish are) that maximized the probability of the measurement. In other words, you estimated the state by maximizing the likelihood (the side with the highest probability of measurement given state $P(m|s$)). This is called maximum likelihood estimation (MLE) and you've encountered it before during this course, in the [pre-reqs statistics day](https://compneuro.neuromatch.io/tutorials/W0D5_Statistics/student/W0D5_Tutorial2.html#section-2-2-maximum-likelihood) and on [Model Fitting day](https://compneuro.neuromatch.io/tutorials/W1D3_ModelFitting/student/W1D3_Tutorial2.html)!\n",
        "\n",
        "But, what if you had been going to this dock for years and you knew that the fish were almost always on the left side? This should probably affect how you make your estimate -- you would rely less on the single new measurement and more on your prior knowledge. This is the fundemental idea behind Bayesian inference, as we will see later in this tutorial!"
      ]
    },
    {
      "cell_type": "markdown",
      "metadata": {
        "execution": {},
        "id": "w2xbcbd4t4Dg"
      },
      "source": [
        "---\n",
        "# Section 4: Correlation and marginalization\n",
        "\n",
        "*Estimated timing to here from start of tutorial: 35 min*\n"
      ]
    },
    {
      "cell_type": "code",
      "metadata": {
        "cellView": "form",
        "execution": {},
        "id": "JHatx_-wt4Dh",
        "outputId": "d721f2d0-3ea6-4f01-f03b-2278c15d998c",
        "colab": {
          "base_uri": "https://localhost:8080/",
          "height": 581,
          "referenced_widgets": [
            "f9b135cf562640d696e155b6fb697bc5",
            "abd653e28b124959a003f0f282adc621",
            "c9e8340617734c43a85a47f3109ea4bc",
            "ddf662ee814546a78a753ecd1203fcd8",
            "00159539af8740c79e14807b1195e91d",
            "62e7d906d0eb43538b559819549a8076"
          ]
        }
      },
      "source": [
        "# @title Video 6: Correlation and marginalization\n",
        "from ipywidgets import widgets\n",
        "\n",
        "out2 = widgets.Output()\n",
        "with out2:\n",
        "  from IPython.display import IFrame\n",
        "  class BiliVideo(IFrame):\n",
        "      def __init__(self, id, page=1, width=400, height=300, **kwargs):\n",
        "          self.id=id\n",
        "          src = 'https://player.bilibili.com/player.html?bvid={0}&page={1}'.format(id, page)\n",
        "          super(BiliVideo, self).__init__(src, width, height, **kwargs)\n",
        "\n",
        "  video = BiliVideo(id=\"BV1Zq4y1p7N6\", width=854, height=480, fs=1)\n",
        "  print('Video available at https://www.bilibili.com/video/{0}'.format(video.id))\n",
        "  display(video)\n",
        "\n",
        "out1 = widgets.Output()\n",
        "with out1:\n",
        "  from IPython.display import YouTubeVideo\n",
        "  video = YouTubeVideo(id=\"iprFMHch2_g\", width=854, height=480, fs=1, rel=0)\n",
        "  print('Video available at https://youtube.com/watch?v=' + video.id)\n",
        "  display(video)\n",
        "\n",
        "out = widgets.Tab([out1, out2])\n",
        "out.set_title(0, 'Youtube')\n",
        "out.set_title(1, 'Bilibili')\n",
        "\n",
        "display(out)"
      ],
      "execution_count": 11,
      "outputs": [
        {
          "output_type": "display_data",
          "data": {
            "application/vnd.jupyter.widget-view+json": {
              "model_id": "f9b135cf562640d696e155b6fb697bc5",
              "version_minor": 0,
              "version_major": 2
            },
            "text/plain": [
              "Tab(children=(Output(), Output()), _titles={'0': 'Youtube', '1': 'Bilibili'})"
            ]
          },
          "metadata": {
            "tags": []
          }
        }
      ]
    },
    {
      "cell_type": "markdown",
      "metadata": {
        "execution": {},
        "id": "ypy_6atit4Dh"
      },
      "source": [
        "## Section 4.1: Correlation"
      ]
    },
    {
      "cell_type": "markdown",
      "metadata": {
        "execution": {},
        "id": "YA8iX2YOt4Dh"
      },
      "source": [
        "In this section, we are going to take a step back for a bit and think more generally about the amount of information shared between two random variables. We want to know how much information you gain when you observe one variable (take a measurement) if you know something about another. We will see that the fundamental concept is the same if we think about two attributes, for example the size and color of the fish, or the prior information and the likelihood.\n"
      ]
    },
    {
      "cell_type": "markdown",
      "metadata": {
        "execution": {},
        "id": "Njwn_ofJt4Di"
      },
      "source": [
        "### Think! 4.1: Covarying probability distributions\n",
        "\n",
        "The relationship between the marginal probabilities and the joint probabilities is determined by the correlation between the two random variables - a normalized measure of how much the variables covary. We can also think of this as gaining some information about one of the variables when we observe a measurement from the other. We will think about this more formally in Tutorial 2. \n",
        "\n",
        "Here, we want to think about how the correlation between size and color of these fish changes how much information we gain about one attribute based on the other. See Bonus Section 1 for the formula for correlation.\n",
        "\n",
        "Use the widget below and answer the following questions:\n",
        "\n",
        "1. When the correlation is zero, $\\rho = 0$, what does the distribution of size tell you about color?\n",
        "2. Set $\\rho$ to something small. As you change the probability of golden fish, what happens to the ratio of size probabilities? Set $\\rho$ larger (can be negative). Can you explain the pattern of changes in the probabilities of size as you change the probability of golden fish?\n",
        "3. Set the probability of golden fish and of large fish to around 65%. As the correlation goes towards 1, how often will you see silver large fish?\n",
        "4. What is increasing the (absolute) correlation telling you about how likely you are to see one of the properties if you see a fish with the other?\n"
      ]
    },
    {
      "cell_type": "code",
      "metadata": {
        "cellView": "form",
        "execution": {},
        "id": "Egtf9FFWt4Dj",
        "outputId": "5539000e-8e23-407f-f047-69e3f91ec20b",
        "colab": {
          "base_uri": "https://localhost:8080/",
          "height": 474,
          "referenced_widgets": [
            "db8bdd428a684ddfb206dab69effaa89",
            "a30bcf896f204f13afa46543b79d2af4",
            "4a9658951c834e8b8ed5f3c66506d8b3",
            "7c8241d6099d4e9c960f33eded65382c",
            "278cad2fc7914957b0d786f5cdafb83b",
            "472df50afa7c42d1b66426c18cb44b69",
            "8044f29d2008475899da255f8b958bbe",
            "2bb402cd35914525bd9956a36fa22f34",
            "712fac4abae2498da647beda0144dbbd",
            "2180025823044a41acefacf63137473d",
            "b8383f60e3854ec6a6d0571dcf0d54b3",
            "2246ec1ed0d94ce0a6197cdbb44b2dc3",
            "caf414cbcc2c43e9b93af1c2925a140c"
          ]
        }
      },
      "source": [
        "# @markdown Execute this cell to enable the widget\n",
        "style = {'description_width': 'initial'}\n",
        "gs = GridspecLayout(2,2)\n",
        "\n",
        "cor_widget = widgets.FloatSlider(0.0, description='ρ', min=-1, max=1, step=0.01)\n",
        "px_widget = widgets.FloatSlider(0.5, description='p(color=golden)', min=0.01, max=0.99, step=0.01, style=style)\n",
        "py_widget = widgets.FloatSlider(0.5, description='p(size=large)', min=0.01, max=0.99, step=0.01, style=style)\n",
        "gs[0,0] = cor_widget\n",
        "gs[0,1] = px_widget\n",
        "gs[1,0] = py_widget\n",
        "\n",
        "\n",
        "@widgets.interact(\n",
        "    px=px_widget,\n",
        "    py=py_widget,\n",
        "    cor=cor_widget,\n",
        ")\n",
        "def make_corr_plot(px, py, cor):\n",
        "    Cmin, Cmax = compute_cor_range(px, py) #allow correlation values\n",
        "    cor_widget.min, cor_widget.max = Cmin+0.01, Cmax-0.01\n",
        "    if cor_widget.value > Cmax:\n",
        "        cor_widget.value = Cmax\n",
        "    if cor_widget.value < Cmin:\n",
        "        cor_widget.value = Cmin\n",
        "    cor = cor_widget.value\n",
        "    P = compute_marginal(px,py,cor)\n",
        "    # print(P)\n",
        "    fig = plot_joint_probs(P)\n",
        "    plt.show(fig)\n",
        "    plt.close(fig)\n",
        "    return None\n",
        "\n",
        "# gs[1,1] = make_corr_plot()"
      ],
      "execution_count": 12,
      "outputs": [
        {
          "output_type": "display_data",
          "data": {
            "application/vnd.jupyter.widget-view+json": {
              "model_id": "db8bdd428a684ddfb206dab69effaa89",
              "version_minor": 0,
              "version_major": 2
            },
            "text/plain": [
              "interactive(children=(FloatSlider(value=0.5, description='p(color=golden)', layout=Layout(grid_area='widget002…"
            ]
          },
          "metadata": {
            "tags": []
          }
        }
      ]
    },
    {
      "cell_type": "markdown",
      "metadata": {
        "execution": {},
        "id": "SLdH9lrat4Dj"
      },
      "source": [
        "[*Click for solution*](https://github.com/NeuromatchAcademy/course-content/tree/master//tutorials/W3D1_BayesianDecisions/solutions/W3D1_Tutorial1_Solution_5567dab4.py)\n",
        "\n"
      ]
    },
    {
      "cell_type": "markdown",
      "metadata": {
        "execution": {},
        "id": "Ak_hU_1Lt4Dk"
      },
      "source": [
        "We have just seen how two random variables can be more or less independent. The more correlated, the less independent, and the more shared information. We also learned that we can marginalize to determine the marginal likelihood of a measurement or to find the marginal probability distribution of two random variables. We are going to now complete our journey towards being fully Bayesian!"
      ]
    },
    {
      "cell_type": "markdown",
      "metadata": {
        "execution": {},
        "id": "3fbtxL9st4Dk"
      },
      "source": [
        "## Section 4.2: Marginalisation"
      ]
    },
    {
      "cell_type": "markdown",
      "metadata": {
        "execution": {},
        "id": "c0m3TORbt4Dl"
      },
      "source": [
        "\n",
        "<details>\n",
        "<summary> <font color=‘blue’>Click here for text recap of relevant part of video </font></summary>\n",
        "\n",
        "We may want to find the probability of one variable while ignoring another: we will do this by averaging out, or marginalizing, the irrelevant variable.\n",
        "\n",
        "We will think of this in two different ways.\n",
        "\n",
        "In the first math exercise, you will think about the case where you know the joint probabilities of two variables and want to figure out the probability of just one variable. To make this explicit, let's assume that a fish has a color that is either gold or silver (our first variable) and a size that is either small or large (our second). We could write out the the **joint probabilities**: the probability of both specific attributes occuring together. For example, the probability of a fish being small and silver, $P(X = \\textrm{small}, Y = \\textrm{silver})$, is 0.4. The following table summarizes our joint probabilities:\n",
        "\n",
        "| P(X, Y)        | Y = silver  | Y = gold  |\n",
        "| -------------- |-------------|-----------|\n",
        "| X = small      | 0.4         | 0.2       |\n",
        "| X = large      | 0.1         | 0.3       |\n",
        "\n",
        "\n",
        "We want to know what the probability of a fish being small  regardless of color. Since the fish are either silver or gold, this would be the probability of a fish being small and silver plus the probability of a fish being small and gold. This is an example of marginalizing, or averaging out, the variable we are not interested in across the rows or columns.. In math speak: $P(X = \\textrm{small}) = \\sum_y{P(X = \\textrm{small}, Y)}$. This gives us a **marginal probability**, a probability of a variable outcome (in this case size), regardless of the other variables (in this case color).\n",
        "\n",
        "More generally, we can marginalize out a second irrelevant variable $y$ by summing over the relevant joint probabilities:\n",
        "\n",
        "$$p(x) = \\sum_y p(x, y) $$\n",
        "\n",
        "\n",
        "In the second math exercise, you will remove an unknown (the hidden state) to find the marginal probability of a measurement. You will do this by marginalizing out the hidden state. In this case, you know the conditional probabilities of the measurement given state and the probabilities of each state. You can marginalize using:\n",
        "\n",
        "$$p(m) = \\sum_s p(m | s) p(s) $$\n",
        "\n",
        "These two ways of thinking about marginalization (as averaging over joint probabilities or conditioning on some variable) are equivalent because the joint probability of two variables equals the conditional probability of the first given the second times the marginal probability of the second:\n",
        "\n",
        "$$p(x, y) = p(x|y)p(y)$$ \n",
        "\n"
      ]
    },
    {
      "cell_type": "markdown",
      "metadata": {
        "execution": {},
        "id": "fW63q-sVt4Dm"
      },
      "source": [
        "### Math Exercise 4.2.1: Computing marginal probabilities\n",
        "\n",
        "To understand the information between two variables, let's first consider the joint probabilities over the size and color of the fish.\n",
        "\n",
        "| P(X, Y)        | Y = silver  | Y = gold  |\n",
        "| -------------- |-------------|-----------|\n",
        "| X = small      | 0.4         | 0.2       |\n",
        "| X = large      | 0.1         | 0.3       |\n",
        "\n",
        "Please complete the following math problems to further practice thinking through probabilities:\n",
        "\n",
        "1. Calculate the probability of a fish being silver.\n",
        "2. Calculate the probability of a fish being small, large, silver, or gold.\n",
        "3. Calculate the probability of a fish being small OR gold. (Hint: $P(A\\ \\textrm{or}\\ B) = P(A) + P(B) - P(A\\ \\textrm{and}\\ B)$)\n",
        "\n",
        "**We don't typically have math exercises in NMA but feel it is important for you to really compute this out yourself. Feel free to use the next cell to write out the math if helpful, or use paper and pen. We recommend doing this exercise individually first and then comparing notes and discussing.**\n"
      ]
    },
    {
      "cell_type": "code",
      "metadata": {
        "execution": {},
        "id": "NLqxaI5jt4Dm"
      },
      "source": [
        "\"\"\"\n",
        "\n",
        "Joint probabilities\n",
        "\n",
        "P( X = small, Y = silver) = 0.4\n",
        "P( X = large, Y = silver) = 0.1\n",
        "P( X = small, Y = gold) = 0.2\n",
        "P( X = large, Y = gold) = 0.3\n",
        "\n",
        "\n",
        "1. P(Y = silver) = ...\n",
        "\n",
        "2. P(X = small or large, Y = silver or gold) = ...\n",
        "\n",
        "3. P( X = small or Y = gold) = ...\n",
        "\n",
        "\"\"\""
      ],
      "execution_count": null,
      "outputs": []
    },
    {
      "cell_type": "markdown",
      "metadata": {
        "execution": {},
        "id": "tfT2qHyjt4Dn"
      },
      "source": [
        "[*Click for solution*](https://github.com/NeuromatchAcademy/course-content/tree/master//tutorials/W3D1_BayesianDecisions/solutions/W3D1_Tutorial1_Solution_a2c6d43f.py)\n",
        "\n"
      ]
    },
    {
      "cell_type": "markdown",
      "metadata": {
        "execution": {},
        "id": "Dr_vV6uTt4Do"
      },
      "source": [
        "### Math Exercise 4.2.2: Computing marginal likelihood\n",
        "\n",
        "When we normalize to find the posterior, we need to determine the marinal likelihood--or evidence--for the measurement we observed. To do this, we need to marginalize as we just did above to find the probabilities of a color or size. Only, in this case, we are marginalizing to remove a conditioning variable! In this case, let's consider the likelihood of fish (if we observed a fisherperson fishing on the **right**).\n",
        "\n",
        "| p(m\\|s)       | m = fish | m = no fish  |\n",
        "| ------------ | ---------- | -------------- |\n",
        "| s = left     | 0.1      | 0.9          |\n",
        "| s = right    | 0.5      | 0.5          |\n",
        "\n",
        "\n",
        "The table above shows us the **likelihoods**, just as we explored earlier.\n",
        "\n",
        "You want to know the total probability of a fish being caught, $P(m = \\textrm{fish})$, by the fisherperson fishing on the right. (You would need this to calcualate the posterior.) To do this, you will need to consider the prior probability, $p(s)$, and marginalize over the hidden states!\n",
        "\n",
        "This is an example of marginalizing, or conditioning away, the variable we are not interested in as well.\n",
        "\n",
        "Please complete the following math problems to further practice thinking through probabilities:\n",
        "\n",
        "1. Calculate the marginal likelihood of the fish being caught, $P(m = \\textrm{fish})$, if the priors are: $p(s = \\textrm{left}) = 0.3$ and $p(s = \\textrm{right}) = 0.7$.\n",
        "2. Calculate the marginal likelihood of the fish being caught,  $P(m = \\textrm{fish})$, if the priors are: $p(s = \\textrm{left}) = 0.6$ and $p(s = \\textrm{right}) = 0.4$.\n",
        "\n",
        "**We don't typically have math exercises in NMA but feel it is important for you to really compute this out yourself. Feel free to use the next cell to write out the math if helpful, or use paper and pen. We recommend doing this exercise individually first and then comparing notes and discussing.**\n"
      ]
    },
    {
      "cell_type": "code",
      "metadata": {
        "execution": {},
        "id": "Bqr8_UQNt4Do"
      },
      "source": [
        "\"\"\"\n",
        "\n",
        "Priors\n",
        "P(s = left) = 0.3\n",
        "P(s = right) = 0.7\n",
        "\n",
        "Likelihoods\n",
        "P(m = fish | s = left) = 0.1\n",
        "P(m = fish | s = right) = 0.5\n",
        "P(m = no fish | s = left) = 0.9\n",
        "P(m = no fish | s = right) = 0.5\n",
        "\n",
        "1. P(m = fish) = ...\n",
        "\n",
        "2. P(m = fish) = ...\n",
        "\n",
        "\"\"\""
      ],
      "execution_count": null,
      "outputs": []
    },
    {
      "cell_type": "markdown",
      "metadata": {
        "execution": {},
        "id": "XbceHmzut4Dp"
      },
      "source": [
        "[*Click for solution*](https://github.com/NeuromatchAcademy/course-content/tree/master//tutorials/W3D1_BayesianDecisions/solutions/W3D1_Tutorial1_Solution_16d6767a.py)\n",
        "\n"
      ]
    },
    {
      "cell_type": "markdown",
      "metadata": {
        "execution": {},
        "id": "-mHvtti7t4Dp"
      },
      "source": [
        "---\n",
        "# Section 5: Bayes' Rule and the Posterior\n",
        "\n",
        "*Estimated timing to here from start of tutorial: 55 min*"
      ]
    },
    {
      "cell_type": "code",
      "metadata": {
        "cellView": "form",
        "execution": {},
        "id": "0d1bbZoVt4Dp",
        "outputId": "4bf911b3-3811-4bb1-e135-f91866b1b374",
        "colab": {
          "base_uri": "https://localhost:8080/",
          "height": 581,
          "referenced_widgets": [
            "343905237d514fb0a7fa2bcabf9b26cc",
            "50fef435a5bf4272897ce34ab2a98781",
            "3d9a1ce47ed8444f9904ba4cdba19411",
            "7ab8771a679b43b1b30afa7108a24b2f",
            "442be0beba1a4f598a1ae086913038c9",
            "4b4f29c764914bcfb686ab8180fa0203"
          ]
        }
      },
      "source": [
        "# @title Video 7: Posterior Beliefs\n",
        "from ipywidgets import widgets\n",
        "\n",
        "out2 = widgets.Output()\n",
        "with out2:\n",
        "  from IPython.display import IFrame\n",
        "  class BiliVideo(IFrame):\n",
        "      def __init__(self, id, page=1, width=400, height=300, **kwargs):\n",
        "          self.id=id\n",
        "          src = 'https://player.bilibili.com/player.html?bvid={0}&page={1}'.format(id, page)\n",
        "          super(BiliVideo, self).__init__(src, width, height, **kwargs)\n",
        "\n",
        "  video = BiliVideo(id=\"BV1fK4y1M7EC\", width=854, height=480, fs=1)\n",
        "  print('Video available at https://www.bilibili.com/video/{0}'.format(video.id))\n",
        "  display(video)\n",
        "\n",
        "out1 = widgets.Output()\n",
        "with out1:\n",
        "  from IPython.display import YouTubeVideo\n",
        "  video = YouTubeVideo(id=\"cOAJQ4utwD0\", width=854, height=480, fs=1, rel=0)\n",
        "  print('Video available at https://youtube.com/watch?v=' + video.id)\n",
        "  display(video)\n",
        "\n",
        "out = widgets.Tab([out1, out2])\n",
        "out.set_title(0, 'Youtube')\n",
        "out.set_title(1, 'Bilibili')\n",
        "\n",
        "display(out)"
      ],
      "execution_count": 13,
      "outputs": [
        {
          "output_type": "display_data",
          "data": {
            "application/vnd.jupyter.widget-view+json": {
              "model_id": "343905237d514fb0a7fa2bcabf9b26cc",
              "version_minor": 0,
              "version_major": 2
            },
            "text/plain": [
              "Tab(children=(Output(), Output()), _titles={'0': 'Youtube', '1': 'Bilibili'})"
            ]
          },
          "metadata": {
            "tags": []
          }
        }
      ]
    },
    {
      "cell_type": "markdown",
      "metadata": {
        "execution": {},
        "id": "SEq3rlnTt4Dq"
      },
      "source": [
        "Marginalization is going to be used to combine our prior knowlege, which we call the **prior**, and our new information from a measurement, the **likelihood**. Only in this case, the information we gain about the hidden state we are interested in, where the fish are, is based on the relationship between the probabilities of the measurement and our prior. \n",
        "\n",
        "We can now calculate the full posterior distribution for the hidden state ($s$) using Bayes' Rule. As we've seen, the posterior is proportional the the prior times the likelihood. This means that the posterior probability of the hidden state ($s$) given a measurement ($m$) is proportional to the likelihood of the measurement given the state times the prior probability of that state:\n",
        "\n",
        "$$ P(s | m) \\propto P(m | s) P(s)  $$\n",
        "\n",
        "We say proportional to instead of equal because we need to normalize to produce a full probability distribution:\n",
        "\n",
        "$$ P(s | m) = \\frac{P(m | s) P(s)}{P(m)}  $$\n",
        "\n",
        "Normalizing by this $P(m)$ means that our posterior is a complete probability distribution that sums or integrates to 1 appropriately. We now can use this new, complete probability distribution for any future inference or decisions we like! In fact, as we will see tomorrow, we can use it as a new prior! Finally, we often call this probability distribution our beliefs over the hidden states, to emphasize that it is our subjective knowlege about the hidden state.\n",
        "\n",
        "For many complicated cases, like those we might be using to model behavioral or brain inferences, the normalization term can be intractable or extremely complex to calculate. We can be careful to choose probability distributions were we can analytically calculate the posterior probability or numerical approximation is reliable. Better yet, we sometimes don't need to bother with this normalization! The normalization term, $P(m)$, is the probability of the measurement. This does not depend on state so is essentially a constant we can often ignore. We can compare the unnormalized posterior distribution values for different states because how they relate to each other is unchanged when divided by the same constant. We will see how to do this to compare evidence for different hypotheses tomorrow. (It's also used to compare the likelihood of models fit using maximum likelihood estimation)\n",
        "\n",
        "In this relatively simple example, we can compute the marginal likelihood $P(m)$ easily by using:\n",
        "$$P(m) = \\sum_s P(m | s) P(s)$$\n",
        "We can then normalize so that we deal with the full posterior distribution.\n",
        "\n"
      ]
    },
    {
      "cell_type": "markdown",
      "metadata": {
        "execution": {},
        "id": "8wcYzyPtt4Dr"
      },
      "source": [
        "## Math Exercise 5: Calculating a posterior probability\n",
        "\n",
        "Our prior is $p(s = \\textrm{left}) = 0.3$ and $p(s = \\textrm{right}) = 0.7$. In the video, we learned that the chance of catching a fish given they fish on the same side as the school was 50%. Otherwise, it was 10%. We observe a person fishing on the left side. Our likelihood is: \n",
        "\n",
        "\n",
        "| Likelihood: p(m \\| s) | m = fish   | m = no fish  |\n",
        "| ----------------- |----------|----------|\n",
        "| s = left          | 0.5          | 0.5         |\n",
        "| s = right         | 0.1        |  0.9       |\n",
        "\n",
        "\n",
        "Calculate the posterior probability (on paper) that:\n",
        "\n",
        "1. The school is on the left if the fisherperson catches a fish: $p(s = \\textrm{left} | m = \\textrm{fish})$ (hint: normalize by computing $p(m = \\textrm{fish})$)\n",
        "2. The school is on the right if the fisherperson does not catch a fish: $p(s = \\textrm{right} | m = \\textrm{no fish})$\n",
        "\n",
        "**We don't typically have math exercises in NMA but feel it is important for you to really compute this out yourself. Feel free to use the next cell to write out the math if helpful, or use paper and pen. We recommend doing this exercise individually first and then comparing notes and discussing.**"
      ]
    },
    {
      "cell_type": "code",
      "metadata": {
        "execution": {},
        "id": "GMIuAikMt4Dr"
      },
      "source": [
        "\"\"\"\n",
        "Priors\n",
        "p(s = left) = 0.3\n",
        "p(s = right) = 0.7\n",
        "\n",
        "Likelihoods\n",
        "P(m = fish | s = left) = 0.5\n",
        "P(m = fish | s = right) = 0.1\n",
        "P(m = no fish | s = left) = 0.5\n",
        "P(m = no fish | s = right) = 0.9\n",
        "\n",
        "1. p( s = left | m = fish) = ...\n",
        "\n",
        "2. p( s = right | m = no fish ) = ...\n",
        "\n",
        "\"\"\""
      ],
      "execution_count": null,
      "outputs": []
    },
    {
      "cell_type": "markdown",
      "metadata": {
        "execution": {},
        "id": "nV3ruoyJt4Dr"
      },
      "source": [
        "[*Click for solution*](https://github.com/NeuromatchAcademy/course-content/tree/master//tutorials/W3D1_BayesianDecisions/solutions/W3D1_Tutorial1_Solution_1fcd83ee.py)\n",
        "\n"
      ]
    },
    {
      "cell_type": "markdown",
      "metadata": {
        "execution": {},
        "id": "OHao8Llot4Ds"
      },
      "source": [
        "## Coding Exercise 5: Computing Posteriors\n",
        "\n",
        "Let's implement our above math to be able to compute posteriors for different priors and likelihoods.\n",
        "\n",
        "As before, our prior is $p(s = \\textrm{left}) = 0.3$ and $p(s = \\textrm{right}) = 0.7$. In the video, we learned that the chance of catching a fish given they fish on the same side as the school was 50%. Otherwise, it was 10%. We observe a person fishing on the left side. Our likelihood is: \n",
        "\n",
        "\n",
        "| Likelihood: p(m \\| s) | m = fish   | m = no fish  |\n",
        "| ----------------- |----------|----------|\n",
        "| s = left          | 0.5          | 0.5         |\n",
        "| s = right         | 0.1        |  0.9       |\n",
        "\n",
        "\n",
        "We want our full posterior to take the same 2 by 2 form. Make sure the outputs match your math answers!\n",
        "\n"
      ]
    },
    {
      "cell_type": "code",
      "metadata": {
        "execution": {},
        "id": "9VQAN9UWt4Ds",
        "outputId": "7a18629e-f2a0-46bc-f222-a564af67aeaf",
        "colab": {
          "base_uri": "https://localhost:8080/",
          "height": 362
        }
      },
      "source": [
        "def compute_posterior(likelihood, prior):\n",
        "  \"\"\" Use Bayes' Rule to compute posterior from likelihood and prior\n",
        "\n",
        "  Args:\n",
        "    likelihood (ndarray): i x j array with likelihood probabilities where i is\n",
        "                    number of state options, j is number of measurement options\n",
        "    prior (ndarray): i x 1 array with prior probability of each state\n",
        "\n",
        "  Returns:\n",
        "    ndarray: i x j array with posterior probabilities where i is\n",
        "            number of state options, j is number of measurement options\n",
        "\n",
        "  \"\"\"\n",
        "\n",
        "  #################################################\n",
        "  ## TODO for students ##\n",
        "  # Fill out function and remove\n",
        "  #raise NotImplementedError(\"Student exercise: implement compute_posterior\")\n",
        "  #################################################\n",
        "\n",
        "  # Compute unnormalized posterior (likelihood times prior)\n",
        "  posterior = likelihood*prior # first row is s = left, second row is s = right\n",
        "\n",
        "  # Compute p(m)\n",
        "  p_m = np.sum(posterior, axis = 0)\n",
        "\n",
        "  # Normalize posterior (divide elements by p_m)\n",
        "  posterior /= p_m\n",
        "\n",
        "  return posterior\n",
        "\n",
        "\n",
        "# Make prior\n",
        "prior = np.array([0.3, 0.7]).reshape((2, 1)) # first row is s = left, second row is s = right\n",
        "\n",
        "# Make likelihood\n",
        "likelihood = np.array([[0.5, 0.5], [0.1, 0.9]]) # first row is s = left, second row is s = right\n",
        "\n",
        "# Compute posterior\n",
        "posterior = compute_posterior(likelihood, prior)\n",
        "\n",
        "# Visualize\n",
        "plot_prior_likelihood_posterior(prior, likelihood, posterior)"
      ],
      "execution_count": 14,
      "outputs": [
        {
          "output_type": "display_data",
          "data": {
            "image/png": "[encoded data removed]",
            "text/plain": [
              "<Figure size 864x288 with 3 Axes>"
            ]
          },
          "metadata": {
            "tags": [],
            "image/png": {
              "width": 834,
              "height": 345
            },
            "needs_background": "light"
          }
        }
      ]
    },
    {
      "cell_type": "markdown",
      "metadata": {
        "execution": {},
        "id": "fTk609bkt4Dt"
      },
      "source": [
        "[*Click for solution*](https://github.com/NeuromatchAcademy/course-content/tree/master//tutorials/W3D1_BayesianDecisions/solutions/W3D1_Tutorial1_Solution_1a2cc907.py)\n",
        "\n",
        "*Example output:*\n",
        "\n",
        "<img alt='Solution hint' align='left' width=1665.0 height=674.0 src=https://raw.githubusercontent.com/NeuromatchAcademy/course-content/master/tutorials/W3D1_BayesianDecisions/static/W3D1_Tutorial1_Solution_1a2cc907_0.png>\n",
        "\n"
      ]
    },
    {
      "cell_type": "markdown",
      "metadata": {
        "execution": {},
        "id": "Ahv_-orFt4Dt"
      },
      "source": [
        "## Interactive Demo 5: What affects the posterior?\n",
        "\n",
        "Now that we can understand the implementation of *Bayes rule*, let's vary the parameters of the prior and likelihood to see how changing the prior and likelihood affect the posterior. \n",
        "\n",
        "In the demo below, you can change the prior by playing with the slider for $p( s = left)$. You can also change the likelihood by changing the probability of catching a fish given that the school is on the left and the probability of catching a fish given that the school is on the right. The fisherperson you are observing is fishing on the left.\n",
        " \n",
        "\n",
        "1.   Keeping the likelihood constant, when does the prior have the strongest influence over the posterior? Meaning, when does the posterior look most like the prior no matter whether a fish was caught or not?\n",
        "2.   What happens if the likelihoods for catching a fish are similar when you fish on the correct or incorrect side?\n",
        "3.  Set the prior probability of the state = left to 0.6 and play with the likelihood. When does the likelihood exert the most influence over the posterior?"
      ]
    },
    {
      "cell_type": "code",
      "metadata": {
        "cellView": "form",
        "execution": {},
        "id": "Gb-AHmq4t4Dt",
        "outputId": "a424dd66-eb7d-4a82-d6c3-8898c5cf1152",
        "colab": {
          "base_uri": "https://localhost:8080/",
          "height": 458,
          "referenced_widgets": [
            "8604442e2d81482bbc22d167efdf4c31",
            "6a59c0a70c6f42e6886587f15ae15cee",
            "fb86c008dd8c411b9d1c1a066cdf1601",
            "1638dbb4ac0c45ad820c0b60caa64df2",
            "70d01c0569c54858af81352c50e9b47b",
            "8dcfebb55cc347f99709bd371e25a621",
            "2cca7c3deba04d2f9e0c9b985f869c2d",
            "f40b636b37784fdfb4f58d455dc9f0b1",
            "2fab4e99c5a245b083a5c993f583d4d5",
            "d9ed145b29b84f65b1f750ecbf72376d",
            "218425521ac24dfaa625be862e7dd490",
            "93c578d4e9c54cbcbf8e2b697bfdaecd",
            "75028dd63e9245ac800a75782d8b50a3",
            "f523d50335234cce8aec749cafa0ad5c",
            "9f2f083242734184b571e165964a4b71",
            "f9d3d0a19f5b44ce9da0789ef5b46ec8",
            "0e865158f0234df5bc1d2defbc19a04f",
            "0f36ca5f1d634ff7a0f74f46661aded9"
          ]
        }
      },
      "source": [
        "# @markdown Execute this cell to enable the widget\n",
        "# style = {'description_width': 'initial'}\n",
        "ps_widget = widgets.FloatSlider(0.3, description='p(s = left)',\n",
        "                                min=0.01, max=0.99, step=0.01)\n",
        "p_a_s1_widget = widgets.FloatSlider(0.5, description='p(fish on left | state = left)',\n",
        "                                    min=0.01, max=0.99, step=0.01, style=style, layout=Layout(width='370px'))\n",
        "p_a_s0_widget = widgets.FloatSlider(0.1, description='p(fish on left | state = right)',\n",
        "                                    min=0.01, max=0.99, step=0.01, style=style, layout=Layout(width='370px'))\n",
        "# observed_widget = widgets.Checkbox(value=False, description='Observed fish (m)',\n",
        "#                                  disabled=False, indent=False,\n",
        "#                                  layout=Layout(display=\"flex\", justify_content=\"center\"))\n",
        "\n",
        "observed_widget = ToggleButtons(options=['Fish', 'No Fish'],\n",
        "    description='Observation (m) on the left:', disabled=False, button_style='',\n",
        "    layout=Layout(width='auto', display=\"flex\"),\n",
        "    style={'description_width': 'initial'}\n",
        ")\n",
        "\n",
        "widget_ui = VBox([ps_widget,\n",
        "                  HBox([p_a_s1_widget, p_a_s0_widget]),\n",
        "                  observed_widget])\n",
        "widget_out = interactive_output(plot_prior_likelihood,\n",
        "                                {'ps': ps_widget,\n",
        "                                'p_a_s1': p_a_s1_widget,\n",
        "                                'p_a_s0': p_a_s0_widget,\n",
        "                                'measurement': observed_widget})\n",
        "display(widget_ui, widget_out)\n",
        "\n",
        "# @widgets.interact(\n",
        "#     ps=ps_widget,\n",
        "#     p_a_s1=p_a_s1_widget,\n",
        "#     p_a_s0=p_a_s0_widget,\n",
        "#     m_right=observed_widget\n",
        "# )\n",
        "# def make_prior_likelihood_plot(ps,p_a_s1,p_a_s0,m_right):\n",
        "#     fig = plot_prior_likelihood(ps,p_a_s1,p_a_s0,m_right)\n",
        "#     plt.show(fig)\n",
        "#     plt.close(fig)\n",
        "#     return None"
      ],
      "execution_count": 17,
      "outputs": [
        {
          "output_type": "display_data",
          "data": {
            "application/vnd.jupyter.widget-view+json": {
              "model_id": "8604442e2d81482bbc22d167efdf4c31",
              "version_minor": 0,
              "version_major": 2
            },
            "text/plain": [
              "VBox(children=(FloatSlider(value=0.3, description='p(s = left)', max=0.99, min=0.01, step=0.01), HBox(children…"
            ]
          },
          "metadata": {
            "tags": []
          }
        },
        {
          "output_type": "display_data",
          "data": {
            "application/vnd.jupyter.widget-view+json": {
              "model_id": "0e865158f0234df5bc1d2defbc19a04f",
              "version_minor": 0,
              "version_major": 2
            },
            "text/plain": [
              "Output()"
            ]
          },
          "metadata": {
            "tags": []
          }
        }
      ]
    },
    {
      "cell_type": "markdown",
      "metadata": {
        "execution": {},
        "id": "EBFVESc5t4Du"
      },
      "source": [
        "[*Click for solution*](https://github.com/NeuromatchAcademy/course-content/tree/master//tutorials/W3D1_BayesianDecisions/solutions/W3D1_Tutorial1_Solution_09d33baa.py)\n",
        "\n"
      ]
    },
    {
      "cell_type": "code",
      "metadata": {
        "cellView": "form",
        "execution": {},
        "id": "yKMK5bz8t4Du",
        "outputId": "09030bd0-16cb-47f7-c538-a4f09a39b203",
        "colab": {
          "base_uri": "https://localhost:8080/",
          "height": 581,
          "referenced_widgets": [
            "64e74d27bad14ae2a6a6e46933bd0c63",
            "3ad65758e2a747398c4ee13f2dde84d8",
            "0c4de30d4b6d46d6ab8b9e59016b9689",
            "1596c374a625495f9736deeee2ed12d6",
            "53e01c6a4f944bf2927eed58e413a4ca",
            "33f9db17d96042f09784b7bb74cc0c88"
          ]
        }
      },
      "source": [
        "# @title Video 8: Posterior Beliefs Exercises Discussion\n",
        "from ipywidgets import widgets\n",
        "\n",
        "out2 = widgets.Output()\n",
        "with out2:\n",
        "  from IPython.display import IFrame\n",
        "  class BiliVideo(IFrame):\n",
        "      def __init__(self, id, page=1, width=400, height=300, **kwargs):\n",
        "          self.id=id\n",
        "          src = 'https://player.bilibili.com/player.html?bvid={0}&page={1}'.format(id, page)\n",
        "          super(BiliVideo, self).__init__(src, width, height, **kwargs)\n",
        "\n",
        "  video = BiliVideo(id=\"BV1TU4y1G7SM\", width=854, height=480, fs=1)\n",
        "  print('Video available at https://www.bilibili.com/video/{0}'.format(video.id))\n",
        "  display(video)\n",
        "\n",
        "out1 = widgets.Output()\n",
        "with out1:\n",
        "  from IPython.display import YouTubeVideo\n",
        "  video = YouTubeVideo(id=\"YPQgLVolvBs\", width=854, height=480, fs=1, rel=0)\n",
        "  print('Video available at https://youtube.com/watch?v=' + video.id)\n",
        "  display(video)\n",
        "\n",
        "out = widgets.Tab([out1, out2])\n",
        "out.set_title(0, 'Youtube')\n",
        "out.set_title(1, 'Bilibili')\n",
        "\n",
        "display(out)"
      ],
      "execution_count": 16,
      "outputs": [
        {
          "output_type": "display_data",
          "data": {
            "application/vnd.jupyter.widget-view+json": {
              "model_id": "64e74d27bad14ae2a6a6e46933bd0c63",
              "version_minor": 0,
              "version_major": 2
            },
            "text/plain": [
              "Tab(children=(Output(), Output()), _titles={'0': 'Youtube', '1': 'Bilibili'})"
            ]
          },
          "metadata": {
            "tags": []
          }
        }
      ]
    },
    {
      "cell_type": "markdown",
      "metadata": {
        "execution": {},
        "id": "jUUkjCPKt4Dv"
      },
      "source": [
        "# Section 6: Making Bayesian fishing decisions\n",
        "\n",
        "*Estimated timing to here from start of tutorial: 1 hr, 15 min*"
      ]
    },
    {
      "cell_type": "code",
      "metadata": {
        "cellView": "form",
        "execution": {},
        "id": "-oJu1oAzt4Dv",
        "outputId": "363f0f96-e54e-47b1-9233-ed2d2777944b",
        "colab": {
          "base_uri": "https://localhost:8080/",
          "height": 581,
          "referenced_widgets": [
            "de899f51b82f4f6d80436b2e3cc986a4",
            "054231c8661246188f84562768aeb123",
            "f368754eb64a434784fd9aa30a3e915b",
            "1777741b201d4947abd24d896a168858",
            "cf19f692c696482fbcd2f75ee831a6ed",
            "c89e17cac28a4a8b8cee493c8daf0185"
          ]
        }
      },
      "source": [
        "# @title Video 9: Bayesian Decisions\n",
        "from ipywidgets import widgets\n",
        "\n",
        "out2 = widgets.Output()\n",
        "with out2:\n",
        "  from IPython.display import IFrame\n",
        "  class BiliVideo(IFrame):\n",
        "      def __init__(self, id, page=1, width=400, height=300, **kwargs):\n",
        "          self.id=id\n",
        "          src = 'https://player.bilibili.com/player.html?bvid={0}&page={1}'.format(id, page)\n",
        "          super(BiliVideo, self).__init__(src, width, height, **kwargs)\n",
        "\n",
        "  video = BiliVideo(id=\"BV1954y1n7uH\", width=854, height=480, fs=1)\n",
        "  print('Video available at https://www.bilibili.com/video/{0}'.format(video.id))\n",
        "  display(video)\n",
        "\n",
        "out1 = widgets.Output()\n",
        "with out1:\n",
        "  from IPython.display import YouTubeVideo\n",
        "  video = YouTubeVideo(id=\"tz9zsmTHR68\", width=854, height=480, fs=1, rel=0)\n",
        "  print('Video available at https://youtube.com/watch?v=' + video.id)\n",
        "  display(video)\n",
        "\n",
        "out = widgets.Tab([out1, out2])\n",
        "out.set_title(0, 'Youtube')\n",
        "out.set_title(1, 'Bilibili')\n",
        "\n",
        "display(out)"
      ],
      "execution_count": 18,
      "outputs": [
        {
          "output_type": "display_data",
          "data": {
            "application/vnd.jupyter.widget-view+json": {
              "model_id": "de899f51b82f4f6d80436b2e3cc986a4",
              "version_minor": 0,
              "version_major": 2
            },
            "text/plain": [
              "Tab(children=(Output(), Output()), _titles={'0': 'Youtube', '1': 'Bilibili'})"
            ]
          },
          "metadata": {
            "tags": []
          }
        }
      ]
    },
    {
      "cell_type": "markdown",
      "metadata": {
        "execution": {},
        "id": "ICQ6pAOjt4Dv"
      },
      "source": [
        "\n",
        "We will explore how to consider the expected utility of an action based on our belief (the posterior distribution) about where we think the fish are. Now we have all the components of a Bayesian decision: our prior information, the likelihood given a measurement, the posterior distribution (belief) and our utility (the gains and losses). This allows us to consider the relationship between the true value of the hidden state, $s$, and what we *expect* to get if we take action, $a$, based on our belief!\n",
        "\n",
        "Let's use the following widget to think about the relationship between these probability distributions and utility function."
      ]
    },
    {
      "cell_type": "markdown",
      "metadata": {
        "execution": {},
        "id": "eAtu9wLot4Dw"
      },
      "source": [
        "## Interactive Demo! 6: What is more important, the probabilities or the utilities?\n",
        "\n",
        "We are now going to put everything we've learned together to gain some intuitions for how each of the elements that goes into a Bayesian decision comes together. Remember, the common assumption in neuroscience, psychology, economics, ecology, etc. is that we (humans and animals) are tying to maximize our expected utility. There is a lot going on in this demo as it brings everything in this tutorial together in one place - please spend time making sure you understand the controls and the plots, especially how everything relates together.\n",
        "\n",
        "1. Can you find a situation where the expected utility is the same for both actions?\n",
        "2. What is more important for determining the expected utility: the prior or a new measurement (the likelihood)?\n",
        "3. Why is this a normative model?\n",
        "4. Can you think of ways in which this model would need to be extended to describe human or animal behavior?"
      ]
    },
    {
      "cell_type": "code",
      "metadata": {
        "cellView": "form",
        "execution": {},
        "id": "D0PW0riDt4Dx",
        "outputId": "f4d83144-2962-4cb7-f897-cc8d018a17eb",
        "colab": {
          "base_uri": "https://localhost:8080/",
          "height": 662,
          "referenced_widgets": [
            "3cd30cca4a6546d09094e492e629f4d4",
            "97293776790f44908e532d8fd1ac020a",
            "180edf4eda10472ea24524f80ce0ff35",
            "884bb5b8a8c54442935178b099812f89",
            "394beb4d275d4c0589b352a850239915",
            "deb01cccdbd04f1f86ff419931c6dd5e",
            "681e911769ce42db97785276226c3389",
            "7ecace0055624c92b8bbc164d1a57b21",
            "3f8255d70a5f47448e3c4491b2c9881c",
            "0e6ab707e0ed4fb8b2aae737577095db",
            "4b9737c216504f64803b161437b90a78",
            "52e9d82fb3bd4d50afdede18d87b867b",
            "7085f52559ef44008887ef77253df7dd",
            "58f7a47b18f04509b24c8dddee2cad6f",
            "7b39a46f111c4a66b412c5c55209f220",
            "59df538ad4bd4147a75a88804377adb7",
            "996e3dd25d2e4e8db4687e83970b84a1",
            "382603d58c2c4dc3ac066c41b55474bd"
          ]
        }
      },
      "source": [
        "# @markdown Execute this cell to enable the widget\n",
        "# style = {'description_width': 'initial'}\n",
        "\n",
        "ps_widget = widgets.FloatSlider(0.3, description='p(s = left)',\n",
        "                                min=0.01, max=0.99, step=0.01, layout=Layout(width='300px'))\n",
        "p_a_s1_widget = widgets.FloatSlider(0.5, description='p(fish on left | state = left)',\n",
        "                                    min=0.01, max=0.99, step=0.01, style=style, layout=Layout(width='370px'))\n",
        "p_a_s0_widget = widgets.FloatSlider(0.1, description='p(fish on left | state = right)',\n",
        "                                    min=0.01, max=0.99, step=0.01, style=style, layout=Layout(width='370px'))\n",
        "\n",
        "observed_widget = ToggleButtons(options=['Fish', 'No Fish'],\n",
        "    description='Observation (m) on the left:', disabled=False, button_style='',\n",
        "    layout=Layout(width='auto', display=\"flex\"),\n",
        "    style={'description_width': 'initial'}\n",
        ")\n",
        "\n",
        "widget_ui = VBox([ps_widget,\n",
        "                  HBox([p_a_s1_widget, p_a_s0_widget]),\n",
        "                  observed_widget])\n",
        "\n",
        "widget_out = interactive_output(plot_prior_likelihood_utility,\n",
        "                                {'ps': ps_widget,\n",
        "                                'p_a_s1': p_a_s1_widget,\n",
        "                                'p_a_s0': p_a_s0_widget,\n",
        "                                'measurement': observed_widget})\n",
        "display(widget_ui, widget_out)\n",
        "\n",
        "# @widgets.interact(\n",
        "#     ps=ps_widget,\n",
        "#     p_a_s1=p_a_s1_widget,\n",
        "#     p_a_s0=p_a_s0_widget,\n",
        "#     m_right=observed_widget\n",
        "# )\n",
        "# def make_prior_likelihood_utility_plot(ps, p_a_s1, p_a_s0,m_right):\n",
        "#     fig = plot_prior_likelihood_utility(ps, p_a_s1, p_a_s0,m_right)\n",
        "#     plt.show(fig)\n",
        "#     plt.close(fig)\n",
        "#     return None"
      ],
      "execution_count": 19,
      "outputs": [
        {
          "output_type": "display_data",
          "data": {
            "application/vnd.jupyter.widget-view+json": {
              "model_id": "3cd30cca4a6546d09094e492e629f4d4",
              "version_minor": 0,
              "version_major": 2
            },
            "text/plain": [
              "VBox(children=(FloatSlider(value=0.3, description='p(s = left)', layout=Layout(width='300px'), max=0.99, min=0…"
            ]
          },
          "metadata": {
            "tags": []
          }
        },
        {
          "output_type": "display_data",
          "data": {
            "application/vnd.jupyter.widget-view+json": {
              "model_id": "996e3dd25d2e4e8db4687e83970b84a1",
              "version_minor": 0,
              "version_major": 2
            },
            "text/plain": [
              "Output()"
            ]
          },
          "metadata": {
            "tags": []
          }
        }
      ]
    },
    {
      "cell_type": "markdown",
      "metadata": {
        "execution": {},
        "id": "fxEzwGUht4Dx"
      },
      "source": [
        "[*Click for solution*](https://github.com/NeuromatchAcademy/course-content/tree/master//tutorials/W3D1_BayesianDecisions/solutions/W3D1_Tutorial1_Solution_0dad47c0.py)\n",
        "\n"
      ]
    },
    {
      "cell_type": "code",
      "metadata": {
        "cellView": "form",
        "execution": {},
        "id": "4XlsA81-t4Dx",
        "outputId": "12b42892-8e03-4cbc-9376-c40d0eabd452",
        "colab": {
          "base_uri": "https://localhost:8080/",
          "height": 581,
          "referenced_widgets": [
            "e5d5d80335e14e05a20b3814e63de244",
            "20d7d1973d6746e6871c159a4a9cd766",
            "1c9d1d0eb2014149949ba652a9d89dbf",
            "c6eca4525fd64ca88f78c90b54c2dc3b",
            "c7ad604bf6964aec912c39c481af1aa7",
            "624677e86a4241ab94f6da57caa2ad4e"
          ]
        }
      },
      "source": [
        "# @title Video 10: Bayesian Decisions Demo Discussion\n",
        "from ipywidgets import widgets\n",
        "\n",
        "out2 = widgets.Output()\n",
        "with out2:\n",
        "  from IPython.display import IFrame\n",
        "  class BiliVideo(IFrame):\n",
        "      def __init__(self, id, page=1, width=400, height=300, **kwargs):\n",
        "          self.id=id\n",
        "          src = 'https://player.bilibili.com/player.html?bvid={0}&page={1}'.format(id, page)\n",
        "          super(BiliVideo, self).__init__(src, width, height, **kwargs)\n",
        "\n",
        "  video = BiliVideo(id=\"BV1QU4y137BS\", width=854, height=480, fs=1)\n",
        "  print('Video available at https://www.bilibili.com/video/{0}'.format(video.id))\n",
        "  display(video)\n",
        "\n",
        "out1 = widgets.Output()\n",
        "with out1:\n",
        "  from IPython.display import YouTubeVideo\n",
        "  video = YouTubeVideo(id=\"h9L0EYmUpHs\", width=854, height=480, fs=1, rel=0)\n",
        "  print('Video available at https://youtube.com/watch?v=' + video.id)\n",
        "  display(video)\n",
        "\n",
        "out = widgets.Tab([out1, out2])\n",
        "out.set_title(0, 'Youtube')\n",
        "out.set_title(1, 'Bilibili')\n",
        "\n",
        "display(out)"
      ],
      "execution_count": 20,
      "outputs": [
        {
          "output_type": "display_data",
          "data": {
            "application/vnd.jupyter.widget-view+json": {
              "model_id": "e5d5d80335e14e05a20b3814e63de244",
              "version_minor": 0,
              "version_major": 2
            },
            "text/plain": [
              "Tab(children=(Output(), Output()), _titles={'0': 'Youtube', '1': 'Bilibili'})"
            ]
          },
          "metadata": {
            "tags": []
          }
        }
      ]
    },
    {
      "cell_type": "markdown",
      "metadata": {
        "execution": {},
        "id": "ysP2TmHzt4Dx"
      },
      "source": [
        "---\n",
        "# Summary\n",
        "\n",
        "*Estimated timing of tutorial: 1 hour, 30 minutes*\n",
        "\n",
        "In this tutorial, you learned about combining prior information with new measurements to update your knowledge using Bayes Rule, in the context of a fishing problem. \n",
        "\n",
        "Specifically, we covered:\n",
        "\n",
        "* That the likelihood is the probability of the measurement given some hidden state\n",
        "\n",
        "* That how the prior and likelihood interact to create the posterior, the probability of the hidden state given a measurement, depends on how they covary\n",
        "\n",
        "* That utility is the gain from each action and state pair, and the expected utility for an action is the sum of the utility for all state pairs, weighted by the probability of that state happening. You can then choose the action with highest expected utility.\n"
      ]
    },
    {
      "cell_type": "markdown",
      "metadata": {
        "execution": {},
        "id": "bvvPip-1t4Dy"
      },
      "source": [
        "---\n",
        "# Bonus"
      ]
    },
    {
      "cell_type": "markdown",
      "metadata": {
        "execution": {},
        "id": "Nj8oBgAZt4Dz"
      },
      "source": [
        "## Bonus Section 1: Correlation Formula\n",
        "To understand the way we calculate the correlation, we need to review the definition of covariance and correlation.\n",
        "\n",
        "Covariance:\n",
        "\n",
        "$$\n",
        "cov(X,Y) = \\sigma_{XY} = E[(X - \\mu_{x})(Y - \\mu_{y})] = E[X]E[Y] - \\mu_{x}\\mu_{y}\n",
        "$$\n",
        "\n",
        "Correlation:\n",
        "\n",
        "$$\n",
        "\\rho_{XY} = \\frac{cov(Y,Y)}{\\sqrt{V(X)V(Y)}} = \\frac{\\sigma_{XY}}{\\sigma_{X}\\sigma_{Y}}\n",
        "$$"
      ]
    }
  ]
}