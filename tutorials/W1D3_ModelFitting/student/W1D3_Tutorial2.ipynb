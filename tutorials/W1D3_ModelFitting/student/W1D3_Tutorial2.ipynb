{
  "nbformat": 4,
  "nbformat_minor": 0,
  "metadata": {
    "celltoolbar": "Slideshow",
    "colab": {
      "name": "W1D3_Tutorial2",
      "provenance": [],
      "collapsed_sections": [],
      "toc_visible": true,
      "include_colab_link": true
    },
    "kernel": {
      "display_name": "Python 3",
      "language": "python",
      "name": "python3"
    },
    "kernelspec": {
      "display_name": "Python 3",
      "language": "python",
      "name": "python3"
    },
    "language_info": {
      "codemirror_mode": {
        "name": "ipython",
        "version": 3
      },
      "file_extension": ".py",
      "mimetype": "text/x-python",
      "name": "python",
      "nbconvert_exporter": "python",
      "pygments_lexer": "ipython3",
      "version": "3.7.10"
    },
    "widgets": {
      "application/vnd.jupyter.widget-state+json": {
        "2140d65b85a94d4f8867f9323d516627": {
          "model_module": "@jupyter-widgets/controls",
          "model_name": "TabModel",
          "state": {
            "_view_name": "TabView",
            "_dom_classes": [],
            "_titles": {
              "0": "Youtube",
              "1": "Bilibili"
            },
            "_model_name": "TabModel",
            "_view_module": "@jupyter-widgets/controls",
            "selected_index": 0,
            "_model_module_version": "1.5.0",
            "_view_count": null,
            "_view_module_version": "1.5.0",
            "box_style": "",
            "layout": "IPY_MODEL_9961687e36434a8bbeba88efd5ac02c7",
            "_model_module": "@jupyter-widgets/controls",
            "children": [
              "IPY_MODEL_3e357464d47f4069a8f1f5dd66b485e3",
              "IPY_MODEL_bb8be0b5d3144b5f9d4cb830bfa9f33b"
            ]
          }
        },
        "9961687e36434a8bbeba88efd5ac02c7": {
          "model_module": "@jupyter-widgets/base",
          "model_name": "LayoutModel",
          "state": {
            "_view_name": "LayoutView",
            "grid_template_rows": null,
            "right": null,
            "justify_content": null,
            "_view_module": "@jupyter-widgets/base",
            "overflow": null,
            "_model_module_version": "1.2.0",
            "_view_count": null,
            "flex_flow": null,
            "width": null,
            "min_width": null,
            "border": null,
            "align_items": null,
            "bottom": null,
            "_model_module": "@jupyter-widgets/base",
            "top": null,
            "grid_column": null,
            "overflow_y": null,
            "overflow_x": null,
            "grid_auto_flow": null,
            "grid_area": null,
            "grid_template_columns": null,
            "flex": null,
            "_model_name": "LayoutModel",
            "justify_items": null,
            "grid_row": null,
            "max_height": null,
            "align_content": null,
            "visibility": null,
            "align_self": null,
            "height": null,
            "min_height": null,
            "padding": null,
            "grid_auto_rows": null,
            "grid_gap": null,
            "max_width": null,
            "order": null,
            "_view_module_version": "1.2.0",
            "grid_template_areas": null,
            "object_position": null,
            "object_fit": null,
            "grid_auto_columns": null,
            "margin": null,
            "display": null,
            "left": null
          }
        },
        "3e357464d47f4069a8f1f5dd66b485e3": {
          "model_module": "@jupyter-widgets/output",
          "model_name": "OutputModel",
          "state": {
            "_view_name": "OutputView",
            "msg_id": "",
            "_dom_classes": [],
            "_model_name": "OutputModel",
            "outputs": [
              {
                "output_type": "stream",
                "metadata": {
                  "tags": []
                },
                "text": "Video available at https://youtube.com/watch?v=8mpNmzLKNfU\n",
                "stream": "stdout"
              },
              {
                "output_type": "display_data",
                "metadata": {
                  "tags": []
                },
                "text/html": "\n        <iframe\n            width=\"854\"\n            height=\"480\"\n            src=\"https://www.youtube.com/embed/8mpNmzLKNfU?fs=1&rel=0\"\n            frameborder=\"0\"\n            allowfullscreen\n        ></iframe>\n        ",
                "text/plain": "<IPython.lib.display.YouTubeVideo at 0x7fbc5b5faf50>",
                "image/jpeg": "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\n"
              }
            ],
            "_view_module": "@jupyter-widgets/output",
            "_model_module_version": "1.0.0",
            "_view_count": null,
            "_view_module_version": "1.0.0",
            "layout": "IPY_MODEL_5b6da7269a7f40c3903963871a22267b",
            "_model_module": "@jupyter-widgets/output"
          }
        },
        "bb8be0b5d3144b5f9d4cb830bfa9f33b": {
          "model_module": "@jupyter-widgets/output",
          "model_name": "OutputModel",
          "state": {
            "_view_name": "OutputView",
            "msg_id": "",
            "_dom_classes": [],
            "_model_name": "OutputModel",
            "outputs": [
              {
                "output_type": "stream",
                "metadata": {
                  "tags": []
                },
                "text": "Video available at https://www.bilibili.com/video/BV1Mg4y1i7WH\n",
                "stream": "stdout"
              },
              {
                "output_type": "display_data",
                "metadata": {
                  "tags": []
                },
                "text/html": "\n        <iframe\n            width=\"854\"\n            height=\"480\"\n            src=\"https://player.bilibili.com/player.html?bvid=BV1Mg4y1i7WH&page=1?fs=1\"\n            frameborder=\"0\"\n            allowfullscreen\n        ></iframe>\n        ",
                "text/plain": "<__main__.BiliVideo at 0x7fbc496df850>"
              }
            ],
            "_view_module": "@jupyter-widgets/output",
            "_model_module_version": "1.0.0",
            "_view_count": null,
            "_view_module_version": "1.0.0",
            "layout": "IPY_MODEL_5ad26cbb82f6497d914494a39367be1f",
            "_model_module": "@jupyter-widgets/output"
          }
        },
        "5b6da7269a7f40c3903963871a22267b": {
          "model_module": "@jupyter-widgets/base",
          "model_name": "LayoutModel",
          "state": {
            "_view_name": "LayoutView",
            "grid_template_rows": null,
            "right": null,
            "justify_content": null,
            "_view_module": "@jupyter-widgets/base",
            "overflow": null,
            "_model_module_version": "1.2.0",
            "_view_count": null,
            "flex_flow": null,
            "width": null,
            "min_width": null,
            "border": null,
            "align_items": null,
            "bottom": null,
            "_model_module": "@jupyter-widgets/base",
            "top": null,
            "grid_column": null,
            "overflow_y": null,
            "overflow_x": null,
            "grid_auto_flow": null,
            "grid_area": null,
            "grid_template_columns": null,
            "flex": null,
            "_model_name": "LayoutModel",
            "justify_items": null,
            "grid_row": null,
            "max_height": null,
            "align_content": null,
            "visibility": null,
            "align_self": null,
            "height": null,
            "min_height": null,
            "padding": null,
            "grid_auto_rows": null,
            "grid_gap": null,
            "max_width": null,
            "order": null,
            "_view_module_version": "1.2.0",
            "grid_template_areas": null,
            "object_position": null,
            "object_fit": null,
            "grid_auto_columns": null,
            "margin": null,
            "display": null,
            "left": null
          }
        },
        "5ad26cbb82f6497d914494a39367be1f": {
          "model_module": "@jupyter-widgets/base",
          "model_name": "LayoutModel",
          "state": {
            "_view_name": "LayoutView",
            "grid_template_rows": null,
            "right": null,
            "justify_content": null,
            "_view_module": "@jupyter-widgets/base",
            "overflow": null,
            "_model_module_version": "1.2.0",
            "_view_count": null,
            "flex_flow": null,
            "width": null,
            "min_width": null,
            "border": null,
            "align_items": null,
            "bottom": null,
            "_model_module": "@jupyter-widgets/base",
            "top": null,
            "grid_column": null,
            "overflow_y": null,
            "overflow_x": null,
            "grid_auto_flow": null,
            "grid_area": null,
            "grid_template_columns": null,
            "flex": null,
            "_model_name": "LayoutModel",
            "justify_items": null,
            "grid_row": null,
            "max_height": null,
            "align_content": null,
            "visibility": null,
            "align_self": null,
            "height": null,
            "min_height": null,
            "padding": null,
            "grid_auto_rows": null,
            "grid_gap": null,
            "max_width": null,
            "order": null,
            "_view_module_version": "1.2.0",
            "grid_template_areas": null,
            "object_position": null,
            "object_fit": null,
            "grid_auto_columns": null,
            "margin": null,
            "display": null,
            "left": null
          }
        },
        "7ddf17a47c6e4405958221153b2f77b0": {
          "model_module": "@jupyter-widgets/controls",
          "model_name": "VBoxModel",
          "state": {
            "_view_name": "VBoxView",
            "_dom_classes": [
              "widget-interact"
            ],
            "_model_name": "VBoxModel",
            "_view_module": "@jupyter-widgets/controls",
            "_model_module_version": "1.5.0",
            "_view_count": null,
            "_view_module_version": "1.5.0",
            "box_style": "",
            "layout": "IPY_MODEL_ec66354bf59640aebb83cbb2a63042e6",
            "_model_module": "@jupyter-widgets/controls",
            "children": [
              "IPY_MODEL_91db645143e74eac89b8937c0e5e6a98",
              "IPY_MODEL_1fc976c2721c40a987273050038948ef",
              "IPY_MODEL_03f482da6d6047c7937ffb3c2dfaa48c"
            ]
          }
        },
        "ec66354bf59640aebb83cbb2a63042e6": {
          "model_module": "@jupyter-widgets/base",
          "model_name": "LayoutModel",
          "state": {
            "_view_name": "LayoutView",
            "grid_template_rows": null,
            "right": null,
            "justify_content": null,
            "_view_module": "@jupyter-widgets/base",
            "overflow": null,
            "_model_module_version": "1.2.0",
            "_view_count": null,
            "flex_flow": null,
            "width": null,
            "min_width": null,
            "border": null,
            "align_items": null,
            "bottom": null,
            "_model_module": "@jupyter-widgets/base",
            "top": null,
            "grid_column": null,
            "overflow_y": null,
            "overflow_x": null,
            "grid_auto_flow": null,
            "grid_area": null,
            "grid_template_columns": null,
            "flex": null,
            "_model_name": "LayoutModel",
            "justify_items": null,
            "grid_row": null,
            "max_height": null,
            "align_content": null,
            "visibility": null,
            "align_self": null,
            "height": null,
            "min_height": null,
            "padding": null,
            "grid_auto_rows": null,
            "grid_gap": null,
            "max_width": null,
            "order": null,
            "_view_module_version": "1.2.0",
            "grid_template_areas": null,
            "object_position": null,
            "object_fit": null,
            "grid_auto_columns": null,
            "margin": null,
            "display": null,
            "left": null
          }
        },
        "91db645143e74eac89b8937c0e5e6a98": {
          "model_module": "@jupyter-widgets/controls",
          "model_name": "FloatSliderModel",
          "state": {
            "_view_name": "FloatSliderView",
            "style": "IPY_MODEL_a3188e70a5b745799ebd7447b8be76fe",
            "_dom_classes": [],
            "description": "mu",
            "step": 0.1,
            "_model_name": "FloatSliderModel",
            "orientation": "horizontal",
            "max": 2,
            "_view_module": "@jupyter-widgets/controls",
            "_model_module_version": "1.5.0",
            "value": 0.6,
            "_view_count": null,
            "disabled": false,
            "_view_module_version": "1.5.0",
            "min": -2,
            "continuous_update": true,
            "readout_format": ".2f",
            "description_tooltip": null,
            "readout": true,
            "_model_module": "@jupyter-widgets/controls",
            "layout": "IPY_MODEL_1e7cb23b1b9c405da025a1d5a2f6e59d"
          }
        },
        "1fc976c2721c40a987273050038948ef": {
          "model_module": "@jupyter-widgets/controls",
          "model_name": "FloatSliderModel",
          "state": {
            "_view_name": "FloatSliderView",
            "style": "IPY_MODEL_1ac41ff549d447a399ae902dfd7e9321",
            "_dom_classes": [],
            "description": "sigma",
            "step": 0.1,
            "_model_name": "FloatSliderModel",
            "orientation": "horizontal",
            "max": 2,
            "_view_module": "@jupyter-widgets/controls",
            "_model_module_version": "1.5.0",
            "value": 1.3,
            "_view_count": null,
            "disabled": false,
            "_view_module_version": "1.5.0",
            "min": 0.5,
            "continuous_update": true,
            "readout_format": ".2f",
            "description_tooltip": null,
            "readout": true,
            "_model_module": "@jupyter-widgets/controls",
            "layout": "IPY_MODEL_ca04c3491bc743e0840f1d3511b6f3d7"
          }
        },
        "03f482da6d6047c7937ffb3c2dfaa48c": {
          "model_module": "@jupyter-widgets/output",
          "model_name": "OutputModel",
          "state": {
            "_view_name": "OutputView",
            "msg_id": "",
            "_dom_classes": [],
            "_model_name": "OutputModel",
            "outputs": [
              {
                "output_type": "display_data",
                "metadata": {
                  "tags": [],
                  "image/png": {
                    "width": 558,
                    "height": 413
                  },
                  "needs_background": "light"
                },
                "image/png": "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\n",
                "text/plain": "<Figure size 576x432 with 1 Axes>"
              }
            ],
            "_view_module": "@jupyter-widgets/output",
            "_model_module_version": "1.0.0",
            "_view_count": null,
            "_view_module_version": "1.0.0",
            "layout": "IPY_MODEL_1942420f6e6c40618ca3eab1876b642d",
            "_model_module": "@jupyter-widgets/output"
          }
        },
        "a3188e70a5b745799ebd7447b8be76fe": {
          "model_module": "@jupyter-widgets/controls",
          "model_name": "SliderStyleModel",
          "state": {
            "_view_name": "StyleView",
            "handle_color": null,
            "_model_name": "SliderStyleModel",
            "description_width": "",
            "_view_module": "@jupyter-widgets/base",
            "_model_module_version": "1.5.0",
            "_view_count": null,
            "_view_module_version": "1.2.0",
            "_model_module": "@jupyter-widgets/controls"
          }
        },
        "1e7cb23b1b9c405da025a1d5a2f6e59d": {
          "model_module": "@jupyter-widgets/base",
          "model_name": "LayoutModel",
          "state": {
            "_view_name": "LayoutView",
            "grid_template_rows": null,
            "right": null,
            "justify_content": null,
            "_view_module": "@jupyter-widgets/base",
            "overflow": null,
            "_model_module_version": "1.2.0",
            "_view_count": null,
            "flex_flow": null,
            "width": null,
            "min_width": null,
            "border": null,
            "align_items": null,
            "bottom": null,
            "_model_module": "@jupyter-widgets/base",
            "top": null,
            "grid_column": null,
            "overflow_y": null,
            "overflow_x": null,
            "grid_auto_flow": null,
            "grid_area": null,
            "grid_template_columns": null,
            "flex": null,
            "_model_name": "LayoutModel",
            "justify_items": null,
            "grid_row": null,
            "max_height": null,
            "align_content": null,
            "visibility": null,
            "align_self": null,
            "height": null,
            "min_height": null,
            "padding": null,
            "grid_auto_rows": null,
            "grid_gap": null,
            "max_width": null,
            "order": null,
            "_view_module_version": "1.2.0",
            "grid_template_areas": null,
            "object_position": null,
            "object_fit": null,
            "grid_auto_columns": null,
            "margin": null,
            "display": null,
            "left": null
          }
        },
        "1ac41ff549d447a399ae902dfd7e9321": {
          "model_module": "@jupyter-widgets/controls",
          "model_name": "SliderStyleModel",
          "state": {
            "_view_name": "StyleView",
            "handle_color": null,
            "_model_name": "SliderStyleModel",
            "description_width": "",
            "_view_module": "@jupyter-widgets/base",
            "_model_module_version": "1.5.0",
            "_view_count": null,
            "_view_module_version": "1.2.0",
            "_model_module": "@jupyter-widgets/controls"
          }
        },
        "ca04c3491bc743e0840f1d3511b6f3d7": {
          "model_module": "@jupyter-widgets/base",
          "model_name": "LayoutModel",
          "state": {
            "_view_name": "LayoutView",
            "grid_template_rows": null,
            "right": null,
            "justify_content": null,
            "_view_module": "@jupyter-widgets/base",
            "overflow": null,
            "_model_module_version": "1.2.0",
            "_view_count": null,
            "flex_flow": null,
            "width": null,
            "min_width": null,
            "border": null,
            "align_items": null,
            "bottom": null,
            "_model_module": "@jupyter-widgets/base",
            "top": null,
            "grid_column": null,
            "overflow_y": null,
            "overflow_x": null,
            "grid_auto_flow": null,
            "grid_area": null,
            "grid_template_columns": null,
            "flex": null,
            "_model_name": "LayoutModel",
            "justify_items": null,
            "grid_row": null,
            "max_height": null,
            "align_content": null,
            "visibility": null,
            "align_self": null,
            "height": null,
            "min_height": null,
            "padding": null,
            "grid_auto_rows": null,
            "grid_gap": null,
            "max_width": null,
            "order": null,
            "_view_module_version": "1.2.0",
            "grid_template_areas": null,
            "object_position": null,
            "object_fit": null,
            "grid_auto_columns": null,
            "margin": null,
            "display": null,
            "left": null
          }
        },
        "1942420f6e6c40618ca3eab1876b642d": {
          "model_module": "@jupyter-widgets/base",
          "model_name": "LayoutModel",
          "state": {
            "_view_name": "LayoutView",
            "grid_template_rows": null,
            "right": null,
            "justify_content": null,
            "_view_module": "@jupyter-widgets/base",
            "overflow": null,
            "_model_module_version": "1.2.0",
            "_view_count": null,
            "flex_flow": null,
            "width": null,
            "min_width": null,
            "border": null,
            "align_items": null,
            "bottom": null,
            "_model_module": "@jupyter-widgets/base",
            "top": null,
            "grid_column": null,
            "overflow_y": null,
            "overflow_x": null,
            "grid_auto_flow": null,
            "grid_area": null,
            "grid_template_columns": null,
            "flex": null,
            "_model_name": "LayoutModel",
            "justify_items": null,
            "grid_row": null,
            "max_height": null,
            "align_content": null,
            "visibility": null,
            "align_self": null,
            "height": null,
            "min_height": null,
            "padding": null,
            "grid_auto_rows": null,
            "grid_gap": null,
            "max_width": null,
            "order": null,
            "_view_module_version": "1.2.0",
            "grid_template_areas": null,
            "object_position": null,
            "object_fit": null,
            "grid_auto_columns": null,
            "margin": null,
            "display": null,
            "left": null
          }
        }
      }
    }
  },
  "cells": [
    {
      "cell_type": "markdown",
      "metadata": {
        "id": "view-in-github",
        "colab_type": "text"
      },
      "source": [
        "<a href=\"https://colab.research.google.com/github/luisarai/NMA2021/blob/main/tutorials/W1D3_ModelFitting/student/W1D3_Tutorial2.ipynb\" target=\"_parent\"><img src=\"https://colab.research.google.com/assets/colab-badge.svg\" alt=\"Open In Colab\"/></a>"
      ]
    },
    {
      "cell_type": "markdown",
      "metadata": {
        "id": "-2dM2vXwDbhL"
      },
      "source": [
        "# Tutorial 2: Linear regression with MLE\n",
        "**Week 1, Day 3: Model Fitting**\n",
        "\n",
        "**By Neuromatch Academy**\n",
        "\n",
        "**Content creators**: Pierre-Étienne Fiquet, Anqi Wu, Alex Hyafil  with help from Byron Galbraith\n",
        "\n",
        "**Content reviewers**: Lina Teichmann, Madineh Sarvestani, Patrick Mineault, Ella Batty, Michael Waskom\n"
      ]
    },
    {
      "cell_type": "markdown",
      "metadata": {
        "id": "E-jw0hm1DbhP"
      },
      "source": [
        "**Our 2021 Sponsors, including Presenting Sponsor Facebook Reality Labs**\n",
        "\n",
        "<p align='center'><img src='https://github.com/NeuromatchAcademy/widgets/blob/master/sponsors.png?raw=True'/></p>"
      ]
    },
    {
      "cell_type": "markdown",
      "metadata": {
        "id": "fHfS6fwQDbhR"
      },
      "source": [
        "---\n",
        "# Tutorial Objectives\n",
        "\n",
        "*Estimated timing of tutorial: 30 minutes*\n",
        "\n",
        "This is Tutorial 2 of a series on fitting models to data. We start with simple linear regression, using least squares optimization (Tutorial 1) and Maximum Likelihood Estimation (Tutorial 2). We will use bootstrapping to build confidence intervals around the inferred linear model parameters (Tutorial 3). We'll finish our exploration of regression models by generalizing to multiple linear regression and polynomial regression (Tutorial 4). We end by learning how to choose between these various models. We discuss the bias-variance trade-off (Tutorial 5) and Cross Validation for model selection (Tutorial 6).\n",
        "\n",
        "In this tutorial, we will use a different approach to fit linear models that incorporates the random 'noise' in our data.\n",
        "- Learn about probability distributions and probabilistic models\n",
        "- Learn how to calculate the likelihood of our model parameters\n",
        "- Learn how to implement the maximum likelihood estimator, to find the model parameter with the maximum likelihood\n",
        "\n"
      ]
    },
    {
      "cell_type": "code",
      "metadata": {
        "cellView": "form",
        "execution": {
          "iopub.execute_input": "2021-07-06T22:27:35.855373Z",
          "iopub.status.busy": "2021-07-06T22:27:35.854774Z",
          "iopub.status.idle": "2021-07-06T22:27:35.869409Z",
          "shell.execute_reply": "2021-07-06T22:27:35.869796Z"
        },
        "id": "gEMkK4AEDbhT"
      },
      "source": [
        "# @title Tutorial slides\n",
        "\n",
        "# @markdown These are the slides for the videos in all tutorials today\n",
        "from IPython.display import IFrame\n",
        "IFrame(src=f\"https://mfr.ca-1.osf.io/render?url=https://osf.io/2mkq4/?direct%26mode=render%26action=download%26mode=render\", width=854, height=480)"
      ],
      "execution_count": null,
      "outputs": []
    },
    {
      "cell_type": "markdown",
      "metadata": {
        "id": "Twgjv4RODbhV"
      },
      "source": [
        "---\n",
        "# Setup"
      ]
    },
    {
      "cell_type": "code",
      "metadata": {
        "execution": {
          "iopub.execute_input": "2021-07-06T22:27:35.873603Z",
          "iopub.status.busy": "2021-07-06T22:27:35.872913Z",
          "iopub.status.idle": "2021-07-06T22:27:36.456110Z",
          "shell.execute_reply": "2021-07-06T22:27:36.455314Z"
        },
        "id": "J6Q9gC-QDbhX"
      },
      "source": [
        "import numpy as np\n",
        "import matplotlib.pyplot as plt\n",
        "from scipy import stats"
      ],
      "execution_count": 1,
      "outputs": []
    },
    {
      "cell_type": "code",
      "metadata": {
        "cellView": "form",
        "execution": {
          "iopub.execute_input": "2021-07-06T22:27:36.460882Z",
          "iopub.status.busy": "2021-07-06T22:27:36.459687Z",
          "iopub.status.idle": "2021-07-06T22:27:36.548381Z",
          "shell.execute_reply": "2021-07-06T22:27:36.547575Z"
        },
        "id": "81LruB2aDbhZ"
      },
      "source": [
        "#@title Figure Settings\n",
        "import ipywidgets as widgets       # interactive display\n",
        "%config InlineBackend.figure_format = 'retina'\n",
        "plt.style.use(\"https://raw.githubusercontent.com/NeuromatchAcademy/course-content/master/nma.mplstyle\")"
      ],
      "execution_count": 2,
      "outputs": []
    },
    {
      "cell_type": "code",
      "metadata": {
        "cellView": "form",
        "execution": {
          "iopub.execute_input": "2021-07-06T22:27:36.555732Z",
          "iopub.status.busy": "2021-07-06T22:27:36.555243Z",
          "iopub.status.idle": "2021-07-06T22:27:36.558606Z",
          "shell.execute_reply": "2021-07-06T22:27:36.558131Z"
        },
        "id": "leEAiz9wDbhb"
      },
      "source": [
        "# @title Plotting Functions\n",
        "def plot_density_image(x, y, theta, sigma=1, ax=None):\n",
        "  \"\"\" Plots probability distribution of y given x, theta, and sigma\n",
        "\n",
        "  Args:\n",
        "\n",
        "    x (ndarray): An array of shape (samples,) that contains the input values.\n",
        "    y (ndarray): An array of shape (samples,) that contains the corresponding\n",
        "      measurement values to the inputs.\n",
        "    theta (float): Slope parameter\n",
        "    sigma (float): standard deviation of Gaussian noise\n",
        "\n",
        "  \"\"\"\n",
        "\n",
        "  # plot the probability density of p(y|x,theta)\n",
        "  if ax is None:\n",
        "    fig, ax = plt.subplots()\n",
        "\n",
        "  xmin, xmax = np.floor(np.min(x)), np.ceil(np.max(x))\n",
        "  ymin, ymax = np.floor(np.min(y)), np.ceil(np.max(y))\n",
        "  xx = np.linspace(xmin, xmax, 50)\n",
        "  yy = np.linspace(ymin, ymax, 50)\n",
        "\n",
        "  surface = np.zeros((len(yy), len(xx)))\n",
        "  for i, x_i in enumerate(xx):\n",
        "    surface[:, i] = stats.norm(theta * x_i, sigma).pdf(yy)\n",
        "\n",
        "  ax.set(xlabel='x', ylabel='y')\n",
        "\n",
        "  return ax.imshow(surface, origin='lower', aspect='auto', vmin=0, vmax=None,\n",
        "            cmap=plt.get_cmap('Wistia'),\n",
        "            extent=[xmin, xmax, ymin, ymax])"
      ],
      "execution_count": 3,
      "outputs": []
    },
    {
      "cell_type": "markdown",
      "metadata": {
        "id": "54XoczkEDbhd"
      },
      "source": [
        "---\n",
        "# Section 1: Maximum Likelihood Estimation (MLE)\n"
      ]
    },
    {
      "cell_type": "code",
      "metadata": {
        "cellView": "form",
        "execution": {
          "iopub.execute_input": "2021-07-06T22:27:36.570253Z",
          "iopub.status.busy": "2021-07-06T22:27:36.566173Z",
          "iopub.status.idle": "2021-07-06T22:27:36.650525Z",
          "shell.execute_reply": "2021-07-06T22:27:36.647331Z"
        },
        "id": "0VUJLDpLDbhf",
        "outputId": "bb0dbd38-b198-4e76-9604-c5909126476f",
        "colab": {
          "base_uri": "https://localhost:8080/",
          "height": 581,
          "referenced_widgets": [
            "2140d65b85a94d4f8867f9323d516627",
            "9961687e36434a8bbeba88efd5ac02c7",
            "3e357464d47f4069a8f1f5dd66b485e3",
            "bb8be0b5d3144b5f9d4cb830bfa9f33b",
            "5b6da7269a7f40c3903963871a22267b",
            "5ad26cbb82f6497d914494a39367be1f"
          ]
        }
      },
      "source": [
        "# @title Video 1: Maximum Likelihood Estimation\n",
        "from ipywidgets import widgets\n",
        "\n",
        "out2 = widgets.Output()\n",
        "with out2:\n",
        "  from IPython.display import IFrame\n",
        "  class BiliVideo(IFrame):\n",
        "      def __init__(self, id, page=1, width=400, height=300, **kwargs):\n",
        "          self.id=id\n",
        "          src = 'https://player.bilibili.com/player.html?bvid={0}&page={1}'.format(id, page)\n",
        "          super(BiliVideo, self).__init__(src, width, height, **kwargs)\n",
        "\n",
        "  video = BiliVideo(id=\"BV1Mg4y1i7WH\", width=854, height=480, fs=1)\n",
        "  print('Video available at https://www.bilibili.com/video/{0}'.format(video.id))\n",
        "  display(video)\n",
        "\n",
        "out1 = widgets.Output()\n",
        "with out1:\n",
        "  from IPython.display import YouTubeVideo\n",
        "  video = YouTubeVideo(id=\"8mpNmzLKNfU\", width=854, height=480, fs=1, rel=0)\n",
        "  print('Video available at https://youtube.com/watch?v=' + video.id)\n",
        "  display(video)\n",
        "\n",
        "out = widgets.Tab([out1, out2])\n",
        "out.set_title(0, 'Youtube')\n",
        "out.set_title(1, 'Bilibili')\n",
        "\n",
        "display(out)"
      ],
      "execution_count": 4,
      "outputs": [
        {
          "output_type": "display_data",
          "data": {
            "application/vnd.jupyter.widget-view+json": {
              "model_id": "2140d65b85a94d4f8867f9323d516627",
              "version_minor": 0,
              "version_major": 2
            },
            "text/plain": [
              "Tab(children=(Output(), Output()), _titles={'0': 'Youtube', '1': 'Bilibili'})"
            ]
          },
          "metadata": {
            "tags": []
          }
        }
      ]
    },
    {
      "cell_type": "markdown",
      "metadata": {
        "id": "eIBMDShIDbhg"
      },
      "source": [
        "This video covers Maximum Likelihood Estimation (MLE) in the context of a 1D linear regression.\n"
      ]
    },
    {
      "cell_type": "markdown",
      "metadata": {
        "id": "1apIlmEhDbhi"
      },
      "source": [
        "## Section 1.1: Gaussian noise"
      ]
    },
    {
      "cell_type": "markdown",
      "metadata": {
        "id": "QSUI8qCEDbhj"
      },
      "source": [
        "\n",
        "<details>\n",
        "<summary> <font color='blue'>Click here for text recap of relevant part of video </font></summary>\n",
        "\n",
        "In the previous tutorial we made the assumption that the data was drawn from a linear relationship with noise added, and found an effective approach for estimating model parameters based on minimizing the mean squared error.\n",
        "\n",
        "In that case we treated the noise as simply a nuisance, but what if we factored it directly into our model?\n",
        "\n",
        "Recall our linear model:\n",
        "\n",
        "\\begin{align}\n",
        "y = \\theta x + \\epsilon.\n",
        "\\end{align}\n",
        "\n",
        "The noise component $\\epsilon$ is often modeled as a random variable drawn from a Gaussian distribution (also called the normal distribution).\n",
        "\n",
        "The Gaussian distribution is described by its [probability density function](https://en.wikipedia.org/wiki/Probability_density_function) (pdf)\n",
        "\\begin{align}\n",
        "\\mathcal{N}(x; \\mu, \\sigma^2) = \\frac{1}{\\sqrt{2\\pi\\sigma^2}}e^{-\\frac{1}{2\\sigma^2}(x-\\mu)^2}\n",
        "\\end{align}\n",
        "\n",
        "and is dependent on two parameters: the mean $\\mu$ and the variance $\\sigma^2$. We often consider the noise signal to be Gaussian \"white noise\", with zero mean and unit variance:\n",
        "\n",
        "\\begin{align}\n",
        "\\epsilon \\sim \\mathcal{N}(0, 1).\n",
        "\\end{align}\n",
        "\n"
      ]
    },
    {
      "cell_type": "markdown",
      "metadata": {
        "id": "5nTiCfbtDbhj"
      },
      "source": [
        "### Interactive Demo 1.1: Gaussian Distribution Explorer\n",
        "\n",
        "Use the explorer widget below to see how varying the $\\mu$ and $\\sigma$ parameters change the location and shape of the samples.\n",
        "\n",
        "\n",
        "1.   What effect does varying $\\mu$ have on the pdf?\n",
        "2.   What effect does varying $\\sigma$ have on the pdf?\n",
        "\n"
      ]
    },
    {
      "cell_type": "code",
      "metadata": {
        "cellView": "form",
        "execution": {
          "iopub.execute_input": "2021-07-06T22:27:36.681920Z",
          "iopub.status.busy": "2021-07-06T22:27:36.681421Z",
          "iopub.status.idle": "2021-07-06T22:27:37.154435Z",
          "shell.execute_reply": "2021-07-06T22:27:37.154870Z"
        },
        "id": "d-MFud-3Dbhk",
        "outputId": "526f516b-5ada-411b-ac31-f2f779caa252",
        "colab": {
          "base_uri": "https://localhost:8080/",
          "height": 494,
          "referenced_widgets": [
            "7ddf17a47c6e4405958221153b2f77b0",
            "ec66354bf59640aebb83cbb2a63042e6",
            "91db645143e74eac89b8937c0e5e6a98",
            "1fc976c2721c40a987273050038948ef",
            "03f482da6d6047c7937ffb3c2dfaa48c",
            "a3188e70a5b745799ebd7447b8be76fe",
            "1e7cb23b1b9c405da025a1d5a2f6e59d",
            "1ac41ff549d447a399ae902dfd7e9321",
            "ca04c3491bc743e0840f1d3511b6f3d7",
            "1942420f6e6c40618ca3eab1876b642d"
          ]
        }
      },
      "source": [
        "# @markdown Make sure you execute this cell to enable the widget!\n",
        "\n",
        "@widgets.interact(mu=widgets.FloatSlider(0.0, min=-2.0, max=2.0),\n",
        "                  sigma=widgets.FloatSlider(1.0, min=0.5, max=2.0))\n",
        "def plot_normal_dist(mu=0, sigma=1):\n",
        "\n",
        "  # Generate pdf & samples from normal distribution with mu/sigma\n",
        "  rv = stats.norm(mu, sigma)\n",
        "  x = np.linspace(-5, 5, 100)\n",
        "  y = rv.pdf(x)\n",
        "  samples = rv.rvs(1000)\n",
        "\n",
        "  # Plot\n",
        "  fig, ax = plt.subplots()\n",
        "  ax.hist(samples, 20, density=True, color='g', histtype='stepfilled', alpha=0.8,\n",
        "          label='histogram')\n",
        "  ax.plot(x, y, color='orange', linewidth=3, label='pdf')\n",
        "  ax.vlines(mu, 0, rv.pdf(mu), color='y', linewidth=3, label='$\\mu$')\n",
        "  ax.vlines([mu-sigma, mu+sigma], 0, rv.pdf([mu-sigma, mu+sigma]), colors='red',\n",
        "            color='b', linewidth=3, label='$\\sigma$')\n",
        "  ax.set(xlabel='x', ylabel='probability density', xlim=[-5, 5], ylim=[0, 1.0])\n",
        "  ax.legend()"
      ],
      "execution_count": 5,
      "outputs": [
        {
          "output_type": "display_data",
          "data": {
            "application/vnd.jupyter.widget-view+json": {
              "model_id": "7ddf17a47c6e4405958221153b2f77b0",
              "version_minor": 0,
              "version_major": 2
            },
            "text/plain": [
              "interactive(children=(FloatSlider(value=0.0, description='mu', max=2.0, min=-2.0), FloatSlider(value=1.0, desc…"
            ]
          },
          "metadata": {
            "tags": []
          }
        }
      ]
    },
    {
      "cell_type": "markdown",
      "metadata": {
        "execution": {
          "iopub.execute_input": "2021-07-06T22:27:37.159799Z",
          "iopub.status.busy": "2021-07-06T22:27:37.158917Z",
          "iopub.status.idle": "2021-07-06T22:27:37.164654Z",
          "shell.execute_reply": "2021-07-06T22:27:37.163987Z"
        },
        "id": "GaYWYGntDbhl"
      },
      "source": [
        "[*Click for solution*](https://github.com/NeuromatchAcademy/course-content/tree/master//tutorials/W1D3_ModelFitting/solutions/W1D3_Tutorial2_Solution_79689f11.py)\n",
        "\n"
      ]
    },
    {
      "cell_type": "markdown",
      "metadata": {
        "id": "_am-z-yADbhm"
      },
      "source": [
        "## Section 1.2: Probabilistic Models\n",
        "\n",
        "*Estimated timing to here from start of tutorial: 11 min*\n",
        "\n",
        "Now that we have a model of our noise component $\\epsilon$ as random variable, how do we incorporate this back into our original linear model from before? Consider again our simplified model $y = \\theta x + \\epsilon$ where the noise has zero mean and unit variance $\\epsilon \\sim \\mathcal{N}(0, 1)$. We can now also treat $y$ as a random variable drawn from a Gaussian distribution where $\\mu = \\theta x$ and $\\sigma^2 = 1$:\n",
        "\n",
        "\\begin{align}\n",
        "y \\sim \\mathcal{N}(\\theta x, 1)\n",
        "\\end{align}\n",
        "\n",
        "which is to say that the probability of observing $y$ given $x$ and parameter $\\theta$ is\n",
        "\\begin{align}\n",
        "p(y|x,\\theta) = \\frac{1}{\\sqrt{2\\pi}}e^{-\\frac{1}{2}(y-\\theta x)^2}\n",
        "\\end{align}\n",
        "\n",
        "\n",
        "Note that in this and the following sections, we will focus on a single data point (a single pairing of $x$ and $y$). We have dropped the subscript $i$ just for simplicity (that is, we use $x$ for a single data point, instead of $x_i$). \n",
        "\n",
        "Now, let's revisit our original sample dataset where the true underlying model has $\\theta = 1.2$."
      ]
    },
    {
      "cell_type": "code",
      "metadata": {
        "cellView": "form",
        "execution": {
          "iopub.execute_input": "2021-07-06T22:27:37.169677Z",
          "iopub.status.busy": "2021-07-06T22:27:37.168895Z",
          "iopub.status.idle": "2021-07-06T22:27:37.173190Z",
          "shell.execute_reply": "2021-07-06T22:27:37.172400Z"
        },
        "id": "9Ge33vd_Dbhn"
      },
      "source": [
        "# @markdown Execute this cell to generate some simulated data\n",
        "\n",
        "# setting a fixed seed to our random number generator ensures we will always\n",
        "# get the same psuedorandom number sequence\n",
        "\n",
        "np.random.seed(121)\n",
        "theta = 1.2\n",
        "n_samples = 30\n",
        "x = 10 * np.random.rand(n_samples) # sample from a uniform distribution over [0,10)\n",
        "noise = np.random.randn(n_samples) # sample from a standard normal distribution\n",
        "y = theta * x + noise"
      ],
      "execution_count": 6,
      "outputs": []
    },
    {
      "cell_type": "markdown",
      "metadata": {
        "id": "dHRcxhyrDbho"
      },
      "source": [
        "This time we can plot the density of $p(y|x,\\theta=1.2)$ and see how $p(y)$ changes for different values of $x$."
      ]
    },
    {
      "cell_type": "code",
      "metadata": {
        "cellView": "form",
        "execution": {
          "iopub.execute_input": "2021-07-06T22:27:37.302602Z",
          "iopub.status.busy": "2021-07-06T22:27:37.218495Z",
          "iopub.status.idle": "2021-07-06T22:27:37.736464Z",
          "shell.execute_reply": "2021-07-06T22:27:37.737081Z"
        },
        "id": "tipyaQ0-Dbhp",
        "outputId": "89c9f58f-38ef-4c11-beae-59e76835ca27",
        "colab": {
          "base_uri": "https://localhost:8080/",
          "height": 286
        }
      },
      "source": [
        "# @markdown Execute this cell to visualize p(y|x, theta=1.2)\n",
        "\n",
        "fig, (ax1, ax2) = plt.subplots(ncols=2, figsize=(10, 4))\n",
        "\n",
        "# Invokes helper function to generate density image plots from data and parameters\n",
        "im = plot_density_image(x, y, 1.2, ax=ax1)\n",
        "plt.colorbar(im, ax=ax1)\n",
        "ax1.axvline(8, color='k')\n",
        "ax1.set(title=r'p(y | x, $\\theta$=1.2)')\n",
        "\n",
        "# Plot pdf for given x\n",
        "ylim = ax1.get_ylim()\n",
        "yy = np.linspace(ylim[0], ylim[1], 50)\n",
        "ax2.plot(yy, stats.norm(theta * 8, 1).pdf(yy), color='orange', linewidth=2)\n",
        "ax2.set(\n",
        "    title=r'p(y|x=8, $\\theta$=1.2)',\n",
        "    xlabel='y',\n",
        "    ylabel='probability density');"
      ],
      "execution_count": 7,
      "outputs": [
        {
          "output_type": "display_data",
          "data": {
            "image/png": "[encoded data removed]",
            "text/plain": [
              "<Figure size 720x288 with 3 Axes>"
            ]
          },
          "metadata": {
            "tags": [],
            "image/png": {
              "width": 702,
              "height": 269
            },
            "needs_background": "light"
          }
        }
      ]
    },
    {
      "cell_type": "markdown",
      "metadata": {
        "id": "021L7LEvDbhq"
      },
      "source": [
        "## Section 1.3: Likelihood Estimation\n",
        "\n",
        "*Estimated timing to here from start of tutorial: 15 min*\n",
        "\n",
        "Now that we have our probabilistic model, we turn back to our original challenge of finding a good estimate for $\\theta$ that fits our data. Given the inherent uncertainty when dealing in probabilities, we talk about the [likelihood](https://en.wikipedia.org/wiki/Likelihood_function) that some estimate $\\hat{\\theta}$ fits our data. The likelihood function $\\mathcal{L}(\\theta)$ is equal to the probability density function parameterized by that $\\theta$:\n",
        "\n",
        "\\begin{align}\n",
        "\\mathcal{L}(\\theta|x,y) = p(y|x,\\theta) = \\frac{1}{\\sqrt{2\\pi\\sigma^2}}e^{-\\frac{1}{2\\sigma^2}(y-\\theta x)^2}\n",
        "\\end{align}"
      ]
    },
    {
      "cell_type": "markdown",
      "metadata": {
        "id": "uJpI8DbiDbhr"
      },
      "source": [
        "### Coding Exercise 1.3: Likelihood Function\n",
        "\n",
        "In this exercise you will implement the likelihood function $\\mathcal{L}(\\theta|x, y)$ for our linear model where $\\sigma = 1$.\n",
        "\n",
        "After implementing this function, we can produce probabilities that our estimate $\\hat{\\theta}$ generated the provided observations. We will try with one of the samples from our dataset.\n",
        "\n",
        "TIP: Use `np.exp` and `np.sqrt` for the exponential and square root functions, respectively."
      ]
    },
    {
      "cell_type": "code",
      "metadata": {
        "execution": {
          "iopub.execute_input": "2021-07-06T22:27:37.743187Z",
          "iopub.status.busy": "2021-07-06T22:27:37.741872Z",
          "iopub.status.idle": "2021-07-06T22:27:37.831113Z",
          "shell.execute_reply": "2021-07-06T22:27:37.829576Z"
        },
        "id": "d95Ld4vbDbhr",
        "outputId": "caeede17-1f79-44a1-e70a-0d0814f8c23b",
        "colab": {
          "base_uri": "https://localhost:8080/"
        }
      },
      "source": [
        "def likelihood(theta_hat, x, y):\n",
        "  \"\"\"The likelihood function for a linear model with noise sampled from a\n",
        "    Gaussian distribution with zero mean and unit variance.\n",
        "\n",
        "  Args:\n",
        "    theta_hat (float): An estimate of the slope parameter.\n",
        "    x (ndarray): An array of shape (samples,) that contains the input values.\n",
        "    y (ndarray): An array of shape (samples,) that contains the corresponding\n",
        "      measurement values to the inputs.\n",
        "\n",
        "  Returns:\n",
        "    ndarray: the likelihood values for the theta_hat estimate\n",
        "  \"\"\"\n",
        "  sigma = 1\n",
        "\n",
        "  ##############################################################################\n",
        "  ## TODO for students: implement the likelihood function\n",
        "  # Fill out function and remove\n",
        "  #raise NotImplementedError(\"Student exercise: implement the likelihood function\")\n",
        "  ##############################################################################\n",
        "\n",
        "  # Compute Gaussian likelihood\n",
        "  pdf = 1/np.sqrt(2*np.pi)*np.exp(-(y-theta_hat*x)**2/2)\n",
        " \n",
        "  return pdf\n",
        "\n",
        "\n",
        "print(likelihood(1.0, x[1], y[1]))"
      ],
      "execution_count": 14,
      "outputs": [
        {
          "output_type": "stream",
          "text": [
            "0.11344443599846923\n"
          ],
          "name": "stdout"
        }
      ]
    },
    {
      "cell_type": "markdown",
      "metadata": {
        "cellView": "both",
        "execution": {
          "iopub.execute_input": "2021-07-06T22:27:37.836261Z",
          "iopub.status.busy": "2021-07-06T22:27:37.835720Z",
          "iopub.status.idle": "2021-07-06T22:27:37.839464Z",
          "shell.execute_reply": "2021-07-06T22:27:37.839868Z"
        },
        "id": "2oxwCqEYDbhs"
      },
      "source": [
        "[*Click for solution*](https://github.com/NeuromatchAcademy/course-content/tree/master//tutorials/W1D3_ModelFitting/solutions/W1D3_Tutorial2_Solution_328a0c30.py)\n",
        "\n"
      ]
    },
    {
      "cell_type": "markdown",
      "metadata": {
        "id": "S-f2pwFgDbht"
      },
      "source": [
        "We should see that $\\mathcal{L}(\\theta=1.0|x=2.1,y=3.7) \\approx 0.11$. So far so good, but how does this tell us how this estimate is better than any others?\n",
        "\n",
        "When dealing with a set of data points, as we are with our dataset, we are concerned with their joint probability -- the likelihood that all data points are explained by our parameterization. Since we have assumed that the noise affects each output independently, we can factorize the likelihood, and write:\n",
        "\n",
        "\\begin{align}\n",
        "\\mathcal{L}(\\theta|\\mathbf{x}, \\mathbf{y}) = \\prod_{i=1}^N \\mathcal{L}(\\theta|x_i,y_i),\n",
        "\\end{align}\n",
        "\n",
        "where we have $N$ data points $\\mathbf{x} = [x_1,...,x_N]$ and $\\mathbf{y} = [y_1,...,y_N]$.\n",
        "\n",
        "\n",
        "In practice, such a product can be numerically unstable. Indeed multiplying small values together can lead to [underflow](https://en.wikipedia.org/wiki/Arithmetic_underflow), the situation in which the digital representation of floating point number reaches its limit. This problem can be circumvented by taking the logarithm of the likelihood because the logarithm transforms products into sums:\n",
        "\n",
        "\\begin{align}\n",
        "\\log\\mathcal{L}(\\theta|\\mathbf{x}, \\mathbf{y}) = \\sum_{i=1}^N \\log\\mathcal{L}(\\theta|x_i,y_i)\n",
        "\\end{align}\n",
        "\n",
        "We can take the sum of the log of the output of our `likelihood` method applied to the full dataset to get a better idea of how different $\\hat{\\theta}$ compare. We can also plot the different distribution densities over our dataset and see how they line up qualitatively."
      ]
    },
    {
      "cell_type": "code",
      "metadata": {
        "cellView": "form",
        "execution": {
          "iopub.execute_input": "2021-07-06T22:27:37.898867Z",
          "iopub.status.busy": "2021-07-06T22:27:37.858272Z",
          "iopub.status.idle": "2021-07-06T22:27:38.786446Z",
          "shell.execute_reply": "2021-07-06T22:27:38.786876Z"
        },
        "id": "RB2WdhFjDbhu"
      },
      "source": [
        "# @markdown Execute this cell to visualize different distribution densities\n",
        "theta_hats = [0.5, 1.0, 2.2]\n",
        "fig, axes = plt.subplots(ncols=3, figsize=(16, 4))\n",
        "for theta_hat, ax in zip(theta_hats, axes):\n",
        "  ll = np.sum(np.log(likelihood(theta_hat, x, y)))  # log likelihood\n",
        "  im = plot_density_image(x, y, theta_hat, ax=ax)\n",
        "  ax.scatter(x, y)\n",
        "  ax.set(title=fr'$\\hat{{\\theta}}$ = {theta_hat}, log likelihood: {ll:.2f}')\n",
        "plt.colorbar(im, ax=ax);"
      ],
      "execution_count": null,
      "outputs": []
    },
    {
      "cell_type": "markdown",
      "metadata": {
        "id": "-MhB_kxlDbhv"
      },
      "source": [
        "Using the log likelihood calculation, we see that $\\mathcal{L}(\\theta=1.0) > \\mathcal{L}(\\theta=0.5) > \\mathcal{L}(\\theta=2.2)$.\n",
        "\n",
        "This is great: now we have a way to compare estimators based on likelihood. But like with the MSE approach, we want an analytic solution to find the best estimator. In this case, we want to find the estimator that maximizes the likelihood.\n"
      ]
    },
    {
      "cell_type": "markdown",
      "metadata": {
        "id": "HC7BVnUkDbhv"
      },
      "source": [
        "## Section 1.4: Finding the Maximum Likelihood Estimator\n",
        "\n",
        "*Estimated timing to here from start of tutorial: 23 min*\n",
        "\n",
        "<details>\n",
        "<summary> <font color='blue'>Click here for text recap of relevant part of video </font></summary>\n",
        "\n",
        "We want to find the parameter value $\\hat\\theta$ that makes our data set most likely:\n",
        "\n",
        "\\begin{align}\n",
        "\\hat{\\theta}_{\\textrm{MLE}} = \\underset{\\theta}{\\operatorname{argmax}} \\mathcal{L}(\\theta|X,Y) \n",
        "\\end{align}\n",
        "\n",
        "We discussed how taking the logarithm of the likelihood helps with numerical stability, the good thing is that it does so without changing the parameter value that maximizes the likelihood. Indeed, the $\\log()$ function is *monotonically increasing*, which means that it preserves the order of its inputs. So we have:\n",
        "\n",
        "\\begin{align}\n",
        "\\hat{\\theta}_{\\textrm{MLE}} = \\underset{\\theta}{\\operatorname{argmax}} \\sum_{i=1}^m \\textrm{log} \\mathcal{L}(\\theta|x_i,y_i) \n",
        "\\end{align}\n",
        "\n",
        "Now substituting our specific likelihood function and taking its logarithm, we get:\n",
        "\\begin{align}\n",
        "\\hat{\\theta}_{\\textrm{MLE}} = \\underset{\\theta}{\\operatorname{argmax}} [-\\frac{N}{2} \\operatorname{log} 2\\pi\\sigma^2 - \\frac{1}{2\\sigma^2}\\sum_{i=1}^N (y_i-\\theta x_i)^2].\n",
        "\\end{align}\n",
        "\n",
        "Note that maximizing the log likelihood is the same as minimizing the negative log likelihood (in practice optimization routines are developed to solve minimization not maximization problems). Because of the convexity of this objective function, we can take the derivative of our negative log likelihhood, set it to 0, and solve - just like our solution to minimizing MSE.\n",
        "\n",
        "\\begin{align}\n",
        "\\frac{\\partial\\operatorname{log}\\mathcal{L}(\\theta|x,y)}{\\partial\\theta}=\\frac{1}{\\sigma^2}\\sum_{i=1}^N(y_i-\\theta x_i)x_i = 0\n",
        "\\end{align}\n",
        "\n",
        "This looks remarkably like the equation we had to solve for the optimal MSE estimator, and, in fact, we arrive to the exact same solution!\n",
        "\n",
        "\\begin{align}\n",
        "\\hat{\\theta}_{\\textrm{MLE}} = \\hat{\\theta}_{\\textrm{MSE}} = \\frac{\\sum_{i=1}^N x_i y_i}{\\sum_{i=1}^N x_i^2}\n",
        "\\end{align}"
      ]
    },
    {
      "cell_type": "code",
      "metadata": {
        "execution": {
          "iopub.execute_input": "2021-07-06T22:27:38.790500Z",
          "iopub.status.busy": "2021-07-06T22:27:38.790004Z",
          "iopub.status.idle": "2021-07-06T22:27:38.792561Z",
          "shell.execute_reply": "2021-07-06T22:27:38.792116Z"
        },
        "id": "vpHLQNgFDbhw"
      },
      "source": [
        "# Compute theta_hat_MLE\n",
        "theta_hat_mle = (x @ y) / (x @ x)"
      ],
      "execution_count": 15,
      "outputs": []
    },
    {
      "cell_type": "code",
      "metadata": {
        "cellView": "form",
        "execution": {
          "iopub.execute_input": "2021-07-06T22:27:38.814710Z",
          "iopub.status.busy": "2021-07-06T22:27:38.813978Z",
          "iopub.status.idle": "2021-07-06T22:27:39.340014Z",
          "shell.execute_reply": "2021-07-06T22:27:39.341064Z"
        },
        "id": "gUV4M7FsDbhw",
        "outputId": "85e312fa-eb73-43a9-8cf2-27fa1f0e56c3",
        "colab": {
          "base_uri": "https://localhost:8080/",
          "height": 430
        }
      },
      "source": [
        "#@title\n",
        "#@markdown Execute this cell to visualize density with theta_hat_mle\n",
        "\n",
        "# Plot the resulting distribution density\n",
        "fig, ax = plt.subplots()\n",
        "ll = np.sum(np.log(likelihood(theta_hat_mle, x, y))) # log likelihood\n",
        "im = plot_density_image(x, y, theta_hat_mle, ax=ax)\n",
        "plt.colorbar(im, ax=ax);\n",
        "ax.scatter(x, y)\n",
        "ax.set(title=fr'$\\hat{{\\theta}}$ = {theta_hat_mle:.2f}, log likelihood: {ll:.2f}');"
      ],
      "execution_count": 16,
      "outputs": [
        {
          "output_type": "display_data",
          "data": {
            "image/png": "[encoded data removed]",
            "text/plain": [
              "<Figure size 576x432 with 2 Axes>"
            ]
          },
          "metadata": {
            "tags": [],
            "image/png": {
              "width": 536,
              "height": 413
            },
            "needs_background": "light"
          }
        }
      ]
    },
    {
      "cell_type": "markdown",
      "metadata": {
        "id": "BHKfd9GADbhx"
      },
      "source": [
        "---\n",
        "# Summary\n",
        "\n",
        "*Estimated timing of tutorial: 30 minutes*\n",
        "\n",
        "\n",
        "Likelihood vs probability:\n",
        "\n",
        "  - $\\mathcal{L}(\\theta|x, y) = p(y|x, \\theta)$\n",
        "  - $p(y|x, \\theta)$ -> \"probability of observing the response $y$ given parameter $\\theta$ and input $x$\"\n",
        "  - $\\mathcal{L}(\\theta|x, y)$ -> \"likelihood model that parameters $\\theta$ produced response $y$ from input $x$\"\n",
        "\n",
        "Log-likelihood maximization:\n",
        "\n",
        "  - We take the $\\log$ of the likelihood function for computational convenience\n",
        "  - The parameters $\\theta$ that maximize $\\log\\mathcal{L}(\\theta|x, y)$ are the model parameters that maximize the probability of observing the data.\n",
        "\n",
        "**Key point**: the log-likelihood is a flexible cost function, and is often used to find model parameters that best fit the data."
      ]
    },
    {
      "cell_type": "markdown",
      "metadata": {
        "id": "dnaBxv3EDbhx"
      },
      "source": [
        "\n",
        "---\n",
        "# Notation\n",
        "\n",
        "\\begin{align}\n",
        "x &\\quad \\text{input, independent variable}\\\\\n",
        "y &\\quad \\text{response measurement, dependent variable}\\\\\n",
        "\\mathbf{x} &\\quad \\text{vector of input values}\\\\\n",
        "\\mathbf{y} &\\quad \\text{vector of measurements}\\\\\n",
        "\\epsilon &\\quad \\text{measurement error, noise contribution}\\\\\n",
        "\\epsilon \\sim \\mathcal{N}(\\mu, \\sigma^2) &\\quad \\text{random variable } \\epsilon \\text{ is distributed according to a Gaussian distribution, with mean } \\mu \\text{ and variance } \\sigma^2\\\\\n",
        "\\mu &\\quad \\text{mean}\\\\\n",
        "\\sigma^2 &\\quad \\text{variance}\\\\\n",
        "\\sigma &\\quad \\text{standard deviation}\\\\\n",
        "\\theta &\\quad \\text{parameter}\\\\\n",
        "\\hat{\\theta} &\\quad \\text{estimate of parameter}\\\\\n",
        "\\mathcal{L}(\\theta|x, y) &\\quad \\text{likelihood of that parameter } \\theta \\text{ producing response } y \\text{ from input } x \\\\ \n",
        "p(y|x, \\theta) &\\quad \\text{probability of observing the response } y \\text{ given input } x \\text{ and parameter } \\theta \\\\ \n",
        "\\end{align}"
      ]
    },
    {
      "cell_type": "markdown",
      "metadata": {
        "id": "Xp04wd86Dbhy"
      },
      "source": [
        "---\n",
        "# Bonus"
      ]
    },
    {
      "cell_type": "markdown",
      "metadata": {
        "id": "PXk5-lrzDbhy"
      },
      "source": [
        "We can also see $\\mathrm{p}(\\mathrm{y} | \\mathrm{x}, \\theta)$ as a function of $x$. This is the stimulus likelihood function, and it is useful in case we want to decode the input $x$ from observed responses $y$. This is what is relevant from the point of view of a neuron that does not have access to the outside world and tries to infer what's out there from the responses of other neurons!\n",
        "\n",
        "\n",
        "\n"
      ]
    }
  ]
}