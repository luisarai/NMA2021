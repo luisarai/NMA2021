{
  "nbformat": 4,
  "nbformat_minor": 0,
  "metadata": {
    "colab": {
      "name": "W2D3_Tutorial1",
      "provenance": [],
      "collapsed_sections": [],
      "toc_visible": true,
      "include_colab_link": true
    },
    "kernel": {
      "display_name": "Python 3",
      "language": "python",
      "name": "python3"
    },
    "kernelspec": {
      "display_name": "Python 3",
      "name": "python3"
    },
    "language_info": {
      "codemirror_mode": {
        "name": "ipython",
        "version": 3
      },
      "file_extension": ".py",
      "mimetype": "text/x-python",
      "name": "python",
      "nbconvert_exporter": "python",
      "pygments_lexer": "ipython3",
      "version": "3.7.10"
    },
    "widgets": {
      "application/vnd.jupyter.widget-state+json": {
        "e8e3f6c7cf3f430dab50f7fe84ed91e7": {
          "model_module": "@jupyter-widgets/controls",
          "model_name": "TabModel",
          "state": {
            "_view_name": "TabView",
            "_dom_classes": [],
            "_titles": {
              "0": "Youtube",
              "1": "Bilibili"
            },
            "_model_name": "TabModel",
            "_view_module": "@jupyter-widgets/controls",
            "selected_index": 0,
            "_model_module_version": "1.5.0",
            "_view_count": null,
            "_view_module_version": "1.5.0",
            "box_style": "",
            "layout": "IPY_MODEL_9c0efcc6170e40ffa6e926b014c12647",
            "_model_module": "@jupyter-widgets/controls",
            "children": [
              "IPY_MODEL_46bcf95545e04e2cbbbdb7726ce0eb4c",
              "IPY_MODEL_ad2cea84b0f74b6cbf13ad36a0a848a1"
            ]
          }
        },
        "9c0efcc6170e40ffa6e926b014c12647": {
          "model_module": "@jupyter-widgets/base",
          "model_name": "LayoutModel",
          "state": {
            "_view_name": "LayoutView",
            "grid_template_rows": null,
            "right": null,
            "justify_content": null,
            "_view_module": "@jupyter-widgets/base",
            "overflow": null,
            "_model_module_version": "1.2.0",
            "_view_count": null,
            "flex_flow": null,
            "width": null,
            "min_width": null,
            "border": null,
            "align_items": null,
            "bottom": null,
            "_model_module": "@jupyter-widgets/base",
            "top": null,
            "grid_column": null,
            "overflow_y": null,
            "overflow_x": null,
            "grid_auto_flow": null,
            "grid_area": null,
            "grid_template_columns": null,
            "flex": null,
            "_model_name": "LayoutModel",
            "justify_items": null,
            "grid_row": null,
            "max_height": null,
            "align_content": null,
            "visibility": null,
            "align_self": null,
            "height": null,
            "min_height": null,
            "padding": null,
            "grid_auto_rows": null,
            "grid_gap": null,
            "max_width": null,
            "order": null,
            "_view_module_version": "1.2.0",
            "grid_template_areas": null,
            "object_position": null,
            "object_fit": null,
            "grid_auto_columns": null,
            "margin": null,
            "display": null,
            "left": null
          }
        },
        "46bcf95545e04e2cbbbdb7726ce0eb4c": {
          "model_module": "@jupyter-widgets/output",
          "model_name": "OutputModel",
          "state": {
            "_view_name": "OutputView",
            "msg_id": "",
            "_dom_classes": [],
            "_model_name": "OutputModel",
            "outputs": [
              {
                "output_type": "stream",
                "metadata": {
                  "tags": []
                },
                "text": "Video available at https://youtube.com/watch?v=rSExvwCVRYg\n",
                "stream": "stdout"
              },
              {
                "output_type": "display_data",
                "metadata": {
                  "tags": []
                },
                "text/html": "\n        <iframe\n            width=\"854\"\n            height=\"480\"\n            src=\"https://www.youtube.com/embed/rSExvwCVRYg?fs=1&rel=0\"\n            frameborder=\"0\"\n            allowfullscreen\n        ></iframe>\n        ",
                "text/plain": "<IPython.lib.display.YouTubeVideo at 0x7f9b140b6d90>",
                "image/jpeg": "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\n"
              }
            ],
            "_view_module": "@jupyter-widgets/output",
            "_model_module_version": "1.0.0",
            "_view_count": null,
            "_view_module_version": "1.0.0",
            "layout": "IPY_MODEL_ccbfa97debe04d1283be3aea5aca0e95",
            "_model_module": "@jupyter-widgets/output"
          }
        },
        "ad2cea84b0f74b6cbf13ad36a0a848a1": {
          "model_module": "@jupyter-widgets/output",
          "model_name": "OutputModel",
          "state": {
            "_view_name": "OutputView",
            "msg_id": "",
            "_dom_classes": [],
            "_model_name": "OutputModel",
            "outputs": [
              {
                "output_type": "stream",
                "metadata": {
                  "tags": []
                },
                "text": "Video available at https://www.bilibili.com/video/av456396195\n",
                "stream": "stdout"
              },
              {
                "output_type": "display_data",
                "metadata": {
                  "tags": []
                },
                "text/html": "\n        <iframe\n            width=\"854\"\n            height=\"480\"\n            src=\"https://player.bilibili.com/player.html?bvid=av456396195&page=1?fs=1\"\n            frameborder=\"0\"\n            allowfullscreen\n        ></iframe>\n        ",
                "text/plain": "<__main__.BiliVideo at 0x7f9b140af790>"
              }
            ],
            "_view_module": "@jupyter-widgets/output",
            "_model_module_version": "1.0.0",
            "_view_count": null,
            "_view_module_version": "1.0.0",
            "layout": "IPY_MODEL_ce40380105304ca6a72356655f3c844e",
            "_model_module": "@jupyter-widgets/output"
          }
        },
        "ccbfa97debe04d1283be3aea5aca0e95": {
          "model_module": "@jupyter-widgets/base",
          "model_name": "LayoutModel",
          "state": {
            "_view_name": "LayoutView",
            "grid_template_rows": null,
            "right": null,
            "justify_content": null,
            "_view_module": "@jupyter-widgets/base",
            "overflow": null,
            "_model_module_version": "1.2.0",
            "_view_count": null,
            "flex_flow": null,
            "width": null,
            "min_width": null,
            "border": null,
            "align_items": null,
            "bottom": null,
            "_model_module": "@jupyter-widgets/base",
            "top": null,
            "grid_column": null,
            "overflow_y": null,
            "overflow_x": null,
            "grid_auto_flow": null,
            "grid_area": null,
            "grid_template_columns": null,
            "flex": null,
            "_model_name": "LayoutModel",
            "justify_items": null,
            "grid_row": null,
            "max_height": null,
            "align_content": null,
            "visibility": null,
            "align_self": null,
            "height": null,
            "min_height": null,
            "padding": null,
            "grid_auto_rows": null,
            "grid_gap": null,
            "max_width": null,
            "order": null,
            "_view_module_version": "1.2.0",
            "grid_template_areas": null,
            "object_position": null,
            "object_fit": null,
            "grid_auto_columns": null,
            "margin": null,
            "display": null,
            "left": null
          }
        },
        "ce40380105304ca6a72356655f3c844e": {
          "model_module": "@jupyter-widgets/base",
          "model_name": "LayoutModel",
          "state": {
            "_view_name": "LayoutView",
            "grid_template_rows": null,
            "right": null,
            "justify_content": null,
            "_view_module": "@jupyter-widgets/base",
            "overflow": null,
            "_model_module_version": "1.2.0",
            "_view_count": null,
            "flex_flow": null,
            "width": null,
            "min_width": null,
            "border": null,
            "align_items": null,
            "bottom": null,
            "_model_module": "@jupyter-widgets/base",
            "top": null,
            "grid_column": null,
            "overflow_y": null,
            "overflow_x": null,
            "grid_auto_flow": null,
            "grid_area": null,
            "grid_template_columns": null,
            "flex": null,
            "_model_name": "LayoutModel",
            "justify_items": null,
            "grid_row": null,
            "max_height": null,
            "align_content": null,
            "visibility": null,
            "align_self": null,
            "height": null,
            "min_height": null,
            "padding": null,
            "grid_auto_rows": null,
            "grid_gap": null,
            "max_width": null,
            "order": null,
            "_view_module_version": "1.2.0",
            "grid_template_areas": null,
            "object_position": null,
            "object_fit": null,
            "grid_auto_columns": null,
            "margin": null,
            "display": null,
            "left": null
          }
        },
        "8fe2be55b7e14fff99582f590955b1f0": {
          "model_module": "@jupyter-widgets/controls",
          "model_name": "TabModel",
          "state": {
            "_view_name": "TabView",
            "_dom_classes": [],
            "_titles": {
              "0": "Youtube",
              "1": "Bilibili"
            },
            "_model_name": "TabModel",
            "_view_module": "@jupyter-widgets/controls",
            "selected_index": 0,
            "_model_module_version": "1.5.0",
            "_view_count": null,
            "_view_module_version": "1.5.0",
            "box_style": "",
            "layout": "IPY_MODEL_8760fecc217849cca7229af5f3328f49",
            "_model_module": "@jupyter-widgets/controls",
            "children": [
              "IPY_MODEL_46f194994f6f46d7b303898b8947fea8",
              "IPY_MODEL_9af7cbdb84e4435a980ff69f10d28890"
            ]
          }
        },
        "8760fecc217849cca7229af5f3328f49": {
          "model_module": "@jupyter-widgets/base",
          "model_name": "LayoutModel",
          "state": {
            "_view_name": "LayoutView",
            "grid_template_rows": null,
            "right": null,
            "justify_content": null,
            "_view_module": "@jupyter-widgets/base",
            "overflow": null,
            "_model_module_version": "1.2.0",
            "_view_count": null,
            "flex_flow": null,
            "width": null,
            "min_width": null,
            "border": null,
            "align_items": null,
            "bottom": null,
            "_model_module": "@jupyter-widgets/base",
            "top": null,
            "grid_column": null,
            "overflow_y": null,
            "overflow_x": null,
            "grid_auto_flow": null,
            "grid_area": null,
            "grid_template_columns": null,
            "flex": null,
            "_model_name": "LayoutModel",
            "justify_items": null,
            "grid_row": null,
            "max_height": null,
            "align_content": null,
            "visibility": null,
            "align_self": null,
            "height": null,
            "min_height": null,
            "padding": null,
            "grid_auto_rows": null,
            "grid_gap": null,
            "max_width": null,
            "order": null,
            "_view_module_version": "1.2.0",
            "grid_template_areas": null,
            "object_position": null,
            "object_fit": null,
            "grid_auto_columns": null,
            "margin": null,
            "display": null,
            "left": null
          }
        },
        "46f194994f6f46d7b303898b8947fea8": {
          "model_module": "@jupyter-widgets/output",
          "model_name": "OutputModel",
          "state": {
            "_view_name": "OutputView",
            "msg_id": "",
            "_dom_classes": [],
            "_model_name": "OutputModel",
            "outputs": [
              {
                "output_type": "stream",
                "metadata": {
                  "tags": []
                },
                "text": "Video available at https://youtube.com/watch?v=preNGdab7Kk\n",
                "stream": "stdout"
              },
              {
                "output_type": "display_data",
                "metadata": {
                  "tags": []
                },
                "text/html": "\n        <iframe\n            width=\"854\"\n            height=\"480\"\n            src=\"https://www.youtube.com/embed/preNGdab7Kk?fs=1&rel=0\"\n            frameborder=\"0\"\n            allowfullscreen\n        ></iframe>\n        ",
                "text/plain": "<IPython.lib.display.YouTubeVideo at 0x7f9b079fbdd0>",
                "image/jpeg": "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\n"
              }
            ],
            "_view_module": "@jupyter-widgets/output",
            "_model_module_version": "1.0.0",
            "_view_count": null,
            "_view_module_version": "1.0.0",
            "layout": "IPY_MODEL_e915b27379a844cdbfcae02b1dc4a66f",
            "_model_module": "@jupyter-widgets/output"
          }
        },
        "9af7cbdb84e4435a980ff69f10d28890": {
          "model_module": "@jupyter-widgets/output",
          "model_name": "OutputModel",
          "state": {
            "_view_name": "OutputView",
            "msg_id": "",
            "_dom_classes": [],
            "_model_name": "OutputModel",
            "outputs": [
              {
                "output_type": "stream",
                "metadata": {
                  "tags": []
                },
                "text": "Video available at https://www.bilibili.com/video/av541417171\n",
                "stream": "stdout"
              },
              {
                "output_type": "display_data",
                "metadata": {
                  "tags": []
                },
                "text/html": "\n        <iframe\n            width=\"854\"\n            height=\"480\"\n            src=\"https://player.bilibili.com/player.html?bvid=av541417171&page=1?fs=1\"\n            frameborder=\"0\"\n            allowfullscreen\n        ></iframe>\n        ",
                "text/plain": "<__main__.BiliVideo at 0x7f9b07a7ce50>"
              }
            ],
            "_view_module": "@jupyter-widgets/output",
            "_model_module_version": "1.0.0",
            "_view_count": null,
            "_view_module_version": "1.0.0",
            "layout": "IPY_MODEL_0024b47986994fbaa946ccb8fe2f9c85",
            "_model_module": "@jupyter-widgets/output"
          }
        },
        "e915b27379a844cdbfcae02b1dc4a66f": {
          "model_module": "@jupyter-widgets/base",
          "model_name": "LayoutModel",
          "state": {
            "_view_name": "LayoutView",
            "grid_template_rows": null,
            "right": null,
            "justify_content": null,
            "_view_module": "@jupyter-widgets/base",
            "overflow": null,
            "_model_module_version": "1.2.0",
            "_view_count": null,
            "flex_flow": null,
            "width": null,
            "min_width": null,
            "border": null,
            "align_items": null,
            "bottom": null,
            "_model_module": "@jupyter-widgets/base",
            "top": null,
            "grid_column": null,
            "overflow_y": null,
            "overflow_x": null,
            "grid_auto_flow": null,
            "grid_area": null,
            "grid_template_columns": null,
            "flex": null,
            "_model_name": "LayoutModel",
            "justify_items": null,
            "grid_row": null,
            "max_height": null,
            "align_content": null,
            "visibility": null,
            "align_self": null,
            "height": null,
            "min_height": null,
            "padding": null,
            "grid_auto_rows": null,
            "grid_gap": null,
            "max_width": null,
            "order": null,
            "_view_module_version": "1.2.0",
            "grid_template_areas": null,
            "object_position": null,
            "object_fit": null,
            "grid_auto_columns": null,
            "margin": null,
            "display": null,
            "left": null
          }
        },
        "0024b47986994fbaa946ccb8fe2f9c85": {
          "model_module": "@jupyter-widgets/base",
          "model_name": "LayoutModel",
          "state": {
            "_view_name": "LayoutView",
            "grid_template_rows": null,
            "right": null,
            "justify_content": null,
            "_view_module": "@jupyter-widgets/base",
            "overflow": null,
            "_model_module_version": "1.2.0",
            "_view_count": null,
            "flex_flow": null,
            "width": null,
            "min_width": null,
            "border": null,
            "align_items": null,
            "bottom": null,
            "_model_module": "@jupyter-widgets/base",
            "top": null,
            "grid_column": null,
            "overflow_y": null,
            "overflow_x": null,
            "grid_auto_flow": null,
            "grid_area": null,
            "grid_template_columns": null,
            "flex": null,
            "_model_name": "LayoutModel",
            "justify_items": null,
            "grid_row": null,
            "max_height": null,
            "align_content": null,
            "visibility": null,
            "align_self": null,
            "height": null,
            "min_height": null,
            "padding": null,
            "grid_auto_rows": null,
            "grid_gap": null,
            "max_width": null,
            "order": null,
            "_view_module_version": "1.2.0",
            "grid_template_areas": null,
            "object_position": null,
            "object_fit": null,
            "grid_auto_columns": null,
            "margin": null,
            "display": null,
            "left": null
          }
        },
        "e378d7e54a2149cb8d20a50f8e3300f0": {
          "model_module": "@jupyter-widgets/controls",
          "model_name": "VBoxModel",
          "state": {
            "_view_name": "VBoxView",
            "_dom_classes": [
              "widget-interact"
            ],
            "_model_name": "VBoxModel",
            "_view_module": "@jupyter-widgets/controls",
            "_model_module_version": "1.5.0",
            "_view_count": null,
            "_view_module_version": "1.5.0",
            "box_style": "",
            "layout": "IPY_MODEL_d22c13e108ad4f7db70e639fd385cff3",
            "_model_module": "@jupyter-widgets/controls",
            "children": [
              "IPY_MODEL_3658af0af7de4664a0d767d076eb31dc",
              "IPY_MODEL_4787c17821a7469793d43ca6e7f4680e",
              "IPY_MODEL_28bb60b938714e97835f3bcd3c932e79"
            ]
          }
        },
        "d22c13e108ad4f7db70e639fd385cff3": {
          "model_module": "@jupyter-widgets/base",
          "model_name": "LayoutModel",
          "state": {
            "_view_name": "LayoutView",
            "grid_template_rows": null,
            "right": null,
            "justify_content": null,
            "_view_module": "@jupyter-widgets/base",
            "overflow": null,
            "_model_module_version": "1.2.0",
            "_view_count": null,
            "flex_flow": null,
            "width": null,
            "min_width": null,
            "border": null,
            "align_items": null,
            "bottom": null,
            "_model_module": "@jupyter-widgets/base",
            "top": null,
            "grid_column": null,
            "overflow_y": null,
            "overflow_x": null,
            "grid_auto_flow": null,
            "grid_area": null,
            "grid_template_columns": null,
            "flex": null,
            "_model_name": "LayoutModel",
            "justify_items": null,
            "grid_row": null,
            "max_height": null,
            "align_content": null,
            "visibility": null,
            "align_self": null,
            "height": null,
            "min_height": null,
            "padding": null,
            "grid_auto_rows": null,
            "grid_gap": null,
            "max_width": null,
            "order": null,
            "_view_module_version": "1.2.0",
            "grid_template_areas": null,
            "object_position": null,
            "object_fit": null,
            "grid_auto_columns": null,
            "margin": null,
            "display": null,
            "left": null
          }
        },
        "3658af0af7de4664a0d767d076eb31dc": {
          "model_module": "@jupyter-widgets/controls",
          "model_name": "FloatSliderModel",
          "state": {
            "_view_name": "FloatSliderView",
            "style": "IPY_MODEL_29434b859e7844e0bd55a0ba38d36766",
            "_dom_classes": [],
            "description": "I_dc",
            "step": 10,
            "_model_name": "FloatSliderModel",
            "orientation": "horizontal",
            "max": 300,
            "_view_module": "@jupyter-widgets/controls",
            "_model_module_version": "1.5.0",
            "value": 180,
            "_view_count": null,
            "disabled": false,
            "_view_module_version": "1.5.0",
            "min": 0,
            "continuous_update": true,
            "readout_format": ".2f",
            "description_tooltip": null,
            "readout": true,
            "_model_module": "@jupyter-widgets/controls",
            "layout": "IPY_MODEL_cbab69b8156d47f9afdf68bdbf6959ab"
          }
        },
        "4787c17821a7469793d43ca6e7f4680e": {
          "model_module": "@jupyter-widgets/controls",
          "model_name": "FloatSliderModel",
          "state": {
            "_view_name": "FloatSliderView",
            "style": "IPY_MODEL_4a5f45576c58432684c5ac065330236d",
            "_dom_classes": [],
            "description": "tau_m",
            "step": 2,
            "_model_name": "FloatSliderModel",
            "orientation": "horizontal",
            "max": 20,
            "_view_module": "@jupyter-widgets/controls",
            "_model_module_version": "1.5.0",
            "value": 4,
            "_view_count": null,
            "disabled": false,
            "_view_module_version": "1.5.0",
            "min": 2,
            "continuous_update": true,
            "readout_format": ".2f",
            "description_tooltip": null,
            "readout": true,
            "_model_module": "@jupyter-widgets/controls",
            "layout": "IPY_MODEL_cbab69b8156d47f9afdf68bdbf6959ab"
          }
        },
        "28bb60b938714e97835f3bcd3c932e79": {
          "model_module": "@jupyter-widgets/output",
          "model_name": "OutputModel",
          "state": {
            "_view_name": "OutputView",
            "msg_id": "",
            "_dom_classes": [],
            "_model_name": "OutputModel",
            "outputs": [
              {
                "output_type": "display_data",
                "metadata": {
                  "tags": [],
                  "image/png": {
                    "width": 552,
                    "height": 414
                  },
                  "needs_background": "light"
                },
                "image/png": "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\n",
                "text/plain": "<Figure size 576x432 with 1 Axes>"
              }
            ],
            "_view_module": "@jupyter-widgets/output",
            "_model_module_version": "1.0.0",
            "_view_count": null,
            "_view_module_version": "1.0.0",
            "layout": "IPY_MODEL_7b7b506d6e1245488073c67b77cbb637",
            "_model_module": "@jupyter-widgets/output"
          }
        },
        "29434b859e7844e0bd55a0ba38d36766": {
          "model_module": "@jupyter-widgets/controls",
          "model_name": "SliderStyleModel",
          "state": {
            "_view_name": "StyleView",
            "handle_color": null,
            "_model_name": "SliderStyleModel",
            "description_width": "",
            "_view_module": "@jupyter-widgets/base",
            "_model_module_version": "1.5.0",
            "_view_count": null,
            "_view_module_version": "1.2.0",
            "_model_module": "@jupyter-widgets/controls"
          }
        },
        "cbab69b8156d47f9afdf68bdbf6959ab": {
          "model_module": "@jupyter-widgets/base",
          "model_name": "LayoutModel",
          "state": {
            "_view_name": "LayoutView",
            "grid_template_rows": null,
            "right": null,
            "justify_content": null,
            "_view_module": "@jupyter-widgets/base",
            "overflow": null,
            "_model_module_version": "1.2.0",
            "_view_count": null,
            "flex_flow": null,
            "width": "450px",
            "min_width": null,
            "border": null,
            "align_items": null,
            "bottom": null,
            "_model_module": "@jupyter-widgets/base",
            "top": null,
            "grid_column": null,
            "overflow_y": null,
            "overflow_x": null,
            "grid_auto_flow": null,
            "grid_area": null,
            "grid_template_columns": null,
            "flex": null,
            "_model_name": "LayoutModel",
            "justify_items": null,
            "grid_row": null,
            "max_height": null,
            "align_content": null,
            "visibility": null,
            "align_self": null,
            "height": null,
            "min_height": null,
            "padding": null,
            "grid_auto_rows": null,
            "grid_gap": null,
            "max_width": null,
            "order": null,
            "_view_module_version": "1.2.0",
            "grid_template_areas": null,
            "object_position": null,
            "object_fit": null,
            "grid_auto_columns": null,
            "margin": null,
            "display": null,
            "left": null
          }
        },
        "4a5f45576c58432684c5ac065330236d": {
          "model_module": "@jupyter-widgets/controls",
          "model_name": "SliderStyleModel",
          "state": {
            "_view_name": "StyleView",
            "handle_color": null,
            "_model_name": "SliderStyleModel",
            "description_width": "",
            "_view_module": "@jupyter-widgets/base",
            "_model_module_version": "1.5.0",
            "_view_count": null,
            "_view_module_version": "1.2.0",
            "_model_module": "@jupyter-widgets/controls"
          }
        },
        "7b7b506d6e1245488073c67b77cbb637": {
          "model_module": "@jupyter-widgets/base",
          "model_name": "LayoutModel",
          "state": {
            "_view_name": "LayoutView",
            "grid_template_rows": null,
            "right": null,
            "justify_content": null,
            "_view_module": "@jupyter-widgets/base",
            "overflow": null,
            "_model_module_version": "1.2.0",
            "_view_count": null,
            "flex_flow": null,
            "width": null,
            "min_width": null,
            "border": null,
            "align_items": null,
            "bottom": null,
            "_model_module": "@jupyter-widgets/base",
            "top": null,
            "grid_column": null,
            "overflow_y": null,
            "overflow_x": null,
            "grid_auto_flow": null,
            "grid_area": null,
            "grid_template_columns": null,
            "flex": null,
            "_model_name": "LayoutModel",
            "justify_items": null,
            "grid_row": null,
            "max_height": null,
            "align_content": null,
            "visibility": null,
            "align_self": null,
            "height": null,
            "min_height": null,
            "padding": null,
            "grid_auto_rows": null,
            "grid_gap": null,
            "max_width": null,
            "order": null,
            "_view_module_version": "1.2.0",
            "grid_template_areas": null,
            "object_position": null,
            "object_fit": null,
            "grid_auto_columns": null,
            "margin": null,
            "display": null,
            "left": null
          }
        },
        "9d95e80f223c4ec3a29a1b776c48f980": {
          "model_module": "@jupyter-widgets/controls",
          "model_name": "VBoxModel",
          "state": {
            "_view_name": "VBoxView",
            "_dom_classes": [
              "widget-interact"
            ],
            "_model_name": "VBoxModel",
            "_view_module": "@jupyter-widgets/controls",
            "_model_module_version": "1.5.0",
            "_view_count": null,
            "_view_module_version": "1.5.0",
            "box_style": "",
            "layout": "IPY_MODEL_040ee21306044a7698d7c11bf6519a6b",
            "_model_module": "@jupyter-widgets/controls",
            "children": [
              "IPY_MODEL_33e50fcce68948b19c630e299a4e47fe",
              "IPY_MODEL_406650eabfd44d80aa5b18b649772393",
              "IPY_MODEL_5237600a075b4148b59cc04cda99e638"
            ]
          }
        },
        "040ee21306044a7698d7c11bf6519a6b": {
          "model_module": "@jupyter-widgets/base",
          "model_name": "LayoutModel",
          "state": {
            "_view_name": "LayoutView",
            "grid_template_rows": null,
            "right": null,
            "justify_content": null,
            "_view_module": "@jupyter-widgets/base",
            "overflow": null,
            "_model_module_version": "1.2.0",
            "_view_count": null,
            "flex_flow": null,
            "width": null,
            "min_width": null,
            "border": null,
            "align_items": null,
            "bottom": null,
            "_model_module": "@jupyter-widgets/base",
            "top": null,
            "grid_column": null,
            "overflow_y": null,
            "overflow_x": null,
            "grid_auto_flow": null,
            "grid_area": null,
            "grid_template_columns": null,
            "flex": null,
            "_model_name": "LayoutModel",
            "justify_items": null,
            "grid_row": null,
            "max_height": null,
            "align_content": null,
            "visibility": null,
            "align_self": null,
            "height": null,
            "min_height": null,
            "padding": null,
            "grid_auto_rows": null,
            "grid_gap": null,
            "max_width": null,
            "order": null,
            "_view_module_version": "1.2.0",
            "grid_template_areas": null,
            "object_position": null,
            "object_fit": null,
            "grid_auto_columns": null,
            "margin": null,
            "display": null,
            "left": null
          }
        },
        "33e50fcce68948b19c630e299a4e47fe": {
          "model_module": "@jupyter-widgets/controls",
          "model_name": "FloatSliderModel",
          "state": {
            "_view_name": "FloatSliderView",
            "style": "IPY_MODEL_602710332a17410fb8eee8dff5e043ec",
            "_dom_classes": [],
            "description": "mu_gwn",
            "step": 5,
            "_model_name": "FloatSliderModel",
            "orientation": "horizontal",
            "max": 300,
            "_view_module": "@jupyter-widgets/controls",
            "_model_module_version": "1.5.0",
            "value": 200,
            "_view_count": null,
            "disabled": false,
            "_view_module_version": "1.5.0",
            "min": 100,
            "continuous_update": true,
            "readout_format": ".2f",
            "description_tooltip": null,
            "readout": true,
            "_model_module": "@jupyter-widgets/controls",
            "layout": "IPY_MODEL_cbab69b8156d47f9afdf68bdbf6959ab"
          }
        },
        "406650eabfd44d80aa5b18b649772393": {
          "model_module": "@jupyter-widgets/controls",
          "model_name": "FloatSliderModel",
          "state": {
            "_view_name": "FloatSliderView",
            "style": "IPY_MODEL_193514c73df84afcafc084fad9122d56",
            "_dom_classes": [],
            "description": "sig_gwn",
            "step": 0.5,
            "_model_name": "FloatSliderModel",
            "orientation": "horizontal",
            "max": 5,
            "_view_module": "@jupyter-widgets/controls",
            "_model_module_version": "1.5.0",
            "value": 2.5,
            "_view_count": null,
            "disabled": false,
            "_view_module_version": "1.5.0",
            "min": 0,
            "continuous_update": true,
            "readout_format": ".2f",
            "description_tooltip": null,
            "readout": true,
            "_model_module": "@jupyter-widgets/controls",
            "layout": "IPY_MODEL_cbab69b8156d47f9afdf68bdbf6959ab"
          }
        },
        "5237600a075b4148b59cc04cda99e638": {
          "model_module": "@jupyter-widgets/output",
          "model_name": "OutputModel",
          "state": {
            "_view_name": "OutputView",
            "msg_id": "",
            "_dom_classes": [],
            "_model_name": "OutputModel",
            "outputs": [
              {
                "output_type": "display_data",
                "metadata": {
                  "tags": [],
                  "image/png": {
                    "width": 846,
                    "height": 270
                  },
                  "needs_background": "light"
                },
                "image/png": "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\n",
                "text/plain": "<Figure size 864x288 with 2 Axes>"
              }
            ],
            "_view_module": "@jupyter-widgets/output",
            "_model_module_version": "1.0.0",
            "_view_count": null,
            "_view_module_version": "1.0.0",
            "layout": "IPY_MODEL_66b766b9f7414f6b8e98531191fd109f",
            "_model_module": "@jupyter-widgets/output"
          }
        },
        "602710332a17410fb8eee8dff5e043ec": {
          "model_module": "@jupyter-widgets/controls",
          "model_name": "SliderStyleModel",
          "state": {
            "_view_name": "StyleView",
            "handle_color": null,
            "_model_name": "SliderStyleModel",
            "description_width": "",
            "_view_module": "@jupyter-widgets/base",
            "_model_module_version": "1.5.0",
            "_view_count": null,
            "_view_module_version": "1.2.0",
            "_model_module": "@jupyter-widgets/controls"
          }
        },
        "193514c73df84afcafc084fad9122d56": {
          "model_module": "@jupyter-widgets/controls",
          "model_name": "SliderStyleModel",
          "state": {
            "_view_name": "StyleView",
            "handle_color": null,
            "_model_name": "SliderStyleModel",
            "description_width": "",
            "_view_module": "@jupyter-widgets/base",
            "_model_module_version": "1.5.0",
            "_view_count": null,
            "_view_module_version": "1.2.0",
            "_model_module": "@jupyter-widgets/controls"
          }
        },
        "66b766b9f7414f6b8e98531191fd109f": {
          "model_module": "@jupyter-widgets/base",
          "model_name": "LayoutModel",
          "state": {
            "_view_name": "LayoutView",
            "grid_template_rows": null,
            "right": null,
            "justify_content": null,
            "_view_module": "@jupyter-widgets/base",
            "overflow": null,
            "_model_module_version": "1.2.0",
            "_view_count": null,
            "flex_flow": null,
            "width": null,
            "min_width": null,
            "border": null,
            "align_items": null,
            "bottom": null,
            "_model_module": "@jupyter-widgets/base",
            "top": null,
            "grid_column": null,
            "overflow_y": null,
            "overflow_x": null,
            "grid_auto_flow": null,
            "grid_area": null,
            "grid_template_columns": null,
            "flex": null,
            "_model_name": "LayoutModel",
            "justify_items": null,
            "grid_row": null,
            "max_height": null,
            "align_content": null,
            "visibility": null,
            "align_self": null,
            "height": null,
            "min_height": null,
            "padding": null,
            "grid_auto_rows": null,
            "grid_gap": null,
            "max_width": null,
            "order": null,
            "_view_module_version": "1.2.0",
            "grid_template_areas": null,
            "object_position": null,
            "object_fit": null,
            "grid_auto_columns": null,
            "margin": null,
            "display": null,
            "left": null
          }
        },
        "0255119f1bd2490395861922c8b6099f": {
          "model_module": "@jupyter-widgets/controls",
          "model_name": "VBoxModel",
          "state": {
            "_view_name": "VBoxView",
            "_dom_classes": [
              "widget-interact"
            ],
            "_model_name": "VBoxModel",
            "_view_module": "@jupyter-widgets/controls",
            "_model_module_version": "1.5.0",
            "_view_count": null,
            "_view_module_version": "1.5.0",
            "box_style": "",
            "layout": "IPY_MODEL_f4915f423b784405a5b26b80a3c0b51e",
            "_model_module": "@jupyter-widgets/controls",
            "children": [
              "IPY_MODEL_62eb4b45e4584b3e8511046a91e5c3ce",
              "IPY_MODEL_1a0f79aa5bc74114b42a709e39d7cc10"
            ]
          }
        },
        "f4915f423b784405a5b26b80a3c0b51e": {
          "model_module": "@jupyter-widgets/base",
          "model_name": "LayoutModel",
          "state": {
            "_view_name": "LayoutView",
            "grid_template_rows": null,
            "right": null,
            "justify_content": null,
            "_view_module": "@jupyter-widgets/base",
            "overflow": null,
            "_model_module_version": "1.2.0",
            "_view_count": null,
            "flex_flow": null,
            "width": null,
            "min_width": null,
            "border": null,
            "align_items": null,
            "bottom": null,
            "_model_module": "@jupyter-widgets/base",
            "top": null,
            "grid_column": null,
            "overflow_y": null,
            "overflow_x": null,
            "grid_auto_flow": null,
            "grid_area": null,
            "grid_template_columns": null,
            "flex": null,
            "_model_name": "LayoutModel",
            "justify_items": null,
            "grid_row": null,
            "max_height": null,
            "align_content": null,
            "visibility": null,
            "align_self": null,
            "height": null,
            "min_height": null,
            "padding": null,
            "grid_auto_rows": null,
            "grid_gap": null,
            "max_width": null,
            "order": null,
            "_view_module_version": "1.2.0",
            "grid_template_areas": null,
            "object_position": null,
            "object_fit": null,
            "grid_auto_columns": null,
            "margin": null,
            "display": null,
            "left": null
          }
        },
        "62eb4b45e4584b3e8511046a91e5c3ce": {
          "model_module": "@jupyter-widgets/controls",
          "model_name": "FloatSliderModel",
          "state": {
            "_view_name": "FloatSliderView",
            "style": "IPY_MODEL_474d9e1b6c9e4698b2bba48215193196",
            "_dom_classes": [],
            "description": "sig_gwn",
            "step": 0.5,
            "_model_name": "FloatSliderModel",
            "orientation": "horizontal",
            "max": 6,
            "_view_module": "@jupyter-widgets/controls",
            "_model_module_version": "1.5.0",
            "value": 6,
            "_view_count": null,
            "disabled": false,
            "_view_module_version": "1.5.0",
            "min": 0,
            "continuous_update": true,
            "readout_format": ".2f",
            "description_tooltip": null,
            "readout": true,
            "_model_module": "@jupyter-widgets/controls",
            "layout": "IPY_MODEL_cbab69b8156d47f9afdf68bdbf6959ab"
          }
        },
        "1a0f79aa5bc74114b42a709e39d7cc10": {
          "model_module": "@jupyter-widgets/output",
          "model_name": "OutputModel",
          "state": {
            "_view_name": "OutputView",
            "msg_id": "",
            "_dom_classes": [],
            "_model_name": "OutputModel",
            "outputs": [
              {
                "output_type": "display_data",
                "metadata": {
                  "tags": [],
                  "image/png": {
                    "width": 557,
                    "height": 413
                  },
                  "needs_background": "light"
                },
                "image/png": "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\n",
                "text/plain": "<Figure size 576x432 with 1 Axes>"
              }
            ],
            "_view_module": "@jupyter-widgets/output",
            "_model_module_version": "1.0.0",
            "_view_count": null,
            "_view_module_version": "1.0.0",
            "layout": "IPY_MODEL_52881ccd679b4232984641a5d2b203c6",
            "_model_module": "@jupyter-widgets/output"
          }
        },
        "474d9e1b6c9e4698b2bba48215193196": {
          "model_module": "@jupyter-widgets/controls",
          "model_name": "SliderStyleModel",
          "state": {
            "_view_name": "StyleView",
            "handle_color": null,
            "_model_name": "SliderStyleModel",
            "description_width": "",
            "_view_module": "@jupyter-widgets/base",
            "_model_module_version": "1.5.0",
            "_view_count": null,
            "_view_module_version": "1.2.0",
            "_model_module": "@jupyter-widgets/controls"
          }
        },
        "52881ccd679b4232984641a5d2b203c6": {
          "model_module": "@jupyter-widgets/base",
          "model_name": "LayoutModel",
          "state": {
            "_view_name": "LayoutView",
            "grid_template_rows": null,
            "right": null,
            "justify_content": null,
            "_view_module": "@jupyter-widgets/base",
            "overflow": null,
            "_model_module_version": "1.2.0",
            "_view_count": null,
            "flex_flow": null,
            "width": null,
            "min_width": null,
            "border": null,
            "align_items": null,
            "bottom": null,
            "_model_module": "@jupyter-widgets/base",
            "top": null,
            "grid_column": null,
            "overflow_y": null,
            "overflow_x": null,
            "grid_auto_flow": null,
            "grid_area": null,
            "grid_template_columns": null,
            "flex": null,
            "_model_name": "LayoutModel",
            "justify_items": null,
            "grid_row": null,
            "max_height": null,
            "align_content": null,
            "visibility": null,
            "align_self": null,
            "height": null,
            "min_height": null,
            "padding": null,
            "grid_auto_rows": null,
            "grid_gap": null,
            "max_width": null,
            "order": null,
            "_view_module_version": "1.2.0",
            "grid_template_areas": null,
            "object_position": null,
            "object_fit": null,
            "grid_auto_columns": null,
            "margin": null,
            "display": null,
            "left": null
          }
        },
        "2e56321452a04259a129201c7a2f83c8": {
          "model_module": "@jupyter-widgets/controls",
          "model_name": "VBoxModel",
          "state": {
            "_view_name": "VBoxView",
            "_dom_classes": [
              "widget-interact"
            ],
            "_model_name": "VBoxModel",
            "_view_module": "@jupyter-widgets/controls",
            "_model_module_version": "1.5.0",
            "_view_count": null,
            "_view_module_version": "1.5.0",
            "box_style": "",
            "layout": "IPY_MODEL_3ea7ce093f714392a1d0cb46b66fe4f6",
            "_model_module": "@jupyter-widgets/controls",
            "children": [
              "IPY_MODEL_50909114876d47f790812f7e68e40b34",
              "IPY_MODEL_491faf4d483343749796179f29035392"
            ]
          }
        },
        "3ea7ce093f714392a1d0cb46b66fe4f6": {
          "model_module": "@jupyter-widgets/base",
          "model_name": "LayoutModel",
          "state": {
            "_view_name": "LayoutView",
            "grid_template_rows": null,
            "right": null,
            "justify_content": null,
            "_view_module": "@jupyter-widgets/base",
            "overflow": null,
            "_model_module_version": "1.2.0",
            "_view_count": null,
            "flex_flow": null,
            "width": null,
            "min_width": null,
            "border": null,
            "align_items": null,
            "bottom": null,
            "_model_module": "@jupyter-widgets/base",
            "top": null,
            "grid_column": null,
            "overflow_y": null,
            "overflow_x": null,
            "grid_auto_flow": null,
            "grid_area": null,
            "grid_template_columns": null,
            "flex": null,
            "_model_name": "LayoutModel",
            "justify_items": null,
            "grid_row": null,
            "max_height": null,
            "align_content": null,
            "visibility": null,
            "align_self": null,
            "height": null,
            "min_height": null,
            "padding": null,
            "grid_auto_rows": null,
            "grid_gap": null,
            "max_width": null,
            "order": null,
            "_view_module_version": "1.2.0",
            "grid_template_areas": null,
            "object_position": null,
            "object_fit": null,
            "grid_auto_columns": null,
            "margin": null,
            "display": null,
            "left": null
          }
        },
        "50909114876d47f790812f7e68e40b34": {
          "model_module": "@jupyter-widgets/controls",
          "model_name": "FloatSliderModel",
          "state": {
            "_view_name": "FloatSliderView",
            "style": "IPY_MODEL_7a56c1c5ea824fbda44337995a8245fe",
            "_dom_classes": [],
            "description": "sig_gwn",
            "step": 0.5,
            "_model_name": "FloatSliderModel",
            "orientation": "horizontal",
            "max": 10,
            "_view_module": "@jupyter-widgets/controls",
            "_model_module_version": "1.5.0",
            "value": 0,
            "_view_count": null,
            "disabled": false,
            "_view_module_version": "1.5.0",
            "min": 0,
            "continuous_update": true,
            "readout_format": ".2f",
            "description_tooltip": null,
            "readout": true,
            "_model_module": "@jupyter-widgets/controls",
            "layout": "IPY_MODEL_cbab69b8156d47f9afdf68bdbf6959ab"
          }
        },
        "491faf4d483343749796179f29035392": {
          "model_module": "@jupyter-widgets/output",
          "model_name": "OutputModel",
          "state": {
            "_view_name": "OutputView",
            "msg_id": "",
            "_dom_classes": [],
            "_model_name": "OutputModel",
            "outputs": [
              {
                "output_type": "display_data",
                "metadata": {
                  "tags": [],
                  "image/png": {
                    "width": 558,
                    "height": 413
                  },
                  "needs_background": "light"
                },
                "image/png": "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\n",
                "text/plain": "<Figure size 576x432 with 1 Axes>"
              },
              {
                "output_type": "display_data",
                "metadata": {
                  "tags": [],
                  "image/png": {
                    "width": 558,
                    "height": 413
                  },
                  "needs_background": "light"
                },
                "image/png": "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\n",
                "text/plain": "<Figure size 576x432 with 1 Axes>"
              },
              {
                "output_type": "stream",
                "metadata": {
                  "tags": []
                },
                "text": "(15,)\n(15,)\n",
                "stream": "stdout"
              }
            ],
            "_view_module": "@jupyter-widgets/output",
            "_model_module_version": "1.0.0",
            "_view_count": null,
            "_view_module_version": "1.0.0",
            "layout": "IPY_MODEL_b72d9ef304a94e62a7ccdd060787e3a0",
            "_model_module": "@jupyter-widgets/output"
          }
        },
        "7a56c1c5ea824fbda44337995a8245fe": {
          "model_module": "@jupyter-widgets/controls",
          "model_name": "SliderStyleModel",
          "state": {
            "_view_name": "StyleView",
            "handle_color": null,
            "_model_name": "SliderStyleModel",
            "description_width": "",
            "_view_module": "@jupyter-widgets/base",
            "_model_module_version": "1.5.0",
            "_view_count": null,
            "_view_module_version": "1.2.0",
            "_model_module": "@jupyter-widgets/controls"
          }
        },
        "b72d9ef304a94e62a7ccdd060787e3a0": {
          "model_module": "@jupyter-widgets/base",
          "model_name": "LayoutModel",
          "state": {
            "_view_name": "LayoutView",
            "grid_template_rows": null,
            "right": null,
            "justify_content": null,
            "_view_module": "@jupyter-widgets/base",
            "overflow": null,
            "_model_module_version": "1.2.0",
            "_view_count": null,
            "flex_flow": null,
            "width": null,
            "min_width": null,
            "border": null,
            "align_items": null,
            "bottom": null,
            "_model_module": "@jupyter-widgets/base",
            "top": null,
            "grid_column": null,
            "overflow_y": null,
            "overflow_x": null,
            "grid_auto_flow": null,
            "grid_area": null,
            "grid_template_columns": null,
            "flex": null,
            "_model_name": "LayoutModel",
            "justify_items": null,
            "grid_row": null,
            "max_height": null,
            "align_content": null,
            "visibility": null,
            "align_self": null,
            "height": null,
            "min_height": null,
            "padding": null,
            "grid_auto_rows": null,
            "grid_gap": null,
            "max_width": null,
            "order": null,
            "_view_module_version": "1.2.0",
            "grid_template_areas": null,
            "object_position": null,
            "object_fit": null,
            "grid_auto_columns": null,
            "margin": null,
            "display": null,
            "left": null
          }
        }
      }
    }
  },
  "cells": [
    {
      "cell_type": "markdown",
      "metadata": {
        "id": "view-in-github",
        "colab_type": "text"
      },
      "source": [
        "<a href=\"https://colab.research.google.com/github/luisarai/NMA2021/blob/main/tutorials/W2D3_BiologicalNeuronModels/student/W2D3_Tutorial1.ipynb\" target=\"_parent\"><img src=\"https://colab.research.google.com/assets/colab-badge.svg\" alt=\"Open In Colab\"/></a>"
      ]
    },
    {
      "cell_type": "markdown",
      "metadata": {
        "execution": {},
        "id": "ied3lj0D4iid"
      },
      "source": [
        "# Tutorial 1: The Leaky Integrate-and-Fire (LIF) Neuron Model\n",
        "**Week 2, Day 3: Biological Neuron Models**\n",
        "\n",
        "**By Neuromatch Academy**\n",
        "\n",
        "__Content creators:__ Qinglong Gu, Songtin Li, John Murray, Richard Naud, Arvind Kumar\n",
        "\n",
        "__Content reviewers:__  Maryam Vaziri-Pashkam, Ella Batty, Lorenzo Fontolan, Richard Gao, Matthew Krause, Spiros Chavlis, Michael Waskom, Ethan Cheng"
      ]
    },
    {
      "cell_type": "markdown",
      "metadata": {
        "execution": {},
        "id": "HFZkm8V74iig"
      },
      "source": [
        "**Our 2021 Sponsors, including Presenting Sponsor Facebook Reality Labs**\n",
        "\n",
        "<p align='center'><img src='https://github.com/NeuromatchAcademy/widgets/blob/master/sponsors.png?raw=True'/></p>"
      ]
    },
    {
      "cell_type": "markdown",
      "metadata": {
        "execution": {},
        "id": "8KWyNhsG4iih"
      },
      "source": [
        "---\n",
        "# Tutorial Objectives\n",
        "\n",
        "*Estimated timing of tutorial: 1 hour, 10 min*\n",
        "\n",
        "This is Tutorial 1 of a series on implementing realistic neuron models. In this tutorial, we will build up a leaky integrate-and-fire (LIF) neuron model and study its dynamics in response to various types of inputs. In particular, we are going to write a few lines of code to:  \n",
        "\n",
        "- simulate the LIF neuron model\n",
        "\n",
        "- drive the LIF neuron with external inputs, such as direct currents, Gaussian white noise, and Poisson spike trains, etc.\n",
        "\n",
        "- study how different inputs affect the  LIF neuron's output (firing rate and spike time irregularity)\n",
        "\n",
        "Here, we will especially emphasize identifying conditions (input statistics) under which a neuron can spike at low firing rates and in an irregular manner. The reason for focusing on this is that in most cases, neocortical neurons spike in an irregular manner."
      ]
    },
    {
      "cell_type": "code",
      "metadata": {
        "cellView": "form",
        "execution": {},
        "id": "CMVu8wnz4iih"
      },
      "source": [
        "# @title Tutorial slides\n",
        "\n",
        "# @markdown These are the slides for the videos in all tutorials today\n",
        "from IPython.display import IFrame\n",
        "IFrame(src=f\"https://mfr.ca-1.osf.io/render?url=https://osf.io/8djsm/?direct%26mode=render%26action=download%26mode=render\", width=854, height=480)"
      ],
      "execution_count": null,
      "outputs": []
    },
    {
      "cell_type": "markdown",
      "metadata": {
        "execution": {},
        "id": "6Qhi9xSr4iij"
      },
      "source": [
        "---\n",
        "# Setup"
      ]
    },
    {
      "cell_type": "code",
      "metadata": {
        "cellView": "both",
        "execution": {},
        "id": "gt8J5TnC4iij"
      },
      "source": [
        "# Imports\n",
        "\n",
        "import numpy as np\n",
        "import matplotlib.pyplot as plt"
      ],
      "execution_count": 1,
      "outputs": []
    },
    {
      "cell_type": "code",
      "metadata": {
        "cellView": "form",
        "execution": {},
        "id": "jrFzHki_4iil"
      },
      "source": [
        "# @title Figure Settings\n",
        "import ipywidgets as widgets  # interactive display\n",
        "%config InlineBackend.figure_format = 'retina'\n",
        "# use NMA plot style\n",
        "plt.style.use(\"https://raw.githubusercontent.com/NeuromatchAcademy/course-content/master/nma.mplstyle\")\n",
        "my_layout = widgets.Layout()"
      ],
      "execution_count": 2,
      "outputs": []
    },
    {
      "cell_type": "code",
      "metadata": {
        "cellView": "form",
        "execution": {},
        "id": "JMj7gcJq4iil"
      },
      "source": [
        "# @title Plotting Functions\n",
        "\n",
        "def plot_volt_trace(pars, v, sp):\n",
        "  \"\"\"\n",
        "  Plot trajetory of membrane potential for a single neuron\n",
        "\n",
        "  Expects:\n",
        "  pars   : parameter dictionary\n",
        "  v      : volt trajetory\n",
        "  sp     : spike train\n",
        "\n",
        "  Returns:\n",
        "  figure of the membrane potential trajetory for a single neuron\n",
        "  \"\"\"\n",
        "\n",
        "  V_th = pars['V_th']\n",
        "  dt, range_t = pars['dt'], pars['range_t']\n",
        "  if sp.size:\n",
        "    sp_num = (sp / dt).astype(int) - 1\n",
        "    v[sp_num] += 20  # draw nicer spikes\n",
        "\n",
        "  plt.plot(pars['range_t'], v, 'b')\n",
        "  plt.axhline(V_th, 0, 1, color='k', ls='--')\n",
        "  plt.xlabel('Time (ms)')\n",
        "  plt.ylabel('V (mV)')\n",
        "  plt.legend(['Membrane\\npotential', r'Threshold V$_{\\mathrm{th}}$'],\n",
        "             loc=[1.05, 0.75])\n",
        "  plt.ylim([-80, -40])\n",
        "\n",
        "\n",
        "def plot_GWN(pars, I_GWN):\n",
        "  \"\"\"\n",
        "  Args:\n",
        "    pars  : parameter dictionary\n",
        "    I_GWN : Gaussian white noise input\n",
        "\n",
        "  Returns:\n",
        "    figure of the gaussian white noise input\n",
        "  \"\"\"\n",
        "\n",
        "  plt.figure(figsize=(12, 4))\n",
        "  plt.subplot(121)\n",
        "  plt.plot(pars['range_t'][::3], I_GWN[::3], 'b')\n",
        "  plt.xlabel('Time (ms)')\n",
        "  plt.ylabel(r'$I_{GWN}$ (pA)')\n",
        "  plt.subplot(122)\n",
        "  plot_volt_trace(pars, v, sp)\n",
        "  plt.tight_layout()\n",
        "\n",
        "\n",
        "def my_hists(isi1, isi2, cv1, cv2, sigma1, sigma2):\n",
        "  \"\"\"\n",
        "  Args:\n",
        "    isi1 : vector with inter-spike intervals\n",
        "    isi2 : vector with inter-spike intervals\n",
        "    cv1  : coefficient of variation for isi1\n",
        "    cv2  : coefficient of variation for isi2\n",
        "\n",
        "  Returns:\n",
        "    figure with two histograms, isi1, isi2\n",
        "\n",
        "  \"\"\"\n",
        "  plt.figure(figsize=(11, 4))\n",
        "  my_bins = np.linspace(10, 30, 20)\n",
        "  plt.subplot(121)\n",
        "  plt.hist(isi1, bins=my_bins, color='b', alpha=0.5)\n",
        "  plt.xlabel('ISI (ms)')\n",
        "  plt.ylabel('count')\n",
        "  plt.title(r'$\\sigma_{GWN}=$%.1f, CV$_{\\mathrm{isi}}$=%.3f' % (sigma1, cv1))\n",
        "\n",
        "  plt.subplot(122)\n",
        "  plt.hist(isi2, bins=my_bins, color='b', alpha=0.5)\n",
        "  plt.xlabel('ISI (ms)')\n",
        "  plt.ylabel('count')\n",
        "  plt.title(r'$\\sigma_{GWN}=$%.1f, CV$_{\\mathrm{isi}}$=%.3f' % (sigma2, cv2))\n",
        "  plt.tight_layout()\n",
        "  plt.show()"
      ],
      "execution_count": 3,
      "outputs": []
    },
    {
      "cell_type": "markdown",
      "metadata": {
        "execution": {},
        "id": "7Nna-Wrg4iin"
      },
      "source": [
        "---\n",
        "# Section 1: The Leaky Integrate-and-Fire (LIF) model"
      ]
    },
    {
      "cell_type": "code",
      "metadata": {
        "cellView": "form",
        "execution": {},
        "id": "uk1oAqLI4iip",
        "outputId": "2fad774e-09aa-408c-e0dd-3af969e1f84a",
        "colab": {
          "base_uri": "https://localhost:8080/",
          "height": 581,
          "referenced_widgets": [
            "e8e3f6c7cf3f430dab50f7fe84ed91e7",
            "9c0efcc6170e40ffa6e926b014c12647",
            "46bcf95545e04e2cbbbdb7726ce0eb4c",
            "ad2cea84b0f74b6cbf13ad36a0a848a1",
            "ccbfa97debe04d1283be3aea5aca0e95",
            "ce40380105304ca6a72356655f3c844e"
          ]
        }
      },
      "source": [
        "# @title Video 1: Reduced Neuron Models\n",
        "from ipywidgets import widgets\n",
        "\n",
        "out2 = widgets.Output()\n",
        "with out2:\n",
        "  from IPython.display import IFrame\n",
        "  class BiliVideo(IFrame):\n",
        "      def __init__(self, id, page=1, width=400, height=300, **kwargs):\n",
        "          self.id=id\n",
        "          src = 'https://player.bilibili.com/player.html?bvid={0}&page={1}'.format(id, page)\n",
        "          super(BiliVideo, self).__init__(src, width, height, **kwargs)\n",
        "\n",
        "  video = BiliVideo(id=\"av456396195\", width=854, height=480, fs=1)\n",
        "  print('Video available at https://www.bilibili.com/video/{0}'.format(video.id))\n",
        "  display(video)\n",
        "\n",
        "out1 = widgets.Output()\n",
        "with out1:\n",
        "  from IPython.display import YouTubeVideo\n",
        "  video = YouTubeVideo(id=\"rSExvwCVRYg\", width=854, height=480, fs=1, rel=0)\n",
        "  print('Video available at https://youtube.com/watch?v=' + video.id)\n",
        "  display(video)\n",
        "\n",
        "out = widgets.Tab([out1, out2])\n",
        "out.set_title(0, 'Youtube')\n",
        "out.set_title(1, 'Bilibili')\n",
        "\n",
        "display(out)"
      ],
      "execution_count": 4,
      "outputs": [
        {
          "output_type": "display_data",
          "data": {
            "application/vnd.jupyter.widget-view+json": {
              "model_id": "e8e3f6c7cf3f430dab50f7fe84ed91e7",
              "version_minor": 0,
              "version_major": 2
            },
            "text/plain": [
              "Tab(children=(Output(), Output()), _titles={'0': 'Youtube', '1': 'Bilibili'})"
            ]
          },
          "metadata": {
            "tags": []
          }
        }
      ]
    },
    {
      "cell_type": "markdown",
      "metadata": {
        "execution": {},
        "id": "xGQODa4O4iip"
      },
      "source": [
        "This video introduces the reduction of a biological neuron to a simple leaky-integrate-fire (LIF) neuron model.\n",
        "\n",
        "<details>\n",
        "<summary> <font color='blue'>Click here for text recap of video </font></summary>\n",
        "\n",
        "Now, it's your turn to implement one of the simplest mathematical model of a neuron: the leaky integrate-and-fire (LIF) model. The basic idea of LIF neuron was proposed in 1907 by Louis Édouard Lapicque, long before we understood the electrophysiology of a neuron (see a translation of [Lapicque's paper](https://pubmed.ncbi.nlm.nih.gov/17968583/) ). More details of the model can be found in the book [**Theoretical neuroscience**](http://www.gatsby.ucl.ac.uk/~dayan/book/) by Peter Dayan and Laurence F. Abbott.\n",
        "\n",
        "The subthreshold membrane potential dynamics of a LIF neuron is described by\n",
        "\n",
        "\\begin{eqnarray}\n",
        "C_m\\frac{dV}{dt} = -g_L(V-E_L) + I,\\quad (1)\n",
        "\\end{eqnarray}\n",
        "\n",
        "where $C_m$ is the membrane capacitance, $V$ is the membrane potential, $g_L$ is the leak conductance ($g_L = 1/R$, the inverse of the leak resistance $R$ mentioned in previous tutorials), $E_L$ is the resting potential, and $I$ is the external input current. \n",
        "\n",
        "Dividing both sides of the above equation by $g_L$ gives\n",
        "\n",
        "\\begin{align}\n",
        "\\tau_m\\frac{dV}{dt} = -(V-E_L) + \\frac{I}{g_L}\\,,\\quad (2)\n",
        "\\end{align}\n",
        "\n",
        "where the $\\tau_m$ is membrane time constant and is defined as $\\tau_m=C_m/g_L$. \n",
        "\n",
        "Note that dividing capacitance by conductance gives units of time! \n",
        "\n",
        "Below, we will use Eqn.(2) to simulate LIF neuron dynamics. \n",
        "\n",
        "If $I$ is sufficiently strong such that $V$ reaches a certain threshold value $V_{\\rm th}$, $V$ is reset to a reset potential $V_{\\rm reset}< V_{\\rm th}$, and voltage is clamped to $V_{\\rm reset}$ for $\\tau_{\\rm ref}$ ms, mimicking the refractoriness of the neuron during an action potential:\n",
        "\n",
        "\\begin{eqnarray}\n",
        "\\mathrm{if}\\quad V(t_{\\text{sp}})\\geq V_{\\rm th}&:& V(t)=V_{\\rm reset} \\text{  for } t\\in(t_{\\text{sp}}, t_{\\text{sp}} + \\tau_{\\text{ref}}]\n",
        "\\end{eqnarray}\n",
        "where $t_{\\rm sp}$ is the spike time when $V(t)$ just exceeded $V_{\\rm th}$.\n",
        "\n",
        "(__Note__: in the lecture slides, $\\theta$ corresponds to the threshold voltage $V_{th}$, and $\\Delta$ corresponds to the refractory time $\\tau_{\\rm ref}$.)\n",
        "\n",
        "</details>\n",
        "\n",
        "Note that you have seen the LIF model before if you looked at the pre-reqs Python or Calculus days!\n",
        "\n",
        "The LIF model captures the facts that a neuron:\n",
        "- performs spatial and temporal integration of synaptic inputs \n",
        "- generates a spike when the voltage reaches a certain threshold\n",
        "- goes refractory during the action potential\n",
        "- has a leaky membrane \n",
        "\n",
        "The LIF model assumes that the spatial and temporal integration of inputs is linear. Also, membrane potential dynamics close to the spike threshold are much slower in LIF neurons than in real neurons. \n"
      ]
    },
    {
      "cell_type": "markdown",
      "metadata": {
        "execution": {},
        "id": "42C3dL5v4iip"
      },
      "source": [
        "## Coding Exercise 1: Python code to simulate the LIF neuron\n",
        "\n",
        "We now write Python code to calculate our equation for the LIF neuron and simulate the LIF neuron dynamics. We will use the Euler method, which you saw in the linear systems case yesterday  to numerically integrate this equation:\n",
        "\n",
        "\\begin{align*}\n",
        "\\tau_m\\frac{dV}{dt} = -(V-E_L) + \\frac{I}{g_L}\\,\n",
        "\\end{align*}\n",
        "\n",
        "where $V$ is the membrane potential, $g_L$ is the leak conductance, $E_L$ is the resting potential, $I$ is the external input current, and $\\tau_m$ is membrane time constant.\n",
        "\n",
        "The cell below initializes a dictionary that stores parameters of the LIF neuron model and the simulation scheme. You can use `pars=default_pars(T=simulation_time, dt=time_step)` to get the parameters. Note that, `simulation_time` and `time_step` have the unit `ms`. In addition, you can add the value to a new parameter by `pars['New_param'] = value`."
      ]
    },
    {
      "cell_type": "code",
      "metadata": {
        "cellView": "form",
        "execution": {},
        "id": "WfEzrf-v4iiq",
        "outputId": "5b0e0278-b3e0-46fd-c8a0-c9ba5b65e806",
        "colab": {
          "base_uri": "https://localhost:8080/"
        }
      },
      "source": [
        "# @markdown Execute this code to initialize the default parameters\n",
        "\n",
        "\n",
        "def default_pars(**kwargs):\n",
        "  pars = {}\n",
        "\n",
        "  # typical neuron parameters#\n",
        "  pars['V_th'] = -55.     # spike threshold [mV]\n",
        "  pars['V_reset'] = -75.  # reset potential [mV]\n",
        "  pars['tau_m'] = 10.     # membrane time constant [ms]\n",
        "  pars['g_L'] = 10.       # leak conductance [nS]\n",
        "  pars['V_init'] = -75.   # initial potential [mV]\n",
        "  pars['E_L'] = -75.      # leak reversal potential [mV]\n",
        "  pars['tref'] = 2.       # refractory time (ms)\n",
        "\n",
        "  # simulation parameters #\n",
        "  pars['T'] = 400.  # Total duration of simulation [ms]\n",
        "  pars['dt'] = .1   # Simulation time step [ms]\n",
        "\n",
        "  # external parameters if any #\n",
        "  for k in kwargs:\n",
        "    pars[k] = kwargs[k]\n",
        "\n",
        "  pars['range_t'] = np.arange(0, pars['T'], pars['dt'])  # Vector of discretized time points [ms]\n",
        "\n",
        "  return pars\n",
        "\n",
        "\n",
        "pars = default_pars()\n",
        "print(pars)"
      ],
      "execution_count": 5,
      "outputs": [
        {
          "output_type": "stream",
          "text": [
            "{'V_th': -55.0, 'V_reset': -75.0, 'tau_m': 10.0, 'g_L': 10.0, 'V_init': -75.0, 'E_L': -75.0, 'tref': 2.0, 'T': 400.0, 'dt': 0.1, 'range_t': array([0.000e+00, 1.000e-01, 2.000e-01, ..., 3.997e+02, 3.998e+02,\n",
            "       3.999e+02])}\n"
          ],
          "name": "stdout"
        }
      ]
    },
    {
      "cell_type": "markdown",
      "metadata": {
        "execution": {},
        "id": "CYELrKGg4iiq"
      },
      "source": [
        "Complete the function below to simulate the LIF neuron when receiving external current inputs. You can use `v, sp = run_LIF(pars, Iinj)` to get the membrane potential (`v`) and spike train (`sp`) given the dictionary `pars` and input current `Iinj`. "
      ]
    },
    {
      "cell_type": "code",
      "metadata": {
        "cellView": "both",
        "execution": {},
        "id": "LLb9RmTr4iir",
        "outputId": "00a23945-d40c-4029-b843-edcec5f7c242",
        "colab": {
          "base_uri": "https://localhost:8080/",
          "height": 431
        }
      },
      "source": [
        "def run_LIF(pars, Iinj, stop=False):\n",
        "  \"\"\"\n",
        "  Simulate the LIF dynamics with external input current\n",
        "\n",
        "  Args:\n",
        "    pars       : parameter dictionary\n",
        "    Iinj       : input current [pA]. The injected current here can be a value\n",
        "                 or an array\n",
        "    stop       : boolean. If True, use a current pulse\n",
        "\n",
        "  Returns:\n",
        "    rec_v      : membrane potential\n",
        "    rec_sp     : spike times\n",
        "  \"\"\"\n",
        "\n",
        "  # Set parameters\n",
        "  V_th, V_reset = pars['V_th'], pars['V_reset']\n",
        "  tau_m, g_L = pars['tau_m'], pars['g_L']\n",
        "  V_init, E_L = pars['V_init'], pars['E_L']\n",
        "  dt, range_t = pars['dt'], pars['range_t']\n",
        "  Lt = range_t.size\n",
        "  tref = pars['tref']\n",
        "\n",
        "  # Initialize voltage\n",
        "  v = np.zeros(Lt)\n",
        "  v[0] = V_init\n",
        "\n",
        "  # Set current time course\n",
        "  Iinj = Iinj * np.ones(Lt)\n",
        "\n",
        "  # If current pulse, set beginning and end to 0\n",
        "  if stop:\n",
        "    Iinj[:int(len(Iinj) / 2) - 1000] = 0\n",
        "    Iinj[int(len(Iinj) / 2) + 1000:] = 0\n",
        "\n",
        "  # Loop over time\n",
        "  rec_spikes = []  # record spike times\n",
        "  tr = 0.  # the count for refractory duration\n",
        "\n",
        "  for it in range(Lt - 1):\n",
        "\n",
        "    if tr > 0:  # check if in refractory period\n",
        "      v[it] = V_reset  # set voltage to reset\n",
        "      tr = tr - 1 # reduce running counter of refractory period\n",
        "\n",
        "    elif v[it] >= V_th:  # if voltage over threshold\n",
        "      rec_spikes.append(it)  # record spike event\n",
        "      v[it] = V_reset  # reset voltage\n",
        "      tr = tref / dt  # set refractory time\n",
        "\n",
        "    ########################################################################\n",
        "    ## TODO for students: compute the membrane potential v, spike train sp #\n",
        "    # Fill out function and remove\n",
        "    #raise NotImplementedError('Student Exercise: calculate the dv/dt and the update step!')\n",
        "    ########################################################################\n",
        "\n",
        "    # Calculate the increment of the membrane potential\n",
        "    dv = (-(v[it]-E_L)+Iinj[it]/g_L)*(dt/tau_m)\n",
        "\n",
        "    # Update the membrane potential\n",
        "    v[it + 1] = v[it] + dv\n",
        "\n",
        "  # Get spike times in ms\n",
        "  rec_spikes = np.array(rec_spikes) * dt\n",
        "\n",
        "  return v, rec_spikes\n",
        "\n",
        "\n",
        "# Get parameters\n",
        "pars = default_pars(T=500)\n",
        "\n",
        "# Simulate LIF model\n",
        "v, sp = run_LIF(pars, Iinj=100, stop=True)\n",
        "\n",
        "# Visualize\n",
        "plot_volt_trace(pars, v, sp)"
      ],
      "execution_count": 8,
      "outputs": [
        {
          "output_type": "display_data",
          "data": {
            "image/png": "[encoded data removed]",
            "text/plain": [
              "<Figure size 576x432 with 1 Axes>"
            ]
          },
          "metadata": {
            "tags": [],
            "image/png": {
              "width": 558,
              "height": 414
            },
            "needs_background": "light"
          }
        }
      ]
    },
    {
      "cell_type": "markdown",
      "metadata": {
        "execution": {},
        "id": "pl7O3Tro4iis"
      },
      "source": [
        "[*Click for solution*](https://github.com/NeuromatchAcademy/course-content/tree/master//tutorials/W2D3_BiologicalNeuronModels/solutions/W2D3_Tutorial1_Solution_60a1e954.py)\n",
        "\n",
        "*Example output:*\n",
        "\n",
        "<img alt='Solution hint' align='left' width=1106.0 height=828.0 src=https://raw.githubusercontent.com/NeuromatchAcademy/course-content/master/tutorials/W2D3_BiologicalNeuronModels/static/W2D3_Tutorial1_Solution_60a1e954_0.png>\n",
        "\n"
      ]
    },
    {
      "cell_type": "markdown",
      "metadata": {
        "execution": {},
        "id": "m6f56F_84iis"
      },
      "source": [
        "---\n",
        "# Section 2: Response of an LIF model to different types of input currents\n",
        "\n",
        "*Estimated timing to here from start of tutorial: 20 min*\n",
        "\n",
        "In the following section, we will learn how to inject direct current and white noise to study the response of an LIF neuron."
      ]
    },
    {
      "cell_type": "code",
      "metadata": {
        "cellView": "form",
        "execution": {},
        "id": "y3XQlvh34iit",
        "outputId": "bf21640c-88da-4712-b899-8cc2b38f209d",
        "colab": {
          "base_uri": "https://localhost:8080/",
          "height": 581,
          "referenced_widgets": [
            "8fe2be55b7e14fff99582f590955b1f0",
            "8760fecc217849cca7229af5f3328f49",
            "46f194994f6f46d7b303898b8947fea8",
            "9af7cbdb84e4435a980ff69f10d28890",
            "e915b27379a844cdbfcae02b1dc4a66f",
            "0024b47986994fbaa946ccb8fe2f9c85"
          ]
        }
      },
      "source": [
        "# @title Video 2: Response of the LIF neuron to different inputs\n",
        "from ipywidgets import widgets\n",
        "\n",
        "out2 = widgets.Output()\n",
        "with out2:\n",
        "  from IPython.display import IFrame\n",
        "  class BiliVideo(IFrame):\n",
        "      def __init__(self, id, page=1, width=400, height=300, **kwargs):\n",
        "          self.id=id\n",
        "          src = 'https://player.bilibili.com/player.html?bvid={0}&page={1}'.format(id, page)\n",
        "          super(BiliVideo, self).__init__(src, width, height, **kwargs)\n",
        "\n",
        "  video = BiliVideo(id=\"av541417171\", width=854, height=480, fs=1)\n",
        "  print('Video available at https://www.bilibili.com/video/{0}'.format(video.id))\n",
        "  display(video)\n",
        "\n",
        "out1 = widgets.Output()\n",
        "with out1:\n",
        "  from IPython.display import YouTubeVideo\n",
        "  video = YouTubeVideo(id=\"preNGdab7Kk\", width=854, height=480, fs=1, rel=0)\n",
        "  print('Video available at https://youtube.com/watch?v=' + video.id)\n",
        "  display(video)\n",
        "\n",
        "out = widgets.Tab([out1, out2])\n",
        "out.set_title(0, 'Youtube')\n",
        "out.set_title(1, 'Bilibili')\n",
        "\n",
        "display(out)"
      ],
      "execution_count": 9,
      "outputs": [
        {
          "output_type": "display_data",
          "data": {
            "application/vnd.jupyter.widget-view+json": {
              "model_id": "8fe2be55b7e14fff99582f590955b1f0",
              "version_minor": 0,
              "version_major": 2
            },
            "text/plain": [
              "Tab(children=(Output(), Output()), _titles={'0': 'Youtube', '1': 'Bilibili'})"
            ]
          },
          "metadata": {
            "tags": []
          }
        }
      ]
    },
    {
      "cell_type": "markdown",
      "metadata": {
        "execution": {},
        "id": "r2RDkeso4iit"
      },
      "source": [
        "## Section 2.1: Direct current (DC)\n",
        "\n",
        "*Estimated timing to here from start of tutorial: 30 min*\n"
      ]
    },
    {
      "cell_type": "markdown",
      "metadata": {
        "execution": {},
        "id": "oHdXhogr4iit"
      },
      "source": [
        "### Interactive Demo 2.1: Parameter exploration of DC input amplitude \n",
        "Here's an interactive demo that shows how the LIF neuron behavior changes for DC input (constant current) with different amplitudes. We plot the membrane potential of an LIF neuron. You may notice that the neuron generates a spike. But this is just a cosmetic spike only for illustration purposes. In an LIF neuron, we only need to keep track of times when the neuron hit the threshold so the postsynaptic neurons can be informed of the spike. \n",
        "\n",
        "How much DC is needed to reach the threshold (rheobase current)? How does the membrane time constant affect the frequency of the neuron?"
      ]
    },
    {
      "cell_type": "code",
      "metadata": {
        "cellView": "form",
        "execution": {},
        "id": "zArjN7NF4iit",
        "outputId": "1763426c-5733-4cec-f08d-1ed70219e0d1",
        "colab": {
          "base_uri": "https://localhost:8080/",
          "height": 495,
          "referenced_widgets": [
            "e378d7e54a2149cb8d20a50f8e3300f0",
            "d22c13e108ad4f7db70e639fd385cff3",
            "3658af0af7de4664a0d767d076eb31dc",
            "4787c17821a7469793d43ca6e7f4680e",
            "28bb60b938714e97835f3bcd3c932e79",
            "29434b859e7844e0bd55a0ba38d36766",
            "cbab69b8156d47f9afdf68bdbf6959ab",
            "4a5f45576c58432684c5ac065330236d",
            "7b7b506d6e1245488073c67b77cbb637"
          ]
        }
      },
      "source": [
        "# @title\n",
        "# @markdown Make sure you execute this cell to enable the widget!\n",
        "my_layout.width = '450px'\n",
        "@widgets.interact(\n",
        "    I_dc=widgets.FloatSlider(50., min=0., max=300., step=10.,\n",
        "                               layout=my_layout),\n",
        "    tau_m=widgets.FloatSlider(10., min=2., max=20., step=2.,\n",
        "                                layout=my_layout)\n",
        ")\n",
        "\n",
        "def diff_DC(I_dc=200., tau_m=10.):\n",
        "  pars = default_pars(T=100.)\n",
        "  pars['tau_m'] = tau_m\n",
        "  v, sp = run_LIF(pars, Iinj=I_dc)\n",
        "  plot_volt_trace(pars, v, sp)\n",
        "  plt.show()"
      ],
      "execution_count": 10,
      "outputs": [
        {
          "output_type": "display_data",
          "data": {
            "application/vnd.jupyter.widget-view+json": {
              "model_id": "e378d7e54a2149cb8d20a50f8e3300f0",
              "version_minor": 0,
              "version_major": 2
            },
            "text/plain": [
              "interactive(children=(FloatSlider(value=50.0, description='I_dc', layout=Layout(width='450px'), max=300.0, ste…"
            ]
          },
          "metadata": {
            "tags": []
          }
        }
      ]
    },
    {
      "cell_type": "markdown",
      "metadata": {
        "execution": {},
        "id": "SoTUIVel4iit"
      },
      "source": [
        "[*Click for solution*](https://github.com/NeuromatchAcademy/course-content/tree/master//tutorials/W2D3_BiologicalNeuronModels/solutions/W2D3_Tutorial1_Solution_1058324c.py)\n",
        "\n"
      ]
    },
    {
      "cell_type": "markdown",
      "metadata": {
        "execution": {},
        "id": "FiBuFjrQ4iiu"
      },
      "source": [
        "## Section 2.2: Gaussian white noise (GWN) current \n",
        "\n",
        "*Estimated timing to here from start of tutorial: 38 min*\n",
        "\n",
        "Given the noisy nature of neuronal activity _in vivo_, neurons usually receive complex, time-varying inputs.\n",
        "\n",
        "To mimic this, we will now investigate the neuronal response when the LIF neuron receives Gaussian white noise $\\xi(t)$ with mean 0 ($\\mu = 0$) and some standard deviation $\\sigma$.\n",
        "\n",
        "Note that the GWN has zero mean, that is, it describes only the fluctuations of the input received by a neuron. We can thus modify our definition of GWN to have a nonzero mean value $\\mu$ that equals the DC input, since this is the average input into the cell. The cell below defines the modified gaussian white noise currents with nonzero mean $\\mu$."
      ]
    },
    {
      "cell_type": "markdown",
      "metadata": {
        "execution": {},
        "id": "elMzTm4G4iiu"
      },
      "source": [
        "### Interactive Demo 2.2: LIF neuron Explorer for noisy input\n",
        "\n",
        "\n",
        "The mean of the Gaussian white noise (GWN) is the amplitude of DC. Indeed, when $\\sigma = 0$, GWN is just a DC.\n",
        "\n",
        "So the question arises how does $\\sigma$ of the GWN affect the spiking behavior of the neuron. For instance we may want to know\n",
        "1.  how does the minimum input (i.e. $\\mu$) needed to make a neuron spike change with increase in $\\sigma$\n",
        "2.  how does the spike regularity change with increase in $\\sigma$\n",
        "\n",
        "To get an intuition about these questions you can use the following interactive demo that shows how the LIF neuron behavior changes for noisy input with different amplitudes (the mean $\\mu$) and fluctuation sizes ($\\sigma$). We use a helper function to generate this noisy input current: `my_GWN(pars, mu, sig, myseed=False)`.  Note that fixing the value of the random seed (e.g., `myseed=2020`) will allow you to obtain the same result every time you run this. We then use our `run_LIF` function to simulate the LIF model.\n"
      ]
    },
    {
      "cell_type": "code",
      "metadata": {
        "cellView": "form",
        "execution": {},
        "id": "5HFZifYl4iiv",
        "outputId": "7993c17d-bb95-4c49-d35d-055a238873be",
        "colab": {
          "base_uri": "https://localhost:8080/"
        }
      },
      "source": [
        "# @markdown Execute to enable helper function `my_GWN`\n",
        "\n",
        "def my_GWN(pars, mu, sig, myseed=False):\n",
        "  \"\"\"\n",
        "  Function that generates Gaussian white noise input\n",
        "\n",
        "  Args:\n",
        "    pars       : parameter dictionary\n",
        "    mu         : noise baseline (mean)\n",
        "    sig        : noise amplitute (standard deviation)\n",
        "    myseed     : random seed. int or boolean\n",
        "                 the same seed will give the same\n",
        "                 random number sequence\n",
        "\n",
        "  Returns:\n",
        "    I          : Gaussian white noise input\n",
        "  \"\"\"\n",
        "\n",
        "  # Retrieve simulation parameters\n",
        "  dt, range_t = pars['dt'], pars['range_t']\n",
        "  Lt = range_t.size\n",
        "\n",
        "  # Set random seed\n",
        "  if myseed:\n",
        "      np.random.seed(seed=myseed)\n",
        "  else:\n",
        "      np.random.seed()\n",
        "\n",
        "  # Generate GWN\n",
        "  # we divide here by 1000 to convert units to sec.\n",
        "  I_gwn = mu + sig * np.random.randn(Lt) / np.sqrt(dt / 1000.)\n",
        "\n",
        "  return I_gwn\n",
        "\n",
        "help(my_GWN)"
      ],
      "execution_count": 11,
      "outputs": [
        {
          "output_type": "stream",
          "text": [
            "Help on function my_GWN in module __main__:\n",
            "\n",
            "my_GWN(pars, mu, sig, myseed=False)\n",
            "    Function that generates Gaussian white noise input\n",
            "    \n",
            "    Args:\n",
            "      pars       : parameter dictionary\n",
            "      mu         : noise baseline (mean)\n",
            "      sig        : noise amplitute (standard deviation)\n",
            "      myseed     : random seed. int or boolean\n",
            "                   the same seed will give the same\n",
            "                   random number sequence\n",
            "    \n",
            "    Returns:\n",
            "      I          : Gaussian white noise input\n",
            "\n"
          ],
          "name": "stdout"
        }
      ]
    },
    {
      "cell_type": "code",
      "metadata": {
        "cellView": "form",
        "execution": {},
        "id": "uMM_HoS24iiv",
        "outputId": "8aaba1d2-174a-4bc7-c9ce-5772aca10960",
        "colab": {
          "base_uri": "https://localhost:8080/",
          "height": 351,
          "referenced_widgets": [
            "9d95e80f223c4ec3a29a1b776c48f980",
            "040ee21306044a7698d7c11bf6519a6b",
            "33e50fcce68948b19c630e299a4e47fe",
            "406650eabfd44d80aa5b18b649772393",
            "5237600a075b4148b59cc04cda99e638",
            "602710332a17410fb8eee8dff5e043ec",
            "cbab69b8156d47f9afdf68bdbf6959ab",
            "193514c73df84afcafc084fad9122d56",
            "66b766b9f7414f6b8e98531191fd109f"
          ]
        }
      },
      "source": [
        "# @title\n",
        "\n",
        "# @markdown Make sure you execute this cell to enable the widget!\n",
        "\n",
        "my_layout.width = '450px'\n",
        "@widgets.interact(\n",
        "    mu_gwn=widgets.FloatSlider(200., min=100., max=300., step=5.,\n",
        "                               layout=my_layout),\n",
        "    sig_gwn=widgets.FloatSlider(2.5, min=0., max=5., step=.5,\n",
        "                                layout=my_layout)\n",
        ")\n",
        "\n",
        "\n",
        "def diff_GWN_to_LIF(mu_gwn, sig_gwn):\n",
        "  pars = default_pars(T=100.)\n",
        "  I_GWN = my_GWN(pars, mu=mu_gwn, sig=sig_gwn)\n",
        "  v, sp = run_LIF(pars, Iinj=I_GWN)\n",
        "  plt.figure(figsize=(12, 4))\n",
        "  plt.subplot(121)\n",
        "  plt.plot(pars['range_t'][::3], I_GWN[::3], 'b')\n",
        "  plt.xlabel('Time (ms)')\n",
        "  plt.ylabel(r'$I_{GWN}$ (pA)')\n",
        "  plt.subplot(122)\n",
        "  plot_volt_trace(pars, v, sp)\n",
        "  plt.tight_layout()\n",
        "  plt.show()"
      ],
      "execution_count": 12,
      "outputs": [
        {
          "output_type": "display_data",
          "data": {
            "application/vnd.jupyter.widget-view+json": {
              "model_id": "9d95e80f223c4ec3a29a1b776c48f980",
              "version_minor": 0,
              "version_major": 2
            },
            "text/plain": [
              "interactive(children=(FloatSlider(value=200.0, description='mu_gwn', layout=Layout(width='450px'), max=300.0, …"
            ]
          },
          "metadata": {
            "tags": []
          }
        }
      ]
    },
    {
      "cell_type": "markdown",
      "metadata": {
        "execution": {},
        "id": "xdGVIzX04iiw"
      },
      "source": [
        "[*Click for solution*](https://github.com/NeuromatchAcademy/course-content/tree/master//tutorials/W2D3_BiologicalNeuronModels/solutions/W2D3_Tutorial1_Solution_2de5d8a9.py)\n",
        "\n"
      ]
    },
    {
      "cell_type": "markdown",
      "metadata": {
        "execution": {},
        "id": "n0QLoDbU4iiw"
      },
      "source": [
        "### Think! 2.2: Analyzing GWN Effects on Spiking\n",
        "- As we increase the input average ($\\mu$) or the input fluctuation ($\\sigma$), the spike count changes. How much can we increase the spike count, and what might be the relationship between GWN mean/std or DC value and spike count? \n",
        "\n",
        "- We have seen above that when we inject DC, the neuron spikes in a regular manner (clock like), and this regularity is reduced when GWN is injected. The question is, how irregular can we make the neurons spiking by changing the parameters of the GWN? \n",
        "\n",
        "We will see the answers to these questions in the next section but discuss first!\n"
      ]
    },
    {
      "cell_type": "markdown",
      "metadata": {
        "execution": {},
        "id": "iI5zAQCS4iiw"
      },
      "source": [
        "---\n",
        "# Section 3: Firing rate and spike time irregularity\n",
        "\n",
        "*Estimated timing to here from start of tutorial: 48 min*\n",
        "\n",
        "When we plot the output firing rate as a function of GWN mean or DC value, it is called the input-output transfer function of the neuron (so simply F-I curve).\n",
        "\n",
        "Spike regularity can be quantified as the **coefficient of variation (CV) of the inter-spike-interval (ISI)**:\n",
        "\\begin{align}\n",
        "\\text{CV}_{\\text{ISI}} = \\frac{std(\\text{ISI})}{mean(\\text{ISI})}\n",
        "\\end{align}\n",
        "\n",
        "A Poisson train is an example of high irregularity, in which $\\textbf{CV}_{\\textbf{ISI}} \\textbf{= 1}$. And for a clocklike (regular) process we have $\\textbf{CV}_{\\textbf{ISI}} \\textbf{= 0}$ because of **std(ISI)=0**."
      ]
    },
    {
      "cell_type": "markdown",
      "metadata": {
        "execution": {},
        "id": "AxUuqpRt4iiw"
      },
      "source": [
        "## Interactive Demo 3A: F-I Explorer for different `sig_gwn`\n",
        "\n",
        "How does the F-I curve of the LIF neuron change as we increase the $\\sigma$ of the GWN? We can already expect that the F-I curve will be stochastic and the results will vary from one trial to another. But will there be any other change compared to the F-I curved measured using DC?\n",
        "\n",
        "Here's an interactive demo that shows how the F-I curve of a LIF neuron changes for different levels of fluctuation $\\sigma$.\n"
      ]
    },
    {
      "cell_type": "code",
      "metadata": {
        "cellView": "form",
        "execution": {},
        "id": "Imj53mWX4iix",
        "outputId": "66696524-d9d5-460b-db52-2f94ce4348c6",
        "colab": {
          "base_uri": "https://localhost:8080/",
          "height": 462,
          "referenced_widgets": [
            "0255119f1bd2490395861922c8b6099f",
            "f4915f423b784405a5b26b80a3c0b51e",
            "62eb4b45e4584b3e8511046a91e5c3ce",
            "1a0f79aa5bc74114b42a709e39d7cc10",
            "474d9e1b6c9e4698b2bba48215193196",
            "cbab69b8156d47f9afdf68bdbf6959ab",
            "52881ccd679b4232984641a5d2b203c6"
          ]
        }
      },
      "source": [
        "# @title\n",
        "\n",
        "# @markdown Make sure you execute this cell to enable the widget!\n",
        "\n",
        "\n",
        "my_layout.width = '450px'\n",
        "@widgets.interact(\n",
        "    sig_gwn=widgets.FloatSlider(3.0, min=0., max=6., step=0.5,\n",
        "                                layout=my_layout)\n",
        ")\n",
        "\n",
        "\n",
        "def diff_std_affect_fI(sig_gwn):\n",
        "  pars = default_pars(T=1000.)\n",
        "  I_mean = np.arange(100., 400., 10.)\n",
        "  spk_count = np.zeros(len(I_mean))\n",
        "  spk_count_dc = np.zeros(len(I_mean))\n",
        "\n",
        "  for idx in range(len(I_mean)):\n",
        "      I_GWN = my_GWN(pars, mu=I_mean[idx], sig=sig_gwn, myseed=2020)\n",
        "      v, rec_spikes = run_LIF(pars, Iinj=I_GWN)\n",
        "      v_dc, rec_sp_dc = run_LIF(pars, Iinj=I_mean[idx])\n",
        "      spk_count[idx] = len(rec_spikes)\n",
        "      spk_count_dc[idx] = len(rec_sp_dc)\n",
        "\n",
        "  # Plot the F-I curve i.e. Output firing rate as a function of input mean.\n",
        "  plt.figure()\n",
        "  plt.plot(I_mean, spk_count, 'k',\n",
        "           label=r'$\\sigma_{\\mathrm{GWN}}=%.2f$' % sig_gwn)\n",
        "  plt.plot(I_mean, spk_count_dc, 'k--', alpha=0.5, lw=4, dashes=(2, 2),\n",
        "           label='DC input')\n",
        "  plt.ylabel('Spike count')\n",
        "  plt.xlabel('Average injected current (pA)')\n",
        "  plt.legend(loc='best')\n",
        "  plt.show()"
      ],
      "execution_count": 13,
      "outputs": [
        {
          "output_type": "display_data",
          "data": {
            "application/vnd.jupyter.widget-view+json": {
              "model_id": "0255119f1bd2490395861922c8b6099f",
              "version_minor": 0,
              "version_major": 2
            },
            "text/plain": [
              "interactive(children=(FloatSlider(value=3.0, description='sig_gwn', layout=Layout(width='450px'), max=6.0, ste…"
            ]
          },
          "metadata": {
            "tags": []
          }
        }
      ]
    },
    {
      "cell_type": "markdown",
      "metadata": {
        "execution": {},
        "id": "skmjxehg4iix"
      },
      "source": [
        "[*Click for solution*](https://github.com/NeuromatchAcademy/course-content/tree/master//tutorials/W2D3_BiologicalNeuronModels/solutions/W2D3_Tutorial1_Solution_eba2370f.py)\n",
        "\n"
      ]
    },
    {
      "cell_type": "markdown",
      "metadata": {
        "execution": {},
        "id": "Q-018ATr4iiy"
      },
      "source": [
        "## Coding Exercise 3: Compute $CV_{ISI}$ values\n",
        "\n",
        "As shown above, the F-I curve becomes smoother while increasing the amplitude of the fluctuation ($\\sigma$). In addition, the fluctuation can also change the irregularity of the spikes. Let's investigate the effect of $\\mu=250$ with $\\sigma=0.5$ vs $\\sigma=3$. \n",
        "\n",
        "Fill in the code below to compute ISI, then plot the histogram of the ISI and compute the $CV_{ISI}$. Note that, you can use `np.diff` to calculate ISI."
      ]
    },
    {
      "cell_type": "code",
      "metadata": {
        "execution": {},
        "id": "EPNh3Fmw4iiy",
        "outputId": "85c88c9f-b1e4-41dc-921a-c9e081bae2ca",
        "colab": {
          "base_uri": "https://localhost:8080/",
          "height": 286
        }
      },
      "source": [
        "def isi_cv_LIF(spike_times):\n",
        "  \"\"\"\n",
        "  Calculates the inter-spike intervals (isi) and\n",
        "  the coefficient of variation (cv) for a given spike_train\n",
        "\n",
        "  Args:\n",
        "    spike_times : (n, ) vector with the spike times (ndarray)\n",
        "\n",
        "  Returns:\n",
        "    isi         : (n-1,) vector with the inter-spike intervals (ms)\n",
        "    cv          : coefficient of variation of isi (float)\n",
        "\n",
        "  \"\"\"\n",
        "  ########################################################################\n",
        "  ## TODO for students: compute the membrane potential v, spike train sp #\n",
        "  # Fill out function and remove\n",
        "  #raise NotImplementedError('Student Exercise: calculate the isi and the cv!')\n",
        "  ########################################################################\n",
        "  if len(spike_times) >= 2:\n",
        "    # Compute isi\n",
        "    isi = np.diff(spike_times)\n",
        "    # Compute cv\n",
        "    cv = np.std(isi)/np.mean(isi)\n",
        "  else:\n",
        "    isi = np.nan\n",
        "    cv = np.nan\n",
        "\n",
        "  return isi, cv\n",
        "\n",
        "\n",
        "# Set parameters\n",
        "pars = default_pars(T=1000.)\n",
        "mu_gwn = 250\n",
        "sig_gwn1 = 0.5\n",
        "sig_gwn2 = 3.0\n",
        "\n",
        "# Run LIF model for sigma = 0.5\n",
        "I_GWN1 = my_GWN(pars, mu=mu_gwn, sig=sig_gwn1, myseed=2020)\n",
        "_, sp1 = run_LIF(pars, Iinj=I_GWN1)\n",
        "\n",
        "# Run LIF model for sigma = 3\n",
        "I_GWN2 = my_GWN(pars, mu=mu_gwn, sig=sig_gwn2, myseed=2020)\n",
        "_, sp2 = run_LIF(pars, Iinj=I_GWN2)\n",
        "\n",
        "# Compute ISIs/CV\n",
        "isi1, cv1 = isi_cv_LIF(sp1)\n",
        "isi2, cv2 = isi_cv_LIF(sp2)\n",
        "\n",
        "# Visualize\n",
        "my_hists(isi1, isi2, cv1, cv2, sig_gwn1, sig_gwn2)"
      ],
      "execution_count": 20,
      "outputs": [
        {
          "output_type": "display_data",
          "data": {
            "image/png": "[encoded data removed]",
            "text/plain": [
              "<Figure size 792x288 with 2 Axes>"
            ]
          },
          "metadata": {
            "tags": [],
            "image/png": {
              "width": 773,
              "height": 269
            },
            "needs_background": "light"
          }
        }
      ]
    },
    {
      "cell_type": "markdown",
      "metadata": {
        "execution": {},
        "id": "2-MkEMaJ4iiy"
      },
      "source": [
        "[*Click for solution*](https://github.com/NeuromatchAcademy/course-content/tree/master//tutorials/W2D3_BiologicalNeuronModels/solutions/W2D3_Tutorial1_Solution_27d69c89.py)\n",
        "\n",
        "*Example output:*\n",
        "\n",
        "<img alt='Solution hint' align='left' width=1552.0 height=544.0 src=https://raw.githubusercontent.com/NeuromatchAcademy/course-content/master/tutorials/W2D3_BiologicalNeuronModels/static/W2D3_Tutorial1_Solution_27d69c89_0.png>\n",
        "\n"
      ]
    },
    {
      "cell_type": "markdown",
      "metadata": {
        "execution": {},
        "id": "4dsgQ0JR4iiz"
      },
      "source": [
        "## Interactive Demo 3B: Spike irregularity explorer for different `sig_gwn`\n",
        "\n",
        "In the above illustration, we see that the CV of inter-spike-interval (ISI) distribution depends on $\\sigma$ of GWN. What about the mean of GWN, should that also affect the CV$_{\\rm ISI}$? If yes, how? Does the efficacy of $\\sigma$ in increasing the CV$_{\\rm ISI}$ depend on $\\mu$?\n",
        "\n",
        "In the following interactive demo, you will examine how different levels of fluctuation $\\sigma$ affect the CVs for different average injected currents ($\\mu$).\n",
        "\n",
        "1. Does the standard deviation of the injected current affect the F-I curve in any qualitative manner?\n",
        "2. Why does increasing the mean of GWN reduce the $CV_{ISI}$?\n",
        "3.  If you plot spike count (or rate) vs. $CV_{ISI}$, should there be a relationship between the two? Try out yourself."
      ]
    },
    {
      "cell_type": "code",
      "metadata": {
        "execution": {},
        "id": "WjnkyBeI4iiz",
        "outputId": "78018bcd-a523-4c1c-e231-10dff7ea8955",
        "colab": {
          "base_uri": "https://localhost:8080/",
          "height": 911,
          "referenced_widgets": [
            "2e56321452a04259a129201c7a2f83c8",
            "3ea7ce093f714392a1d0cb46b66fe4f6",
            "50909114876d47f790812f7e68e40b34",
            "491faf4d483343749796179f29035392",
            "7a56c1c5ea824fbda44337995a8245fe",
            "cbab69b8156d47f9afdf68bdbf6959ab",
            "b72d9ef304a94e62a7ccdd060787e3a0"
          ]
        }
      },
      "source": [
        "#@title\n",
        "\n",
        "#@markdown Make sure you execute this cell to enable the widget!\n",
        "\n",
        "my_layout.width = '450px'\n",
        "@widgets.interact(\n",
        "    sig_gwn=widgets.FloatSlider(0.0, min=0., max=10.,\n",
        "                                step=0.5, layout=my_layout)\n",
        ")\n",
        "\n",
        "\n",
        "def diff_std_affect_fI(sig_gwn):\n",
        "  pars = default_pars(T=1000.)\n",
        "  I_mean = np.arange(100., 400., 20)\n",
        "  spk_count = np.zeros(len(I_mean))\n",
        "  cv_isi = np.empty(len(I_mean))\n",
        "\n",
        "  for idx in range(len(I_mean)):\n",
        "    I_GWN = my_GWN(pars, mu=I_mean[idx], sig=sig_gwn)\n",
        "    v, rec_spikes = run_LIF(pars, Iinj=I_GWN)\n",
        "    spk_count[idx] = len(rec_spikes)\n",
        "    if len(rec_spikes) > 3:\n",
        "      isi = np.diff(rec_spikes)\n",
        "      cv_isi[idx] = np.std(isi) / np.mean(isi)\n",
        "\n",
        "  # Plot the F-I curve i.e. Output firing rate as a function of input mean.\n",
        "  plt.figure()\n",
        "  plt.plot(I_mean[spk_count > 5], cv_isi[spk_count > 5], 'bo', alpha=0.5)\n",
        "  plt.xlabel('Average injected current (pA)')\n",
        "  plt.ylabel(r'Spike irregularity ($\\mathrm{CV}_\\mathrm{ISI}$)')\n",
        "  plt.ylim(-0.1, 1.5)\n",
        "  plt.grid(True)\n",
        "  plt.show()\n",
        "\n",
        "  plt.figure()\n",
        "  plt.plot(cv_isi,spk_count)\n",
        "  #plt.xlabel('Average injected current (pA)')\n",
        "  #plt.ylabel(r'Spike irregularity ($\\mathrm{CV}_\\mathrm{ISI}$)')\n",
        "  #plt.ylim(-0.1, 1.5)\n",
        "  plt.grid(True)\n",
        "  plt.show()\n",
        "  print(spk_count.shape)\n",
        "  print(cv_isi.shape)"
      ],
      "execution_count": 24,
      "outputs": [
        {
          "output_type": "display_data",
          "data": {
            "application/vnd.jupyter.widget-view+json": {
              "model_id": "2e56321452a04259a129201c7a2f83c8",
              "version_minor": 0,
              "version_major": 2
            },
            "text/plain": [
              "interactive(children=(FloatSlider(value=0.0, description='sig_gwn', layout=Layout(width='450px'), max=10.0, st…"
            ]
          },
          "metadata": {
            "tags": []
          }
        }
      ]
    },
    {
      "cell_type": "markdown",
      "metadata": {
        "execution": {},
        "id": "wzGp9Zfb4iiz"
      },
      "source": [
        "[*Click for solution*](https://github.com/NeuromatchAcademy/course-content/tree/master//tutorials/W2D3_BiologicalNeuronModels/solutions/W2D3_Tutorial1_Solution_c6f1c4a2.py)\n",
        "\n"
      ]
    },
    {
      "cell_type": "markdown",
      "metadata": {
        "execution": {},
        "id": "cFjzbAcd4ii0"
      },
      "source": [
        "---\n",
        "# Summary\n",
        "\n",
        "*Estimated timing of tutorial: 1 hour, 10 min*\n",
        "\n",
        "Congratulations! You've just built a leaky integrate-and-fire (LIF) neuron model from scratch, and studied its dynamics in response to various types of inputs, having:\n",
        "\n",
        "- simulated the LIF neuron model\n",
        "\n",
        "- driven the LIF neuron with external inputs, such as direct current and Gaussian white noise\n",
        "\n",
        "- studied how different inputs affect the  LIF neuron's output (firing rate and spike time irregularity),\n",
        "\n",
        "with a special focus on low rate and irregular firing regime to mimc real cortical neurons. The next tutorial will look at how spiking statistics may be influenced by a neuron's input statistics.\n",
        "\n",
        "If you have extra time, look at the bonus sections below to explore a different type of noise input and learn about extensions to integrate-and-fire models.\n"
      ]
    },
    {
      "cell_type": "markdown",
      "metadata": {
        "execution": {},
        "id": "axzHKmPv4ii0"
      },
      "source": [
        "---\n",
        "# Bonus"
      ]
    },
    {
      "cell_type": "markdown",
      "metadata": {
        "execution": {},
        "id": "GI_Ev3EG4ii0"
      },
      "source": [
        "---\n",
        "## Bonus Section 1: Orenstein-Uhlenbeck Process\n",
        "\n",
        "When a neuron receives spiking input, the synaptic current is Shot Noise -- which is a kind of colored noise and the spectrum of the noise determined by the synaptic kernel time constant. That is, a neuron is driven by **colored noise** and not GWN.\n",
        "\n",
        "We can model colored noise using the Ohrenstein-Uhlenbeck process - filtered white noise. "
      ]
    },
    {
      "cell_type": "markdown",
      "metadata": {
        "execution": {},
        "id": "m0HGuw0t4ii0"
      },
      "source": [
        "We next study if the input current is temporally correlated and is modeled as an Ornstein-Uhlenbeck process $\\eta(t)$, i.e., low-pass filtered GWN with a time constant $\\tau_{\\eta}$: \n",
        "\n",
        "$$\\tau_\\eta \\frac{d}{dt}\\eta(t) = \\mu-\\eta(t) + \\sigma_\\eta\\sqrt{2\\tau_\\eta}\\xi(t).$$\n",
        "\n",
        "**Hint:** An OU process as defined above has\n",
        "\n",
        "$$E[\\eta(t)]=\\mu$$ \n",
        "\n",
        "and autocovariance \n",
        "\n",
        "$$[\\eta(t)\\eta(t+\\tau)]=\\sigma_\\eta^2e^{-|t-\\tau|/\\tau_\\eta},$$\n",
        "\n",
        "which can be used to check your code. "
      ]
    },
    {
      "cell_type": "code",
      "metadata": {
        "cellView": "form",
        "execution": {},
        "id": "FP61XwYw4ii1"
      },
      "source": [
        "# @markdown Execute this cell to get helper function `my_OU`\n",
        "\n",
        "\n",
        "def my_OU(pars, mu, sig, myseed=False):\n",
        "  \"\"\"\n",
        "  Function that produces Ornstein-Uhlenbeck input\n",
        "\n",
        "  Args:\n",
        "    pars       : parameter dictionary\n",
        "    sig        : noise amplitute\n",
        "    myseed     : random seed. int or boolean\n",
        "\n",
        "  Returns:\n",
        "    I_ou       : Ornstein-Uhlenbeck input current\n",
        "  \"\"\"\n",
        "\n",
        "  # Retrieve simulation parameters\n",
        "  dt, range_t = pars['dt'], pars['range_t']\n",
        "  Lt = range_t.size\n",
        "  tau_ou = pars['tau_ou']  # [ms]\n",
        "\n",
        "  # set random seed\n",
        "  if myseed:\n",
        "    np.random.seed(seed=myseed)\n",
        "  else:\n",
        "    np.random.seed()\n",
        "\n",
        "  # Initialize\n",
        "  noise = np.random.randn(Lt)\n",
        "  I_ou = np.zeros(Lt)\n",
        "  I_ou[0] = noise[0] * sig\n",
        "\n",
        "  # generate OU\n",
        "  for it in range(Lt-1):\n",
        "    I_ou[it+1] = I_ou[it] + (dt / tau_ou) * (mu - I_ou[it]) + np.sqrt(2 * dt / tau_ou) * sig * noise[it + 1]\n",
        "\n",
        "  return I_ou\n",
        "\n",
        "\n",
        "help(my_OU)"
      ],
      "execution_count": null,
      "outputs": []
    },
    {
      "cell_type": "markdown",
      "metadata": {
        "execution": {},
        "id": "17kjN3Y34ii1"
      },
      "source": [
        "### Bonus Interactive Demo 1: LIF Explorer with OU input\n",
        "In the following, we will check how a neuron responds to a noisy current that follows the statistics of an OU process.\n",
        "\n",
        "-  How does the OU type input change neuron responsiveness? \n",
        "-  What do you think will happen to the spike pattern and rate if you increased or decreased the time constant of the OU process?"
      ]
    },
    {
      "cell_type": "code",
      "metadata": {
        "cellView": "form",
        "execution": {},
        "id": "AznXyKih4ii1"
      },
      "source": [
        "# @title\n",
        "\n",
        "# @markdown Remember to enable the widget by running the cell!\n",
        "\n",
        "my_layout.width = '450px'\n",
        "@widgets.interact(\n",
        "  tau_ou=widgets.FloatSlider(10.0, min=5., max=20.,\n",
        "                             step=2.5, layout=my_layout),\n",
        "  sig_ou=widgets.FloatSlider(10.0, min=5., max=40.,\n",
        "                             step=2.5, layout=my_layout),\n",
        "  mu_ou=widgets.FloatSlider(190.0, min=180., max=220.,\n",
        "                            step=2.5, layout=my_layout)\n",
        ")\n",
        "\n",
        "\n",
        "def LIF_with_OU(tau_ou=10., sig_ou=40., mu_ou=200.):\n",
        "  pars = default_pars(T=1000.)\n",
        "  pars['tau_ou'] = tau_ou  # [ms]\n",
        "\n",
        "  I_ou = my_OU(pars, mu_ou, sig_ou)\n",
        "\n",
        "  v, sp = run_LIF(pars, Iinj=I_ou)\n",
        "\n",
        "  plt.figure(figsize=(12, 4))\n",
        "  plt.subplot(121)\n",
        "  plt.plot(pars['range_t'], I_ou, 'b', lw=1.0)\n",
        "  plt.xlabel('Time (ms)')\n",
        "  plt.ylabel(r'$I_{\\mathrm{OU}}$ (pA)')\n",
        "  plt.subplot(122)\n",
        "  plot_volt_trace(pars, v, sp)\n",
        "  plt.tight_layout()\n",
        "  plt.show()"
      ],
      "execution_count": null,
      "outputs": []
    },
    {
      "cell_type": "markdown",
      "metadata": {
        "execution": {},
        "id": "Q2bYEL1d4ii2"
      },
      "source": [
        "[*Click for solution*](https://github.com/NeuromatchAcademy/course-content/tree/master//tutorials/W2D3_BiologicalNeuronModels/solutions/W2D3_Tutorial1_Solution_cf5b6a80.py)\n",
        "\n"
      ]
    },
    {
      "cell_type": "markdown",
      "metadata": {
        "execution": {},
        "id": "BYtSvOWW4ii2"
      },
      "source": [
        "---\n",
        "## Bonus Section 2: Generalized Integrate-and-Fire models\n",
        "\n",
        "LIF model is not the only abstraction of real neurons. If you want to learn about more realistic types of neuronal models, watch the Bonus Video!"
      ]
    },
    {
      "cell_type": "code",
      "metadata": {
        "cellView": "form",
        "execution": {},
        "id": "3zw8dUGk4ii3"
      },
      "source": [
        "# @title Video 3 (Bonus): Extensions to Integrate-and-Fire models\n",
        "from ipywidgets import widgets\n",
        "\n",
        "out2 = widgets.Output()\n",
        "with out2:\n",
        "  from IPython.display import IFrame\n",
        "  class BiliVideo(IFrame):\n",
        "      def __init__(self, id, page=1, width=400, height=300, **kwargs):\n",
        "          self.id=id\n",
        "          src = 'https://player.bilibili.com/player.html?bvid={0}&page={1}'.format(id, page)\n",
        "          super(BiliVideo, self).__init__(src, width, height, **kwargs)\n",
        "\n",
        "  video = BiliVideo(id=\"\", width=854, height=480, fs=1)\n",
        "  print('Video available at https://www.bilibili.com/video/{0}'.format(video.id))\n",
        "  display(video)\n",
        "\n",
        "out1 = widgets.Output()\n",
        "with out1:\n",
        "  from IPython.display import YouTubeVideo\n",
        "  video = YouTubeVideo(id=\"G0b6wLhuQxE\", width=854, height=480, fs=1, rel=0)\n",
        "  print('Video available at https://youtube.com/watch?v=' + video.id)\n",
        "  display(video)\n",
        "\n",
        "out = widgets.Tab([out1, out2])\n",
        "out.set_title(0, 'Youtube')\n",
        "out.set_title(1, 'Bilibili')\n",
        "\n",
        "display(out)"
      ],
      "execution_count": null,
      "outputs": []
    }
  ]
}