{
  "nbformat": 4,
  "nbformat_minor": 0,
  "metadata": {
    "colab": {
      "name": "W2D3_Tutorial3",
      "provenance": [],
      "collapsed_sections": [],
      "toc_visible": true,
      "include_colab_link": true
    },
    "kernel": {
      "display_name": "Python 3",
      "language": "python",
      "name": "python3"
    },
    "kernelspec": {
      "display_name": "Python 3",
      "name": "python3"
    },
    "language_info": {
      "codemirror_mode": {
        "name": "ipython",
        "version": 3
      },
      "file_extension": ".py",
      "mimetype": "text/x-python",
      "name": "python",
      "nbconvert_exporter": "python",
      "pygments_lexer": "ipython3",
      "version": "3.7.10"
    },
    "widgets": {
      "application/vnd.jupyter.widget-state+json": {
        "da01e05d31614b539bf06030d73f43ed": {
          "model_module": "@jupyter-widgets/controls",
          "model_name": "TabModel",
          "state": {
            "_view_name": "TabView",
            "_dom_classes": [],
            "_titles": {
              "0": "Youtube",
              "1": "Bilibili"
            },
            "_model_name": "TabModel",
            "_view_module": "@jupyter-widgets/controls",
            "selected_index": 0,
            "_model_module_version": "1.5.0",
            "_view_count": null,
            "_view_module_version": "1.5.0",
            "box_style": "",
            "layout": "IPY_MODEL_68c397cc967f42cdbd29ea77911543f2",
            "_model_module": "@jupyter-widgets/controls",
            "children": [
              "IPY_MODEL_4eb82cde320645f8951d1e720144c7ca",
              "IPY_MODEL_b7fb0e099b62424da9c19112b09ae746"
            ]
          }
        },
        "68c397cc967f42cdbd29ea77911543f2": {
          "model_module": "@jupyter-widgets/base",
          "model_name": "LayoutModel",
          "state": {
            "_view_name": "LayoutView",
            "grid_template_rows": null,
            "right": null,
            "justify_content": null,
            "_view_module": "@jupyter-widgets/base",
            "overflow": null,
            "_model_module_version": "1.2.0",
            "_view_count": null,
            "flex_flow": null,
            "width": null,
            "min_width": null,
            "border": null,
            "align_items": null,
            "bottom": null,
            "_model_module": "@jupyter-widgets/base",
            "top": null,
            "grid_column": null,
            "overflow_y": null,
            "overflow_x": null,
            "grid_auto_flow": null,
            "grid_area": null,
            "grid_template_columns": null,
            "flex": null,
            "_model_name": "LayoutModel",
            "justify_items": null,
            "grid_row": null,
            "max_height": null,
            "align_content": null,
            "visibility": null,
            "align_self": null,
            "height": null,
            "min_height": null,
            "padding": null,
            "grid_auto_rows": null,
            "grid_gap": null,
            "max_width": null,
            "order": null,
            "_view_module_version": "1.2.0",
            "grid_template_areas": null,
            "object_position": null,
            "object_fit": null,
            "grid_auto_columns": null,
            "margin": null,
            "display": null,
            "left": null
          }
        },
        "4eb82cde320645f8951d1e720144c7ca": {
          "model_module": "@jupyter-widgets/output",
          "model_name": "OutputModel",
          "state": {
            "_view_name": "OutputView",
            "msg_id": "",
            "_dom_classes": [],
            "_model_name": "OutputModel",
            "outputs": [
              {
                "output_type": "stream",
                "metadata": {
                  "tags": []
                },
                "text": "Video available at https://youtube.com/watch?v=Hbz2lj2AO_0\n",
                "stream": "stdout"
              },
              {
                "output_type": "display_data",
                "metadata": {
                  "tags": []
                },
                "text/html": "\n        <iframe\n            width=\"854\"\n            height=\"480\"\n            src=\"https://www.youtube.com/embed/Hbz2lj2AO_0?fs=1&rel=0\"\n            frameborder=\"0\"\n            allowfullscreen\n        ></iframe>\n        ",
                "text/plain": "<IPython.lib.display.YouTubeVideo at 0x7f4b1593cb10>",
                "image/jpeg": "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\n"
              }
            ],
            "_view_module": "@jupyter-widgets/output",
            "_model_module_version": "1.0.0",
            "_view_count": null,
            "_view_module_version": "1.0.0",
            "layout": "IPY_MODEL_e64f4ebf0c8745da8e4a9e1a87e71ec4",
            "_model_module": "@jupyter-widgets/output"
          }
        },
        "b7fb0e099b62424da9c19112b09ae746": {
          "model_module": "@jupyter-widgets/output",
          "model_name": "OutputModel",
          "state": {
            "_view_name": "OutputView",
            "msg_id": "",
            "_dom_classes": [],
            "_model_name": "OutputModel",
            "outputs": [
              {
                "output_type": "stream",
                "metadata": {
                  "tags": []
                },
                "text": "Video available at https://www.bilibili.com/video/BV1dz4y1D7zu\n",
                "stream": "stdout"
              },
              {
                "output_type": "display_data",
                "metadata": {
                  "tags": []
                },
                "text/html": "\n        <iframe\n            width=\"854\"\n            height=\"480\"\n            src=\"https://player.bilibili.com/player.html?bvid=BV1dz4y1D7zu&page=1?fs=1\"\n            frameborder=\"0\"\n            allowfullscreen\n        ></iframe>\n        ",
                "text/plain": "<__main__.BiliVideo at 0x7f4b1bc52550>"
              }
            ],
            "_view_module": "@jupyter-widgets/output",
            "_model_module_version": "1.0.0",
            "_view_count": null,
            "_view_module_version": "1.0.0",
            "layout": "IPY_MODEL_9c4ea83919434d70bf4a4a66e7d7d662",
            "_model_module": "@jupyter-widgets/output"
          }
        },
        "e64f4ebf0c8745da8e4a9e1a87e71ec4": {
          "model_module": "@jupyter-widgets/base",
          "model_name": "LayoutModel",
          "state": {
            "_view_name": "LayoutView",
            "grid_template_rows": null,
            "right": null,
            "justify_content": null,
            "_view_module": "@jupyter-widgets/base",
            "overflow": null,
            "_model_module_version": "1.2.0",
            "_view_count": null,
            "flex_flow": null,
            "width": null,
            "min_width": null,
            "border": null,
            "align_items": null,
            "bottom": null,
            "_model_module": "@jupyter-widgets/base",
            "top": null,
            "grid_column": null,
            "overflow_y": null,
            "overflow_x": null,
            "grid_auto_flow": null,
            "grid_area": null,
            "grid_template_columns": null,
            "flex": null,
            "_model_name": "LayoutModel",
            "justify_items": null,
            "grid_row": null,
            "max_height": null,
            "align_content": null,
            "visibility": null,
            "align_self": null,
            "height": null,
            "min_height": null,
            "padding": null,
            "grid_auto_rows": null,
            "grid_gap": null,
            "max_width": null,
            "order": null,
            "_view_module_version": "1.2.0",
            "grid_template_areas": null,
            "object_position": null,
            "object_fit": null,
            "grid_auto_columns": null,
            "margin": null,
            "display": null,
            "left": null
          }
        },
        "9c4ea83919434d70bf4a4a66e7d7d662": {
          "model_module": "@jupyter-widgets/base",
          "model_name": "LayoutModel",
          "state": {
            "_view_name": "LayoutView",
            "grid_template_rows": null,
            "right": null,
            "justify_content": null,
            "_view_module": "@jupyter-widgets/base",
            "overflow": null,
            "_model_module_version": "1.2.0",
            "_view_count": null,
            "flex_flow": null,
            "width": null,
            "min_width": null,
            "border": null,
            "align_items": null,
            "bottom": null,
            "_model_module": "@jupyter-widgets/base",
            "top": null,
            "grid_column": null,
            "overflow_y": null,
            "overflow_x": null,
            "grid_auto_flow": null,
            "grid_area": null,
            "grid_template_columns": null,
            "flex": null,
            "_model_name": "LayoutModel",
            "justify_items": null,
            "grid_row": null,
            "max_height": null,
            "align_content": null,
            "visibility": null,
            "align_self": null,
            "height": null,
            "min_height": null,
            "padding": null,
            "grid_auto_rows": null,
            "grid_gap": null,
            "max_width": null,
            "order": null,
            "_view_module_version": "1.2.0",
            "grid_template_areas": null,
            "object_position": null,
            "object_fit": null,
            "grid_auto_columns": null,
            "margin": null,
            "display": null,
            "left": null
          }
        }
      }
    }
  },
  "cells": [
    {
      "cell_type": "markdown",
      "metadata": {
        "id": "view-in-github",
        "colab_type": "text"
      },
      "source": [
        "<a href=\"https://colab.research.google.com/github/luisarai/NMA2021/blob/main/tutorials/W2D3_BiologicalNeuronModels/student/W2D3_Tutorial3.ipynb\" target=\"_parent\"><img src=\"https://colab.research.google.com/assets/colab-badge.svg\" alt=\"Open In Colab\"/></a>"
      ]
    },
    {
      "cell_type": "markdown",
      "metadata": {
        "execution": {},
        "id": "Ccdl4Tvp1Kop"
      },
      "source": [
        "# Tutorial 3: Synaptic transmission - Models of static and dynamic synapses\n",
        "**Week 2, Day 3: Biological Neuron Models**\n",
        "\n",
        "**By Neuromatch Academy**\n",
        "\n",
        "__Content creators:__ Qinglong Gu, Songtin Li, John Murray, Richard Naud, Arvind Kumar\n",
        "\n",
        "__Content reviewers:__  Maryam Vaziri-Pashkam, Ella Batty, Lorenzo Fontolan, Richard Gao, Matthew Krause, Spiros Chavlis, Michael Waskom"
      ]
    },
    {
      "cell_type": "markdown",
      "metadata": {
        "execution": {},
        "id": "bGFZkgKo1Kos"
      },
      "source": [
        "**Our 2021 Sponsors, including Presenting Sponsor Facebook Reality Labs**\n",
        "\n",
        "<p align='center'><img src='https://github.com/NeuromatchAcademy/widgets/blob/master/sponsors.png?raw=True'/></p>"
      ]
    },
    {
      "cell_type": "markdown",
      "metadata": {
        "execution": {},
        "id": "ft0TB0sj1Kou"
      },
      "source": [
        "---\n",
        "# Tutorial Objectives\n",
        "\n",
        "*Estimated timing of tutorial: 1 hour, 10 min*\n",
        "\n",
        "Synapses connect neurons into neural networks or circuits. Specialized electrical synapses make direct, physical connections between neurons. In this tutorial, however, we will focus on **chemical synapses**, which are more common in the brain. These synapses do not physically join neurons. Instead, a spike in the presynaptic cell causes a chemical, or neurotransmitter, to be released into a small space between the neurons called the synaptic cleft. Once the chemical diffuses across that space, it changes the pearmeability of the postsynaptic membrane, which may result in a positive or negative change in the membrane voltage.\n",
        "\n",
        "In this tutorial, we will model chemical synaptic transmission and study some interesting effects produced by **static synapses** and **dynamic synapses**.\n",
        "\n",
        "First, we will start by writing code to simulate static synapses -- whose weight is always fixed. \n",
        "Next, we will extend the model and model **dynamic synapses** -- whose synaptic strength is dependent on the recent spike history: synapses can either progressively increase or decrease the size of their effects on the post-synaptic neuron, based on the recent firing rate of its presynaptic partners. This feature of synapses in the brain is called **Short-Term Plasticity** and causes synapses to undergo *Facilitation* or *Depression*. \n",
        "\n",
        "Our goals for this tutorial are to:\n",
        "\n",
        "- simulate static synapses and study how excitation and inhibition affect the patterns in the neurons' spiking output\n",
        "- define mean- or fluctuation-driven regimes\n",
        "- simulate short-term dynamics of synapses (facilitation and depression)\n",
        "- study how a change in pre-synaptic firing history affects the synaptic weights (i.e., PSP amplitude)"
      ]
    },
    {
      "cell_type": "code",
      "metadata": {
        "cellView": "form",
        "execution": {},
        "id": "DvTrn9kG1Kov"
      },
      "source": [
        "# @title Tutorial slides\n",
        "\n",
        "# @markdown These are the slides for the videos in all tutorials today\n",
        "from IPython.display import IFrame\n",
        "IFrame(src=f\"https://mfr.ca-1.osf.io/render?url=https://osf.io/8djsm/?direct%26mode=render%26action=download%26mode=render\", width=854, height=480)"
      ],
      "execution_count": null,
      "outputs": []
    },
    {
      "cell_type": "code",
      "metadata": {
        "cellView": "form",
        "execution": {},
        "id": "J8SnMlOs1Kox",
        "outputId": "f9ab1b80-2cac-4182-88be-23b6d41b32d0",
        "colab": {
          "base_uri": "https://localhost:8080/",
          "height": 581,
          "referenced_widgets": [
            "da01e05d31614b539bf06030d73f43ed",
            "68c397cc967f42cdbd29ea77911543f2",
            "4eb82cde320645f8951d1e720144c7ca",
            "b7fb0e099b62424da9c19112b09ae746",
            "e64f4ebf0c8745da8e4a9e1a87e71ec4",
            "9c4ea83919434d70bf4a4a66e7d7d662"
          ]
        }
      },
      "source": [
        "# @title Video 1: Static and dynamic synapses\n",
        "from ipywidgets import widgets\n",
        "\n",
        "out2 = widgets.Output()\n",
        "with out2:\n",
        "  from IPython.display import IFrame\n",
        "  class BiliVideo(IFrame):\n",
        "      def __init__(self, id, page=1, width=400, height=300, **kwargs):\n",
        "          self.id=id\n",
        "          src = 'https://player.bilibili.com/player.html?bvid={0}&page={1}'.format(id, page)\n",
        "          super(BiliVideo, self).__init__(src, width, height, **kwargs)\n",
        "\n",
        "  video = BiliVideo(id=\"BV1dz4y1D7zu\", width=854, height=480, fs=1)\n",
        "  print('Video available at https://www.bilibili.com/video/{0}'.format(video.id))\n",
        "  display(video)\n",
        "\n",
        "out1 = widgets.Output()\n",
        "with out1:\n",
        "  from IPython.display import YouTubeVideo\n",
        "  video = YouTubeVideo(id=\"Hbz2lj2AO_0\", width=854, height=480, fs=1, rel=0)\n",
        "  print('Video available at https://youtube.com/watch?v=' + video.id)\n",
        "  display(video)\n",
        "\n",
        "out = widgets.Tab([out1, out2])\n",
        "out.set_title(0, 'Youtube')\n",
        "out.set_title(1, 'Bilibili')\n",
        "\n",
        "display(out)"
      ],
      "execution_count": 1,
      "outputs": [
        {
          "output_type": "display_data",
          "data": {
            "application/vnd.jupyter.widget-view+json": {
              "model_id": "da01e05d31614b539bf06030d73f43ed",
              "version_minor": 0,
              "version_major": 2
            },
            "text/plain": [
              "Tab(children=(Output(), Output()), _titles={'0': 'Youtube', '1': 'Bilibili'})"
            ]
          },
          "metadata": {
            "tags": []
          }
        }
      ]
    },
    {
      "cell_type": "markdown",
      "metadata": {
        "execution": {},
        "id": "B7DgP4ok1Koy"
      },
      "source": [
        "---\n",
        "# Setup\n"
      ]
    },
    {
      "cell_type": "code",
      "metadata": {
        "execution": {},
        "id": "iAL0GK4d1Koy"
      },
      "source": [
        "# Imports\n",
        "\n",
        "import matplotlib.pyplot as plt\n",
        "import numpy as np"
      ],
      "execution_count": null,
      "outputs": []
    },
    {
      "cell_type": "code",
      "metadata": {
        "cellView": "form",
        "execution": {},
        "id": "pM9n26Q11Koz"
      },
      "source": [
        "# @title Figure Settings\n",
        "import ipywidgets as widgets       # interactive display\n",
        "%config InlineBackend.figure_format='retina'\n",
        "# use NMA plot style\n",
        "plt.style.use(\"https://raw.githubusercontent.com/NeuromatchAcademy/course-content/master/nma.mplstyle\")\n",
        "my_layout = widgets.Layout()"
      ],
      "execution_count": null,
      "outputs": []
    },
    {
      "cell_type": "code",
      "metadata": {
        "cellView": "form",
        "execution": {},
        "id": "GmwFM12-1Ko0"
      },
      "source": [
        "# @title Plotting Functions\n",
        "\n",
        "def my_illus_LIFSYN(pars, v_fmp, v):\n",
        "  \"\"\"\n",
        "  Illustartion of FMP and membrane voltage\n",
        "\n",
        "  Args:\n",
        "    pars  : parameters dictionary\n",
        "    v_fmp : free membrane potential, mV\n",
        "    v     : membrane voltage, mV\n",
        "\n",
        "  Returns:\n",
        "    plot of membrane voltage and FMP, alongside with the spiking threshold\n",
        "    and the mean FMP (dashed lines)\n",
        "  \"\"\"\n",
        "\n",
        "  plt.figure(figsize=(14, 5))\n",
        "  plt.plot(pars['range_t'], v_fmp, 'r', lw=1.,\n",
        "           label='Free mem. pot.', zorder=2)\n",
        "  plt.plot(pars['range_t'], v, 'b', lw=1.,\n",
        "           label='True mem. pot', zorder=1, alpha=0.7)\n",
        "  plt.axhline(-55, 0, 1, color='k', lw=2., ls='--',\n",
        "              label='Spike Threshold', zorder=1)\n",
        "  plt.axhline(np.mean(v_fmp), 0, 1, color='r', lw=2., ls='--',\n",
        "              label='Mean Free Mem. Pot.', zorder=1)\n",
        "  plt.xlabel('Time (ms)')\n",
        "  plt.ylabel('V (mV)')\n",
        "  plt.legend(loc=[1.02, 0.68])\n",
        "  plt.show()\n",
        "\n",
        "\n",
        "def my_illus_STD(Poi_or_reg=False, rate=20., U0=0.5,\n",
        "                 tau_d=100., tau_f=50., plot_out=True):\n",
        "  \"\"\"\n",
        "   Only for one presynaptic train\n",
        "\n",
        "  Args:\n",
        "    Poi_or_reg : Poisson or regular input spiking trains\n",
        "    rate       : Rate of input spikes, Hz\n",
        "    U0         : synaptic release probability at rest\n",
        "    tau_d      : synaptic depression time constant of x [ms]\n",
        "    tau_f      : synaptic facilitation time constantr of u [ms]\n",
        "    plot_out   : whether ot not to plot, True or False\n",
        "\n",
        "  Returns:\n",
        "    Nothing.\n",
        "  \"\"\"\n",
        "\n",
        "  T_simu = 10.0 * 1000 / (1.0 * rate)  # 10 spikes in the time window\n",
        "  pars = default_pars(T=T_simu)\n",
        "  dt = pars['dt']\n",
        "\n",
        "  if Poi_or_reg:\n",
        "    # Poisson type spike train\n",
        "    pre_spike_train = Poisson_generator(pars, rate, n=1)\n",
        "    pre_spike_train = pre_spike_train.sum(axis=0)\n",
        "  else:\n",
        "    # Regular firing rate\n",
        "    isi_num = int((1e3/rate)/dt)  # number of dt\n",
        "    pre_spike_train = np.zeros(len(pars['range_t']))\n",
        "    pre_spike_train[::isi_num] = 1.\n",
        "\n",
        "  u, R, g = dynamic_syn(g_bar=1.2, tau_syn=5., U0=U0,\n",
        "                        tau_d=tau_d, tau_f=tau_f,\n",
        "                        pre_spike_train=pre_spike_train,\n",
        "                        dt=pars['dt'])\n",
        "\n",
        "  if plot_out:\n",
        "    plt.figure(figsize=(12, 6))\n",
        "\n",
        "    plt.subplot(221)\n",
        "    plt.plot(pars['range_t'], R, 'b', label='R')\n",
        "    plt.plot(pars['range_t'], u, 'r', label='u')\n",
        "    plt.legend(loc='best')\n",
        "    plt.xlim((0, pars['T']))\n",
        "    plt.ylabel(r'$R$ or $u$ (a.u)')\n",
        "    plt.subplot(223)\n",
        "    spT = pre_spike_train > 0\n",
        "    t_sp = pars['range_t'][spT]  #spike times\n",
        "    plt.plot(t_sp, 0. * np.ones(len(t_sp)), 'k|', ms=18, markeredgewidth=2)\n",
        "    plt.xlabel('Time (ms)');\n",
        "    plt.xlim((0, pars['T']))\n",
        "    plt.yticks([])\n",
        "    plt.title('Presynaptic spikes')\n",
        "\n",
        "    plt.subplot(122)\n",
        "    plt.plot(pars['range_t'], g, 'r', label='STP synapse')\n",
        "    plt.xlabel('Time (ms)')\n",
        "    plt.ylabel('g (nS)')\n",
        "    plt.xlim((0, pars['T']))\n",
        "\n",
        "    plt.tight_layout()\n",
        "\n",
        "  if not Poi_or_reg:\n",
        "    return g[isi_num], g[9*isi_num]\n",
        "\n",
        "\n",
        "def plot_volt_trace(pars, v, sp):\n",
        "  \"\"\"\n",
        "  Plot trajetory of membrane potential for a single neuron\n",
        "\n",
        "  Args:\n",
        "    pars   : parameter dictionary\n",
        "    v      : volt trajetory\n",
        "    sp     : spike train\n",
        "\n",
        "  Returns:\n",
        "    figure of the membrane potential trajetory for a single neuron\n",
        "  \"\"\"\n",
        "\n",
        "  V_th = pars['V_th']\n",
        "  dt = pars['dt']\n",
        "  if sp.size:\n",
        "      sp_num = (sp/dt).astype(int) - 1\n",
        "      v[sp_num] += 10\n",
        "\n",
        "  plt.plot(pars['range_t'], v, 'b')\n",
        "  plt.axhline(V_th, 0, 1, color='k', ls='--', lw=1.)\n",
        "  plt.xlabel('Time (ms)')\n",
        "  plt.ylabel('V (mV)')"
      ],
      "execution_count": null,
      "outputs": []
    },
    {
      "cell_type": "code",
      "metadata": {
        "cellView": "form",
        "execution": {},
        "id": "kJLzOmNx1Ko1"
      },
      "source": [
        "# @title Helper Functions\n",
        "\n",
        "\n",
        "def my_GWN(pars, mu, sig, myseed=False):\n",
        "  \"\"\"\n",
        "  Args:\n",
        "    pars       : parameter dictionary\n",
        "    mu         : noise baseline (mean)\n",
        "    sig        : noise amplitute (standard deviation)\n",
        "    myseed     : random seed. int or boolean\n",
        "                  the same seed will give the same random number sequence\n",
        "\n",
        "  Returns:\n",
        "    I          : Gaussian White Noise (GWN) input\n",
        "  \"\"\"\n",
        "\n",
        "  # Retrieve simulation parameters\n",
        "  dt, range_t = pars['dt'], pars['range_t']\n",
        "  Lt = range_t.size\n",
        "\n",
        "  # set random seed\n",
        "  # you can fix the seed of the random number generator so that the results\n",
        "  # are reliable. However, when you want to generate multiple realizations\n",
        "  # make sure that you change the seed for each new realization.\n",
        "  if myseed:\n",
        "      np.random.seed(seed=myseed)\n",
        "  else:\n",
        "      np.random.seed()\n",
        "\n",
        "  # generate GWN\n",
        "  # we divide here by 1000 to convert units to seconds.\n",
        "  I_GWN = mu + sig * np.random.randn(Lt) / np.sqrt(dt / 1000.)\n",
        "\n",
        "  return I_GWN\n",
        "\n",
        "\n",
        "def Poisson_generator(pars, rate, n, myseed=False):\n",
        "  \"\"\"\n",
        "  Generates poisson trains\n",
        "\n",
        "  Args:\n",
        "    pars       : parameter dictionary\n",
        "    rate       : noise amplitute [Hz]\n",
        "    n          : number of Poisson trains\n",
        "    myseed     : random seed. int or boolean\n",
        "\n",
        "  Returns:\n",
        "    pre_spike_train : spike train matrix, ith row represents whether\n",
        "                      there is a spike in ith spike train over time\n",
        "                      (1 if spike, 0 otherwise)\n",
        "  \"\"\"\n",
        "\n",
        "  # Retrieve simulation parameters\n",
        "  dt, range_t = pars['dt'], pars['range_t']\n",
        "  Lt = range_t.size\n",
        "\n",
        "  # set random seed\n",
        "  if myseed:\n",
        "      np.random.seed(seed=myseed)\n",
        "  else:\n",
        "      np.random.seed()\n",
        "\n",
        "  # generate uniformly distributed random variables\n",
        "  u_rand = np.random.rand(n, Lt)\n",
        "\n",
        "  # generate Poisson train\n",
        "  poisson_train = 1. * (u_rand < rate * (dt / 1000.))\n",
        "\n",
        "  return poisson_train\n",
        "\n",
        "\n",
        "def default_pars(**kwargs):\n",
        "  pars = {}\n",
        "\n",
        "  ### typical neuron parameters###\n",
        "  pars['V_th'] = -55.    # spike threshold [mV]\n",
        "  pars['V_reset'] = -75. # reset potential [mV]\n",
        "  pars['tau_m'] = 10.    # membrane time constant [ms]\n",
        "  pars['g_L'] = 10.      # leak conductance [nS]\n",
        "  pars['V_init'] = -65.  # initial potential [mV]\n",
        "  pars['E_L'] = -75.     # leak reversal potential [mV]\n",
        "  pars['tref'] = 2.      # refractory time (ms)\n",
        "\n",
        "  ### simulation parameters ###\n",
        "  pars['T'] = 400.  # Total duration of simulation [ms]\n",
        "  pars['dt'] = .1   # Simulation time step [ms]\n",
        "\n",
        "  ### external parameters if any ###\n",
        "  for k in kwargs:\n",
        "    pars[k] = kwargs[k]\n",
        "\n",
        "  pars['range_t'] = np.arange(0, pars['T'], pars['dt'])  # Vector of discretized time points [ms]\n",
        "\n",
        "  return pars"
      ],
      "execution_count": null,
      "outputs": []
    },
    {
      "cell_type": "markdown",
      "metadata": {
        "execution": {},
        "id": "V-1mtim81Ko2"
      },
      "source": [
        "In the `Helper Function`:\n",
        "\n",
        "- Gaussian white noise generator: `my_GWN(pars, mu, sig, myseed=False)`\n",
        "- Poissonian spike train generator: `Poisson_generator(pars, rate, n, myseed=False)`\n",
        "- default parameter function (as before) "
      ]
    },
    {
      "cell_type": "markdown",
      "metadata": {
        "execution": {},
        "id": "uoC-vb491Ko3"
      },
      "source": [
        "---\n",
        "# Section 1: Static synapses\n",
        "\n",
        "*Estimated timing to here from start of tutorial: 20 min*"
      ]
    },
    {
      "cell_type": "markdown",
      "metadata": {
        "execution": {},
        "id": "FSH074ov1Ko3"
      },
      "source": [
        "## Section 1.1: Simulate synaptic conductance dynamics\n",
        "\n",
        "Synaptic input _in vivo_ consists of a mixture of **excitatory** neurotransmitters, which depolarizes the cell and drives it towards spike threshold, and **inhibitory** neurotransmitters that hyperpolarize it, driving it away from spike threshold. These chemicals cause specific ion channels on the postsynaptic neuron to open, resulting in a change in that neuron's conductance and, therefore, the flow of current in or out of the cell.\n",
        "\n",
        "This process can be modelled by assuming that the presynaptic neuron's spiking activity produces transient changes in the postsynaptic neuron's conductance ($g_{\\rm syn}(t)$). Typically, the conductance transient is modeled as an exponential function. \n",
        "\n",
        "Such conductance transients can be generated using a simple ordinary differential equation (ODE):\n",
        "\n",
        "\\\\\n",
        "\n",
        "\\begin{eqnarray}\n",
        "\\frac{dg_{\\rm syn}(t)}{dt} &=& \\bar{g}_{\\rm syn} \\sum_k \\delta(t-t_k) -g_{\\rm syn}(t)/\\tau_{\\rm syn}\n",
        "\\end{eqnarray}\n",
        "\n",
        "\\\\\n",
        "\n",
        "where $\\bar{g}_{\\rm syn}$ (often referred to as synaptic weight) is the maximum conductance elicited by each incoming spike, and $\\tau_{\\rm syn}$ is the synaptic time constant. Note that the summation runs over all spikes received by the neuron at time $t_k$.\n",
        "\n",
        "Ohm's law allows us to convert conductance changes to the current as:\n",
        "\n",
        "\\\\\n",
        "\n",
        "\\begin{align}\n",
        "I_{\\rm syn}(t) = g_{\\rm syn}(t)(V(t)-E_{\\rm syn})  \\\\\n",
        "\\end{align}\n",
        "\n",
        "\\\\\n",
        "\n",
        "The reversal potential $E_{\\rm syn}$ determines the direction of current flow and the excitatory or inhibitory nature of the synapse. \n",
        "\n",
        "**Thus, incoming spikes are filtered by an exponential-shaped kernel, effectively low-pass filtering the input. In other words, synaptic input is not white noise, but it is, in fact, colored noise, where the color (spectrum) of the noise is determined by the synaptic time constants of both excitatory and inhibitory synapses.**\n",
        "\n",
        "In a neuronal network, the total synaptic input current $I_{\\rm syn}$ is the sum of both excitatory and inhibitory inputs. Assuming the total excitatory and inhibitory conductances received at time $t$ are $g_E(t)$ and $g_I(t)$, and their corresponding reversal potentials are $E_E$ and $E_I$, respectively, then the total synaptic current can be described as: \n",
        "\n",
        "\\\\\n",
        "\n",
        "\\begin{align}\n",
        "I_{\\rm syn}(V(t),t) = -g_E(t) (V-E_E) - g_I(t) (V-E_I)\n",
        "\\end{align}\n",
        "\n",
        "\\\\\n",
        "\n",
        "Accordingly, the membrane potential dynamics of the LIF neuron under synaptic current drive become:\n",
        "\n",
        "\\\\\n",
        "\n",
        "\\begin{eqnarray}\n",
        "\\tau_m\\frac{dV(t)}{dt} = -(V(t)-E_L) - \\frac{g_E(t)}{g_L} (V(t)-E_E) - \\frac{g_I(t)}{g_L} (V(t)-E_I) + \\frac{I_{\\rm inj}}{g_L}\\quad (2)\n",
        "\\end{eqnarray}\n",
        "\n",
        "\\\\\n",
        "\n",
        "$I_{\\rm inj}$ is an external current injected in the neuron, which is under experimental control; it can be GWN, DC, or anything else.\n",
        "\n",
        "We will use Eq. (2) to simulate the conductance-based LIF neuron model below.\n",
        "\n",
        "In the previous tutorials, we saw how the output of a single neuron (spike count/rate and spike time irregularity) changes when we stimulate the neuron with DC and GWN, respectively. Now, we are in a position to study how the neuron behaves when it is bombarded with both excitatory and inhibitory spikes trains -- as happens *in vivo*.\n",
        "\n",
        "What kind of input is a neuron receiving? When we do not know, we chose the simplest option. The simplest model of input spikes is given when every input spike arrives independently of other spikes, i.e., we assume that the input is Poissonian."
      ]
    },
    {
      "cell_type": "markdown",
      "metadata": {
        "execution": {},
        "id": "sDPBs2yR1Ko4"
      },
      "source": [
        "## Section 1.2: Simulate LIF neuron with conductance-based synapses\n",
        "\n",
        "We are now ready to simulate a LIF neuron with conductance-based synaptic inputs! The following code defines the LIF neuron with synaptic input modeled as conductance transients."
      ]
    },
    {
      "cell_type": "code",
      "metadata": {
        "cellView": "form",
        "execution": {},
        "id": "1-JooXmk1Ko4"
      },
      "source": [
        "# @markdown Execute this cell to get a function for conductance-based LIF neuron (run_LIF_cond)\n",
        "\n",
        "def run_LIF_cond(pars, I_inj, pre_spike_train_ex, pre_spike_train_in):\n",
        "  \"\"\"\n",
        "  Conductance-based LIF dynamics\n",
        "\n",
        "  Args:\n",
        "    pars               : parameter dictionary\n",
        "    I_inj              : injected current [pA]. The injected current here\n",
        "                         can be a value or an array\n",
        "    pre_spike_train_ex : spike train input from presynaptic excitatory neuron\n",
        "    pre_spike_train_in : spike train input from presynaptic inhibitory neuron\n",
        "\n",
        "  Returns:\n",
        "    rec_spikes         : spike times\n",
        "    rec_v              : mebrane potential\n",
        "    gE                 : postsynaptic excitatory conductance\n",
        "    gI                 : postsynaptic inhibitory conductance\n",
        "\n",
        "  \"\"\"\n",
        "\n",
        "  # Retrieve parameters\n",
        "  V_th, V_reset = pars['V_th'], pars['V_reset']\n",
        "  tau_m, g_L = pars['tau_m'], pars['g_L']\n",
        "  V_init, E_L = pars['V_init'], pars['E_L']\n",
        "  gE_bar, gI_bar = pars['gE_bar'], pars['gI_bar']\n",
        "  VE, VI = pars['VE'], pars['VI']\n",
        "  tau_syn_E, tau_syn_I = pars['tau_syn_E'], pars['tau_syn_I']\n",
        "  tref = pars['tref']\n",
        "  dt, range_t = pars['dt'], pars['range_t']\n",
        "  Lt = range_t.size\n",
        "\n",
        "  # Initialize\n",
        "  tr = 0.\n",
        "  v = np.zeros(Lt)\n",
        "  v[0] = V_init\n",
        "  gE = np.zeros(Lt)\n",
        "  gI = np.zeros(Lt)\n",
        "  Iinj = I_inj * np.ones(Lt)  # ensure Iinj has length Lt\n",
        "\n",
        "  if pre_spike_train_ex.max() == 0:\n",
        "    pre_spike_train_ex_total = np.zeros(Lt)\n",
        "  else:\n",
        "    pre_spike_train_ex_total = pre_spike_train_ex.sum(axis=0) * np.ones(Lt)\n",
        "\n",
        "  if pre_spike_train_in.max() == 0:\n",
        "    pre_spike_train_in_total = np.zeros(Lt)\n",
        "  else:\n",
        "    pre_spike_train_in_total = pre_spike_train_in.sum(axis=0) * np.ones(Lt)\n",
        "\n",
        "  # simulation\n",
        "  rec_spikes = []  # recording spike times\n",
        "  for it in range(Lt - 1):\n",
        "    if tr > 0:\n",
        "      v[it] = V_reset\n",
        "      tr = tr - 1\n",
        "    elif v[it] >= V_th:  # reset voltage and record spike event\n",
        "      rec_spikes.append(it)\n",
        "      v[it] = V_reset\n",
        "      tr = tref / dt\n",
        "\n",
        "    # update the synaptic conductance\n",
        "    gE[it + 1] = gE[it] - (dt / tau_syn_E) * gE[it] + gE_bar * pre_spike_train_ex_total[it + 1]\n",
        "    gI[it + 1] = gI[it] - (dt / tau_syn_I) * gI[it] + gI_bar * pre_spike_train_in_total[it + 1]\n",
        "\n",
        "    # calculate the increment of the membrane potential\n",
        "    dv = (dt / tau_m) * (-(v[it] - E_L) \\\n",
        "                         - (gE[it + 1] / g_L) * (v[it] - VE) \\\n",
        "                         - (gI[it + 1] / g_L) * (v[it] - VI) + Iinj[it] / g_L)\n",
        "\n",
        "    # update membrane potential\n",
        "    v[it+1] = v[it] + dv\n",
        "\n",
        "  rec_spikes = np.array(rec_spikes) * dt\n",
        "\n",
        "  return v, rec_spikes, gE, gI\n",
        "\n",
        "\n",
        "print(help(run_LIF_cond))"
      ],
      "execution_count": null,
      "outputs": []
    },
    {
      "cell_type": "markdown",
      "metadata": {
        "execution": {},
        "id": "HR3ubJ2W1Ko5"
      },
      "source": [
        "### Coding Exercise 1.2: Measure the mean free membrane potential\n",
        "\n",
        "Let's simulate the conductance-based LIF neuron with presynaptic spike trains generated by a `Poisson_generator` with rate 10 Hz for both excitatory and inhibitory inputs. Here, we choose 80 excitatory presynaptic spike trains and 20 inhibitory ones.\n",
        "\n",
        "Previously, we've already learned that $CV_{\\rm ISI}$ can describe the irregularity of the output spike pattern. Now, we will introduce a new descriptor of the neuron membrane, i.e., the  **Free Membrane Potential (FMP)** -- the membrane potential of the neuron when its spike threshold is removed. \n",
        "\n",
        "Although this is completely artificial, calculating this quantity allows us to get an idea of how strong the input is. We are mostly interested in knowing the mean and standard deviation (std.) of the FMP. In the exercise, you can visualize the FMP and membrane voltage with spike threshold."
      ]
    },
    {
      "cell_type": "code",
      "metadata": {
        "execution": {},
        "id": "FvoTX9DT1Ko5"
      },
      "source": [
        "# Get default parameters\n",
        "pars = default_pars(T=1000.)\n",
        "\n",
        "# Add parameters\n",
        "pars['gE_bar'] = 2.4    # [nS]\n",
        "pars['VE'] = 0.         # [mV] excitatory reversal potential\n",
        "pars['tau_syn_E'] = 2.  # [ms]\n",
        "pars['gI_bar'] = 2.4    # [nS]\n",
        "pars['VI'] = -80.       # [mV] inhibitory reversal potential\n",
        "pars['tau_syn_I'] = 5.  # [ms]\n",
        "\n",
        "# Generate presynaptic spike trains\n",
        "pre_spike_train_ex = Poisson_generator(pars, rate=10, n=80)\n",
        "pre_spike_train_in = Poisson_generator(pars, rate=10, n=20)\n",
        "\n",
        "# Simulate conductance-based LIF model\n",
        "v, rec_spikes, gE, gI = run_LIF_cond(pars, 0, pre_spike_train_ex,\n",
        "                                     pre_spike_train_in)\n",
        "\n",
        "# Show spikes more clearly by setting voltage high\n",
        "dt, range_t = pars['dt'], pars['range_t']\n",
        "if rec_spikes.size:\n",
        "  sp_num = (rec_spikes / dt).astype(int) - 1\n",
        "  v[sp_num] = 10   # draw nicer spikes\n",
        "\n",
        "####################################################################\n",
        "## TODO for students: measure the free membrane potential\n",
        "# In order to measure the free membrane potential, first,\n",
        "# you should prevent the firing of the LIF neuron\n",
        "# How to prevent a LIF neuron from firing? Increase the threshold pars['V_th'].\n",
        "raise NotImplementedError(\"Student exercise: change threshold and calculate FMP\")\n",
        "####################################################################\n",
        "\n",
        "# Change the threshold\n",
        "pars['V_th'] = ...\n",
        "\n",
        "# Calculate FMP\n",
        "v_fmp, _, _, _ = run_LIF_cond(pars, ..., ..., ...)\n",
        "\n",
        "my_illus_LIFSYN(pars, v_fmp, v)"
      ],
      "execution_count": null,
      "outputs": []
    },
    {
      "cell_type": "markdown",
      "metadata": {
        "execution": {},
        "id": "GWmvK-QX1Ko6"
      },
      "source": [
        "[*Click for solution*](https://github.com/NeuromatchAcademy/course-content/tree/master//tutorials/W2D3_BiologicalNeuronModels/solutions/W2D3_Tutorial3_Solution_1248eed5.py)\n",
        "\n",
        "*Example output:*\n",
        "\n",
        "<img alt='Solution hint' align='left' width=1983.0 height=688.0 src=https://raw.githubusercontent.com/NeuromatchAcademy/course-content/master/tutorials/W2D3_BiologicalNeuronModels/static/W2D3_Tutorial3_Solution_1248eed5_0.png>\n",
        "\n"
      ]
    },
    {
      "cell_type": "markdown",
      "metadata": {
        "execution": {},
        "id": "jE-_QSfv1Ko6"
      },
      "source": [
        "### Interactive Demo 1.2: Conductance-based LIF Explorer with different E/I input\n",
        "\n",
        "In the following, we can investigate how varying the ratio of excitatory to inhibitory inputs changes the firing rate and the spike time regularity (see the output text). \n",
        "\n",
        "To change both the excitatory and inhibitory inputs, we will vary their firing rates. *However, if you wish, you can vary the strength and/or the number of these connections as well.*  \n",
        "\n",
        "Pay close attention to the mean free membrane potential (red dotted line) and its location with respect to the spike threshold (black dotted line). \n",
        "\n",
        "Is there a relationship between the mean of the FMP and spike time irregularity ($CV_{\\rm ISI}$)? What happens when the mean of the FMP is above the spike threshold vs below?"
      ]
    },
    {
      "cell_type": "code",
      "metadata": {
        "cellView": "form",
        "execution": {},
        "id": "cwLUoxia1Ko6"
      },
      "source": [
        "# @title\n",
        "\n",
        "# @markdown Make sure you execute this cell to enable the widget!\n",
        "\n",
        "my_layout.width = '450px'\n",
        "@widgets.interact(\n",
        "    inh_rate=widgets.FloatSlider(20., min=10., max=60., step=5.,\n",
        "                                 layout=my_layout),\n",
        "    exc_rate=widgets.FloatSlider(10., min=2., max=20., step=2.,\n",
        "                                 layout=my_layout)\n",
        ")\n",
        "\n",
        "\n",
        "def EI_isi_regularity(exc_rate, inh_rate):\n",
        "\n",
        "  pars = default_pars(T=1000.)\n",
        "  # Add parameters\n",
        "  pars['gE_bar'] = 3.     # [nS]\n",
        "  pars['VE'] = 0.         # [mV] excitatory reversal potential\n",
        "  pars['tau_syn_E'] = 2.  # [ms]\n",
        "  pars['gI_bar'] = 3.     # [nS]\n",
        "  pars['VI'] = -80.       # [mV] inhibitory reversal potential\n",
        "  pars['tau_syn_I'] = 5.  # [ms]\n",
        "\n",
        "  pre_spike_train_ex = Poisson_generator(pars, rate=exc_rate, n=80)\n",
        "  pre_spike_train_in = Poisson_generator(pars, rate=inh_rate, n=20)  # 4:1\n",
        "\n",
        "  # Lets first simulate a neuron with identical input but with no spike\n",
        "  # threshold by setting the threshold to a very high value\n",
        "  # so that we can look at the free membrane potential\n",
        "  pars['V_th'] = 1e3\n",
        "  v_fmp, rec_spikes, gE, gI = run_LIF_cond(pars, 0, pre_spike_train_ex,\n",
        "                                           pre_spike_train_in)\n",
        "\n",
        "  # Now simulate a LIP with a regular spike threshold\n",
        "  pars['V_th'] = -55.\n",
        "  v, rec_spikes, gE, gI = run_LIF_cond(pars, 0, pre_spike_train_ex,\n",
        "                                       pre_spike_train_in)\n",
        "  dt, range_t = pars['dt'], pars['range_t']\n",
        "  if rec_spikes.size:\n",
        "      sp_num = (rec_spikes / dt).astype(int) - 1\n",
        "      v[sp_num] = 10  # draw nicer spikes\n",
        "\n",
        "  spike_rate = 1e3 * len(rec_spikes) / pars['T']\n",
        "\n",
        "  cv_isi = 0.\n",
        "  if len(rec_spikes) > 3:\n",
        "    isi = np.diff(rec_spikes)\n",
        "    cv_isi = np.std(isi) / np.mean(isi)\n",
        "\n",
        "  print('\\n')\n",
        "  plt.figure(figsize=(15, 10))\n",
        "  plt.subplot(211)\n",
        "  plt.text(500, -35, f'Spike rate = {spike_rate:.3f} (sp/s), Mean of Free Mem Pot = {np.mean(v_fmp):.3f}',\n",
        "           fontsize=16, fontweight='bold', horizontalalignment='center',\n",
        "           verticalalignment='bottom')\n",
        "  plt.text(500, -38.5, f'CV ISI = {cv_isi:.3f}, STD of Free Mem Pot = {np.std(v_fmp):.3f}',\n",
        "           fontsize=16, fontweight='bold', horizontalalignment='center',\n",
        "           verticalalignment='bottom')\n",
        "\n",
        "  plt.plot(pars['range_t'], v_fmp, 'r', lw=1.,\n",
        "           label='Free mem. pot.', zorder=2)\n",
        "  plt.plot(pars['range_t'], v, 'b', lw=1.,\n",
        "           label='mem. pot with spk thr', zorder=1, alpha=0.7)\n",
        "  plt.axhline(pars['V_th'], 0, 1, color='k', lw=1., ls='--',\n",
        "              label='Spike Threshold', zorder=1)\n",
        "  plt.axhline(np.mean(v_fmp),0, 1, color='r', lw=1., ls='--',\n",
        "              label='Mean Free Mem. Pot.', zorder=1)\n",
        "  plt.ylim(-76, -39)\n",
        "  plt.xlabel('Time (ms)')\n",
        "  plt.ylabel('V (mV)')\n",
        "  plt.legend(loc=[1.02, 0.68])\n",
        "\n",
        "  plt.subplot(223)\n",
        "  plt.plot(pars['range_t'][::3], gE[::3], 'r', lw=1)\n",
        "  plt.xlabel('Time (ms)')\n",
        "  plt.ylabel(r'$g_E$ (nS)')\n",
        "\n",
        "  plt.subplot(224)\n",
        "  plt.plot(pars['range_t'][::3], gI[::3], 'b', lw=1)\n",
        "  plt.xlabel('Time (ms)')\n",
        "  plt.ylabel(r'$g_I$ (nS)')\n",
        "\n",
        "  plt.tight_layout()"
      ],
      "execution_count": null,
      "outputs": []
    },
    {
      "cell_type": "markdown",
      "metadata": {
        "execution": {},
        "id": "KWMErtyb1Ko7"
      },
      "source": [
        "[*Click for solution*](https://github.com/NeuromatchAcademy/course-content/tree/master//tutorials/W2D3_BiologicalNeuronModels/solutions/W2D3_Tutorial3_Solution_782020f7.py)\n",
        "\n"
      ]
    },
    {
      "cell_type": "markdown",
      "metadata": {
        "execution": {},
        "id": "kBF4vvo51Ko7"
      },
      "source": [
        "### Think! 1.2: Excitatory and Inhibitory Balance \n",
        "\n",
        "1. How much can you increase the spike pattern variability? Under what condition(s) might the neuron respond with Poisson-type spikes? Note that we injected Poisson-type spikes. (Think of the answer in terms of the ratio of the exc. and inh. input spike rates.)\n",
        "\n",
        "2. Link to the balance of excitation and inhibition: one of the definitions of excitation and inhibition balance is that mean free membrane potential remains constant as excitatory and inhibitory input rates are increased. What do you think happens to the neuron firing rate as we change excitatory and inhibitory rates while keeping the neuron in balance?  See [Kuhn, Aertsen, and Rotter (2004)](https://www.jneurosci.org/content/jneuro/24/10/2345.full.pdf) for much more on this."
      ]
    },
    {
      "cell_type": "markdown",
      "metadata": {
        "execution": {},
        "id": "ZzM1BPAQ1Ko8"
      },
      "source": [
        "[*Click for solution*](https://github.com/NeuromatchAcademy/course-content/tree/master//tutorials/W2D3_BiologicalNeuronModels/solutions/W2D3_Tutorial3_Solution_264ec1d4.py)\n",
        "\n"
      ]
    },
    {
      "cell_type": "markdown",
      "metadata": {
        "execution": {},
        "id": "O5CPman91Ko8"
      },
      "source": [
        "---\n",
        "# Section 2: Short-term synaptic plasticity\n",
        "\n",
        "\n",
        "*Estimated timing to here from start of tutorial: 45 min*\n",
        "\n",
        "Above, we modeled synapses with fixed weights. Now we will explore synapses whose weight change in some input conditions. \n",
        "\n",
        "Short-term plasticity (STP) is a phenomenon in which synaptic efficacy changes over time in a way that reflects the history of presynaptic activity. Two types of STP, with opposite effects on synaptic efficacy, have been experimentally observed. They are known as Short-Term Depression (STD) and Short-Term Facilitation (STF).\n",
        "\n",
        "The mathematical model (_for more information see [here](http://www.scholarpedia.org/article/Short-term_synaptic_plasticity)_) of STP is based on the concept of a limited pool of synaptic resources available for transmission ($R$), such as, for example, the overall amount of synaptic vesicles at the presynaptic terminals. The amount of presynaptic resource changes in a dynamic fashion depending on the recent history of spikes. \n",
        "\n",
        "Following a presynaptic spike, (i) the fraction $u$ (release probability) of the available pool to be utilized increases due to spike-induced calcium influx to the presynaptic terminal, after which (ii) $u$ is consumed to increase the post-synaptic conductance. Between spikes, $u$ decays back to zero with time constant $\\tau_f$ and $R$ recovers to 1 with time constant $\\tau_d$. In summary, the dynamics of excitatory (subscript $E$) STP are given by:\n",
        "\n",
        "\\\\\n",
        "\n",
        "\\begin{eqnarray}\n",
        "&& \\frac{du_E}{dt} &=& -\\frac{u_E}{\\tau_f} + U_0(1-u_E^-)\\delta(t-t_{\\rm sp}) \\\\[.5mm]\n",
        "&& \\frac{dR_E}{dt} &=& \\frac{1-R_E}{\\tau_d} - u_E^+ R_E^- \\delta(t-t_{\\rm sp}) \\qquad (6) \\\\[.5mm]    \n",
        "&& \\frac{dg_E(t)}{dt} &=& -\\frac{g_E}{\\tau_E} + \\bar{g}_E u_E^+ R_E^- \\delta(t-t_{\\rm sp})\n",
        "\\end{eqnarray}\n",
        "\n",
        "\\\\\n",
        "\n",
        "where $U_0$ is a constant determining the increment of $u$ produced by a spike. $u_E^-$ and $R_E^-$ denote the corresponding values just before the spike arrives, whereas $u_E^+$ refers to the moment right after the spike. $\\bar{g}_E$ denotes the maximum excitatory conductane, and $g_E(t)$ is calculated for all spiketimes $k$, and decays over time with a time constant $\\tau_{E}$. Similarly, one can obtain the dynamics of inhibitory STP (i.e., by replacing the subscript $E$ with $I$).\n",
        "\n",
        "\n",
        "The interplay between the dynamics of $u$ and $R$ determines whether the joint effect of $uR$ is dominated by *depression* or *facilitation*. In the parameter regime of $\\tau_d \\gg \\tau_f$  and for large $U_0$, an initial spike incurs a large drop in $R$ that takes a long time to recover; therefore, the synapse is STD-dominated. In the regime of $\\tau_d \\ll \\tau_f$ and for small $U_0$, the synaptic efficacy is increased gradually by spikes, and consequently, the synapse is STF-dominated. This phenomenological model successfully reproduces the kinetic dynamics of depressed and facilitated synapses observed in many cortical areas."
      ]
    },
    {
      "cell_type": "markdown",
      "metadata": {
        "execution": {},
        "id": "98u_LoGs1Ko8"
      },
      "source": [
        "We provide a helper function below, `dynamic_syn` that integrates the above equations using the Euler method (which you saw yesterday).\n",
        "\n",
        "\n"
      ]
    },
    {
      "cell_type": "code",
      "metadata": {
        "cellView": "form",
        "execution": {},
        "id": "_ypPS_Ws1Ko9"
      },
      "source": [
        "# @markdown Execute this cell to get helper function `dynamic_syn`\n",
        "\n",
        "def dynamic_syn(g_bar, tau_syn, U0, tau_d, tau_f, pre_spike_train, dt):\n",
        "  \"\"\"\n",
        "  Short-term synaptic plasticity\n",
        "\n",
        "  Args:\n",
        "    g_bar           : synaptic conductance strength\n",
        "    tau_syn         : synaptic time constant [ms]\n",
        "    U0              : synaptic release probability at rest\n",
        "    tau_d           : synaptic depression time constant of x [ms]\n",
        "    tau_f           : synaptic facilitation time constantr of u [ms]\n",
        "    pre_spike_train : total spike train (number) input\n",
        "                      from presynaptic neuron\n",
        "    dt              : time step [ms]\n",
        "\n",
        "  Returns:\n",
        "    u               : usage of releasable neurotransmitter\n",
        "    R               : fraction of synaptic neurotransmitter resources available\n",
        "    g               : postsynaptic conductance\n",
        "\n",
        "  \"\"\"\n",
        "\n",
        "  Lt = len(pre_spike_train)\n",
        "  # Initialize\n",
        "  u = np.zeros(Lt)\n",
        "  R = np.zeros(Lt)\n",
        "  R[0] = 1.\n",
        "  g = np.zeros(Lt)\n",
        "\n",
        "  # simulation\n",
        "  for it in range(Lt - 1):\n",
        "    # Compute du\n",
        "    du = -(dt / tau_f) * u[it] + U0 * (1.0 - u[it]) * pre_spike_train[it + 1]\n",
        "    u[it + 1] = u[it] + du\n",
        "    # Compute dR\n",
        "    dR = (dt / tau_d) * (1.0 - R[it]) - u[it + 1] * R[it] * pre_spike_train[it + 1]\n",
        "    R[it + 1] = R[it] + dR\n",
        "    # Compute dg\n",
        "    dg = -(dt / tau_syn) * g[it] + g_bar * R[it] * u[it + 1] * pre_spike_train[it + 1]\n",
        "    g[it + 1] = g[it] + dg\n",
        "\n",
        "  return u, R, g\n",
        "\n",
        "help(dynamic_syn)"
      ],
      "execution_count": null,
      "outputs": []
    },
    {
      "cell_type": "markdown",
      "metadata": {
        "execution": {},
        "id": "_U9KqJld1Ko-"
      },
      "source": [
        "## Section 2.1: Short-term syaptic depression (STD)\n"
      ]
    },
    {
      "cell_type": "markdown",
      "metadata": {
        "execution": {},
        "id": "Dl1IgIph1Ko_"
      },
      "source": [
        "### Interactive Demo 2.1: STD Explorer with input rate\n",
        "Below, an interactive demo that shows how Short-term synaptic depression (STD) changes for different firing rates of the presynaptic spike train and how the amplitude synaptic conductance $g$ changes with every incoming spike until it reaches its stationary state.\n",
        "\n",
        "How does the firing rate affect the synaptic efficacy?\n",
        "Does it matter if the neuron fires in a Poisson manner, rather than regularly?\n",
        "\n",
        "**Note:** `Poi_or_Reg=1`: for *Posisson type* and `Poi_or_Reg=0`: for *regular* presynaptic spikes."
      ]
    },
    {
      "cell_type": "code",
      "metadata": {
        "cellView": "form",
        "execution": {},
        "id": "7Du1vgyX1KpA"
      },
      "source": [
        "#@title\n",
        "\n",
        "#@markdown Make sure you execute this cell to enable the widget!\n",
        "\n",
        "\n",
        "def my_STD_diff_rate(rate, Poi_or_Reg):\n",
        "      _ = my_illus_STD(Poi_or_reg=Poi_or_Reg, rate=rate)\n",
        "\n",
        "\n",
        "_ = widgets.interact(my_STD_diff_rate, rate=(10., 100.1, 5.),\n",
        "                     Poi_or_Reg=(0, 1, 1))"
      ],
      "execution_count": null,
      "outputs": []
    },
    {
      "cell_type": "markdown",
      "metadata": {
        "execution": {},
        "id": "KDYHRfbz1KpB"
      },
      "source": [
        "[*Click for solution*](https://github.com/NeuromatchAcademy/course-content/tree/master//tutorials/W2D3_BiologicalNeuronModels/solutions/W2D3_Tutorial3_Solution_bedc4823.py)\n",
        "\n"
      ]
    },
    {
      "cell_type": "markdown",
      "metadata": {
        "execution": {},
        "id": "I5jEErmu1KpB"
      },
      "source": [
        "Once, I asked an experimentalist about the experimental values of the PSP amplitude produced by a connection between two neocortical excitatory neurons. She asked: \"At what frequency?\" I was confused, but you will understand her question, now that you know that PSP amplitude depends on the spike history, and therefore on the spike rate of the presynaptic neuron. \n",
        "\n",
        "Here, we will study how the ratio of the synaptic conductance corresponding to the first and 10th spikes change as a function of the presynaptic firing rate (experimentalists often take the ratio of first and second PSPs). \n",
        "\n",
        "For computational efficiency, we assume that the presynaptic spikes are regular. This assumption means that we do not have to run multiple trials. "
      ]
    },
    {
      "cell_type": "code",
      "metadata": {
        "cellView": "form",
        "execution": {},
        "id": "l9ejIsOd1KpC"
      },
      "source": [
        "# @markdown STD conductance ratio with different input rate\n",
        "# Regular firing rate\n",
        "input_rate = np.arange(5., 40.1, 5.)\n",
        "g_1 = np.zeros(len(input_rate))  # record the the PSP at 1st spike\n",
        "g_2 = np.zeros(len(input_rate))  # record the the PSP at 10th spike\n",
        "\n",
        "for ii in range(len(input_rate)):\n",
        "   g_1[ii], g_2[ii] = my_illus_STD(Poi_or_reg=False, rate=input_rate[ii],\n",
        "                                   plot_out=False, U0=0.5, tau_d=100., tau_f=50)\n",
        "\n",
        "plt.figure(figsize=(11, 4.5))\n",
        "\n",
        "plt.subplot(121)\n",
        "plt.plot(input_rate, g_1, 'm-o', label='1st Spike')\n",
        "plt.plot(input_rate, g_2, 'c-o', label='10th Spike')\n",
        "plt.xlabel('Rate [Hz]')\n",
        "plt.ylabel('Conductance [nS]')\n",
        "plt.legend()\n",
        "\n",
        "plt.subplot(122)\n",
        "plt.plot(input_rate, g_2 / g_1, 'b-o')\n",
        "plt.xlabel('Rate [Hz]')\n",
        "plt.ylabel(r'Conductance ratio $g_{10}/g_{1}$')\n",
        "plt.tight_layout()"
      ],
      "execution_count": null,
      "outputs": []
    },
    {
      "cell_type": "markdown",
      "metadata": {
        "execution": {},
        "id": "LPBfITvz1KpC"
      },
      "source": [
        "As we increase the input rate the ratio of the first to tenth spike is increased, because the tenth spike conductance becomes smaller. This is a clear evidence of synaptic depression, as using the same amount of current has a smaller effect on the neuron."
      ]
    },
    {
      "cell_type": "markdown",
      "metadata": {
        "execution": {},
        "id": "F5DcElzx1KpC"
      },
      "source": [
        "## Section 2.2: Short-term synaptic facilitation (STF)"
      ]
    },
    {
      "cell_type": "markdown",
      "metadata": {
        "execution": {},
        "id": "8liX_hyD1KpD"
      },
      "source": [
        "### Interactive Demo 2.2: STF explorer with input rate\n",
        "Below, we see an illustration of a short-term facilitation example. Take note of the change in the synaptic variables: `U_0`, `tau_d`, and  `tau_f`.\n",
        "\n",
        "- for STD, `U0=0.5, tau_d=100., tau_f=50.`\n",
        "\n",
        "- for STP, `U0=0.2, tau_d=100., tau_f=750.`\n",
        " \n",
        "How does the synaptic conductance change as we change the input rate? What do you observe in the case of a regular input and a Poisson type one? "
      ]
    },
    {
      "cell_type": "code",
      "metadata": {
        "cellView": "form",
        "execution": {},
        "id": "mKcENEqz1KpD"
      },
      "source": [
        "# @title\n",
        "\n",
        "# @markdown Make sure you execute this cell to enable the widget!\n",
        "\n",
        "\n",
        "def my_STD_diff_rate(rate, Poi_or_Reg):\n",
        "  _ = my_illus_STD(Poi_or_reg=Poi_or_Reg, rate=rate, U0=0.2, tau_d=100., tau_f=750.)\n",
        "\n",
        "\n",
        "_ = widgets.interact(my_STD_diff_rate, rate=(4., 40.1, 2.),\n",
        "                     Poi_or_Reg=(0, 1, 1))"
      ],
      "execution_count": null,
      "outputs": []
    },
    {
      "cell_type": "markdown",
      "metadata": {
        "execution": {},
        "id": "T2f1ymPW1KpD"
      },
      "source": [
        "### Think! 2.2: Short-term synaptic facilitation vs. depression\n",
        "\n",
        "Here, we will study how the ratio of the synaptic conductance corresponding to the $1^{st}$ and $10^{th}$ spike changes as a function of the presynaptic rate. \n",
        "\n",
        "Why does the ratio of the first and tenth spike conductance changes in a non-monotonic fashion for synapses with STF, even though it decreases monotonically for synapses with STD?"
      ]
    },
    {
      "cell_type": "code",
      "metadata": {
        "cellView": "form",
        "execution": {},
        "id": "bXoUiBNI1KpD"
      },
      "source": [
        "# @markdown STF conductance ratio with different input rates\n",
        "# Regular firing rate\n",
        "input_rate = np.arange(2., 40.1, 2.)\n",
        "g_1 = np.zeros(len(input_rate))  # record the the PSP at 1st spike\n",
        "g_2 = np.zeros(len(input_rate))  # record the the PSP at 10th spike\n",
        "\n",
        "for ii in range(len(input_rate)):\n",
        "   g_1[ii], g_2[ii] = my_illus_STD(Poi_or_reg=False, rate=input_rate[ii],\n",
        "                                   plot_out=False,\n",
        "                                   U0=0.2, tau_d=100., tau_f=750.)\n",
        "\n",
        "plt.figure(figsize=(11, 4.5))\n",
        "\n",
        "plt.subplot(121)\n",
        "plt.plot(input_rate, g_1, 'm-o', label='1st Spike')\n",
        "plt.plot(input_rate, g_2, 'c-o', label='10th Spike')\n",
        "plt.xlabel('Rate [Hz]')\n",
        "plt.ylabel('Conductance [nS]')\n",
        "plt.legend()\n",
        "\n",
        "plt.subplot(122)\n",
        "plt.plot(input_rate, g_2 / g_1, 'b-o',)\n",
        "plt.xlabel('Rate [Hz]')\n",
        "plt.ylabel(r'Conductance ratio $g_{10}/g_{1}$')\n",
        "plt.tight_layout()"
      ],
      "execution_count": null,
      "outputs": []
    },
    {
      "cell_type": "markdown",
      "metadata": {
        "execution": {},
        "id": "ozWpMkZS1KpE"
      },
      "source": [
        "[*Click for solution*](https://github.com/NeuromatchAcademy/course-content/tree/master//tutorials/W2D3_BiologicalNeuronModels/solutions/W2D3_Tutorial3_Solution_f301e996.py)\n",
        "\n"
      ]
    },
    {
      "cell_type": "markdown",
      "metadata": {
        "execution": {},
        "id": "oXp2_NSh1KpE"
      },
      "source": [
        "---\n",
        "# Summary\n",
        "\n",
        "*Estimated timing of tutorial: 1 hour, 10 min*\n",
        "\n",
        "Congratulations! You have just finished the last tutorial of this day. Here, we saw how to model conductance-based synapses and also how to incorporate short-term dynamics in synaptic weights. \n",
        "\n",
        "We covered the:\n",
        "\n",
        "- static synapses and how excitation and inhibition affect the neuronal output\n",
        "- mean- or fluctuation-driven regimes\n",
        "- short-term dynamics of synapses (both facilitation and depression)\n",
        "\n",
        "Finally, we incorporated all the aforementioned tools to study how a change in presynaptic firing history affects the synaptic weights!\n",
        "\n",
        "There are many interesting things that you can try on your own to develop a deeper understanding of biological synapses. A couple of those are mentioned below in the optional boxes -- if you have time.\n",
        "\n",
        "If you have time, you can look at a conductance-based LIF model with STP in the bonus sections below. There is also a whole bonus tutorial on spike timing dependent synaptic plasticity!"
      ]
    },
    {
      "cell_type": "markdown",
      "metadata": {
        "execution": {},
        "id": "dVQksoam1KpE"
      },
      "source": [
        "---\n",
        "# Bonus"
      ]
    },
    {
      "cell_type": "markdown",
      "metadata": {
        "execution": {},
        "id": "gYzp6OfK1KpE"
      },
      "source": [
        "---\n",
        "## Bonus Section 1: Conductance-based LIF with STP\n"
      ]
    },
    {
      "cell_type": "markdown",
      "metadata": {
        "execution": {},
        "id": "5GiEMI-Z1KpF"
      },
      "source": [
        "Previously, we looked only at how the presynaptic firing rate affects the presynaptic resource availability and thereby the synaptic conductance. It is straightforward to imagine that, while the synaptic conductances are changing, the output of the postsynaptic neuron will change as well. \n",
        "\n",
        "So, let's put the STP on synapses impinging on an LIF neuron and see what happens. "
      ]
    },
    {
      "cell_type": "code",
      "metadata": {
        "cellView": "form",
        "execution": {},
        "id": "C3HvIjbp1KpF"
      },
      "source": [
        "# @markdown Execute for helper function for conductance-based LIF neuron with STP-synapses\n",
        "\n",
        "def run_LIF_cond_STP(pars, I_inj, pre_spike_train_ex, pre_spike_train_in):\n",
        "  \"\"\"\n",
        "  conductance-based LIF dynamics\n",
        "\n",
        "  Args:\n",
        "    pars               : parameter dictionary\n",
        "    I_inj              : injected current [pA]\n",
        "                         The injected current here can be a value or an array\n",
        "    pre_spike_train_ex : spike train input from presynaptic excitatory neuron (binary)\n",
        "    pre_spike_train_in : spike train input from presynaptic inhibitory neuron (binary)\n",
        "\n",
        "  Returns:\n",
        "    rec_spikes : spike times\n",
        "    rec_v      : mebrane potential\n",
        "    gE         : postsynaptic excitatory conductance\n",
        "    gI         : postsynaptic inhibitory conductance\n",
        "\n",
        "  \"\"\"\n",
        "\n",
        "  # Retrieve parameters\n",
        "  V_th, V_reset = pars['V_th'], pars['V_reset']\n",
        "  tau_m, g_L = pars['tau_m'], pars['g_L']\n",
        "  V_init, V_L = pars['V_init'], pars['E_L']\n",
        "  gE_bar, gI_bar = pars['gE_bar'], pars['gI_bar']\n",
        "  U0E, tau_dE, tau_fE = pars['U0_E'], pars['tau_d_E'], pars['tau_f_E']\n",
        "  U0I, tau_dI, tau_fI = pars['U0_I'], pars['tau_d_I'], pars['tau_f_I']\n",
        "  VE, VI = pars['VE'], pars['VI']\n",
        "  tau_syn_E, tau_syn_I = pars['tau_syn_E'], pars['tau_syn_I']\n",
        "  tref = pars['tref']\n",
        "\n",
        "  dt, range_t = pars['dt'], pars['range_t']\n",
        "  Lt = range_t.size\n",
        "\n",
        "  nE = pre_spike_train_ex.shape[0]\n",
        "  nI = pre_spike_train_in.shape[0]\n",
        "\n",
        "  # compute conductance Excitatory synapses\n",
        "  uE = np.zeros((nE, Lt))\n",
        "  RE = np.zeros((nE, Lt))\n",
        "  gE = np.zeros((nE, Lt))\n",
        "  for ie in range(nE):\n",
        "    u, R, g = dynamic_syn(gE_bar, tau_syn_E, U0E, tau_dE, tau_fE,\n",
        "                          pre_spike_train_ex[ie, :], dt)\n",
        "\n",
        "    uE[ie, :], RE[ie, :], gE[ie, :] = u, R, g\n",
        "\n",
        "  gE_total = gE.sum(axis=0)\n",
        "\n",
        "  # compute conductance Inhibitory synapses\n",
        "  uI = np.zeros((nI, Lt))\n",
        "  RI = np.zeros((nI, Lt))\n",
        "  gI = np.zeros((nI, Lt))\n",
        "  for ii in range(nI):\n",
        "    u, R, g = dynamic_syn(gI_bar, tau_syn_I, U0I, tau_dI, tau_fI,\n",
        "                          pre_spike_train_in[ii, :], dt)\n",
        "\n",
        "    uI[ii, :], RI[ii, :], gI[ii, :] = u, R, g\n",
        "\n",
        "  gI_total = gI.sum(axis=0)\n",
        "\n",
        "  # Initialize\n",
        "  v = np.zeros(Lt)\n",
        "  v[0] = V_init\n",
        "  Iinj = I_inj * np.ones(Lt)  # ensure I has length Lt\n",
        "\n",
        "  # simulation\n",
        "  rec_spikes = []  # recording spike times\n",
        "  tr = 0.\n",
        "  for it in range(Lt - 1):\n",
        "    if tr > 0:\n",
        "      v[it] = V_reset\n",
        "      tr = tr - 1\n",
        "    elif v[it] >= V_th:  # reset voltage and record spike event\n",
        "      rec_spikes.append(it)\n",
        "      v[it] = V_reset\n",
        "      tr = tref / dt\n",
        "\n",
        "    # calculate the increment of the membrane potential\n",
        "    dv = (dt / tau_m) * (-(v[it] - V_L) \\\n",
        "                         - (gE_total[it + 1] / g_L) * (v[it] - VE) \\\n",
        "                         - (gI_total[it + 1] / g_L) * (v[it] - VI) + Iinj[it] / g_L)\n",
        "\n",
        "    # update membrane potential\n",
        "    v[it+1] = v[it] + dv\n",
        "\n",
        "  rec_spikes = np.array(rec_spikes) * dt\n",
        "\n",
        "  return v, rec_spikes, uE, RE, gE, RI, RI, gI\n",
        "\n",
        "\n",
        "help(run_LIF_cond_STP)"
      ],
      "execution_count": null,
      "outputs": []
    },
    {
      "cell_type": "markdown",
      "metadata": {
        "execution": {},
        "id": "X8t25QbC1KpF"
      },
      "source": [
        "### Bonus Interactive Demo: LIF with STP Explorer"
      ]
    },
    {
      "cell_type": "markdown",
      "metadata": {
        "execution": {},
        "id": "7LkfBSRp1KpG"
      },
      "source": [
        "Here we have assumed that both excitatory and inhibitory synapses show short-term depression. Change the nature of synapses and study how spike pattern variability changes.\n",
        "In this demo, `tau_d = 500*tau_ratio (ms)` and  `tau_f = 300*tau_ratio (ms)`.\n",
        "\n",
        "You should compare the output of this neuron with what you observed in the previous tutorial when synapses were assumed to be static. \n",
        "\n",
        "_Note: it will take slightly longer time to run each case_"
      ]
    },
    {
      "cell_type": "code",
      "metadata": {
        "cellView": "form",
        "execution": {},
        "id": "VUWV87WV1KpG"
      },
      "source": [
        "# @title\n",
        "\n",
        "# @markdown Make sure you execute this cell to enable the widget!\n",
        "\n",
        "\n",
        "def LIF_STP(tau_ratio):\n",
        "  pars = default_pars(T=1000)\n",
        "  pars['gE_bar'] = 1.2 * 4  # [nS]\n",
        "  pars['VE'] = 0.           # [mV]\n",
        "  pars['tau_syn_E'] = 5.    # [ms]\n",
        "  pars['gI_bar'] = 1.6 * 4  # [nS]\n",
        "  pars['VI'] = -80.         # [ms]\n",
        "  pars['tau_syn_I'] = 10.   # [ms]\n",
        "\n",
        "  # here we assume that both Exc and Inh synapses have synaptic depression\n",
        "  pars['U0_E'] = 0.45\n",
        "  pars['tau_d_E'] = 500. * tau_ratio  # [ms]\n",
        "  pars['tau_f_E'] = 300. * tau_ratio  # [ms]\n",
        "\n",
        "  pars['U0_I'] = 0.45\n",
        "  pars['tau_d_I'] = 500. * tau_ratio  # [ms]\n",
        "  pars['tau_f_I'] = 300. * tau_ratio  # [ms]\n",
        "\n",
        "  pre_spike_train_ex = Poisson_generator(pars, rate=15, n=80)\n",
        "  pre_spike_train_in = Poisson_generator(pars, rate=15, n=20)  # 4:1\n",
        "\n",
        "  v, rec_spikes, uE, RE, gE, uI, RI, gI = run_LIF_cond_STP(pars, 0,\n",
        "                                                           pre_spike_train_ex,\n",
        "                                                           pre_spike_train_in)\n",
        "\n",
        "  t_plot_range = pars['range_t'] > 200\n",
        "\n",
        "  plt.figure(figsize=(11, 7))\n",
        "  plt.subplot(211)\n",
        "  plot_volt_trace(pars, v, rec_spikes)\n",
        "\n",
        "  plt.subplot(223)\n",
        "  plt.plot(pars['range_t'][t_plot_range], gE.sum(axis=0)[t_plot_range], 'r')\n",
        "  plt.xlabel('Time (ms)')\n",
        "  plt.ylabel(r'$g_E$ (nS)')\n",
        "\n",
        "  plt.subplot(224)\n",
        "  plt.plot(pars['range_t'][t_plot_range], gI.sum(axis=0)[t_plot_range], 'b')\n",
        "  plt.xlabel('Time (ms)')\n",
        "  plt.ylabel(r'$g_I$ (nS)')\n",
        "\n",
        "  plt.tight_layout()\n",
        "\n",
        "\n",
        "_ = widgets.interact(LIF_STP, tau_ratio=(0.2, 1.1, 0.2))"
      ],
      "execution_count": null,
      "outputs": []
    },
    {
      "cell_type": "markdown",
      "metadata": {
        "execution": {},
        "id": "phzTYXcT1KpG"
      },
      "source": [
        "When we vary the tau_ratio we are increasing `tau_f` and `tau_d` i.e. by increasing `tau_ratio` we are increasing the synaptic depression. The effect is same on both Exc and Inh conductances.\n",
        "This is visible as a clear decrease in the firing rate of the neuron from 300-400ms onwards.\n",
        "\n",
        "Not much happens in the beginning because synaptic depression takes some time to become visible.\n",
        "\n",
        "It is curious that while both excitatory and inhibitory conductances have depressed but output firing rate has still decreased.\n",
        "\n",
        "There are two explanations of this:\n",
        "1. excitation has depressed more than the inhibition from their starting values.\n",
        "2. because synaptic conductances have depressed, membrane fluctuation size has decreased.\n",
        "\n",
        "Which is the more likely reason?"
      ]
    },
    {
      "cell_type": "markdown",
      "metadata": {
        "execution": {},
        "id": "gNOGfUqd1KpG"
      },
      "source": [
        "\n",
        "Will the neuron show higher irregularity if the synapses have STP?  \n",
        "\n",
        "Try calculating the $CV_{\\rm ISI}$ for different `tau_ratio` after simulating the LIF neuron with STP (Hint:`run_LIF_cond_STP` will help you understand the irregularity).\n"
      ]
    },
    {
      "cell_type": "markdown",
      "metadata": {
        "execution": {},
        "id": "Y15ttVVM1KpH"
      },
      "source": [
        "**Functional implications of short-term dynamics of synapses**\n",
        "\n",
        "As you have seen above, if the firing rate is stationary, the synaptic conductance quickly reaches a fixed point. On the other hand, if the firing rate transiently changes, synaptic conductance will vary -- even if the change is as short as a single inter-spike-interval. Such small changes can be observed in a single neuron when input spikes are regular and periodic. If the input spikes are Poissonian, then one may have to perform an average over several neurons.\n",
        "\n",
        "_Come up with other functions that short-term dynamics of synapses can be used to implement and implement them._"
      ]
    }
  ]
}