{
  "nbformat": 4,
  "nbformat_minor": 0,
  "metadata": {
    "colab": {
      "name": "W0D2_Tutorial1",
      "provenance": [],
      "collapsed_sections": [],
      "toc_visible": true,
      "include_colab_link": true
    },
    "kernel": {
      "display_name": "Python 3",
      "language": "python",
      "name": "python3"
    },
    "kernelspec": {
      "display_name": "Python 3",
      "language": "python",
      "name": "python3"
    },
    "language_info": {
      "codemirror_mode": {
        "name": "ipython",
        "version": 3
      },
      "file_extension": ".py",
      "mimetype": "text/x-python",
      "name": "python",
      "nbconvert_exporter": "python",
      "pygments_lexer": "ipython3",
      "version": "3.7.10"
    },
    "widgets": {
      "application/vnd.jupyter.widget-state+json": {
        "4b02c4d93329451091ac60d3bc49c11c": {
          "model_module": "@jupyter-widgets/controls",
          "model_name": "TabModel",
          "state": {
            "_view_name": "TabView",
            "_dom_classes": [],
            "_titles": {
              "0": "Youtube",
              "1": "Bilibili"
            },
            "_model_name": "TabModel",
            "_view_module": "@jupyter-widgets/controls",
            "selected_index": 0,
            "_model_module_version": "1.5.0",
            "_view_count": null,
            "_view_module_version": "1.5.0",
            "box_style": "",
            "layout": "IPY_MODEL_af793352ce174d89b1733df8da0607ef",
            "_model_module": "@jupyter-widgets/controls",
            "children": [
              "IPY_MODEL_272c7b90f1654c9281195e744eb973f5",
              "IPY_MODEL_fd8b251f6c8a42f79bb89a267bd59523"
            ]
          }
        },
        "af793352ce174d89b1733df8da0607ef": {
          "model_module": "@jupyter-widgets/base",
          "model_name": "LayoutModel",
          "state": {
            "_view_name": "LayoutView",
            "grid_template_rows": null,
            "right": null,
            "justify_content": null,
            "_view_module": "@jupyter-widgets/base",
            "overflow": null,
            "_model_module_version": "1.2.0",
            "_view_count": null,
            "flex_flow": null,
            "width": null,
            "min_width": null,
            "border": null,
            "align_items": null,
            "bottom": null,
            "_model_module": "@jupyter-widgets/base",
            "top": null,
            "grid_column": null,
            "overflow_y": null,
            "overflow_x": null,
            "grid_auto_flow": null,
            "grid_area": null,
            "grid_template_columns": null,
            "flex": null,
            "_model_name": "LayoutModel",
            "justify_items": null,
            "grid_row": null,
            "max_height": null,
            "align_content": null,
            "visibility": null,
            "align_self": null,
            "height": null,
            "min_height": null,
            "padding": null,
            "grid_auto_rows": null,
            "grid_gap": null,
            "max_width": null,
            "order": null,
            "_view_module_version": "1.2.0",
            "grid_template_areas": null,
            "object_position": null,
            "object_fit": null,
            "grid_auto_columns": null,
            "margin": null,
            "display": null,
            "left": null
          }
        },
        "272c7b90f1654c9281195e744eb973f5": {
          "model_module": "@jupyter-widgets/output",
          "model_name": "OutputModel",
          "state": {
            "_view_name": "OutputView",
            "msg_id": "",
            "_dom_classes": [],
            "_model_name": "OutputModel",
            "outputs": [
              {
                "output_type": "stream",
                "metadata": {
                  "tags": []
                },
                "text": "Video available at https://youtube.com/watch?v=J24tne-IwvY\n",
                "stream": "stdout"
              },
              {
                "output_type": "display_data",
                "metadata": {
                  "tags": []
                },
                "text/html": "\n        <iframe\n            width=\"854\"\n            height=\"480\"\n            src=\"https://www.youtube.com/embed/J24tne-IwvY?fs=1&rel=0\"\n            frameborder=\"0\"\n            allowfullscreen\n        ></iframe>\n        ",
                "text/plain": "<IPython.lib.display.YouTubeVideo at 0x7f201da960d0>",
                "image/jpeg": "/9j/4AAQSkZJRgABAQAAAQABAAD/2wCEAAUDBAkICAsKCwgOCAoICggICAgICggICggICAoKCAgICAgIChALCAgOCgoIDRUNDhERExMTCgsWGBYSGBASExIBBQUFCAcIDwkIDhIPEA8SEhISEhISEhISEhISEhISEhISEhISEhISEhISEhISEhISEhIeEhISEhISEhISEhISEv/AABEIAWgB4AMBIgACEQEDEQH/xAAdAAEAAgIDAQEAAAAAAAAAAAAABQYEBwEDCAIJ/8QAXhAAAQMDAQMECQwNBwoHAQEAAQACAwQFERIGEyEHFjFBCBQiUVJhcZLSGDJUVYGRoaOx1OLwCRUjNDZzdZSksrTB0UJDU2KTteEXJDM1N3J0gqKzRGN2g4XT8YQm/8QAGgEBAAMBAQEAAAAAAAAAAAAAAAECAwQFBv/EACoRAQEAAgEDAwMEAgMAAAAAAAABAhEDBCExEhNBBVGBInGhscHhFEJh/9oADAMBAAIRAxEAPwDxkiIgIiICIiAiIgIiICIiAiIgIiICIiAiIgIiICIiAiIgIiICIiAiIgIiICIiAiIgIiICIiAiIgIiICIiAiIgIiICIiAiIgIiICIiAiIgIiICIiAiIgIiICIiAiIgIiICIiAiIgIiICIiAiIgIiICIiAiIgIiICIiAiIgIiICIiAiIgIiICIiAiIgIiICIiAiIgIiICIiAin+ak/hx+c/0E5qT+HH5z/QQQCKf5qT+HH5z/QTmpP4cfnP9BBAIp/mpP4cfnP9BOak/hx+c/0EEAin+ak/hx+c/wBBOak/hx+c/wBBBAIp/mpP4cfnP9BOak/hx+c/0EEAin+ak/hx+c/0E5qT+HH5z/QQQCKf5qT+HH5z/QTmpP4cfnP9BBAIp/mpP4cfnP8AQTmpP4cfnP8AQQQCKf5qT+HH5z/QTmpP4cfnP9BBAIp/mpP4cfnP9BOak/hx+c/0EEAin+ak/hx+c/0E5qT+HH5z/QQQCKf5qT+HH5z/AEE5qT+HH5z/AEEEAin+ak/hx+c/0E5qT+HH5z/QQQCKf5qT+HH5z/QTmpP4cfnP9BBAIp/mpP4cfnP9BOak/hx+c/0EEAin+ak/hx+c/wBBOak/hx+c/wBBBAIp/mpP4cfnP9BOak/hx+c/0EEAin+ak/hx+c/0E5qT+HH5z/QQQCKf5qT+HH5z/QTmpP4cfnP9BBAIp/mpP4cfnP8AQTmpP4cfnP8AQQQCKf5qT+HH5z/QTmpP4cfnP9BBAIp/mpP4cfnP9BOak/hx+c/0EEAin+ak/hx+c/0E5qT+HH5z/QQQCKf5qT+HH5z/AEE5qT+HH5z/AEEEAin+ak/hx+c/0E5qT+HH5z/QQQCKf5qT+HH5z/QTmpP4cfnP9BBAIp/mpP4cfnP9BOak/hx+c/0EEAin+ak/hx+c/wBBOak/hx+c/wBBBAIp/mpP4cfnP9BOak/hx+c/0EEAin+ak/hx+c/0E5qT+HH5z/QQXNERWVEREBERAREQEREBERAREQEREBERAREQEREBERAREQEREBERAREQEREBERAREQEREBERAREQEREBERAREQEREBERAREQEREBERAREQERYF8uPasYfo15eGY1acZDnZzg+D8KJZ6Kr87h7H+M+gnO4ex/jPoKDS0IqvzuHsf4z6Cc7h7H+M+ghpaEVX53D2P8Z9BOdw9j/GfQQ0tCKr87h7H+M+gnO4ex/jPoIaWhFV+dw9j/ABn0E53D2P8AGfQQ0tCKr87h7H+M+gnO4ex/jPoIaWhFV+dw9j/GfQTncPY/xn0ENLQiq/O4ex/jPoJzuHsf4z6CGloRVfncPY/xn0E53D2P8Z9BDS0IqvzuHsf4z6Cc7h7H+M+ghpaEVX53D2P8Z9BOdw9j/GfQQ0tCKr87h7H+M+gnO4ex/jPoIaWhFV+dw9j/ABn0E53D2P8AGfQQ0tCKr87h7H+M+gnO4ex/jPoIaWhFV+dw9j/GfQTncPY/xn0ENLQiq/O4ex/jPoJzuHsf4z6CGloRVfncPY/xn0E53D2P8Z9BDS0Iuqkl3kbH4xrYx+M5xqaHYz19K7VKBERAREQEREBERAREQEREBERAREQEREBERAREQFA7c/ezfxrf1JFPKB25+9m/jW/qSKEqWiIoSIiICIiAiIgIi9E9hHyY2jaWquMdypTVNpIaSSANnqafQ6V8rXnNPI0uyGt6coPOyL1u5nJIat9HJR1VFJHK+nfPLJdDGySN5jdl8dTJhuoHui3GOJwqX2WXIHT7LRU1woKp9Tbq6XtfTUOjkkgnfG+oh0TRNa2enfGyUg4yN3xLtWQHnxERARW7ko5OrjtPWvorfGySaKB9XIJpWQtbBHJFC52p/Sdc0YwMnie8oDaK1S0FZUUkuN7RTz0k2g6m72nkdDJodgam6mnBQYCL112OlHE/kr2kkdExz2S3nRI5jXObi10JGlxGW4JJ4LyKgIiICIiAiIgIiICIiAiIgIiICIiDZFp+94fxUP6jVlLFtP3vD+Kh/UaspWQIiIgREQEREBERAREQEREBERAREQEREBERAREQFA7c/ezfxrf1JFPKB25+9m/jW/qSKEqWiIoSIiICIiAiIgL139jT+/rv/wANQ/8AdmXkReu/saf39d/+Gof+7Mg0hV8mN7vN+qoaS1VEu+r6wCZ0E0dPG108h3s1S9oiiixx1E8eAGSQD6s7JLaG1bPW/Zey1ojuTKOptpr6eoYJg+1UVFNa5quWHBIeXTbyPo1Ogfj1pWmuULsr9qW1VXSwy01I2CoqKeOaCla6UMilfG05qXyR6i0DJ0+TC897Q3mquFTJVVVQ+rqJ3a5p53ukkecBoy53UGgNAHAAADAACDf3Z08mFLY7nSVdBSspaG5QFm6p24ijrKXAkLQ3uWNkhkgcAPXFsp767ewr5O7fWtul6u1Myotlppns0VLBJE6cN7aqZdJPF0FPGOB9ktI6FsOI8+OSgj/S3DZwcPXue6W0x5bw9dM+W2yY69Ujj0lvCL5dcbGcnVu2fad3X3s7646e5eA1zKuvDnx4ziV9JSjPr42PHHBQTPYKbZWqtuVXTQ2KOgr3RXO4ProN2GsoJq6mMVsjaGB25j3sIGT0QjhxWtuyR5R9m6kXe3U+yrKS5iumhN4aYC8z01eHVU/BgfmZscwPH+dPSsj7HH+FVX+Rqr9uty0nyz/hJePytdv2yZB6v7DGwi6cnl5oTOKVtbX3KmfUvGptOyW3W9j5nNLgHBjS52CQDjpHSobZbb3k6obhT2Wm2abdIZJ4aF98rqejq3SzTPbD2yHVTTK+HW7JcwRADUWMwGg8djacclG0vV91vXw2qhBXlnk//wBb0H/HUP8A340G1ezP5M6PZq/sbRM3VJcaZtZHT6i4U0okfFPDGXEu3PcseMnhvCBwaFfOSDkusOz+yzdqdoqY15qQx9tthwWFk5LaTMOoMqJpmAy4kJYyMgluoHH19kn/ANcWz/gJv2hysnZiaZeTvZ6SAf5qHWhzQwYa1jrVMIO5wNADctwQMEgcOhBBbA8pmxO1FdFaa3Yilswr3spqSsoTThzaiQ6YWSzUlNTzQ6n6WhwLwXPaHANy5aS7Izkufsle30O8M9PKxtXQVDwA+Slkc5jWzaQG79j2PY4jAOkOw0PDRUuT+GSS70DIsmV9dQshDeneunjbHpx16iF6e+yWTRmvtDARvW01c+QcMiKSWFsJI6camT48hQW//I/stPsVZbjXRQ2qGmprXc7xXQxiOpr4jRPa6k3zAXl89VNTkhoL3adLcOLSMTkg2p2C2qrjYodj4qNssE3atTPBSMqJmws1SNdVU7jUw1G7Dnh4lce4d3QOMw3ZM/7Kdmf9+xf3RWrUfYRfh1bPJc/7tq0FE5ZNkRYb9X21shlZRVDo4ZH41ugeGywGTSADLuns1EADOcABVFbZ7MD8Nrv+Pp/2SnWpkBERAREQEREBERBsi0/e8P4qH9Rqyli2n73h/FQ/qNWUrIEREQIiICIiAi4LgvgztBxqGQMkeJRtOnYiwXVgyCHjHDDQQdXHB8eeI6FlRS58X8P3qJlKm412IvgStzjPk8fk76+1KBERSgREQEREBERAREQFA7c/ezfxrf1JFPKB25+9m/jW/qSKEqWiIoSIiICIiAiIgL0H2FnKpatl6q4SXGV8TauGljgMUMk+XRPkc/UIx3PBzV58RBKbW1jKm4VU0ZzHPVVU0ZIwTHLK97CQeg6SOCi0RB6p+xw3uqjvddRNYX0lTRCpqHdUE9LKxlO/JOAHNnmYWgEuOg9DCtcdmHt19vNq6tzH6qa2n7V0mOgtpXOFRJ04drqXVBDh0s3feypnkA5ardsnYblDFSTvvNzEghrGtgFPBoiMdCHF028cI5HzSnDBkvDeoFaEQbM7GnlObsnfmV8kLp6eSGWjrY4tO97WmLJNcGtwaZWyxQuw4gODXNy3OoX7sjajYG5RVt0tlxqjeK2SKdtAIZ4qR0807HVs0vbFGC17ozO/DZsayMDHBedUQeiORnlWtNs2CvVmqJXtrrlJcnUsbIZHscKmhpaaLXKO5ZmSKQcegDPWtF7JVjKa4Us0hxHBVU00hAyRHFKx7yAOk6QeCi0Qb77M/lOte1Fxop7fK+WOmpZIJTLFJARI6YvAAkGXDSelS3Iby52wWJ2ze0dK+rtjstpaqIOkkpWF++bHK1rhLojk7pkkZLm8G6S0DHm5EHrHZC98mGy1SLnR1VdfKyDu6KnnikAp5SHNEkYlpaaHIDj3UjpC3Ac0agCtA8s3KJV7UXea41IEZkDYqenYS5lLSxk7mnY4gF+NTnOdganPecNzgUxEHovlr5WLTddg7LZqaZ7662OtTquN8MkbGilt9TSzaJXdy/EsrAMdIOVr7sZNr6Ow7U0VxrHujpqYVolfGx0rhv6Kop48Rs4uzJIwcO+taogv3ZD7UUt62muFwpHOfTVcsT4XSMdE4tZTxROyx3FvdMd0qgoiAiIgIiICIiAiIg2RafveH8VD+o1ZSxbT97w/iof1GrKVkCIiIEREBY9wqGxxlzugdOBk+4Au57w3pOPKqxe7hqJAPc9WMEHBI4qtulsZt8V14c7AjaW4DtWo44HAHk8qjJZHkHLjx8ZwfGPgXVO7Ucd/HR3xnHl61301DLIcNaXY6enHkzjgq9p5Xkt7R0Mc7h4uP8P3KUjuj2sxqBI6MjJAHgnoPurofbZmZBjIGCeOAcDr4rqfSSMaHOYQ1/QeOSO9nq6vfUerGrejKeZWZSXF2sFxDv5I8WesEdBVrgkyME8f3dS1+8uYcEYzj4Fm0NeYyzo7k6iRnU4ce5Jzx6evvK0mlL38rwiwaCu3hALCwuBczODraOnyHiOCzlZTQiIpQIiICIiAiIgKB25+9m/jW/qSKeUDtz97N/Gt/UkUJUtERQkWbYrXPXVMVLBHvZ6qRkFPEHMaZZpXBkcbS8hupziAMniSFhLNsNzloquCqiOmWkmhqoSckCWne2WMkAgkamjrQSO3Gx9xsdSKWvpHUU7o2TtilLCTC8uayQGNxaWlzHjp6WldmwexFzvs74LfRPrpYYzPIyIsboiDmx6y6RzW+ue0Yznie8V6e+yFWuOtpLJfoAHQ1cJpXTDiXxVEbbhbgCBhzdJrXdPXw6SpP7HfQQ0NsuV1ncGNqq622eFzh0Sl8cbGA/8AmT19KzytHjQeN7zbZqOplpp4zDPSyy09RE7GqKaF5jljdgkZa9rhw4cFN2DYK619vqLjT0L5qKg19uVTTG2ODdsErw7W8OcQxzThoPrh31svs5Nnu0Ns6t4GGXGGkuEYAxjeR9rTE98menndn+stgbaAbOckVDSABlRtNURVU5YdLnQzu7fbKccXDtaC3wu74fjo4IPJyK4cmHJpd9pah0NuonVO60meclsVPTtccAzVEpDGuPEhgJe4NdpacFbN2g7EbaukgMrYaeuLRqMFHU5mwOJ0tqI42vIH8lriT0AE8EGgkXbV00kMj45I3RSROdHLFI1zHxyMJa+ORjgHMe1wIIIyCCtjTcht/Fvt9cyjFRFe5aeC3R08rJZppKqGWpj1Qg5jaIoZXOc7AaGkkgAkBrRbY5YORGq2btVBcZa2Kpjuu73cULZWvi3kAqRrLxg4Bxw61jcrvIbedlqKnq7huGtrJNwyGCZ00sUgYZS2XEYj6ARlj3DK372cH4HbOf8A8v8Ad7UHjNFfuS7khvO0kNRUUVO3tahwKmrqpY6WBjtJkcwTTENe5kY1uA9Y1zC7GpuaYy3yPqBTxN7ZlfKKeFtMHTGolc/dxtp2tGqUvdgNAGTkcOKDEReg7T2IG1c8AlcylpXOGe16iqO+b3g7teKSIHxa1prlB2Sq7Fcp7dWNayppDGJmxvbKz7tEyojLXt4OBjkYfFnB4hBe73yIVVLslDtIa6J1PUbnTSNZKJm76Y04y8jQcEZWpl7T2wpZJ+Ru3QxRumlmdbooYYmukkllkuDmRxRRsBdJI5xADQCSSAFqmn7Eba19Jv8AtenZJpLxQvq2CpJxkMyGmna8/wBaUAZ4kcUGgkWTdKCalnkgmidBNTyPhnhkaWPiljcWSRvaeLXNcCCPEr/yTciN+2nYZaGjApmuLHVtU9tPT629LGOdl8zh0Hdtdp4Zwg1ui3Zt92L21FopnVLqWOvhiaXzG2zGofExoyXmCRjJXtAznQ12ACTgDK0mgItuXvsctp6SvpKA0DZqm4tqZYG088UrI4aQxConqZchlNC0zwjU8gEva0ZcQDM7YdiltVbqR1T2vDXNiaZJYbfO6adjGglxEMkbDMRj1sWtxzwBQaKU/sLsZcb5UuprfRurZ44nVD4ojG0thY5kbpCZHNGA+SMdP8oKAXpb7HN+FdT+R6v9soEHnS826ajqZqaeMxT0sstNUROwTFPA8xSxktJBLXtcOBI4Kf5QOTu72Dci4299D21ve1966J293Gje6d093rd5H0+EFk8u34VXv8s3n9unXpb7Jn66x+S8/Lb0HjZERAREQbItP3vD+Kh/UaspYtp+94fxUP6jVlKyBEREC+ZH6Rn/ABX0uitBMZxwOOHl6lFTEBfK8l2kHGB05PHp4Y6jxx7ij7bQyVJ4NyBwJxwz7nlWNUNIOOk8NWc5cT3yeK2nsLa2x07Tjie6PlI6Fy9Rye3jv5dnS8Pu56viI/ZXYYZD5e64ZGM9PVwPX41c7fsxDE7IaRk590+PpCz6R2noBUnDIMcT8v8ABeVnzZZXvX0PFw4cc1jEPV7OxS4zHkt6Mfvx0+6umtskXAGMcBjoB6OpWUTnx/4LHqBkfxWduvFbanzGqdvNlY3MMrO4cwdA4ggdA8S1rqIPHp6M/wCPeW99qG4id3uP18i0jcYw2V2OAyfGMk5x5F6vQ8lyx1Xz/wBS48cc94zW2fZq1zXtGrhwZx44BPUT0dKtlO4lvE5P14cFQqB7963BDcuB1OHRjjqHkCu1sk1N6MdBGcZ456cdBXZO1ede8ZaIiuoIiICIiAiIgKB25+9m/jW/qSKeUDtz97N/Gt/UkUJUtERQkREQez6P/wD03I25vCWosAfx/ovtTLvRjpIcLVLp/wCbvFV/b65ybMcmezlPFI1lXc6yG9Hhgvije66RO0g5Oh0lrBP9XqyMZ/2O67x1Md5skx1xVcDKtkR643h1DX5z0gtkox7iqn2QG7sN8orXERuLLbYImxjpimqTqc04OAO1o6EgYHwhBsfs09kucU+y9ZS4cy8yxW3fs7s7u47iqonjSMOjbG6seTnAAz0ZI199kHv8b73RWqHSIbJQsbu2n/QzVmh5iI6gKaGhI8TvIvSHYp1MF72Psk04D5LJJKyPjwinoWVVugcc9Yop2nqwXDvLwJyzbU/braC43DVqZV1c74CQQe1WO3VICDxyKdkQ9xB6s5Qa+XYvkttsdvzRVd57R7bqoiI545rjSvr6yYSMGTOGxMpg7OprNOkgsbjzNyM8plxsd7pqtldLu3VMPb8T5pXR1dO9wZUNqGOcWykxlxDnAlrg1wwWgr03fLe/b3kxoY7ed/cLF2k2aj1NEsk9ugfQyxnUcapYJO2Gce67lvTkDQXIzyG3253ulhms9TR00dRDLX1FdTVFJFFSxSNdO0PnjAknc3LWxjJJIzhoc5obF+yL7KQUl6oq+JgjddaeZtSGgAST0Do2b93fe6KaFh/FN8edo7XcoVTs1yXWaqpGN7bqKa2UNLUPax/aUk9JM99UxjwQ6URRSsbnhmQEhwBadRfZCNtoLjfqeggeJRZYZY6iRhyG1tW5j5qfOMExxxU+SCcOc9pwWFWrsif9k2zn42z/AN3VqDyttBtXcrgMVdyqa4a96G1dTUVIEuNO8Ame4B+kkaunBXvPlk5MKnayy7MUMR3ULG0tRX1eARS0jKBjXOAPr5nOc1jGDpc7Jw1rnD8817w7JTbeu2esGy1wopd1PB2qHNdl0VTA63sMtLUsBG8geAMjgQQ1zS1zWuAau7KzlPgt9PzPskfaduto7XuUrdTZKuoYcy0uSA50Qfl0sh4yyEjg1pMuqexi2io7VtbbKyscI6aGaZksr/Wwmop5qaGZ5PrWMlljeXdQaT1L0fyp7GW7lOsrb/ZmiG9UsYirqBzmB9QY25NHUO4A1LQPuNRwEjMMdgadz5H2P2Nr7tcm22mpy+uf2yG0spbA8yUkUk80TjMWiOUNikGHEcRhB6y7KrkT2kud1kvlrrXXOnljgkp6WCpdHPRMbCxjhQgvEU0D9O9BicHOMpGlx7p3j7aSorJaqV1bJNJVtduqh1a6Z9QHwAQ7uYzneB7GsazS7i0MA4Ywt+dj3Ht7YrzTUUFvr46V1SyOroq2mqfteIDJ/nMokmZuaYYLnb+Jw1EN4vyGnL+yJx0Q2lpzCGiqdQRG4bvTkuEkjaYzaf5/cgDjx0CHq0oNyWHbmTZzkooLjDAyaohp2RUm+ALIZ6mplp21BHSdDXvOBjPRkAlaH7FnlKvdZtvQ9s3epqm10tVHVRT1Ez4ZGPp55A3cF27YxrwxzWtaA3S0AADC2Tt9/sWofJQ/tz1onsQvw2tH4+b9lnQT/ZfWftjlDq6aPDHVstoiBx3LZKijpItWB/WOo98krb3Zy7RzbOWu0WG1yOt9I+CbfCnc6OV8FJuoaeEzMIcWOc+Z8meL3aST67Oo+zMr30vKDV1EeN5TG0VEeoZG8ho6WRmQCMjU0LcfZf7Lz7Z2W036zROuUcUc7Z6emG+nENTu3ZELO6fJBNFLFJG0OcHP6MMcQGpuwl5Q7hRbT0lB20+ShuZmp56WV75I2ybmSWGeFjnaYphKxgLgOLXPHWCK92YuyUNn2urIoGCKCrENwiiZwbGatuqdrR0NZ2w2chowGtc0DgFeuwz5Hbxzkp7lV26a30drE87pK6GSlM87onwwwwsnDXvw6TeF4aWgROBILmg667LHbWG/bV1lTTyCalh3NFSys4tljpWBj5WuBIfG6czua4cC0s8qD1J2efKbc7FT0NNb5u033RtaKith7mqZFS7gNhp5xxgDjO5xe3ustbpLeOdQ9hDyp3Y7UQ26ouE9dS3SOqY6KsnlqRDUU8ElZHURb5zjHIdy+M6SA4SAuzpbjbPZ9cm12vcFvqrfRurm20VzaqCn7upDartcxyRU47qdoMDgWsy7Lm4aRkjWPYS8kt0g2gbd66hmtlJaoap7ZK6J9Jvp54H02lrKhrXOhZFLM8yDuWljRnjhBq3strDDbds7rBCzdxOmhq2sHQH11PDWzBo/ks300uGjgBgAAALYP2Ob8K6n8j1f7ZQLVPZGbWw3zam5V8J1QTztjp39UsFJDHRRTAEAgPZC1+Dx7ritrfY5vwrqfyPV/tlAg05y7fhVe/yzef26delvsmfrrH5Lz8tvXmnl2/Cq9/lm8/t069LfZM/XWPyXn5beg8bIiICIiDZFp+94fxUP6jVlLFtP3vD+Kh/UaspWQIiIgWPWnSNR6AD14welZCwbxC57O56RqPHoxjB91Vy8LY+VRneZJgT1uAcR3if8VtG0bQU9OzD3EBoAGBnq4LWFFCX1DG8OLx0e4ejyK/GERTbtkbZHhpfqecMbwJ0l5aQHHGOjPHqXH1EmVkr0OjyuMti4bP7V0tQcNyPE/APlx04VshmhxqPHHvDC1RRwb1hkfDuCAOLWkHUcl2O5B0twMk9OQrrZ5Syjbrbl5AJznpI//FwcmMxvZ6/DnllO/wDWmVe9saWnOCxzyepvH5FEN2ujlzpic0deo6SM/wBV3EjyKP3G8IdrbHrPdOcHHHHGnuQS3A7+M4PFRjrjOwObJSAsj6Xtxx7ogbpp4vbgA5BGMngeGdMeOZTx/LPk5Msb5/hO19aJGO6yRjB44J4LTF8aG1EgHENcRn/Dvrbxo27vU3oe0ODc9HXgdfyLV+1tDualwAw1w15PHp4EeVb9HZMrHF18twl+1RVMePEcDw6OAz0gq6WM/cR72e/jgCqpS0bntLgDgdJ4fD48K0WZmgBvU0aSeonpyPf6V377vLsukkiIrsxERAREQEREBQO3P3s38a39SRTygdufvZv41v6kihKloiKEiIiCf2D2zuNiq+27fVmjqN2+EysbFJmKQtL2FkzHMIJa08R1BY21+0lZd62Wtrag1VVUlhmnc1jC8xsbCzuY2tY0CNjG4AHBoUSiC67Fcqt8stFNQ0NydSUtU+WWeFkdO/XJNGyCR4fLE57HGNkbctIxpBHHiqUiILDsLtrc7FU9sW+vkoZSNLzC7uJWjOGTwvBiqGAkkNka4A4I4gFXu99kpthWQOhffXsY9ul5pqehpJD05IqKWnZLG7B/kOb0BajRBy5xJyTkniSeJJPSSesq2X/lIvFfa6e1VFcZrfQmF1JSGOnaITBG+GIiRkQldpjkkb3Tj08egKpIgK37Z8pd5vNJT0dbXuqqah09qQuipoxDojELcOhia52IxjuiffVQRBZeT7b267Pzvnt1c+iklZupSwRvbJHnUA+KZro3EEZBIyMnBGSu2flDuz7v9uO3nR3LOrt6BkFO8u3e4c5zaeNsbi6MlriW90CdWcqqog3I/soNszFu/t2ePDWKO1tk04xgPbS5Hf1Dus9a1JdLhPVTPnnnfUzTOL5p53vmlleel8kshLnuPfJWMiC313KZeZ7OyzSV7n22HRu6PdUwa3dvMrPurYhKcPJPFyhNlNoKu1VkVbSTGnqaZxfBM1sbzG5zXRkhsrXMPcucOIPSotEEztptTW3mtkra6oNVVTCNss7mRRl4iY2GMaIWNYMMY0cB1KZ5OeVG+bO6/tbc5KNsp1SQgRTwvfgN3hpqlj4d7gNGvTqwAMqmog2Ztxy9bUXqmfTVd5kdTygtlgp4qajbKxw0ujlNJEx8sRGcseSD3lrNEQe5ez22zuVir7HVW+tkoZ91d2OfEQWyM1UJ3c8MgMU8ecHTI1wyAcZAK8y7c8vO1F6pXUlZeHyU8gAlghipKNswxgtmNHCx0sZ6SxxLc9XQqbtNtXcroWGuuVTcTDrEJrqqoq9yJNO8EXbD3bsO0szjGdLe8oZAVi5P9t7lYKp1Vbqs0U8kTqZ8rWQyl0D3skdHpnY5uC+OM5xnufKq6iDMvdzmraqaqnk3s9XNNU1EpDWmSed7pZZC1gDWlz3OOGgDjwAVi5RuUu87RGE3KvNd2pvu1tUVNFuu2N3vsdrxMzq3UXTn1vDHFVFEBERAREQbItP3vD+Kh/UaspYtp+94fxUP6jVlKyBEREC4IXKKEsS12rXcYiBwOp5wMYdG0u+HHwq+1NvaW9HHrx/BQeyeO2OIBIZJpJ6QcY4ePBKt8eP3leX1m/U9v6bq4/lCttgy0HrOdPf6+Kn6lgaMY4AcQot9zjZOC9vc9DXZ4NA748ffXfc7wxzsxs1cMOOcN8WSek+IZXLcbXqTUtjltqZM0kDj1EfyvKuqK3HOHNHDqcB/Bd1jqXAOcBjugRGTnoHH3VLyVEb26h1ovZPKJqINPDxY8n+C13tvRa5Wjv8AEZ6+OPdx3lsmsl4HHe4KJbSRzSDW0EM1PLiOhrRk+7wHwLXhvpu3D1OMznpnyqVi2eLY3Oc7IbG9zWjhqwMuwevp6VhWmEMiaBxyAc98npPHir3fq7dUw0jQX62MGANLH4Ljjq7ke+9U9eh01uUuVeV10xwswx+J3ERF1PPEREBERAREQFw5oPSM+UA/KuUQde5Z4A80fwTcs8AeaP4LsRQl17lngDzR/BTGw1tgqbtb4JYhJFU3G2008fFuuGoq4YZmamEObqY5wy0gjPAgqLU/yaf69tX5Ws/7dToPaPqddkvaUfndy+dJ6nXZL2lH53cvnS2sihLVPqddkvaUfndy+dJ6nXZL2lH53cvnSvOzm2VsuU00FJcYKyakOmqhp5o5X051OZiVjTlh1Nc3j1grN2ivdLbqZ9VV1MdHTw6N7UVD2xRx7x7YmanvIAy9zGjxuCDXPqddkvaUfndy+dJ6nXZL2lH53cvnS2XZrnBW08dRTzNqIJ2iSGeFwfHKw9D2Pbwc098LLQap9Trsl7Sj87uXzpPU67Je0o/O7l86W1kQap9Trsl7Sj87uXzpPU67Je0o/O7l86W1kQap9Trsl7Sj87uXzpPU67Je0o/O7l86W1lH7RXult1M+qq6llJTw6N7UVD2xRx7x7Yma3uOG5e9jR43BBrn1OuyXtKPzu5fOk9Trsl7Sj87uXzpWew8qOz9fO2npr7R1M8p0xQRVlM6WV3Tpij16pHYBOGgngVb0GqfU67Je0o/O7l86T1OuyXtKPzu5fOlsy73GCjgkqJ5m08EDHSzTSuDGRRtGXPe88GtA6yubXXw1UEc8MrZ4ahjJoJonB7JYpAHMkY4cHMc0ggjvoNZep12S9pR+d3L50nqddkvaUfndy+dLayrPKXtzQ7O291fXPcynY+OJzoo3TOD5TpZ3DeOM9aCn+p12S9pR+d3L50nqddkvaUfndy+dLayINU+p12S9pR+d3L50nqddkvaUfndy+dLayINU+p12S9pR+d3L50nqddkvaUfndy+dLayINU+p12S9pR+d3L50q3yqchOzFDYrnVQWhsU9JbrhU08nbNe/dzwU0kkT9ElQWOw9rThwIOOIK30qdy4/gxefyTdf2SZB+c25Z4A80fwTcs8AeaP4LsRSh17lngDzR/BNyzwB5o/guxEHAGFyiKUCIiAiIgzLLPu52Hx6T5HgsPyqy1k7gzh3yDjvd738BU4FWaKsDw13U7GoY6D0EH3f3Li6vDeq9DouX02xibxsmCXtIIGccSPFwzgqSpd2wZMgPADGSceQY4LHqLaw5cIw4k6nYAyff6V2U7IndyKcl3ewwAfCuSZx7WHFhZ+q3f5fP2yjjdwmGc5AB4+4D0lZ9JNlpweGNWeIwXHB6fGuqmtkcZDiwB3iwceQ44e4uKuXui0cAcascMAd8rO5S+EZ4+idq75H9yMdY+XpUfJeo6SZjXwvl3kUkmqLSTHuyDlwJHAjV1/yehdstQCQB4gO8MKDv0hNQSOGIxFnHFzHFsmMnoacN6PH310cHFMrqvO5+e4SWeXN/uZqpdWNLW9yxvi6yf6x/go5EXpY4zGajys87ld3zRERWUEREBERAREQEREBERAU/yaf69tX5Ws/wC3U6gFP8mn+vbV+VrP+3U6D9J0RFVZ4T5FKl1i2shu2sikvl92h2Zr8jLYpTNDPQnUPWa55YTk5AbBL0Zytq9m3VyXGOKxwuIEVvvG090dG4AxUlnpJ3UDZWH10E1bhh6wY2Hxio2nY9152D2kjiaTVUO0l6ulCY2ufI2poDDKRC1ndGZ8HbETdPHMo6egzGxPbl42b2r2lr6Z1NU3Ky1tspYZARuaO22uRtQ6EOAcyKesdM8tIHdRe6Q2byMXCtpdgLXLQ0AudW2gomwUTqhlG2UySsikc+pkaWxsjjc+U8MuEZaOJCjLhyobR2W6WyC82mjbR3ysjtsFTaaqomko6qctbC2pbVRtEoLnDJYAA1rzkkBrqddduq6wcmFkqKN/a8lS220E1fujUfaymnbM+Wt3OktkLd22MB3DMrcccA0/lfq7HS1mzr4NrJ7/ACQ362VVfU1l1fcqalp99vHyyNjd2lbndy7DAGODGP4ENcUG+uXblfk2ZuFppm251wF5dXR7uAuNQZqcU4poaaMDS98stQxmXEBvTxXZUcpFxsthrLttDb4beYHRmkoaCftuV7ZgxsVNLLnduqt84tLmdwGgu4gFVjlzmZJtpsS9jxIySa+PY9hDmvY+npHNexzeDmkEEEdOVk9nLstVXTZGXtdrpH2+pp7jJDEC50tPCyWGbuR65rGzGYjvRHvIM7Yza7bW4spqx1goKOiq3QyGknran7Yw0crmneu+5CHebo6927S7qIaeAz+UTlQrIr3FYbPb47ldH05rquSrmdT0dtpMhrJKl0bXSSPc5zO4aARvIunVgZ+yHLfs3cKOnnZeaWB9U2EChmqYI6yKeTDO1nUZfvTK2Q6O5aQcZaSCCdbNusGznKdcJ7jK2ipdpbbSOt1fUHdU5noY6anlpH1DwIo5PuEju6cMZgHTKzIXPZDlSuMN9isV8tsVBWV0L6i111umlqaG4blrnzwN3zGyU87GsccP6eAw3VHvMfs2vwEuv/xn950Sqm394ptpNvdnYLbUMrm2D7Y3C6VdG9k8FNHM2FscMk8RLDIXwCMtBJBmbnrxa+za/AS6/wDxn950SDS/KtS7PbRWm12yxU1PWbRSNtrm1FsiZC6higjb23UXGugYGsgaSQWvc4h72kNzhb25d+VSXZNlq/zQ3EXCsjoand6zUaAGa5KaFgO/qXAu0x5GXFozxWk+yB2k2Um2SpH01ZTSX6lhtX2rltL2GvgrI9zvA+WjOuJgYJsiQgBwbjuwxWnlxmq5G7AvrWlla+82F9exwDS2sd2oalrmjg1wlLwQOAQXi6bU3sbPXmtvVgpIIIKI1NJa+2e3jPGGTOqaW5P07skAQDuG4Ot/Dgsmt5VKKx7E0d6ko2wRSUFvdR2ukLY2b+qhY6noacluI4mjOXaTpZG8hpxpMz2SP4I3n8mVv/actH8rtqqpeTLZysggNULI3Z671UA1EupKeidHK7DWuOlplYXHGGs3rjwaUF12o5T9sLNaZbrXbN0jqdsQl3FJXSmqt+vGg3COWPRMwEta7cOJbqzghrsQfZbXx1z5NaevdGInXBlirnRNJc2N1W2OodG1xGXNaXkZPeXR2QHLvY7xstW0ltlkudTW0bpHwwQTs+19MxzHT1VwkmY1kEbMBmAXFz5ImgEPDlgdkEMckVr/AOB2X/ZoEFn215b9oLfSC9HZljNnxNC3VU1O7uklHO8Rw1/avrKZj3OYBE8Ofl7c4adQ29txeLnHRwyWq3R3OeqliZiqqRRQ01NJFJKayZxY58rA5sTN2wajvQf5JWvuzf8AwFuf+9bf7xpFDcvu3NVbI9nKFlxNko709sNyvbGMc+khgip9MMcsrXR0rpTK77s4dwI9XrWvQTuyvKdeqfaWnsN6t1LBLdKaoqrdW2meomhe6ma+WWCVlSwPDhHFKS7ucEMGDry3jlJ5Zay17StsdNZnXWaptrK2iZBJu3y1ck8kQinfIN1TUjY4pJHTOPANxjiFqRtfZaTlC2cfS7QS3aCGG6wVNyuN0mukLamWhnZFDHXTvNOJHGWLMcJGDLHkAubnZU3+1ln/AKVP94OQYLeXK+UF2lstw2cZPdp6aOrs1PZ6gyQ129eY93PNUDFJEzRO5878NaIJOHFpdYeTzlQvDtpXWC82yno6mWhN0op7dUSTxSQCQxGKQSjOvLZu67njEe5IcHKKuf8Atapv/Szv26oXVtB/tct//piT9rr0G/1TuXH8GLz+Sbr+yTK4qncuP4MXn8k3X9kmQfnUiIrKiIiAiIgIiICIiApawRZa894sA73HJPu8GrBttE+olbGwZc7r6mtHFz3HqaBklWiidGGvjZ62J+gcMEuA7p7++93T4uA6lh1Hbjt/Z0dNjvkjmKoHDHiB8XfGFJwlnQAGkcQc+uVduNE4EmN2l3SR1H+BWNGKs8dJOOnTj3DxXmemV685cseyyV0mlmrP1/ioCSv4Fo7px6cfvPQFxJSVMvBxLG9ODgZ9wLLtdA0OIxjTjHRxz0lMcZEZ8uWdfNDSEjW73B3sfKVAXB+qV5/rOHuA4HyK7SMDR5eHvn93FUm4U74pHNe0tOcjIxqa7i1w77SOOV19Jd21xdbNY4z93QiIu95wiIgIiICIiAiIgIiICIiAp/k0/wBe2r8rWf8AbqdQCmNhqyOmu1vnldu4qa422pnkw52iGnq4Zpn6WAudpY1xw0EnHAEoP0uRat9UJsr7b/od0+ap6oTZX23/AEO6fNVVZsSz2elomvZTUsVI2WV9RKymiigbJPLjezyNiaA+Z2Bl54nAyVkV9JFURPhlibNFMx8M0MrWyRyxSNLJIpY3gtkjc0lpaQQQSCtZ+qE2V9t/0O6fNU9UJsr7b/od0+aoNgfaCi7T7S7Sh7S3e47R3EPau5/oe1tO63X9XThRkPJ/ZWUb6Jtmo20cz2yy0baOlEEsjcFskkIj0PkBDcOIJGB3lUvVCbK+2/6HdPmqeqE2V9t/0O6fNUF95tW/VSu+19PqtjTHbXdrwZt8ZY2IsoTozSM0MjbiPSMMaOgBSq1b6oTZX23/AEO6fNU9UJsr7b/od0+aoLTT8nFijqe2mWKhZU6zN2y2ho2zCUkudKJRFqEpJJLgckk8VMbQ2GjuMJgrKOGuhJDjBVwxVMepvrXbuZpbqHUcZC196oTZX23/AEO6fNU9UJsr7b/od0+aoL7szs1QWyMxUVBBQRvOt8dHBDTNe/GNb2wtAc7HDJ4rJvdppq6B1PVU0dZBLp3lPVRR1EMmhzZGa4ZWlj9L2scMjgWg9IWufVCbK+2/6HdPmqeqE2V9t/0O6fNUFvsmwdmoZRLS2Wjo5R0S0tDR08g8kkUQcPfUndrJSVboX1FHDVPpJW1FI+ohimdS1DCCyendI0mGYEAh7cEYHFa99UJsr7b/AKHdPmqeqE2V9t/0O6fNUGyrlQw1ML4ZoWVEMzXRzQTsZLFLG4YcySKQFr2EcCCCCobaeKrorW5looqd89M2njoqCU9qUu5jkjbJA0wgCACmEoZgaQ4M4YyFTvVCbK+2/wCh3T5qnqhNlfbf9DunzVBQNtrNtdtNQSWgbMUuydNXyQfbK5OuNHcHSU8cgle2np7fG15lJaOEhw4EtJbqLm73n2VoJaCKgnooqykgjgijpqyGKqi00zQyEujmaWOc0NGDhUf1Qmyvtv8Aod0+ap6oTZX23/Q7p81QbFvlopa6B1PVUsVZTyad5T1UUdRDJocJGa4ZmljtL2tcMjgWg9S6b5s/RV9N2tVUUNXTdzimqYYp4QY+EZEUjS0FvUQOHUqB6oTZX23/AEO6fNU9UJsr7b/od0+aoLdWbA2WalipJLNRy0tM4yU9JJRUjoIHu9c6KB0eiNxyckDjk5UqbLSdt9udqRduCLtYVu5i7Z7W1a+1+2dO83GvutGcZ44WvPVCbK+2/wCh3T5qnqhNlfbf9DunzVBsN1lpDVisNJEaxsXaza0wxGpbT6i/cNqdO8EOoudozjJJwuJLJSOq21po4XVkcXa7K0wxGpZTkueYGVJbvGw6nPOgHGXOOOK176oTZX23/Q7p81T1Qmyvtv8Aod0+aoNpKncuP4MXn8k3X9kmVe9UJsr7b/od0+aqtcqnLfs3XWK50sF03s9XbrhTU8fatxZvJp6aSOJmuSmDG5e5oy4gDPEhB4wREVlRERARcxsLiAAXFxAa1oJLieAAA4k+JXzZ3kxqpwH1DxSMPHRjeTY8bAQ2P3TnxIKEu2kpZJjiON0p70bXPPvNBW9rLsDbqYAiAVDx/LqTvcnv7vgxvmqy0wDW4YxseOGljQ0D3BwV5hUbaHt2wFzn/wDCmIHrnc2L/pJ1/ArNbeSSTGqeqDR1sgaXHybyTAHmraolceBOPJgLGnBznPAZz4z1K3ok8o3VNu9sprTbpTHFjudUj/XSSBvEMdJjOC4Y6h4gtcbPNLYiXHLpZJHyHvve8uefJkn3FtTlMYftbUYGcQvDe+D0Zz3srXNHT6II+s44+U9K876hlZrH8vV+nYyy38Oak4IPT1E/wUrZ5W+tx0rFlhD4x1Hp97pyu6npDjgcEdeRxC4MXdcHfcZGlxaB63hnqWJRs4k4xnh9e8st1IeGRxOMk/DwXbNGAPr1d8pfKJihr3MWQSO6mNe4e4CRhWy8bLsrLZTh33OenpYS2XBPERt1Mk6ywn3ulVumojWVDKcDLSQ+bxQtILs/7xw3/mW2wwai3qDNHixjHvL0vp/H2trzvqOc3MZ8PO93s1TSHE0Do+88gljh1Fkg7lw91YC9J0Uok7nTljAGYOC0EDBb4yMYJ8qjb1sjb6tuHUzGOP8AORBsEgPfyz1w6+OQu7Li+zzZn93n5FedouTWrgcTT/53HngBhkoHecwnS7yg+4FTq+hmpziWF8J6MSsczPk1Dj7iys0ux0REBERAREQEREBERAREQEREBERAREQEREBERAREQEREBERAREQEREBERAREQEREBERARFY+Tmz9uXCNrm6o4vu8o6iGEaWnyv0+5lJNjZfJhskyjp21EjM1MrQ/Lv5hjgCyNvgvIILiOPHHVxu27PSvsDucd/Bz3wSOhfdVwGfG0++R/FdM45pn63WxvDPlXW7uTnqPA+Xv+8u1pwUl+VW0ep1ykYyOn5T0ALq05cB047px+vvLpMgZnJz06R197J7yw3vk1h2ogNLXaGnGrBz3RHrs97oSYXJFykNqqYTU00QwS+GQADp4Dp09PThanoKrWxrXDQW8HA8MEdIOetbfuEO9kdKDq+5BjWN4PYdRe92OH9ToH8kqubS7PsfEJ2NxLG0bwAcJ2ADLsf0rW8fGAfFjz+t4cs5uTvN/mPS6Hnxwvpt867/aqxTRhx0/B3gejKkIIDGsejZoOQOGPXcCsioujOh3T0gjh5Bx68rx49qu4x6vFhRVyeBnxDI8Z7w75WRS1xee5b67uGNxkuJ68d9S0GzZLmued5J69sWSGRketLyBkuz4sDHXwW3FxZcl/TO33c/Ny48c/Ve/2ZWwdp3ERkc37pJ90l74xksjHiaOnxlyssPWes9PSOlR0FzcyQRxwB8TGhj35IcZM90Yz0Fo8fSetSVM8dI4jvkZ0+Jze+voMeP28ZPh87nyevK2uaaMNLgPCc7zu6+UlfcwYBk8Seho6SfEuuskLMOHdau57nq7x4dAyce6F90kHHU45cfg8QUo8OY4scSMuPQOpo8S+aoNc0se0SA8HNkAe09/LXLvmeAPrldDI88T19XiUWEVG/7AUFUCY2GjkPQ6HjGT/WhPDH+7pWt9ptiqygBe5gmhH8/D3TQO+9vro/KeHjW93RhdFWcN09Idk4PR3uI6wVlcFvU81orhykbPMpniaJumOR2l7B0MkOSC3vNcAeHUR4wFT1nZpYREQEREBERAREQEREBERAREQEREBERAREQEREBERAREQEREBERAREQEREBERAW5eQu17undOR3U7iWn/wAuPLGf9e8PvLTsETpHtY0Zc9zWNHfc4hrR75C9H7OUzaambG3oiayEePS0NJ90kla8OO8lOS6iRjOWRnwSGnyHo+H5V2XD1g8rR8IXRSOzEPER8BXbXnLWj+u0fvXVrsx33HLknIQfX9y4VVmLXRZbnrHwrpa3UAR195ZrljxNDXaf5LslviPWPf4++rY1Sx1brJ6Pd/gvvLg0jGsHqdnPuOHX8i7nM4/X3FyGqdy+TvPDX93pDSy4/mpCTHkDDT/KiOOvveLyLHoLV25OGN4aQXyPPdaG5wOHRqPHHkKv1+oG1FMYyOLsaXHgWOyS14PfB4+Pj3107G2htLSNy3E0rGyTO9cd64DuC7oDWZI9zx8fLz+nz3t+cfOv8PVx+pX2df8Abx/t00FljpcCEd0MappAHuPWRkjhnxYWdNEXAgnAd0gcNXVxPSR4lmEZ8Xf/AMF8HyL1MZjjNYyR5WWWWV3ldsNkAaOAwPcXxKdI4dPUsx5x1Z7wXXHF1nifk+vBWuVRp8UsLulzi4niASSB7iyy7SFwOC65Dk4WdXj5Dcnj1LuXx4lyVXSbXyDl2PF8pxxWNcHAk95p3fukZ+XSu+hdlz3e59feWFP6yTvh2r4Gu91W12RvuqO39PvKGYdbBvP7Mh5x7gK1At8XSIPaQRlsjS1w74IwR7xWjrhTGGV8Z6Y3OZ5cHAPujBXJnNVvjdx0IiKiRFP7D7OsuctREaxtI+noa6vga+KSd1Y+hjdUPpImxkFsjomTu1d0QInYa7oGNYdmLjcGa6S21NbHx+60lLU1MYLeBG9hjLNQPDGcoIlFkXGhmppDFPBJTStAc6Gpikp5WtOQC6KZoeAcHiR1FY6AiIgIiICIiAiIgIiICImUBEWRSUE8zJHxwSSsp2iSokijkkZTxuOlsk72NLYWE8A5xAygx0REBERAREQEREBERAREQEREBERBZ+TGg39wY4juacOnd5R3Mf8A1OB/5VvGE4h/9xvwub/itdcjtBpppJj0zv0t/wByLhnzy/3lsKM/cf8A3G/BxXVwRjy130p7lw8E573DOV3VJ7to72XH5B8pUZVSmPUQeHcZI48NbWn4Csre6nuPkHuDjj4VtfDOeWWxyFfEZX0qruW9K65mZ8WeIPePUV25XBTSK643ZH9YcD1eQjxFfQ4j3vr411ngc9Y+EdbSvppHSOvv9XfCIZIGcA9GG+T1vD3VywYb53ynCMPHHfawj3uK+c9wfK4f9R/gFpGbqK4ccfwRzseXrK62jP7z31VeA4nvnv8A7l9dCHguQPqVFqz5K62cTlcyceCYwFUcOXEz8A+RfLpAsaokz9e8g76Z4ZBqJxkkk+7w8vkUfvdReMY1D4cHp6s8R8C7Kl/3KJuP5RJ8WknHu5AXxpxj/mz7uAr6U2xqgaovGAD9StRcoNPorC7+lYx/ujuD+qFt6l4x8esAe8MLW3KdT43bvBc9h/5wHD9Urm5p8ujBSURFgu33yQbe9pU1LcbnLTVtPQBlitFFT0lHNeKV+GA1DZA1ksVE2lMjXZe4yEsGNTsvwuX3atj6y4U8guVtuFFUw01vpo69rrUaOJ/302lYyN1MZqbTI0N15L4u6GHBUzYWmjrbJd6RlJFLXwCju1JNug6sdS0smi5Q083rgGROjlEbeLg6fgeGKjvKm4VTcySVtVVyQwsfNI+aaomkLYIGGaZxL3E7tg1HgNI4AIldtitrH3F8Vpu0762iq3tp6arqHGers9XO7RT1lJVSZlMAkcxskL3FhZnAGCHUW9UEtHUT08oxLSTT00zRnAlp3uikDSRkt1NOD1jC2hs5yX3E0VS1tlqWXy13K3SMdUFkdHJRSh/csMv+bVQjnh1vc1xGiVhDiA5qqPLHUMnvNXMy4w3Y1BZLJW0MDqSmlmdE0PbBE6STLGkAaw9wfxdkklBbr7yU261GldctpGUcdfSU1VA2KgqaqfXK0mbeRQyEQ0sZMeJnHMhLwGt0EmOreR+tZtAbO2oifpgFwdcXZjp2WzGX10jNRcwB33PQCe7x3Wk6x3dk3XQ1Nbb3QzMna3Z61RudC9kobIH1jjGSwkB+lzDp6cOb31tK5ba0FLtUN5Wwx09y2YpLZ2/9xqYKSpe+WaF1SHaojDpxqa8Fvdx6u5JKIafrthLfPRVdTar59tnWqIVVdTS0M9ueaTVpkraR00jhNEzpcw4c1uCTkta6J5QtjjaILbKajtj7bW2numkR7rtczjUYM63b0NBb3fc549yFsnaKK+0VBWOqbzZqSGejqqbTb47Oai6xzMw6joxR0TZiyUcNZLdPcuOMZb87ZbPt2ktFlqKW50UDLZaobZcxX1bKV9DNStY175I3NLnRnEhHQSAwt1B+QELS8jLn32ktP2xGa20x3jtjtYndmQTDtYRb8a+7i/0mpvB3rcjji23krgrKuOipL7DV1cTZprw5tNUx0Nqpqdrd/M24SEMrw2VwjG7DdRcCdADiNuU16oG7d26VlfE+mZszDCyqMsTGEt7ckYHuc7EcpiLX6CQ4Bw4LTPY83ukp31tDWVAoYb3aam19uydyyknlZpifM48I4iHSAuJABDM4BJBLIk5NqCspaqW0X4Xea2wuqqqikoKm3yy00fCWoojM92/a3wAM8WjOXNDvqHkyoobVb7pXX5tBS3Nkzt2yiqKyobKx+I4oIqd5MzDGHPfKQ0MIY3Dy8Ys3J7YuZ7qy5XCvo3vdbqqit9FQVbKyWvqKl0Ra5rWNBbSt3bcvcOAfk6dPdVnlSrIX7M7LxMmZK+npbuyZjHse+Imala0Ssacxklj8asZ0u7yIZ1+5JLfa54/thtNFTUtc2OS11EFFU1MlXBI1jjUzwRv00NOwyMGtz3B3EjTg4j28jlZ9v6m0vqY4mUEJraq6SNcKeK36GSCqMerIcdYbuy4Yc2TutLS9c9kVWwz01jEUrJjHs5b45BE9shjkDHAxvDCdEmQRpPHgtqbXbS26baa8UMlwighv9jprbDcd4ySngqtzIYmzytdpZG5s5JJIHBg/lhBrnZ/kot12NSbdtI2rZQ0tRUztmt9TSTh8bcw7uKeQCWmkcHgyA5jIYC12sETtJstYn7FMe69sjY68Ne+7faeskljqHUYDrZuGu3742jLt6Hbs46MrL5GtkRs/V18lfdKFk0tnuEFNTU1bFUGSN27lmnkdhoijG6jDA7Dn6pDpG7KrnJ/SsvGx8toiq6eC4QXZlyZT1tRHS9sUrqVlOXQPk4Pc1xfkdWkZxqbklC2zk7o4bfBX3S9C1QXB0wtkMdFUV9TWQxEA1boIng09PgtdxzkPj4gvaDeOSbZmCOl2no4bvT1dPNarc9t1brhp4oZTWukfVxuy+nkia17nx5cQNPWcDCv1mbtRaLQyjrqWKtsVIbTcKCsqoqZ2KfdxR1dM/JZPTv3RdraS0h7eOWkLH2Ooae027aikddKWskktFCBJRzB8L6lz6tstJTyP09tPjc+JpcwYzI0cDkAhXLtyeUT7RUXK2Xv7bNtjoG3GCSgqLdJGyocGR1ELah5c+LOeBA4Mk45aWrXS2fyT10MWzu07HzMjfPS2lsLHvYx0zhPVAiJjjmQgvYCG59c3vrWCAiIgIiICIiAiIgIiICIiAiKY2Koe2K+FmMta8Sv/AN2L7oc+UgD3Ug3HszQ9rUsMOOMcbQ7/AHyNUn/UXKWjP3IfjW/CFjsK7oz9xH42P5cLt45qxhnezurI8t4j1wLD3jqHA+/j4V0UUurJz3+HyZws2pGYz1YLT7xCqVdFprNWMFhczIJB0yAPb0cHN6vEWrbLHcZS6q4RnH199feVE22rcTpPHhwPXwxwKkGSA/X6/X31lIva7soD9fr7i68/X6/X9/Icp0rt9HiusHB7x+A/4oXr4c4d9WQkP5LD3g3PT0ELoklxkDw3nyDOf4pUyYhbg8SBnIzj6lY7pMud4iR8imX4NPsD3u93/dX0D/8Ai6ta53gUG3ZlfLj9fr5F8avr9fIhKrpaZOehdM78j4P3Lkv+v16F1uKjwmV0v4HC6y/vroqa1hPB4yPH9cromrdDXHpIHDPhOOAkqbPs7amUhsRHH/SZB6sknK7IJC48TngSPgzhRM9Sd2wnqdj3wc/Ksq1zAMcfBB/cf3K/wp8uyhf9zHu9HT0lU/lKp8wOPe0PHlaQD8BKtFuf9yHHv9HX7vlyoza+DeU0g69Dse8VhyTeLbHy0+iIuVqy7Nc56KoiqaeZ1PUU7xLBPEQHxvAIyMghwILmlrgWua5zSCCQblLtTZK129rLHJS1JIkkqLDWNoop5c5L+0KqCWKlcTgkwuGSScBUJEHoDkp5XHipNtpGxWilqori9tfeq+quMsVx7We+kqpqqre2COIzRxB0DYw0l7iCXHutPbW7Rtr46dv2to6GSlbO2aa2U0dGK50r2ubJPHCBHlgZhukAd2/GAQ0QCIlwAgC5REOA0DqwhaO8uUQcYHeXKIg4DQOgY8iYXKIJq1bJXCqpzUQ0b5YfuxD27sGXtduucwROcJKrQPXbprtODnGF1t2YrjRmtFI/tUMdMZu4H3Br906oEWreuphJ3JmDdAOQXcCr3yd7TWujbb3ySthfSisZWiS3ur6l0lS+obHNR1shLKGjbDLAXMgDJdUc/cyGXUoO5V9ump4ZXV1QyantFLZjQ0sboXTvpIRRFzqt4MX2sniBlfE4ayZHs08dSCEumx9wpIWyzUL4o3Pij6GOeyWdpfBHNBG4y08rwDpZI1rnY4AqQunJ/X01Jvpqd8crq6ktkNIGNmfPNVRVUpa10MjtNSx1MyM05brzOzOngHXrnxaqWSeWF7JWm42a50tLHbX08r4LZXGpdTV1ymc+esuBiePukr3RaonuD8yaRF7NbTWuzujdFVy3LF5guUgNM+AtpO0LnQPdid+JLgx1bG9w4McWsDXniWhTajYm5NnjpzQPdNUNnkp4493PvhStL6kRPhc5kkkbWnUwEubwBAJAPbX7CXWCJ80lA9sUMTqh0odA9pgY3VLNCY5D2xExvF7otQYM6tKtI2uo6aNlPHNE9jYb88vt1u+1dO2puFpltdIGxOzPJM55ZvJDpY1oiA16C5Rlm2mpYnW4uc4Cist8t02GE6aq4fbncNYP5TCK2ly4cBl2fWlBV6qwVcUk8b6ZzH0MbJqtrtP+bxSGJkb3nOMOM8AGCc7xuMqOWx9trju7FRMfG+GuucFHHXtma5jpLdYX1FNa59MmH6ahr4DqI7r7XNIJBGdcICIiAiIgIiICIiAiIgIiICv3I/RZfNORwa1sLD43HW/4Az31QVuLYCi3FBECMOkzM/yycW58YZoCvxzdRl4WPK7nHEXkkiP/AFNWNn3l31JxTu8WHebxXXh5YZeElIctI74VO2okIuMLOqWF0hx1mAgH9ZnvK1h+fHkZ8qre1Ebe3aV56RHWRj/mETsf9BXTfFY/LLopMH4FKwPVfhl6lI0k3UueNMktqQuWM1/71yXKyru1+JcLqyvuM90PKPlQSThwx3iAPcwo9zu6PjLvlWbG/j7pUWx2QD05APvgFWk7IZGc+NcLpJXDJFAyCVwXLpMnj+vuL4MmFCXa9yxp5QAV8SSrArJ8AqExE1Uo49zn69SrNyrZBOxrZO4kdpc3gdJ0niD5QOHlUpcJiSRnh3lD1rWt0uPACRgb/vP7jJ9/4UxWy8LFQHLACTnGo+U4H+PurPDyzWOnMZPvcB8qi7a/UZD1NeGDyNaCfhcPeWfI8Ev8TGA/8xJx8CvlOyuPllUDtLcdJA+VKvumkHr4Lqpn4aSel3V3guHO4LH4aNMoqZzrn8CPzX+mnOufwI/Nf6a4XRpc0VM51z+BH5r/AE051z+BH5r/AE0NLmipnOufwI/Nf6ac65/Aj81/poaXNFTOdc/gR+a/0051z+BH5r/TQ0uaKmc65/Aj81/ppzrn8CPzX+mhpc0VM51z+BH5r/TTnXP4Efmv9NDS5oqZzrn8CPzX+mnOufwI/Nf6aGlzRUznXP4Efmv9NOdc/gR+a/00NLmipnOufwI/Nf6ac65/Aj81/poaXNFTOdc/gR+a/wBNOdc/gR+a/wBNDS6OJJyTk8Bk8TgANAyeoAAeQBcKmc65/Aj81/ppzrn8CPzX+mhpc0VM51z+BH5r/TTnXP4Efmv9NDS5oqZzrn8CPzX+mnOufwI/Nf6aGlzRUznXP4Efmv8ATTnXP4Efmv8ATQ0uaKmc65/Aj81/ppzrn8CPzX+mhpc0VM51z+BH5r/TTnXP4Efmv9NDS5oqZzrn8CPzX+mnOufwI/Nf6aGl8tdKZ544h/OPaz3Ce6PuDJW8IsAADoAAA7w6APIvL1n27qqWYStiic5gcGiRspA1DSThsoOcE9asP+Wm5f0FN/Z1HzhaYZSK3Hb0TDxWS9v3Mt74I99ecmct9zH/AIem/s6n5yvr/LndPY9N/Z1PzlbYc2M8s8+O3w9EWubVG3vgaT5W8P3Ktcoc7mvpi3iRKcY8Yx+9aYp+W25sziCm4knjHUcM9OP84WJcuV24VEkT3Q04MDi5gbHOGkuGO6BnJI8mFrl1ONx1P/P7UnDdt8Mdx+XyrJjkOe93loA8sNx/oKf+zqP/AL19DljuP9BT/wBnUfOFn72K/t16SglJaCen/wDP8F9bxec28t1zAx2vTcP/AC6n5yuRy33T+gpv7Op+cq058FPayeihL3/r0rtjd3Q8o+ULzgeW+5+x6b+zqfnK5Zy4XQH/AEFN38bupx73bKn/AJGB7OT05G/gfKffUfTOy0eQLz03l6uoOe16Xj0jdVOPL989K6WcuV0Ax2vS8P8Ay6n5ypvUYaPayejnFfBK85nlyun9BTf2dT85XyeW+6H+Zpv7Oo+cKvv4HtZPRhcutzl53/y3XT+hpv7Oo+cJ/luuf9BTf2dR84T38D2sm/KmTSM9Ch6uoz0laRm5Ybk88YoPJonwPJ93WLLyp17v5qAeRk375lX38VpxVuCrnYT0qC2rmDoBp4aXNd5cHp9/C1q7lIrCP9DCPGGTZ+GZY1Xt3VSt0mOLyhsufhl6FW8uOqtMK3jslPvIC7w3Pd7vcj9ykaR2oPPfeB7jQP35WiLTyl1tNHoZFCR3XF7Jie64nomAWTDyr17G4EMByS7jHPnLunonV71GNk2rOKyt4yS90B1d7qP+C4e/xrR45V6/OdzB5k//AN65fys3A/zMHmT/AP3qnvYreitfoiLlbCIiAiIgIiICIiAiIgIiICIiAiIgIiICIiAiIgIiICIiAiIgIiICIiAiIgIiICIiAiIgIiICIiAiIgIiICIiAiIgIiICIiAiIgIiICIiAiIgIiICIiAiIgIiICIiAiIgIiICIiAiIgIiICIiAiIgIiICIiAiIgIiICIiAiIgIiICIiAiIgIiICIiAiIgIiICIiAiIgIiICIiAiIgIiICIiAiIgIiICIiAiIgIiICIiAiIgIiICIiAiIgIiICIiAiIgIiICIiAiIgIiICIiAiIgIiICIiAiIgIiICIiAiIg//2Q==\n"
              }
            ],
            "_view_module": "@jupyter-widgets/output",
            "_model_module_version": "1.0.0",
            "_view_count": null,
            "_view_module_version": "1.0.0",
            "layout": "IPY_MODEL_26ed863eecf5406c8bf12f6393acf098",
            "_model_module": "@jupyter-widgets/output"
          }
        },
        "fd8b251f6c8a42f79bb89a267bd59523": {
          "model_module": "@jupyter-widgets/output",
          "model_name": "OutputModel",
          "state": {
            "_view_name": "OutputView",
            "msg_id": "",
            "_dom_classes": [],
            "_model_name": "OutputModel",
            "outputs": [
              {
                "output_type": "stream",
                "metadata": {
                  "tags": []
                },
                "text": "Video available at https://www.bilibili.com/video/BV1GC4y1h7Ex\n",
                "stream": "stdout"
              },
              {
                "output_type": "display_data",
                "metadata": {
                  "tags": []
                },
                "text/html": "\n        <iframe\n            width=\"854\"\n            height=\"480\"\n            src=\"https://player.bilibili.com/player.html?bvid=BV1GC4y1h7Ex&page=1?fs=1\"\n            frameborder=\"0\"\n            allowfullscreen\n        ></iframe>\n        ",
                "text/plain": "<__main__.BiliVideo at 0x7f20178b50d0>"
              }
            ],
            "_view_module": "@jupyter-widgets/output",
            "_model_module_version": "1.0.0",
            "_view_count": null,
            "_view_module_version": "1.0.0",
            "layout": "IPY_MODEL_129fd4df9f3f497a999f465cb6b68091",
            "_model_module": "@jupyter-widgets/output"
          }
        },
        "26ed863eecf5406c8bf12f6393acf098": {
          "model_module": "@jupyter-widgets/base",
          "model_name": "LayoutModel",
          "state": {
            "_view_name": "LayoutView",
            "grid_template_rows": null,
            "right": null,
            "justify_content": null,
            "_view_module": "@jupyter-widgets/base",
            "overflow": null,
            "_model_module_version": "1.2.0",
            "_view_count": null,
            "flex_flow": null,
            "width": null,
            "min_width": null,
            "border": null,
            "align_items": null,
            "bottom": null,
            "_model_module": "@jupyter-widgets/base",
            "top": null,
            "grid_column": null,
            "overflow_y": null,
            "overflow_x": null,
            "grid_auto_flow": null,
            "grid_area": null,
            "grid_template_columns": null,
            "flex": null,
            "_model_name": "LayoutModel",
            "justify_items": null,
            "grid_row": null,
            "max_height": null,
            "align_content": null,
            "visibility": null,
            "align_self": null,
            "height": null,
            "min_height": null,
            "padding": null,
            "grid_auto_rows": null,
            "grid_gap": null,
            "max_width": null,
            "order": null,
            "_view_module_version": "1.2.0",
            "grid_template_areas": null,
            "object_position": null,
            "object_fit": null,
            "grid_auto_columns": null,
            "margin": null,
            "display": null,
            "left": null
          }
        },
        "129fd4df9f3f497a999f465cb6b68091": {
          "model_module": "@jupyter-widgets/base",
          "model_name": "LayoutModel",
          "state": {
            "_view_name": "LayoutView",
            "grid_template_rows": null,
            "right": null,
            "justify_content": null,
            "_view_module": "@jupyter-widgets/base",
            "overflow": null,
            "_model_module_version": "1.2.0",
            "_view_count": null,
            "flex_flow": null,
            "width": null,
            "min_width": null,
            "border": null,
            "align_items": null,
            "bottom": null,
            "_model_module": "@jupyter-widgets/base",
            "top": null,
            "grid_column": null,
            "overflow_y": null,
            "overflow_x": null,
            "grid_auto_flow": null,
            "grid_area": null,
            "grid_template_columns": null,
            "flex": null,
            "_model_name": "LayoutModel",
            "justify_items": null,
            "grid_row": null,
            "max_height": null,
            "align_content": null,
            "visibility": null,
            "align_self": null,
            "height": null,
            "min_height": null,
            "padding": null,
            "grid_auto_rows": null,
            "grid_gap": null,
            "max_width": null,
            "order": null,
            "_view_module_version": "1.2.0",
            "grid_template_areas": null,
            "object_position": null,
            "object_fit": null,
            "grid_auto_columns": null,
            "margin": null,
            "display": null,
            "left": null
          }
        },
        "be85ab60fc8a4359aaf46eec952ff9ea": {
          "model_module": "@jupyter-widgets/controls",
          "model_name": "TabModel",
          "state": {
            "_view_name": "TabView",
            "_dom_classes": [],
            "_titles": {
              "0": "Youtube",
              "1": "Bilibili"
            },
            "_model_name": "TabModel",
            "_view_module": "@jupyter-widgets/controls",
            "selected_index": 0,
            "_model_module_version": "1.5.0",
            "_view_count": null,
            "_view_module_version": "1.5.0",
            "box_style": "",
            "layout": "IPY_MODEL_95e7fc92132e45e2b205196d081b1810",
            "_model_module": "@jupyter-widgets/controls",
            "children": [
              "IPY_MODEL_85627bd5454642f9a3861d2028aa0f38",
              "IPY_MODEL_39e0c63036be4e27bd8fc98214f1716b"
            ]
          }
        },
        "95e7fc92132e45e2b205196d081b1810": {
          "model_module": "@jupyter-widgets/base",
          "model_name": "LayoutModel",
          "state": {
            "_view_name": "LayoutView",
            "grid_template_rows": null,
            "right": null,
            "justify_content": null,
            "_view_module": "@jupyter-widgets/base",
            "overflow": null,
            "_model_module_version": "1.2.0",
            "_view_count": null,
            "flex_flow": null,
            "width": null,
            "min_width": null,
            "border": null,
            "align_items": null,
            "bottom": null,
            "_model_module": "@jupyter-widgets/base",
            "top": null,
            "grid_column": null,
            "overflow_y": null,
            "overflow_x": null,
            "grid_auto_flow": null,
            "grid_area": null,
            "grid_template_columns": null,
            "flex": null,
            "_model_name": "LayoutModel",
            "justify_items": null,
            "grid_row": null,
            "max_height": null,
            "align_content": null,
            "visibility": null,
            "align_self": null,
            "height": null,
            "min_height": null,
            "padding": null,
            "grid_auto_rows": null,
            "grid_gap": null,
            "max_width": null,
            "order": null,
            "_view_module_version": "1.2.0",
            "grid_template_areas": null,
            "object_position": null,
            "object_fit": null,
            "grid_auto_columns": null,
            "margin": null,
            "display": null,
            "left": null
          }
        },
        "85627bd5454642f9a3861d2028aa0f38": {
          "model_module": "@jupyter-widgets/output",
          "model_name": "OutputModel",
          "state": {
            "_view_name": "OutputView",
            "msg_id": "",
            "_dom_classes": [],
            "_model_name": "OutputModel",
            "outputs": [
              {
                "output_type": "stream",
                "metadata": {
                  "tags": []
                },
                "text": "Video available at https://youtube.com/watch?v=71f1J98zj80\n",
                "stream": "stdout"
              },
              {
                "output_type": "display_data",
                "metadata": {
                  "tags": []
                },
                "text/html": "\n        <iframe\n            width=\"854\"\n            height=\"480\"\n            src=\"https://www.youtube.com/embed/71f1J98zj80?fs=1&rel=0\"\n            frameborder=\"0\"\n            allowfullscreen\n        ></iframe>\n        ",
                "text/plain": "<IPython.lib.display.YouTubeVideo at 0x7f201db69350>",
                "image/jpeg": "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\n"
              }
            ],
            "_view_module": "@jupyter-widgets/output",
            "_model_module_version": "1.0.0",
            "_view_count": null,
            "_view_module_version": "1.0.0",
            "layout": "IPY_MODEL_b92fe31d4fa443d7a61f87d11e71f1e6",
            "_model_module": "@jupyter-widgets/output"
          }
        },
        "39e0c63036be4e27bd8fc98214f1716b": {
          "model_module": "@jupyter-widgets/output",
          "model_name": "OutputModel",
          "state": {
            "_view_name": "OutputView",
            "msg_id": "",
            "_dom_classes": [],
            "_model_name": "OutputModel",
            "outputs": [
              {
                "output_type": "stream",
                "metadata": {
                  "tags": []
                },
                "text": "Video available at https://www.bilibili.com/video/BV1Zv411B7mD\n",
                "stream": "stdout"
              },
              {
                "output_type": "display_data",
                "metadata": {
                  "tags": []
                },
                "text/html": "\n        <iframe\n            width=\"854\"\n            height=\"480\"\n            src=\"https://player.bilibili.com/player.html?bvid=BV1Zv411B7mD&page=1?fs=1\"\n            frameborder=\"0\"\n            allowfullscreen\n        ></iframe>\n        ",
                "text/plain": "<__main__.BiliVideo at 0x7f201742acd0>"
              }
            ],
            "_view_module": "@jupyter-widgets/output",
            "_model_module_version": "1.0.0",
            "_view_count": null,
            "_view_module_version": "1.0.0",
            "layout": "IPY_MODEL_464ffee085244b94b84521529ad8e34d",
            "_model_module": "@jupyter-widgets/output"
          }
        },
        "b92fe31d4fa443d7a61f87d11e71f1e6": {
          "model_module": "@jupyter-widgets/base",
          "model_name": "LayoutModel",
          "state": {
            "_view_name": "LayoutView",
            "grid_template_rows": null,
            "right": null,
            "justify_content": null,
            "_view_module": "@jupyter-widgets/base",
            "overflow": null,
            "_model_module_version": "1.2.0",
            "_view_count": null,
            "flex_flow": null,
            "width": null,
            "min_width": null,
            "border": null,
            "align_items": null,
            "bottom": null,
            "_model_module": "@jupyter-widgets/base",
            "top": null,
            "grid_column": null,
            "overflow_y": null,
            "overflow_x": null,
            "grid_auto_flow": null,
            "grid_area": null,
            "grid_template_columns": null,
            "flex": null,
            "_model_name": "LayoutModel",
            "justify_items": null,
            "grid_row": null,
            "max_height": null,
            "align_content": null,
            "visibility": null,
            "align_self": null,
            "height": null,
            "min_height": null,
            "padding": null,
            "grid_auto_rows": null,
            "grid_gap": null,
            "max_width": null,
            "order": null,
            "_view_module_version": "1.2.0",
            "grid_template_areas": null,
            "object_position": null,
            "object_fit": null,
            "grid_auto_columns": null,
            "margin": null,
            "display": null,
            "left": null
          }
        },
        "464ffee085244b94b84521529ad8e34d": {
          "model_module": "@jupyter-widgets/base",
          "model_name": "LayoutModel",
          "state": {
            "_view_name": "LayoutView",
            "grid_template_rows": null,
            "right": null,
            "justify_content": null,
            "_view_module": "@jupyter-widgets/base",
            "overflow": null,
            "_model_module_version": "1.2.0",
            "_view_count": null,
            "flex_flow": null,
            "width": null,
            "min_width": null,
            "border": null,
            "align_items": null,
            "bottom": null,
            "_model_module": "@jupyter-widgets/base",
            "top": null,
            "grid_column": null,
            "overflow_y": null,
            "overflow_x": null,
            "grid_auto_flow": null,
            "grid_area": null,
            "grid_template_columns": null,
            "flex": null,
            "_model_name": "LayoutModel",
            "justify_items": null,
            "grid_row": null,
            "max_height": null,
            "align_content": null,
            "visibility": null,
            "align_self": null,
            "height": null,
            "min_height": null,
            "padding": null,
            "grid_auto_rows": null,
            "grid_gap": null,
            "max_width": null,
            "order": null,
            "_view_module_version": "1.2.0",
            "grid_template_areas": null,
            "object_position": null,
            "object_fit": null,
            "grid_auto_columns": null,
            "margin": null,
            "display": null,
            "left": null
          }
        },
        "9751ca4d688e4b5ea85ee353480dd3a7": {
          "model_module": "@jupyter-widgets/controls",
          "model_name": "TabModel",
          "state": {
            "_view_name": "TabView",
            "_dom_classes": [],
            "_titles": {
              "0": "Youtube",
              "1": "Bilibili"
            },
            "_model_name": "TabModel",
            "_view_module": "@jupyter-widgets/controls",
            "selected_index": 0,
            "_model_module_version": "1.5.0",
            "_view_count": null,
            "_view_module_version": "1.5.0",
            "box_style": "",
            "layout": "IPY_MODEL_40c3e6c1e1f84658877f0043c583aa3f",
            "_model_module": "@jupyter-widgets/controls",
            "children": [
              "IPY_MODEL_aca6405fb2eb4d2a913a02e724010979",
              "IPY_MODEL_05eb402e631447ec893a74846fc9023e"
            ]
          }
        },
        "40c3e6c1e1f84658877f0043c583aa3f": {
          "model_module": "@jupyter-widgets/base",
          "model_name": "LayoutModel",
          "state": {
            "_view_name": "LayoutView",
            "grid_template_rows": null,
            "right": null,
            "justify_content": null,
            "_view_module": "@jupyter-widgets/base",
            "overflow": null,
            "_model_module_version": "1.2.0",
            "_view_count": null,
            "flex_flow": null,
            "width": null,
            "min_width": null,
            "border": null,
            "align_items": null,
            "bottom": null,
            "_model_module": "@jupyter-widgets/base",
            "top": null,
            "grid_column": null,
            "overflow_y": null,
            "overflow_x": null,
            "grid_auto_flow": null,
            "grid_area": null,
            "grid_template_columns": null,
            "flex": null,
            "_model_name": "LayoutModel",
            "justify_items": null,
            "grid_row": null,
            "max_height": null,
            "align_content": null,
            "visibility": null,
            "align_self": null,
            "height": null,
            "min_height": null,
            "padding": null,
            "grid_auto_rows": null,
            "grid_gap": null,
            "max_width": null,
            "order": null,
            "_view_module_version": "1.2.0",
            "grid_template_areas": null,
            "object_position": null,
            "object_fit": null,
            "grid_auto_columns": null,
            "margin": null,
            "display": null,
            "left": null
          }
        },
        "aca6405fb2eb4d2a913a02e724010979": {
          "model_module": "@jupyter-widgets/output",
          "model_name": "OutputModel",
          "state": {
            "_view_name": "OutputView",
            "msg_id": "",
            "_dom_classes": [],
            "_model_name": "OutputModel",
            "outputs": [
              {
                "output_type": "stream",
                "metadata": {
                  "tags": []
                },
                "text": "Video available at https://youtube.com/watch?v=ioKkiukDkNg\n",
                "stream": "stdout"
              },
              {
                "output_type": "display_data",
                "metadata": {
                  "tags": []
                },
                "text/html": "\n        <iframe\n            width=\"854\"\n            height=\"480\"\n            src=\"https://www.youtube.com/embed/ioKkiukDkNg?fs=1&rel=0\"\n            frameborder=\"0\"\n            allowfullscreen\n        ></iframe>\n        ",
                "text/plain": "<IPython.lib.display.YouTubeVideo at 0x7f200ab80290>",
                "image/jpeg": "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\n"
              }
            ],
            "_view_module": "@jupyter-widgets/output",
            "_model_module_version": "1.0.0",
            "_view_count": null,
            "_view_module_version": "1.0.0",
            "layout": "IPY_MODEL_48aa3092aa8c4462acbbbcce95bea1bc",
            "_model_module": "@jupyter-widgets/output"
          }
        },
        "05eb402e631447ec893a74846fc9023e": {
          "model_module": "@jupyter-widgets/output",
          "model_name": "OutputModel",
          "state": {
            "_view_name": "OutputView",
            "msg_id": "",
            "_dom_classes": [],
            "_model_name": "OutputModel",
            "outputs": [
              {
                "output_type": "stream",
                "metadata": {
                  "tags": []
                },
                "text": "Video available at https://www.bilibili.com/video/BV1H54y1q7oS\n",
                "stream": "stdout"
              },
              {
                "output_type": "display_data",
                "metadata": {
                  "tags": []
                },
                "text/html": "\n        <iframe\n            width=\"854\"\n            height=\"480\"\n            src=\"https://player.bilibili.com/player.html?bvid=BV1H54y1q7oS&page=1?fs=1\"\n            frameborder=\"0\"\n            allowfullscreen\n        ></iframe>\n        ",
                "text/plain": "<__main__.BiliVideo at 0x7f1ff9b51750>"
              }
            ],
            "_view_module": "@jupyter-widgets/output",
            "_model_module_version": "1.0.0",
            "_view_count": null,
            "_view_module_version": "1.0.0",
            "layout": "IPY_MODEL_a5387886e14a4cca95df6307e1bf6edb",
            "_model_module": "@jupyter-widgets/output"
          }
        },
        "48aa3092aa8c4462acbbbcce95bea1bc": {
          "model_module": "@jupyter-widgets/base",
          "model_name": "LayoutModel",
          "state": {
            "_view_name": "LayoutView",
            "grid_template_rows": null,
            "right": null,
            "justify_content": null,
            "_view_module": "@jupyter-widgets/base",
            "overflow": null,
            "_model_module_version": "1.2.0",
            "_view_count": null,
            "flex_flow": null,
            "width": null,
            "min_width": null,
            "border": null,
            "align_items": null,
            "bottom": null,
            "_model_module": "@jupyter-widgets/base",
            "top": null,
            "grid_column": null,
            "overflow_y": null,
            "overflow_x": null,
            "grid_auto_flow": null,
            "grid_area": null,
            "grid_template_columns": null,
            "flex": null,
            "_model_name": "LayoutModel",
            "justify_items": null,
            "grid_row": null,
            "max_height": null,
            "align_content": null,
            "visibility": null,
            "align_self": null,
            "height": null,
            "min_height": null,
            "padding": null,
            "grid_auto_rows": null,
            "grid_gap": null,
            "max_width": null,
            "order": null,
            "_view_module_version": "1.2.0",
            "grid_template_areas": null,
            "object_position": null,
            "object_fit": null,
            "grid_auto_columns": null,
            "margin": null,
            "display": null,
            "left": null
          }
        },
        "a5387886e14a4cca95df6307e1bf6edb": {
          "model_module": "@jupyter-widgets/base",
          "model_name": "LayoutModel",
          "state": {
            "_view_name": "LayoutView",
            "grid_template_rows": null,
            "right": null,
            "justify_content": null,
            "_view_module": "@jupyter-widgets/base",
            "overflow": null,
            "_model_module_version": "1.2.0",
            "_view_count": null,
            "flex_flow": null,
            "width": null,
            "min_width": null,
            "border": null,
            "align_items": null,
            "bottom": null,
            "_model_module": "@jupyter-widgets/base",
            "top": null,
            "grid_column": null,
            "overflow_y": null,
            "overflow_x": null,
            "grid_auto_flow": null,
            "grid_area": null,
            "grid_template_columns": null,
            "flex": null,
            "_model_name": "LayoutModel",
            "justify_items": null,
            "grid_row": null,
            "max_height": null,
            "align_content": null,
            "visibility": null,
            "align_self": null,
            "height": null,
            "min_height": null,
            "padding": null,
            "grid_auto_rows": null,
            "grid_gap": null,
            "max_width": null,
            "order": null,
            "_view_module_version": "1.2.0",
            "grid_template_areas": null,
            "object_position": null,
            "object_fit": null,
            "grid_auto_columns": null,
            "margin": null,
            "display": null,
            "left": null
          }
        },
        "739d7857ae084f96acc2784fa0a4491c": {
          "model_module": "@jupyter-widgets/controls",
          "model_name": "TabModel",
          "state": {
            "_view_name": "TabView",
            "_dom_classes": [],
            "_titles": {
              "0": "Youtube",
              "1": "Bilibili"
            },
            "_model_name": "TabModel",
            "_view_module": "@jupyter-widgets/controls",
            "selected_index": 0,
            "_model_module_version": "1.5.0",
            "_view_count": null,
            "_view_module_version": "1.5.0",
            "box_style": "",
            "layout": "IPY_MODEL_dbf37a95dd444e609c885715f22e4ee0",
            "_model_module": "@jupyter-widgets/controls",
            "children": [
              "IPY_MODEL_938074c4ac804ef18fd5fb554f74ccf3",
              "IPY_MODEL_38725dd83b4e44c2aa04ca243b2ba20f"
            ]
          }
        },
        "dbf37a95dd444e609c885715f22e4ee0": {
          "model_module": "@jupyter-widgets/base",
          "model_name": "LayoutModel",
          "state": {
            "_view_name": "LayoutView",
            "grid_template_rows": null,
            "right": null,
            "justify_content": null,
            "_view_module": "@jupyter-widgets/base",
            "overflow": null,
            "_model_module_version": "1.2.0",
            "_view_count": null,
            "flex_flow": null,
            "width": null,
            "min_width": null,
            "border": null,
            "align_items": null,
            "bottom": null,
            "_model_module": "@jupyter-widgets/base",
            "top": null,
            "grid_column": null,
            "overflow_y": null,
            "overflow_x": null,
            "grid_auto_flow": null,
            "grid_area": null,
            "grid_template_columns": null,
            "flex": null,
            "_model_name": "LayoutModel",
            "justify_items": null,
            "grid_row": null,
            "max_height": null,
            "align_content": null,
            "visibility": null,
            "align_self": null,
            "height": null,
            "min_height": null,
            "padding": null,
            "grid_auto_rows": null,
            "grid_gap": null,
            "max_width": null,
            "order": null,
            "_view_module_version": "1.2.0",
            "grid_template_areas": null,
            "object_position": null,
            "object_fit": null,
            "grid_auto_columns": null,
            "margin": null,
            "display": null,
            "left": null
          }
        },
        "938074c4ac804ef18fd5fb554f74ccf3": {
          "model_module": "@jupyter-widgets/output",
          "model_name": "OutputModel",
          "state": {
            "_view_name": "OutputView",
            "msg_id": "",
            "_dom_classes": [],
            "_model_name": "OutputModel",
            "outputs": [
              {
                "output_type": "stream",
                "metadata": {
                  "tags": []
                },
                "text": "Video available at https://youtube.com/watch?v=nvpHtzuZggg\n",
                "stream": "stdout"
              },
              {
                "output_type": "display_data",
                "metadata": {
                  "tags": []
                },
                "text/html": "\n        <iframe\n            width=\"854\"\n            height=\"480\"\n            src=\"https://www.youtube.com/embed/nvpHtzuZggg?fs=1&rel=0\"\n            frameborder=\"0\"\n            allowfullscreen\n        ></iframe>\n        ",
                "text/plain": "<IPython.lib.display.YouTubeVideo at 0x7f1ffa177c10>",
                "image/jpeg": "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\n"
              }
            ],
            "_view_module": "@jupyter-widgets/output",
            "_model_module_version": "1.0.0",
            "_view_count": null,
            "_view_module_version": "1.0.0",
            "layout": "IPY_MODEL_ae1ed6cd400248b8822df9b573634ada",
            "_model_module": "@jupyter-widgets/output"
          }
        },
        "38725dd83b4e44c2aa04ca243b2ba20f": {
          "model_module": "@jupyter-widgets/output",
          "model_name": "OutputModel",
          "state": {
            "_view_name": "OutputView",
            "msg_id": "",
            "_dom_classes": [],
            "_model_name": "OutputModel",
            "outputs": [
              {
                "output_type": "stream",
                "metadata": {
                  "tags": []
                },
                "text": "Video available at https://www.bilibili.com/video/BV1GC4y1h7hi\n",
                "stream": "stdout"
              },
              {
                "output_type": "display_data",
                "metadata": {
                  "tags": []
                },
                "text/html": "\n        <iframe\n            width=\"854\"\n            height=\"480\"\n            src=\"https://player.bilibili.com/player.html?bvid=BV1GC4y1h7hi&page=1?fs=1\"\n            frameborder=\"0\"\n            allowfullscreen\n        ></iframe>\n        ",
                "text/plain": "<__main__.BiliVideo at 0x7f1ff9ba8190>"
              }
            ],
            "_view_module": "@jupyter-widgets/output",
            "_model_module_version": "1.0.0",
            "_view_count": null,
            "_view_module_version": "1.0.0",
            "layout": "IPY_MODEL_a870a60bf30143998e0b018a62312808",
            "_model_module": "@jupyter-widgets/output"
          }
        },
        "ae1ed6cd400248b8822df9b573634ada": {
          "model_module": "@jupyter-widgets/base",
          "model_name": "LayoutModel",
          "state": {
            "_view_name": "LayoutView",
            "grid_template_rows": null,
            "right": null,
            "justify_content": null,
            "_view_module": "@jupyter-widgets/base",
            "overflow": null,
            "_model_module_version": "1.2.0",
            "_view_count": null,
            "flex_flow": null,
            "width": null,
            "min_width": null,
            "border": null,
            "align_items": null,
            "bottom": null,
            "_model_module": "@jupyter-widgets/base",
            "top": null,
            "grid_column": null,
            "overflow_y": null,
            "overflow_x": null,
            "grid_auto_flow": null,
            "grid_area": null,
            "grid_template_columns": null,
            "flex": null,
            "_model_name": "LayoutModel",
            "justify_items": null,
            "grid_row": null,
            "max_height": null,
            "align_content": null,
            "visibility": null,
            "align_self": null,
            "height": null,
            "min_height": null,
            "padding": null,
            "grid_auto_rows": null,
            "grid_gap": null,
            "max_width": null,
            "order": null,
            "_view_module_version": "1.2.0",
            "grid_template_areas": null,
            "object_position": null,
            "object_fit": null,
            "grid_auto_columns": null,
            "margin": null,
            "display": null,
            "left": null
          }
        },
        "a870a60bf30143998e0b018a62312808": {
          "model_module": "@jupyter-widgets/base",
          "model_name": "LayoutModel",
          "state": {
            "_view_name": "LayoutView",
            "grid_template_rows": null,
            "right": null,
            "justify_content": null,
            "_view_module": "@jupyter-widgets/base",
            "overflow": null,
            "_model_module_version": "1.2.0",
            "_view_count": null,
            "flex_flow": null,
            "width": null,
            "min_width": null,
            "border": null,
            "align_items": null,
            "bottom": null,
            "_model_module": "@jupyter-widgets/base",
            "top": null,
            "grid_column": null,
            "overflow_y": null,
            "overflow_x": null,
            "grid_auto_flow": null,
            "grid_area": null,
            "grid_template_columns": null,
            "flex": null,
            "_model_name": "LayoutModel",
            "justify_items": null,
            "grid_row": null,
            "max_height": null,
            "align_content": null,
            "visibility": null,
            "align_self": null,
            "height": null,
            "min_height": null,
            "padding": null,
            "grid_auto_rows": null,
            "grid_gap": null,
            "max_width": null,
            "order": null,
            "_view_module_version": "1.2.0",
            "grid_template_areas": null,
            "object_position": null,
            "object_fit": null,
            "grid_auto_columns": null,
            "margin": null,
            "display": null,
            "left": null
          }
        },
        "e2b9bcc5b40442e79a802d2dbf58acff": {
          "model_module": "@jupyter-widgets/controls",
          "model_name": "TabModel",
          "state": {
            "_view_name": "TabView",
            "_dom_classes": [],
            "_titles": {
              "0": "Youtube",
              "1": "Bilibili"
            },
            "_model_name": "TabModel",
            "_view_module": "@jupyter-widgets/controls",
            "selected_index": 0,
            "_model_module_version": "1.5.0",
            "_view_count": null,
            "_view_module_version": "1.5.0",
            "box_style": "",
            "layout": "IPY_MODEL_4cbff01cbb0246a785f4cdd7332b4539",
            "_model_module": "@jupyter-widgets/controls",
            "children": [
              "IPY_MODEL_1ef01cd3ca4043c4b87b3c38bf21a3f7",
              "IPY_MODEL_746f428239414c4caf1db70c651da149"
            ]
          }
        },
        "4cbff01cbb0246a785f4cdd7332b4539": {
          "model_module": "@jupyter-widgets/base",
          "model_name": "LayoutModel",
          "state": {
            "_view_name": "LayoutView",
            "grid_template_rows": null,
            "right": null,
            "justify_content": null,
            "_view_module": "@jupyter-widgets/base",
            "overflow": null,
            "_model_module_version": "1.2.0",
            "_view_count": null,
            "flex_flow": null,
            "width": null,
            "min_width": null,
            "border": null,
            "align_items": null,
            "bottom": null,
            "_model_module": "@jupyter-widgets/base",
            "top": null,
            "grid_column": null,
            "overflow_y": null,
            "overflow_x": null,
            "grid_auto_flow": null,
            "grid_area": null,
            "grid_template_columns": null,
            "flex": null,
            "_model_name": "LayoutModel",
            "justify_items": null,
            "grid_row": null,
            "max_height": null,
            "align_content": null,
            "visibility": null,
            "align_self": null,
            "height": null,
            "min_height": null,
            "padding": null,
            "grid_auto_rows": null,
            "grid_gap": null,
            "max_width": null,
            "order": null,
            "_view_module_version": "1.2.0",
            "grid_template_areas": null,
            "object_position": null,
            "object_fit": null,
            "grid_auto_columns": null,
            "margin": null,
            "display": null,
            "left": null
          }
        },
        "1ef01cd3ca4043c4b87b3c38bf21a3f7": {
          "model_module": "@jupyter-widgets/output",
          "model_name": "OutputModel",
          "state": {
            "_view_name": "OutputView",
            "msg_id": "",
            "_dom_classes": [],
            "_model_name": "OutputModel",
            "outputs": [
              {
                "output_type": "stream",
                "metadata": {
                  "tags": []
                },
                "text": "Video available at https://youtube.com/watch?v=G0C1v848I9Y\n",
                "stream": "stdout"
              },
              {
                "output_type": "display_data",
                "metadata": {
                  "tags": []
                },
                "text/html": "\n        <iframe\n            width=\"854\"\n            height=\"480\"\n            src=\"https://www.youtube.com/embed/G0C1v848I9Y?fs=1&rel=0\"\n            frameborder=\"0\"\n            allowfullscreen\n        ></iframe>\n        ",
                "text/plain": "<IPython.lib.display.YouTubeVideo at 0x7fbe71962b90>",
                "image/jpeg": "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\n"
              }
            ],
            "_view_module": "@jupyter-widgets/output",
            "_model_module_version": "1.0.0",
            "_view_count": null,
            "_view_module_version": "1.0.0",
            "layout": "IPY_MODEL_948dbf2a8a2c439a89b72ec6a2822dc2",
            "_model_module": "@jupyter-widgets/output"
          }
        },
        "746f428239414c4caf1db70c651da149": {
          "model_module": "@jupyter-widgets/output",
          "model_name": "OutputModel",
          "state": {
            "_view_name": "OutputView",
            "msg_id": "",
            "_dom_classes": [],
            "_model_name": "OutputModel",
            "outputs": [
              {
                "output_type": "stream",
                "metadata": {
                  "tags": []
                },
                "text": "Video available at https://www.bilibili.com/video/BV1W54y1q7eh\n",
                "stream": "stdout"
              },
              {
                "output_type": "display_data",
                "metadata": {
                  "tags": []
                },
                "text/html": "\n        <iframe\n            width=\"854\"\n            height=\"480\"\n            src=\"https://player.bilibili.com/player.html?bvid=BV1W54y1q7eh&page=1?fs=1\"\n            frameborder=\"0\"\n            allowfullscreen\n        ></iframe>\n        ",
                "text/plain": "<__main__.BiliVideo at 0x7fbe718310d0>"
              }
            ],
            "_view_module": "@jupyter-widgets/output",
            "_model_module_version": "1.0.0",
            "_view_count": null,
            "_view_module_version": "1.0.0",
            "layout": "IPY_MODEL_f928eea5067348dc8883a5ac21d1e17d",
            "_model_module": "@jupyter-widgets/output"
          }
        },
        "948dbf2a8a2c439a89b72ec6a2822dc2": {
          "model_module": "@jupyter-widgets/base",
          "model_name": "LayoutModel",
          "state": {
            "_view_name": "LayoutView",
            "grid_template_rows": null,
            "right": null,
            "justify_content": null,
            "_view_module": "@jupyter-widgets/base",
            "overflow": null,
            "_model_module_version": "1.2.0",
            "_view_count": null,
            "flex_flow": null,
            "width": null,
            "min_width": null,
            "border": null,
            "align_items": null,
            "bottom": null,
            "_model_module": "@jupyter-widgets/base",
            "top": null,
            "grid_column": null,
            "overflow_y": null,
            "overflow_x": null,
            "grid_auto_flow": null,
            "grid_area": null,
            "grid_template_columns": null,
            "flex": null,
            "_model_name": "LayoutModel",
            "justify_items": null,
            "grid_row": null,
            "max_height": null,
            "align_content": null,
            "visibility": null,
            "align_self": null,
            "height": null,
            "min_height": null,
            "padding": null,
            "grid_auto_rows": null,
            "grid_gap": null,
            "max_width": null,
            "order": null,
            "_view_module_version": "1.2.0",
            "grid_template_areas": null,
            "object_position": null,
            "object_fit": null,
            "grid_auto_columns": null,
            "margin": null,
            "display": null,
            "left": null
          }
        },
        "f928eea5067348dc8883a5ac21d1e17d": {
          "model_module": "@jupyter-widgets/base",
          "model_name": "LayoutModel",
          "state": {
            "_view_name": "LayoutView",
            "grid_template_rows": null,
            "right": null,
            "justify_content": null,
            "_view_module": "@jupyter-widgets/base",
            "overflow": null,
            "_model_module_version": "1.2.0",
            "_view_count": null,
            "flex_flow": null,
            "width": null,
            "min_width": null,
            "border": null,
            "align_items": null,
            "bottom": null,
            "_model_module": "@jupyter-widgets/base",
            "top": null,
            "grid_column": null,
            "overflow_y": null,
            "overflow_x": null,
            "grid_auto_flow": null,
            "grid_area": null,
            "grid_template_columns": null,
            "flex": null,
            "_model_name": "LayoutModel",
            "justify_items": null,
            "grid_row": null,
            "max_height": null,
            "align_content": null,
            "visibility": null,
            "align_self": null,
            "height": null,
            "min_height": null,
            "padding": null,
            "grid_auto_rows": null,
            "grid_gap": null,
            "max_width": null,
            "order": null,
            "_view_module_version": "1.2.0",
            "grid_template_areas": null,
            "object_position": null,
            "object_fit": null,
            "grid_auto_columns": null,
            "margin": null,
            "display": null,
            "left": null
          }
        },
        "4d35415d80304148b9a03117b15325f4": {
          "model_module": "@jupyter-widgets/controls",
          "model_name": "TabModel",
          "state": {
            "_view_name": "TabView",
            "_dom_classes": [],
            "_titles": {
              "0": "Youtube",
              "1": "Bilibili"
            },
            "_model_name": "TabModel",
            "_view_module": "@jupyter-widgets/controls",
            "selected_index": 0,
            "_model_module_version": "1.5.0",
            "_view_count": null,
            "_view_module_version": "1.5.0",
            "box_style": "",
            "layout": "IPY_MODEL_8ec7501dd21040f4aec508992f7707ee",
            "_model_module": "@jupyter-widgets/controls",
            "children": [
              "IPY_MODEL_0f285dbafeb34466b567fce623e597c5",
              "IPY_MODEL_3c9811e1910e4ac6843757f65d1bea34"
            ]
          }
        },
        "8ec7501dd21040f4aec508992f7707ee": {
          "model_module": "@jupyter-widgets/base",
          "model_name": "LayoutModel",
          "state": {
            "_view_name": "LayoutView",
            "grid_template_rows": null,
            "right": null,
            "justify_content": null,
            "_view_module": "@jupyter-widgets/base",
            "overflow": null,
            "_model_module_version": "1.2.0",
            "_view_count": null,
            "flex_flow": null,
            "width": null,
            "min_width": null,
            "border": null,
            "align_items": null,
            "bottom": null,
            "_model_module": "@jupyter-widgets/base",
            "top": null,
            "grid_column": null,
            "overflow_y": null,
            "overflow_x": null,
            "grid_auto_flow": null,
            "grid_area": null,
            "grid_template_columns": null,
            "flex": null,
            "_model_name": "LayoutModel",
            "justify_items": null,
            "grid_row": null,
            "max_height": null,
            "align_content": null,
            "visibility": null,
            "align_self": null,
            "height": null,
            "min_height": null,
            "padding": null,
            "grid_auto_rows": null,
            "grid_gap": null,
            "max_width": null,
            "order": null,
            "_view_module_version": "1.2.0",
            "grid_template_areas": null,
            "object_position": null,
            "object_fit": null,
            "grid_auto_columns": null,
            "margin": null,
            "display": null,
            "left": null
          }
        },
        "0f285dbafeb34466b567fce623e597c5": {
          "model_module": "@jupyter-widgets/output",
          "model_name": "OutputModel",
          "state": {
            "_view_name": "OutputView",
            "msg_id": "",
            "_dom_classes": [],
            "_model_name": "OutputModel",
            "outputs": [
              {
                "output_type": "stream",
                "metadata": {
                  "tags": []
                },
                "text": "Video available at https://youtube.com/watch?v=dFPgO5wnyLc\n",
                "stream": "stdout"
              },
              {
                "output_type": "display_data",
                "metadata": {
                  "tags": []
                },
                "text/html": "\n        <iframe\n            width=\"854\"\n            height=\"480\"\n            src=\"https://www.youtube.com/embed/dFPgO5wnyLc?fs=1&rel=0\"\n            frameborder=\"0\"\n            allowfullscreen\n        ></iframe>\n        ",
                "text/plain": "<IPython.lib.display.YouTubeVideo at 0x7fbe70fe9290>",
                "image/jpeg": "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\n"
              }
            ],
            "_view_module": "@jupyter-widgets/output",
            "_model_module_version": "1.0.0",
            "_view_count": null,
            "_view_module_version": "1.0.0",
            "layout": "IPY_MODEL_d09af858eea34296a1e55816968788e6",
            "_model_module": "@jupyter-widgets/output"
          }
        },
        "3c9811e1910e4ac6843757f65d1bea34": {
          "model_module": "@jupyter-widgets/output",
          "model_name": "OutputModel",
          "state": {
            "_view_name": "OutputView",
            "msg_id": "",
            "_dom_classes": [],
            "_model_name": "OutputModel",
            "outputs": [
              {
                "output_type": "stream",
                "metadata": {
                  "tags": []
                },
                "text": "Video available at https://www.bilibili.com/video/BV1W54y1q7gi\n",
                "stream": "stdout"
              },
              {
                "output_type": "display_data",
                "metadata": {
                  "tags": []
                },
                "text/html": "\n        <iframe\n            width=\"854\"\n            height=\"480\"\n            src=\"https://player.bilibili.com/player.html?bvid=BV1W54y1q7gi&page=1?fs=1\"\n            frameborder=\"0\"\n            allowfullscreen\n        ></iframe>\n        ",
                "text/plain": "<__main__.BiliVideo at 0x7fbe71825590>"
              }
            ],
            "_view_module": "@jupyter-widgets/output",
            "_model_module_version": "1.0.0",
            "_view_count": null,
            "_view_module_version": "1.0.0",
            "layout": "IPY_MODEL_9e8d566adb3f410295e8ce50b58b80a5",
            "_model_module": "@jupyter-widgets/output"
          }
        },
        "d09af858eea34296a1e55816968788e6": {
          "model_module": "@jupyter-widgets/base",
          "model_name": "LayoutModel",
          "state": {
            "_view_name": "LayoutView",
            "grid_template_rows": null,
            "right": null,
            "justify_content": null,
            "_view_module": "@jupyter-widgets/base",
            "overflow": null,
            "_model_module_version": "1.2.0",
            "_view_count": null,
            "flex_flow": null,
            "width": null,
            "min_width": null,
            "border": null,
            "align_items": null,
            "bottom": null,
            "_model_module": "@jupyter-widgets/base",
            "top": null,
            "grid_column": null,
            "overflow_y": null,
            "overflow_x": null,
            "grid_auto_flow": null,
            "grid_area": null,
            "grid_template_columns": null,
            "flex": null,
            "_model_name": "LayoutModel",
            "justify_items": null,
            "grid_row": null,
            "max_height": null,
            "align_content": null,
            "visibility": null,
            "align_self": null,
            "height": null,
            "min_height": null,
            "padding": null,
            "grid_auto_rows": null,
            "grid_gap": null,
            "max_width": null,
            "order": null,
            "_view_module_version": "1.2.0",
            "grid_template_areas": null,
            "object_position": null,
            "object_fit": null,
            "grid_auto_columns": null,
            "margin": null,
            "display": null,
            "left": null
          }
        },
        "9e8d566adb3f410295e8ce50b58b80a5": {
          "model_module": "@jupyter-widgets/base",
          "model_name": "LayoutModel",
          "state": {
            "_view_name": "LayoutView",
            "grid_template_rows": null,
            "right": null,
            "justify_content": null,
            "_view_module": "@jupyter-widgets/base",
            "overflow": null,
            "_model_module_version": "1.2.0",
            "_view_count": null,
            "flex_flow": null,
            "width": null,
            "min_width": null,
            "border": null,
            "align_items": null,
            "bottom": null,
            "_model_module": "@jupyter-widgets/base",
            "top": null,
            "grid_column": null,
            "overflow_y": null,
            "overflow_x": null,
            "grid_auto_flow": null,
            "grid_area": null,
            "grid_template_columns": null,
            "flex": null,
            "_model_name": "LayoutModel",
            "justify_items": null,
            "grid_row": null,
            "max_height": null,
            "align_content": null,
            "visibility": null,
            "align_self": null,
            "height": null,
            "min_height": null,
            "padding": null,
            "grid_auto_rows": null,
            "grid_gap": null,
            "max_width": null,
            "order": null,
            "_view_module_version": "1.2.0",
            "grid_template_areas": null,
            "object_position": null,
            "object_fit": null,
            "grid_auto_columns": null,
            "margin": null,
            "display": null,
            "left": null
          }
        },
        "aa39f36f274a4f0c9dc0501d63be4533": {
          "model_module": "@jupyter-widgets/controls",
          "model_name": "TabModel",
          "state": {
            "_view_name": "TabView",
            "_dom_classes": [],
            "_titles": {
              "0": "Youtube",
              "1": "Bilibili"
            },
            "_model_name": "TabModel",
            "_view_module": "@jupyter-widgets/controls",
            "selected_index": 0,
            "_model_module_version": "1.5.0",
            "_view_count": null,
            "_view_module_version": "1.5.0",
            "box_style": "",
            "layout": "IPY_MODEL_887bf1ca12ac4ff28252194de725998a",
            "_model_module": "@jupyter-widgets/controls",
            "children": [
              "IPY_MODEL_37e8ae303204487fa43519b27935a98e",
              "IPY_MODEL_cad9949a06ae4834b73cb3788efb8bcf"
            ]
          }
        },
        "887bf1ca12ac4ff28252194de725998a": {
          "model_module": "@jupyter-widgets/base",
          "model_name": "LayoutModel",
          "state": {
            "_view_name": "LayoutView",
            "grid_template_rows": null,
            "right": null,
            "justify_content": null,
            "_view_module": "@jupyter-widgets/base",
            "overflow": null,
            "_model_module_version": "1.2.0",
            "_view_count": null,
            "flex_flow": null,
            "width": null,
            "min_width": null,
            "border": null,
            "align_items": null,
            "bottom": null,
            "_model_module": "@jupyter-widgets/base",
            "top": null,
            "grid_column": null,
            "overflow_y": null,
            "overflow_x": null,
            "grid_auto_flow": null,
            "grid_area": null,
            "grid_template_columns": null,
            "flex": null,
            "_model_name": "LayoutModel",
            "justify_items": null,
            "grid_row": null,
            "max_height": null,
            "align_content": null,
            "visibility": null,
            "align_self": null,
            "height": null,
            "min_height": null,
            "padding": null,
            "grid_auto_rows": null,
            "grid_gap": null,
            "max_width": null,
            "order": null,
            "_view_module_version": "1.2.0",
            "grid_template_areas": null,
            "object_position": null,
            "object_fit": null,
            "grid_auto_columns": null,
            "margin": null,
            "display": null,
            "left": null
          }
        },
        "37e8ae303204487fa43519b27935a98e": {
          "model_module": "@jupyter-widgets/output",
          "model_name": "OutputModel",
          "state": {
            "_view_name": "OutputView",
            "msg_id": "",
            "_dom_classes": [],
            "_model_name": "OutputModel",
            "outputs": [
              {
                "output_type": "stream",
                "metadata": {
                  "tags": []
                },
                "text": "Video available at https://youtube.com/watch?v=KVNdbRY5-nY\n",
                "stream": "stdout"
              },
              {
                "output_type": "display_data",
                "metadata": {
                  "tags": []
                },
                "text/html": "\n        <iframe\n            width=\"854\"\n            height=\"480\"\n            src=\"https://www.youtube.com/embed/KVNdbRY5-nY?fs=1&rel=0\"\n            frameborder=\"0\"\n            allowfullscreen\n        ></iframe>\n        ",
                "text/plain": "<IPython.lib.display.YouTubeVideo at 0x7fbe666ab350>",
                "image/jpeg": "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\n"
              }
            ],
            "_view_module": "@jupyter-widgets/output",
            "_model_module_version": "1.0.0",
            "_view_count": null,
            "_view_module_version": "1.0.0",
            "layout": "IPY_MODEL_004efe6ee3b24f22bca3579e1364b997",
            "_model_module": "@jupyter-widgets/output"
          }
        },
        "cad9949a06ae4834b73cb3788efb8bcf": {
          "model_module": "@jupyter-widgets/output",
          "model_name": "OutputModel",
          "state": {
            "_view_name": "OutputView",
            "msg_id": "",
            "_dom_classes": [],
            "_model_name": "OutputModel",
            "outputs": [
              {
                "output_type": "stream",
                "metadata": {
                  "tags": []
                },
                "text": "Video available at https://www.bilibili.com/video/BV1MT4y1E79j\n",
                "stream": "stdout"
              },
              {
                "output_type": "display_data",
                "metadata": {
                  "tags": []
                },
                "text/html": "\n        <iframe\n            width=\"854\"\n            height=\"480\"\n            src=\"https://player.bilibili.com/player.html?bvid=BV1MT4y1E79j&page=1?fs=1\"\n            frameborder=\"0\"\n            allowfullscreen\n        ></iframe>\n        ",
                "text/plain": "<__main__.BiliVideo at 0x7fbe666b00d0>"
              }
            ],
            "_view_module": "@jupyter-widgets/output",
            "_model_module_version": "1.0.0",
            "_view_count": null,
            "_view_module_version": "1.0.0",
            "layout": "IPY_MODEL_2dfc0a4d0b284858962dbe612cf467cc",
            "_model_module": "@jupyter-widgets/output"
          }
        },
        "004efe6ee3b24f22bca3579e1364b997": {
          "model_module": "@jupyter-widgets/base",
          "model_name": "LayoutModel",
          "state": {
            "_view_name": "LayoutView",
            "grid_template_rows": null,
            "right": null,
            "justify_content": null,
            "_view_module": "@jupyter-widgets/base",
            "overflow": null,
            "_model_module_version": "1.2.0",
            "_view_count": null,
            "flex_flow": null,
            "width": null,
            "min_width": null,
            "border": null,
            "align_items": null,
            "bottom": null,
            "_model_module": "@jupyter-widgets/base",
            "top": null,
            "grid_column": null,
            "overflow_y": null,
            "overflow_x": null,
            "grid_auto_flow": null,
            "grid_area": null,
            "grid_template_columns": null,
            "flex": null,
            "_model_name": "LayoutModel",
            "justify_items": null,
            "grid_row": null,
            "max_height": null,
            "align_content": null,
            "visibility": null,
            "align_self": null,
            "height": null,
            "min_height": null,
            "padding": null,
            "grid_auto_rows": null,
            "grid_gap": null,
            "max_width": null,
            "order": null,
            "_view_module_version": "1.2.0",
            "grid_template_areas": null,
            "object_position": null,
            "object_fit": null,
            "grid_auto_columns": null,
            "margin": null,
            "display": null,
            "left": null
          }
        },
        "2dfc0a4d0b284858962dbe612cf467cc": {
          "model_module": "@jupyter-widgets/base",
          "model_name": "LayoutModel",
          "state": {
            "_view_name": "LayoutView",
            "grid_template_rows": null,
            "right": null,
            "justify_content": null,
            "_view_module": "@jupyter-widgets/base",
            "overflow": null,
            "_model_module_version": "1.2.0",
            "_view_count": null,
            "flex_flow": null,
            "width": null,
            "min_width": null,
            "border": null,
            "align_items": null,
            "bottom": null,
            "_model_module": "@jupyter-widgets/base",
            "top": null,
            "grid_column": null,
            "overflow_y": null,
            "overflow_x": null,
            "grid_auto_flow": null,
            "grid_area": null,
            "grid_template_columns": null,
            "flex": null,
            "_model_name": "LayoutModel",
            "justify_items": null,
            "grid_row": null,
            "max_height": null,
            "align_content": null,
            "visibility": null,
            "align_self": null,
            "height": null,
            "min_height": null,
            "padding": null,
            "grid_auto_rows": null,
            "grid_gap": null,
            "max_width": null,
            "order": null,
            "_view_module_version": "1.2.0",
            "grid_template_areas": null,
            "object_position": null,
            "object_fit": null,
            "grid_auto_columns": null,
            "margin": null,
            "display": null,
            "left": null
          }
        },
        "b2cf4c428219401298de80e86210b8f9": {
          "model_module": "@jupyter-widgets/controls",
          "model_name": "TabModel",
          "state": {
            "_view_name": "TabView",
            "_dom_classes": [],
            "_titles": {
              "0": "Youtube",
              "1": "Bilibili"
            },
            "_model_name": "TabModel",
            "_view_module": "@jupyter-widgets/controls",
            "selected_index": 0,
            "_model_module_version": "1.5.0",
            "_view_count": null,
            "_view_module_version": "1.5.0",
            "box_style": "",
            "layout": "IPY_MODEL_6459eda2fb8a403f899d5b02207a0cc8",
            "_model_module": "@jupyter-widgets/controls",
            "children": [
              "IPY_MODEL_d8419ccfc6d04b1a94f02e0c7612a492",
              "IPY_MODEL_69509e156949424eb98a5231c8c7f97f"
            ]
          }
        },
        "6459eda2fb8a403f899d5b02207a0cc8": {
          "model_module": "@jupyter-widgets/base",
          "model_name": "LayoutModel",
          "state": {
            "_view_name": "LayoutView",
            "grid_template_rows": null,
            "right": null,
            "justify_content": null,
            "_view_module": "@jupyter-widgets/base",
            "overflow": null,
            "_model_module_version": "1.2.0",
            "_view_count": null,
            "flex_flow": null,
            "width": null,
            "min_width": null,
            "border": null,
            "align_items": null,
            "bottom": null,
            "_model_module": "@jupyter-widgets/base",
            "top": null,
            "grid_column": null,
            "overflow_y": null,
            "overflow_x": null,
            "grid_auto_flow": null,
            "grid_area": null,
            "grid_template_columns": null,
            "flex": null,
            "_model_name": "LayoutModel",
            "justify_items": null,
            "grid_row": null,
            "max_height": null,
            "align_content": null,
            "visibility": null,
            "align_self": null,
            "height": null,
            "min_height": null,
            "padding": null,
            "grid_auto_rows": null,
            "grid_gap": null,
            "max_width": null,
            "order": null,
            "_view_module_version": "1.2.0",
            "grid_template_areas": null,
            "object_position": null,
            "object_fit": null,
            "grid_auto_columns": null,
            "margin": null,
            "display": null,
            "left": null
          }
        },
        "d8419ccfc6d04b1a94f02e0c7612a492": {
          "model_module": "@jupyter-widgets/output",
          "model_name": "OutputModel",
          "state": {
            "_view_name": "OutputView",
            "msg_id": "",
            "_dom_classes": [],
            "_model_name": "OutputModel",
            "outputs": [
              {
                "output_type": "stream",
                "metadata": {
                  "tags": []
                },
                "text": "Video available at https://youtube.com/watch?v=DOoftC0JU2k\n",
                "stream": "stdout"
              },
              {
                "output_type": "display_data",
                "metadata": {
                  "tags": []
                },
                "text/html": "\n        <iframe\n            width=\"854\"\n            height=\"480\"\n            src=\"https://www.youtube.com/embed/DOoftC0JU2k?fs=1&rel=0\"\n            frameborder=\"0\"\n            allowfullscreen\n        ></iframe>\n        ",
                "text/plain": "<IPython.lib.display.YouTubeVideo at 0x7fbe666b0650>",
                "image/jpeg": "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\n"
              }
            ],
            "_view_module": "@jupyter-widgets/output",
            "_model_module_version": "1.0.0",
            "_view_count": null,
            "_view_module_version": "1.0.0",
            "layout": "IPY_MODEL_5d4d10202c9b404aa6e554dfc71e27c9",
            "_model_module": "@jupyter-widgets/output"
          }
        },
        "69509e156949424eb98a5231c8c7f97f": {
          "model_module": "@jupyter-widgets/output",
          "model_name": "OutputModel",
          "state": {
            "_view_name": "OutputView",
            "msg_id": "",
            "_dom_classes": [],
            "_model_name": "OutputModel",
            "outputs": [
              {
                "output_type": "stream",
                "metadata": {
                  "tags": []
                },
                "text": "Video available at https://www.bilibili.com/video/BV1pA411e7je\n",
                "stream": "stdout"
              },
              {
                "output_type": "display_data",
                "metadata": {
                  "tags": []
                },
                "text/html": "\n        <iframe\n            width=\"854\"\n            height=\"480\"\n            src=\"https://player.bilibili.com/player.html?bvid=BV1pA411e7je&page=1?fs=1\"\n            frameborder=\"0\"\n            allowfullscreen\n        ></iframe>\n        ",
                "text/plain": "<__main__.BiliVideo at 0x7fbe70f3cc90>"
              }
            ],
            "_view_module": "@jupyter-widgets/output",
            "_model_module_version": "1.0.0",
            "_view_count": null,
            "_view_module_version": "1.0.0",
            "layout": "IPY_MODEL_d1d10647f0e948789e975756a6e3ed48",
            "_model_module": "@jupyter-widgets/output"
          }
        },
        "5d4d10202c9b404aa6e554dfc71e27c9": {
          "model_module": "@jupyter-widgets/base",
          "model_name": "LayoutModel",
          "state": {
            "_view_name": "LayoutView",
            "grid_template_rows": null,
            "right": null,
            "justify_content": null,
            "_view_module": "@jupyter-widgets/base",
            "overflow": null,
            "_model_module_version": "1.2.0",
            "_view_count": null,
            "flex_flow": null,
            "width": null,
            "min_width": null,
            "border": null,
            "align_items": null,
            "bottom": null,
            "_model_module": "@jupyter-widgets/base",
            "top": null,
            "grid_column": null,
            "overflow_y": null,
            "overflow_x": null,
            "grid_auto_flow": null,
            "grid_area": null,
            "grid_template_columns": null,
            "flex": null,
            "_model_name": "LayoutModel",
            "justify_items": null,
            "grid_row": null,
            "max_height": null,
            "align_content": null,
            "visibility": null,
            "align_self": null,
            "height": null,
            "min_height": null,
            "padding": null,
            "grid_auto_rows": null,
            "grid_gap": null,
            "max_width": null,
            "order": null,
            "_view_module_version": "1.2.0",
            "grid_template_areas": null,
            "object_position": null,
            "object_fit": null,
            "grid_auto_columns": null,
            "margin": null,
            "display": null,
            "left": null
          }
        },
        "d1d10647f0e948789e975756a6e3ed48": {
          "model_module": "@jupyter-widgets/base",
          "model_name": "LayoutModel",
          "state": {
            "_view_name": "LayoutView",
            "grid_template_rows": null,
            "right": null,
            "justify_content": null,
            "_view_module": "@jupyter-widgets/base",
            "overflow": null,
            "_model_module_version": "1.2.0",
            "_view_count": null,
            "flex_flow": null,
            "width": null,
            "min_width": null,
            "border": null,
            "align_items": null,
            "bottom": null,
            "_model_module": "@jupyter-widgets/base",
            "top": null,
            "grid_column": null,
            "overflow_y": null,
            "overflow_x": null,
            "grid_auto_flow": null,
            "grid_area": null,
            "grid_template_columns": null,
            "flex": null,
            "_model_name": "LayoutModel",
            "justify_items": null,
            "grid_row": null,
            "max_height": null,
            "align_content": null,
            "visibility": null,
            "align_self": null,
            "height": null,
            "min_height": null,
            "padding": null,
            "grid_auto_rows": null,
            "grid_gap": null,
            "max_width": null,
            "order": null,
            "_view_module_version": "1.2.0",
            "grid_template_areas": null,
            "object_position": null,
            "object_fit": null,
            "grid_auto_columns": null,
            "margin": null,
            "display": null,
            "left": null
          }
        },
        "0b266a74709e43b9b310544efb77cb83": {
          "model_module": "@jupyter-widgets/controls",
          "model_name": "TabModel",
          "state": {
            "_view_name": "TabView",
            "_dom_classes": [],
            "_titles": {
              "0": "Youtube",
              "1": "Bilibili"
            },
            "_model_name": "TabModel",
            "_view_module": "@jupyter-widgets/controls",
            "selected_index": 0,
            "_model_module_version": "1.5.0",
            "_view_count": null,
            "_view_module_version": "1.5.0",
            "box_style": "",
            "layout": "IPY_MODEL_60964bd92b5c4a91bb16e1a70fab4a65",
            "_model_module": "@jupyter-widgets/controls",
            "children": [
              "IPY_MODEL_138a1e6a3b014186aa4b6415d19c79fa",
              "IPY_MODEL_0ba349df321b49f892c0e2553635e649"
            ]
          }
        },
        "60964bd92b5c4a91bb16e1a70fab4a65": {
          "model_module": "@jupyter-widgets/base",
          "model_name": "LayoutModel",
          "state": {
            "_view_name": "LayoutView",
            "grid_template_rows": null,
            "right": null,
            "justify_content": null,
            "_view_module": "@jupyter-widgets/base",
            "overflow": null,
            "_model_module_version": "1.2.0",
            "_view_count": null,
            "flex_flow": null,
            "width": null,
            "min_width": null,
            "border": null,
            "align_items": null,
            "bottom": null,
            "_model_module": "@jupyter-widgets/base",
            "top": null,
            "grid_column": null,
            "overflow_y": null,
            "overflow_x": null,
            "grid_auto_flow": null,
            "grid_area": null,
            "grid_template_columns": null,
            "flex": null,
            "_model_name": "LayoutModel",
            "justify_items": null,
            "grid_row": null,
            "max_height": null,
            "align_content": null,
            "visibility": null,
            "align_self": null,
            "height": null,
            "min_height": null,
            "padding": null,
            "grid_auto_rows": null,
            "grid_gap": null,
            "max_width": null,
            "order": null,
            "_view_module_version": "1.2.0",
            "grid_template_areas": null,
            "object_position": null,
            "object_fit": null,
            "grid_auto_columns": null,
            "margin": null,
            "display": null,
            "left": null
          }
        },
        "138a1e6a3b014186aa4b6415d19c79fa": {
          "model_module": "@jupyter-widgets/output",
          "model_name": "OutputModel",
          "state": {
            "_view_name": "OutputView",
            "msg_id": "",
            "_dom_classes": [],
            "_model_name": "OutputModel",
            "outputs": [
              {
                "output_type": "stream",
                "metadata": {
                  "tags": []
                },
                "text": "Video available at https://youtube.com/watch?v=mkf8riqCjS4\n",
                "stream": "stdout"
              },
              {
                "output_type": "display_data",
                "metadata": {
                  "tags": []
                },
                "text/html": "\n        <iframe\n            width=\"854\"\n            height=\"480\"\n            src=\"https://www.youtube.com/embed/mkf8riqCjS4?fs=1&rel=0\"\n            frameborder=\"0\"\n            allowfullscreen\n        ></iframe>\n        ",
                "text/plain": "<IPython.lib.display.YouTubeVideo at 0x7f44c87c9850>",
                "image/jpeg": "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\n"
              }
            ],
            "_view_module": "@jupyter-widgets/output",
            "_model_module_version": "1.0.0",
            "_view_count": null,
            "_view_module_version": "1.0.0",
            "layout": "IPY_MODEL_883ea41727ed42018c090139228612d8",
            "_model_module": "@jupyter-widgets/output"
          }
        },
        "0ba349df321b49f892c0e2553635e649": {
          "model_module": "@jupyter-widgets/output",
          "model_name": "OutputModel",
          "state": {
            "_view_name": "OutputView",
            "msg_id": "",
            "_dom_classes": [],
            "_model_name": "OutputModel",
            "outputs": [
              {
                "output_type": "stream",
                "metadata": {
                  "tags": []
                },
                "text": "Video available at https://www.bilibili.com/video/BV1sa4y1a7pq\n",
                "stream": "stdout"
              },
              {
                "output_type": "display_data",
                "metadata": {
                  "tags": []
                },
                "text/html": "\n        <iframe\n            width=\"854\"\n            height=\"480\"\n            src=\"https://player.bilibili.com/player.html?bvid=BV1sa4y1a7pq&page=1?fs=1\"\n            frameborder=\"0\"\n            allowfullscreen\n        ></iframe>\n        ",
                "text/plain": "<__main__.BiliVideo at 0x7f44e7c43090>"
              }
            ],
            "_view_module": "@jupyter-widgets/output",
            "_model_module_version": "1.0.0",
            "_view_count": null,
            "_view_module_version": "1.0.0",
            "layout": "IPY_MODEL_0f3fd083357a4d89a0835fffdfb5ead2",
            "_model_module": "@jupyter-widgets/output"
          }
        },
        "883ea41727ed42018c090139228612d8": {
          "model_module": "@jupyter-widgets/base",
          "model_name": "LayoutModel",
          "state": {
            "_view_name": "LayoutView",
            "grid_template_rows": null,
            "right": null,
            "justify_content": null,
            "_view_module": "@jupyter-widgets/base",
            "overflow": null,
            "_model_module_version": "1.2.0",
            "_view_count": null,
            "flex_flow": null,
            "width": null,
            "min_width": null,
            "border": null,
            "align_items": null,
            "bottom": null,
            "_model_module": "@jupyter-widgets/base",
            "top": null,
            "grid_column": null,
            "overflow_y": null,
            "overflow_x": null,
            "grid_auto_flow": null,
            "grid_area": null,
            "grid_template_columns": null,
            "flex": null,
            "_model_name": "LayoutModel",
            "justify_items": null,
            "grid_row": null,
            "max_height": null,
            "align_content": null,
            "visibility": null,
            "align_self": null,
            "height": null,
            "min_height": null,
            "padding": null,
            "grid_auto_rows": null,
            "grid_gap": null,
            "max_width": null,
            "order": null,
            "_view_module_version": "1.2.0",
            "grid_template_areas": null,
            "object_position": null,
            "object_fit": null,
            "grid_auto_columns": null,
            "margin": null,
            "display": null,
            "left": null
          }
        },
        "0f3fd083357a4d89a0835fffdfb5ead2": {
          "model_module": "@jupyter-widgets/base",
          "model_name": "LayoutModel",
          "state": {
            "_view_name": "LayoutView",
            "grid_template_rows": null,
            "right": null,
            "justify_content": null,
            "_view_module": "@jupyter-widgets/base",
            "overflow": null,
            "_model_module_version": "1.2.0",
            "_view_count": null,
            "flex_flow": null,
            "width": null,
            "min_width": null,
            "border": null,
            "align_items": null,
            "bottom": null,
            "_model_module": "@jupyter-widgets/base",
            "top": null,
            "grid_column": null,
            "overflow_y": null,
            "overflow_x": null,
            "grid_auto_flow": null,
            "grid_area": null,
            "grid_template_columns": null,
            "flex": null,
            "_model_name": "LayoutModel",
            "justify_items": null,
            "grid_row": null,
            "max_height": null,
            "align_content": null,
            "visibility": null,
            "align_self": null,
            "height": null,
            "min_height": null,
            "padding": null,
            "grid_auto_rows": null,
            "grid_gap": null,
            "max_width": null,
            "order": null,
            "_view_module_version": "1.2.0",
            "grid_template_areas": null,
            "object_position": null,
            "object_fit": null,
            "grid_auto_columns": null,
            "margin": null,
            "display": null,
            "left": null
          }
        },
        "54da9af4c67d44549346cc3e021d5dc2": {
          "model_module": "@jupyter-widgets/controls",
          "model_name": "TabModel",
          "state": {
            "_view_name": "TabView",
            "_dom_classes": [],
            "_titles": {
              "0": "Youtube",
              "1": "Bilibili"
            },
            "_model_name": "TabModel",
            "_view_module": "@jupyter-widgets/controls",
            "selected_index": 0,
            "_model_module_version": "1.5.0",
            "_view_count": null,
            "_view_module_version": "1.5.0",
            "box_style": "",
            "layout": "IPY_MODEL_3b1be247ba594713b1d5d29f5267bebe",
            "_model_module": "@jupyter-widgets/controls",
            "children": [
              "IPY_MODEL_2464db1c4aca45a5a9f1d860ef6d0c41",
              "IPY_MODEL_4a6d5e6b43ca47d39e4e986fe2f36694"
            ]
          }
        },
        "3b1be247ba594713b1d5d29f5267bebe": {
          "model_module": "@jupyter-widgets/base",
          "model_name": "LayoutModel",
          "state": {
            "_view_name": "LayoutView",
            "grid_template_rows": null,
            "right": null,
            "justify_content": null,
            "_view_module": "@jupyter-widgets/base",
            "overflow": null,
            "_model_module_version": "1.2.0",
            "_view_count": null,
            "flex_flow": null,
            "width": null,
            "min_width": null,
            "border": null,
            "align_items": null,
            "bottom": null,
            "_model_module": "@jupyter-widgets/base",
            "top": null,
            "grid_column": null,
            "overflow_y": null,
            "overflow_x": null,
            "grid_auto_flow": null,
            "grid_area": null,
            "grid_template_columns": null,
            "flex": null,
            "_model_name": "LayoutModel",
            "justify_items": null,
            "grid_row": null,
            "max_height": null,
            "align_content": null,
            "visibility": null,
            "align_self": null,
            "height": null,
            "min_height": null,
            "padding": null,
            "grid_auto_rows": null,
            "grid_gap": null,
            "max_width": null,
            "order": null,
            "_view_module_version": "1.2.0",
            "grid_template_areas": null,
            "object_position": null,
            "object_fit": null,
            "grid_auto_columns": null,
            "margin": null,
            "display": null,
            "left": null
          }
        },
        "2464db1c4aca45a5a9f1d860ef6d0c41": {
          "model_module": "@jupyter-widgets/output",
          "model_name": "OutputModel",
          "state": {
            "_view_name": "OutputView",
            "msg_id": "",
            "_dom_classes": [],
            "_model_name": "OutputModel",
            "outputs": [
              {
                "output_type": "stream",
                "metadata": {
                  "tags": []
                },
                "text": "Video available at https://youtube.com/watch?v=0An_NnVWY_Q\n",
                "stream": "stdout"
              },
              {
                "output_type": "display_data",
                "metadata": {
                  "tags": []
                },
                "text/html": "\n        <iframe\n            width=\"854\"\n            height=\"480\"\n            src=\"https://www.youtube.com/embed/0An_NnVWY_Q?fs=1&rel=0\"\n            frameborder=\"0\"\n            allowfullscreen\n        ></iframe>\n        ",
                "text/plain": "<IPython.lib.display.YouTubeVideo at 0x7f44c87c9850>",
                "image/jpeg": "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\n"
              }
            ],
            "_view_module": "@jupyter-widgets/output",
            "_model_module_version": "1.0.0",
            "_view_count": null,
            "_view_module_version": "1.0.0",
            "layout": "IPY_MODEL_791769b8fa4643d4b7ae5f04eddb47b0",
            "_model_module": "@jupyter-widgets/output"
          }
        },
        "4a6d5e6b43ca47d39e4e986fe2f36694": {
          "model_module": "@jupyter-widgets/output",
          "model_name": "OutputModel",
          "state": {
            "_view_name": "OutputView",
            "msg_id": "",
            "_dom_classes": [],
            "_model_name": "OutputModel",
            "outputs": [
              {
                "output_type": "stream",
                "metadata": {
                  "tags": []
                },
                "text": "Video available at https://www.bilibili.com/video/BV1pz411v74H\n",
                "stream": "stdout"
              },
              {
                "output_type": "display_data",
                "metadata": {
                  "tags": []
                },
                "text/html": "\n        <iframe\n            width=\"854\"\n            height=\"480\"\n            src=\"https://player.bilibili.com/player.html?bvid=BV1pz411v74H&page=1?fs=1\"\n            frameborder=\"0\"\n            allowfullscreen\n        ></iframe>\n        ",
                "text/plain": "<__main__.BiliVideo at 0x7f44c87a6e10>"
              }
            ],
            "_view_module": "@jupyter-widgets/output",
            "_model_module_version": "1.0.0",
            "_view_count": null,
            "_view_module_version": "1.0.0",
            "layout": "IPY_MODEL_d677c037ca6347b980db24787dc1436b",
            "_model_module": "@jupyter-widgets/output"
          }
        },
        "791769b8fa4643d4b7ae5f04eddb47b0": {
          "model_module": "@jupyter-widgets/base",
          "model_name": "LayoutModel",
          "state": {
            "_view_name": "LayoutView",
            "grid_template_rows": null,
            "right": null,
            "justify_content": null,
            "_view_module": "@jupyter-widgets/base",
            "overflow": null,
            "_model_module_version": "1.2.0",
            "_view_count": null,
            "flex_flow": null,
            "width": null,
            "min_width": null,
            "border": null,
            "align_items": null,
            "bottom": null,
            "_model_module": "@jupyter-widgets/base",
            "top": null,
            "grid_column": null,
            "overflow_y": null,
            "overflow_x": null,
            "grid_auto_flow": null,
            "grid_area": null,
            "grid_template_columns": null,
            "flex": null,
            "_model_name": "LayoutModel",
            "justify_items": null,
            "grid_row": null,
            "max_height": null,
            "align_content": null,
            "visibility": null,
            "align_self": null,
            "height": null,
            "min_height": null,
            "padding": null,
            "grid_auto_rows": null,
            "grid_gap": null,
            "max_width": null,
            "order": null,
            "_view_module_version": "1.2.0",
            "grid_template_areas": null,
            "object_position": null,
            "object_fit": null,
            "grid_auto_columns": null,
            "margin": null,
            "display": null,
            "left": null
          }
        },
        "d677c037ca6347b980db24787dc1436b": {
          "model_module": "@jupyter-widgets/base",
          "model_name": "LayoutModel",
          "state": {
            "_view_name": "LayoutView",
            "grid_template_rows": null,
            "right": null,
            "justify_content": null,
            "_view_module": "@jupyter-widgets/base",
            "overflow": null,
            "_model_module_version": "1.2.0",
            "_view_count": null,
            "flex_flow": null,
            "width": null,
            "min_width": null,
            "border": null,
            "align_items": null,
            "bottom": null,
            "_model_module": "@jupyter-widgets/base",
            "top": null,
            "grid_column": null,
            "overflow_y": null,
            "overflow_x": null,
            "grid_auto_flow": null,
            "grid_area": null,
            "grid_template_columns": null,
            "flex": null,
            "_model_name": "LayoutModel",
            "justify_items": null,
            "grid_row": null,
            "max_height": null,
            "align_content": null,
            "visibility": null,
            "align_self": null,
            "height": null,
            "min_height": null,
            "padding": null,
            "grid_auto_rows": null,
            "grid_gap": null,
            "max_width": null,
            "order": null,
            "_view_module_version": "1.2.0",
            "grid_template_areas": null,
            "object_position": null,
            "object_fit": null,
            "grid_auto_columns": null,
            "margin": null,
            "display": null,
            "left": null
          }
        },
        "b3799187fc1b4803b16beb63b0d305d2": {
          "model_module": "@jupyter-widgets/controls",
          "model_name": "TabModel",
          "state": {
            "_view_name": "TabView",
            "_dom_classes": [],
            "_titles": {
              "0": "Youtube",
              "1": "Bilibili"
            },
            "_model_name": "TabModel",
            "_view_module": "@jupyter-widgets/controls",
            "selected_index": 0,
            "_model_module_version": "1.5.0",
            "_view_count": null,
            "_view_module_version": "1.5.0",
            "box_style": "",
            "layout": "IPY_MODEL_23e5ec043c0c43b3adfa79ae177580cc",
            "_model_module": "@jupyter-widgets/controls",
            "children": [
              "IPY_MODEL_bd116bd2328944a39878187af28578a1",
              "IPY_MODEL_cc8ba83513d644829caf66fc009f41a7"
            ]
          }
        },
        "23e5ec043c0c43b3adfa79ae177580cc": {
          "model_module": "@jupyter-widgets/base",
          "model_name": "LayoutModel",
          "state": {
            "_view_name": "LayoutView",
            "grid_template_rows": null,
            "right": null,
            "justify_content": null,
            "_view_module": "@jupyter-widgets/base",
            "overflow": null,
            "_model_module_version": "1.2.0",
            "_view_count": null,
            "flex_flow": null,
            "width": null,
            "min_width": null,
            "border": null,
            "align_items": null,
            "bottom": null,
            "_model_module": "@jupyter-widgets/base",
            "top": null,
            "grid_column": null,
            "overflow_y": null,
            "overflow_x": null,
            "grid_auto_flow": null,
            "grid_area": null,
            "grid_template_columns": null,
            "flex": null,
            "_model_name": "LayoutModel",
            "justify_items": null,
            "grid_row": null,
            "max_height": null,
            "align_content": null,
            "visibility": null,
            "align_self": null,
            "height": null,
            "min_height": null,
            "padding": null,
            "grid_auto_rows": null,
            "grid_gap": null,
            "max_width": null,
            "order": null,
            "_view_module_version": "1.2.0",
            "grid_template_areas": null,
            "object_position": null,
            "object_fit": null,
            "grid_auto_columns": null,
            "margin": null,
            "display": null,
            "left": null
          }
        },
        "bd116bd2328944a39878187af28578a1": {
          "model_module": "@jupyter-widgets/output",
          "model_name": "OutputModel",
          "state": {
            "_view_name": "OutputView",
            "msg_id": "",
            "_dom_classes": [],
            "_model_name": "OutputModel",
            "outputs": [
              {
                "output_type": "stream",
                "metadata": {
                  "tags": []
                },
                "text": "Video available at https://youtube.com/watch?v=dGRESMoNPh0\n",
                "stream": "stdout"
              },
              {
                "output_type": "display_data",
                "metadata": {
                  "tags": []
                },
                "text/html": "\n        <iframe\n            width=\"854\"\n            height=\"480\"\n            src=\"https://www.youtube.com/embed/dGRESMoNPh0?fs=1&rel=0\"\n            frameborder=\"0\"\n            allowfullscreen\n        ></iframe>\n        ",
                "text/plain": "<IPython.lib.display.YouTubeVideo at 0x7f44c834e210>",
                "image/jpeg": "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\n"
              }
            ],
            "_view_module": "@jupyter-widgets/output",
            "_model_module_version": "1.0.0",
            "_view_count": null,
            "_view_module_version": "1.0.0",
            "layout": "IPY_MODEL_442588772ea948fda3067c03dc481238",
            "_model_module": "@jupyter-widgets/output"
          }
        },
        "cc8ba83513d644829caf66fc009f41a7": {
          "model_module": "@jupyter-widgets/output",
          "model_name": "OutputModel",
          "state": {
            "_view_name": "OutputView",
            "msg_id": "",
            "_dom_classes": [],
            "_model_name": "OutputModel",
            "outputs": [
              {
                "output_type": "stream",
                "metadata": {
                  "tags": []
                },
                "text": "Video available at https://www.bilibili.com/video/BV1hz411v7ne\n",
                "stream": "stdout"
              },
              {
                "output_type": "display_data",
                "metadata": {
                  "tags": []
                },
                "text/html": "\n        <iframe\n            width=\"854\"\n            height=\"480\"\n            src=\"https://player.bilibili.com/player.html?bvid=BV1hz411v7ne&page=1?fs=1\"\n            frameborder=\"0\"\n            allowfullscreen\n        ></iframe>\n        ",
                "text/plain": "<__main__.BiliVideo at 0x7f44c833fc90>"
              }
            ],
            "_view_module": "@jupyter-widgets/output",
            "_model_module_version": "1.0.0",
            "_view_count": null,
            "_view_module_version": "1.0.0",
            "layout": "IPY_MODEL_e028aace6b4d48838cc55e1f567c6051",
            "_model_module": "@jupyter-widgets/output"
          }
        },
        "442588772ea948fda3067c03dc481238": {
          "model_module": "@jupyter-widgets/base",
          "model_name": "LayoutModel",
          "state": {
            "_view_name": "LayoutView",
            "grid_template_rows": null,
            "right": null,
            "justify_content": null,
            "_view_module": "@jupyter-widgets/base",
            "overflow": null,
            "_model_module_version": "1.2.0",
            "_view_count": null,
            "flex_flow": null,
            "width": null,
            "min_width": null,
            "border": null,
            "align_items": null,
            "bottom": null,
            "_model_module": "@jupyter-widgets/base",
            "top": null,
            "grid_column": null,
            "overflow_y": null,
            "overflow_x": null,
            "grid_auto_flow": null,
            "grid_area": null,
            "grid_template_columns": null,
            "flex": null,
            "_model_name": "LayoutModel",
            "justify_items": null,
            "grid_row": null,
            "max_height": null,
            "align_content": null,
            "visibility": null,
            "align_self": null,
            "height": null,
            "min_height": null,
            "padding": null,
            "grid_auto_rows": null,
            "grid_gap": null,
            "max_width": null,
            "order": null,
            "_view_module_version": "1.2.0",
            "grid_template_areas": null,
            "object_position": null,
            "object_fit": null,
            "grid_auto_columns": null,
            "margin": null,
            "display": null,
            "left": null
          }
        },
        "e028aace6b4d48838cc55e1f567c6051": {
          "model_module": "@jupyter-widgets/base",
          "model_name": "LayoutModel",
          "state": {
            "_view_name": "LayoutView",
            "grid_template_rows": null,
            "right": null,
            "justify_content": null,
            "_view_module": "@jupyter-widgets/base",
            "overflow": null,
            "_model_module_version": "1.2.0",
            "_view_count": null,
            "flex_flow": null,
            "width": null,
            "min_width": null,
            "border": null,
            "align_items": null,
            "bottom": null,
            "_model_module": "@jupyter-widgets/base",
            "top": null,
            "grid_column": null,
            "overflow_y": null,
            "overflow_x": null,
            "grid_auto_flow": null,
            "grid_area": null,
            "grid_template_columns": null,
            "flex": null,
            "_model_name": "LayoutModel",
            "justify_items": null,
            "grid_row": null,
            "max_height": null,
            "align_content": null,
            "visibility": null,
            "align_self": null,
            "height": null,
            "min_height": null,
            "padding": null,
            "grid_auto_rows": null,
            "grid_gap": null,
            "max_width": null,
            "order": null,
            "_view_module_version": "1.2.0",
            "grid_template_areas": null,
            "object_position": null,
            "object_fit": null,
            "grid_auto_columns": null,
            "margin": null,
            "display": null,
            "left": null
          }
        },
        "a5d6dc3508fb49aca4fabf2f44c36463": {
          "model_module": "@jupyter-widgets/controls",
          "model_name": "TabModel",
          "state": {
            "_view_name": "TabView",
            "_dom_classes": [],
            "_titles": {
              "0": "Youtube",
              "1": "Bilibili"
            },
            "_model_name": "TabModel",
            "_view_module": "@jupyter-widgets/controls",
            "selected_index": 0,
            "_model_module_version": "1.5.0",
            "_view_count": null,
            "_view_module_version": "1.5.0",
            "box_style": "",
            "layout": "IPY_MODEL_6ddc5ceeae8d4db684015837eec59497",
            "_model_module": "@jupyter-widgets/controls",
            "children": [
              "IPY_MODEL_4066d8936e0a46dcbc371a2199a62ff9",
              "IPY_MODEL_9def384d397a4b428d74faa5dc2c099f"
            ]
          }
        },
        "6ddc5ceeae8d4db684015837eec59497": {
          "model_module": "@jupyter-widgets/base",
          "model_name": "LayoutModel",
          "state": {
            "_view_name": "LayoutView",
            "grid_template_rows": null,
            "right": null,
            "justify_content": null,
            "_view_module": "@jupyter-widgets/base",
            "overflow": null,
            "_model_module_version": "1.2.0",
            "_view_count": null,
            "flex_flow": null,
            "width": null,
            "min_width": null,
            "border": null,
            "align_items": null,
            "bottom": null,
            "_model_module": "@jupyter-widgets/base",
            "top": null,
            "grid_column": null,
            "overflow_y": null,
            "overflow_x": null,
            "grid_auto_flow": null,
            "grid_area": null,
            "grid_template_columns": null,
            "flex": null,
            "_model_name": "LayoutModel",
            "justify_items": null,
            "grid_row": null,
            "max_height": null,
            "align_content": null,
            "visibility": null,
            "align_self": null,
            "height": null,
            "min_height": null,
            "padding": null,
            "grid_auto_rows": null,
            "grid_gap": null,
            "max_width": null,
            "order": null,
            "_view_module_version": "1.2.0",
            "grid_template_areas": null,
            "object_position": null,
            "object_fit": null,
            "grid_auto_columns": null,
            "margin": null,
            "display": null,
            "left": null
          }
        },
        "4066d8936e0a46dcbc371a2199a62ff9": {
          "model_module": "@jupyter-widgets/output",
          "model_name": "OutputModel",
          "state": {
            "_view_name": "OutputView",
            "msg_id": "",
            "_dom_classes": [],
            "_model_name": "OutputModel",
            "outputs": [
              {
                "output_type": "stream",
                "metadata": {
                  "tags": []
                },
                "text": "Video available at https://youtube.com/watch?v=4YNpMpVW2qs\n",
                "stream": "stdout"
              },
              {
                "output_type": "display_data",
                "metadata": {
                  "tags": []
                },
                "text/html": "\n        <iframe\n            width=\"854\"\n            height=\"480\"\n            src=\"https://www.youtube.com/embed/4YNpMpVW2qs?fs=1&rel=0\"\n            frameborder=\"0\"\n            allowfullscreen\n        ></iframe>\n        ",
                "text/plain": "<IPython.lib.display.YouTubeVideo at 0x7f44c8352e50>",
                "image/jpeg": "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\n"
              }
            ],
            "_view_module": "@jupyter-widgets/output",
            "_model_module_version": "1.0.0",
            "_view_count": null,
            "_view_module_version": "1.0.0",
            "layout": "IPY_MODEL_bc27d5eb2f234df28d2c390622e93388",
            "_model_module": "@jupyter-widgets/output"
          }
        },
        "9def384d397a4b428d74faa5dc2c099f": {
          "model_module": "@jupyter-widgets/output",
          "model_name": "OutputModel",
          "state": {
            "_view_name": "OutputView",
            "msg_id": "",
            "_dom_classes": [],
            "_model_name": "OutputModel",
            "outputs": [
              {
                "output_type": "stream",
                "metadata": {
                  "tags": []
                },
                "text": "Video available at https://www.bilibili.com/video/BV12V41167yu\n",
                "stream": "stdout"
              },
              {
                "output_type": "display_data",
                "metadata": {
                  "tags": []
                },
                "text/html": "\n        <iframe\n            width=\"854\"\n            height=\"480\"\n            src=\"https://player.bilibili.com/player.html?bvid=BV12V41167yu&page=1?fs=1\"\n            frameborder=\"0\"\n            allowfullscreen\n        ></iframe>\n        ",
                "text/plain": "<__main__.BiliVideo at 0x7f44c87bb790>"
              }
            ],
            "_view_module": "@jupyter-widgets/output",
            "_model_module_version": "1.0.0",
            "_view_count": null,
            "_view_module_version": "1.0.0",
            "layout": "IPY_MODEL_1a15531f94c64a8d9d5801eddc2d38d2",
            "_model_module": "@jupyter-widgets/output"
          }
        },
        "bc27d5eb2f234df28d2c390622e93388": {
          "model_module": "@jupyter-widgets/base",
          "model_name": "LayoutModel",
          "state": {
            "_view_name": "LayoutView",
            "grid_template_rows": null,
            "right": null,
            "justify_content": null,
            "_view_module": "@jupyter-widgets/base",
            "overflow": null,
            "_model_module_version": "1.2.0",
            "_view_count": null,
            "flex_flow": null,
            "width": null,
            "min_width": null,
            "border": null,
            "align_items": null,
            "bottom": null,
            "_model_module": "@jupyter-widgets/base",
            "top": null,
            "grid_column": null,
            "overflow_y": null,
            "overflow_x": null,
            "grid_auto_flow": null,
            "grid_area": null,
            "grid_template_columns": null,
            "flex": null,
            "_model_name": "LayoutModel",
            "justify_items": null,
            "grid_row": null,
            "max_height": null,
            "align_content": null,
            "visibility": null,
            "align_self": null,
            "height": null,
            "min_height": null,
            "padding": null,
            "grid_auto_rows": null,
            "grid_gap": null,
            "max_width": null,
            "order": null,
            "_view_module_version": "1.2.0",
            "grid_template_areas": null,
            "object_position": null,
            "object_fit": null,
            "grid_auto_columns": null,
            "margin": null,
            "display": null,
            "left": null
          }
        },
        "1a15531f94c64a8d9d5801eddc2d38d2": {
          "model_module": "@jupyter-widgets/base",
          "model_name": "LayoutModel",
          "state": {
            "_view_name": "LayoutView",
            "grid_template_rows": null,
            "right": null,
            "justify_content": null,
            "_view_module": "@jupyter-widgets/base",
            "overflow": null,
            "_model_module_version": "1.2.0",
            "_view_count": null,
            "flex_flow": null,
            "width": null,
            "min_width": null,
            "border": null,
            "align_items": null,
            "bottom": null,
            "_model_module": "@jupyter-widgets/base",
            "top": null,
            "grid_column": null,
            "overflow_y": null,
            "overflow_x": null,
            "grid_auto_flow": null,
            "grid_area": null,
            "grid_template_columns": null,
            "flex": null,
            "_model_name": "LayoutModel",
            "justify_items": null,
            "grid_row": null,
            "max_height": null,
            "align_content": null,
            "visibility": null,
            "align_self": null,
            "height": null,
            "min_height": null,
            "padding": null,
            "grid_auto_rows": null,
            "grid_gap": null,
            "max_width": null,
            "order": null,
            "_view_module_version": "1.2.0",
            "grid_template_areas": null,
            "object_position": null,
            "object_fit": null,
            "grid_auto_columns": null,
            "margin": null,
            "display": null,
            "left": null
          }
        },
        "e5e3ed79e0e34ba480bfa11d0968b6bb": {
          "model_module": "@jupyter-widgets/controls",
          "model_name": "TabModel",
          "state": {
            "_view_name": "TabView",
            "_dom_classes": [],
            "_titles": {
              "0": "Youtube",
              "1": "Bilibili"
            },
            "_model_name": "TabModel",
            "_view_module": "@jupyter-widgets/controls",
            "selected_index": 0,
            "_model_module_version": "1.5.0",
            "_view_count": null,
            "_view_module_version": "1.5.0",
            "box_style": "",
            "layout": "IPY_MODEL_cba90c29c3664fa49ead72cc4ad39bc1",
            "_model_module": "@jupyter-widgets/controls",
            "children": [
              "IPY_MODEL_30f022a90abc42a3a05013a3d3a7ff58",
              "IPY_MODEL_53b919f5722d4e06b71744f8ee7a1ce7"
            ]
          }
        },
        "cba90c29c3664fa49ead72cc4ad39bc1": {
          "model_module": "@jupyter-widgets/base",
          "model_name": "LayoutModel",
          "state": {
            "_view_name": "LayoutView",
            "grid_template_rows": null,
            "right": null,
            "justify_content": null,
            "_view_module": "@jupyter-widgets/base",
            "overflow": null,
            "_model_module_version": "1.2.0",
            "_view_count": null,
            "flex_flow": null,
            "width": null,
            "min_width": null,
            "border": null,
            "align_items": null,
            "bottom": null,
            "_model_module": "@jupyter-widgets/base",
            "top": null,
            "grid_column": null,
            "overflow_y": null,
            "overflow_x": null,
            "grid_auto_flow": null,
            "grid_area": null,
            "grid_template_columns": null,
            "flex": null,
            "_model_name": "LayoutModel",
            "justify_items": null,
            "grid_row": null,
            "max_height": null,
            "align_content": null,
            "visibility": null,
            "align_self": null,
            "height": null,
            "min_height": null,
            "padding": null,
            "grid_auto_rows": null,
            "grid_gap": null,
            "max_width": null,
            "order": null,
            "_view_module_version": "1.2.0",
            "grid_template_areas": null,
            "object_position": null,
            "object_fit": null,
            "grid_auto_columns": null,
            "margin": null,
            "display": null,
            "left": null
          }
        },
        "30f022a90abc42a3a05013a3d3a7ff58": {
          "model_module": "@jupyter-widgets/output",
          "model_name": "OutputModel",
          "state": {
            "_view_name": "OutputView",
            "msg_id": "",
            "_dom_classes": [],
            "_model_name": "OutputModel",
            "outputs": [
              {
                "output_type": "stream",
                "metadata": {
                  "tags": []
                },
                "text": "Video available at https://youtube.com/watch?v=h4mSJBPocPo\n",
                "stream": "stdout"
              },
              {
                "output_type": "display_data",
                "metadata": {
                  "tags": []
                },
                "text/html": "\n        <iframe\n            width=\"854\"\n            height=\"480\"\n            src=\"https://www.youtube.com/embed/h4mSJBPocPo?fs=1&rel=0\"\n            frameborder=\"0\"\n            allowfullscreen\n        ></iframe>\n        ",
                "text/plain": "<IPython.lib.display.YouTubeVideo at 0x7f44c832c710>",
                "image/jpeg": "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\n"
              }
            ],
            "_view_module": "@jupyter-widgets/output",
            "_model_module_version": "1.0.0",
            "_view_count": null,
            "_view_module_version": "1.0.0",
            "layout": "IPY_MODEL_a764840f3dae4237805383003e2ce39c",
            "_model_module": "@jupyter-widgets/output"
          }
        },
        "53b919f5722d4e06b71744f8ee7a1ce7": {
          "model_module": "@jupyter-widgets/output",
          "model_name": "OutputModel",
          "state": {
            "_view_name": "OutputView",
            "msg_id": "",
            "_dom_classes": [],
            "_model_name": "OutputModel",
            "outputs": [
              {
                "output_type": "stream",
                "metadata": {
                  "tags": []
                },
                "text": "Video available at https://www.bilibili.com/video/BV1MC4y1h7eA\n",
                "stream": "stdout"
              },
              {
                "output_type": "display_data",
                "metadata": {
                  "tags": []
                },
                "text/html": "\n        <iframe\n            width=\"854\"\n            height=\"480\"\n            src=\"https://player.bilibili.com/player.html?bvid=BV1MC4y1h7eA&page=1?fs=1\"\n            frameborder=\"0\"\n            allowfullscreen\n        ></iframe>\n        ",
                "text/plain": "<__main__.BiliVideo at 0x7f44c832c950>"
              }
            ],
            "_view_module": "@jupyter-widgets/output",
            "_model_module_version": "1.0.0",
            "_view_count": null,
            "_view_module_version": "1.0.0",
            "layout": "IPY_MODEL_45087f1398c64090bba60cbf91868dd5",
            "_model_module": "@jupyter-widgets/output"
          }
        },
        "a764840f3dae4237805383003e2ce39c": {
          "model_module": "@jupyter-widgets/base",
          "model_name": "LayoutModel",
          "state": {
            "_view_name": "LayoutView",
            "grid_template_rows": null,
            "right": null,
            "justify_content": null,
            "_view_module": "@jupyter-widgets/base",
            "overflow": null,
            "_model_module_version": "1.2.0",
            "_view_count": null,
            "flex_flow": null,
            "width": null,
            "min_width": null,
            "border": null,
            "align_items": null,
            "bottom": null,
            "_model_module": "@jupyter-widgets/base",
            "top": null,
            "grid_column": null,
            "overflow_y": null,
            "overflow_x": null,
            "grid_auto_flow": null,
            "grid_area": null,
            "grid_template_columns": null,
            "flex": null,
            "_model_name": "LayoutModel",
            "justify_items": null,
            "grid_row": null,
            "max_height": null,
            "align_content": null,
            "visibility": null,
            "align_self": null,
            "height": null,
            "min_height": null,
            "padding": null,
            "grid_auto_rows": null,
            "grid_gap": null,
            "max_width": null,
            "order": null,
            "_view_module_version": "1.2.0",
            "grid_template_areas": null,
            "object_position": null,
            "object_fit": null,
            "grid_auto_columns": null,
            "margin": null,
            "display": null,
            "left": null
          }
        },
        "45087f1398c64090bba60cbf91868dd5": {
          "model_module": "@jupyter-widgets/base",
          "model_name": "LayoutModel",
          "state": {
            "_view_name": "LayoutView",
            "grid_template_rows": null,
            "right": null,
            "justify_content": null,
            "_view_module": "@jupyter-widgets/base",
            "overflow": null,
            "_model_module_version": "1.2.0",
            "_view_count": null,
            "flex_flow": null,
            "width": null,
            "min_width": null,
            "border": null,
            "align_items": null,
            "bottom": null,
            "_model_module": "@jupyter-widgets/base",
            "top": null,
            "grid_column": null,
            "overflow_y": null,
            "overflow_x": null,
            "grid_auto_flow": null,
            "grid_area": null,
            "grid_template_columns": null,
            "flex": null,
            "_model_name": "LayoutModel",
            "justify_items": null,
            "grid_row": null,
            "max_height": null,
            "align_content": null,
            "visibility": null,
            "align_self": null,
            "height": null,
            "min_height": null,
            "padding": null,
            "grid_auto_rows": null,
            "grid_gap": null,
            "max_width": null,
            "order": null,
            "_view_module_version": "1.2.0",
            "grid_template_areas": null,
            "object_position": null,
            "object_fit": null,
            "grid_auto_columns": null,
            "margin": null,
            "display": null,
            "left": null
          }
        }
      }
    }
  },
  "cells": [
    {
      "cell_type": "markdown",
      "metadata": {
        "id": "view-in-github",
        "colab_type": "text"
      },
      "source": [
        "<a href=\"https://colab.research.google.com/github/luisarai/NMA2021/blob/main/tutorials/W0D2_PythonWorkshop2/student/W0D2_Tutorial1.ipynb\" target=\"_parent\"><img src=\"https://colab.research.google.com/assets/colab-badge.svg\" alt=\"Open In Colab\"/></a>"
      ]
    },
    {
      "cell_type": "markdown",
      "metadata": {
        "id": "PTzfntg2Sr0j"
      },
      "source": [
        "# Tutorial 1: LIF Neuron Part II\n",
        "**Week 0, Day 2: Python Workshop 2**\n",
        "\n",
        "**By Neuromatch Academy**\n",
        "\n",
        "__Content creators:__ Marco Brigham and the [CCNSS](https://www.ccnss.org/) team\n",
        "\n",
        "__Content reviewers:__ Michael Waskom, Karolina Stosio, Spiros Chavlis\n",
        "\n",
        "__Production Editor:__ Ella Batty"
      ]
    },
    {
      "cell_type": "markdown",
      "metadata": {
        "id": "jDXL6G8YSr0q"
      },
      "source": [
        "**Our 2021 Sponsors, including Presenting Sponsor Facebook Reality Labs**\n",
        "\n",
        "<p align='center'><img src='https://github.com/NeuromatchAcademy/widgets/blob/master/sponsors.png?raw=True'/></p>"
      ]
    },
    {
      "cell_type": "markdown",
      "metadata": {
        "id": "zQ-AigMySr0s"
      },
      "source": [
        "---\n",
        "## Tutorial objectives\n",
        "We learned basic Python and NumPy concepts in the previous tutorial. These new and efficient coding techniques can be applied repeatedly in tutorials from the NMA course, and elsewhere. \n",
        "\n",
        "In this tutorial, we'll introduce spikes in our LIF neuron and evaluate the refractory period's effect in spiking dynamics!\n"
      ]
    },
    {
      "cell_type": "markdown",
      "metadata": {
        "id": "TH9sqOmdSr0t"
      },
      "source": [
        "---\n",
        "# Setup"
      ]
    },
    {
      "cell_type": "code",
      "metadata": {
        "cellView": "both",
        "execution": {
          "iopub.execute_input": "2021-06-27T06:04:40.945690Z",
          "iopub.status.busy": "2021-06-27T06:04:40.945053Z",
          "iopub.status.idle": "2021-06-27T06:04:41.289458Z",
          "shell.execute_reply": "2021-06-27T06:04:41.288727Z"
        },
        "id": "LHUB1NBqSr0v"
      },
      "source": [
        "# Imports\n",
        "\n",
        "import numpy as np\n",
        "import matplotlib.pyplot as plt\n",
        "from IPython.display import YouTubeVideo\n",
        "\n",
        "t_max = 150e-3   # second\n",
        "dt = 1e-3        # second\n",
        "tau = 20e-3      # second\n",
        "el = -60e-3      # milivolt\n",
        "vr = -70e-3      # milivolt\n",
        "vth = -50e-3     # milivolt\n",
        "r = 100e6        # ohm\n",
        "i_mean = 25e-11  # ampere"
      ],
      "execution_count": 2,
      "outputs": []
    },
    {
      "cell_type": "code",
      "metadata": {
        "cellView": "form",
        "execution": {
          "iopub.execute_input": "2021-06-27T06:04:41.295873Z",
          "iopub.status.busy": "2021-06-27T06:04:41.293896Z",
          "iopub.status.idle": "2021-06-27T06:04:41.388003Z",
          "shell.execute_reply": "2021-06-27T06:04:41.387434Z"
        },
        "id": "skPvy-iBSr0y"
      },
      "source": [
        "# @title Figure settings\n",
        "import ipywidgets as widgets       # interactive display\n",
        "%config InlineBackend.figure_format = 'retina'\n",
        "plt.style.use(\"https://raw.githubusercontent.com/NeuromatchAcademy/course-content/master/nma.mplstyle\")"
      ],
      "execution_count": 3,
      "outputs": []
    },
    {
      "cell_type": "code",
      "metadata": {
        "cellView": "form",
        "execution": {
          "iopub.execute_input": "2021-06-27T06:04:41.401795Z",
          "iopub.status.busy": "2021-06-27T06:04:41.399718Z",
          "iopub.status.idle": "2021-06-27T06:04:41.402739Z",
          "shell.execute_reply": "2021-06-27T06:04:41.403255Z"
        },
        "id": "CH7ONmt9Sr00"
      },
      "source": [
        "# @title Helper functions\n",
        "\n",
        "t_max = 150e-3   # second\n",
        "dt = 1e-3        # second\n",
        "tau = 20e-3      # second\n",
        "el = -60e-3      # milivolt\n",
        "vr = -70e-3      # milivolt\n",
        "vth = -50e-3     # milivolt\n",
        "r = 100e6        # ohm\n",
        "i_mean = 25e-11  # ampere\n",
        "\n",
        "\n",
        "def plot_all(t_range, v, raster=None, spikes=None, spikes_mean=None):\n",
        "  \"\"\"\n",
        "  Plots Time evolution for\n",
        "  (1) multiple realizations of membrane potential\n",
        "  (2) spikes\n",
        "  (3) mean spike rate (optional)\n",
        "\n",
        "  Args:\n",
        "    t_range (numpy array of floats)\n",
        "        range of time steps for the plots of shape (time steps)\n",
        "\n",
        "    v (numpy array of floats)\n",
        "        membrane potential values of shape (neurons, time steps)\n",
        "\n",
        "    raster (numpy array of floats)\n",
        "        spike raster of shape (neurons, time steps)\n",
        "\n",
        "    spikes (dictionary of lists)\n",
        "        list with spike times indexed by neuron number\n",
        "\n",
        "    spikes_mean (numpy array of floats)\n",
        "        Mean spike rate for spikes as dictionary\n",
        "\n",
        "  Returns:\n",
        "    Nothing.\n",
        "  \"\"\"\n",
        "\n",
        "  v_mean = np.mean(v, axis=0)\n",
        "  fig_w, fig_h = plt.rcParams['figure.figsize']\n",
        "  plt.figure(figsize=(fig_w, 1.5 * fig_h))\n",
        "\n",
        "  ax1 = plt.subplot(3, 1, 1)\n",
        "  for j in range(n):\n",
        "    plt.scatter(t_range, v[j], color=\"k\", marker=\".\", alpha=0.01)\n",
        "  plt.plot(t_range, v_mean, 'C1', alpha=0.8, linewidth=3)\n",
        "  plt.xticks([])\n",
        "  plt.ylabel(r'$V_m$ (V)')\n",
        "\n",
        "  if raster is not None:\n",
        "    plt.subplot(3, 1, 2)\n",
        "    spikes_mean = np.mean(raster, axis=0)\n",
        "    plt.imshow(raster, cmap='Greys', origin='lower', aspect='auto')\n",
        "\n",
        "  else:\n",
        "    plt.subplot(3, 1, 2, sharex=ax1)\n",
        "    for j in range(n):\n",
        "      times = np.array(spikes[j])\n",
        "      plt.scatter(times, j * np.ones_like(times), color=\"C0\", marker=\".\", alpha=0.2)\n",
        "\n",
        "  plt.xticks([])\n",
        "  plt.ylabel('neuron')\n",
        "\n",
        "  if spikes_mean is not None:\n",
        "    plt.subplot(3, 1, 3, sharex=ax1)\n",
        "    plt.plot(t_range, spikes_mean)\n",
        "    plt.xlabel('time (s)')\n",
        "    plt.ylabel('rate (Hz)')\n",
        "\n",
        "  plt.tight_layout()\n",
        "  plt.show()"
      ],
      "execution_count": 4,
      "outputs": []
    },
    {
      "cell_type": "markdown",
      "metadata": {
        "id": "3H4nUkF5Sr02"
      },
      "source": [
        "---\n",
        "# Section 1: Histograms\n"
      ]
    },
    {
      "cell_type": "code",
      "metadata": {
        "cellView": "form",
        "colab": {
          "base_uri": "https://localhost:8080/",
          "height": 581,
          "referenced_widgets": [
            "4b02c4d93329451091ac60d3bc49c11c",
            "af793352ce174d89b1733df8da0607ef",
            "272c7b90f1654c9281195e744eb973f5",
            "fd8b251f6c8a42f79bb89a267bd59523",
            "26ed863eecf5406c8bf12f6393acf098",
            "129fd4df9f3f497a999f465cb6b68091"
          ]
        },
        "execution": {
          "iopub.execute_input": "2021-06-27T06:04:41.416365Z",
          "iopub.status.busy": "2021-06-27T06:04:41.415492Z",
          "iopub.status.idle": "2021-06-27T06:04:41.486465Z",
          "shell.execute_reply": "2021-06-27T06:04:41.486964Z"
        },
        "id": "9roT7PEOSr03",
        "outputId": "de03af67-6044-4c09-997f-2c9a6c810f2e"
      },
      "source": [
        "# @title Video 1: Histograms\n",
        "from ipywidgets import widgets\n",
        "\n",
        "out2 = widgets.Output()\n",
        "with out2:\n",
        "  from IPython.display import IFrame\n",
        "  class BiliVideo(IFrame):\n",
        "      def __init__(self, id, page=1, width=400, height=300, **kwargs):\n",
        "          self.id=id\n",
        "          src = 'https://player.bilibili.com/player.html?bvid={0}&page={1}'.format(id, page)\n",
        "          super(BiliVideo, self).__init__(src, width, height, **kwargs)\n",
        "\n",
        "  video = BiliVideo(id=\"BV1GC4y1h7Ex\", width=854, height=480, fs=1)\n",
        "  print('Video available at https://www.bilibili.com/video/{0}'.format(video.id))\n",
        "  display(video)\n",
        "\n",
        "out1 = widgets.Output()\n",
        "with out1:\n",
        "  from IPython.display import YouTubeVideo\n",
        "  video = YouTubeVideo(id=\"J24tne-IwvY\", width=854, height=480, fs=1, rel=0)\n",
        "  print('Video available at https://youtube.com/watch?v=' + video.id)\n",
        "  display(video)\n",
        "\n",
        "out = widgets.Tab([out1, out2])\n",
        "out.set_title(0, 'Youtube')\n",
        "out.set_title(1, 'Bilibili')\n",
        "\n",
        "display(out)"
      ],
      "execution_count": 5,
      "outputs": [
        {
          "output_type": "display_data",
          "data": {
            "application/vnd.jupyter.widget-view+json": {
              "model_id": "4b02c4d93329451091ac60d3bc49c11c",
              "version_minor": 0,
              "version_major": 2
            },
            "text/plain": [
              "Tab(children=(Output(), Output()), _titles={'0': 'Youtube', '1': 'Bilibili'})"
            ]
          },
          "metadata": {
            "tags": []
          }
        }
      ]
    },
    {
      "cell_type": "markdown",
      "metadata": {
        "id": "l_-pQj8rSr06"
      },
      "source": [
        "![histogram statistics](https://github.com/mpbrigham/colaboratory-figures/raw/master/nma/python-for-nma/histogram_statistics.png)\n",
        "\n",
        "Another important statistic is the sample [histogram](https://en.wikipedia.org/wiki/Histogram). For our LIF neuron it provides an approximate representation of the distribution of membrane potential $V_m(t)$ at time $t=t_k\\in[0,t_{max}]$. For $N$ realizations $V\\left(t_k\\right)$ and $J$ bins is given by:\n",
        " \n",
        "\\begin{align*}\n",
        "\\\\\n",
        "N = \\sum_{j=1}^{J} m_j\\\\\n",
        "\\\\\n",
        "\\end{align*}\n",
        "\n",
        "where $m_j$ is a function that counts the number of samples $V\\left(t_k\\right)$ that fall into bin $j$.\n",
        "\n",
        "The function `plt.hist(data, nbins)` plots an histogram of `data` in `nbins` bins. The argument `label` defines a label for `data` and `plt.legend()` adds all labels to the plot.\n",
        "\n",
        "    plt.hist(data, bins, label='my data')\n",
        "    plt.legend()\n",
        "    plt.show()\n",
        "\n",
        "The parameters `histtype='stepfilled'` and `linewidth=0` may improve histogram appearance (depending on taste). You can read more about [different histtype settings](https://matplotlib.org/gallery/statistics/histogram_histtypes.html).\n",
        "\n",
        "The function `plt.hist` returns the `pdf`, `bins`, and `patches` with the histogram bins, the edges of the bins, and the individual patches used to create the histogram.\n",
        "\n",
        "    pdf, bins, patches = plt.hist(data, bins)\n"
      ]
    },
    {
      "cell_type": "code",
      "metadata": {
        "cellView": "form",
        "colab": {
          "base_uri": "https://localhost:8080/",
          "height": 581,
          "referenced_widgets": [
            "be85ab60fc8a4359aaf46eec952ff9ea",
            "95e7fc92132e45e2b205196d081b1810",
            "85627bd5454642f9a3861d2028aa0f38",
            "39e0c63036be4e27bd8fc98214f1716b",
            "b92fe31d4fa443d7a61f87d11e71f1e6",
            "464ffee085244b94b84521529ad8e34d"
          ]
        },
        "execution": {
          "iopub.execute_input": "2021-06-27T06:04:41.510104Z",
          "iopub.status.busy": "2021-06-27T06:04:41.508056Z",
          "iopub.status.idle": "2021-06-27T06:04:41.580722Z",
          "shell.execute_reply": "2021-06-27T06:04:41.576440Z"
        },
        "id": "vR37dW3FSr07",
        "outputId": "58bc6b1f-e66b-4d89-b239-89c37035c5d3"
      },
      "source": [
        "# @title Video 2: Nano recap of histograms\n",
        "from ipywidgets import widgets\n",
        "\n",
        "out2 = widgets.Output()\n",
        "with out2:\n",
        "  from IPython.display import IFrame\n",
        "  class BiliVideo(IFrame):\n",
        "      def __init__(self, id, page=1, width=400, height=300, **kwargs):\n",
        "          self.id=id\n",
        "          src = 'https://player.bilibili.com/player.html?bvid={0}&page={1}'.format(id, page)\n",
        "          super(BiliVideo, self).__init__(src, width, height, **kwargs)\n",
        "\n",
        "  video = BiliVideo(id=\"BV1Zv411B7mD\", width=854, height=480, fs=1)\n",
        "  print('Video available at https://www.bilibili.com/video/{0}'.format(video.id))\n",
        "  display(video)\n",
        "\n",
        "out1 = widgets.Output()\n",
        "with out1:\n",
        "  from IPython.display import YouTubeVideo\n",
        "  video = YouTubeVideo(id=\"71f1J98zj80\", width=854, height=480, fs=1, rel=0)\n",
        "  print('Video available at https://youtube.com/watch?v=' + video.id)\n",
        "  display(video)\n",
        "\n",
        "out = widgets.Tab([out1, out2])\n",
        "out.set_title(0, 'Youtube')\n",
        "out.set_title(1, 'Bilibili')\n",
        "\n",
        "display(out)"
      ],
      "execution_count": 6,
      "outputs": [
        {
          "output_type": "display_data",
          "data": {
            "application/vnd.jupyter.widget-view+json": {
              "model_id": "be85ab60fc8a4359aaf46eec952ff9ea",
              "version_minor": 0,
              "version_major": 2
            },
            "text/plain": [
              "Tab(children=(Output(), Output()), _titles={'0': 'Youtube', '1': 'Bilibili'})"
            ]
          },
          "metadata": {
            "tags": []
          }
        }
      ]
    },
    {
      "cell_type": "markdown",
      "metadata": {
        "id": "8GgTlre7Sr09"
      },
      "source": [
        "## Coding Exercise 1: Plotting a histogram\n",
        "Plot an histogram of $J=50$ bins of $N=10000$ realizations of $V(t)$ for $t=t_{max}/10$ and $t=t_{max}$.\n",
        "\n",
        "We'll make a small correction in the definition of `t_range` to ensure increments of `dt` by using `np.arange` instead of `np.linspace`.\n",
        "\n",
        "    numpy.arange(start, stop, step)\n"
      ]
    },
    {
      "cell_type": "code",
      "metadata": {
        "colab": {
          "base_uri": "https://localhost:8080/",
          "height": 301
        },
        "execution": {
          "iopub.execute_input": "2021-06-27T06:04:41.593647Z",
          "iopub.status.busy": "2021-06-27T06:04:41.592913Z",
          "iopub.status.idle": "2021-06-27T06:04:41.678725Z",
          "shell.execute_reply": "2021-06-27T06:04:41.678067Z"
        },
        "id": "GsyMpy91Sr0-",
        "outputId": "c5157129-6689-4546-b031-2766c7e33bae"
      },
      "source": [
        "#################################################\n",
        "## TODO for students: fill out code to plot histogram ##\n",
        "# Fill out code and comment or remove the next line\n",
        "#raise NotImplementedError(\"Student exercise: You need to plot histogram\")\n",
        "#################################################\n",
        "# Set random number generator\n",
        "np.random.seed(2020)\n",
        "\n",
        "# Initialize t_range, step_end, n, v_n, i and nbins\n",
        "t_range = np.arange(0, t_max, dt)\n",
        "step_end = len(t_range)\n",
        "\n",
        "n = 10000\n",
        "v_n = el * np.ones([n, step_end])\n",
        "i = i_mean * (1 + 0.1 * (t_max / dt)**(0.5) * (2 * np.random.random([n, step_end]) - 1))\n",
        "nbins = 32\n",
        "\n",
        "# Loop over time steps\n",
        "for step, t in enumerate(t_range):\n",
        "\n",
        "  # Skip first iteration\n",
        "  if step==0:\n",
        "    continue\n",
        "\n",
        "  # Compute v_n\n",
        "  v_n[:, step] =  v_n[:, step - 1] + (dt / tau) * (el - v_n[:, step - 1] + r * i[:, step])\n",
        "\n",
        "# Initialize the figure\n",
        "plt.xkcd()\n",
        "plt.ylabel('Frequency')\n",
        "plt.xlabel('$V_m$ (V)')\n",
        "\n",
        "# Plot a histogram at t_max/10 (add labels and parameters histtype='stepfilled' and linewidth=0)\n",
        "plt.hist(v_n[:, int(step_end/10)],50, histtype='stepfilled' ,linewidth=0,  label = 't='+ str(t_max / 10) + 's')\n",
        "\n",
        "# Plot a histogram at t_max (add labels and parameters histtype='stepfilled' and linewidth=0)\n",
        "plt.hist(v_n[:, -1],50, histtype='stepfilled', linewidth=0,  label = 't='+ str(t_max / 100) + 's')\n",
        "\n",
        "# Add legend\n",
        "plt.legend()\n",
        "sns.despine(offset=10)\n",
        "plt.show()"
      ],
      "execution_count": 8,
      "outputs": [
        {
          "output_type": "display_data",
          "data": {
            "image/png": "[encoded data removed]",
            "text/plain": [
              "<Figure size 432x288 with 1 Axes>"
            ]
          },
          "metadata": {
            "tags": []
          }
        }
      ]
    },
    {
      "cell_type": "markdown",
      "metadata": {
        "execution": {
          "iopub.execute_input": "2021-06-27T06:04:41.687063Z",
          "iopub.status.busy": "2021-06-27T06:04:41.686456Z",
          "iopub.status.idle": "2021-06-27T06:04:42.270286Z",
          "shell.execute_reply": "2021-06-27T06:04:42.270871Z"
        },
        "id": "4kEleirhSr0_"
      },
      "source": [
        "[*Click for solution*](https://github.com/NeuromatchAcademy/course-content/tree/master//tutorials/W0D2_PythonWorkshop2/solutions/W0D2_Tutorial1_Solution_04b855a3.py)\n",
        "\n",
        "*Example output:*\n",
        "\n",
        "<img alt='Solution hint' align='left' width=560 height=415 src=https://raw.githubusercontent.com/NeuromatchAcademy/course-content/master/tutorials/W0D2_PythonWorkshop2/static/W0D2_Tutorial1_Solution_04b855a3_0.png>\n",
        "\n"
      ]
    },
    {
      "cell_type": "markdown",
      "metadata": {
        "id": "ONHXN3LCSr1A"
      },
      "source": [
        "---\n",
        "# Section 2: Dictionaries & introducing spikes\n"
      ]
    },
    {
      "cell_type": "code",
      "metadata": {
        "cellView": "form",
        "execution": {
          "iopub.execute_input": "2021-06-27T06:04:42.284911Z",
          "iopub.status.busy": "2021-06-27T06:04:42.279152Z",
          "iopub.status.idle": "2021-06-27T06:04:42.356860Z",
          "shell.execute_reply": "2021-06-27T06:04:42.356217Z"
        },
        "id": "lUwp8T7SSr1C",
        "outputId": "50ad730c-3dea-4fb0-e7b6-87d1e945fd33",
        "colab": {
          "base_uri": "https://localhost:8080/",
          "height": 581,
          "referenced_widgets": [
            "9751ca4d688e4b5ea85ee353480dd3a7",
            "40c3e6c1e1f84658877f0043c583aa3f",
            "aca6405fb2eb4d2a913a02e724010979",
            "05eb402e631447ec893a74846fc9023e",
            "48aa3092aa8c4462acbbbcce95bea1bc",
            "a5387886e14a4cca95df6307e1bf6edb"
          ]
        }
      },
      "source": [
        "# @title Video 3: Dictionaries & introducing spikes\n",
        "from ipywidgets import widgets\n",
        "\n",
        "out2 = widgets.Output()\n",
        "with out2:\n",
        "  from IPython.display import IFrame\n",
        "  class BiliVideo(IFrame):\n",
        "      def __init__(self, id, page=1, width=400, height=300, **kwargs):\n",
        "          self.id=id\n",
        "          src = 'https://player.bilibili.com/player.html?bvid={0}&page={1}'.format(id, page)\n",
        "          super(BiliVideo, self).__init__(src, width, height, **kwargs)\n",
        "\n",
        "  video = BiliVideo(id=\"BV1H54y1q7oS\", width=854, height=480, fs=1)\n",
        "  print('Video available at https://www.bilibili.com/video/{0}'.format(video.id))\n",
        "  display(video)\n",
        "\n",
        "out1 = widgets.Output()\n",
        "with out1:\n",
        "  from IPython.display import YouTubeVideo\n",
        "  video = YouTubeVideo(id=\"ioKkiukDkNg\", width=854, height=480, fs=1, rel=0)\n",
        "  print('Video available at https://youtube.com/watch?v=' + video.id)\n",
        "  display(video)\n",
        "\n",
        "out = widgets.Tab([out1, out2])\n",
        "out.set_title(0, 'Youtube')\n",
        "out.set_title(1, 'Bilibili')\n",
        "\n",
        "display(out)"
      ],
      "execution_count": 34,
      "outputs": [
        {
          "output_type": "display_data",
          "data": {
            "application/vnd.jupyter.widget-view+json": {
              "model_id": "9751ca4d688e4b5ea85ee353480dd3a7",
              "version_minor": 0,
              "version_major": 2
            },
            "text/plain": [
              "Tab(children=(Output(), Output()), _titles={'0': 'Youtube', '1': 'Bilibili'})"
            ]
          },
          "metadata": {
            "tags": []
          }
        }
      ]
    },
    {
      "cell_type": "markdown",
      "metadata": {
        "id": "zI_5vkTYSr1D"
      },
      "source": [
        "A spike takes place whenever $V(t)$ crosses $V_{th}$. In that case, a spike is recorded and $V(t)$ resets to $V_{reset}$ value. This is summarized in the *reset condition*:\n",
        "$$V(t) = V_{reset}\\quad \\text{ if } V(t)\\geq V_{th}$$\n",
        "\n",
        "For more information about spikes or action potentials see [here](https://en.wikipedia.org/wiki/Action_potential) and [here](https://www.khanacademy.org/test-prep/mcat/organ-systems/neuron-membrane-potentials/a/neuron-action-potentials-the-creation-of-a-brain-signal).\n",
        "\n",
        "\n",
        "![spikes cartoon](https://github.com/mpbrigham/colaboratory-figures/raw/master/nma/python-for-nma/spikes_carton.png)"
      ]
    },
    {
      "cell_type": "code",
      "metadata": {
        "cellView": "form",
        "execution": {
          "iopub.execute_input": "2021-06-27T06:04:42.383096Z",
          "iopub.status.busy": "2021-06-27T06:04:42.380487Z",
          "iopub.status.idle": "2021-06-27T06:04:42.452651Z",
          "shell.execute_reply": "2021-06-27T06:04:42.450056Z"
        },
        "id": "EA9wgC_PSr1E",
        "outputId": "014964bc-3eaf-49e9-e20f-c1005def23aa",
        "colab": {
          "base_uri": "https://localhost:8080/",
          "height": 581,
          "referenced_widgets": [
            "739d7857ae084f96acc2784fa0a4491c",
            "dbf37a95dd444e609c885715f22e4ee0",
            "938074c4ac804ef18fd5fb554f74ccf3",
            "38725dd83b4e44c2aa04ca243b2ba20f",
            "ae1ed6cd400248b8822df9b573634ada",
            "a870a60bf30143998e0b018a62312808"
          ]
        }
      },
      "source": [
        "# @title Video 4: Nano recap of dictionaries\n",
        "from ipywidgets import widgets\n",
        "\n",
        "out2 = widgets.Output()\n",
        "with out2:\n",
        "  from IPython.display import IFrame\n",
        "  class BiliVideo(IFrame):\n",
        "      def __init__(self, id, page=1, width=400, height=300, **kwargs):\n",
        "          self.id=id\n",
        "          src = 'https://player.bilibili.com/player.html?bvid={0}&page={1}'.format(id, page)\n",
        "          super(BiliVideo, self).__init__(src, width, height, **kwargs)\n",
        "\n",
        "  video = BiliVideo(id=\"BV1GC4y1h7hi\", width=854, height=480, fs=1)\n",
        "  print('Video available at https://www.bilibili.com/video/{0}'.format(video.id))\n",
        "  display(video)\n",
        "\n",
        "out1 = widgets.Output()\n",
        "with out1:\n",
        "  from IPython.display import YouTubeVideo\n",
        "  video = YouTubeVideo(id=\"nvpHtzuZggg\", width=854, height=480, fs=1, rel=0)\n",
        "  print('Video available at https://youtube.com/watch?v=' + video.id)\n",
        "  display(video)\n",
        "\n",
        "out = widgets.Tab([out1, out2])\n",
        "out.set_title(0, 'Youtube')\n",
        "out.set_title(1, 'Bilibili')\n",
        "\n",
        "display(out)"
      ],
      "execution_count": 35,
      "outputs": [
        {
          "output_type": "display_data",
          "data": {
            "application/vnd.jupyter.widget-view+json": {
              "model_id": "739d7857ae084f96acc2784fa0a4491c",
              "version_minor": 0,
              "version_major": 2
            },
            "text/plain": [
              "Tab(children=(Output(), Output()), _titles={'0': 'Youtube', '1': 'Bilibili'})"
            ]
          },
          "metadata": {
            "tags": []
          }
        }
      ]
    },
    {
      "cell_type": "markdown",
      "metadata": {
        "id": "H6QDFX1wSr1F"
      },
      "source": [
        "## Coding Exercise 2: Adding spiking to the LIF neuron\n",
        "\n",
        "Insert the reset condition, and collect the spike times of each realization in a dictionary variable `spikes`, with $N=500$.\n",
        "\n",
        "We've used `plt.plot` for plotting lines and also for plotting dots at `(x,y)` coordinates, which is a [scatter plot](https://en.wikipedia.org/wiki/Scatter_plot). From here on, we'll use use `plt.plot` for plotting lines and for scatter plots: `plt.scatter`.\n",
        "```\n",
        "plt.scatter(x, y, color=\"k\", marker=\".\")\n",
        "```\n",
        "\n",
        "A *raster plot* represents spikes from multiple neurons by plotting dots at spike times from neuron `j` at plot height `j`, i.e. \n",
        "```\n",
        "plt.scatter(spike_times, j*np.ones_like(spike_times))\n",
        "```\n",
        "\n",
        "![spikes plot](https://github.com/mpbrigham/colaboratory-figures/raw/master/nma/python-for-nma/spikes_plot.png)\n",
        "\n",
        "In this exercise, we use `plt.subplot` for multiple plots in the same figure. These plots can share the same `x` or `y` axis by specifying the parameter `sharex` or `sharey`. Add `plt.tight_layout()` at the end to automatically adjust subplot parameters to fit the figure area better. Please see the example below for a row of two plots sharing axis `y`.\n",
        "```\n",
        "# initialize the figure\n",
        "plt.figure()\n",
        "\n",
        "# collect axis of 1st figure in ax1\n",
        "ax1 = plt.subplot(1, 2, 1)\n",
        "plt.plot(t_range, my_data_left)\n",
        "plt.ylabel('ylabel')\n",
        "\n",
        "# share axis x with 1st figure\n",
        "plt.subplot(1, 2, 2, sharey=ax1)\n",
        "plt.plot(t_range, my_data_right)\n",
        "\n",
        "# automatically adjust subplot parameters to figure\n",
        "plt.tight_layout()\n",
        "```\n"
      ]
    },
    {
      "cell_type": "code",
      "metadata": {
        "execution": {
          "iopub.execute_input": "2021-06-27T06:04:42.469977Z",
          "iopub.status.busy": "2021-06-27T06:04:42.468944Z",
          "iopub.status.idle": "2021-06-27T06:04:42.482110Z",
          "shell.execute_reply": "2021-06-27T06:04:42.481442Z"
        },
        "id": "4jtcHx3hSr1F",
        "outputId": "9acc2541-4c3e-42d9-b6cb-a25c26e8abe9",
        "colab": {
          "base_uri": "https://localhost:8080/",
          "height": 289
        }
      },
      "source": [
        "# Set random number generator\n",
        "np.random.seed(2020)\n",
        "\n",
        "# Initialize step_end, t_range, n, v_n and i\n",
        "t_range = np.arange(0, t_max, dt)\n",
        "step_end = len(t_range)\n",
        "n = 500\n",
        "v_n = el * np.ones([n, step_end])\n",
        "i = i_mean * (1 + 0.1 * (t_max / dt)**(0.5) * (2 * np.random.random([n, step_end]) - 1))\n",
        "\n",
        "# Initialize spikes and spikes_n\n",
        "spikes = {j: [] for j in range(n)}\n",
        "spikes_n = np.zeros([step_end])\n",
        "\n",
        "#################################################\n",
        "## TODO for students: add spikes to LIF neuron ##\n",
        "# Fill out function and remove\n",
        "#raise NotImplementedError(\"Student exercise: add spikes to LIF neuron\")\n",
        "#################################################\n",
        "\n",
        "# Loop over time steps\n",
        "for step, t in enumerate(t_range):\n",
        "\n",
        "  # Skip first iteration\n",
        "  if step==0:\n",
        "    continue\n",
        "\n",
        "  # Compute v_n\n",
        "  v_n[:, step] = v_n[:, step - 1] + (dt / tau) * (el - v_n[:, step - 1] + r*i[:, step])\n",
        "\n",
        "  # Loop over simulations\n",
        "  for j in range(n):\n",
        "\n",
        "    # Check if voltage above threshold\n",
        "    if v_n[j, step] >= vth:\n",
        "\n",
        "      # Reset to reset voltage\n",
        "      v_n[j, step] = vr\n",
        "\n",
        "      # Add this spike time\n",
        "      spikes[j] += [t]\n",
        "\n",
        "      # Add spike count to this step\n",
        "      spikes_n[step] += 1\n",
        "\n",
        "# Collect mean Vm and mean spiking rate\n",
        "v_mean = np.mean(v_n, axis=0)\n",
        "spikes_mean =  spikes_n / n\n",
        "\n",
        "# Initialize the figure\n",
        "plt.figure()\n",
        "\n",
        "# Plot simulations and sample mean\n",
        "ax1 = plt.subplot(3, 1, 1)\n",
        "for j in range(n):\n",
        "  plt.scatter(t_range, v_n[j], color=\"k\", marker=\".\", alpha=0.01)\n",
        "plt.plot(t_range, v_mean, 'C1', alpha=0.8, linewidth=3)\n",
        "plt.ylabel('$V_m$ (V)')\n",
        "\n",
        "# Plot spikes\n",
        "plt.subplot(3, 1, 2, sharex=ax1)\n",
        "# for each neuron j: collect spike times and plot them at height j\n",
        "for j in range(n):\n",
        "  times =  np.array(spikes[j])\n",
        "  plt.scatter(times, j * np.ones_like(times), color=\"C0\", marker=\".\", alpha=0.2)\n",
        "\n",
        "plt.ylabel('neuron')\n",
        "\n",
        "# Plot firing rate\n",
        "plt.subplot(3, 1, 3, sharex=ax1)\n",
        "plt.plot(t_range, spikes_mean)\n",
        "plt.xlabel('time (s)')\n",
        "plt.ylabel('rate (Hz)')\n",
        "\n",
        "plt.tight_layout()"
      ],
      "execution_count": 13,
      "outputs": [
        {
          "output_type": "display_data",
          "data": {
            "image/png": "[encoded data removed]",
            "text/plain": [
              "<Figure size 432x288 with 3 Axes>"
            ]
          },
          "metadata": {
            "tags": []
          }
        }
      ]
    },
    {
      "cell_type": "markdown",
      "metadata": {
        "execution": {
          "iopub.execute_input": "2021-06-27T06:04:42.490718Z",
          "iopub.status.busy": "2021-06-27T06:04:42.489980Z",
          "iopub.status.idle": "2021-06-27T06:04:57.524558Z",
          "shell.execute_reply": "2021-06-27T06:04:57.525221Z"
        },
        "id": "Na2a1RPvSr1G"
      },
      "source": [
        "[*Click for solution*](https://github.com/NeuromatchAcademy/course-content/tree/master//tutorials/W0D2_PythonWorkshop2/solutions/W0D2_Tutorial1_Solution_9aaee1d8.py)\n",
        "\n",
        "*Example output:*\n",
        "\n",
        "<img alt='Solution hint' align='left' width=558 height=414 src=https://raw.githubusercontent.com/NeuromatchAcademy/course-content/master/tutorials/W0D2_PythonWorkshop2/static/W0D2_Tutorial1_Solution_9aaee1d8_0.png>\n",
        "\n"
      ]
    },
    {
      "cell_type": "markdown",
      "metadata": {
        "id": "SVvKRouQSr1H"
      },
      "source": [
        "---\n",
        "# Section 3: Boolean indexes\n"
      ]
    },
    {
      "cell_type": "code",
      "metadata": {
        "cellView": "form",
        "execution": {
          "iopub.execute_input": "2021-06-27T06:04:57.540967Z",
          "iopub.status.busy": "2021-06-27T06:04:57.538632Z",
          "iopub.status.idle": "2021-06-27T06:04:57.618788Z",
          "shell.execute_reply": "2021-06-27T06:04:57.614314Z"
        },
        "id": "XtVDdUINSr1H",
        "outputId": "ecb9b27a-0377-45f4-cc94-7e19b2d5dd13",
        "colab": {
          "base_uri": "https://localhost:8080/",
          "height": 581,
          "referenced_widgets": [
            "e2b9bcc5b40442e79a802d2dbf58acff",
            "4cbff01cbb0246a785f4cdd7332b4539",
            "1ef01cd3ca4043c4b87b3c38bf21a3f7",
            "746f428239414c4caf1db70c651da149",
            "948dbf2a8a2c439a89b72ec6a2822dc2",
            "f928eea5067348dc8883a5ac21d1e17d"
          ]
        }
      },
      "source": [
        "# @title Video 5: Boolean indexes\n",
        "from ipywidgets import widgets\n",
        "\n",
        "out2 = widgets.Output()\n",
        "with out2:\n",
        "  from IPython.display import IFrame\n",
        "  class BiliVideo(IFrame):\n",
        "      def __init__(self, id, page=1, width=400, height=300, **kwargs):\n",
        "          self.id=id\n",
        "          src = 'https://player.bilibili.com/player.html?bvid={0}&page={1}'.format(id, page)\n",
        "          super(BiliVideo, self).__init__(src, width, height, **kwargs)\n",
        "\n",
        "  video = BiliVideo(id=\"BV1W54y1q7eh\", width=854, height=480, fs=1)\n",
        "  print('Video available at https://www.bilibili.com/video/{0}'.format(video.id))\n",
        "  display(video)\n",
        "\n",
        "out1 = widgets.Output()\n",
        "with out1:\n",
        "  from IPython.display import YouTubeVideo\n",
        "  video = YouTubeVideo(id=\"G0C1v848I9Y\", width=854, height=480, fs=1, rel=0)\n",
        "  print('Video available at https://youtube.com/watch?v=' + video.id)\n",
        "  display(video)\n",
        "\n",
        "out = widgets.Tab([out1, out2])\n",
        "out.set_title(0, 'Youtube')\n",
        "out.set_title(1, 'Bilibili')\n",
        "\n",
        "display(out)"
      ],
      "execution_count": 14,
      "outputs": [
        {
          "output_type": "display_data",
          "data": {
            "application/vnd.jupyter.widget-view+json": {
              "model_id": "e2b9bcc5b40442e79a802d2dbf58acff",
              "version_minor": 0,
              "version_major": 2
            },
            "text/plain": [
              "Tab(children=(Output(), Output()), _titles={'0': 'Youtube', '1': 'Bilibili'})"
            ]
          },
          "metadata": {
            "tags": []
          }
        }
      ]
    },
    {
      "cell_type": "markdown",
      "metadata": {
        "id": "aelDwQlgSr1I"
      },
      "source": [
        "Numpy arrays can be indexed by boolean arrays to select a subset of elements (also works with lists of booleans).\n",
        "\n",
        "The boolean array itself can be initiated by a condition, as shown in the example below.\n",
        "```\n",
        "a = np.array([1, 2, 3])\n",
        "b = a>=2\n",
        "print(b)\n",
        "--> [False  True  True]\n",
        "\n",
        "print(a[b])\n",
        "--> [2 3]\n",
        "\n",
        "print(a[a>=2])\n",
        "--> [2 3]\n",
        "```"
      ]
    },
    {
      "cell_type": "code",
      "metadata": {
        "cellView": "form",
        "execution": {
          "iopub.execute_input": "2021-06-27T06:04:57.637362Z",
          "iopub.status.busy": "2021-06-27T06:04:57.635117Z",
          "iopub.status.idle": "2021-06-27T06:04:57.704718Z",
          "shell.execute_reply": "2021-06-27T06:04:57.700662Z"
        },
        "id": "-e4bngMySr1J",
        "outputId": "487e82dc-3a75-4ceb-a6ba-f559d49df1f5",
        "colab": {
          "base_uri": "https://localhost:8080/",
          "height": 581,
          "referenced_widgets": [
            "4d35415d80304148b9a03117b15325f4",
            "8ec7501dd21040f4aec508992f7707ee",
            "0f285dbafeb34466b567fce623e597c5",
            "3c9811e1910e4ac6843757f65d1bea34",
            "d09af858eea34296a1e55816968788e6",
            "9e8d566adb3f410295e8ce50b58b80a5"
          ]
        }
      },
      "source": [
        "# @title Video 6: Nano recap of Boolean indexes\n",
        "from ipywidgets import widgets\n",
        "\n",
        "out2 = widgets.Output()\n",
        "with out2:\n",
        "  from IPython.display import IFrame\n",
        "  class BiliVideo(IFrame):\n",
        "      def __init__(self, id, page=1, width=400, height=300, **kwargs):\n",
        "          self.id=id\n",
        "          src = 'https://player.bilibili.com/player.html?bvid={0}&page={1}'.format(id, page)\n",
        "          super(BiliVideo, self).__init__(src, width, height, **kwargs)\n",
        "\n",
        "  video = BiliVideo(id=\"BV1W54y1q7gi\", width=854, height=480, fs=1)\n",
        "  print('Video available at https://www.bilibili.com/video/{0}'.format(video.id))\n",
        "  display(video)\n",
        "\n",
        "out1 = widgets.Output()\n",
        "with out1:\n",
        "  from IPython.display import YouTubeVideo\n",
        "  video = YouTubeVideo(id=\"dFPgO5wnyLc\", width=854, height=480, fs=1, rel=0)\n",
        "  print('Video available at https://youtube.com/watch?v=' + video.id)\n",
        "  display(video)\n",
        "\n",
        "out = widgets.Tab([out1, out2])\n",
        "out.set_title(0, 'Youtube')\n",
        "out.set_title(1, 'Bilibili')\n",
        "\n",
        "display(out)"
      ],
      "execution_count": 15,
      "outputs": [
        {
          "output_type": "display_data",
          "data": {
            "application/vnd.jupyter.widget-view+json": {
              "model_id": "4d35415d80304148b9a03117b15325f4",
              "version_minor": 0,
              "version_major": 2
            },
            "text/plain": [
              "Tab(children=(Output(), Output()), _titles={'0': 'Youtube', '1': 'Bilibili'})"
            ]
          },
          "metadata": {
            "tags": []
          }
        }
      ]
    },
    {
      "cell_type": "markdown",
      "metadata": {
        "id": "R-hJhdybSr1K"
      },
      "source": [
        "## Coding Exercise 3: Using Boolean indexing\n",
        "\n",
        "We can avoid looping all neurons in each time step by identifying with boolean arrays the indexes of neurons that spiked in the previous step.\n",
        "\n",
        "In the example below, `v_rest` is a boolean numpy array with `True` in each index of `v_n` with value `vr` at time index `step`:\n",
        "\n",
        "    v_rest = (v_n[:,step] == vr)\n",
        "    print(v_n[v_rest,step])\n",
        "    \n",
        "    --> [vr, ..., vr]\n",
        "\n",
        "The function `np.where` returns indexes of boolean arrays with `True` values.\n",
        "\n",
        "You may use the helper function `plot_all` that implements the figure from the previous exercise.\n",
        "\n"
      ]
    },
    {
      "cell_type": "code",
      "metadata": {
        "execution": {
          "iopub.execute_input": "2021-06-27T06:04:57.715797Z",
          "iopub.status.busy": "2021-06-27T06:04:57.715119Z",
          "iopub.status.idle": "2021-06-27T06:04:57.717771Z",
          "shell.execute_reply": "2021-06-27T06:04:57.716378Z"
        },
        "id": "2AG_gVZ5Sr1K",
        "outputId": "46e5d0b9-52f4-4b96-b1c1-53fe0feb94ab",
        "colab": {
          "base_uri": "https://localhost:8080/",
          "height": 171
        }
      },
      "source": [
        "help(plot_all)"
      ],
      "execution_count": 24,
      "outputs": [
        {
          "output_type": "error",
          "ename": "NameError",
          "evalue": "ignored",
          "traceback": [
            "\u001b[0;31m---------------------------------------------------------------------------\u001b[0m",
            "\u001b[0;31mNameError\u001b[0m                                 Traceback (most recent call last)",
            "\u001b[0;32m<ipython-input-24-72119f6b7809>\u001b[0m in \u001b[0;36m<module>\u001b[0;34m()\u001b[0m\n\u001b[0;32m----> 1\u001b[0;31m \u001b[0mhelp\u001b[0m\u001b[0;34m(\u001b[0m\u001b[0mplot_all\u001b[0m\u001b[0;34m)\u001b[0m\u001b[0;34m\u001b[0m\u001b[0;34m\u001b[0m\u001b[0m\n\u001b[0m",
            "\u001b[0;31mNameError\u001b[0m: name 'plot_all' is not defined"
          ]
        }
      ]
    },
    {
      "cell_type": "code",
      "metadata": {
        "execution": {
          "iopub.execute_input": "2021-06-27T06:04:57.726452Z",
          "iopub.status.busy": "2021-06-27T06:04:57.725767Z",
          "iopub.status.idle": "2021-06-27T06:04:57.735896Z",
          "shell.execute_reply": "2021-06-27T06:04:57.735256Z"
        },
        "id": "cSa4OzzuSr1K",
        "outputId": "fc9f1d10-40e3-4e48-abea-50982d4b4b87",
        "colab": {
          "base_uri": "https://localhost:8080/",
          "height": 207
        }
      },
      "source": [
        "# Set random number generator\n",
        "np.random.seed(2020)\n",
        "\n",
        "# Initialize step_end, t_range, n, v_n and i\n",
        "t_range = np.arange(0, t_max, dt)\n",
        "step_end = len(t_range)\n",
        "n = 500\n",
        "v_n = el * np.ones([n, step_end])\n",
        "i = i_mean * (1 + 0.1 * (t_max / dt)**(0.5) * (2 * np.random.random([n, step_end]) - 1))\n",
        "\n",
        "# Initialize spikes and spikes_n\n",
        "spikes = {j: [] for j in range(n)}\n",
        "spikes_n = np.zeros([step_end])\n",
        "\n",
        "#################################################\n",
        "## TODO for students: use Boolean indexing ##\n",
        "# Fill out function and remove\n",
        "#raise NotImplementedError(\"Student exercise: using Boolean indexing\")\n",
        "#################################################\n",
        "\n",
        "# Loop over time steps\n",
        "for step, t in enumerate(t_range):\n",
        "\n",
        "  # Skip first iteration\n",
        "  if step==0:\n",
        "    continue\n",
        "\n",
        "  # Compute v_n\n",
        "  v_n[:, step] = v_n[:, step - 1] + (dt / tau) * (el - v_n[:, step - 1] + r*i[:, step])\n",
        "\n",
        "  # Initialize boolean numpy array `spiked` with v_n > v_thr\n",
        "  spiked = np.array(v_n[:,step] >= vth)\n",
        "  \n",
        "  # Set relevant values of v_n to resting potential using spiked\n",
        "  v_n[spiked,step] = vr\n",
        "  # Collect spike times\n",
        "  for j in np.where(spiked)[0]:\n",
        "    spikes[j] += [t]\n",
        "    spikes_n[step] += 1\n",
        "\n",
        "# Collect mean spiking rate\n",
        "spikes_mean = spikes_n / n\n",
        "\n",
        "# Plot multiple realizations of Vm, spikes and mean spike rate\n",
        "with plt.xkcd():\n",
        "  plot_all(t_range, v_n, spikes=spikes, spikes_mean=spikes_mean)"
      ],
      "execution_count": 27,
      "outputs": [
        {
          "output_type": "error",
          "ename": "NameError",
          "evalue": "ignored",
          "traceback": [
            "\u001b[0;31m---------------------------------------------------------------------------\u001b[0m",
            "\u001b[0;31mNameError\u001b[0m                                 Traceback (most recent call last)",
            "\u001b[0;32m<ipython-input-27-00d481d1c036>\u001b[0m in \u001b[0;36m<module>\u001b[0;34m()\u001b[0m\n\u001b[1;32m     44\u001b[0m \u001b[0;31m# Plot multiple realizations of Vm, spikes and mean spike rate\u001b[0m\u001b[0;34m\u001b[0m\u001b[0;34m\u001b[0m\u001b[0;34m\u001b[0m\u001b[0m\n\u001b[1;32m     45\u001b[0m \u001b[0;32mwith\u001b[0m \u001b[0mplt\u001b[0m\u001b[0;34m.\u001b[0m\u001b[0mxkcd\u001b[0m\u001b[0;34m(\u001b[0m\u001b[0;34m)\u001b[0m\u001b[0;34m:\u001b[0m\u001b[0;34m\u001b[0m\u001b[0;34m\u001b[0m\u001b[0m\n\u001b[0;32m---> 46\u001b[0;31m   \u001b[0mplot_all\u001b[0m\u001b[0;34m(\u001b[0m\u001b[0mt_range\u001b[0m\u001b[0;34m,\u001b[0m \u001b[0mv_n\u001b[0m\u001b[0;34m,\u001b[0m \u001b[0mspikes\u001b[0m\u001b[0;34m=\u001b[0m\u001b[0mspikes\u001b[0m\u001b[0;34m,\u001b[0m \u001b[0mspikes_mean\u001b[0m\u001b[0;34m=\u001b[0m\u001b[0mspikes_mean\u001b[0m\u001b[0;34m)\u001b[0m\u001b[0;34m\u001b[0m\u001b[0;34m\u001b[0m\u001b[0m\n\u001b[0m",
            "\u001b[0;31mNameError\u001b[0m: name 'plot_all' is not defined"
          ]
        }
      ]
    },
    {
      "cell_type": "markdown",
      "metadata": {
        "execution": {
          "iopub.execute_input": "2021-06-27T06:04:57.744236Z",
          "iopub.status.busy": "2021-06-27T06:04:57.743630Z",
          "iopub.status.idle": "2021-06-27T06:05:12.665536Z",
          "shell.execute_reply": "2021-06-27T06:05:12.664962Z"
        },
        "id": "HY97P0_VSr1L"
      },
      "source": [
        "[*Click for solution*](https://github.com/NeuromatchAcademy/course-content/tree/master//tutorials/W0D2_PythonWorkshop2/solutions/W0D2_Tutorial1_Solution_9daa0f41.py)\n",
        "\n",
        "*Example output:*\n",
        "\n",
        "<img alt='Solution hint' align='left' width=560 height=632 src=https://raw.githubusercontent.com/NeuromatchAcademy/course-content/master/tutorials/W0D2_PythonWorkshop2/static/W0D2_Tutorial1_Solution_9daa0f41_0.png>\n",
        "\n"
      ]
    },
    {
      "cell_type": "markdown",
      "metadata": {
        "id": "fT7riQYtSr1L"
      },
      "source": [
        "## Coding Exercise 4: Making a binary raster plot\n",
        "A *binary raster plot* represents spike times as `1`s in a binary grid initialized with `0`s. We start with a numpy array `raster` of zeros with shape `(neurons, time steps)`, and represent a spike from neuron `5` at time step `20` as `raster(5,20)=1`, for example.\n",
        "\n",
        "The *binary raster plot* is much more efficient than the previous method by plotting the numpy array `raster` as an image:\n",
        "```\n",
        "plt.imshow(raster, cmap='Greys', origin='lower', aspect='auto')\n",
        "```\n",
        "\n",
        "**Suggestions**\n",
        "* At each time step:\n",
        "  * Initialize boolean numpy array `spiked` with $V_n(t)\\geq V_{th}$\n",
        "  * Set to `vr` indexes of `v_n` using `spiked`\n",
        "  * Set to `1` indexes of numpy array `raster` using `spiked`"
      ]
    },
    {
      "cell_type": "code",
      "metadata": {
        "execution": {
          "iopub.execute_input": "2021-06-27T06:05:12.679094Z",
          "iopub.status.busy": "2021-06-27T06:05:12.678360Z",
          "iopub.status.idle": "2021-06-27T06:05:12.682344Z",
          "shell.execute_reply": "2021-06-27T06:05:12.681733Z"
        },
        "id": "5Vm4A7WLSr1M",
        "outputId": "f32c7b51-78fd-48ae-eff8-1e6818db8601",
        "colab": {
          "base_uri": "https://localhost:8080/",
          "height": 207
        }
      },
      "source": [
        "#################################################\n",
        "## TODO for students: make a raster ##\n",
        "# Fill out function and remove\n",
        "#################################################\n",
        "\n",
        "# Set random number generator\n",
        "np.random.seed(2020)\n",
        "\n",
        "# Initialize step_end, t_range, n, v_n and i\n",
        "t_range = np.arange(0, t_max, dt)\n",
        "step_end = len(t_range)\n",
        "n = 500\n",
        "v_n = el * np.ones([n, step_end])\n",
        "i = i_mean * (1 + 0.1 * (t_max / dt)**(0.5) * (2 * np.random.random([n, step_end]) - 1))\n",
        "\n",
        "# Initialize binary numpy array for raster plot\n",
        "raster = np.zeros([n,step_end])\n",
        "\n",
        "# Loop over time steps\n",
        "for step, t in enumerate(t_range):\n",
        "\n",
        "  # Skip first iteration\n",
        "  if step==0:\n",
        "    continue\n",
        "\n",
        "  # Compute v_n\n",
        "  v_n[:, step] = v_n[:, step - 1] + (dt / tau) * (el - v_n[:, step - 1] + r*i[:, step])\n",
        "\n",
        "  # Initialize boolean numpy array `spiked` with v_n > v_thr\n",
        "  spiked = (v_n[:,step] >= vth)\n",
        "\n",
        "  # Set relevant values of v_n to v_reset using spiked\n",
        "  v_n[spiked,step] = vr\n",
        "\n",
        "  # Set relevant elements in raster to 1 using spiked\n",
        "  raster[spiked,step] = 1.\n",
        "\n",
        "# Plot multiple realizations of Vm, spikes and mean spike rate\n",
        "plot_all(t_range, v_n, raster)"
      ],
      "execution_count": 28,
      "outputs": [
        {
          "output_type": "error",
          "ename": "NameError",
          "evalue": "ignored",
          "traceback": [
            "\u001b[0;31m---------------------------------------------------------------------------\u001b[0m",
            "\u001b[0;31mNameError\u001b[0m                                 Traceback (most recent call last)",
            "\u001b[0;32m<ipython-input-28-63b0a4c7f2cf>\u001b[0m in \u001b[0;36m<module>\u001b[0;34m()\u001b[0m\n\u001b[1;32m     37\u001b[0m \u001b[0;34m\u001b[0m\u001b[0m\n\u001b[1;32m     38\u001b[0m \u001b[0;31m# Plot multiple realizations of Vm, spikes and mean spike rate\u001b[0m\u001b[0;34m\u001b[0m\u001b[0;34m\u001b[0m\u001b[0;34m\u001b[0m\u001b[0m\n\u001b[0;32m---> 39\u001b[0;31m \u001b[0mplot_all\u001b[0m\u001b[0;34m(\u001b[0m\u001b[0mt_range\u001b[0m\u001b[0;34m,\u001b[0m \u001b[0mv_n\u001b[0m\u001b[0;34m,\u001b[0m \u001b[0mraster\u001b[0m\u001b[0;34m)\u001b[0m\u001b[0;34m\u001b[0m\u001b[0;34m\u001b[0m\u001b[0m\n\u001b[0m",
            "\u001b[0;31mNameError\u001b[0m: name 'plot_all' is not defined"
          ]
        }
      ]
    },
    {
      "cell_type": "markdown",
      "metadata": {
        "execution": {
          "iopub.execute_input": "2021-06-27T06:05:12.690265Z",
          "iopub.status.busy": "2021-06-27T06:05:12.689586Z",
          "iopub.status.idle": "2021-06-27T06:05:20.401873Z",
          "shell.execute_reply": "2021-06-27T06:05:20.402427Z"
        },
        "id": "jUjsxKjBSr1M"
      },
      "source": [
        "[*Click for solution*](https://github.com/NeuromatchAcademy/course-content/tree/master//tutorials/W0D2_PythonWorkshop2/solutions/W0D2_Tutorial1_Solution_3973c4c4.py)\n",
        "\n",
        "*Example output:*\n",
        "\n",
        "<img alt='Solution hint' align='left' width=560 height=632 src=https://raw.githubusercontent.com/NeuromatchAcademy/course-content/master/tutorials/W0D2_PythonWorkshop2/static/W0D2_Tutorial1_Solution_3973c4c4_0.png>\n",
        "\n"
      ]
    },
    {
      "cell_type": "markdown",
      "metadata": {
        "id": "GAtgg3xySr1N"
      },
      "source": [
        "---\n",
        "# Section 4: Refractory period\n",
        "\n"
      ]
    },
    {
      "cell_type": "code",
      "metadata": {
        "cellView": "form",
        "execution": {
          "iopub.execute_input": "2021-06-27T06:05:20.418097Z",
          "iopub.status.busy": "2021-06-27T06:05:20.416265Z",
          "iopub.status.idle": "2021-06-27T06:05:20.488477Z",
          "shell.execute_reply": "2021-06-27T06:05:20.484108Z"
        },
        "id": "kbh8MBMASr1N",
        "outputId": "490410ae-0993-4f68-ecc1-c289c1aeaeb0",
        "colab": {
          "base_uri": "https://localhost:8080/",
          "height": 581,
          "referenced_widgets": [
            "aa39f36f274a4f0c9dc0501d63be4533",
            "887bf1ca12ac4ff28252194de725998a",
            "37e8ae303204487fa43519b27935a98e",
            "cad9949a06ae4834b73cb3788efb8bcf",
            "004efe6ee3b24f22bca3579e1364b997",
            "2dfc0a4d0b284858962dbe612cf467cc"
          ]
        }
      },
      "source": [
        "# @title Video 7: Refractory period\n",
        "from ipywidgets import widgets\n",
        "\n",
        "out2 = widgets.Output()\n",
        "with out2:\n",
        "  from IPython.display import IFrame\n",
        "  class BiliVideo(IFrame):\n",
        "      def __init__(self, id, page=1, width=400, height=300, **kwargs):\n",
        "          self.id=id\n",
        "          src = 'https://player.bilibili.com/player.html?bvid={0}&page={1}'.format(id, page)\n",
        "          super(BiliVideo, self).__init__(src, width, height, **kwargs)\n",
        "\n",
        "  video = BiliVideo(id=\"BV1MT4y1E79j\", width=854, height=480, fs=1)\n",
        "  print('Video available at https://www.bilibili.com/video/{0}'.format(video.id))\n",
        "  display(video)\n",
        "\n",
        "out1 = widgets.Output()\n",
        "with out1:\n",
        "  from IPython.display import YouTubeVideo\n",
        "  video = YouTubeVideo(id=\"KVNdbRY5-nY\", width=854, height=480, fs=1, rel=0)\n",
        "  print('Video available at https://youtube.com/watch?v=' + video.id)\n",
        "  display(video)\n",
        "\n",
        "out = widgets.Tab([out1, out2])\n",
        "out.set_title(0, 'Youtube')\n",
        "out.set_title(1, 'Bilibili')\n",
        "\n",
        "display(out)"
      ],
      "execution_count": 29,
      "outputs": [
        {
          "output_type": "display_data",
          "data": {
            "application/vnd.jupyter.widget-view+json": {
              "model_id": "aa39f36f274a4f0c9dc0501d63be4533",
              "version_minor": 0,
              "version_major": 2
            },
            "text/plain": [
              "Tab(children=(Output(), Output()), _titles={'0': 'Youtube', '1': 'Bilibili'})"
            ]
          },
          "metadata": {
            "tags": []
          }
        }
      ]
    },
    {
      "cell_type": "markdown",
      "metadata": {
        "id": "axgLQXRsSr1O"
      },
      "source": [
        "The absolute refractory period is a time interval in the order of a few milliseconds during which synaptic input will not lead to a 2nd spike, no matter how strong. This effect is due to the biophysics of the neuron membrane channels, and you can read more about absolute and relative refractory period [here](https://content.byui.edu/file/a236934c-3c60-4fe9-90aa-d343b3e3a640/1/module5/readings/refractory_periods.html) and [here](https://en.wikipedia.org/wiki/Refractory_period_(physiology)).\n",
        "\n",
        "![refractory period plot](https://github.com/mpbrigham/colaboratory-figures/raw/master/nma/python-for-nma/refractory_period.png)"
      ]
    },
    {
      "cell_type": "code",
      "metadata": {
        "cellView": "form",
        "execution": {
          "iopub.execute_input": "2021-06-27T06:05:20.505281Z",
          "iopub.status.busy": "2021-06-27T06:05:20.499543Z",
          "iopub.status.idle": "2021-06-27T06:05:20.574300Z",
          "shell.execute_reply": "2021-06-27T06:05:20.571414Z"
        },
        "id": "Zne7hBmESr1O",
        "outputId": "c4138ca0-58a6-4207-bf51-0710388f6eda",
        "colab": {
          "base_uri": "https://localhost:8080/",
          "height": 581,
          "referenced_widgets": [
            "b2cf4c428219401298de80e86210b8f9",
            "6459eda2fb8a403f899d5b02207a0cc8",
            "d8419ccfc6d04b1a94f02e0c7612a492",
            "69509e156949424eb98a5231c8c7f97f",
            "5d4d10202c9b404aa6e554dfc71e27c9",
            "d1d10647f0e948789e975756a6e3ed48"
          ]
        }
      },
      "source": [
        "# @title Video 8: Nano recap of refractory period\n",
        "from ipywidgets import widgets\n",
        "\n",
        "out2 = widgets.Output()\n",
        "with out2:\n",
        "  from IPython.display import IFrame\n",
        "  class BiliVideo(IFrame):\n",
        "      def __init__(self, id, page=1, width=400, height=300, **kwargs):\n",
        "          self.id=id\n",
        "          src = 'https://player.bilibili.com/player.html?bvid={0}&page={1}'.format(id, page)\n",
        "          super(BiliVideo, self).__init__(src, width, height, **kwargs)\n",
        "\n",
        "  video = BiliVideo(id=\"BV1pA411e7je\", width=854, height=480, fs=1)\n",
        "  print('Video available at https://www.bilibili.com/video/{0}'.format(video.id))\n",
        "  display(video)\n",
        "\n",
        "out1 = widgets.Output()\n",
        "with out1:\n",
        "  from IPython.display import YouTubeVideo\n",
        "  video = YouTubeVideo(id=\"DOoftC0JU2k\", width=854, height=480, fs=1, rel=0)\n",
        "  print('Video available at https://youtube.com/watch?v=' + video.id)\n",
        "  display(video)\n",
        "\n",
        "out = widgets.Tab([out1, out2])\n",
        "out.set_title(0, 'Youtube')\n",
        "out.set_title(1, 'Bilibili')\n",
        "\n",
        "display(out)"
      ],
      "execution_count": 30,
      "outputs": [
        {
          "output_type": "display_data",
          "data": {
            "application/vnd.jupyter.widget-view+json": {
              "model_id": "b2cf4c428219401298de80e86210b8f9",
              "version_minor": 0,
              "version_major": 2
            },
            "text/plain": [
              "Tab(children=(Output(), Output()), _titles={'0': 'Youtube', '1': 'Bilibili'})"
            ]
          },
          "metadata": {
            "tags": []
          }
        }
      ]
    },
    {
      "cell_type": "markdown",
      "metadata": {
        "id": "y8UbREWQSr1P"
      },
      "source": [
        "## Coding Exercise 5: Investigating refactory periods\n",
        "Investigate the effect of (absolute) refractory period $t_{ref}$ on the evolution of output rate $\\lambda(t)$. Add refractory period $t_{ref}=10$ ms after each spike, during which $V(t)$ is clamped to $V_{reset}$.\n",
        "\n",
        "\n"
      ]
    },
    {
      "cell_type": "code",
      "metadata": {
        "id": "uLsy-5DoSnDo"
      },
      "source": [
        ""
      ],
      "execution_count": null,
      "outputs": []
    },
    {
      "cell_type": "code",
      "metadata": {
        "execution": {
          "iopub.execute_input": "2021-06-27T06:05:20.586498Z",
          "iopub.status.busy": "2021-06-27T06:05:20.585656Z",
          "iopub.status.idle": "2021-06-27T06:05:20.593602Z",
          "shell.execute_reply": "2021-06-27T06:05:20.592949Z"
        },
        "id": "3mtWVi6YSr1Q",
        "outputId": "cb5a527d-9243-4adb-8865-c681133195ee",
        "colab": {
          "base_uri": "https://localhost:8080/",
          "height": 207
        }
      },
      "source": [
        "#################################################\n",
        "## TODO for students: add refactory period ##\n",
        "# Fill out function and remove\n",
        "#################################################\n",
        "\n",
        "# Set random number generator\n",
        "np.random.seed(2020)\n",
        "\n",
        "# Initialize step_end, t_range, n, v_n and i\n",
        "t_range = np.arange(0, t_max, dt)\n",
        "step_end = len(t_range)\n",
        "n = 500\n",
        "v_n = el * np.ones([n, step_end])\n",
        "i = i_mean * (1 + 0.1 * (t_max / dt)**(0.5) * (2 * np.random.random([n, step_end]) - 1))\n",
        "\n",
        "# Initialize binary numpy array for raster plot\n",
        "raster = np.zeros([n,step_end])\n",
        "\n",
        "# Initialize t_ref and last_spike\n",
        "t_ref = 0.01\n",
        "last_spike = -t_ref * np.ones([n])\n",
        "\n",
        "# Loop over time steps\n",
        "for step, t in enumerate(t_range):\n",
        "\n",
        "  # Skip first iteration\n",
        "  if step==0:\n",
        "    continue\n",
        "\n",
        "  # Compute v_n\n",
        "  v_n[:, step] = v_n[:, step - 1] + (dt / tau) * (el - v_n[:, step| - 1] + r*i[:, step])\n",
        "\n",
        "  # Initialize boolean numpy array `spiked` with v_n > v_thr\n",
        "  spiked = (v_n[:,step] >= vth)\n",
        "\n",
        "  # Set relevant values of v_n to v_reset using spiked\n",
        "  v_n[spiked,step] = vr\n",
        "\n",
        "  # Set relevant elements in raster to 1 using spiked\n",
        "  raster[spiked,step] = 1.\n",
        "\n",
        "  # Initialize boolean numpy array clamped using last_spike, t and t_ref\n",
        "  clamped = (last_spike + t_ref > t) \n",
        "\n",
        "  # Reset clamped neurons to vr using clamped\n",
        "  v_n[clamped,step] = vr\n",
        "\n",
        "  # Update numpy array last_spike with time t for spiking neurons\n",
        "  last_spike[spiked] = t\n",
        "\n",
        "# Plot multiple realizations of Vm, spikes and mean spike rate\n",
        "plot_all(t_range, v_n, raster)"
      ],
      "execution_count": 3,
      "outputs": [
        {
          "output_type": "error",
          "ename": "NameError",
          "evalue": "ignored",
          "traceback": [
            "\u001b[0;31m---------------------------------------------------------------------------\u001b[0m",
            "\u001b[0;31mNameError\u001b[0m                                 Traceback (most recent call last)",
            "\u001b[0;32m<ipython-input-3-e9d5ea548e05>\u001b[0m in \u001b[0;36m<module>\u001b[0;34m()\u001b[0m\n\u001b[1;32m     50\u001b[0m \u001b[0;34m\u001b[0m\u001b[0m\n\u001b[1;32m     51\u001b[0m \u001b[0;31m# Plot multiple realizations of Vm, spikes and mean spike rate\u001b[0m\u001b[0;34m\u001b[0m\u001b[0;34m\u001b[0m\u001b[0;34m\u001b[0m\u001b[0m\n\u001b[0;32m---> 52\u001b[0;31m \u001b[0mplot_all\u001b[0m\u001b[0;34m(\u001b[0m\u001b[0mt_range\u001b[0m\u001b[0;34m,\u001b[0m \u001b[0mv_n\u001b[0m\u001b[0;34m,\u001b[0m \u001b[0mraster\u001b[0m\u001b[0;34m)\u001b[0m\u001b[0;34m\u001b[0m\u001b[0;34m\u001b[0m\u001b[0m\n\u001b[0m",
            "\u001b[0;31mNameError\u001b[0m: name 'plot_all' is not defined"
          ]
        }
      ]
    },
    {
      "cell_type": "markdown",
      "metadata": {
        "execution": {
          "iopub.execute_input": "2021-06-27T06:05:20.602393Z",
          "iopub.status.busy": "2021-06-27T06:05:20.601659Z",
          "iopub.status.idle": "2021-06-27T06:05:28.341948Z",
          "shell.execute_reply": "2021-06-27T06:05:28.341300Z"
        },
        "id": "dJWnGRXeSr1R"
      },
      "source": [
        "[*Click for solution*](https://github.com/NeuromatchAcademy/course-content/tree/master//tutorials/W0D2_PythonWorkshop2/solutions/W0D2_Tutorial1_Solution_81ef8269.py)\n",
        "\n",
        "*Example output:*\n",
        "\n",
        "<img alt='Solution hint' align='left' width=560 height=632 src=https://raw.githubusercontent.com/NeuromatchAcademy/course-content/master/tutorials/W0D2_PythonWorkshop2/static/W0D2_Tutorial1_Solution_81ef8269_0.png>\n",
        "\n"
      ]
    },
    {
      "cell_type": "markdown",
      "metadata": {
        "id": "2g4yuuVsSr1S"
      },
      "source": [
        "## Interactive Demo 1: Random refractory period\n",
        "In the following interactive demo, we will investigate the effect of random refractory periods. We will use random refactory periods $t_{ref}$ with \n",
        "$t_{ref} = \\mu + \\sigma\\,\\mathcal{N}$, where $\\mathcal{N}$ is the [normal distribution](https://en.wikipedia.org/wiki/Normal_distribution), $\\mu=0.01$ and $\\sigma=0.007$.\n",
        "\n",
        "Refractory period samples `t_ref` of size `n` is initialized with `np.random.normal`. We clip negative values to `0` with boolean indexes. (Why?) You can double click the cell to see the hidden code.\n",
        "\n",
        "You can play with the parameters mu and sigma and visualize the resulting simulation. \n",
        "What is the effect of different $\\sigma$ values?\n"
      ]
    },
    {
      "cell_type": "code",
      "metadata": {
        "cellView": "form",
        "execution": {
          "iopub.execute_input": "2021-06-27T06:05:28.383390Z",
          "iopub.status.busy": "2021-06-27T06:05:28.355120Z",
          "iopub.status.idle": "2021-06-27T06:05:36.288825Z",
          "shell.execute_reply": "2021-06-27T06:05:36.288249Z"
        },
        "id": "yDSF0nQdSr1T",
        "outputId": "ae44e832-160a-4589-d8ed-5071ae5106a4",
        "colab": {
          "base_uri": "https://localhost:8080/",
          "height": 207
        }
      },
      "source": [
        "# @markdown Execute this cell to enable the demo\n",
        "\n",
        "def random_ref_period(mu, sigma):\n",
        "  # set random number generator\n",
        "  np.random.seed(2020)\n",
        "\n",
        "  # initialize step_end, t_range, n, v_n, syn and raster\n",
        "  t_range = np.arange(0, t_max, dt)\n",
        "  step_end = len(t_range)\n",
        "  n = 500\n",
        "  v_n = el * np.ones([n,step_end])\n",
        "  syn = i_mean * (1 + 0.1*(t_max/dt)**(0.5)*(2*np.random.random([n,step_end])-1))\n",
        "  raster = np.zeros([n,step_end])\n",
        "\n",
        "  # initialize t_ref and last_spike\n",
        "  t_ref = mu + sigma*np.random.normal(size=n)\n",
        "  t_ref[t_ref<0] = 0\n",
        "  last_spike = -t_ref * np.ones([n])\n",
        "\n",
        "  # loop time steps\n",
        "  for step, t in enumerate(t_range):\n",
        "    if step==0:\n",
        "      continue\n",
        "\n",
        "    v_n[:,step] = v_n[:,step-1] + dt/tau * (el - v_n[:,step-1] + r*syn[:,step])\n",
        "\n",
        "    # boolean array spiked indexes neurons with v>=vth\n",
        "    spiked = (v_n[:,step] >= vth)\n",
        "    v_n[spiked,step] = vr\n",
        "    raster[spiked,step] = 1.\n",
        "\n",
        "    # boolean array clamped indexes refractory neurons\n",
        "    clamped = (last_spike + t_ref > t)\n",
        "    v_n[clamped,step] = vr\n",
        "    last_spike[spiked] = t\n",
        "\n",
        "  # plot multiple realizations of Vm, spikes and mean spike rate\n",
        "  plot_all(t_range, v_n, raster)\n",
        "\n",
        "  # plot histogram of t_ref\n",
        "  plt.figure(figsize=(8,4))\n",
        "  plt.hist(t_ref, bins=32, histtype='stepfilled', linewidth=0, color='C1')\n",
        "  plt.xlabel(r'$t_{ref}$ (s)')\n",
        "  plt.ylabel('count')\n",
        "  plt.tight_layout()\n",
        "\n",
        "_ = widgets.interact(random_ref_period, mu = (0.01, 0.05, 0.01), \\\n",
        "                              sigma = (0.001, 0.02, 0.001))"
      ],
      "execution_count": 5,
      "outputs": [
        {
          "output_type": "error",
          "ename": "NameError",
          "evalue": "ignored",
          "traceback": [
            "\u001b[0;31m---------------------------------------------------------------------------\u001b[0m",
            "\u001b[0;31mNameError\u001b[0m                                 Traceback (most recent call last)",
            "\u001b[0;32m<ipython-input-5-48e5113c2abc>\u001b[0m in \u001b[0;36m<module>\u001b[0;34m()\u001b[0m\n\u001b[1;32m     45\u001b[0m   \u001b[0mplt\u001b[0m\u001b[0;34m.\u001b[0m\u001b[0mtight_layout\u001b[0m\u001b[0;34m(\u001b[0m\u001b[0;34m)\u001b[0m\u001b[0;34m\u001b[0m\u001b[0;34m\u001b[0m\u001b[0m\n\u001b[1;32m     46\u001b[0m \u001b[0;34m\u001b[0m\u001b[0m\n\u001b[0;32m---> 47\u001b[0;31m \u001b[0m_\u001b[0m \u001b[0;34m=\u001b[0m \u001b[0mwidgets\u001b[0m\u001b[0;34m.\u001b[0m\u001b[0minteract\u001b[0m\u001b[0;34m(\u001b[0m\u001b[0mrandom_ref_period\u001b[0m\u001b[0;34m,\u001b[0m \u001b[0mmu\u001b[0m \u001b[0;34m=\u001b[0m \u001b[0;34m(\u001b[0m\u001b[0;36m0.01\u001b[0m\u001b[0;34m,\u001b[0m \u001b[0;36m0.05\u001b[0m\u001b[0;34m,\u001b[0m \u001b[0;36m0.01\u001b[0m\u001b[0;34m)\u001b[0m\u001b[0;34m,\u001b[0m                               \u001b[0msigma\u001b[0m \u001b[0;34m=\u001b[0m \u001b[0;34m(\u001b[0m\u001b[0;36m0.001\u001b[0m\u001b[0;34m,\u001b[0m \u001b[0;36m0.02\u001b[0m\u001b[0;34m,\u001b[0m \u001b[0;36m0.001\u001b[0m\u001b[0;34m)\u001b[0m\u001b[0;34m)\u001b[0m\u001b[0;34m\u001b[0m\u001b[0;34m\u001b[0m\u001b[0m\n\u001b[0m",
            "\u001b[0;31mNameError\u001b[0m: name 'widgets' is not defined"
          ]
        }
      ]
    },
    {
      "cell_type": "markdown",
      "metadata": {
        "id": "Gyv9mCDpSr1U"
      },
      "source": [
        "---\n",
        "# Section 5: Using functions\n",
        "Running key parts of your code inside functions improves your coding narrative by making it clearer and more flexible to future changes."
      ]
    },
    {
      "cell_type": "code",
      "metadata": {
        "cellView": "form",
        "execution": {
          "iopub.execute_input": "2021-06-27T06:05:36.317387Z",
          "iopub.status.busy": "2021-06-27T06:05:36.315975Z",
          "iopub.status.idle": "2021-06-27T06:05:36.385705Z",
          "shell.execute_reply": "2021-06-27T06:05:36.380482Z"
        },
        "id": "elwAz4laSr1U",
        "outputId": "235a2296-791d-4140-d65f-95b35b396f6a",
        "colab": {
          "base_uri": "https://localhost:8080/",
          "height": 581,
          "referenced_widgets": [
            "0b266a74709e43b9b310544efb77cb83",
            "60964bd92b5c4a91bb16e1a70fab4a65",
            "138a1e6a3b014186aa4b6415d19c79fa",
            "0ba349df321b49f892c0e2553635e649",
            "883ea41727ed42018c090139228612d8",
            "0f3fd083357a4d89a0835fffdfb5ead2"
          ]
        }
      },
      "source": [
        "# @title Video 9: Functions\n",
        "from ipywidgets import widgets\n",
        "\n",
        "out2 = widgets.Output()\n",
        "with out2:\n",
        "  from IPython.display import IFrame\n",
        "  class BiliVideo(IFrame):\n",
        "      def __init__(self, id, page=1, width=400, height=300, **kwargs):\n",
        "          self.id=id\n",
        "          src = 'https://player.bilibili.com/player.html?bvid={0}&page={1}'.format(id, page)\n",
        "          super(BiliVideo, self).__init__(src, width, height, **kwargs)\n",
        "\n",
        "  video = BiliVideo(id=\"BV1sa4y1a7pq\", width=854, height=480, fs=1)\n",
        "  print('Video available at https://www.bilibili.com/video/{0}'.format(video.id))\n",
        "  display(video)\n",
        "\n",
        "out1 = widgets.Output()\n",
        "with out1:\n",
        "  from IPython.display import YouTubeVideo\n",
        "  video = YouTubeVideo(id=\"mkf8riqCjS4\", width=854, height=480, fs=1, rel=0)\n",
        "  print('Video available at https://youtube.com/watch?v=' + video.id)\n",
        "  display(video)\n",
        "\n",
        "out = widgets.Tab([out1, out2])\n",
        "out.set_title(0, 'Youtube')\n",
        "out.set_title(1, 'Bilibili')\n",
        "\n",
        "display(out)"
      ],
      "execution_count": 6,
      "outputs": [
        {
          "output_type": "display_data",
          "data": {
            "application/vnd.jupyter.widget-view+json": {
              "model_id": "0b266a74709e43b9b310544efb77cb83",
              "version_minor": 0,
              "version_major": 2
            },
            "text/plain": [
              "Tab(children=(Output(), Output()), _titles={'0': 'Youtube', '1': 'Bilibili'})"
            ]
          },
          "metadata": {
            "tags": []
          }
        }
      ]
    },
    {
      "cell_type": "code",
      "metadata": {
        "cellView": "form",
        "execution": {
          "iopub.execute_input": "2021-06-27T06:05:36.404469Z",
          "iopub.status.busy": "2021-06-27T06:05:36.402480Z",
          "iopub.status.idle": "2021-06-27T06:05:36.473519Z",
          "shell.execute_reply": "2021-06-27T06:05:36.472508Z"
        },
        "id": "nKb9incwSr1V",
        "outputId": "2dc80c71-cab8-4253-f4b4-0db699a60389",
        "colab": {
          "base_uri": "https://localhost:8080/",
          "height": 581,
          "referenced_widgets": [
            "54da9af4c67d44549346cc3e021d5dc2",
            "3b1be247ba594713b1d5d29f5267bebe",
            "2464db1c4aca45a5a9f1d860ef6d0c41",
            "4a6d5e6b43ca47d39e4e986fe2f36694",
            "791769b8fa4643d4b7ae5f04eddb47b0",
            "d677c037ca6347b980db24787dc1436b"
          ]
        }
      },
      "source": [
        "# @title Video 10: Nano recap of functions\n",
        "from ipywidgets import widgets\n",
        "\n",
        "out2 = widgets.Output()\n",
        "with out2:\n",
        "  from IPython.display import IFrame\n",
        "  class BiliVideo(IFrame):\n",
        "      def __init__(self, id, page=1, width=400, height=300, **kwargs):\n",
        "          self.id=id\n",
        "          src = 'https://player.bilibili.com/player.html?bvid={0}&page={1}'.format(id, page)\n",
        "          super(BiliVideo, self).__init__(src, width, height, **kwargs)\n",
        "\n",
        "  video = BiliVideo(id=\"BV1pz411v74H\", width=854, height=480, fs=1)\n",
        "  print('Video available at https://www.bilibili.com/video/{0}'.format(video.id))\n",
        "  display(video)\n",
        "\n",
        "out1 = widgets.Output()\n",
        "with out1:\n",
        "  from IPython.display import YouTubeVideo\n",
        "  video = YouTubeVideo(id=\"0An_NnVWY_Q\", width=854, height=480, fs=1, rel=0)\n",
        "  print('Video available at https://youtube.com/watch?v=' + video.id)\n",
        "  display(video)\n",
        "\n",
        "out = widgets.Tab([out1, out2])\n",
        "out.set_title(0, 'Youtube')\n",
        "out.set_title(1, 'Bilibili')\n",
        "\n",
        "display(out)"
      ],
      "execution_count": 7,
      "outputs": [
        {
          "output_type": "display_data",
          "data": {
            "application/vnd.jupyter.widget-view+json": {
              "model_id": "54da9af4c67d44549346cc3e021d5dc2",
              "version_minor": 0,
              "version_major": 2
            },
            "text/plain": [
              "Tab(children=(Output(), Output()), _titles={'0': 'Youtube', '1': 'Bilibili'})"
            ]
          },
          "metadata": {
            "tags": []
          }
        }
      ]
    },
    {
      "cell_type": "markdown",
      "metadata": {
        "id": "V10EYvb0Sr1V"
      },
      "source": [
        "## Coding Exercise 6: Rewriting code with functions\n",
        "We will now re-organize parts of the code from the previous exercise with functions. You need to complete the function `spike_clamp()` to update $V(t)$ and deal with spiking and refractoriness"
      ]
    },
    {
      "cell_type": "code",
      "metadata": {
        "execution": {
          "iopub.execute_input": "2021-06-27T06:05:36.491680Z",
          "iopub.status.busy": "2021-06-27T06:05:36.491053Z",
          "iopub.status.idle": "2021-06-27T06:05:36.504491Z",
          "shell.execute_reply": "2021-06-27T06:05:36.503674Z"
        },
        "id": "9zDDwvf2Sr1W",
        "outputId": "dcc1962a-9b99-4177-8e87-2407c792d07f",
        "colab": {
          "base_uri": "https://localhost:8080/",
          "height": 207
        }
      },
      "source": [
        "def ode_step(v, i, dt):\n",
        "  \"\"\"\n",
        "  Evolves membrane potential by one step of discrete time integration\n",
        "\n",
        "  Args:\n",
        "    v (numpy array of floats)\n",
        "      membrane potential at previous time step of shape (neurons)\n",
        "\n",
        "    v (numpy array of floats)\n",
        "      synaptic input at current time step of shape (neurons)\n",
        "\n",
        "    dt (float)\n",
        "      time step increment\n",
        "\n",
        "  Returns:\n",
        "    v (numpy array of floats)\n",
        "      membrane potential at current time step of shape (neurons)\n",
        "  \"\"\"\n",
        "  v = v + dt/tau * (el - v + r*i)\n",
        "\n",
        "  return v\n",
        "\n",
        "def spike_clamp(v, delta_spike):\n",
        "  \"\"\"\n",
        "  Resets membrane potential of neurons if v>= vth\n",
        "  and clamps to vr if interval of time since last spike < t_ref\n",
        "\n",
        "  Args:\n",
        "    v (numpy array of floats)\n",
        "      membrane potential of shape (neurons)\n",
        "\n",
        "    delta_spike (numpy array of floats)\n",
        "      interval of time since last spike of shape (neurons)\n",
        "\n",
        "  Returns:\n",
        "    v (numpy array of floats)\n",
        "      membrane potential of shape (neurons)\n",
        "    spiked (numpy array of floats)\n",
        "      boolean array of neurons that spiked  of shape (neurons)\n",
        "  \"\"\"\n",
        "\n",
        "  ####################################################\n",
        "  ## TODO for students: complete spike_clamp\n",
        "  # Fill out function and remove\n",
        "    ####################################################\n",
        "  # Boolean array spiked indexes neurons with v>=vth\n",
        "  spiked = (v  >= vth)\n",
        "  v[spiked] = vr\n",
        "\n",
        "  # Boolean array clamped indexes refractory neurons\n",
        "  clamped =(last_spike + t_ref > t) \n",
        "\n",
        "  v[clamped] = vr\n",
        "\n",
        "  return v, spiked\n",
        "\n",
        "\n",
        "# Set random number generator\n",
        "np.random.seed(2020)\n",
        "\n",
        "# Initialize step_end, t_range, n, v_n and i\n",
        "t_range = np.arange(0, t_max, dt)\n",
        "step_end = len(t_range)\n",
        "n = 500\n",
        "v_n = el * np.ones([n, step_end])\n",
        "i = i_mean * (1 + 0.1 * (t_max / dt)**(0.5) * (2 * np.random.random([n, step_end]) - 1))\n",
        "\n",
        "# Initialize binary numpy array for raster plot\n",
        "raster = np.zeros([n,step_end])\n",
        "\n",
        "# Initialize t_ref and last_spike\n",
        "mu = 0.01\n",
        "sigma = 0.007\n",
        "t_ref = mu + sigma*np.random.normal(size=n)\n",
        "t_ref[t_ref<0] = 0\n",
        "last_spike = -t_ref * np.ones([n])\n",
        "\n",
        "# Loop over time steps\n",
        "for step, t in enumerate(t_range):\n",
        "\n",
        "  # Skip first iteration\n",
        "  if step==0:\n",
        "    continue\n",
        "\n",
        "  # Compute v_n\n",
        "  v_n[:,step] = ode_step(v_n[:,step-1], i[:,step], dt)\n",
        "\n",
        "  # Reset membrane potential and clamp\n",
        "  v_n[:,step], spiked = spike_clamp(v_n[:,step], t - last_spike)\n",
        "\n",
        "  # Update raster and last_spike\n",
        "  raster[spiked,step] = 1.\n",
        "  last_spike[spiked] = t\n",
        "\n",
        "# Plot multiple realizations of Vm, spikes and mean spike rate\n",
        "plot_all(t_range, v_n, raster)"
      ],
      "execution_count": 8,
      "outputs": [
        {
          "output_type": "error",
          "ename": "NameError",
          "evalue": "ignored",
          "traceback": [
            "\u001b[0;31m---------------------------------------------------------------------------\u001b[0m",
            "\u001b[0;31mNameError\u001b[0m                                 Traceback (most recent call last)",
            "\u001b[0;32m<ipython-input-8-bd54a543f106>\u001b[0m in \u001b[0;36m<module>\u001b[0;34m()\u001b[0m\n\u001b[1;32m     94\u001b[0m \u001b[0;34m\u001b[0m\u001b[0m\n\u001b[1;32m     95\u001b[0m \u001b[0;31m# Plot multiple realizations of Vm, spikes and mean spike rate\u001b[0m\u001b[0;34m\u001b[0m\u001b[0;34m\u001b[0m\u001b[0;34m\u001b[0m\u001b[0m\n\u001b[0;32m---> 96\u001b[0;31m \u001b[0mplot_all\u001b[0m\u001b[0;34m(\u001b[0m\u001b[0mt_range\u001b[0m\u001b[0;34m,\u001b[0m \u001b[0mv_n\u001b[0m\u001b[0;34m,\u001b[0m \u001b[0mraster\u001b[0m\u001b[0;34m)\u001b[0m\u001b[0;34m\u001b[0m\u001b[0;34m\u001b[0m\u001b[0m\n\u001b[0m",
            "\u001b[0;31mNameError\u001b[0m: name 'plot_all' is not defined"
          ]
        }
      ]
    },
    {
      "cell_type": "code",
      "metadata": {
        "execution": {
          "iopub.execute_input": "2021-06-27T06:05:36.512739Z",
          "iopub.status.busy": "2021-06-27T06:05:36.512043Z",
          "iopub.status.idle": "2021-06-27T06:05:44.260119Z",
          "shell.execute_reply": "2021-06-27T06:05:44.260678Z"
        },
        "id": "pj4BmAJxSr1W"
      },
      "source": [
        "def ode_step(v, i, dt):\n",
        "  \"\"\"\n",
        "  Evolves membrane potential by one step of discrete time integration\n",
        "\n",
        "  Args:\n",
        "    v (numpy array of floats)\n",
        "      membrane potential at previous time step of shape (neurons)\n",
        "\n",
        "    v (numpy array of floats)\n",
        "      synaptic input at current time step of shape (neurons)\n",
        "\n",
        "    dt (float)\n",
        "      time step increment\n",
        "\n",
        "  Returns:\n",
        "    v (numpy array of floats)\n",
        "      membrane potential at current time step of shape (neurons)\n",
        "  \"\"\"\n",
        "  v = v + dt/tau * (el - v + r*i)\n",
        "\n",
        "  return v\n",
        "\n",
        "# to_remove solution\n",
        "def spike_clamp(v, delta_spike):\n",
        "  \"\"\"\n",
        "  Resets membrane potential of neurons if v>= vth\n",
        "  and clamps to vr if interval of time since last spike < t_ref\n",
        "\n",
        "  Args:\n",
        "    v (numpy array of floats)\n",
        "      membrane potential of shape (neurons)\n",
        "\n",
        "    delta_spike (numpy array of floats)\n",
        "      interval of time since last spike of shape (neurons)\n",
        "\n",
        "  Returns:\n",
        "    v (numpy array of floats)\n",
        "      membrane potential of shape (neurons)\n",
        "    spiked (numpy array of floats)\n",
        "      boolean array of neurons that spiked  of shape (neurons)\n",
        "  \"\"\"\n",
        "\n",
        "  # Boolean array spiked indexes neurons with v>=vth\n",
        "  spiked = (v >= vth)\n",
        "  v[spiked] = vr\n",
        "\n",
        "  # Boolean array clamped indexes refractory neurons\n",
        "  clamped = (t_ref > delta_spike)\n",
        "  v[clamped] = vr\n",
        "\n",
        "  return v, spiked\n",
        "\n",
        "\n",
        "# Set random number generator\n",
        "np.random.seed(2020)\n",
        "\n",
        "# Initialize step_end, t_range, n, v_n and i\n",
        "t_range = np.arange(0, t_max, dt)\n",
        "step_end = len(t_range)\n",
        "n = 500\n",
        "v_n = el * np.ones([n, step_end])\n",
        "i = i_mean * (1 + 0.1 * (t_max / dt)**(0.5) * (2 * np.random.random([n, step_end]) - 1))\n",
        "\n",
        "# Initialize binary numpy array for raster plot\n",
        "raster = np.zeros([n,step_end])\n",
        "\n",
        "# Initialize t_ref and last_spike\n",
        "mu = 0.01\n",
        "sigma = 0.007\n",
        "t_ref = mu + sigma*np.random.normal(size=n)\n",
        "t_ref[t_ref<0] = 0\n",
        "last_spike = -t_ref * np.ones([n])\n",
        "\n",
        "# Loop over time steps\n",
        "for step, t in enumerate(t_range):\n",
        "\n",
        "  # Skip first iteration\n",
        "  if step==0:\n",
        "    continue\n",
        "\n",
        "  # Compute v_n\n",
        "  v_n[:,step] = ode_step(v_n[:,step-1], i[:,step], dt)\n",
        "\n",
        "  # Reset membrane potential and clamp\n",
        "  v_n[:,step], spiked = spike_clamp(v_n[:,step], t - last_spike)\n",
        "\n",
        "  # Update raster and last_spike\n",
        "  raster[spiked,step] = 1.\n",
        "  last_spike[spiked] = t\n",
        "\n",
        "# Plot multiple realizations of Vm, spikes and mean spike rate\n",
        "with plt.xkcd():\n",
        "  plot_all(t_range, v_n, raster)"
      ],
      "execution_count": null,
      "outputs": []
    },
    {
      "cell_type": "markdown",
      "metadata": {
        "id": "BhqxweO5Sr1X"
      },
      "source": [
        "---\n",
        "# Section 6: Using classes\n"
      ]
    },
    {
      "cell_type": "code",
      "metadata": {
        "cellView": "form",
        "execution": {
          "iopub.execute_input": "2021-06-27T06:05:44.274487Z",
          "iopub.status.busy": "2021-06-27T06:05:44.268832Z",
          "iopub.status.idle": "2021-06-27T06:05:44.347840Z",
          "shell.execute_reply": "2021-06-27T06:05:44.347229Z"
        },
        "id": "eqyeA536Sr1X",
        "outputId": "21c1cb09-7cdc-4ed3-d3ad-7c1ee196d475",
        "colab": {
          "base_uri": "https://localhost:8080/",
          "height": 581,
          "referenced_widgets": [
            "b3799187fc1b4803b16beb63b0d305d2",
            "23e5ec043c0c43b3adfa79ae177580cc",
            "bd116bd2328944a39878187af28578a1",
            "cc8ba83513d644829caf66fc009f41a7",
            "442588772ea948fda3067c03dc481238",
            "e028aace6b4d48838cc55e1f567c6051"
          ]
        }
      },
      "source": [
        "# @title Video 11: Classes\n",
        "from ipywidgets import widgets\n",
        "\n",
        "out2 = widgets.Output()\n",
        "with out2:\n",
        "  from IPython.display import IFrame\n",
        "  class BiliVideo(IFrame):\n",
        "      def __init__(self, id, page=1, width=400, height=300, **kwargs):\n",
        "          self.id=id\n",
        "          src = 'https://player.bilibili.com/player.html?bvid={0}&page={1}'.format(id, page)\n",
        "          super(BiliVideo, self).__init__(src, width, height, **kwargs)\n",
        "\n",
        "  video = BiliVideo(id=\"BV1hz411v7ne\", width=854, height=480, fs=1)\n",
        "  print('Video available at https://www.bilibili.com/video/{0}'.format(video.id))\n",
        "  display(video)\n",
        "\n",
        "out1 = widgets.Output()\n",
        "with out1:\n",
        "  from IPython.display import YouTubeVideo\n",
        "  video = YouTubeVideo(id=\"dGRESMoNPh0\", width=854, height=480, fs=1, rel=0)\n",
        "  print('Video available at https://youtube.com/watch?v=' + video.id)\n",
        "  display(video)\n",
        "\n",
        "out = widgets.Tab([out1, out2])\n",
        "out.set_title(0, 'Youtube')\n",
        "out.set_title(1, 'Bilibili')\n",
        "\n",
        "display(out)"
      ],
      "execution_count": 9,
      "outputs": [
        {
          "output_type": "display_data",
          "data": {
            "application/vnd.jupyter.widget-view+json": {
              "model_id": "b3799187fc1b4803b16beb63b0d305d2",
              "version_minor": 0,
              "version_major": 2
            },
            "text/plain": [
              "Tab(children=(Output(), Output()), _titles={'0': 'Youtube', '1': 'Bilibili'})"
            ]
          },
          "metadata": {
            "tags": []
          }
        }
      ]
    },
    {
      "cell_type": "markdown",
      "metadata": {
        "id": "7PDKJol_Sr1Y"
      },
      "source": [
        "Using classes helps with code reuse and reliability. Well-designed classes are like black boxes in that they receive inputs and provide expected outputs. The details of how the class processes inputs and produces outputs are unimportant.\n",
        "\n",
        "See additional details here: [A Beginner's Python Tutorial/Classes](https://en.wikibooks.org/wiki/A_Beginner%27s_Python_Tutorial/Classes)\n",
        "\n",
        "*Attributes* are variables internal to the class, and *methods* are functions internal to the class."
      ]
    },
    {
      "cell_type": "code",
      "metadata": {
        "cellView": "form",
        "execution": {
          "iopub.execute_input": "2021-06-27T06:05:44.368190Z",
          "iopub.status.busy": "2021-06-27T06:05:44.362429Z",
          "iopub.status.idle": "2021-06-27T06:05:44.444699Z",
          "shell.execute_reply": "2021-06-27T06:05:44.444137Z"
        },
        "id": "xfvzXbVjSr1Z",
        "outputId": "f95e94c0-3ab3-484c-cd1e-0cbb0e3f58a0",
        "colab": {
          "base_uri": "https://localhost:8080/",
          "height": 581,
          "referenced_widgets": [
            "a5d6dc3508fb49aca4fabf2f44c36463",
            "6ddc5ceeae8d4db684015837eec59497",
            "4066d8936e0a46dcbc371a2199a62ff9",
            "9def384d397a4b428d74faa5dc2c099f",
            "bc27d5eb2f234df28d2c390622e93388",
            "1a15531f94c64a8d9d5801eddc2d38d2"
          ]
        }
      },
      "source": [
        "# @title Video 12: Nano recap of classes\n",
        "from ipywidgets import widgets\n",
        "\n",
        "out2 = widgets.Output()\n",
        "with out2:\n",
        "  from IPython.display import IFrame\n",
        "  class BiliVideo(IFrame):\n",
        "      def __init__(self, id, page=1, width=400, height=300, **kwargs):\n",
        "          self.id=id\n",
        "          src = 'https://player.bilibili.com/player.html?bvid={0}&page={1}'.format(id, page)\n",
        "          super(BiliVideo, self).__init__(src, width, height, **kwargs)\n",
        "\n",
        "  video = BiliVideo(id=\"BV12V41167yu\", width=854, height=480, fs=1)\n",
        "  print('Video available at https://www.bilibili.com/video/{0}'.format(video.id))\n",
        "  display(video)\n",
        "\n",
        "out1 = widgets.Output()\n",
        "with out1:\n",
        "  from IPython.display import YouTubeVideo\n",
        "  video = YouTubeVideo(id=\"4YNpMpVW2qs\", width=854, height=480, fs=1, rel=0)\n",
        "  print('Video available at https://youtube.com/watch?v=' + video.id)\n",
        "  display(video)\n",
        "\n",
        "out = widgets.Tab([out1, out2])\n",
        "out.set_title(0, 'Youtube')\n",
        "out.set_title(1, 'Bilibili')\n",
        "\n",
        "display(out)"
      ],
      "execution_count": 10,
      "outputs": [
        {
          "output_type": "display_data",
          "data": {
            "application/vnd.jupyter.widget-view+json": {
              "model_id": "a5d6dc3508fb49aca4fabf2f44c36463",
              "version_minor": 0,
              "version_major": 2
            },
            "text/plain": [
              "Tab(children=(Output(), Output()), _titles={'0': 'Youtube', '1': 'Bilibili'})"
            ]
          },
          "metadata": {
            "tags": []
          }
        }
      ]
    },
    {
      "cell_type": "markdown",
      "metadata": {
        "id": "9AvSa0bQSr1Z"
      },
      "source": [
        "## Coding Exercise 7: Making a LIF class\n",
        "In this exercise we'll practice with Python classes by implementing `LIFNeurons`, a class that evolves and keeps state of multiple realizations of LIF neurons.\n",
        "\n",
        "Several attributes are used to keep state of our neurons:\n",
        "```\n",
        "self.v             current membrane potential\n",
        "self.spiked        neurons that spiked\n",
        "self.last_spike    last spike time of each neuron\n",
        "self.t             running time of the simulation\n",
        "self.steps         simulation step\n",
        "```\n",
        "There is a single method:\n",
        "```\n",
        "self.ode_step()    performs single step discrete time integration\n",
        "                   for provided synaptic current and dt\n",
        "```\n",
        "\n",
        "Complete the spike and clamp part of method `self.ode_step` (should be similar to function `spike_and_clamp` seen before)"
      ]
    },
    {
      "cell_type": "code",
      "metadata": {
        "execution": {
          "iopub.execute_input": "2021-06-27T06:05:44.464362Z",
          "iopub.status.busy": "2021-06-27T06:05:44.459101Z",
          "iopub.status.idle": "2021-06-27T06:05:44.484990Z",
          "shell.execute_reply": "2021-06-27T06:05:44.484236Z"
        },
        "id": "ABN7MCClSr1Z"
      },
      "source": [
        "# Simulation class\n",
        "class LIFNeurons:\n",
        "  \"\"\"\n",
        "  Keeps track of membrane potential for multiple realizations of LIF neuron,\n",
        "  and performs single step discrete time integration.\n",
        "  \"\"\"\n",
        "  def __init__(self, n, t_ref_mu=0.01, t_ref_sigma=0.002,\n",
        "               tau=20e-3, el=-60e-3, vr=-70e-3, vth=-50e-3, r=100e6):\n",
        "\n",
        "    # Neuron count\n",
        "    self.n = n\n",
        "\n",
        "    # Neuron parameters\n",
        "    self.tau = tau        # second\n",
        "    self.el = el          # milivolt\n",
        "    self.vr = vr          # milivolt\n",
        "    self.vth = vth        # milivolt\n",
        "    self.r = r            # ohm\n",
        "\n",
        "    # Initializes refractory period distribution\n",
        "    self.t_ref_mu = t_ref_mu\n",
        "    self.t_ref_sigma = t_ref_sigma\n",
        "    self.t_ref = self.t_ref_mu + self.t_ref_sigma * np.random.normal(size=self.n)\n",
        "    self.t_ref[self.t_ref<0] = 0\n",
        "\n",
        "    # State variables\n",
        "    self.v = self.el * np.ones(self.n)\n",
        "    self.spiked = self.v >= self.vth\n",
        "    self.last_spike = -self.t_ref * np.ones([self.n])\n",
        "    self.t = 0.\n",
        "    self.steps = 0\n",
        "\n",
        "\n",
        "  def ode_step(self, dt, i):\n",
        "\n",
        "    # Update running time and steps\n",
        "    self.t += dt\n",
        "    self.steps += 1\n",
        "\n",
        "    # One step of discrete time integration of dt\n",
        "    self.v = self.v + dt / self.tau * (self.el - self.v + self.r * i)\n",
        "\n",
        "    ####################################################\n",
        "    ## TODO for students: complete the `ode_step` method\n",
        "    # Fill out function and remove\n",
        "    raise NotImplementedError(\"Student exercise: complete the ode_step method\")\n",
        "    ####################################################\n",
        "\n",
        "    # Spike and clamp\n",
        "    self.spiked = ...\n",
        "    self.v[self.spiked] = ...\n",
        "    self.last_spike[self.spiked] = ...\n",
        "    clamped = ...\n",
        "    self.v[clamped] = ...\n",
        "\n",
        "    self.last_spike[self.spiked] = ...\n",
        "\n",
        "# Set random number generator\n",
        "np.random.seed(2020)\n",
        "\n",
        "# Initialize step_end, t_range, n, v_n and i\n",
        "t_range = np.arange(0, t_max, dt)\n",
        "step_end = len(t_range)\n",
        "n = 500\n",
        "v_n = el * np.ones([n, step_end])\n",
        "i = i_mean * (1 + 0.1 * (t_max / dt)**(0.5) * (2 * np.random.random([n, step_end]) - 1))\n",
        "\n",
        "# Initialize binary numpy array for raster plot\n",
        "raster = np.zeros([n,step_end])\n",
        "\n",
        "# Initialize neurons\n",
        "neurons = LIFNeurons(n)\n",
        "\n",
        "# Loop over time steps\n",
        "for step, t in enumerate(t_range):\n",
        "\n",
        "  # Call ode_step method\n",
        "  neurons.ode_step(dt, i[:,step])\n",
        "\n",
        "  # Log v_n and spike history\n",
        "  v_n[:,step] = neurons.v\n",
        "  raster[neurons.spiked, step] = 1.\n",
        "\n",
        "# Report running time and steps\n",
        "print(f'Ran for {neurons.t:.3}s in {neurons.steps} steps.')\n",
        "\n",
        "# Plot multiple realizations of Vm, spikes and mean spike rate\n",
        "plot_all(t_range, v_n, raster)"
      ],
      "execution_count": null,
      "outputs": []
    },
    {
      "cell_type": "markdown",
      "metadata": {
        "execution": {
          "iopub.execute_input": "2021-06-27T06:05:44.492929Z",
          "iopub.status.busy": "2021-06-27T06:05:44.487531Z",
          "iopub.status.idle": "2021-06-27T06:05:52.306742Z",
          "shell.execute_reply": "2021-06-27T06:05:52.307350Z"
        },
        "id": "vP9sjVVgSr1a"
      },
      "source": [
        "[*Click for solution*](https://github.com/NeuromatchAcademy/course-content/tree/master//tutorials/W0D2_PythonWorkshop2/solutions/W0D2_Tutorial1_Solution_a22fdac7.py)\n",
        "\n",
        "*Example output:*\n",
        "\n",
        "<img alt='Solution hint' align='left' width=560 height=632 src=https://raw.githubusercontent.com/NeuromatchAcademy/course-content/master/tutorials/W0D2_PythonWorkshop2/static/W0D2_Tutorial1_Solution_a22fdac7_1.png>\n",
        "\n"
      ]
    },
    {
      "cell_type": "markdown",
      "metadata": {
        "id": "IfBkdNW9Sr1b"
      },
      "source": [
        "---\n",
        "# Summary\n"
      ]
    },
    {
      "cell_type": "code",
      "metadata": {
        "cellView": "form",
        "execution": {
          "iopub.execute_input": "2021-06-27T06:05:52.322066Z",
          "iopub.status.busy": "2021-06-27T06:05:52.315419Z",
          "iopub.status.idle": "2021-06-27T06:05:52.390798Z",
          "shell.execute_reply": "2021-06-27T06:05:52.392206Z"
        },
        "id": "Y4NbFiGiSr1c",
        "outputId": "a61ebd72-7a7e-4da3-f442-95e0af88bc2c",
        "colab": {
          "base_uri": "https://localhost:8080/",
          "height": 581,
          "referenced_widgets": [
            "e5e3ed79e0e34ba480bfa11d0968b6bb",
            "cba90c29c3664fa49ead72cc4ad39bc1",
            "30f022a90abc42a3a05013a3d3a7ff58",
            "53b919f5722d4e06b71744f8ee7a1ce7",
            "a764840f3dae4237805383003e2ce39c",
            "45087f1398c64090bba60cbf91868dd5"
          ]
        }
      },
      "source": [
        "# @title Video 12: Last concepts & recap\n",
        "from ipywidgets import widgets\n",
        "\n",
        "out2 = widgets.Output()\n",
        "with out2:\n",
        "  from IPython.display import IFrame\n",
        "  class BiliVideo(IFrame):\n",
        "      def __init__(self, id, page=1, width=400, height=300, **kwargs):\n",
        "          self.id=id\n",
        "          src = 'https://player.bilibili.com/player.html?bvid={0}&page={1}'.format(id, page)\n",
        "          super(BiliVideo, self).__init__(src, width, height, **kwargs)\n",
        "\n",
        "  video = BiliVideo(id=\"BV1MC4y1h7eA\", width=854, height=480, fs=1)\n",
        "  print('Video available at https://www.bilibili.com/video/{0}'.format(video.id))\n",
        "  display(video)\n",
        "\n",
        "out1 = widgets.Output()\n",
        "with out1:\n",
        "  from IPython.display import YouTubeVideo\n",
        "  video = YouTubeVideo(id=\"h4mSJBPocPo\", width=854, height=480, fs=1, rel=0)\n",
        "  print('Video available at https://youtube.com/watch?v=' + video.id)\n",
        "  display(video)\n",
        "\n",
        "out = widgets.Tab([out1, out2])\n",
        "out.set_title(0, 'Youtube')\n",
        "out.set_title(1, 'Bilibili')\n",
        "\n",
        "display(out)"
      ],
      "execution_count": 11,
      "outputs": [
        {
          "output_type": "display_data",
          "data": {
            "application/vnd.jupyter.widget-view+json": {
              "model_id": "e5e3ed79e0e34ba480bfa11d0968b6bb",
              "version_minor": 0,
              "version_major": 2
            },
            "text/plain": [
              "Tab(children=(Output(), Output()), _titles={'0': 'Youtube', '1': 'Bilibili'})"
            ]
          },
          "metadata": {
            "tags": []
          }
        }
      ]
    }
  ]
}