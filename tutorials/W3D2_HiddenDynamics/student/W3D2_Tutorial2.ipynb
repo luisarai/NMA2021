{
  "nbformat": 4,
  "nbformat_minor": 0,
  "metadata": {
    "@webio": {
      "lastCommId": null,
      "lastKernelId": null
    },
    "colab": {
      "name": "W3D2_Tutorial2",
      "provenance": [],
      "collapsed_sections": [],
      "toc_visible": true,
      "include_colab_link": true
    },
    "kernel": {
      "display_name": "Python 3",
      "language": "python",
      "name": "python3"
    },
    "kernelspec": {
      "display_name": "Python 3",
      "name": "python3"
    },
    "language_info": {
      "codemirror_mode": {
        "name": "ipython",
        "version": 3
      },
      "file_extension": ".py",
      "mimetype": "text/x-python",
      "name": "python",
      "nbconvert_exporter": "python",
      "pygments_lexer": "ipython3",
      "version": "3.7.11"
    },
    "toc": {
      "base_numbering": 1,
      "nav_menu": {},
      "number_sections": false,
      "sideBar": true,
      "skip_h1_title": true,
      "title_cell": "Table of Contents",
      "title_sidebar": "Contents",
      "toc_cell": false,
      "toc_position": {},
      "toc_section_display": true,
      "toc_window_display": true
    },
    "widgets": {
      "application/vnd.jupyter.widget-state+json": {
        "e0b9f669160a494282a70cc945316bdf": {
          "model_module": "@jupyter-widgets/controls",
          "model_name": "TabModel",
          "state": {
            "_view_name": "TabView",
            "_dom_classes": [],
            "_titles": {
              "0": "Youtube",
              "1": "Bilibili"
            },
            "_model_name": "TabModel",
            "_view_module": "@jupyter-widgets/controls",
            "selected_index": 0,
            "_model_module_version": "1.5.0",
            "_view_count": null,
            "_view_module_version": "1.5.0",
            "box_style": "",
            "layout": "IPY_MODEL_1cb6d374d607456ca8adab6cbca0ded6",
            "_model_module": "@jupyter-widgets/controls",
            "children": [
              "IPY_MODEL_c9ffe234844e43fcb444cd6017a2866f",
              "IPY_MODEL_c816bc119fa6423796c0ecd545d6cad4"
            ]
          }
        },
        "1cb6d374d607456ca8adab6cbca0ded6": {
          "model_module": "@jupyter-widgets/base",
          "model_name": "LayoutModel",
          "state": {
            "_view_name": "LayoutView",
            "grid_template_rows": null,
            "right": null,
            "justify_content": null,
            "_view_module": "@jupyter-widgets/base",
            "overflow": null,
            "_model_module_version": "1.2.0",
            "_view_count": null,
            "flex_flow": null,
            "width": null,
            "min_width": null,
            "border": null,
            "align_items": null,
            "bottom": null,
            "_model_module": "@jupyter-widgets/base",
            "top": null,
            "grid_column": null,
            "overflow_y": null,
            "overflow_x": null,
            "grid_auto_flow": null,
            "grid_area": null,
            "grid_template_columns": null,
            "flex": null,
            "_model_name": "LayoutModel",
            "justify_items": null,
            "grid_row": null,
            "max_height": null,
            "align_content": null,
            "visibility": null,
            "align_self": null,
            "height": null,
            "min_height": null,
            "padding": null,
            "grid_auto_rows": null,
            "grid_gap": null,
            "max_width": null,
            "order": null,
            "_view_module_version": "1.2.0",
            "grid_template_areas": null,
            "object_position": null,
            "object_fit": null,
            "grid_auto_columns": null,
            "margin": null,
            "display": null,
            "left": null
          }
        },
        "c9ffe234844e43fcb444cd6017a2866f": {
          "model_module": "@jupyter-widgets/output",
          "model_name": "OutputModel",
          "state": {
            "_view_name": "OutputView",
            "msg_id": "",
            "_dom_classes": [],
            "_model_name": "OutputModel",
            "outputs": [
              {
                "output_type": "stream",
                "metadata": {
                  "tags": []
                },
                "text": "Video available at https://youtube.com/watch?v=pIXxVl1A4l0\n",
                "stream": "stdout"
              },
              {
                "output_type": "display_data",
                "metadata": {
                  "tags": []
                },
                "text/html": "\n        <iframe\n            width=\"854\"\n            height=\"480\"\n            src=\"https://www.youtube.com/embed/pIXxVl1A4l0?fs=1&rel=0\"\n            frameborder=\"0\"\n            allowfullscreen\n        ></iframe>\n        ",
                "text/plain": "<IPython.lib.display.YouTubeVideo at 0x7f1aaa8d38d0>",
                "image/jpeg": "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\n"
              }
            ],
            "_view_module": "@jupyter-widgets/output",
            "_model_module_version": "1.0.0",
            "_view_count": null,
            "_view_module_version": "1.0.0",
            "layout": "IPY_MODEL_bbb950c1e19b40b8906b75a700a14373",
            "_model_module": "@jupyter-widgets/output"
          }
        },
        "c816bc119fa6423796c0ecd545d6cad4": {
          "model_module": "@jupyter-widgets/output",
          "model_name": "OutputModel",
          "state": {
            "_view_name": "OutputView",
            "msg_id": "",
            "_dom_classes": [],
            "_model_name": "OutputModel",
            "outputs": [
              {
                "output_type": "stream",
                "metadata": {
                  "tags": []
                },
                "text": "Video available at https://www.bilibili.com/video/BV1Hh411r7JE\n",
                "stream": "stdout"
              },
              {
                "output_type": "display_data",
                "metadata": {
                  "tags": []
                },
                "text/html": "\n        <iframe\n            width=\"854\"\n            height=\"480\"\n            src=\"https://player.bilibili.com/player.html?bvid=BV1Hh411r7JE&page=1?fs=1\"\n            frameborder=\"0\"\n            allowfullscreen\n        ></iframe>\n        ",
                "text/plain": "<__main__.BiliVideo at 0x7f1aad74d550>"
              }
            ],
            "_view_module": "@jupyter-widgets/output",
            "_model_module_version": "1.0.0",
            "_view_count": null,
            "_view_module_version": "1.0.0",
            "layout": "IPY_MODEL_992b9618380843f8b983a79b76f767d2",
            "_model_module": "@jupyter-widgets/output"
          }
        },
        "bbb950c1e19b40b8906b75a700a14373": {
          "model_module": "@jupyter-widgets/base",
          "model_name": "LayoutModel",
          "state": {
            "_view_name": "LayoutView",
            "grid_template_rows": null,
            "right": null,
            "justify_content": null,
            "_view_module": "@jupyter-widgets/base",
            "overflow": null,
            "_model_module_version": "1.2.0",
            "_view_count": null,
            "flex_flow": null,
            "width": null,
            "min_width": null,
            "border": null,
            "align_items": null,
            "bottom": null,
            "_model_module": "@jupyter-widgets/base",
            "top": null,
            "grid_column": null,
            "overflow_y": null,
            "overflow_x": null,
            "grid_auto_flow": null,
            "grid_area": null,
            "grid_template_columns": null,
            "flex": null,
            "_model_name": "LayoutModel",
            "justify_items": null,
            "grid_row": null,
            "max_height": null,
            "align_content": null,
            "visibility": null,
            "align_self": null,
            "height": null,
            "min_height": null,
            "padding": null,
            "grid_auto_rows": null,
            "grid_gap": null,
            "max_width": null,
            "order": null,
            "_view_module_version": "1.2.0",
            "grid_template_areas": null,
            "object_position": null,
            "object_fit": null,
            "grid_auto_columns": null,
            "margin": null,
            "display": null,
            "left": null
          }
        },
        "992b9618380843f8b983a79b76f767d2": {
          "model_module": "@jupyter-widgets/base",
          "model_name": "LayoutModel",
          "state": {
            "_view_name": "LayoutView",
            "grid_template_rows": null,
            "right": null,
            "justify_content": null,
            "_view_module": "@jupyter-widgets/base",
            "overflow": null,
            "_model_module_version": "1.2.0",
            "_view_count": null,
            "flex_flow": null,
            "width": null,
            "min_width": null,
            "border": null,
            "align_items": null,
            "bottom": null,
            "_model_module": "@jupyter-widgets/base",
            "top": null,
            "grid_column": null,
            "overflow_y": null,
            "overflow_x": null,
            "grid_auto_flow": null,
            "grid_area": null,
            "grid_template_columns": null,
            "flex": null,
            "_model_name": "LayoutModel",
            "justify_items": null,
            "grid_row": null,
            "max_height": null,
            "align_content": null,
            "visibility": null,
            "align_self": null,
            "height": null,
            "min_height": null,
            "padding": null,
            "grid_auto_rows": null,
            "grid_gap": null,
            "max_width": null,
            "order": null,
            "_view_module_version": "1.2.0",
            "grid_template_areas": null,
            "object_position": null,
            "object_fit": null,
            "grid_auto_columns": null,
            "margin": null,
            "display": null,
            "left": null
          }
        },
        "be1afe3def36473ebc9d2bf5f7dd7e45": {
          "model_module": "@jupyter-widgets/controls",
          "model_name": "TabModel",
          "state": {
            "_view_name": "TabView",
            "_dom_classes": [],
            "_titles": {
              "0": "Youtube",
              "1": "Bilibili"
            },
            "_model_name": "TabModel",
            "_view_module": "@jupyter-widgets/controls",
            "selected_index": 0,
            "_model_module_version": "1.5.0",
            "_view_count": null,
            "_view_module_version": "1.5.0",
            "box_style": "",
            "layout": "IPY_MODEL_4e6d846def7641fe9613769cff9a0ae5",
            "_model_module": "@jupyter-widgets/controls",
            "children": [
              "IPY_MODEL_b157f19435d9408e8d601ded137b4d77",
              "IPY_MODEL_ec5fa7b7841f41358b9898baaecdd71a"
            ]
          }
        },
        "4e6d846def7641fe9613769cff9a0ae5": {
          "model_module": "@jupyter-widgets/base",
          "model_name": "LayoutModel",
          "state": {
            "_view_name": "LayoutView",
            "grid_template_rows": null,
            "right": null,
            "justify_content": null,
            "_view_module": "@jupyter-widgets/base",
            "overflow": null,
            "_model_module_version": "1.2.0",
            "_view_count": null,
            "flex_flow": null,
            "width": null,
            "min_width": null,
            "border": null,
            "align_items": null,
            "bottom": null,
            "_model_module": "@jupyter-widgets/base",
            "top": null,
            "grid_column": null,
            "overflow_y": null,
            "overflow_x": null,
            "grid_auto_flow": null,
            "grid_area": null,
            "grid_template_columns": null,
            "flex": null,
            "_model_name": "LayoutModel",
            "justify_items": null,
            "grid_row": null,
            "max_height": null,
            "align_content": null,
            "visibility": null,
            "align_self": null,
            "height": null,
            "min_height": null,
            "padding": null,
            "grid_auto_rows": null,
            "grid_gap": null,
            "max_width": null,
            "order": null,
            "_view_module_version": "1.2.0",
            "grid_template_areas": null,
            "object_position": null,
            "object_fit": null,
            "grid_auto_columns": null,
            "margin": null,
            "display": null,
            "left": null
          }
        },
        "b157f19435d9408e8d601ded137b4d77": {
          "model_module": "@jupyter-widgets/output",
          "model_name": "OutputModel",
          "state": {
            "_view_name": "OutputView",
            "msg_id": "",
            "_dom_classes": [],
            "_model_name": "OutputModel",
            "outputs": [
              {
                "output_type": "stream",
                "metadata": {
                  "tags": []
                },
                "text": "Video available at https://youtube.com/watch?v=z6KbKILMIPU\n",
                "stream": "stdout"
              },
              {
                "output_type": "display_data",
                "metadata": {
                  "tags": []
                },
                "text/html": "\n        <iframe\n            width=\"854\"\n            height=\"480\"\n            src=\"https://www.youtube.com/embed/z6KbKILMIPU?fs=1&rel=0\"\n            frameborder=\"0\"\n            allowfullscreen\n        ></iframe>\n        ",
                "text/plain": "<IPython.lib.display.YouTubeVideo at 0x7f1a9b09f610>",
                "image/jpeg": "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\n"
              }
            ],
            "_view_module": "@jupyter-widgets/output",
            "_model_module_version": "1.0.0",
            "_view_count": null,
            "_view_module_version": "1.0.0",
            "layout": "IPY_MODEL_75b3c31438394ce0a579ead61155dd10",
            "_model_module": "@jupyter-widgets/output"
          }
        },
        "ec5fa7b7841f41358b9898baaecdd71a": {
          "model_module": "@jupyter-widgets/output",
          "model_name": "OutputModel",
          "state": {
            "_view_name": "OutputView",
            "msg_id": "",
            "_dom_classes": [],
            "_model_name": "OutputModel",
            "outputs": [
              {
                "output_type": "stream",
                "metadata": {
                  "tags": []
                },
                "text": "Video available at https://www.bilibili.com/video/BV1Sw41197Mj\n",
                "stream": "stdout"
              },
              {
                "output_type": "display_data",
                "metadata": {
                  "tags": []
                },
                "text/html": "\n        <iframe\n            width=\"854\"\n            height=\"480\"\n            src=\"https://player.bilibili.com/player.html?bvid=BV1Sw41197Mj&page=1?fs=1\"\n            frameborder=\"0\"\n            allowfullscreen\n        ></iframe>\n        ",
                "text/plain": "<__main__.BiliVideo at 0x7f1a9b04ff90>"
              }
            ],
            "_view_module": "@jupyter-widgets/output",
            "_model_module_version": "1.0.0",
            "_view_count": null,
            "_view_module_version": "1.0.0",
            "layout": "IPY_MODEL_6ac3b39e160b4fa9ad82b006be4348f5",
            "_model_module": "@jupyter-widgets/output"
          }
        },
        "75b3c31438394ce0a579ead61155dd10": {
          "model_module": "@jupyter-widgets/base",
          "model_name": "LayoutModel",
          "state": {
            "_view_name": "LayoutView",
            "grid_template_rows": null,
            "right": null,
            "justify_content": null,
            "_view_module": "@jupyter-widgets/base",
            "overflow": null,
            "_model_module_version": "1.2.0",
            "_view_count": null,
            "flex_flow": null,
            "width": null,
            "min_width": null,
            "border": null,
            "align_items": null,
            "bottom": null,
            "_model_module": "@jupyter-widgets/base",
            "top": null,
            "grid_column": null,
            "overflow_y": null,
            "overflow_x": null,
            "grid_auto_flow": null,
            "grid_area": null,
            "grid_template_columns": null,
            "flex": null,
            "_model_name": "LayoutModel",
            "justify_items": null,
            "grid_row": null,
            "max_height": null,
            "align_content": null,
            "visibility": null,
            "align_self": null,
            "height": null,
            "min_height": null,
            "padding": null,
            "grid_auto_rows": null,
            "grid_gap": null,
            "max_width": null,
            "order": null,
            "_view_module_version": "1.2.0",
            "grid_template_areas": null,
            "object_position": null,
            "object_fit": null,
            "grid_auto_columns": null,
            "margin": null,
            "display": null,
            "left": null
          }
        },
        "6ac3b39e160b4fa9ad82b006be4348f5": {
          "model_module": "@jupyter-widgets/base",
          "model_name": "LayoutModel",
          "state": {
            "_view_name": "LayoutView",
            "grid_template_rows": null,
            "right": null,
            "justify_content": null,
            "_view_module": "@jupyter-widgets/base",
            "overflow": null,
            "_model_module_version": "1.2.0",
            "_view_count": null,
            "flex_flow": null,
            "width": null,
            "min_width": null,
            "border": null,
            "align_items": null,
            "bottom": null,
            "_model_module": "@jupyter-widgets/base",
            "top": null,
            "grid_column": null,
            "overflow_y": null,
            "overflow_x": null,
            "grid_auto_flow": null,
            "grid_area": null,
            "grid_template_columns": null,
            "flex": null,
            "_model_name": "LayoutModel",
            "justify_items": null,
            "grid_row": null,
            "max_height": null,
            "align_content": null,
            "visibility": null,
            "align_self": null,
            "height": null,
            "min_height": null,
            "padding": null,
            "grid_auto_rows": null,
            "grid_gap": null,
            "max_width": null,
            "order": null,
            "_view_module_version": "1.2.0",
            "grid_template_areas": null,
            "object_position": null,
            "object_fit": null,
            "grid_auto_columns": null,
            "margin": null,
            "display": null,
            "left": null
          }
        },
        "63e4e0d4f0d64313b2f72e13fa6c55da": {
          "model_module": "@jupyter-widgets/controls",
          "model_name": "VBoxModel",
          "state": {
            "_view_name": "VBoxView",
            "_dom_classes": [
              "widget-interact"
            ],
            "_model_name": "VBoxModel",
            "_view_module": "@jupyter-widgets/controls",
            "_model_module_version": "1.5.0",
            "_view_count": null,
            "_view_module_version": "1.5.0",
            "box_style": "",
            "layout": "IPY_MODEL_f1a473beb11b414d8e4c488039e24221",
            "_model_module": "@jupyter-widgets/controls",
            "children": [
              "IPY_MODEL_9e0d9df2e9d34bde9e9ff9414de37852",
              "IPY_MODEL_78d1111588c14147b12fc68897898279",
              "IPY_MODEL_4e061af2801b4e1b9879c13f3fc8be8a",
              "IPY_MODEL_a4348f659b484ff798d3a9469c0381fa"
            ]
          }
        },
        "f1a473beb11b414d8e4c488039e24221": {
          "model_module": "@jupyter-widgets/base",
          "model_name": "LayoutModel",
          "state": {
            "_view_name": "LayoutView",
            "grid_template_rows": null,
            "right": null,
            "justify_content": null,
            "_view_module": "@jupyter-widgets/base",
            "overflow": null,
            "_model_module_version": "1.2.0",
            "_view_count": null,
            "flex_flow": null,
            "width": null,
            "min_width": null,
            "border": null,
            "align_items": null,
            "bottom": null,
            "_model_module": "@jupyter-widgets/base",
            "top": null,
            "grid_column": null,
            "overflow_y": null,
            "overflow_x": null,
            "grid_auto_flow": null,
            "grid_area": null,
            "grid_template_columns": null,
            "flex": null,
            "_model_name": "LayoutModel",
            "justify_items": null,
            "grid_row": null,
            "max_height": null,
            "align_content": null,
            "visibility": null,
            "align_self": null,
            "height": null,
            "min_height": null,
            "padding": null,
            "grid_auto_rows": null,
            "grid_gap": null,
            "max_width": null,
            "order": null,
            "_view_module_version": "1.2.0",
            "grid_template_areas": null,
            "object_position": null,
            "object_fit": null,
            "grid_auto_columns": null,
            "margin": null,
            "display": null,
            "left": null
          }
        },
        "9e0d9df2e9d34bde9e9ff9414de37852": {
          "model_module": "@jupyter-widgets/controls",
          "model_name": "FloatSliderModel",
          "state": {
            "_view_name": "FloatSliderView",
            "style": "IPY_MODEL_303606e250304120966d139e01f7059f",
            "_dom_classes": [],
            "description": "switch_prob",
            "step": 0.02,
            "_model_name": "FloatSliderModel",
            "orientation": "horizontal",
            "max": 1,
            "_view_module": "@jupyter-widgets/controls",
            "_model_module_version": "1.5.0",
            "value": 0,
            "_view_count": null,
            "disabled": false,
            "_view_module_version": "1.5.0",
            "min": 0,
            "continuous_update": true,
            "readout_format": ".2f",
            "description_tooltip": null,
            "readout": true,
            "_model_module": "@jupyter-widgets/controls",
            "layout": "IPY_MODEL_15de212d8e524c0eb3d676b06c1a1319"
          }
        },
        "78d1111588c14147b12fc68897898279": {
          "model_module": "@jupyter-widgets/controls",
          "model_name": "FloatSliderModel",
          "state": {
            "_view_name": "FloatSliderView",
            "style": "IPY_MODEL_88cd4ba35b0e4a15bcab15b5fc203b11",
            "_dom_classes": [],
            "description": "log10_noise_level",
            "step": 0.01,
            "_model_name": "FloatSliderModel",
            "orientation": "horizontal",
            "max": 1,
            "_view_module": "@jupyter-widgets/controls",
            "_model_module_version": "1.5.0",
            "value": 0.36,
            "_view_count": null,
            "disabled": false,
            "_view_module_version": "1.5.0",
            "min": -1,
            "continuous_update": true,
            "readout_format": ".2f",
            "description_tooltip": null,
            "readout": true,
            "_model_module": "@jupyter-widgets/controls",
            "layout": "IPY_MODEL_241e280c06eb4919a0d52159f1a28054"
          }
        },
        "4e061af2801b4e1b9879c13f3fc8be8a": {
          "model_module": "@jupyter-widgets/controls",
          "model_name": "CheckboxModel",
          "state": {
            "_view_name": "CheckboxView",
            "style": "IPY_MODEL_084a76c13cc84f739f6882140ebbcff9",
            "_dom_classes": [],
            "description": "measurements",
            "_model_name": "CheckboxModel",
            "_view_module": "@jupyter-widgets/controls",
            "_model_module_version": "1.5.0",
            "value": true,
            "_view_count": null,
            "disabled": false,
            "_view_module_version": "1.5.0",
            "indent": false,
            "description_tooltip": null,
            "_model_module": "@jupyter-widgets/controls",
            "layout": "IPY_MODEL_7661b2f4ae34483bad811e425b4dced7"
          }
        },
        "a4348f659b484ff798d3a9469c0381fa": {
          "model_module": "@jupyter-widgets/output",
          "model_name": "OutputModel",
          "state": {
            "_view_name": "OutputView",
            "msg_id": "",
            "_dom_classes": [],
            "_model_name": "OutputModel",
            "outputs": [
              {
                "output_type": "stream",
                "metadata": {
                  "tags": []
                },
                "text": "GaussianHMM1D(startprob=array([1., 0.]), transmat=array([[1., 0.],\n       [0., 1.]]), means=array([-1.,  1.]), vars=array([5.2480746, 5.2480746]), n_components=2)\n",
                "stream": "stdout"
              },
              {
                "output_type": "display_data",
                "metadata": {
                  "tags": [],
                  "image/png": {
                    "width": 558,
                    "height": 270
                  },
                  "needs_background": "light"
                },
                "image/png": "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\n",
                "text/plain": "<Figure size 576x288 with 2 Axes>"
              }
            ],
            "_view_module": "@jupyter-widgets/output",
            "_model_module_version": "1.0.0",
            "_view_count": null,
            "_view_module_version": "1.0.0",
            "layout": "IPY_MODEL_b9cc07dba10c464d87160a77b3a8afa0",
            "_model_module": "@jupyter-widgets/output"
          }
        },
        "303606e250304120966d139e01f7059f": {
          "model_module": "@jupyter-widgets/controls",
          "model_name": "SliderStyleModel",
          "state": {
            "_view_name": "StyleView",
            "handle_color": null,
            "_model_name": "SliderStyleModel",
            "description_width": "",
            "_view_module": "@jupyter-widgets/base",
            "_model_module_version": "1.5.0",
            "_view_count": null,
            "_view_module_version": "1.2.0",
            "_model_module": "@jupyter-widgets/controls"
          }
        },
        "15de212d8e524c0eb3d676b06c1a1319": {
          "model_module": "@jupyter-widgets/base",
          "model_name": "LayoutModel",
          "state": {
            "_view_name": "LayoutView",
            "grid_template_rows": null,
            "right": null,
            "justify_content": null,
            "_view_module": "@jupyter-widgets/base",
            "overflow": null,
            "_model_module_version": "1.2.0",
            "_view_count": null,
            "flex_flow": null,
            "width": null,
            "min_width": null,
            "border": null,
            "align_items": null,
            "bottom": null,
            "_model_module": "@jupyter-widgets/base",
            "top": null,
            "grid_column": null,
            "overflow_y": null,
            "overflow_x": null,
            "grid_auto_flow": null,
            "grid_area": null,
            "grid_template_columns": null,
            "flex": null,
            "_model_name": "LayoutModel",
            "justify_items": null,
            "grid_row": null,
            "max_height": null,
            "align_content": null,
            "visibility": null,
            "align_self": null,
            "height": null,
            "min_height": null,
            "padding": null,
            "grid_auto_rows": null,
            "grid_gap": null,
            "max_width": null,
            "order": null,
            "_view_module_version": "1.2.0",
            "grid_template_areas": null,
            "object_position": null,
            "object_fit": null,
            "grid_auto_columns": null,
            "margin": null,
            "display": null,
            "left": null
          }
        },
        "88cd4ba35b0e4a15bcab15b5fc203b11": {
          "model_module": "@jupyter-widgets/controls",
          "model_name": "SliderStyleModel",
          "state": {
            "_view_name": "StyleView",
            "handle_color": null,
            "_model_name": "SliderStyleModel",
            "description_width": "",
            "_view_module": "@jupyter-widgets/base",
            "_model_module_version": "1.5.0",
            "_view_count": null,
            "_view_module_version": "1.2.0",
            "_model_module": "@jupyter-widgets/controls"
          }
        },
        "241e280c06eb4919a0d52159f1a28054": {
          "model_module": "@jupyter-widgets/base",
          "model_name": "LayoutModel",
          "state": {
            "_view_name": "LayoutView",
            "grid_template_rows": null,
            "right": null,
            "justify_content": null,
            "_view_module": "@jupyter-widgets/base",
            "overflow": null,
            "_model_module_version": "1.2.0",
            "_view_count": null,
            "flex_flow": null,
            "width": null,
            "min_width": null,
            "border": null,
            "align_items": null,
            "bottom": null,
            "_model_module": "@jupyter-widgets/base",
            "top": null,
            "grid_column": null,
            "overflow_y": null,
            "overflow_x": null,
            "grid_auto_flow": null,
            "grid_area": null,
            "grid_template_columns": null,
            "flex": null,
            "_model_name": "LayoutModel",
            "justify_items": null,
            "grid_row": null,
            "max_height": null,
            "align_content": null,
            "visibility": null,
            "align_self": null,
            "height": null,
            "min_height": null,
            "padding": null,
            "grid_auto_rows": null,
            "grid_gap": null,
            "max_width": null,
            "order": null,
            "_view_module_version": "1.2.0",
            "grid_template_areas": null,
            "object_position": null,
            "object_fit": null,
            "grid_auto_columns": null,
            "margin": null,
            "display": null,
            "left": null
          }
        },
        "084a76c13cc84f739f6882140ebbcff9": {
          "model_module": "@jupyter-widgets/controls",
          "model_name": "DescriptionStyleModel",
          "state": {
            "_view_name": "StyleView",
            "_model_name": "DescriptionStyleModel",
            "description_width": "",
            "_view_module": "@jupyter-widgets/base",
            "_model_module_version": "1.5.0",
            "_view_count": null,
            "_view_module_version": "1.2.0",
            "_model_module": "@jupyter-widgets/controls"
          }
        },
        "7661b2f4ae34483bad811e425b4dced7": {
          "model_module": "@jupyter-widgets/base",
          "model_name": "LayoutModel",
          "state": {
            "_view_name": "LayoutView",
            "grid_template_rows": null,
            "right": null,
            "justify_content": null,
            "_view_module": "@jupyter-widgets/base",
            "overflow": null,
            "_model_module_version": "1.2.0",
            "_view_count": null,
            "flex_flow": null,
            "width": null,
            "min_width": null,
            "border": null,
            "align_items": null,
            "bottom": null,
            "_model_module": "@jupyter-widgets/base",
            "top": null,
            "grid_column": null,
            "overflow_y": null,
            "overflow_x": null,
            "grid_auto_flow": null,
            "grid_area": null,
            "grid_template_columns": null,
            "flex": null,
            "_model_name": "LayoutModel",
            "justify_items": null,
            "grid_row": null,
            "max_height": null,
            "align_content": null,
            "visibility": null,
            "align_self": null,
            "height": null,
            "min_height": null,
            "padding": null,
            "grid_auto_rows": null,
            "grid_gap": null,
            "max_width": null,
            "order": null,
            "_view_module_version": "1.2.0",
            "grid_template_areas": null,
            "object_position": null,
            "object_fit": null,
            "grid_auto_columns": null,
            "margin": null,
            "display": null,
            "left": null
          }
        },
        "b9cc07dba10c464d87160a77b3a8afa0": {
          "model_module": "@jupyter-widgets/base",
          "model_name": "LayoutModel",
          "state": {
            "_view_name": "LayoutView",
            "grid_template_rows": null,
            "right": null,
            "justify_content": null,
            "_view_module": "@jupyter-widgets/base",
            "overflow": null,
            "_model_module_version": "1.2.0",
            "_view_count": null,
            "flex_flow": null,
            "width": null,
            "min_width": null,
            "border": null,
            "align_items": null,
            "bottom": null,
            "_model_module": "@jupyter-widgets/base",
            "top": null,
            "grid_column": null,
            "overflow_y": null,
            "overflow_x": null,
            "grid_auto_flow": null,
            "grid_area": null,
            "grid_template_columns": null,
            "flex": null,
            "_model_name": "LayoutModel",
            "justify_items": null,
            "grid_row": null,
            "max_height": null,
            "align_content": null,
            "visibility": null,
            "align_self": null,
            "height": null,
            "min_height": null,
            "padding": null,
            "grid_auto_rows": null,
            "grid_gap": null,
            "max_width": null,
            "order": null,
            "_view_module_version": "1.2.0",
            "grid_template_areas": null,
            "object_position": null,
            "object_fit": null,
            "grid_auto_columns": null,
            "margin": null,
            "display": null,
            "left": null
          }
        },
        "d4c43bfbfc1340dab5ea6c8c70125370": {
          "model_module": "@jupyter-widgets/controls",
          "model_name": "TabModel",
          "state": {
            "_view_name": "TabView",
            "_dom_classes": [],
            "_titles": {
              "0": "Youtube",
              "1": "Bilibili"
            },
            "_model_name": "TabModel",
            "_view_module": "@jupyter-widgets/controls",
            "selected_index": 0,
            "_model_module_version": "1.5.0",
            "_view_count": null,
            "_view_module_version": "1.5.0",
            "box_style": "",
            "layout": "IPY_MODEL_a71a22cd65c547a2a3714aa601054e1f",
            "_model_module": "@jupyter-widgets/controls",
            "children": [
              "IPY_MODEL_90a2ce8a89154916b3c4f0a62622dfb2",
              "IPY_MODEL_4e36ebd8600c46d989f46ea2a06d4fa1"
            ]
          }
        },
        "a71a22cd65c547a2a3714aa601054e1f": {
          "model_module": "@jupyter-widgets/base",
          "model_name": "LayoutModel",
          "state": {
            "_view_name": "LayoutView",
            "grid_template_rows": null,
            "right": null,
            "justify_content": null,
            "_view_module": "@jupyter-widgets/base",
            "overflow": null,
            "_model_module_version": "1.2.0",
            "_view_count": null,
            "flex_flow": null,
            "width": null,
            "min_width": null,
            "border": null,
            "align_items": null,
            "bottom": null,
            "_model_module": "@jupyter-widgets/base",
            "top": null,
            "grid_column": null,
            "overflow_y": null,
            "overflow_x": null,
            "grid_auto_flow": null,
            "grid_area": null,
            "grid_template_columns": null,
            "flex": null,
            "_model_name": "LayoutModel",
            "justify_items": null,
            "grid_row": null,
            "max_height": null,
            "align_content": null,
            "visibility": null,
            "align_self": null,
            "height": null,
            "min_height": null,
            "padding": null,
            "grid_auto_rows": null,
            "grid_gap": null,
            "max_width": null,
            "order": null,
            "_view_module_version": "1.2.0",
            "grid_template_areas": null,
            "object_position": null,
            "object_fit": null,
            "grid_auto_columns": null,
            "margin": null,
            "display": null,
            "left": null
          }
        },
        "90a2ce8a89154916b3c4f0a62622dfb2": {
          "model_module": "@jupyter-widgets/output",
          "model_name": "OutputModel",
          "state": {
            "_view_name": "OutputView",
            "msg_id": "",
            "_dom_classes": [],
            "_model_name": "OutputModel",
            "outputs": [
              {
                "output_type": "stream",
                "metadata": {
                  "tags": []
                },
                "text": "Video available at https://youtube.com/watch?v=bDDRgAvQeFA\n",
                "stream": "stdout"
              },
              {
                "output_type": "display_data",
                "metadata": {
                  "tags": []
                },
                "text/html": "\n        <iframe\n            width=\"854\"\n            height=\"480\"\n            src=\"https://www.youtube.com/embed/bDDRgAvQeFA?fs=1&rel=0\"\n            frameborder=\"0\"\n            allowfullscreen\n        ></iframe>\n        ",
                "text/plain": "<IPython.lib.display.YouTubeVideo at 0x7f1a8d7c9c10>",
                "image/jpeg": "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\n"
              }
            ],
            "_view_module": "@jupyter-widgets/output",
            "_model_module_version": "1.0.0",
            "_view_count": null,
            "_view_module_version": "1.0.0",
            "layout": "IPY_MODEL_4d158d6e8d7e4ef79bbb20fa6af9b437",
            "_model_module": "@jupyter-widgets/output"
          }
        },
        "4e36ebd8600c46d989f46ea2a06d4fa1": {
          "model_module": "@jupyter-widgets/output",
          "model_name": "OutputModel",
          "state": {
            "_view_name": "OutputView",
            "msg_id": "",
            "_dom_classes": [],
            "_model_name": "OutputModel",
            "outputs": [
              {
                "output_type": "stream",
                "metadata": {
                  "tags": []
                },
                "text": "Video available at https://www.bilibili.com/video/BV1dX4y1F7Fq\n",
                "stream": "stdout"
              },
              {
                "output_type": "display_data",
                "metadata": {
                  "tags": []
                },
                "text/html": "\n        <iframe\n            width=\"854\"\n            height=\"480\"\n            src=\"https://player.bilibili.com/player.html?bvid=BV1dX4y1F7Fq&page=1?fs=1\"\n            frameborder=\"0\"\n            allowfullscreen\n        ></iframe>\n        ",
                "text/plain": "<__main__.BiliVideo at 0x7f1a8d770d90>"
              }
            ],
            "_view_module": "@jupyter-widgets/output",
            "_model_module_version": "1.0.0",
            "_view_count": null,
            "_view_module_version": "1.0.0",
            "layout": "IPY_MODEL_33519e360b2f4a3eae3287489e26f492",
            "_model_module": "@jupyter-widgets/output"
          }
        },
        "4d158d6e8d7e4ef79bbb20fa6af9b437": {
          "model_module": "@jupyter-widgets/base",
          "model_name": "LayoutModel",
          "state": {
            "_view_name": "LayoutView",
            "grid_template_rows": null,
            "right": null,
            "justify_content": null,
            "_view_module": "@jupyter-widgets/base",
            "overflow": null,
            "_model_module_version": "1.2.0",
            "_view_count": null,
            "flex_flow": null,
            "width": null,
            "min_width": null,
            "border": null,
            "align_items": null,
            "bottom": null,
            "_model_module": "@jupyter-widgets/base",
            "top": null,
            "grid_column": null,
            "overflow_y": null,
            "overflow_x": null,
            "grid_auto_flow": null,
            "grid_area": null,
            "grid_template_columns": null,
            "flex": null,
            "_model_name": "LayoutModel",
            "justify_items": null,
            "grid_row": null,
            "max_height": null,
            "align_content": null,
            "visibility": null,
            "align_self": null,
            "height": null,
            "min_height": null,
            "padding": null,
            "grid_auto_rows": null,
            "grid_gap": null,
            "max_width": null,
            "order": null,
            "_view_module_version": "1.2.0",
            "grid_template_areas": null,
            "object_position": null,
            "object_fit": null,
            "grid_auto_columns": null,
            "margin": null,
            "display": null,
            "left": null
          }
        },
        "33519e360b2f4a3eae3287489e26f492": {
          "model_module": "@jupyter-widgets/base",
          "model_name": "LayoutModel",
          "state": {
            "_view_name": "LayoutView",
            "grid_template_rows": null,
            "right": null,
            "justify_content": null,
            "_view_module": "@jupyter-widgets/base",
            "overflow": null,
            "_model_module_version": "1.2.0",
            "_view_count": null,
            "flex_flow": null,
            "width": null,
            "min_width": null,
            "border": null,
            "align_items": null,
            "bottom": null,
            "_model_module": "@jupyter-widgets/base",
            "top": null,
            "grid_column": null,
            "overflow_y": null,
            "overflow_x": null,
            "grid_auto_flow": null,
            "grid_area": null,
            "grid_template_columns": null,
            "flex": null,
            "_model_name": "LayoutModel",
            "justify_items": null,
            "grid_row": null,
            "max_height": null,
            "align_content": null,
            "visibility": null,
            "align_self": null,
            "height": null,
            "min_height": null,
            "padding": null,
            "grid_auto_rows": null,
            "grid_gap": null,
            "max_width": null,
            "order": null,
            "_view_module_version": "1.2.0",
            "grid_template_areas": null,
            "object_position": null,
            "object_fit": null,
            "grid_auto_columns": null,
            "margin": null,
            "display": null,
            "left": null
          }
        },
        "2c2aff34cde34aee9f95838c32cf7ac2": {
          "model_module": "@jupyter-widgets/controls",
          "model_name": "TabModel",
          "state": {
            "_view_name": "TabView",
            "_dom_classes": [],
            "_titles": {
              "0": "Youtube",
              "1": "Bilibili"
            },
            "_model_name": "TabModel",
            "_view_module": "@jupyter-widgets/controls",
            "selected_index": 0,
            "_model_module_version": "1.5.0",
            "_view_count": null,
            "_view_module_version": "1.5.0",
            "box_style": "",
            "layout": "IPY_MODEL_d91501ac64934ec79e48136f04c4808f",
            "_model_module": "@jupyter-widgets/controls",
            "children": [
              "IPY_MODEL_04f9fc790ff642628698816d2850dbd2",
              "IPY_MODEL_7d0b3468b8f24b2d8ac62f34efafd005"
            ]
          }
        },
        "d91501ac64934ec79e48136f04c4808f": {
          "model_module": "@jupyter-widgets/base",
          "model_name": "LayoutModel",
          "state": {
            "_view_name": "LayoutView",
            "grid_template_rows": null,
            "right": null,
            "justify_content": null,
            "_view_module": "@jupyter-widgets/base",
            "overflow": null,
            "_model_module_version": "1.2.0",
            "_view_count": null,
            "flex_flow": null,
            "width": null,
            "min_width": null,
            "border": null,
            "align_items": null,
            "bottom": null,
            "_model_module": "@jupyter-widgets/base",
            "top": null,
            "grid_column": null,
            "overflow_y": null,
            "overflow_x": null,
            "grid_auto_flow": null,
            "grid_area": null,
            "grid_template_columns": null,
            "flex": null,
            "_model_name": "LayoutModel",
            "justify_items": null,
            "grid_row": null,
            "max_height": null,
            "align_content": null,
            "visibility": null,
            "align_self": null,
            "height": null,
            "min_height": null,
            "padding": null,
            "grid_auto_rows": null,
            "grid_gap": null,
            "max_width": null,
            "order": null,
            "_view_module_version": "1.2.0",
            "grid_template_areas": null,
            "object_position": null,
            "object_fit": null,
            "grid_auto_columns": null,
            "margin": null,
            "display": null,
            "left": null
          }
        },
        "04f9fc790ff642628698816d2850dbd2": {
          "model_module": "@jupyter-widgets/output",
          "model_name": "OutputModel",
          "state": {
            "_view_name": "OutputView",
            "msg_id": "",
            "_dom_classes": [],
            "_model_name": "OutputModel",
            "outputs": [
              {
                "output_type": "stream",
                "metadata": {
                  "tags": []
                },
                "text": "Video available at https://youtube.com/watch?v=XOec560m61o\n",
                "stream": "stdout"
              },
              {
                "output_type": "display_data",
                "metadata": {
                  "tags": []
                },
                "text/html": "\n        <iframe\n            width=\"854\"\n            height=\"480\"\n            src=\"https://www.youtube.com/embed/XOec560m61o?fs=1&rel=0\"\n            frameborder=\"0\"\n            allowfullscreen\n        ></iframe>\n        ",
                "text/plain": "<IPython.lib.display.YouTubeVideo at 0x7f1a8d74a210>",
                "image/jpeg": "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\n"
              }
            ],
            "_view_module": "@jupyter-widgets/output",
            "_model_module_version": "1.0.0",
            "_view_count": null,
            "_view_module_version": "1.0.0",
            "layout": "IPY_MODEL_c9a488bc99e74365be6d05a2ad09af43",
            "_model_module": "@jupyter-widgets/output"
          }
        },
        "7d0b3468b8f24b2d8ac62f34efafd005": {
          "model_module": "@jupyter-widgets/output",
          "model_name": "OutputModel",
          "state": {
            "_view_name": "OutputView",
            "msg_id": "",
            "_dom_classes": [],
            "_model_name": "OutputModel",
            "outputs": [
              {
                "output_type": "stream",
                "metadata": {
                  "tags": []
                },
                "text": "Video available at https://www.bilibili.com/video/BV1o64y1s7M7\n",
                "stream": "stdout"
              },
              {
                "output_type": "display_data",
                "metadata": {
                  "tags": []
                },
                "text/html": "\n        <iframe\n            width=\"854\"\n            height=\"480\"\n            src=\"https://player.bilibili.com/player.html?bvid=BV1o64y1s7M7&page=1?fs=1\"\n            frameborder=\"0\"\n            allowfullscreen\n        ></iframe>\n        ",
                "text/plain": "<__main__.BiliVideo at 0x7f1a8d74aa10>"
              }
            ],
            "_view_module": "@jupyter-widgets/output",
            "_model_module_version": "1.0.0",
            "_view_count": null,
            "_view_module_version": "1.0.0",
            "layout": "IPY_MODEL_48da939602104e8d9d39f7b73295d65a",
            "_model_module": "@jupyter-widgets/output"
          }
        },
        "c9a488bc99e74365be6d05a2ad09af43": {
          "model_module": "@jupyter-widgets/base",
          "model_name": "LayoutModel",
          "state": {
            "_view_name": "LayoutView",
            "grid_template_rows": null,
            "right": null,
            "justify_content": null,
            "_view_module": "@jupyter-widgets/base",
            "overflow": null,
            "_model_module_version": "1.2.0",
            "_view_count": null,
            "flex_flow": null,
            "width": null,
            "min_width": null,
            "border": null,
            "align_items": null,
            "bottom": null,
            "_model_module": "@jupyter-widgets/base",
            "top": null,
            "grid_column": null,
            "overflow_y": null,
            "overflow_x": null,
            "grid_auto_flow": null,
            "grid_area": null,
            "grid_template_columns": null,
            "flex": null,
            "_model_name": "LayoutModel",
            "justify_items": null,
            "grid_row": null,
            "max_height": null,
            "align_content": null,
            "visibility": null,
            "align_self": null,
            "height": null,
            "min_height": null,
            "padding": null,
            "grid_auto_rows": null,
            "grid_gap": null,
            "max_width": null,
            "order": null,
            "_view_module_version": "1.2.0",
            "grid_template_areas": null,
            "object_position": null,
            "object_fit": null,
            "grid_auto_columns": null,
            "margin": null,
            "display": null,
            "left": null
          }
        },
        "48da939602104e8d9d39f7b73295d65a": {
          "model_module": "@jupyter-widgets/base",
          "model_name": "LayoutModel",
          "state": {
            "_view_name": "LayoutView",
            "grid_template_rows": null,
            "right": null,
            "justify_content": null,
            "_view_module": "@jupyter-widgets/base",
            "overflow": null,
            "_model_module_version": "1.2.0",
            "_view_count": null,
            "flex_flow": null,
            "width": null,
            "min_width": null,
            "border": null,
            "align_items": null,
            "bottom": null,
            "_model_module": "@jupyter-widgets/base",
            "top": null,
            "grid_column": null,
            "overflow_y": null,
            "overflow_x": null,
            "grid_auto_flow": null,
            "grid_area": null,
            "grid_template_columns": null,
            "flex": null,
            "_model_name": "LayoutModel",
            "justify_items": null,
            "grid_row": null,
            "max_height": null,
            "align_content": null,
            "visibility": null,
            "align_self": null,
            "height": null,
            "min_height": null,
            "padding": null,
            "grid_auto_rows": null,
            "grid_gap": null,
            "max_width": null,
            "order": null,
            "_view_module_version": "1.2.0",
            "grid_template_areas": null,
            "object_position": null,
            "object_fit": null,
            "grid_auto_columns": null,
            "margin": null,
            "display": null,
            "left": null
          }
        },
        "ad461bb4706542f386e0ec6409bb16d7": {
          "model_module": "@jupyter-widgets/controls",
          "model_name": "VBoxModel",
          "state": {
            "_view_name": "VBoxView",
            "_dom_classes": [
              "widget-interact"
            ],
            "_model_name": "VBoxModel",
            "_view_module": "@jupyter-widgets/controls",
            "_model_module_version": "1.5.0",
            "_view_count": null,
            "_view_module_version": "1.5.0",
            "box_style": "",
            "layout": "IPY_MODEL_1980490d57b944a881b47183a9d08b38",
            "_model_module": "@jupyter-widgets/controls",
            "children": [
              "IPY_MODEL_a3c66befbb0d46b78293fb24c5d6e6b2",
              "IPY_MODEL_bc6931e499774d599cd9f1ccda26530b"
            ]
          }
        },
        "1980490d57b944a881b47183a9d08b38": {
          "model_module": "@jupyter-widgets/base",
          "model_name": "LayoutModel",
          "state": {
            "_view_name": "LayoutView",
            "grid_template_rows": null,
            "right": null,
            "justify_content": null,
            "_view_module": "@jupyter-widgets/base",
            "overflow": null,
            "_model_module_version": "1.2.0",
            "_view_count": null,
            "flex_flow": null,
            "width": null,
            "min_width": null,
            "border": null,
            "align_items": null,
            "bottom": null,
            "_model_module": "@jupyter-widgets/base",
            "top": null,
            "grid_column": null,
            "overflow_y": null,
            "overflow_x": null,
            "grid_auto_flow": null,
            "grid_area": null,
            "grid_template_columns": null,
            "flex": null,
            "_model_name": "LayoutModel",
            "justify_items": null,
            "grid_row": null,
            "max_height": null,
            "align_content": null,
            "visibility": null,
            "align_self": null,
            "height": null,
            "min_height": null,
            "padding": null,
            "grid_auto_rows": null,
            "grid_gap": null,
            "max_width": null,
            "order": null,
            "_view_module_version": "1.2.0",
            "grid_template_areas": null,
            "object_position": null,
            "object_fit": null,
            "grid_auto_columns": null,
            "margin": null,
            "display": null,
            "left": null
          }
        },
        "a3c66befbb0d46b78293fb24c5d6e6b2": {
          "model_module": "@jupyter-widgets/controls",
          "model_name": "FloatSliderModel",
          "state": {
            "_view_name": "FloatSliderView",
            "style": "IPY_MODEL_ea9446e7031745439de51ae8bddd55b9",
            "_dom_classes": [],
            "description": "switch_prob",
            "step": 0.01,
            "_model_name": "FloatSliderModel",
            "orientation": "horizontal",
            "max": 1,
            "_view_module": "@jupyter-widgets/controls",
            "_model_module_version": "1.5.0",
            "value": 0.5,
            "_view_count": null,
            "disabled": false,
            "_view_module_version": "1.5.0",
            "min": 0,
            "continuous_update": true,
            "readout_format": ".2f",
            "description_tooltip": null,
            "readout": true,
            "_model_module": "@jupyter-widgets/controls",
            "layout": "IPY_MODEL_5b77cdaaaaaa44708e783a2d6d34e8c2"
          }
        },
        "bc6931e499774d599cd9f1ccda26530b": {
          "model_module": "@jupyter-widgets/output",
          "model_name": "OutputModel",
          "state": {
            "_view_name": "OutputView",
            "msg_id": "",
            "_dom_classes": [],
            "_model_name": "OutputModel",
            "outputs": [
              {
                "output_type": "display_data",
                "metadata": {
                  "tags": [],
                  "image/png": {
                    "width": 558,
                    "height": 413
                  },
                  "needs_background": "light"
                },
                "image/png": "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\n",
                "text/plain": "<Figure size 576x432 with 1 Axes>"
              }
            ],
            "_view_module": "@jupyter-widgets/output",
            "_model_module_version": "1.0.0",
            "_view_count": null,
            "_view_module_version": "1.0.0",
            "layout": "IPY_MODEL_af7d0a91a37b4fc797e76537b92fce5b",
            "_model_module": "@jupyter-widgets/output"
          }
        },
        "ea9446e7031745439de51ae8bddd55b9": {
          "model_module": "@jupyter-widgets/controls",
          "model_name": "SliderStyleModel",
          "state": {
            "_view_name": "StyleView",
            "handle_color": null,
            "_model_name": "SliderStyleModel",
            "description_width": "",
            "_view_module": "@jupyter-widgets/base",
            "_model_module_version": "1.5.0",
            "_view_count": null,
            "_view_module_version": "1.2.0",
            "_model_module": "@jupyter-widgets/controls"
          }
        },
        "5b77cdaaaaaa44708e783a2d6d34e8c2": {
          "model_module": "@jupyter-widgets/base",
          "model_name": "LayoutModel",
          "state": {
            "_view_name": "LayoutView",
            "grid_template_rows": null,
            "right": null,
            "justify_content": null,
            "_view_module": "@jupyter-widgets/base",
            "overflow": null,
            "_model_module_version": "1.2.0",
            "_view_count": null,
            "flex_flow": null,
            "width": null,
            "min_width": null,
            "border": null,
            "align_items": null,
            "bottom": null,
            "_model_module": "@jupyter-widgets/base",
            "top": null,
            "grid_column": null,
            "overflow_y": null,
            "overflow_x": null,
            "grid_auto_flow": null,
            "grid_area": null,
            "grid_template_columns": null,
            "flex": null,
            "_model_name": "LayoutModel",
            "justify_items": null,
            "grid_row": null,
            "max_height": null,
            "align_content": null,
            "visibility": null,
            "align_self": null,
            "height": null,
            "min_height": null,
            "padding": null,
            "grid_auto_rows": null,
            "grid_gap": null,
            "max_width": null,
            "order": null,
            "_view_module_version": "1.2.0",
            "grid_template_areas": null,
            "object_position": null,
            "object_fit": null,
            "grid_auto_columns": null,
            "margin": null,
            "display": null,
            "left": null
          }
        },
        "af7d0a91a37b4fc797e76537b92fce5b": {
          "model_module": "@jupyter-widgets/base",
          "model_name": "LayoutModel",
          "state": {
            "_view_name": "LayoutView",
            "grid_template_rows": null,
            "right": null,
            "justify_content": null,
            "_view_module": "@jupyter-widgets/base",
            "overflow": null,
            "_model_module_version": "1.2.0",
            "_view_count": null,
            "flex_flow": null,
            "width": null,
            "min_width": null,
            "border": null,
            "align_items": null,
            "bottom": null,
            "_model_module": "@jupyter-widgets/base",
            "top": null,
            "grid_column": null,
            "overflow_y": null,
            "overflow_x": null,
            "grid_auto_flow": null,
            "grid_area": null,
            "grid_template_columns": null,
            "flex": null,
            "_model_name": "LayoutModel",
            "justify_items": null,
            "grid_row": null,
            "max_height": null,
            "align_content": null,
            "visibility": null,
            "align_self": null,
            "height": null,
            "min_height": null,
            "padding": null,
            "grid_auto_rows": null,
            "grid_gap": null,
            "max_width": null,
            "order": null,
            "_view_module_version": "1.2.0",
            "grid_template_areas": null,
            "object_position": null,
            "object_fit": null,
            "grid_auto_columns": null,
            "margin": null,
            "display": null,
            "left": null
          }
        },
        "bb01062bced940cbb89e14912e966006": {
          "model_module": "@jupyter-widgets/controls",
          "model_name": "TabModel",
          "state": {
            "_view_name": "TabView",
            "_dom_classes": [],
            "_titles": {
              "0": "Youtube",
              "1": "Bilibili"
            },
            "_model_name": "TabModel",
            "_view_module": "@jupyter-widgets/controls",
            "selected_index": 0,
            "_model_module_version": "1.5.0",
            "_view_count": null,
            "_view_module_version": "1.5.0",
            "box_style": "",
            "layout": "IPY_MODEL_599262de7a674d288413618693878df5",
            "_model_module": "@jupyter-widgets/controls",
            "children": [
              "IPY_MODEL_56639302ccb74931aa1c9dfd22aa259a",
              "IPY_MODEL_7a9b2ef129ab4bae99e6ea7ced7a7666"
            ]
          }
        },
        "599262de7a674d288413618693878df5": {
          "model_module": "@jupyter-widgets/base",
          "model_name": "LayoutModel",
          "state": {
            "_view_name": "LayoutView",
            "grid_template_rows": null,
            "right": null,
            "justify_content": null,
            "_view_module": "@jupyter-widgets/base",
            "overflow": null,
            "_model_module_version": "1.2.0",
            "_view_count": null,
            "flex_flow": null,
            "width": null,
            "min_width": null,
            "border": null,
            "align_items": null,
            "bottom": null,
            "_model_module": "@jupyter-widgets/base",
            "top": null,
            "grid_column": null,
            "overflow_y": null,
            "overflow_x": null,
            "grid_auto_flow": null,
            "grid_area": null,
            "grid_template_columns": null,
            "flex": null,
            "_model_name": "LayoutModel",
            "justify_items": null,
            "grid_row": null,
            "max_height": null,
            "align_content": null,
            "visibility": null,
            "align_self": null,
            "height": null,
            "min_height": null,
            "padding": null,
            "grid_auto_rows": null,
            "grid_gap": null,
            "max_width": null,
            "order": null,
            "_view_module_version": "1.2.0",
            "grid_template_areas": null,
            "object_position": null,
            "object_fit": null,
            "grid_auto_columns": null,
            "margin": null,
            "display": null,
            "left": null
          }
        },
        "56639302ccb74931aa1c9dfd22aa259a": {
          "model_module": "@jupyter-widgets/output",
          "model_name": "OutputModel",
          "state": {
            "_view_name": "OutputView",
            "msg_id": "",
            "_dom_classes": [],
            "_model_name": "OutputModel",
            "outputs": [
              {
                "output_type": "stream",
                "metadata": {
                  "tags": []
                },
                "text": "Video available at https://youtube.com/watch?v=GRnlvxZ_ozk\n",
                "stream": "stdout"
              },
              {
                "output_type": "display_data",
                "metadata": {
                  "tags": []
                },
                "text/html": "\n        <iframe\n            width=\"854\"\n            height=\"480\"\n            src=\"https://www.youtube.com/embed/GRnlvxZ_ozk?fs=1&rel=0\"\n            frameborder=\"0\"\n            allowfullscreen\n        ></iframe>\n        ",
                "text/plain": "<IPython.lib.display.YouTubeVideo at 0x7f1a8d8c4950>",
                "image/jpeg": "/9j/4AAQSkZJRgABAQAAAQABAAD/2wCEAAUDBAgICAgICAgICAgICAoICAgKCwoICAgICAgICAgICAgIChALCAgOCggIDRYNDhERExMTCAsWGBYSGBASExIBBQUFCAcIDwkJDhIPEBASEhISEhISEhUVEhISEhISEhIVEhISEhISEhISEhISFRISEhISEhISEhISEhISEhISEv/AABEIAWgB4AMBIgACEQEDEQH/xAAdAAEAAgMBAQEBAAAAAAAAAAAABgcDBQgEAgEJ/8QAYRAAAQMDAQMHBQgMDAIGCAcAAQACAwQFERIGITEHExQiQVGRCBZSYdIjMlNxgZKh0RUYM0JUVXKTlLGy4iQ0NmJzdHWCs7TB8Dd2Q2ODtcLhCRclZITF1PE1RFaipMTT/8QAGwEBAQADAQEBAAAAAAAAAAAAAAECAwQFBgf/xAAyEQEAAgECBQIDBgYDAAAAAAAAAQIRAyEEEjFBUQVhEyJxBlKBkaHBgqKxsuHwIzJC/9oADAMBAAIRAxEAPwDjJERAREQEREBERAREQEREBERAREQEREBERAREQEREBERAREQEREBERAREQEREBERAREQEREBERAREQEREBERAREQEREBERAREQEREBERAREQEREBERAREQEREBERAREQEREBERAREQEREBERAREQEREBERAREQEREBERAREQEREBERAREQEREBERAREQEREBERAREQEREBFv/ADUqPTh8X+wnmpUenD4v9hBoEW/81Kj04fF/sJ5qVHpw+L/YQaBFv/NSo9OHxf7CealR6cPi/wBhBoEW/wDNSo9OHxf7CealR6cPi/2EGgRb/wA1Kj04fF/sJ5qVHpw+L/YQaBFv/NSo9OHxf7CealR6cPi/2EGgRb/zUqPTh8X+wnmpUenD4v8AYQaBFv8AzUqPTh8X+wnmpUenD4v9hBoEW/8ANSo9OHxf7CealR6cPi/2EGgRb/zUqPTh8X+wnmpUenD4v9hBoEW/81Kj04fF/sJ5qVHpw+L/AGEGgRb/AM1Kj04fF/sJ5qVHpw+L/YQaBFv/ADUqPTh8X+wnmpUenD4v9hBoEW/81Kj04fF/sJ5qVHpw+L/YQaBFv/NSo9OHxf7CealR6cPi/wBhBoEW/wDNSo9OHxf7CealR6cPi/2EGgRb/wA1Kj04fF/sJ5qVHpw+L/YQaBFv/NSo9OHxf7CealR6cPi/2EGgRb/zUqPTh8X+wnmpUenD4v8AYQaBFv8AzUqPTh8X+wnmpUenD4v9hBoEW/8ANSo9OHxf7CealR6cPi/2EGgRb/zUqPTh8X+wnmpUenD4v9hBoEW/81Kj04fF/sJ5qVHpw+L/AGEGgRb/AM1Kj04fF/sJ5qVHpw+L/YQaBFv/ADUqPTh8X+wnmpUenD4v9hBoEW/81Kj04fF/sJ5qVHpw+L/YQaBFv/NSo9OHxf7CealR6cPi/wBhBoEW/wDNSo9OHxf7CealR6cPi/2EGgRb/wA1Kj04fF/sJ5qVHpw+L/YQaBFv/NSo9OHxf7CealR6cPi/2EEzREWTEREQEREBERAREQEREBERAREQEREBERAREQEREBERAREQEREBERAREQEREBERAREQEREBERAREQEREBERAREQEREBERAREQEREBERARFGpdqw1zm8weqSPf8AccegoqSoov53D8HP5z9xPO4fg5/OfuIYShFF/O4fg5/OfuJ53D8HP5z9xDCUIov53D8HP5z9xPO4fg5/OfuIYShFF/O4fg5/OfuJ53D8HP5z9xDCUIov53D8HP5z9xPO4fg5/OfuIYShFF/O4fg5/OfuJ53D8HP5z9xDCUIov53D8HP5z9xPO4fg5/OfuIYShFF/O4fg5/OfuJ53D8HP5z9xDCUIov53D8HP5z9xPO4fg5/OfuIYShFF/O4fg5/OfuJ53D8HP5z9xDCUIov53D8HP5z9xPO4fg5/OfuIYShFF/O4fg5/OfuJ53D8HP5z9xDCUIov53D8HP5z9xPO4fg5/OfuIYShFF/O4fg5/OfuJ53D8HP5z9xDCUIov53D8HP5z9xPO4fg5/OfuIYShFHKPagSSRx8wRre1mdecanBucaN/FSNAREVQREQEREBERAREQEREBERAREQEREBERAREQEREBERACrKr+6P/Ld+0VZoVZVf3R/5bv2ipKwxIiKKIiICIiAiIgIiICIiAiIgIiICIiAiIgIiICIiAiIgIiICIiD12f8AjNP/AE8f+I1WOq4s/wDGaf8Ap4/8RqsdWEkREVQREQEREBERARF8vka33zgN+N5A392/tQfSLHHMxxw17XEcQCCR8gWRAREQEREBERAREQEREBERAREQAqyq/uj/AMt37RVmhVlV/dH/AJbv2ipKwm/JryXV1+t9+uVJPSRQ7PUYraxkzpWyyxGCsn00wjic10mmikGHloy5u/jiBrqnyHLRNcLFyhUFPp6RXWmno4NZ0M56po77DFrf963W9uT2BRb7UXa/utf6W32FFQDlb5J6/ZqntFRWz0czLzTOqqZtO6Vzo2MZTPIn56FgDsVTPel3vXerPm5RuTSssdBY7hU1NHNFf6PptLHA+R8sEfM0k+iqbJE1rJNNZGMNLhlj9+4Zvjy/6KSmo9iqaXAlp7bUwSAHU0SRRWqN+l33w1NO9V35RHJ9a7PY9iK6ghfFU3uz9MuL3SySiWfodqm1NZI4iIa6qY4bgdYdwQUmrX2c5L6Wq2Fu+1bqmobV266R0EdMAzo8kb3WsF7yW6w/+HycDjqN9asKu2B2S2Ns1qqNqrfWXu9XmHpTbfFUSUUNBBpY4te+CRjjIOdY0k6w57XgABpJlN4NgdyU7STbOCtjoZ71Tyy0lZgz0NX0myRyUrZWkieHRHDI1+pxxOATqa4AOPVa/kxcl9LtZdK2gq6mopY6a1y17XwBhe6SKopIQx3ONI0YqHHdvyApLyK8mdki2drNsdqm1M9shn6JQW2neYZK+bU2IvdKx7XCPnHOYA1zSOYlccgAOuPyRq/Y6tu9wqdnqG42avZZaiKe2zyuraOalfVUbjVQVUj3yNmZJHExzHloInaWg6XEBxAitXybeS+HaOurJLhUOo7LZ6R1fdappaHNhYHObCxzgebc5sczy/SQG08naW5s3YfZXYPbV1fZ7FabhYrtDSSVdurJqqSpjquZcxmiqhlnkZESZGEtYNw1kO6uHBy6iu/yO+Tm27RX+ut14p5JYqe0z1LYhJLTPjqoq2ggBcYiHbmzygtPfw3Kd8nmzHJnJdKbZV8FyvNymc+lkv7JpKehNc2NxeKOKGoaHU4exzGvdHICdJzI060HKqtzkq5BbhtDaZr1Fc7Nb6KCrdRyPr55qbTI1tOQS9tO6NrXGpjaMuyScY4KG8rmyf2CvlztIkMraGrfFFKcanwnD4HPwABIYnsyBuznCvbYn/gxtJ/bkP8AnLCg0DPJPv08csluuuzd1dG3VzNHXPkmfu4AvpmxNJO7L3tG8bwqO2istXbqqehrqeWlq6Z5jngkGmSNwAIyO1pBDg4ZDg5pBIIK/dmr5V22rp6+gnkpaulkEsE8Zw9jxu4Hc5pBLS1wLXNc4EEEhdjeUTQ2S6XPk9v11pM0W0VK2muLWyup3tZVU9JNQSufG8ENgkr5HOdknRGG79yDihFZnlHcnB2e2nrLVSxSmmldHUWxu+WSSmqx7nGzi+Qsm52AZ6zjB25yZ9yqcmFjs962L2bbC6S4VT6DzkmE0rmyurqqnpzDAA/TAOrVnqgHS+E545DnVF1nyrbD8nGx92qI7nT191dU8y+kstLPI1tupOjwtfLWVJqI5HzyztqHtZzm5jmdUAhxrryteTK12CrtdXZTK22Xuh6ZT08rnSOpy3mi4NkkJeYnMnhcA8ucCX7yMYCkUV5bO7Q8mlFT0UFVs/ebxUGCE3CtfVvpQyofGx1S2jgp6iISxMe57WiQMJDBkn3x1vla8mlFsxfo6W2ulNDW0EVwgZIdboBLNUQugEh60jAYNQLt+JACSQSQp9F15ymcl+wGzdNZ7pdI617aq3xuZZqaeR09yq5GRPlqJZZZQaakiDx7xzMukGM6dLsO1vJRsCbXads2TV1q2enif0i0Ne6ora6ra9zIaKiknlc6OUyRVLZCZCNEIIMXWkAckqb2Xk1q6vZy5bTMqKNtHbKqOkmpnvkFbI+WSjja+GMRGN0ea2PeXg9R+7cM29yg7EbH3bYqt2q2ZoKy0SWmvjo6mmnmlqRUc7NRwnPPTy6SBXQPDmFo6sjS07iIpsbsBa6nk72i2hmhe66W+6U9LSziSRrGQyz2hj2mFrubedNXPvcCesO4IKVRX/5PvJFaKmy3Da7amaeOx29zo4aWA6Jq6ZhYx2XjBDDLLHCxrHNLpHHLmBnW0HKHtNsDVW2ris2zVxtdzzF0KqfWS1UJDaiIzdJjnqnBhdAJQA1rsOc3f2oKfRdMbOcn+y9i2Otm01/tNdtBNdpSBFT1E1LSUEZfM2ISTUz2OEjhGM69XXcWjGnLqU5VbhYamubLs9QVVtoTTxh9LUyGd7aoOk51zJXSvc6ItMeMkHIduCCO2f8AjNP/AE8f+I1WOq4s/wDGaf8Ap4/8RqsdWEkREVQREQEREArW3W8RwEsHukgxqDcFrAcHe8HBdjsHxccrw7QXB+swsDtLd0hbxJ7tQ4DeN3b6shaWloZZcMDH4984BvZ74EdgGMbzgcVvppYjMsJt4eiSslmL3c+9jSNzdwJaN7sAHAAbvxxJOFgDad7t7puaydbzjXq6uSIwcEZO4E53HesVXFI1wDmlpxpaMFriDkDIO8uOfDwQ0s0bGyc3JoeRhxYcEneC0kY3gjxCymYjsmJeeUaQBqw7JIO/IxjGHDv7l+NqntIIkeHd+oj6Qd6yVNNKCA6KRp3ZDmlp7uGBxKxSUso4xubjjkEYzkjj2fUVqt7M4b617SPbhs7S8djxgPx25BOHfQpFQ1sczdUbsgcQQWkfGCq/6M9rgJGln5QLcA9u/s+JeyhqZIn8407xu9Rb3FvokYP096x5dsqniLwWW5sqWkgEObjU09meBHqOD4L3rBRERVBERAREQEREBERACrKr+6P/AC3ftFWaFWVX90f+W79oqSsOlPJB/krynf8AL7f+7toFzMpDstttdLXTXGjoKx9NTXaDo1xia2NwqoBHPFzbzIwuaNFTOOqQfdD3DEeUV1N5dI/9l7B/2PN/l7Stf5Xv8mOTL/l3/wCX2JUbtnt3drzHRRXOtkq47dEYKJrmxtEETmxNcxvNsaXAiGIZdk9QL42p21ul0p7fSV9W+pp7VB0a3xObG1tNBzcMXNsMbAXDRTwjLiT7mPWg6b8uLZavvj9nr9Z6SquNvqrUyFvRYpKnmi57qmFz44WlzBIyowCRxhxuOM4RsXcLHyQX6C5w9Gqau7UtcKZx93ghmqbJFGyqj4wTkQF/NnrBsjM4JLRRWwPLTtRYqXoVqu89NSanObTujgqY4y8lz+ZFXE/mAXFziGaQXOceJJWtunKbfqqjr6CpudRPS3OqFbXxS6JDU1Lejhkj5XNMg0ikpgGtcGgQtAAG5B0DS2Oo2g5IKCltTJKqrst3mmq6SAGSeQdKuDywRM60hENyglwATiPdwWx8g7k6vNvuFzu1fRTUNLLaJ6KBtS11PU1Erqijnc+GmlaJHU7GxYdIQG6pWAautp5n5OuUK9bPTSz2a4TUMkzQyYNDJIpgwks52nnY6KRzdT9LnNJbrfgjUc76o5c9rJK83J96qTWGlfRCTTAGMpppIpZYoqcRczCHvghJLGgnmm5O5BcP/o+741km01qhmghulzt8UtsM7dcL56Jle0h8eRzwaayJ5jByWRyngCR+1HLnylU1a+iNhibWxuMZhjtM75SQdJ5swuPOxnG5zCWuBBBIIK5et1bNTSxz08ssE8LxJFNE90UsUjTlskcjCHMeDvBBBCtN3lJ7bmHmPs/Poxp1CCjE2MY/jApudz69WUFj+QNNLJtje5KhuieSy1z52adGiZ10tjpG6D73Di4Y7MKqfJZ/lls9/aDP2HqL7F7d3ezVc1fbK6WlrKiJ8E9QAySSSKWWOaVrjM1wJdJFG4njlvHitZs3e6q21cFdRTOp6umkEsEzQ1zo3gEBwDwWncTxBQWH5W/8tdoP62z/ACsCtbkzttTWcj20NPSU89VUSXyPm4II3zzP0VVie7RFEC52Gtc44G4NJ7FzPtPfau51c9fXzOqKupcHzzODWukcGtYCQwBo6rWjcBwUn2E5XNo7FSuo7TdJqKmdM6odExkDwZntYx78yxOdktjYOOOqg2nJ9yE7T3ithpG2i4UcT3tE1ZV001LTU8WoB8rnztaJHNBJ5thLnY3BT3y4tr7fUV1o2ftb2S0ezNE6jMsbg5gqHtp4n0wLBpdzMVHTtJB3PfI3ALDmuNpOW/a24wmCqv1wdC7IfHG8UokaQWlknRWsMjCCctdkHuVeIP6B7CWyh2yotjdsa6aNs2zjKgXgyYzLLQxFzJZXN3M0VMMVWBw0VL92/dylQbXyX7lAoLvIHDpu01vkjY7GqOnZX00VLC7ScFzII4mZHoKd0u0lLs7yZSUFLcqae77T1hfVUsFTDPLb6GRjGyCaGN7uZMlNTRscHAO/hpB3x7ueLRcJqSogqqd5iqKaaOoglGCY5oXtkikAcCCWva07wRuQW55bX8u77/8AAf8Ac9vVg+WLStno+TuB0jYWzWhkTpne8ibJFamGR+8dVoOTvHBc3bX7SV13rZrhcah1VW1Gjnp3BjXP5mKOCPLY2taMRxMbuH3q9m2G291u8dFDcqx9VHboej0TXNjaIIdMbdDebYC4YijGXZPVQdWcr9tuGyddQWHY3ZKmmZJSRvdd5bebtW1lQ+SRsjX1krDHGGFoc5rtzecBAjZpCif/AKRmlmbfLPM+NwY+ysiD8YYZoqyqdLG0jq6miaMkDgHt71VEfL3tg2gFsbfqxtI2LmWgCEVIjA0horhF0oYG7POZxuWmvvKhfq6001iq7g+e1UfNdGpXRwe5CnY6OBonbEJnNYxxaA55AGBwAQXf5eX3LY3+xD+zSLzcqP8Awi2O/tif/FvqorbTbi63kUgudZJVihh6PSB7Y28zD1RobzTG5HUbvOTuXzcttbpU2ulss1Y+S10Mrp6WkLYwyGVxmLntc1ge45qJvfOP3Q+pBenJ1/we2u/t2m/zOzq+eTn/AIQbX/25Sf5nZ9UZQbaXSC1VVkiq3stVbM2oqqMNjLJpmOge2QvLOcaQaWA7nD7mPXlQbaXOC1VVkhq3stdbM2oqqMNjLJpo3QPY8vLNbSHU0B6rh9zHryHTPJdSP2m5KbjYrYBJdbVWc8+jBAlnjNaLgxzWg5OuN07GZ98+lLfWuZKzYu8QQ1FTPa7jBT0mnpM8tNPFFAXyshYJZJGBrHGSRjQCckuC+Ni9rLlZattda6yaiqmtLOdiONUbiC6ORjgWSxEtaSx4LcsacZAUr265cNqr5SPoLpd5Kmjl0c7TiGlp2Sc1IyWPnOiwML8PjY7eeLQgnXIzyj7ZbK0tNTi0VNzsNwAngo6inmmp5o6nrP6BVRNcIzJkkx9dupziY9TnE5vLa2JtNrrLPWW2jFqku9A6qrLSA2MUcrTDpPMRnRTuPOyRljMM1UrtI45gux/L1tdaaSKhoL1NFSws5uGF8VLUiKMcGRuqoHuYwdgBwOxQna3aSvu1VJXXKrmraqX380ztTtIzpY0cI4xk4Y0Bo7AEHks/8Zp/6eP/ABGqx1XFn/jNP/Tx/wCI1WOrCSIiKoIiIC1W0lXzcYALtbnYDW8SCDkjceGPpW1WOstAnkgdE7UWAmTXlrRmMkgffYbg7xj3pxvIW3RpzWYaluWMtTszY56+WmooQekTTMiLRxfqcxznteAAWhrdRzuxqOSuvNjOSOgoqdjTA18zm+7SOcXF7yMENJG6MDcB3AKFeSps0HVtxr5WOD6dwpoQ4AHnJgTPNgdjmNjwDw1vXSkEHaVr4vVnm5Y6Q7eB0YmvNMdVW1PJNbnzvnkha4yBuoaQCQxuAC4byN7j2HL3eoD11PJxbnRtZzLQG5x2AavfAtI0uYQBuIxuHcrPMIx/v6V5aqJoC45mXpRWsdoUpdOS2g1RaWYcw7j2luc47sDA49wWm2g5Obc6EsMI4HrN6pJ4E9XeHFXHco8HO4/77VEL8c5HYe7sWvnnyy+FWe0KBvGw8McckGDJT5yGE5c0d8buIPb8fxqpr5s6+lldE12phy5khzjm8EjnMDq8CMjd9K6cukAAkc7gASfDBVG7cSCOqgdlwB1jAI4HBIAd1XZGd3bw7V3cNbM4l5fGacV3hDNlpjHUBm7TIC0/HjUD8mPpUxUXZHGx0TmA870oxsJ3ZiYW41D714YQMgbxx7FKFneMThyxOYERFiCIiAiIgIiICIiAFWVX90f+W79oqzQqyq/uj/y3ftFSVhiREUUREQEREBERAU2h5I9qnta9mzl7cx7Q5rhQ1Ja5rgC1wIi3gggqEq3ORLlH2hl2j2cpZL9epKaS9WynfTvr6t8D4HV1PG6B8LptDoSwlpYRgg4xhBHP/U9tZ/8Apu+foNV//koMugPKp5Q9oKLbC901HfbxSU0U8Iip4K6rghiBo6ZxEcUUoYwFznHcOJKhl75NIafYq27VCqldPXXZ9tdSFjRFGxja53OtkB1F38EbuI+/PcgrJFZtNyZwv2Km2q6VKJ4ruLaKTQ3miwsidzpkzq1e6HdjsV3XvYLYQbDWCpnuMlJBNXzAXuK2h1xrJg6uElJUaW86II3Ne0Ekgimj9SDkRFbnJJySUtyt9w2gvNzNp2dt0wpzUtiM9XW1DiwNgpYB70+6xZeQ4ZeBggPczZbT8kForLLW37ZG8T3OntWk3W31cHR6+lifqIqWlmGyRaWudjSBiKUhxLC0BSK2ezmz1fcpJIrfR1NbLFC6oljp4nzvjgjcxr5ntiaS2MOewFx3AvHerj5MuQygumy52lrb2LVTwV8kNdJLEJIYKSFrcyRNYecqKp8j4o2RN3udKMZO47XkU2SoajaW80uyu0VxgoYdm56kXAQtZU1IbLQCoo5Ip42aYTI8HIGfcm7zvQc6IptyWWGwVZqpr/epbVT03NCKGClfWVde6YT6mQlp004j5ppL3gt90aNxIUx5WuSe00lgo9p9nbpU3G11FZ0CeKqhENVTVGmV2pxYA0szFpI0jBfGQXB3VCBXfYG40tkt+0EzIhbrnPLT0rxI10rpKeSeKQPiG9g1U8u89w71FV0Tylf8KNi/7VuP+du652QEREBERAREQEREHrs/8Zp/6eP/ABGqx1XFn/jNP/Tx/wCI1WOrCSIiKoIiICm1liijjppNABnLwHOA3BsONUZG9rsOkYCf5/bxhKlFXXmlth6rXucRE3Ooua5zIZmuac4DWgOGngSd+N2erhP+0/Rp1+joTyc2Ri1lzManzc5KQScyFjAcl2/cA0f3VbkR4KkfJxmZT7M01TK5jBNJLIXHqtaeffG0Adgy12Ap0eUCgi1c5Loaw41uIaDuDiQD1g3jvI7D3Lz9WJteZjy9jh5imnGfCbvOBuWvqXkkjs7/APyUctfKTZ61/N09fTSSZA0NeCTnhgd29b01bcB/3ueK02jHV2UmLRmGuurCGn1f7+RQy7t457+P+/lUs2mvlHAwOnqIotXpua3JOQOJVa7RbaW6R7xFVRvDAGlrCHaXDJJJbvwQW/R3rDkmVnUrXaZajbKTTE5o+/wO/Pf8u/6FQnKW9vOQRnscQR8Y3Y/nA8PDtVpXXaeCpMeiQHBOWk4cARuOO0Z7VTfK20tqo3NPHO87wHtwcDxXXw8Ynd5vGTzRs1wla59OSMYMZJxnLS5zYz3bhpGf5g7lIlFrZWDpujGtjgY4xnqx7teWnubqk3ev5VKV0as/M4axiBERa1EREBERAREQEREAKsqv7o/8t37RVmhVlV/dH/lu/aKkrDEiIooiIgIiICIiApnyE/yq2a/5gtf/AHjTKGLPQVctPLFPBLJDPDI2WGaNzo5YpY3B8csUjCHRyNcA4OBBBAIQWn5YP8t7/wD1iD/I0qsJ9grbvyS2iC10lRcaik2llkqKeljdUzxMLLk3JhiBef43THABOJmnhvXN95ulTWzyVVZUT1dTKQZaieR888ha0MaZJZXF7yGtaN54NA7FuNjNvL1ZhKLVc62gbOPdmQSvjjkO4B7owdJkAGA/GoAnBGSg6L2y2LrbDyUS0dxEcdZJfoaqama5r5KTn2RGKCp0Ehk5ibHIW8QJ2Z3rV36x1ly5JtmWW+lqK6SlvlWaiKmjfUywh8920ukjhaXNb7rEMkf9Kz0gufa7au6TwTU09yr5qaoqDVz08lTPJBPVOxqqZonvLJKg4HujgXbhvXu2M5Qb3ZmSx2q6VtBHMdUscErmRvfgN5wx50iXDQNYGrAAygvLZygm2h5K3W20tkqLhYr50ytoYQZKmemmFTzcjYGHXIzFUXDccmikwCWrNyB2OssGyO3dyvNPPbqa4Wk2uiZVRvp31lXNT1sLRFDIGyPYH1UTdYGOtJg9R+OdNmNoq+11AqrdWVNDUtGnnqeV8EhYXNcY3OjI1xktbljstOBkFe/bPbq83osN1udbXiM5jZPK+SOMkYLo4idEbiOJABPagutv/B4/8z/+ELD5Bf8A+N3z/lSv/wA3bVRP2fr+h/Y7ptX9j+d57oPPS9D574Xourmud/nacr8sF+rrfI+WgrKuhllidBJJTTS00kkDy1z4Xvhc0vic5jCWncSxvcEF7eTvsHRybMXzab7DDaS62+rZR0FoeJZYGBzKYvrJqSnOusaBVPPNkEYpnYweu2wOVOhutRyXufV2Gns9Q28sq5LfQ0ZoY4KNrXjpU1G0ufBnfqdJg4DSd2CuV9i9tLtZZJJbVcKqgfK0NlMEjoxK1urSJWA6ZNOpxGoHGo4wvXDyjX5jLgwXi4lt1aW3EOqJJDWAx8yefdI4l5MXuZOc6QG8NyC3+Ur/AIUbF/2rcf8AO3dc7LZVN+rpaSGglrauShpnukp6J80r6Snke57nvhpnO5uJ7nSSEloBJkd3la1AREQEREBERAREQeuz/wAZp/6eP/EarHVcWf8AjNP/AE8f+I1WOrCSIiKoIiIHxb/V3rfcptPNbdFDLEWyU5PNnOp87nsdFK1w34aHn73cNDQN+9aajnMUkcoAcYpGSBp4OMbw8NPqOMfKuseUTZKiv9iNXTxNmmINfRSZEcrmzfwh0bHekY5C0s7SwjcQCLTVml48T1bqaEatLeYxj9ctDyU2bGytrpn5cWQOk3drnzSO6u7+dx7lGdo37PQGRj6aWvnYQKgNkeyCBzydL6iRxLImEtO84JDcgEYVo8kzWy2S3ad7TRsb/O3ZBz3FbB+xtMN0TI2AnJBZkZJyXZa4FxLt+T2rnm3zTnpl21pM0jHXDnbY6gtVW+GoprTLSNqD7jLzpcXHqka42kkHrtwXD77ir9vkjqOxSHeJGA6f7mVmj2PaxweHHAPvgNDcDgA0Ek/G4lYOVoaLJJjPoZ9RcM/FxWmYiZdWnE1j/CiL5TQ3Tmp691VM+oOinpKd2h2M6A5z8AZJz25Wpr6TZume6kfFcaeqhBEgzJM2AtfJCBUGNp5oh0b9z8ZGDwcFPuTCNvNmIvIaXFw37gSd4IO4g/WpVtBs4ybDtERcBjVpwcfIcHP1LKMV65/NptWb4mMe+yg4NnIpZedpJNbAC5jgScjtAwdw9XDf68qE8q8Twad3cXsPfkhu/HyFdIWrZ5lPLIWtG8EE4wCXHecDcPkVIcrNu54aImkvEz+bxvcdIJIHyZWzTv8AM0auliiCbNWmVmiskBEIJa0tLdTnFpxuP3m/f2qVr0OfHPa2MjYyN7Obk0D3uciJ+ABww/PyLA7ifjWyLZn2w062lFKV85nP6PxERZuUREQEREBERAREQAqyq/uj/wAt37RVmhVlV/dH/lu/aKkrDEiIooiIgIiICIiAiIgIiICIiAiIgIiICIiAiIgIiICIiAiIgIiIPXZ/4zT/ANPH/iNVjquLN/Gaf+nj/wARqsdWEkREVQREQF1N5L1xFbYn0TsukoKqSNoyciOf+FQnd96XOqG/9kBwXLKt7yV9q6a3XWphq5mww19M2Nj3uDIukwyh8LXvO5hLXzNBON5A7QsLxmHRw1+W8fk6NoI46eWWKJjYow4PEbRhrNbWvcAOwa3OOPWtwyRhHZhRKqvdLU1U76SojnZG8QyuicHtbM2Nj3Rlzd2QHNPHtXuFUAwZyc5DGj3zz2k9zQtF47u/Rt80xPZtJ6lriWNIJ7QN5A7z3f8AmFH+UuAOtEof70FxPfuHYvS6IBg0F0by4PdIw9ckEHGcEFuAARjeFFOVPbJ9PRTxviBHN6Yt2WOcd3ZnBHcVOWe7pm9c7Ks2NrRTzsZKOb54hsTnEaXk72h3okjgVbdvm6pDsY4AdvDh4/6Lme0Ulxrpdcj3ujEjX7xzbQWOy0RNAy1o9ZJzjf2LoCy3Nr4RqaWSNaAc7wTjGT3LHVrMSmhauOrzbWXJkQPZqaW54b8erj/5hUncS2SU9uC54PbnJxg9m4Ka8pdbjLDnLcn8niP9R9CrZ9UGNL3v0gvjj1YJ9/IBvA9RdvWyldsuPVvM25WipqSSASGRuh8xL9HDm43vLmtII3O1B3yM9YRbC+VTZJOocgcXcNRwBuHogAeJWvW6lcQ5OJ1OewiIs3OIiICIiAiIgIiIC+OZZ6DfAfUvtFFY+ZZ6DfAfUptyJbBwbQ3eO2SyupmPgmm52NjHvBha0hul+7Byoari8jn+VdP/AFKr/YYgs77US3fjer/R6dPtRLd+N6v9Hp10siiuaftRLd+N6v8AR6dPtRLd+N6v9Hp10siDmn7US3fjer/R6dPtRLd+N6v9Hp10siDmn7US3fjer/R6dPtRLd+N6v8AR6ddLIg5p+1Et343q/0enT7US3fjer/R6ddLIg5p+1Et343q/wBHp0+1Et343q/0enXSyIOaftRLd+N6v9Hp0+1Et343q/0enXSyIOaftRLd+N6v9Hp0+1Et343q/wBHp10svDPeKSOpion1VMysnY6SCkdLG2pmjYHF74oC7nJGNDXZLQQNJ7kHO/2olu/G9X+j06faiW78b1f6PTrpZEHNP2olu/G9X+j06faiW78b1f6PTrpZEHNP2olu/G9X+j06faiW78b1f6PTrpZEHNP2olu/G9X+j06faiW78b1f6PTrpZEHNP2olu/G9X+j06faiW78b1f6PTrpZEHIXKp5NlDZbPXXSO41E76OJsjYnwwtY8uljjw5zd4GHk7u5c5cyz0G+A+pf0D8pr+Sd6/q7P8AMwLgBVJfAiaPvW+AX2iKgiIiCIiAiIgt3yb7oGvr6MkddkdVGOG+N3My49ZEkXzfUrtqZXhrZI8OOkMGeGQc4J7Ady5N2Lvht1dT1YBc2NxErBxfBI0xzNHe7Q4ketrV1Dba0SMY6N4fG/RLE8HLJI3tDmPH80ggrC1curQvHSXoN5qYiI6mgqRkAtmh0TxODu4NPONI7Q5o+Ub1qb/fqANd0hlbncBEaWV/y5DNI4YycYyptDWCSE5a15Azp++3drT2KOXfaiUkxmA8NALnD3oIPaOO7/RYZjGJzl6unXSmN1RXjaWDUWU9HcJHO961tOYwSN4HOSFrMfKtnsZHXy846pxTtfjm4tQkc1hbkuke3qh28jS0kbuK2NSyWqnLjGIadm6Q8ZJcf9G3HvWE9y0t/wBoxDIXNOBG3SGjHDHV3Y+L/wAlj16NWt8Os7I7ys1LTViOI5aGdYjw3+vq/SFCbkA2Fjcb3P1d/vQ4fIestrVyOmlMj97ndYnuBG75Mf73LW39o0wEcC12/sJyN4+TC2V2xDztSZtmWpREWxzCIiAiIgIiICIiAiIgIiICuLyOf5V0/wDUqv8AYYqdVxeRz/Kun/qVX+wxRXciIiiiIiAue/KhttxslZQbcWczSG2OEV8tzXvEFbbpPcjM6Np062NeWF5a7SDDJuEC6EVUeUttnJQ26O0W+FtXe9o3PtVspC1sjQJ2GOqrKiOQFhpYY35JcHNy9moaA8gITe9q28oN2obLZamUbOUUVPdtoq2F8lPLO6dnO0FmZJEQ+N5IdzgBBBZIMtfBh1rcovKHTWJ1NT/Y673OpqGOfDRWqjdWythicxjpHgObHDE0vaOs4duBuVF+T6yfYHaKTYy6SRyUF6DK+z3PRzLJ68xRQTUric4c/mtAaX5DoocD+EBWjt5yhXV+0cOytgioGVv2P+yldcLhzslPTUnPCAMgpad7H1NSXOYd72tAcOPWLQ3nJPyr27aN9bT08FwoK63OY2tt1xg6JWwCUO5t7ow9zS06Hffahu1Bupudbtry2263XGW001uvd9r6aMSVsFno+nmha8BzBVOMjAx7gRhrdXccEgKu+Q6Gsj5SNsWXCpgrKwWy3c9UQQmjheejUBYG07ppSzSwsacvOS0ndnA9/kXyMc7bPndH2S87K11aN3PBjj7jzg99o54VuM9ok9aCw+THlgtG0VbX0FuFYZbdHC+pdPD0dgdON8IbI7nWzRvD43texuHRuxkYJgXltF5t+zsLZZomVO1NFTTGGR8D3QzQVbJGc5GQ4Ag/QF8cjdbBUco+3slPLFNHzFqjL43NeznYKOGCdmphxrZNHIxw4hzHA7wVj8uandLbtmomyvhdJtZQRtmjwJInPgrGiWMndraTqGe0BBDvKO2WdsNDab1s3c7xHVPu0NI62S1tRW01fG+GeVzXU8pc6Q5hYwg5Huoxh2nNyiptfn6Yueuv2Y829fMaovsL0Hpobzuj7t0/nN2fe6V5tnOQe3xXKnu90uV42hrqNwfROulQJ6eikBBEtNTRxtYyQFrXb8gOa1wAcA5aNv8AxZP/ACV/80CDS2zyi6vzlvlBNY75Pb6GKAUlLSWyWW6RyOiiMstdHz3Uge5zzG7ADmPjPatrygf8UdkP7GuX+BXLHyYvH/rQ24bkajb7SQO0htvt4cQO4FzfnBR/ykKe6y7c2KOxyxQXZ+zt0bRSSjLGymGszpOoBkpZrDHuy1rywuBAIQXda+Uigq77U2CjZVVdVQwiW4VMLGOoKBz9Wimqal0g/hTiMCNjXH33Dm5NGm5QOWi2Wm4fYiKlut6uzYxNNbrRSmvqaWB4aWS1XXYyFpD4zjUXASxkgB7SYv5Gt2tZsr7bTwSUd6oJnDaGlqSTXvubnFs9bM541yMkcwgE+806D73J1nkt4btLyiMqci5fZ/W7XnWbe6WsNAWauMOg7scGujz96gsbYjlbtl3prjLTRV8dZao3yV9nqYOi3eAsjfI2N1LK8NL36C0YfpyQCQvbs/yl2uu2eO08Tpm2xtJU1j9bA2oZHRGZs7DEHEGUOgkaGhxycYO8KrQ5juV4ijLCWbJYuoZjOs1IdGJ8ff6H209bsMfZhVVFI+mhvXJmxz2S1m2VNT0rGO0yQ7OV7hcppYycZZHBSNL2/wDvxHWBwg6o2B5SrZebIb/TPlht7WVMkpqGtjlgZROkE7pmse5rRpiLx1j1XNO7gNpyfbUw3u2Ul1poamCnrYzNDHUtZHPzWt7GPeyKR7Q17Wh7cOPVe3ODkDkjaSrfZTthsDQgU8t82gt7LKwNw1tHtE1jq5scYaAKKCCBsBcDgGbG4gldkWK2Q0VLTUVO3RT0lPFTQM9CGCNsUbfkaxo+RB7UREBERBXHlNfyTvX9XZ/mYFwAu/8Aymv5J3r+rs/zMC4AVhJERFUEREBERAREQFc3IBfZJIqigkdkUobUU5J3tikk0yx/0YkMZHcZj3jFMqecgdcIb9SRu+51jZaKQHgRNGXRg/HNHEjKk4l0PQSnW0B2WlpLTjjnJwQB2YPgthVNYfftj9fVB++3k7s7v9FCdsaa4UT3Oga+SPPHBdjt36esw95G471B6zlDrGgh0bQdw4uGAO/UwHO5adW1cu/S5uyX7XXEM1MaAeqD6DQ453DvBa0n+6qYvlQaicjfoB62ODt/H4sYHrwVnu+0stRqaQSXEl2nUT3YDnAADxWlInmIZGwsBG843gHdkZ3k+sqfFiI2Ladp3s+qmcOPMs4cZXDhj0Af97lGeVCpka2k5p72EOe3DSRnUG4GBx4fSp7Z7E4AamkN8cnhvJ7ePisMOyj7jfrTShmY2VIqJ+5sEGJZc59TQ343havjVzDKeHtyTLT1Wy1ZR0dPNUAlzmDnM8Wl2ME53kb8Z+JapdMcp1phmhMT3BjS0t1doON2CfH5FzjdbfJTSuilA1N4OG9j29j2HtacLppnG7z9TGdnlREWbAREQEREBERAREQEREBXF5HP8q6f+pVf7DFTquDyPXhu1VOXEAdCq95OB7xnaVFdzIsPSovhI/nN+tOlRfCR/Ob9aisyLD0qL4SP5zfrTpUXwkfzm/WgzKKxbA24Xx+0T2SzXM0goYpJXl8dLSg6jHSw40wlzi8l293u0u/D3AyTpUXwkfzm/WnSovhI/nN+tBFuVDk4te0cNNFco5S6jqBVUlRBI6mqqeYDGqKePrNB6pI4ZjYeLWkablG5GbTfKukuNRLcaS5UcQgjuNDUmirJIBqzFLIxpBaeck3tDXYkcAQNysLpUXwkfzm/WnSovhI/nN+tBW2z3IXYrbdKS724V1BVUsD4JRBUyCO5NkkMr3XTnNUla8yEOJc/eWR5zobjBtryBWG6XKW6k3Ggq6kaa11vqn0bK9ukNLapjAcghrc6NGotycnJNodKi+Ej+c3606VF8JH85v1oKE5DNkWWjbja6CkoJKO1soLPBQkRyCne2G307ZBFPJnn5A/Vqdqc4uLi4kklWzyh7CW+/Moo7g2VzaCviuVPzbzERVU4e2NziB1mYkd1VIulRfCR/Ob9adKi+Ej+c360GZRobD0H2c84dMv2S+x/2M1azzPRee5/TzWMa9e/Ut/0qL4SP5zfrTpUXwkfzm/Wgr3b/kZtV4uUd3dPdLbcmwimkrLZVvoJqinaciGdzAdTezLdLiA0EkNaBIbpsLQVN6oL9K2U3C3U8tNTOEhbEIqhsrJA+IbnnEz954bu5SHpUXwkfzm/WnSovhI/nN+tBEbjyZWuW+Q7RsZPS3aKMQyVFNKYW1kLcARVsIBjqW6AGZcNWGx7/c4y3X8oHI9abxWi5mS4Wy6CIQOuVrqpLfWSwjGI5nx5bKAA0Zc0nDWjOGgCfdKi+Ej+c3606VF8JH85v1oIpyZ8mtq2ebUfY+KV1RWPEtbXVMr6qurJBnDp6iUlzsanHSMNy5xxkkn5k5MbQ7aFm05gd9lo6fo7ZdZ5sNMT4Oc5rhz3MvdHq9Hcpb0qL4SP5zfrTpUXwkfzm/WgiV35MrTVX+j2kmhe66UMHR4Hh5EOjTUtDnw+9fIBVS4cd4wz0QpmsPSovhI/nN+tOlRfCR/Ob9aDMiw9Ki+Ej+c3606VF8JH85v1oMyLD0qL4SP5zfrTpUXwkfzm/Wgr7ymv5J3r+rs/zMC4AXfflL1EbtlL0A9hPR2bg4E/xmDsBXAisJIiIqgiIgIiICIiAr98n/ku0xsv1zjLQ0Ce207stwG9ZtfOOOM4MbDxI1EY0qPcgnJPNdZ4a+vhLLTGecDX9U3B7feRxt4ml1YLn8CAWjOSRdnLltey3Uj6YfdamJ41bgyKMNw9x7gG5wPiwsL2xDbo6c3tEQmE4a4tfjLXtBPAh2QDnw/0UV2qsVLIctjjJPEaR3dvefiwvjkLvxuVgoJ351iERPDjqcRHlsUjvXJCI3/9opZ0IatWhvq3Zx47lpvGY3d8UmtsdFSy7DxvfnmmgHgMfL8TfpXzNsvEw72N3DiBjIHZniraupgp2GWqmigYBnVI9sY+TUf1KntvuVW2wao6JprJd41D3OnB7zIRlw38Gjs4rk1K0jq9ngeB4nip/wCGk298bR/FO0fm8N2po4Guc4sjY0ElxIaxoHHju4Bbrk32dZTNfdpmuZJUQltMx40ubSkh5lc3iDJpYQDghobwzugXJhaa3ai6smretbqJwmqIwNFOXDfDStZnrF7h1uJ0NdniM2BysbRkmWnidub1JHDdjPEZHBZcPXPzduzD1zSjg5jh5tzamIm+OlfFfee85xtjbfKH7Q1c11rzDG4NijDpHHsZE0hriO9zj3r52n2JgqIaWM6mOdUtgZMMF7Wn7s4t4EDic7sRvPcttya2l0gmmxpEuGlw985v3rR6O/HiFNoqZktTIwBpZQsbCOJ01M0ZfJxGN0Mrd+Sf4QQuysvmpq592t5MK6iJMP8ADGAai1jSJw0cXCLfzrR/MJPe0DeoIf1bj6j3LsqopNQbkZLcY7wRwLSoTtxycUVwzI9hgqHcKqMAFzuwTRnAl7snB3bnBbY3YTDmtFJtr9hrhbC500RkgB3VMYLo8dnOD30R/K3dxKjKrEREQEREBERAREQF8vYHDBAI7iMj6V9IgxdGj+DZ80fUnRo/g2fNH1LKiDF0aP4NnzR9SdGj+DZ80fUsqIMXRo/g2fNH1J0aP4NnzR9SyogxdGj+DZ80fUnRo/g2fNH1LKiDF0aP4NnzR9SdGj+DZ80fUsqIMXRo/g2fNH1J0aP4NnzR9SyogxdGj+DZ80fUnRo/g2fNH1LKiDF0aP4NnzR9SdGj+DZ80fUsqIMXRo/g2fNH1J0aP4NnzR9SyogxdGj+DZ80fUnRo/g2fNH1LKiDF0aP4NnzR9SdGj+DZ80fUsqIMXRo/g2fNH1J0aP4NnzR9SyogxdGj+DZ80fUnRo/g2fNH1LKiDG2BgOQxgI7QAD44WREQEREBERARFudktl6+6zcxQUz53jGt25sUQP30srsNYPVnJwcAoNMry8n/keZXsiu11bmjcddJR9lXpcW87Uf+7amnDB7/GT1ffSHYjye6WFolu0zqqTAPR4i6GlacZw+TdLNv7tAVrWt8tvoqWGZ7amqaxsfuUTKaIn72GngjGmGFjcNGc4azLiSrgby5VbKWEuAaAwBoYMANG5rGtA3NA3DHDcuT+XusqLtcRRMccua5r8bgyLWDI/4tJYPlC6I2jqJHt5rAfLOwRljc45wu05Gd+kkgZPx+pVHtBZI6W5TPBMkjmRtdKd+Q3U0hncwuDj/APZc2rmX1X2V4KnE8XFL/dmZ+kdvxzh77Ld6i10zYqFzGMZFHGGuaHt0xMDGnGeOAFq75t3e5iWtrHQtO4iFrIT87BcPkIX2WuwQOHdkf64C1z6WQnc2No7SSSfANxnPrWq+ZfrWj6fwkW57aVJt5mtZn9YRq5iWY65Xyzyb97y6V2d2QC8nC1TLJNPIyNjCXyyNiijHWklleQ1rGgbskkDBIUzktrpD1pS1o4lrQwYG/GXEn5dy8+1UrrNTvfRtDbrI3moZH5L7e2cYkqJHuOqOq5lz9LRvZrDiM6QOe2lzdejd6t6zoen8PN7bzjFK+bdo+nnxC+dlrHBYbM2mgc2R+NUszCHiesk0MkOpu4DVoYB2BrR3qntpad89xlpGdZ80wY4jeBjDy75Bneq85CqKuhqZ6qGWZttawwz0+SYrlNIBGxjIjuNQXlumX3+p2MhuQb1tOzoZXOnk3a2g6jx51xjY4OOd2dWOJzoJ35XXpzWYxV+B8XfUvqTqak5taZmZ956/70SPZ62xU0MMMYzzYLS7iHFjCdRPYSQOP1L17PNDqaN5GkSF8x3YJMkr35PrILfo4LEasMeyNuCC1xb29UNcNwHAdU/R378fJ7UiptdDJnOqna34zGTF/wCBbGiu7eRwh4y4bjvA4HHYfVu/WsU9G0A8cH707wc9gWwxj4h/vd6lilwBqdwG8fHwHyosw09VbxghzMtOQRxGO0Y+Ls9SrDbXkfoqrVLSk0U2MuLBqgc8n7+DILM797CPiKuSMEkSO3ccA93AH485Xnq4cjJB44BG5x7MDsx8frWytvLVarjza/Yq4Wsk1MJMOerUx5fAe7LsZjPqeB6sqOrsS5BsQe12HAgggjLHg7i1wcCPHcqN5TtkYCXTUVOymma5wlgYcRyYOCWR50xO4HDcNOeGVnjw15x1VaiEY3EYI3EHcQRxBHYUUUREQEREBERAREQEREBERAREQEREBERAREQEREBERAREQEREBERAREQEREBERARF+E4QS/ko2FqL/XtpoyY6eLElZUfAwk4w3O4zPwQ0eongCuydnNn6O2U8dJRQMghZgYHvnHtfI473yE7y471FeQfZIWi007Hs01VU0VdWfvuckb7nCfVHGQ3HfqPapxITkb+39SsK+a+TAwM5OTw1HDd53dvxLQ11c3W5jANbGOcZHDAYHaXOAeRvOS3qjfvGVunnMn5IJ/0Cju1kbshzSRrYRkAEgkFmcnduywjPb9FmNsnd6dmIhOW1A3tMxkjcR1pGsk0scSfvTzeoDcPdB3BVLemuzSSP99NbaaZ3eXOkqWuPx5aFeVophFTwMb1dMLW/EQ0Y39uMYVS8pNIKeW1xDstZjPx01TpO7gN8x8QtFo+V9V9j9Xl9SrH3q3j+WZ/ZGs+H+wvuCB8p0RtLsAuOMANaOL3vcQ2Ng9JxA9az2qgfUzNhYDlwLnEYy1jRlxGd2eAGd2XjKksuyVNK6OlqqxnuhJZb4pObY4tHWc8Z5yrlA4ucTw3Bo3DTu++9d+0On6dikRzakxmI7RHSJn9ojrjrGyE1+1NBQtLaVkl1uLfuYjBFBTPGcP1HrVkjXYIyGx7vvsZUN2e2Iud/qhNW85FSh7nPJJ1ya3antZn/AKSRxJc878bvvsq/rdsbSMLY4IGRtB3kAai0drfUeGSl5gbU1H2GpC5kccbZbtURnR0amfvZRRyN3tq6gZHV6zI+cfkOMerGaWt16ez8x4z1PV4rU+Jq2m09vER4iO3798y02x1mhzHLCxrKGl1R0TQMCaUZilrPXGAHxxntDpX7w5hU0ZQh437j2EcQf/uvVHRMbojY1rGMAa1jQGtYxoDWta3gGgAABexkQGe4LZWsVjEOCb5ReqpHwuPUc8EHrs39mOszjwLt4zvcV4uRGkmp7Db4amJ0U0LHxPY8YdqZNICfiPHPrU5bGANTt3qWCnaZH5+9HBZMNmXTnGf99wXgbIJqgg/c4ADp9KR24E+oDPyr31bwMNHE/QtTa91TKz08O+Qf6IjaEZO/sIx/qtRdq/e9sY1c3GSP5z8hjWj1aiBn417L5VczE5zc6nFrG/lPcG5+TOfkWmcWRc7LI5rI2NeZHu3NbFETJrcTwAwTn4vRKqPJtAYqajklldqLAx88pJBGX6AQRva0Oe7A9Rz2lVZfamWSKhk0ZNbzr6YMB1ubG1ueq8ajqa89vZ24BO95d7yG2Kfmw4dLmpo4nFpY6Y9eQgNdvaxrDG3He453kr7rqQNrdn4sbqaGbd3aYoY/1lZ0vhrvRSe1NAyUmog4ubzjmjfqbne4d7hkfGPWN8YViXG3lnS42A87TVpjAHF0RMzABv47osH61Db1SNB56PHNyHhw0E79w7Gnf8RBHctto7tcS1qIixURb/YfZ1lzlq4TWR0kkFuq6+BronzurH0MLqh9JE2Mgte6KOd2rrECF2Gu4DzWHZi53BnOUNtuFbHv91pqaepiBbuI52GMs1A7sZyg1KL0XGhnppDDUwT00zQHOhnjfTzNByAXRTNDwDg7yOwrzoCIiAiIgIiICIiAiIgIi/MoP1EXopaCeZk0kUE8sdOwSVEkcb5I6eNx0tknexpbCwncHOIGUHnREQEREBERAREQEREBERAREQEREBSTkutAr71bKVw1Mlq4zI3sdFDmeVp9RZG4fKo2ri8k6089eJ6sjLaKkdg90tS4RsI9ehsyDqNpy53cNwXz257gjDxXyeCyiFmWMffHvwPBee5Q6gO8ZHiAePYMtC9Q7F8TnG/u3+vjwH0+Kzxsx7vqinBAZk698wBG7ThuADwGM8Pj9arTlmc11ZbnDHUp6xh+WaicB8XFWQYRgybwY2P044EOaePeMEeAVAbc3Cqr7kKajYJJYY3ROe45aw1EkGjcPfucYcAA9js8CFr5JvtD2vQOKpw3G01r7RXm/ttH9ZTjk7oCYpJ9IJmfzUed+I48F5+WQ4/7JeflB5KaupmdcbVU01JcZ4YqN1TUa3dFpGF3O9EjZE4F7tZJadOXEku7BYmxtkFLT08T3a+jwMjLyBmSRrRzkhxuy5+p270lm2s2ggoaaWrqMiGEACNo1yzyPcGQ00TfvpZJC1oaO9aOWIa/VOPnjeJvrT/6naPERtWPrjr75RzbC9vtsNNR0YFVea+NtPQxuHvWRsY2Wvq8b2UzM8449pLWjrOAWx2XsMdspBTte6aZ73VFZVPxz1XVykGWeU95IADRua1jGjAaAvBsHYZo3z3e56XXSuAMoHWZR07CTBb4D8HGHZc4e/eXu4YAkMYMriezIz9XgQkeXFO2z7po8AuPE/qWZkYxv4DeV9kbw0cBjPyLx3WqI9zb74phGCpqDK8MbnAJGe9etxbDGSfl/wBAvy20wYNR4nh8XetLtXXZaY28Rx8QP9Si57Pu2zGeUuPDJ+rcsNM//wBoDHwbs/kt7/lLfFeuyxBkRd2Y4/r/AFrU7LyGWtqpPvYhzQ+MnLj4j9Si5ejaabMkbN2I3Ne4dhI3sB/vBvgVEeVh7nWSrjjJL6uoorYwDcXSV1dTRzcOwQyH5Xv7lv77NmaUgag0asdrjjqsHrzgf9ovEyI1JsMLiCxkrrtP3OdTQSOZ/wDyKuB2/wCDUnwkdcoJy/e61lkt7fex1UJc3s3SM1bvkKk95h/hlA/G9kFSfnOp8KJbQnpe1FKN5EHOSn1BjCAfnParAusH8Jg4dWB/x9ZzD/4FY6sZ6KsvkfN3uobjAnEcw7OsWtOfjDmFQC/0uiaan3YL3MZ3cDJCR69z2+vQFYO32GXeB2eMIaf7rnbj4qMbdU2Xc4BvkYXA/wA9jhI0/HxH95dcbx+Dm7q7REWtmvvkg296FTUN1vctvraWgDbFaKKClpZr9SvwwGobIGsliom0pka7L3GQlg06nZf4uX3auN9ZdqWZt/tt0oquOmt9MytDrKaOKT+NNpWMjdTGamLZQG68mSLrDDgoZsLTR1tkv9DHSU0tygFLdqSbmg6vdS0sui5Q083vgGROjlEbd7g6fcd2IjzlVcKpmqSetrKuWKFj5ZHTz1E0hZBAwzTOLnuJMbBqO4aRuARU22K2sfcXwWO/Ty1tvq5G09NVzkz11nq53aKespKqTMpg5xzGyQvcWFmcAYIdBb1QS0dRU0s4AnpJ5aaZozgS08j4pA0kb26mHB7RhWhs5yX3M0VY1llr2bRWu7UUkbpy2OgkopWydVhl/g1UI56fU9zXEaJmEOIDmqI8sdQye8188dxpLsagslkraSB1JSSzOhYHtghdJJljS0DWHuD97skkoJdfeSm2Wo0TrxtJFRxV9FBVQNjoZ6qo1ytJm5yKGQiGljJjxM45kJeA1ugk66t5H69m0DrC2op3htN9kHXE5jpmWwNBfXSM1FzAHe56AT18dbSdYzeU3XQ1NbaXU80U7G7LW6Muie2VrZOcr3GMlhID9L2HTxw9verSuW2tupdqgJa2ljpblsdTWzp/uVVTUlU+SaaF1SHaojDpI1NeC33SPV1SSiKfrthLbPRV9XY759lX2qAVNdTSUU1ukNJqLZK2kdNI4TRM4uYcOa3BJyWtdqeULY42iCzzGoFR9lrRBdNIj5ro5nbqMGdbudDQW9fq539UKydootoaKguD6287KUkE9BUU2mijthqrrHNHh1HRijomzFko3ayWaeq44xkfO2Wz7dpLRs3VUNztEDLZZIrZcxWVTaV9DNSsja98kbmlzoziQjgSAwt1B+QGlpeRl8l9oLILiNVbZGXjpHR8iMyNnHRhFz419eD7pqbuf73dv8tt5K6esq4rdQX2lrK2Jss14c2nnjt1qpqdrefmbcJCGV4bK4RjQG6i4E6AHEW5TXu3N27s80VfSvo2bIRwsqjLGyMlvT5GB7nOxHKYi1+gnUA4blTPk83uip33K3XCoZRU97sk9r6bJ1Y6SeWPTE+Zx3MiIdIC4kAEMzgEkFeiTk3t9ZS1s1gvzbvUW2ndVVVE+int80tNGcS1FEZnu59rfQAzvbvy5gd9Q8mVDDarTebpfmUFHc45Xc22jmrKpsscmGRQRQPJmYYw57pSGhhDG4eXjEm5PbF5nuuF3u1fanvdaqiit9FR1Ta2avqal0Ja5rWNBbSt5puXuG4SZOnTvjPKlWQP2Z2Ihimilkp6O5MmYx7XviJqKJrRKxpzGSY341Yzod3Ij3X7kkttrmi+y201NTUVc1klrqIqOepmq4JGMcameCN+mhp2GRg1ue4O3kacHGvZyOV32frLHJUwRR0EBraq6PaRSxW/m2SCqMerIcecDebLhhzJOtpaXL98oqthnptmRBLFMY9k6KOQRvbIY5Ax4MbwwnRJkEaTv3K1Nr9pbZNtNtDbprhTQU9/2cgtsNx5xklLBVcxKYmzytdpZG5tQTkkDqsH3wQVzs/yUWy7GsdZ9pGVcdDRTVM7ZaCekqQ+NuYebinkAlppHB4MgOYyGAtdrBG9pNltnn7FRvfe4o2PvrXvu32JqpJo6h1AA62cw1/PvjaMu50O5s44ZXr5GtkW7P1d1lut0s7KiWw1sFNTQVkdQ6RjjFLNPI7DRFGOYjDA7rP1yHSObKjnJ/TR3jY+exU9XRQXSC+NuTKernZS9JpXUccBdA+Tc5zXF+R2aBnGpuStLbOTuhht9Nc75em2qmuDpBbIWUc1fWVkMRANW6CJ4NPT4LXb85Eke8F7QZxyTbM08dLtrQU13oKulmstE9t1GuGlihlNwdI+rjdl9PJE1j3Pjy4gae04Hiv1mbtRaLAy311tiuFioTabhQVVTHTPxT81FHV0z8lk9O/mC7W0lpEjd+WkLz7HUNNabdtvQuulurJZLHSASU0wfA+pc+tbLSU8j9PSnxufE0uYMZmaNxyARHLtyeUD7RWXay3sXZlsfC24wPop7dLEyocGR1ELah5c+LJO4gbo5N+WlqrpWfyT10EWzu20ck0Uck1Fbmwse9rHzOFRWAiJrjmQgyM3Nz79veqwQEREBERAREQEREBERAREQEREBdQ+ShauZtE9WR1q2rdpP/VUzRE0fnDKuXSV2/yeWn7H2u20RGHRUcfOf0z2c7MfnucrAkbOBXy47h4/QvrG5YHzNAGSOqN/YB8Z4D5VnHQlk/0XzIcEZ7DnwG76f1LzR3KN29jmvGSMsPODLcZBMeQCN3EjivqjlMjdTgWuJ94SDpLRwy3d2jgT8aZ2MPVCcAtPa0tx343gfNKp/kXjMt92mZNTSuEFbEYqzDejhzYopG0+ov5xs458vAAIxneOBtlzyCfnD428QR8X6lCeTeNkN42jjGdU09JWnO/qSUzoGuAPvcmndu4cOG9Y83LLKJWFVzhjQ1p3nh/qVEHUhuFxZLL1qS1yFlLH97UXJzMTVDvSbTtdzTewOMp4hpG9nkkkc4x6W8Wtcd+McXfkg4+NfdmgaxgDBiOMGOLPE9skrj2vc4kk95K0zvLZGzLXEnEbflWdjQwAd30lYYD76U9+Gev1rIziC7e528N7gO09wRX5NLzbC48TwXht0Be9z3fGT3BfNVKZZcD3rSvRWyczGGj3zzj4gdyxH5cqwMY4jcB4YUTgHPPmc87sZH0fVn5V7tr5wyFrMneW57znfjHeRnxWGkjw7R26cP7gTwHiitxPJopQ7h1CfixvUe5NDmCWT4SV7vXjOFtNsJhFROPBobgn5MFazYcGKgcSMaWOcAd3HUW58VEZaQc5KH8RznOnt6rCAweveYN3qXi2ScBNXwje235po3dgjqniobED3sbG1vxNZ3r20E3NxVMnZFGxvy63vOPXpYz6Fq+T5v8AAa+rJOa6uqZsn0KdjKJmO4E0z3b/AEye1XCINse3n9oK2XjzUfN5473y+r1RFWPfHNjdG7tc3Qfizx+lQDkWYHz3Kc8TWc0O/EbASPnSFTXbWQNMGeLsgNz6gpQvsqrlLaRUUsv/AFj2n1HccfJhajaLL4oCMHABz/dxhSXlNh1Mhdj3sr3fKI3k8fiHgVE45ecp4c7yyQsPxjUPk4fSuyvSHLPVWiIi1Nj12a51FFUQ1dJM+nqqeQSwTxkB8bwCMjIIcC0uaWuBa5rnNIIJBmUu1NhrX8/cLHPS1hcJJKiz1YooZ5c5L+gVUEsVK4nBJicMkk4CgSIOgOSnlceKk2igbTWijqoK57a+6V1RcZorj0OR9JVTVVW9sEcRmiiDoGx6SZHEEuPWp7a3aNtfHRsFttVDJStmbNNQU8dGK50sjHNknjhAjywMw3SAPdHkYBDRoERX4AgC/URH4GgcAAhaOOBlfqIPzA7vWv1EQfgaBwACYX6iDdWrZK5VVOaqno5ZYBzpD26A6XmG65zBE5wlqtA99zTXacHOMLG3Zi4dDNwFJL0IRmYzdUe4Nk5p1QItXOuphJ1TMG6AQQXbip3yd7TWiibaZJpY4ZKUVTK0PoDX1jpKmSqbHNR1kjiyho2wzwFzIAyXVDP1ZDLqWjuVfa5qenmdXVrJ6axU9mNDTxuhfO+kp20Rc6reDF9jJ4mmV8bhrJlezTv1INJdNj7lSQtmnoJoo3Pjj4Nc9ks7S6COaCNxlp5XgHSyRrXOxuBWwuvJ/caak6RU08sczrlTWyGkDGzSTzVUFbKWtdDI7TURupGRmnLdealmdO4OnQ24s9LJVT08kMrTdrXc6WlZb3U874LZcTUupq65TOfPWXAxSD3SV7otUL3B2ZNI1ezW01ps7oXQ1dTccX+K5SA0zoC2k+xt4oHuxO/ElwYbhG9w3McWMDXneWhDajYm6tnhpXUEzp6hk0lPGzRPzzaZjn1IifC5zJJI2tJcwEubuBAJAOWv2Du8EUk8tBK2GGF1Q6XVC9hgY3VLPCY5D0iJjd73RagwZ1aVKRtdRU0cdLDNTujbT3h5fQ2/7F0ram4WOa10gbE7M8k7nlmuQ6WNaIgNekuWss201HE60F7nhtFs/drdMAwnTVXDzg5hrB98wi40uXDcMuz71FReqsFZFJVRyU0jJKGJs1W06f4PFK6Bkb3nOMPNTABgnPOtxnK1ysfba483YraySOaG5XSmpo69srSx0lusMlVTWufTJh+mobJAdZHW+xTSCQRmuEQREQEREBERAREQEREBERAREQbzk+tfTbtbaQjLZ62Frx3xiQPl+TQ167aqZfdm6cZ16R3e8O5cq+TNRc7tDBIRupaeoqfUCI+Zb9M30LpWGpDnSuJGI6gA/JGHH9f0LKB76q4aSQMajnQMgueeBDGcTjv3AdpC80FPqOt+89mRreM8dx6sfZw7lrNmKR0kk1Y8nNXK4xswABAwlkRJyS7cC4DcOtwypIGgDv8A1eH1rKdljdjazubnsySXnd6m4A8V57hVOiZrYA4jg0tIDusGkambmkknBK9r5N2fjwFFtsa5wmtFK0jNRXCeVucaqeiZrP8AcFTJR5HbkDtUEgqA4Eu3dXfjvA4jBGO/xUI2Wo5GbQ3WUFojrLfSMjOcvc+mnnMx0nfhkdRBn+lap23XnJ97nfxB4d2FXWx9UZNoquMu0i3ULmtaMbzW1QjLnd2635Hfrdngtd2VeqyJ26YyxgIwCMnfgDe4nsJG/d6gF9RyDQGtaQANOCW5AHEkgneTk5Xw17S3DgC0t62eBbjLhv7DvGF95bEzOgb/AL0AAZJ3kAcAsWb8MoGMadwGOsN2Bk/LvK/DIcOI3vdnrZG7fgAb+GSPBfcZyG6vfOJcQOG/fjPdgAfIsda/J5pnv3DAI7BnLnEnh8axyr4oWtbjAOkD4y9xO8n1Fy8dU/nJ2l+QxpyfXhoI+TLgFsKkNaAAB6z8QA7fiWvjYCXucMZyQASMA6R2H+Y3wURG9oZXVNRTADcZ3PcPRihBcC7uyQzd/OC3ZLYm6shucuc49gA1E4+QeKjFLMXVfNvdg9cgcctY55AaNxy4yntwNI7ltIw6bII5wBzmcc5LWxOcOtxHODfv7x2IuTb3L7c1uDqdpfg8dIfr3j4h9KzXGZsNBLIP+kiYe8b8ZJOQA3H615buHzmRrnkZDo86cBuS3LxvwXdZ2N+OoStTyl3WKntoY3c/nYooWcTI3nGNdgjcdOd59XrCD6ra5sFprqiQlrGtmkcd2Q2GkjBx8uVsrLRSUVipoZQBNDb2GfHDpL4+eqD6yZnyFaFlMJ7bb6Zwy2trmiQbsPgFY6Wdp3Dqugp3jhwUv20lxSTfzo3k95y3ekeUsr/yfqb+AyzEfda2pd8emTmv/Bj5FINvXEy0+PTA9QBz+sj9a1HIe7m7VC3eHGSocfVqqpnfqI8Vs+UB2nmZDwBDsfkuB+kZTTNTqie27ecbE3PGRw8YJTj9aragkwamL0JdbR6wfqVh7RSdSJx49Izg9mWSDHgf1KtpHYuFSBw3n/8Abn/VdVOjmshCKGeddR6EPg/20866j0IfB/trU2YTNFDPOuo9CHwf7aeddR6EPg/20MJmihnnXUehD4P9tPOuo9CHwf7aGEzRQzzrqPQh8H+2nnXUehD4P9tDCZooZ511HoQ+D/bTzrqPQh8H+2hhM0UM866j0IfB/tp511HoQ+D/AG0MJmihnnXUehD4P9tPOuo9CHwf7aGEzRQzzrqPQh8H+2nnXUehD4P9tDCZooZ511HoQ+D/AG0866j0IfB/toYTNFDPOuo9CHwf7aeddR6EPg/20MJo4knJJJ3DJ3nAAaBk9gAA+IBfihnnXUehD4P9tPOuo9CHwf7aGEzRQzzrqPQh8H+2nnXUehD4P9tDCZooZ511HoQ+D/bTzrqPQh8H+2hhM0UM866j0IfB/tp511HoQ+D/AG0MJmihnnXUehD4P9tPOuo9CHwf7aGEzRQzzrqPQh8H+2nnXUehD4P9tDCZooZ511HoQ+D/AG0866j0IfB/toYTNFDPOuo9CHwf7aeddR6EPg/20MOpfJPt/ul1rSN0cEdKw/zpHGWQD5I4/FWzsu4TR1AeMiSrc1wyQdLo2g7xvBwuN9huXa7Weklo6Wmtro5pTM98sdQ6UucxrMamVTW6QGjG7tK2lq8pK+02oMpbUdcnOHVFUnraQ3dirG7AWXNCYdtsZHCyKGJoYyNrWNaODWtGGgeoAdq/XSZ7CMHeezeAdy4wd5Uu0BOeh2bdv+41XHv/AI6v37abaH8Es/x8zVd2Pw1XmhcOzp5gNIxq7mjiTu+hVo66tqtrJI2OZKLXbKWn6nWEdRX1jqmqY48A7mqWkdjsGFzrVeU9tE9kjWwWuJ72lolZDOZIsjAdGJKpzAQd+9pGQMgrQbD8uN1tEb201LbZZJZnVFRUzx1MtRUzyZDpZpG1TQ52D2AAY4Kcyu7nPJPvs7ju37sjiVVmx84j2z2miJALqO3vbwyW4qJHHGOIdMB4Khh5UO0GpzjS2hxcMYMNTgfF/DFHKXlwu0d5qr42C39Kq6eOmli5ufo3NxNY1pazpGsPwwby88TuWM4kjZ3hUS43Z4hrfia47z8WGEeHevureDFqySXnjw7eAGdwXGEnlRbQOxmks+7/AKmq78g/x3iOw9mThfbPKl2gAaOh2YhuMAw1XZv/AA3fvz4rGYZRZ2uwBoBdxa1eOhJJfKcZcS1uc+9bxJ9XALjeTyq9onAg0lnwf+pq/wD61fA8qbaHDR0OzdUYHuNV2kE//ncHgFOVeaHY9ZUDf2+oZz9APrWpgn1OlBDhpZnfjeMb8YO7HrXJMvlQbQO40to3f9TVf/WLBH5S1+a9zxS2nLgWn3KpxghoOMVf836SmDMOjbUDJW1EhOW0xDG9x1t1gn14cd3xKT2KpOMOxnDjjhnWeH++8rj22eUDeadsjWU1sdzsjpHl0dQSS/AI3VQ3AAD5F6KXyjb5H72ltW7sMVSf/wC2pynM7Gr3iOLg0ZcOHE4cHO3nhnh8Sp7yh7yyni5ljPdjStqHBu885JW04j6oOHPL4ZGg7t7xuO7FST+U3f341Uto3Aj7jU9v/wAWodtVyr3K5V8dwqI6QSRmkIiYyVtORQVD6mJrmOmLtLpJHF3W37sYwk12OaHYYjMVdYKInDqWCSWQDvgt76Z59fu1WP1rb7cyZpnjONUb2g/3fpOVyNJ5Qt7dXMrzT2znmQywNbzVRzemd8Mjzp6Vq1ZhZjfwJ3LLdfKLvlSGiSmtYDc4DYqkZzjjmrOeCuNiZdIcnDmsjEDcnm9x7N563+oPyrYco++m1cHMaX/EGHJx3cFypZ+Xy80pcY6a2nVjIdFOQMd2mpC9V18oq91LCySltQBa5h0xVIOlwweNWVK1wlpytra+sDWMA4c6zf8AGHgHHyqFW0F1fUk8dWn6HfUq1uHKtcZ2ta+Kj6r2vBDJcksGADmY7l5aXlJro5ZJhFSF8jtTstlxnfwxNkDeVvi0RDVNcoWiItbMREQEREBERAREQEREBERAREQEREBERAREQEREBERAREQEREBERAREQEREBERAREQEREBERAREQEREBERAREQEREBERAREQEREBERAREQEREBERAREQEREBERAREQEREBERAREQEREBERAREQEREBERAREQEREBERAREQEREBERAREQEREBERAREQEREBERAREQEREBERAREQEREBERAREQEREBERAREQEREBERAREQEREBERAREQEREBERAREQEREBERAREQEREBERAREQEREBERAREQEREBERAREQEREH//Z\n"
              }
            ],
            "_view_module": "@jupyter-widgets/output",
            "_model_module_version": "1.0.0",
            "_view_count": null,
            "_view_module_version": "1.0.0",
            "layout": "IPY_MODEL_3e3f7c2c110146698cbf227647400ffb",
            "_model_module": "@jupyter-widgets/output"
          }
        },
        "7a9b2ef129ab4bae99e6ea7ced7a7666": {
          "model_module": "@jupyter-widgets/output",
          "model_name": "OutputModel",
          "state": {
            "_view_name": "OutputView",
            "msg_id": "",
            "_dom_classes": [],
            "_model_name": "OutputModel",
            "outputs": [
              {
                "output_type": "stream",
                "metadata": {
                  "tags": []
                },
                "text": "Video available at https://www.bilibili.com/video/BV1DM4y1K7tK\n",
                "stream": "stdout"
              },
              {
                "output_type": "display_data",
                "metadata": {
                  "tags": []
                },
                "text/html": "\n        <iframe\n            width=\"854\"\n            height=\"480\"\n            src=\"https://player.bilibili.com/player.html?bvid=BV1DM4y1K7tK&page=1?fs=1\"\n            frameborder=\"0\"\n            allowfullscreen\n        ></iframe>\n        ",
                "text/plain": "<__main__.BiliVideo at 0x7f1a8d8c4690>"
              }
            ],
            "_view_module": "@jupyter-widgets/output",
            "_model_module_version": "1.0.0",
            "_view_count": null,
            "_view_module_version": "1.0.0",
            "layout": "IPY_MODEL_cfb041cb12aa48df981841f9872b8b65",
            "_model_module": "@jupyter-widgets/output"
          }
        },
        "3e3f7c2c110146698cbf227647400ffb": {
          "model_module": "@jupyter-widgets/base",
          "model_name": "LayoutModel",
          "state": {
            "_view_name": "LayoutView",
            "grid_template_rows": null,
            "right": null,
            "justify_content": null,
            "_view_module": "@jupyter-widgets/base",
            "overflow": null,
            "_model_module_version": "1.2.0",
            "_view_count": null,
            "flex_flow": null,
            "width": null,
            "min_width": null,
            "border": null,
            "align_items": null,
            "bottom": null,
            "_model_module": "@jupyter-widgets/base",
            "top": null,
            "grid_column": null,
            "overflow_y": null,
            "overflow_x": null,
            "grid_auto_flow": null,
            "grid_area": null,
            "grid_template_columns": null,
            "flex": null,
            "_model_name": "LayoutModel",
            "justify_items": null,
            "grid_row": null,
            "max_height": null,
            "align_content": null,
            "visibility": null,
            "align_self": null,
            "height": null,
            "min_height": null,
            "padding": null,
            "grid_auto_rows": null,
            "grid_gap": null,
            "max_width": null,
            "order": null,
            "_view_module_version": "1.2.0",
            "grid_template_areas": null,
            "object_position": null,
            "object_fit": null,
            "grid_auto_columns": null,
            "margin": null,
            "display": null,
            "left": null
          }
        },
        "cfb041cb12aa48df981841f9872b8b65": {
          "model_module": "@jupyter-widgets/base",
          "model_name": "LayoutModel",
          "state": {
            "_view_name": "LayoutView",
            "grid_template_rows": null,
            "right": null,
            "justify_content": null,
            "_view_module": "@jupyter-widgets/base",
            "overflow": null,
            "_model_module_version": "1.2.0",
            "_view_count": null,
            "flex_flow": null,
            "width": null,
            "min_width": null,
            "border": null,
            "align_items": null,
            "bottom": null,
            "_model_module": "@jupyter-widgets/base",
            "top": null,
            "grid_column": null,
            "overflow_y": null,
            "overflow_x": null,
            "grid_auto_flow": null,
            "grid_area": null,
            "grid_template_columns": null,
            "flex": null,
            "_model_name": "LayoutModel",
            "justify_items": null,
            "grid_row": null,
            "max_height": null,
            "align_content": null,
            "visibility": null,
            "align_self": null,
            "height": null,
            "min_height": null,
            "padding": null,
            "grid_auto_rows": null,
            "grid_gap": null,
            "max_width": null,
            "order": null,
            "_view_module_version": "1.2.0",
            "grid_template_areas": null,
            "object_position": null,
            "object_fit": null,
            "grid_auto_columns": null,
            "margin": null,
            "display": null,
            "left": null
          }
        },
        "78e8889505a64297ad56da15bedad2bb": {
          "model_module": "@jupyter-widgets/controls",
          "model_name": "TabModel",
          "state": {
            "_view_name": "TabView",
            "_dom_classes": [],
            "_titles": {
              "0": "Youtube",
              "1": "Bilibili"
            },
            "_model_name": "TabModel",
            "_view_module": "@jupyter-widgets/controls",
            "selected_index": 0,
            "_model_module_version": "1.5.0",
            "_view_count": null,
            "_view_module_version": "1.5.0",
            "box_style": "",
            "layout": "IPY_MODEL_e2515f4d4f4c4146a4099dce01b05cf0",
            "_model_module": "@jupyter-widgets/controls",
            "children": [
              "IPY_MODEL_14a63c532fc64e19a795864ad34859bc",
              "IPY_MODEL_fd56ec6eebef466bb2a5e614b5e4e644"
            ]
          }
        },
        "e2515f4d4f4c4146a4099dce01b05cf0": {
          "model_module": "@jupyter-widgets/base",
          "model_name": "LayoutModel",
          "state": {
            "_view_name": "LayoutView",
            "grid_template_rows": null,
            "right": null,
            "justify_content": null,
            "_view_module": "@jupyter-widgets/base",
            "overflow": null,
            "_model_module_version": "1.2.0",
            "_view_count": null,
            "flex_flow": null,
            "width": null,
            "min_width": null,
            "border": null,
            "align_items": null,
            "bottom": null,
            "_model_module": "@jupyter-widgets/base",
            "top": null,
            "grid_column": null,
            "overflow_y": null,
            "overflow_x": null,
            "grid_auto_flow": null,
            "grid_area": null,
            "grid_template_columns": null,
            "flex": null,
            "_model_name": "LayoutModel",
            "justify_items": null,
            "grid_row": null,
            "max_height": null,
            "align_content": null,
            "visibility": null,
            "align_self": null,
            "height": null,
            "min_height": null,
            "padding": null,
            "grid_auto_rows": null,
            "grid_gap": null,
            "max_width": null,
            "order": null,
            "_view_module_version": "1.2.0",
            "grid_template_areas": null,
            "object_position": null,
            "object_fit": null,
            "grid_auto_columns": null,
            "margin": null,
            "display": null,
            "left": null
          }
        },
        "14a63c532fc64e19a795864ad34859bc": {
          "model_module": "@jupyter-widgets/output",
          "model_name": "OutputModel",
          "state": {
            "_view_name": "OutputView",
            "msg_id": "",
            "_dom_classes": [],
            "_model_name": "OutputModel",
            "outputs": [
              {
                "output_type": "stream",
                "metadata": {
                  "tags": []
                },
                "text": "Video available at https://youtube.com/watch?v=fErhvxE9SHs\n",
                "stream": "stdout"
              },
              {
                "output_type": "display_data",
                "metadata": {
                  "tags": []
                },
                "text/html": "\n        <iframe\n            width=\"854\"\n            height=\"480\"\n            src=\"https://www.youtube.com/embed/fErhvxE9SHs?fs=1&rel=0\"\n            frameborder=\"0\"\n            allowfullscreen\n        ></iframe>\n        ",
                "text/plain": "<IPython.lib.display.YouTubeVideo at 0x7f1a96d085d0>",
                "image/jpeg": "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\n"
              }
            ],
            "_view_module": "@jupyter-widgets/output",
            "_model_module_version": "1.0.0",
            "_view_count": null,
            "_view_module_version": "1.0.0",
            "layout": "IPY_MODEL_950a6900ac4d4b08b52bb41ff6ea88bb",
            "_model_module": "@jupyter-widgets/output"
          }
        },
        "fd56ec6eebef466bb2a5e614b5e4e644": {
          "model_module": "@jupyter-widgets/output",
          "model_name": "OutputModel",
          "state": {
            "_view_name": "OutputView",
            "msg_id": "",
            "_dom_classes": [],
            "_model_name": "OutputModel",
            "outputs": [
              {
                "output_type": "stream",
                "metadata": {
                  "tags": []
                },
                "text": "Video available at https://www.bilibili.com/video/BV17f4y1571y\n",
                "stream": "stdout"
              },
              {
                "output_type": "display_data",
                "metadata": {
                  "tags": []
                },
                "text/html": "\n        <iframe\n            width=\"854\"\n            height=\"480\"\n            src=\"https://player.bilibili.com/player.html?bvid=BV17f4y1571y&page=1?fs=1\"\n            frameborder=\"0\"\n            allowfullscreen\n        ></iframe>\n        ",
                "text/plain": "<__main__.BiliVideo at 0x7f1a96d08210>"
              }
            ],
            "_view_module": "@jupyter-widgets/output",
            "_model_module_version": "1.0.0",
            "_view_count": null,
            "_view_module_version": "1.0.0",
            "layout": "IPY_MODEL_3e2921230b5a43d297a94db0c293b54a",
            "_model_module": "@jupyter-widgets/output"
          }
        },
        "950a6900ac4d4b08b52bb41ff6ea88bb": {
          "model_module": "@jupyter-widgets/base",
          "model_name": "LayoutModel",
          "state": {
            "_view_name": "LayoutView",
            "grid_template_rows": null,
            "right": null,
            "justify_content": null,
            "_view_module": "@jupyter-widgets/base",
            "overflow": null,
            "_model_module_version": "1.2.0",
            "_view_count": null,
            "flex_flow": null,
            "width": null,
            "min_width": null,
            "border": null,
            "align_items": null,
            "bottom": null,
            "_model_module": "@jupyter-widgets/base",
            "top": null,
            "grid_column": null,
            "overflow_y": null,
            "overflow_x": null,
            "grid_auto_flow": null,
            "grid_area": null,
            "grid_template_columns": null,
            "flex": null,
            "_model_name": "LayoutModel",
            "justify_items": null,
            "grid_row": null,
            "max_height": null,
            "align_content": null,
            "visibility": null,
            "align_self": null,
            "height": null,
            "min_height": null,
            "padding": null,
            "grid_auto_rows": null,
            "grid_gap": null,
            "max_width": null,
            "order": null,
            "_view_module_version": "1.2.0",
            "grid_template_areas": null,
            "object_position": null,
            "object_fit": null,
            "grid_auto_columns": null,
            "margin": null,
            "display": null,
            "left": null
          }
        },
        "3e2921230b5a43d297a94db0c293b54a": {
          "model_module": "@jupyter-widgets/base",
          "model_name": "LayoutModel",
          "state": {
            "_view_name": "LayoutView",
            "grid_template_rows": null,
            "right": null,
            "justify_content": null,
            "_view_module": "@jupyter-widgets/base",
            "overflow": null,
            "_model_module_version": "1.2.0",
            "_view_count": null,
            "flex_flow": null,
            "width": null,
            "min_width": null,
            "border": null,
            "align_items": null,
            "bottom": null,
            "_model_module": "@jupyter-widgets/base",
            "top": null,
            "grid_column": null,
            "overflow_y": null,
            "overflow_x": null,
            "grid_auto_flow": null,
            "grid_area": null,
            "grid_template_columns": null,
            "flex": null,
            "_model_name": "LayoutModel",
            "justify_items": null,
            "grid_row": null,
            "max_height": null,
            "align_content": null,
            "visibility": null,
            "align_self": null,
            "height": null,
            "min_height": null,
            "padding": null,
            "grid_auto_rows": null,
            "grid_gap": null,
            "max_width": null,
            "order": null,
            "_view_module_version": "1.2.0",
            "grid_template_areas": null,
            "object_position": null,
            "object_fit": null,
            "grid_auto_columns": null,
            "margin": null,
            "display": null,
            "left": null
          }
        },
        "491898825ea748738c2a20726bd5059c": {
          "model_module": "@jupyter-widgets/controls",
          "model_name": "VBoxModel",
          "state": {
            "_view_name": "VBoxView",
            "_dom_classes": [
              "widget-interact"
            ],
            "_model_name": "VBoxModel",
            "_view_module": "@jupyter-widgets/controls",
            "_model_module_version": "1.5.0",
            "_view_count": null,
            "_view_module_version": "1.5.0",
            "box_style": "",
            "layout": "IPY_MODEL_8bf46e43dcb541e882d59d24d36649ac",
            "_model_module": "@jupyter-widgets/controls",
            "children": [
              "IPY_MODEL_752ff230f661457da9d97a45fcb8d227",
              "IPY_MODEL_5aae707b5ff3413e8beef5a6fc10f55d",
              "IPY_MODEL_a2a86041e64948bea0a6bf6f20dd4821",
              "IPY_MODEL_871aa9afce224c5882381b5b1d781d10",
              "IPY_MODEL_38f452fed29c41448efd38c2c8d31d04",
              "IPY_MODEL_3d6b29e88dd5405ab73b871a739ea886",
              "IPY_MODEL_dcb8effd2ba64bc9ab6cac99ccd3c7ae",
              "IPY_MODEL_36e67d80f774480685ca6d1184f4a8f1"
            ]
          }
        },
        "8bf46e43dcb541e882d59d24d36649ac": {
          "model_module": "@jupyter-widgets/base",
          "model_name": "LayoutModel",
          "state": {
            "_view_name": "LayoutView",
            "grid_template_rows": null,
            "right": null,
            "justify_content": null,
            "_view_module": "@jupyter-widgets/base",
            "overflow": null,
            "_model_module_version": "1.2.0",
            "_view_count": null,
            "flex_flow": null,
            "width": null,
            "min_width": null,
            "border": null,
            "align_items": null,
            "bottom": null,
            "_model_module": "@jupyter-widgets/base",
            "top": null,
            "grid_column": null,
            "overflow_y": null,
            "overflow_x": null,
            "grid_auto_flow": null,
            "grid_area": null,
            "grid_template_columns": null,
            "flex": null,
            "_model_name": "LayoutModel",
            "justify_items": null,
            "grid_row": null,
            "max_height": null,
            "align_content": null,
            "visibility": null,
            "align_self": null,
            "height": null,
            "min_height": null,
            "padding": null,
            "grid_auto_rows": null,
            "grid_gap": null,
            "max_width": null,
            "order": null,
            "_view_module_version": "1.2.0",
            "grid_template_areas": null,
            "object_position": null,
            "object_fit": null,
            "grid_auto_columns": null,
            "margin": null,
            "display": null,
            "left": null
          }
        },
        "752ff230f661457da9d97a45fcb8d227": {
          "model_module": "@jupyter-widgets/controls",
          "model_name": "FloatSliderModel",
          "state": {
            "_view_name": "FloatSliderView",
            "style": "IPY_MODEL_a7d603ace1b9460b8bf1ac2a6d090f49",
            "_dom_classes": [],
            "description": "switch_prob",
            "step": 0.01,
            "_model_name": "FloatSliderModel",
            "orientation": "horizontal",
            "max": 1,
            "_view_module": "@jupyter-widgets/controls",
            "_model_module_version": "1.5.0",
            "value": 0.3,
            "_view_count": null,
            "disabled": false,
            "_view_module_version": "1.5.0",
            "min": 0,
            "continuous_update": true,
            "readout_format": ".2f",
            "description_tooltip": null,
            "readout": true,
            "_model_module": "@jupyter-widgets/controls",
            "layout": "IPY_MODEL_b289de9e690f44dfb1afd6583cb04385"
          }
        },
        "5aae707b5ff3413e8beef5a6fc10f55d": {
          "model_module": "@jupyter-widgets/controls",
          "model_name": "FloatSliderModel",
          "state": {
            "_view_name": "FloatSliderView",
            "style": "IPY_MODEL_bb9e6198078d4074807f1dfab473f3ad",
            "_dom_classes": [],
            "description": "log10_noise_level",
            "step": 0.01,
            "_model_name": "FloatSliderModel",
            "orientation": "horizontal",
            "max": 1,
            "_view_module": "@jupyter-widgets/controls",
            "_model_module_version": "1.5.0",
            "value": 0.29,
            "_view_count": null,
            "disabled": false,
            "_view_module_version": "1.5.0",
            "min": -1,
            "continuous_update": true,
            "readout_format": ".2f",
            "description_tooltip": null,
            "readout": true,
            "_model_module": "@jupyter-widgets/controls",
            "layout": "IPY_MODEL_72cda81d15c64db7a20c58a28e7ebdb0"
          }
        },
        "a2a86041e64948bea0a6bf6f20dd4821": {
          "model_module": "@jupyter-widgets/controls",
          "model_name": "IntSliderModel",
          "state": {
            "_view_name": "IntSliderView",
            "style": "IPY_MODEL_f6e147af0a70484089e2c3900701cec4",
            "_dom_classes": [],
            "description": "t",
            "step": 1,
            "_model_name": "IntSliderModel",
            "orientation": "horizontal",
            "max": 99,
            "_view_module": "@jupyter-widgets/controls",
            "_model_module_version": "1.5.0",
            "value": 36,
            "_view_count": null,
            "disabled": false,
            "_view_module_version": "1.5.0",
            "min": 0,
            "continuous_update": true,
            "readout_format": "d",
            "description_tooltip": null,
            "readout": true,
            "_model_module": "@jupyter-widgets/controls",
            "layout": "IPY_MODEL_8975a2ffe6664ae880f83dbd91137226"
          }
        },
        "871aa9afce224c5882381b5b1d781d10": {
          "model_module": "@jupyter-widgets/controls",
          "model_name": "CheckboxModel",
          "state": {
            "_view_name": "CheckboxView",
            "style": "IPY_MODEL_e06dd639bdee491ba4843b525257f5e5",
            "_dom_classes": [],
            "description": "measurements",
            "_model_name": "CheckboxModel",
            "_view_module": "@jupyter-widgets/controls",
            "_model_module_version": "1.5.0",
            "value": true,
            "_view_count": null,
            "disabled": false,
            "_view_module_version": "1.5.0",
            "indent": false,
            "description_tooltip": null,
            "_model_module": "@jupyter-widgets/controls",
            "layout": "IPY_MODEL_e2ed582f3e88405ebe54455ccdb2aeef"
          }
        },
        "38f452fed29c41448efd38c2c8d31d04": {
          "model_module": "@jupyter-widgets/controls",
          "model_name": "CheckboxModel",
          "state": {
            "_view_name": "CheckboxView",
            "style": "IPY_MODEL_56e9b8ea22f3499b9b67311509841537",
            "_dom_classes": [],
            "description": "todays prior",
            "_model_name": "CheckboxModel",
            "_view_module": "@jupyter-widgets/controls",
            "_model_module_version": "1.5.0",
            "value": true,
            "_view_count": null,
            "disabled": false,
            "_view_module_version": "1.5.0",
            "indent": false,
            "description_tooltip": null,
            "_model_module": "@jupyter-widgets/controls",
            "layout": "IPY_MODEL_4ddd5ffd6e184df7bbb6712e762218e2"
          }
        },
        "3d6b29e88dd5405ab73b871a739ea886": {
          "model_module": "@jupyter-widgets/controls",
          "model_name": "CheckboxModel",
          "state": {
            "_view_name": "CheckboxView",
            "style": "IPY_MODEL_516952a5f36a4657b40d0a4ccc35559d",
            "_dom_classes": [],
            "description": "likelihood",
            "_model_name": "CheckboxModel",
            "_view_module": "@jupyter-widgets/controls",
            "_model_module_version": "1.5.0",
            "value": true,
            "_view_count": null,
            "disabled": false,
            "_view_module_version": "1.5.0",
            "indent": false,
            "description_tooltip": null,
            "_model_module": "@jupyter-widgets/controls",
            "layout": "IPY_MODEL_5c93b8ce16094aeb9406af6bc73c1045"
          }
        },
        "dcb8effd2ba64bc9ab6cac99ccd3c7ae": {
          "model_module": "@jupyter-widgets/controls",
          "model_name": "CheckboxModel",
          "state": {
            "_view_name": "CheckboxView",
            "style": "IPY_MODEL_e70bd2fdc68d439c85dfd6bafbb29a96",
            "_dom_classes": [],
            "description": "posterior",
            "_model_name": "CheckboxModel",
            "_view_module": "@jupyter-widgets/controls",
            "_model_module_version": "1.5.0",
            "value": true,
            "_view_count": null,
            "disabled": false,
            "_view_module_version": "1.5.0",
            "indent": false,
            "description_tooltip": null,
            "_model_module": "@jupyter-widgets/controls",
            "layout": "IPY_MODEL_57f7922cccef45dc90c013c68cf6bb5f"
          }
        },
        "36e67d80f774480685ca6d1184f4a8f1": {
          "model_module": "@jupyter-widgets/output",
          "model_name": "OutputModel",
          "state": {
            "_view_name": "OutputView",
            "msg_id": "",
            "_dom_classes": [],
            "_model_name": "OutputModel",
            "outputs": [
              {
                "output_type": "display_data",
                "metadata": {
                  "tags": [],
                  "image/png": {
                    "width": 766,
                    "height": 413
                  },
                  "needs_background": "light"
                },
                "image/png": "iVBORw0KGgoAAAANSUhEUgAABf0AAAM6CAYAAAA7Z+kvAAAABHNCSVQICAgIfAhkiAAAAAlwSFlzAAAWJQAAFiUBSVIk8AAAADh0RVh0U29mdHdhcmUAbWF0cGxvdGxpYiB2ZXJzaW9uMy4yLjIsIGh0dHA6Ly9tYXRwbG90bGliLm9yZy+WH4yJAAAgAElEQVR4nOzdeVxUZf//8c+ZGbZh2EHBBUFcc4e0zHKhRU3L0npUanrbnd2aZWHLXWGaWla2YJb1NbsrLctMU3+5pqHpnaQG4pY7CqiAss/AsM3M7w8abkRAWRQ4vp6Ph49omDNzzXDOdV3nfa5zXYrNZhMAAAAAAAAAAND0aRq6AAAAAAAAAAAAoH4Q+gMAAAAAAAAAoBKE/gAAAAAAAAAAqAShPwAAAAAAAAAAKkHoDwAAAAAAAACAShD6AwAAAAAAAACgEoT+AAAAAAAAAACoBKE/AAAAAAAAAAAqQegPAAAAAAAAAIBKEPoDAAAAAAAAAKAShP4AAAAAAAAAAKgEoT8AAAAAAAAAACqhq8vGsbGx7UTkXhEZKCIBIuJQD2UCAFx7xSKSIiLbRWRDWFjYyYYtzv/QtgAAAAAA0Gg02vwAVVNsNlutNoyNje0nIh/qdLpmWq3WXVEUJxFR6rV0AIBrxWaz2QotFktuSUnJBRGZFhYW9ntDF4q2BQAAAACARqVR5geoXq1C/79HYS5zcnIKcXd3L/b29s7S6/VmjUZTuysIAIDrymq1Kvn5+S6ZmZleubm5DoWFhadEZHRYWNiphioTbQsAAAAAAI1LY8wPcGW1ndP/Xp1O18zd3b24devW5wwGQz6hDAA0HRqNxmYwGPJbt259zt3dvVin0zWT0il1GhJtCwAAAAAAjUgjzQ9wBbUN/QdqtVp3b2/vLEVh1gUAaKoURRFvb+8srVbrLiKDGrg4tC0AAAAAADRCjSw/wBXUNvQPUBTFSa/Xm+u1NACA606v15v/njvfv4GLQtsCAAAAAEAj1YjyA1xBbUN/BxFRmHYBAJo+RVFsUrpYrmMDF4W2BQAAAACARqoR5Qe4gtqG/gAAlWAqHQAAAAAAcCXkB00HoT8AAAAAAAAAACpB6A8AAAAAAAAAgEroGroAAAAAQFO29ph4NHQZroURHSWnocsAqJlx1RZV1h1uo+6m7oCqHTx4UJXHbrdu3Th2ARVhpD8AXActW7bspihK2IIFC3wauiwAANzIRo0aFaQoStioUaOCGrosarBgwQIfRVHCWrZs2a2hywJ1quqYre5Y7tOnT0dFUcKmTZvWoqHLeaXfNURZr5d169a5KYoSpihKWEOXBWhKyA9QHxjp3wgsWLDA58yZM07h4eHG4cOHGxu6PIAarFu3zi06OtotKCiocOrUqRkNXR4AuFHNnj27WXZ2tu6hhx7Kuu2228wNXZ5raV+KuDZ0GepDrwDJuxavS58XqFxB7GFV1B3OYV2uSd0BNFZnz55VxbHbqlWrG/7YJT+AGhH6NwLffvut7969ew0iIpwAAfUjOjraLSoqKqB3796mxtBoBwYGFjo6Olo9PT0tDV0WALieFi1a1Pz8+fOOQUFBhWoP/VE9+rzq5OnpaQkKCirw9/cvbuiy4Mbi7+9f3FT2vaZUVuBGRH4ANSL0B4DrICYm5nhDlwEAcH1cq5Hy15pa7lTA9TVu3LjscePGZTd0OdSgqY6Ub6g7FRYuXHhORM41xHvXVFMqK2quqY6UV8udCmpEfoD6wJz+AAAAAAAAAACoBKF/A7IvemW/zTkqKirAvsiN/d+xY8ccRUTs/79u3Tq3c+fO6Z588slWQUFBXV1cXHqVXxTnahYBmjZtWgtFUcL69OnTsarnHDt2zPGJJ55o3a5duy56vb6Xi4tLr+Dg4C4TJkxofeLECcf6/B7QdJTfvwoKCpTXXnvNv0OHDje5uLj0cnd373nbbbe1X7FihXt1r7FkyRLPQYMGtfPx8enh4OAQ6uPj02PQoEHtli5d6lnddqtWrXK/5557Qpo3b97dwcEh1GAw9GrVqlW3fv36tZ8xY0bztLQ0rUjpvqsoSlhUVFSAiMjevXsNFY+ryhbDqc0+X3Hhup9//tntrrvuCvHz8+uu1WovWajrSgvxlJSUyPz5831uvfXWDl5eXj0cHR1DmzVr1n3o0KFt161b51bV91L+b1JYWKjMnDmzedeuXTu7ubn1tNcZ1X2vUKfy+0VxcbHMmjWrWefOnW/S6/W9vL29e9x1110hMTExLvbnG41GzcsvvxzQvn37Li4uLr08PT17Dhs2rO3hw4edqnqPgoIC5Z133vG75ZZbOnh5efVwcHAI9fX17XHnnXeGVFcPHD161DEyMtL/jjvuaG9vx/R6fa+QkJAuTzzxxBXbmMWLF3v179+/vY+PTw+dThfq5ubWs02bNl3Dw8Pbvf322375+flKVd9FVa9ZXbtY02Ns7969zo899libNm3alH22Dh063PTss8+2TElJqfQOy4rvv2zZMo++fft28PT07GkwGHr16tWr0zfffHNJHblw4ULv0NDQTu7u7j31en2vm2++uePatWuveLwvX77cY/DgwSHNmjXr7ujoGOru7t7z5ptv7vjuu+/6FRQUKJVtU/47sFqt8sEHH/h27969k8Fg6OXq6tqrZ8+enT799FPvqj7X+fPnHUVEnnvuuaCK9fGVygt1qEmf16627aLdZ5995h0aGtrJ1dW1l5ubW8/u3bt3ev/9932tVmu12yUlJeneeuutZnfeeWdI27Ztu7i5ufV0dnYODQwM7PrII4+0+fPPP50rblNSUiLNmzfvrihK2PTp05tX9/pRUVG+iqKEubq69srKyio7FysuLpb333/ft0+fPh29vLx66HS6UE9Pz55BQUFdhw0b1jYqKsr3Sp+5orr228r3XXJycjTPP/98iw4dOtzk6uraq/zf7GoW8j18+LDTmDFjAtu0adPV2dk51GAw9Lrppps6v/jiiwGZmZmVnpNWXAD0999/d7n//vuDmzdv3l2n04VWdy6DG0NdFuX++OOPfXQ6XaiiKGHPPvtsy4q/r017WR9lrUk7W1Ftz7NESo+vBx98MKhFixbdnJycQt3d3Xv26tWr0+zZs5uZzeZqP+++ffuc77///mBfX98eTk5Ooa1ateo2fvz41snJycwscYMjP7gU+QGuNyrhBuTi4mL18fEpycnJ0ZaUlCguLi5WvV5/yZmIVqu1lf//48ePO/3jH/9om5GRoXNycrLpdDqb1LPPPvvM+/nnnw8qKipSREQcHR1tGo3GdubMGeevv/7a+ccff/RdunTpqZEjR+bW93ujaSgqKlJuv/32DrGxsQatVmvT6/VWo9GojYmJcY+JiXH/448/Uj788MPz5bcpKChQHnrooeD169d7iYhoNBoxGAyW7Oxs3fbt2z22b9/u8eOPP2auXLnyjJOT0yX79YsvvhjwwQcflAV2zs7OVpvNJufOnXM8d+6c465du9z79OmTP3z4cKNWq7X5+PiU5Ofna8xms0an09k8PDwumQfPxcXlkuOsPvb5OXPmNJs5c2Zrm80mBoPBotForvrYzMjI0N57770he/bscRMR0Wq1otfrLenp6Q6bNm3y2rRpk9dTTz2VtmjRorNVvUZBQYHSt2/fjvv27XPVarU2V1dXq6LU+HwEKlNcXKwMGDCgQ0xMjJuDg4NNp9PZsrKydL/++qtnTEyM+8aNG4916NChMDw8vMORI0f0Tk5ONkVRbDk5OdoNGzZ4/fHHH25//PHHkfbt2xeVf93jx487Dhs2rP3JkyedRUQURRFXV1dLRkaGLjo62jM6Otpz7dq1F5ctW5ZUsUzjxo0Ltgd/Dg4ONldXV0tubq4uISHBOSEhwfnHH3/0Wbly5cnBgwebKm778MMPB61cubKs46vX660lJSVKUlKSU1JSktO2bds8Ro4cmdOxY8eiitvW1dUcY9OnT2/+9ttvt7KHis7OztaSkhLlxIkTLidOnHD54YcffFavXn2iX79+Vc5rHxER0WL+/PkBGo1G9Hq9JS8vTxMfH+86bty4kNTU1MQXXngh/eGHHw766aeffLRarc3Z2dlmNps1sbGxhlGjRnX49ttvTz766KM5FV/XZDIpDz/8cPCmTZu87I8ZDAaLyWTSxsbGGmJjYw3ff/+9z5YtW074+flVOneoxWKRe+65J+TXX3/11Gq1NhcXF2teXp52//79rlOmTAk+ceKEc1RU1Pnyr+/j41OSlZWls1qtYjAYLBXrd9wYatrnrUu7aLVa5ZFHHimrKxRFETc3N8vhw4ddX3rpJdfffvvNzdHRscr9MCIiotVPP/3kYy+TwWCwms1mSU5OdkpOTnZas2aNz6JFixL+8Y9/lE1no9PpZMyYMelRUVEB3377rd/s2bPTNJrKx1Z9/fXXviIi999/f6aXl5dVpPTEfeDAge137dpVFnwYDAaL2WzW5OTkOCUmJjpt2LDBKyIiIv2qvvAKatNvKy8jI0PXo0ePmxITE50cHBxszs7O1V85qeCLL77wmjJlSrC9n+Xq6motLi5Wjhw5oj9y5Ih+2bJlvuvXrz8RGhpaUNVrfP31154TJ05sW1JSohgMBotOx2ksau+1117zf/vtt1tqNBqZO3du0quvvnrR/rv6aC9rq6btrF1dzrNERGbNmtVs1qxZrW02W9nnNZvNmvj4eNf4+HjXZcuW+f7yyy8n2rRpc9l6BCtXrnQfM2ZMO/vxrdfrrenp6Q5Lly5ttnHjRq/IyEimNAL5QSXID3A9MNK/AU2cODErPT19f69evfJERCZNmpSWnp6+v/y/du3aXdKwvv76663d3NxK1q5dezwvLy/OZDLt279//6H6KtPq1avdn3nmmWCLxSKTJk1KPXr06EGz2RyXl5e3Lz4+/tDQoUOz8vLyNOPHj2/LiP8b15IlS/wOHjzoOm/evMTc3Nx9ubm58SdOnDgwZMiQLJHSEXzLli3zKL/N1KlTW65fv95LURR57rnnUtLS0uJzcnLiU1NT45955plUEZF169Z5R0REXDIa9/jx445RUVEtRESefPLJtNOnTx8wm8378vLy9qWnp8dv2rTp2NixYy/aG+Z27doVp6en7580aVKaiEivXr3yKh5XEydOzLK/fn3s8xkZGQ6zZs1qPXLkyIwTJ04cMBqN8WazOW727NkpV/N9jhkzps2ePXvcHBwcbG+++WZyVlbWvtzc3PgzZ87sf/jhh9NFRD7//PPm8+bN86vmb9Ls2LFjLh999NGZ7OzsfTk5OfHnz5+P7927d/7VlAHqtGTJEr8jR464fPnllwlGo3GfyWTat3379iOtWrUqzM/P1zz//POB48aNC8rJydGtWrXqhL1dWbNmzXEvL6+SzMxM3YsvvnjJ6Lfc3FzNkCFD2p88edK5T58+xnXr1h3Ly8uLMxqN8enp6fFvvPFGsl6vt3733Xd+c+bMaVaxTF27ds1/++23kw4cOHDIbDbHZWVl7S8oKIiNjo4+cscdd+SaTCbt448/3tZkMl3S69y8ebNh5cqVPhqNRiIjI8+mpqbG5+Xl7TObzftSUlLiV61adWLkyJEZ1ypUvtIxFhUV5fvWW2+1cnZ2tv773/8+l5iYuN9sNu/Lz8+P27Fjx5Fbb73VePHiRYdRo0a1z8nJqbT/deTIEZePP/444N///ve5CxcuxBuNxviEhIQDt99+e66IyKxZs1q/8MILLTZs2OA1b968xKysrHiTybTvwIEDh7p06ZJvsVhk2rRpgRbL5RnE2LFjgzZt2uTVqlWrws8+++x0RkbGPqPRGG8ymeK+/fbbk61atSrcv3+/6+jRo4Oq+g6+/vrrZrt373ZbsGDBmezs7H1GozH+5MmTBwYNGpQjIrJgwYKAgwcPlt0dMnv27LT09PT9/v7+RSIib731VnLF+rgufxM0HTXt89alXZw7d24ze+A/bty4C+fOndufk5MTf+HChfhp06adX79+vfeWLVuqHB0YEhJS+Prrr5/ds2fPYbPZHJednR1fWFgYt3fv3sP3339/ZlFRkfL0008HnzlzxqH8ds8+++xFrVYriYmJTuvXr690lNyePXtcDhw44Coi8vTTT5eFjJ9//rn3rl273J2cnGwffvhhov34MpvNcWfPnt2/ZMmSU/Y+Vm3Upt9W3vvvv98iLy9Ps3Tp0lNGo3Ffbm5u/MmTJw+0aNGi5Erv/d///lc/efLk4KKiIiU0NNS0e/fuv0wm0778/Py4ZcuWnfTz8ytOTU11fOCBB9pVVTeKiEyZMiW4X79+uXFxcYeNRmN8QUFB3H/+858ztfpCcMOyWq0yYcKE1m+//XZLR0dH2xdffJFQPvAXqZ/2srZq2s7a1fY8S0Tk+++/93jjjTda22w2ufPOO7OPHDly0Gg0xhuNxn2ffPLJaVdXV+vx48ddHnzwwZCSkksP+VOnTjlMmDChbVFRkdKhQwdzdHT0kby8vH15eXlxP/744wmNRiOvv/566/r+ntD0kB9civwA1wuhfxOj0WhsW7duPX7//fcbtVqtiIh07969sD5e22KxSERERKDVapV33nkn6bPPPjvXsWPHIo1GIxqNRnr06FG4YcOGhPDw8GyTyaR9++23q719GeplMpm07777buJLL72UrtfrbSKljeW6desSbr75ZpOIyBtvvNHK/vzTp087fPnll81ERJ5++unU+fPnn/f19bWIiPj5+Vk+/vjjc08++WSaiMjixYubJyYmlp1I79ixw9VqtUqbNm0KFy9efDYoKKgsFPDx8bEMHjzY9M033yTdcccdNW6c6mufLywsVO68887slStXnrGHFjqdTrp06XLFYzM6Otp18+bNXiIic+fOTYqMjLzg5uZmFREJDAwsWbFiReLgwYOzRETefvvtFhWnLrHLz8/XLF68OGHq1KkZBoPBJiLi7+9vad68eb2OQELTYjQatcuXLz81YcKELCcnJ5tGo5EBAwbkL1y4MFFEZN++fa47d+5037x58/GRI0fmarVa0Wq1MmLECOOMGTPOioj88ssvnoWFhWX73Zw5c5qfPn3auXfv3qYdO3acGDZsmMnFxcUmUnpMzpw588Jnn312WkTkww8/DCguvnRQ2Jdffpn8yiuvXOzWrVuhvR1zcHCQQYMG5UdHR5/o0KGD+eLFiw5Lly71Kr/dzp07XUVE+vbtm/vmm2+mld+3/f39LSNHjsxdtWrVmfJ1RH2q7hjLysrSzJw5s5WIyNKlS0+98847qYGBgSUipXXBHXfckb9jx47jXbp0yU9LS3P46KOPKp2mw2QyaV944YVz77zzTqqPj49FRCQ4OLh47dq1p/4e7aeZP39+wIcffpj40ksvpdvrim7duhX+8MMPCSIiKSkpjlu3bjWUf91NmzYZ1q5d6+3t7V2ybdu2Y5MmTcr09va2iojo9XrbmDFjcrZv337MxcXFunXrVs9du3a5VCybiEhubq72u+++O/Xss8+WfQchISHF69evP+Xn51dstVrl22+/9apsW+Bq1aVdzM/PV95///0WIiIPPPBAxpIlS5IDAgJKRErrpw8++CBl8uTJqUajUVvV+8+bNy9l9uzZab179y5wcCjtjmi1Wrn55psL1q5de3rgwIE5ZrNZ8+mnn15yHAcHBxcPGjQoW0Tk888/r/QYX7hwoa+IyE033ZRfvt+ya9cug4jIyJEjMyIiItI9PDysIqWjGlu2bFkybty47I0bNybU8KssU9N+W0WFhYWaNWvWnHj88cez7RdWQ0JCiu1/l+q89tprLUtKSpTAwMDC7du3n+jTp49ZpPQ7HT16dM7q1atPaLVaW3JystMHH3xQZTgREhJi3rp168levXqV3Q3QrVu3ejkHwo2hoKBAue+++9p+/fXXzQwGg2XVqlUnJkyYcMnFtPpqL2urNu1sXc6zRESmT5/eSkQkLCzMtGnTplOdOnUqEhFxdna2TZkyJfPzzz9PECntM37zzTeXvPfMmTMDTCaT1tPTsyQ6Ovr4oEGD8kVKj++HHnoo9+effz5uNpvJnEB+UAH5Aa6Xa3pfpDJLfXO12mbaYhvy/R988MHMkJCQaxJobNy40S0xMdHJ09OzpLrbhx9//PGM6Ohoz+3bt1c791pTM2vWLNXtrzNnzrwm+6u/v3/R1KlTMyo+rtVq5bXXXksZOXJk+5MnTzrv2bPHpU+fPuZly5Z5WSwWxcnJyVbV1eu5c+emLF26tFlRUZHy7bffekVGRl4QEfH29raIlDZKubm5Gnd39xrdUl6d+tznIyMjr+qqfEXfffedl4hI8+bNi6sqw9y5c89v3rzZKzs7W7dmzRr30aNHXzZ1R7t27Qoqexw1ZyuxiHHFJq/ik8lODu1aF7o9MjRL0TbN85XQ0FBTZdPk3HvvvUZHR0dbUVGRMmTIkKyuXbte1sEcMWJEbkREhBQUFGgOHTrkFBYWViAi8t133/mKiDz33HOpVY2qHzt2bPaUKVMs2dnZup07d7qGh4fnXU15dTqdhIeH5xw/ftzlv//9r+Hpp5/OtP/O09PTIiKSmZmpKykpkes9tUN1x9g333zjZTQatZ07d84fNWpUpbfxOjg4yKhRozIPHz6s37p1q8eMGTMuVHyOk5OTzV73left7W3t2bOnKSYmxj0gIKDoX//6V2bF53Tp0qUwMDCwMCkpyWnfvn0u5f/uixcv9hURefDBBzMq3kFoFxISUnzrrbcat23b5rF+/XqP22677bIpiEJDQ0333XefseLjLi4utgEDBuSuXLnS59ChQ/rKXh+4WnVpF1evXu2ek5OjFRGZM2dOpe3y7NmzU//zn/80L38xsyaGDBmSs337do+YmBhDxd9Nnjz54tatWz1/+eUXr5SUlLILDiKlU4asXr3aR0RkwoQJl4wsttdvaWlp16Riq2m/reLz7rjjjpzqpiWrSnp6uva///2vu4jIs88+m1rZRYJ+/fqZBw8enL1hwwavVatWec+ePTutsteKiIhIY0of1FZmZqbm3nvvbbd79243Pz+/4p9//vnELbfcctk+XV/tZW3Vpp2ty3nW7t27XRISEpxFRF577bWUyo6x0aNH57zzzjt5Bw8edF2+fLm3/UKJ1WqVdevWeYuIPP744xdbtmx52Z0/vXv3LhgyZEiW/Xm4cZEfXI78ANcDPacmpl+/fpeFN/XFPorSZDJpmzdv3qOq5xUXFysipaMJr1VZ0Ljdeuutxqrmqh08eLBRq9XaLBaLEhMTo+/Tp485NjZWLyLStWvXPPtomYr8/PwsXbt2zYuLizPYny8i0r9//zxPT8+SixcvOoSFhXWeMGHChaFDhxp79OhRUFUZrlZ97fPOzs7Wfv361eo2uPj4+LLRy/ZRzxWFhoYWNGvWrPjChQsOe/fuda2sce7du/c1qxtuJLYSi6Q89lKIefvesqkfTKt/zQ5Y/v6pphj8h4aGVhq263Q68fT0LLlw4YLDzTffXOm+26pVq7KT3YyMDK1I6agb+6KszzzzTNBzzz1X5Xvn5+drRUQSEhIcK4b+mzZtMixevNg3Li7ONS0tzbGyUWAVj7ehQ4cap0+fbjty5Ii+d+/encaNG5c+dOjQXPuItGutumPMPko3ISHBxdfXt8q6xB4ynjt3rtK6JCQkxFzViYmfn1+JiEi3bt3yq6r7fH19i5OSkpyysrIuqUz+/PNPg4jIDz/84LtmzZpKFwMTKa0LRUQSExMrLV9V+5OISEBAQJGISMX3BmqqLu3i3r17XUVKw4XKLmaKlI7y69KlS15cXNxlob1dTEyMy8KFC/327NljOH/+vFN+fr7GPte1XWpq6mXHyQMPPJDbunXrwuTkZKdFixb5vPHGG2UB9pIlS7yMRqNWr9dbJ06ceMmFu/vuuy/n008/9Y+Ojvbs379/+zFjxmQMHjzYWF93LtW031bJ9rXqY+zatUtv/97uvffeKuc1vvPOO3M3bNjgdezYMZfCwkKlsgvK4eHh9HNQK6mpqQ79+vXrdPToUZc2bdoUbt68+XhVa//UV3tZW7VpZ+tynhUTE6MXKV2/ZOjQoZddbLAbOHBg7sGDB10PHjxYtu3Ro0cd7RdZ77rrriq3HTRokJHQH+QHlyI/wPVC6N/E+Pv7X5NR/iIi9iCnpKREycjIuOK+UVBQ0PQSMNSLFi1aVLkf6vV6m6enpyUjI0N34cIFBxGR9PR0B5H/dVarEhAQUFz++SIivr6+lq+++irhiSeeaHvy5EnnyMjIwMjISDEYDJbevXubHnroocx//vOfWbWZx7u+9nkPDw9LVQ3uldjft7rvVKQ0wLhw4YLDhQsXKi2nn5/fNasbbiTGFZu8ygf+IiLm7Xs9jT9s9HIfPazW8yk3lOqmXrAvBO/m5lbpLZz2aS1ERIqKijQiIklJSWUPZmdnX1UfIj8//5LjZvLkyS3/7//+z9/+/1qtVtzd3S0ODg42+/PNZrOm4nZdunQpjIqKOvPiiy+2sS8sN23aNPHy8irp27ev8bHHHsscPXp0dl0781Wp7hhLTU11ECkN9QsLC2tdl7i6ul7x72UwGKq85dZeDxUXF1/y+va62GQyaU2mK/fvq7oV/wr7k4iIlJSU0DdAndSlXbT/3Lx582q3tfc3KjN37ly/119/PdC+ILeiKGIwGCz2xX8LCwsVk8mkrVhHiZROxzNu3LiLb731VqulS5f6lg/9v/zySz8RkREjRmTap++xGzx4sCkyMvLsu+++23Lnzp3uO3fudLd/jttvvz13/PjxGZWN/r1aNe23VdSsWbMrzt1fmdTU1LK/TXBwcJVlCAwMLBIRsVgsyoULF7StW7e+7P1atmxJPwe18v333/uKlN5Nt3Xr1mNVjeAXqb/2srZq087W5TzL/nm9vLxK7FM1VsY+ECQzM7Ns25SUlLKf27RpU+V7249v3NjIDy5FfoDr5ZqG/g09FY4a1bZiuBr2hf+6d++et3///qPX7I0aqWs1FQ7q7oEHHjCGh4cf/Oabbzyjo6PdY2NjDYmJiU7btm3z2LZtm0dUVFTAL7/8cry6E8rK1Nc+r9Vqr8nCoTUsQ0MXQRWKTyZftjhadY/faEpKSsqmw4iLiztcfm7lqxxWFA8AACAASURBVLF69Wp3e+A/duzYi1OnTr3Qq1evgvK3kz/33HMtFixYEGCz2S6bemPy5MmZI0eOzFm6dKnXb7/95h4bG+uamprquGHDBq8NGzZ4zZ8/3/TLL7+cqGpEUF1Ud4xZLBZFRGTYsGFZ69atq/W829eK1WpVRETefffdpJdffvnilZ4P3Kji4uKcZ8yYEWi1WmXo0KFZ//73v1NvueUWs7Ozc1k7HxUV5Ttt2rQ2Vb3GlClTMt57772Wp0+fdt64caNh6NChpn379jnb7yyYPHlypcfgnDlz0v75z39mLl261Gvnzp1ucXFxhrS0NIdVq1b5rFq1ymfIkCFZa9asOX2tFiuvTmPo5zC1D2pr0KBBOXv37jWYTCbtuHHjgjdv3nyyqnCd9hJQB/KDqypDQxcB1wGjsVTGPhKwoKCgynlK7bfhVeTv718i8r+rl0BVzp8/X+lIMBERs9msZGdna0VEmjVrVixSOuXE39tVu2/ZR4zYn1+eu7u7dcqUKZmrVq06c+bMmUMJCQkHIiMjzzo5OdlOnjzp/K9//Suwpp+jMezzPj4+JSJVT/dhZ59GoLaj7XB1HNq1rnQ6iKoev9GUn/InISGhxsfN999/7yUicvvtt+d+8803Sb179y6oGOSkpaVVWb+IiDRv3tzy0ksvpa9bty4hJSXl4KFDhw49/fTTqYqiSGxsrOHll19uUf75dWkXr5a9rjt79myjbD/tdWp9T0MAXAt1aRftP1+pHik/QrW877//3stisUjbtm0Lfv7554QBAwbklw/8/37fatPngICAEvsCeosWLfITEbEv+tulS5f86hYODAoKKp4xY8aFLVu2nMrIyNi/e/fuvx555JF0EZFNmzZ5vffee1UudFudmvbb6ou9nyVSfZuRlJTkKFIagjRr1owFBFGvevbsmb9+/frj7u7ulpiYGLe77rqrXW5ubqU5SFNsL+tynmU/5rOysnRms7nKftLZs2cdRES8vb3Lti1/x1R131dycnKT+S5x7ZAf1B/yA9QEoX8joNFobCIiFecKrQ0PD48SkeqDh7i4ONfKHr/jjjtMIqW3Ru3YsYOF+FCl3bt3u9lve69o8+bNBvuo1759++aLiISFheWLiBw+fNjVPjd4Renp6dpDhw65iojcfPPNV1z0Mzg4uPjNN99Me+qpp1JFRH7//fdLFsm5muOqMezzPXv2zBMRiYmJcbOPHKho3759zvZbHfv06XNVC6KidtweGZrlMrB3dvnHXAb2znZ7ZGiTm9rnWujYsWORvTO+du1azys9vyJ757R79+6Vhl5Wq1V+//13t5q8ZpcuXQoXLlx47r777ssUEdmxY8cldUFd2sWrddttt5lERA4fPqxPTEysNmxsCGFhYSYRkS1btng0xPsrSmmOUB/9HDRtV9M216Vd7N27d55I6Ynu4cOHK71DKzMzU/PXX39V2ubb64mbbropv6oRcNUtymc3ZcqUiyKlQX1SUpJu5cqVPiIi//jHP2o0crhPnz7m5cuXJ4aGhppERKKjo6/43pWpab+tvtx2221la5Bs3Lixyrrd/rk6depkbog7GaB+/fv3z9+wYcMxDw8Py549e9zCw8Pb5+TkXJaFNHR7WRt1Oc+yH/MWi0Wp7hj97bff3EVKRzfbH+vUqVORh4eHRUTk119/rXLbbdu21ahfB3UiP6g/5AeoCUL/RsA+P6/96mZddOvWzSwisnPnTvfKRjD8v//3/9zsC39UNHz48NzAwMBCEZGIiIjW1Y2KFBFJS0vjfqAbVEpKiuMnn3xy2eJWFotF3nnnnQARkZCQkAL7YnBjxozJ0mq1tsLCQmXmzJn+FbcTEZk+fXpAUVGRotPpbGPGjCkLXasbdSIi4uLiYhX5XyNt5+7ubhERyc3NrXI/bQz7/JgxYzJFSufUjIqK8q3sOZGRkS1ERDw9PUtGjBhR5UJ4qDtFq5GA5e+f8vvolQTPZ8ec8/volYSmuojvtTJ27NiLIiIrVqzw/f33312qe27FY8Z+XB46dKjS7d577z2/s2fPVhrUXW1dYA+Y7erSLl6t8ePHZ7m5uVlKSkqUZ555plVVJzUipfVkenr6dW0///Wvf10UETlx4oTLu+++W+1I4dzcXM2V6sKaqs9+Dpq2q9kX6tIujhgxItdez8yYMSOgsm3feOMN/6rm2LVve/ToUX1lx/GKFSvc9+zZc8UAa/Dgwab27dubCwsLlVGjRoVkZ2frKlvA1+5K9ZuTk5O9fqtVIF7Tflt98fX1tdx+++05IiIff/yxv9FovOx7j4mJcdm0aZOniMioUaMq/X6A+tCvXz/zxo0bj3l6epbExsYawsPD22dlZV2yTzZ0e1kbdTnPuuWWW8whISEFIiJz584NKCm5fEDwDz/84HHgwAFXEZFHH3207BjVaDQybNiwTBGRpUuX+qWkpFx2F1RsbKzzpk2bvOr8IdHkkR/UH/ID1AQpRiNw0003mUVEoqOjPU6fPl2nEYJjx47N1Gg0kp2drXvggQfanjp1yr4YkfLxxx/7jBkzJsR+Rb4iBwcHWbBgQaJWq7XFxcUZbrnllo5r1651KywsLKvI/vrrL8d58+b5de3atfMHH3zQrC5lRdNlMBgsL7/8cpsPPvjANz8/XxEROXnypMP999/fdvfu3W4iIjNmzDhnf35wcHDxE088cUFE5NNPP/WPiIhoYQ+90tPTtc8991yLRYsWNRcRmThxYlqbNm3Kbs97/fXX/fv3799+4cKF3vb9WaS0Mf/iiy+8Pv30U38RkYEDB16yIn337t3NIiKnTp1y2bJlS6WBXmPY5wcNGpRvnwbgtddeC5w7d66f/aQ4KSlJ9+ijj7bZuHGjl4jIq6++el6v1zMC7hpTtBpxHz0sy2fGpFT30cOyCPwvNWPGjDR7mDVkyJCOc+fO9UtNTS3r0Kanp2tXrFjh/uCDDwb169evU/lt77nnnlwRkR07dni89NJLAfYQPj09XfvKK6/4R0ZGBnp6elZ6C+qECRMC77333rZff/2157lz58pOLHNycjTz5s3z++mnn3xERO6+++5L6oK6tItXy9fX1/LWW28li4isW7fOe9CgQe2io6Nd7aNvLBaLxMXFOc+cObN5+/btu6xYseK6jiAcNmyY6aGHHsoQEXn11VcD//nPf7b+66+/yu58MJvNyq+//uo6adKkVm3atOlW/vutDx07djSLiKxdu9b74sWLBP83sKvp89alXTQYDLZp06adFxH56aeffJ544onW9vopMzNT89JLLwV88sknAVUtYH7vvffmiIicPHnSedy4cYH2k/Xc3FzNe++95zt+/PiQquqoiuyj+v/880+DSOUL+NoNHjy43cMPPxy0YsUK9/IXBdPS0rQvv/xywB9//OEuIjJ06NCcyra/kpr22+rTW2+9dV6n09mSkpKcBg4c2H7Pnj0uIqX14g8//OAxYsSI9haLRWndunXhtGnTmEMd11Tfvn3NmzdvPu7l5VUSFxdnCA8P75CZmVnW0Wvo9rI26nKeJSIyZ86csyIisbGxhqFDh4YcPXrUUaR00fLPPvvM+8knnwwWEenVq1fe2LFjL7kb9o033kh1dXW1Zmdn68LDwzvYRz5brVb56aef3O+77772zs7O9b7OEpoe8oP6Q36AmmjwRgoiEydOzPj888/9k5KSnNq1a9fdy8urxD6iZ8eOHUdDQkKuen7N7t27F06dOjVl/vz5Adu2bfNo165dd4PBYDGbzRqLxaLcdddd2TfddJN5wYIFlY5+GjFihPGrr75KmDx5cvCBAwdcH3jggQ46nc5mMBgs+fn52qKiorLKbNiwYUx3cYMaP378xZiYGMOLL77Y5pVXXgnU6/XW8lfEp06dmjJu3LhLOoULFiw4d+7cOce/F9sMWLBgQYDBYLCYTCatfTTd8OHDM6Oios6X385qtSo7d+5037lzp7uIiLOzs9XJycmWm5urtd9617Zt24KFCxcml99u2LBhxqCgoIIzZ84433PPPZ3c3d0t9hGGb7755tkJEyZkiTSOfX7ZsmWJQ4cOddi7d68hMjIycMaMGa1dXV2tRqOx7DM+9dRTaSwohsbAw8PD+ssvv5x44IEHQvbv3+8aGRkZOH369ECDwWCx2WxiMpnK6gL7SBi7p59+OmPZsmU+sbGxhvfff7/FBx980MLNza2sHhg4cGBO9+7d8ytro4qLi5WNGzd62Tuxer3eqtVqbUajsez9QkNDTXPnzk0pv11d28Wr9eyzz2aYzWbN9OnTW+/YscPjzjvv9HB0dLTp9XqLyWTSll8EueLdCNfDN998k6jVam0//PCD75dfftnsyy+/bKbX6606nc5Wvh4WKR29V58mTZp08eeff/bet2+fa0BAQE9vb+9iBwcHm4jIuXPnDtbrmzUS+1KkTnePqNXV9nnr0i5Onz79Qnx8vH7NmjU+X331VbMlS5Y0MxgMlry8PK3FYpHhw4dnOjo62uwXCssbMWKEcfjw4Znr1q3zXrZsmd+yZcv83NzcLPn5+VqLxSJdunTJHz16dHpkZOQV5wGeNGlSxptvvtnKbDZrRKpewFdEpKCgQLNy5Uof+zRA9v5K+fp0yJAhWREREelXet/K1KbfVl9uv/32/E8//fT0lClTgv8OSG4yGAyW4uJijT0k8ff3L1qzZs3Jqi6K3EgKYg9Td1xjffr0MW/ZsuXY4MGDO8bHx7sOHDiwQ3R09AlfX1+LSMO2l7VV2/MsEZHHHnss5/jx48mzZs1qvXXrVs/OnTt7urm5WQoKCjTFxcWKiEj79u3NP/3006mK6zC1b9++6IsvvkgYP358yNGjR10GDBjQ2dXV1WqxWKSgoEDj5+dXPGfOnOTnn38+6Dp8DQ3q7NmzHLvVID+oX+QHuFqNo5W6wXXr1q1w/fr1x8LDw7O9vLxKsrOztefPn3c8f/68Y/mQ4GpFRUWdX7hw4ekePXrkubi4WK1Wq9KpUyfzvHnzEjdv3nzqSqt0P/7449nHjh07GBERkdKtW7c8vV5vNRqNOkdHR2vHjh3NjzzySPrSpUtPzZo1K63WHxpNmqOjo+33338//sorr5wLDg4uKCoqUgwGg6Vv377G5cuXn/zoo48u61A6Ozvb1q9fn/DVV1+d6t+/f46Hh0dJXl6exsPDo6R///45S5YsOfXzzz+frjiX69SpUy++//77icOHD89s37692dnZ2WoymTTu7u6WsLAw0+zZs5MPHjz4V2Bg4CUj7xwcHCQ6Ovr4I488kt6yZcsis9mssR9XFW8vb+h93sfHx7Jr165jUVFRZ/r06WN0dXW15ufna3x9fYsHDx6c9fPPPx9ftGjR2Wvx3kBtBAUFFf/5559HFy1alBAeHp7t6+tb/PfJoaZFixZFgwYNypk9e3byjh07jpXfzsnJybZjx47jERERKW3atCnU6XQ2m80m3bp1y3v33XeTtm7derKqNmr27Nkpb775ZvLdd9+dHRwcXKDVam35+fkab2/vkttuuy13/vz5Z3bv3n3M3d39stCoru3i1Xr55ZcvHjx48NBTTz2V1rFjR7Ojo6PVaDTq9Hq9tUuXLvnjx4+/sHr16uNPPfXUdZ/CwtnZ2bZ8+fLELVu2HB01alRG69atC61Wq/z9HRb36dPH+Pzzz6fs3r37r+Dg4HpdzHPo0KGm5cuXn+jbt2+um5tbSUZGhoO9Pq7P90Hjd7V93rq0i1qtVlavXn3mk08+Od2jR488Jycnq8ViUTp37pw/b968xLVr156uroxr1qw5PXv27OQOHTqYHR0dbVarVWnfvr351VdfPbd3796jBoPhqoJpb29v6+23354rcuUFfD/55JOkyMjIswMGDMhp06ZNoc1mU+yBWXh4ePbXX399auPGjQm1ratq02+rTxMnTsyKi4s7/Nhjj11s3bp1YVFRkUar1do6depkfuGFF84fPnz4cGhoaMG1LANQXlhYWMGWLVuO+fn5FR88eNB14MCBHex3ojVke1lbtT3Psps5c+aFHTt2HBkxYkSmv79/UUFBgcbJycnao0ePvFmzZiXv37//SFBQUKWf9dFHH83ZtWvXX8OHD8/09vYuKS4uVry9vUvGjRt3ITY29q+QkJCia/vp0RSQH9Qv8gNcLaU2i6rFxsb+6ezs3LlLly5HrkGZADRSffr06bh3715DREREyocffnhNTxBxfR0+fLhzQUHBkbCwsJsbqgy0LQCaqrXHpMks+lgTIzpKraaTQek0Ai1atOienZ2te++99xJffPHFWo3Srwv6bY2fcVXTWTC2JtxG3U3dAVU7ePCgKo/dbt261euxSzukXo0hP8CVMdIfAAAAAOrR4sWLvbOzs3UGg8FS1QK+AAAAwLXCnP4AAABAHTAiHuUdPnzYae7cuS1FRMaOHXuRuepRFUbEA01TfY+IB4BrgdAfAAAAAOooLCysY3JyslNGRoaD1WqV5s2bF8+ZMye1ocsFAACAGw/T+wAAAABAHaWmpjpevHjRwd3dveTuu+/O3rp16zFfX19LQ5cLAAAANx5G+gO4anv27DnW0GUAAABojM6dO3ewoctQHv02AEBDoh0CGhYj/QEAAAAAAAAAUAlCfwAAAAAAAAAAVILQHwAAAAAAAAAAlSD0B4AbnM1ma+giAAAAAACARo78oOmobehfLCI2q9Wq1GdhAADXn81mU0TEJiJFDVwU2hYAAAAAABqpRpQf4ApqG/qn2Gy2wvz8fJd6LQ0A4LrLz893sdlshSKS2sBFoW0BAAAAAKCRakT5Aa6gtqH/dovFkpuZmenFbR0A0HTZbDbJzMz0slgsuSKyrYGLQ9sCAAAAAEAj1MjyA1xBbUP/DSUlJRdyc3MdkpOTW5pMJr3ValUIaQCg8bPZbGK1WhWTyaRPTk5umZub61BSUnJBRDY0cNFoWwAAAAAAaCQacX6AK6h1mBIbG9tPRD7U6XTNtFqtu6IoTiLCPMwA0DTYbDZbocViyf27wZ4WFhb2e0MXirYFAAAAAIBGpVHmB6henUZQxsbGhojIvSIySET8RcSxnsoFALi2iqR0Dr5tIrIhLCzsVAOXpwxtCwAAAAAAjUajzQ9QNaZNAAAAAAAAAABAJWo7pz8AAAAAAAAAAGhkCP0BAAAAAAAAAFAJQn8AAAAAAAAAAFSC0B8AAAAAAAAAAJUg9AcAAAAAAAAAQCUI/QEAAAAAAAAAUAlCfwAAAAAAAAAAVILQHwAAAAAAAAAAlSD0BwAAAAAAAABAJQj9AQAAAAAAAABQCUJ/AAAAAAAAAABUgtAfAAAAAAAAAACVIPQHAAAAAAAAAEAlCP0BAAAAAAAAAFAJQn8AAAAAAAAAAFSC0B8AAAAAAAAAAJUg9AcAAAAAAAAAQCUI/QEAAAAAAAAAUAlCfwAAAAAAAAAAVILQHwAAAAAAAAAAlSD0BwAAAAAAAABAJQj9AQAAAAAAAABQCUJ/AAAAAAAAAABUgtAfAAAAAAAAAACVIPQHAAAAAAAAAEAlCP0BAAAAAAAAAFAJQn8AAAAAAAAAAFSC0B8AAAAAAAAAAJUg9AcAAAAAAAAAQCUI/QEAAAAAAAAAUAlC/xuYoiinFUU53dDlAAAAAAAAAADUD11DFwANqpmLi4teRGwNXRAAAPA/nTt3Lvv5yJEjDVgSAAAAALiM0tAFQPUY6Q8AAAAAAAAAgEoQ+gMAAAAAAAAAoBKE/gAAAAAAAAAAqAShPwAAAAAAAAAAKkHoDwAAAAAAAACAShD6AwAAAAAAAACgEoT+AAAAAAAAAACoBKE/AAAAAAAAAAAqQegPAAAAAAAAAIBKEPoDAAAAAAAAAKAShP4AAAAAAAAAAKgEoT8AAAAAAAAAACpB6A8AAAAAAAAAgEoQ+gMAAAAAAAAAoBKE/gAAAAAAAAAAqAShPwAAAAAAAAAAKkHoDwAAAAAAAACAShD6AwAAAAAAAACgEoT+AAAAAAAAAACoBKE/AAAAAAAAAAAqQegPAAAAAAAAAIBKEPoDAAAAAAAAAKAShP4AAAAAAAAAAKgEoT8AAAAAAAAAACpB6A8AAAAAAAAAgEoQ+gMAAAAAAAAAoBKE/gAAAAAAAAAAqAShPwAAAAAAAAAAKkHoDwAAAAAAAACAShD6AwAAAAAAAACgEoT+AAAAAAAAAACoBKE/AAAAAAAAAAAqQegPAAAAAAAAAIBKEPoDAAAAAAAAAKAShP4AAAAAAAAAAKgEoT8AAAAAAAAAACpB6A8AAAAAAAAAgEoQ+gMAAAAAAAAAoBKE/gAAAAAAAAAAqAShPwAAAAAAAAAAKqFr6AIANxqbxSJ563dI8alkcQhpLa7DB4ii4fobAAAAAAAAgLoj9AeuI5vFImn/nCF563eUPeY6rL80/3IOwT8AAAAAAACAOiNlBK6jvPU7Lgn8yx5b91sDlQgAAAAAAACAmhD6A9dR8ankGj0OAAAAAAAAADVB6A9cRw4hrWv0OAAAAAAAAADUBKE/cB25Dh8grsP6X/rYsP7iOnxAA5UIAAAAAAAAgJqwkC9wHSkajTT/co7krftNik8li0NIa3EdPoBFfAEAAAAAAADUC0J/4DpTNBox3D+ooYsBAAAAAAAAQIUYXgwAAAAAAAAAgEoQ+gMAAAAAAAAAoBKE/gAAAAAAAAAAqAShPwAAAAAAAAAAKkHoDwAAAAAAAACAShD6AwAAAAAAAACgEoT+AAAAAAAAAACoBKE/AAAAAAAAAAAqQegPAAAAAAAAAIBKEPoDAAAAAAAAAKAShP4AAAAAAAAAAKgEoT8AAAAAAAAAACpB6A8AAAAAAAAAgEoQ+gMAAAAAAAAAoBKE/gAAAAAAAAAAqAShPwAAAAAAAAAAKkHoDwAAAAAAAACAShD6AwAAAAAAAACgEoT+AAAAAAAAAACoBKE/AAAAAAAAAAAqQegPAAAAAAAAAIBKEPoDAAAAAAAAAKAShP4AAAAAAAAAAKgEoT8AAAAAAAAAACpB6A8AAAAAAAAAgEoQ+gMAAAAAAAAAoBKE/gAAAAAAAAAAqAShPwAAAAAAAAAAKkHoDwAAAAAAAACAShD6AwAAAAAAAACgEoT+AAAAAAAAAIBGQ1GUVxRFsdn/NXR5mhpCfwAAAAAAAABAo6AoSkcRmdnQ5WjKCP0BAAAAAAAAAA1OURSNiHwpIs4iEtPAxWmyCP0BAAAAAAAAAI3BsyJym4gsE5FfGrgsTRahPwAAAAAAAACgQSmKEiwib4lIhohENHBxmjRdQxcAAAAAAAAAAHDDWywiriLytM1mu6goSkOXp8ki9AcAAAAAAAAAXBVFUWKv5nk2my2sBq85UUTuFJGtNpttaW3LhlJM7wMAAAAAAAAAaBCKorQUkfdExCwi/2rg4qgCI/0BAAAAAAAAAFelJiP4r9IiEfEQkX/bbLaEen7tGxIj/QEAAAAAAAAA152iKGNFZJiIxIvIhw1cHNUg9AcAAAAAAAAAXFeKojQXkfkiYhGRiTabraSBi6QaTO8DAAAAAAAAALje3hERHxH5TESOKopiqPB7R/sP5X5XZLPZiq5T+ZosRvoDAAAAAAAAAK634L//O1lEjJX8e7Xcc+2PzbueBWyqCP0BAAAAAAAAAFAJpvcBAAAAAAAAAFxXNpttYHW/VxTlDRGZ+fdzletQJNVgpD8AAAAAAAAAACpB6A8AAAAAAAAAgEoQ+gMAAAAAAAAAoBKE/gAAAAAAAACARsVms71hs9kU5vOvOUJ/AAAAAAAAAABUgtAfAAAAAAAAAACVIPQHAAAAAAAAAEAlCP0BAAAAAAAAAFAJQn8AAAAAAAAAAFSC0B8AAAAAAAAAAJUg9AcAAAAAAAAAQCUI/QEAAAAAAAAAUAlCfwAAAAAAAAAAVILQHwAAAAAAAAAAlSD0BwAAAAAAAABAJQj9AQAAAAAAAABQCUJ/AAAAAAAAAABUgtAfAAAAAAAAAACVIPQHAAAAAAAAAEAlCP0BAAAAAAAAAFAJQn8AAAAAAAAAAFSC0B8AAAAAAAAAAJUg9AcAAAAAAAAAQCUI/QEAAAAAAAAAUAlCfwAAAAAAAAAAVILQHwAAAAAAAAAAlSD0BwAAAAAAAABAJQj9AQAAAAAAAABQCUJ/AAAAAAAAAABUgtAfAAAAAAAAAACVIPQHAAAAAAAAAEAlCP0BAAAAAAAAAFAJQn8AAAAAAAAAAFSC0B8AAAAAAAAAAJUg9AcAAAAAAAAAQCUI/QEAAAAAAAAAUAlCfwAAAAAAAAAAVILQHwAAAAAAAAAAlSD0BwAAAAAAAABAJQj9AQAAAAAAAABQCUJ/AAAAAAAAAABUgtAfAAAAAAAAAACVIPQHAAAAAAAAAEAlCP0BAAAAAAAAAFAJQn8AAAAAAAAAAFSC0B8AAAAAAAAAAJUg9AcAAAAA4P+zd+dxbl31/f9fZ+yZcTImC4mYgDGECBJIoWxhM8hygC8peAgtlB9tKRDqQilt6Y8C5VvoN7Jw+6P8KG1ZHv1CKS4JtGxlSbC/LAHisSDsS1kCCVUKMS4xSsjmcTIzls/3j6uxx+NZJI2WK+n1zEOPqzm65+ozd2TH877nniNJktQnDP0lSZIkSZIkSeoThv6SJEmSJEmSJPUJQ39JkiRJkiRJkvqEob8kSZIkSZIkSX3C0F+SJEmSJEmSpD5h6C9JkiRJkiRJUp8w9JckSZIkSZIkqU8Y+kuSJEmSJEmS1CcM/SVJkiRJkiRJ6hOG/pIkSZIkSZIk9QlDf0mSJEmSJEmS+oShvyRJkiRJkiRJfWJttwuQJElaTqxWmdq9l9nyPoazGxmbyBOGHLcgSZIkSdJiDP0lSVJqxWqVA9suZWr33qNtY1s3M75zh8G/JEmSJEmL8LdlSZKUWlO79x4X+B9t2zXZpYokSZIkSUo3Q39JkpRas+V9DbVLkiRJkjToDP0lSVJqDWc3NtQuj3Q9+wAAIABJREFUSZIkSdKgM/SXJEmpNTaRZ2zr5uPbtm5mbCLfpYokSZIkSUo3F/KVJEmpFYaGGN+5g6ldk8yW9zGc3cjYRN5FfCVJkiRJWoKhvyRJSrUwNMT6iy/sdhmSJEmSJPUEh8lJkiRJkiRJktQnDP0lSZIkSZIkSeoTTu8jSX0qVqtM7d7rPOiSJEmSJEkDxNBfkvpQrFY5sO1SpnbvPdo2tnUz4zt3GPxLkiRJkiT1MZMfSepDU7v3Hhf4H23bNdmliiRJkiRJktQJhv6S1Idmy/saapckSZIkSVJ/MPSXpD40nN3YULskSZIkSZL6g6G/JPWhsYk8Y1s3H9+2dTNjE/kuVSRJkiRJkqROcCFfSepDYWiI8Z07mNo1yWx5H8PZjYxN5F3EV5IkSZIkqc8Z+ktSnwpDQ6y/+MJulyFJkiRJkqQOcsinJEmSJEmSJEl9wtBfkiRJkiRJkqQ+YegvSZIkSZIkSVKfMPSXJEmSJEmSJKlPGPpLkiRJkiRJktQnDP0lSZIkSZIkSeoThv6SJEmSJEmSJPUJQ39JkiRJkiRJkvqEob8kSZIkSZIkSX3C0F+SJEmSJEmSpD5h6C9JkiRJkiRJUp8w9JckSZIkSZIkqU8Y+kuSJEmSJEmS1CcM/SVJkiRJkiRJ6hOG/pIkSZIkSZIk9QlDf0mSJEmSJEmS+oShvyRJkiRJkiRJfcLQX5IkSZIkSZLUFSGEM0IILw4hvD+EcG0IYSqEMB1C+FkI4RMhhN/odo29Zm23C5AkSZIkSZIkDaybOD6nvhuYBTbUHs8KIXwK+M0Y46Eu1NdzHOkvSZIkSZIkSeqWtcDXgJcD2RjjSTHG9cADgPfU9nk68K4u1ddzHOkvSZIkSZIkSeqWJ8cYr17YGGP8CfD7IYTDwB8AvxtCeF2McV+nC+w1jvSXJEmSJEmSJHXFYoH/Au+Z9/yCdtbSLwz9JUmSJEmSJElpdfe852u6VkUPMfSXJEmSJEmSJKXVlnnPv9etInqJc/pLkiRJkiRJkuoSQvhmPfvFGB/dgvc6DfiL2pelGON1qz3mIHCkvyRJkiRJkiQpVUIIQ8D7gHuTTPHzx92tqHc40l+SJEmSJEmSVJdWjOCv01uBidrzP4oxfrdD79vzHOkvSZIkSZIkSUqNEMLfcmxk/ytjjDu7WU+vMfSXJEmSJEmSJKVCCOH/B15V+/LVMcZ/6GY9vcjpfSRJklKkevOtxEN3E2MEYOozX+pyRf0lnDTK6PlZ1px5erdLkSRJkrRACOHNwKtrX/55jPEt3aynVznSX5IkKUWmry0fDfzVevGuaaavLXe7DEmSJEkL1Kb0mR/4v7mb9fQyR/pLkiSlSLxrOtnenWzv/ta13Syn76x71PlHz7EkSZKkdKgF/vOn9HGE/yoY+kuSJEmSJEmSumLBHP5/FmP8+27W0w8M/SVJklJs3aPO73YJfcE7JiRJkqT0CSHcD3hN7csjwGtDCK9dpsvfxhj/tv2V9TZDf0mSJEmSJElSNwwteD6+wv7r21hL3zD0lyRJkiRJkiR1XIzxJ0Dodh39ZmjlXSRJkiRJkiRJUi9wpL8kSVIbxWqVqd17mS3vYzi7kbGJPGHIcReSJEmSpPYw9JckSWqTWK1yYNulTO3ee7RtbOtmxnfuMPiXJEmSJLWFv21KkiS1ydTuvccF/kfbdk12qSJJkiRJUr8z9JckSWqT2fK+htolSZIkSVotQ39JkqQ2Gc5ubKhdkiRJkqTVMvSXJElqk7GJPGNbNx/ftnUzYxP5LlUkSZIkSep3LuQrSZL6SqxWmdq9l9nyPoazGxmbyHdt0dwwNMT4zh1M7ZpMRT2SJEmSpP5n6C9JkvpGrFY5sO3S4xbPHdu6mfGdO7oa/K+/+MKuvLckSZIkafAY+kuSpL4xtXvvcYH/0bZdkwbvkiRJkqSuK2dyvwI8kSSb/49spfSlVr+Hob8kSeobs+V9DbVLkiRJktQK5UzuPsCra1++N1spfXeRfd4JvGRB217g2dlK6dZW1eKEspIkqW8MZzc21C5JkiRJUov8NvD/koT6Nyx8sZzJvQJ4KRAWPDYDH25lIYb+6nuxWuXglVdz699fzsErryYeOdLtkiRJbTI2kWds6+bj27ZuZmwi36WKJEmSJEkDYu6X0auzldLB+S+UM7m1wOtqX04Dfwv8MfB1kuD/yeVM7hmtKsTpfdTX0rigoySpfcLQEOM7dzC1a5LZ8j6GsxsZm8j7d74kSZIkqd3OASLw1UVeezJwr9rrL8tWSpcBlDO59wLXAfcBfgf4P60oxNBffc0FHbUasVplavdeg0Opx4ShIf+OlyRJkiR12pm17U8Wee3Jte0dwL/ONWYrpUPlTO7fgNcAF7SqEEN/9TUXdFSzvEtEkiRJkiRJDbhnbXtokdeeSDLK/wvZSunwgteuq203tKoQkyv1NRd0VLOWu0tEkiRJkiRJWmCmtj11fmM5k1vHsVH8X1yk3+217WirCjH0V19zQUc1y7tEJEmSJEmS1ID9te0jF7Q/lWOB/jWL9Duttj24yGtNcXof9TUXdFSzvEtEkiRJkiRJDfgKcC7wu+VM7m3ZSqlczuTWAK+uvX4b8I1F+j2ktr2xVYUY+qvvuaCjmjF3l8jCOf29S0SSJEmSJEmL+BfghSQj979ezuQmgQcB55PM5//+bKVUXaRfrvb691pViKG/JC3Cu0QkSZIkSZJUr2ylNFnO5N4DbCMJ/i+e9/J/AzsW9ilncmcDjyEJ/b/UqloM/SVpCd4lIkmSJEmSpAa8FPg+8PvAA4FDwFXAa7OV0s2L7P9H855/plVFGPpLkiRJkiRJkrRK2UopAm+tPerxFuAdQMxWSs7pL0mS2iNWq0zt3uvUVpIkSZIktVG2UrqpHcc19JckSUfFapUD2y49YRHr8Z07DP4lSZIkSVpCOZO7tPb0g9lK6foG+mWB5wNkK6U3tKKWng79QzHcD3gIcDowEgvx8i6XJElST5vavfe4wP9o265J17jokEOzMxyuVjkSIwA//Ma3ulxRfxm5tQLA6HXXNdx3eHiY8fFxxsbGWl2WJEmSpN63nWRB3u8AdYf+JHP/z/Ud3NA/FMNLgT8DHrTgpcsX7Pd6IA/8LBbi73WoPEmSetZseV9D7Wq9yqGDxG4XoUXNzs5y4MABzjnnnG6XIkmSJElL6qnQPxTDeuDjwJPnmua9vNjvx18BdgAxFMNbYiH+oM0lSpLU04azGxtqV+sdXptMo1StbW8ZP6Wb5fSfg7fD2rUM79/fcNcNGzYwOzvbhqIkSZIkDbA1tW21VQfstcl5PwA8hSTs/y/gjcA7l9n/C8DcYggT7S1NkqTeNzaRZ2zr5uPbtm5mbCLfpYoGz/DGs44f1qDWWruWtWee3u0qJEmSJGnO/WvbO1p1wJ4Z6R+K4RnAVpIR/ZcDL4mFeDgUw7OAly3WJxZiDMVwFfAC4EnAmzpVryRJvSgMDTG+cwdTuyaZLe9jOLuRsYm8i/h20NAp6wmjI4TDhwE4O/f4Llek/U3cFSBJkiRpYNU1Y2s5kzsZeBTwylqfH7WqgJ4J/YEX1rbXA78fC7He2x3+gyT0f0hbqpIkqc+EoSEX7ZUkSZIkaQnlTK4AXLrISwH4RDmTa+awV6yqqHl6KfR/ArVR/g0E/nBsep/x1pckSZIkSZIkSRpAS03M2syErV8E3rqKWo7TS6H/vWrb/2yw30xtO9LCWiRJkiRJkiRJg+knwOSCtjzJoPVrgZtX6H8EOEiybu3ngd3ZSulIq4rrpdD/bpLgfrjBfpna9tbWliNJkiRJkiRJGjTZSuky4LL5beVMbi60f322Urqy81Ud00uh/38Dp9D43PxPqG1vaG05ktRZsVplavdeF1eVJEmSJElKn70kI/1XGuXfdr0U+k+SBP7PC8VQiIW44u0OoRjGgeeQnOyr21yfJLVNrFY5sO1SpnbvPdo2tnUz4zt3GPxLkiRJkiR1WbZS2tLtGub0UlJ0eW2bBf56pZ1DMZwE/BtwElAF3tO+0lYnhHBaCOFZIYQ3hBB2hRB+HkKItccl3a5PUvdN7d57XOB/tG3XwunjJEmSJEmSNMh6ZqR/LMSvhGL4MPD/AH8eiiELvIUFc/yHYtgAPA14LfAgklH+/zsWYpqn9/l14F+6XYSk9Jot72uoXZIkSZIkSYOpZ0L/mt8D7g88jmTanufU2iNAKIbDQJi3fwA+B7yqUwWGELYDBaAYY9zeQNebgG8D3wK+CXys5cVJ6lnD2Y0NtUuSJEmSJKnzypncPUly7IuA84HTgdE6usZspdSSvL6XpvchFuIhIA+8FZglCfXnHpB8P3Nfz5LcCfCMWIiHO19tQ94XY7x3jPEZMca/jDF+vNsFSUqXsYk8Y1s3H9+2dTNjE/kuVSRJkiRJkqT5ypncRcB1wJuAJwP3BtZxfI693KMlem2kP7EQZ4BXhmJ4E8lUPzngbOBU4CCwn2TR3w/GQvxZt+psRIyx2u0aJKVbGBpifOcOpnZNMlvex3B2I2MTeRfxlSRJkiRJSoFyJnce8AlghGMB/j6SvHq6k7X0XOg/JxbiTcDbag9J6nthaIj1F1/Y7TIkSZIkSZJ0ov9JMo1PJAn/X5OtlMrdKKRnQ38tL4TwzTp2W9f2QlIiFFt2dwzrR9azPb+dV21aeamIt1zzFrZPbufgzMGWvf9qNVJ/L2vm3Lfz3PhZ6C1p+/w0Ko2ftzRJ08+q19108Cb237GfahtvWlwT1rDhlA2ctf6srtUzdcsUAPvZD8D1XF9Xv7VDazn3jHPJ3jO74r7lX5a5/pbrOXyk/lkp2338tGnk+21UP5yfdhq0z1ratPOzr9bpxGffvwd7y6D82R3Ez86g/GzVlAtJAv9rspXSs7tZSM/MCxGK4QuhGD4fimFTg/0eM9e3XbVpsBycOcj2ye117ZvG0K2R+ntZM+e+nefGz0JvSdvnp1Fp/LylSZp+Vr2u3YE/QDVW2X/H/tTU04jDRw5z/S31XSBo5pfldh8/bRr5fhvVD+ennQbts5Y27fzsq3U68dn378HeMih/dgfxszMoP1s1ZW6k0r92tQp6a6T/FpIrJWc22O+e8/oOjBjjo1faJ4QwBZzcgXL6Tr1hWlpDt7TW1UrNfo/tOjdpPedpravb0vb5aVRa6kgzz1FrdCpgr/d90hT4z6n3l+Bmf1lu9/HTpl3fR7+cn3YatM9a2nhe069TPyP/Huwtg3BeB+F7XMygft9a0a3AvYCbu11IL4X+qRFCeB7w1iVeXl/bvjqE8LIl9nl2jPGa1lempcRCa675rGaaoFbVsBqtnOaol9Rz7jt5btL6WYjVKlO797pQ8AJp+/w0Kg2ftzRJ88+q1z12w2Nbfsyv7f9a031bWc/ctD4bNmwA4Lzzzluxzyev+2TT7/fM857Z9eOnzWq+30b14vlpp0H7rKVNJz/7ap12fPb9e7C3DOqf3UH47Azqz1Z1+x7wFOB+3S5kEEL/0dp2poXHPAkYX2GfsdpjMSMtrEWSVi1WqxzYdilTu/cebRvbupnxnTsM/iVJkiRJkla2E3gq8Dzg77pZyCAkOb9a2/6yVQeMMb43xhgWewDF2m7FpfaJMe5pVS2S6herVQ5eeTW3/v3lHLzyauKRI90uKTWmdu89LvA/2rZrsksVSZIkSZIk9Y5spfRB4ArgMeVMrrjS/u2UypH+oRjuB5y9xMsPDcVw20qHIBll/yjgz0nm8/9OywqU1HMcyb682fK+htolSZIkSZJ0gt8iGfH/l+VM7gnA24CvZCuljs7zn8rQH3gxcOki7QHY0eCxAknof9lqi5LUu5Ybyb7+4gu7VFV6DGc3NtQuSZIkSZKkY8qZXHXel4Fkfv+n1F6r5xAxWym1JK9P8/DWsOCxVPtKj1ngb2IhfrhjlUtKHUeyL29sIs/Y1s3Ht23dzNhEvksVSZIkSZIk9ZSFWXajOXagRdI60n/PIm0FkhH7HwZ+tEL/I8BB4L+AUizEW1paXRuEEM5c4qX1C147FGM81ImatHpP4AlsYQujjFIs1jeV18jICPl8nk2bNrW5usHiSPblhaEhxnfuYGrXJLPlfQxnNzI2kXfqI0mSJEmSpPrsJcmvuy6VoX8sxEnguNUjQzEUak8/EAvxys5X1XaVJdrfXnvMKQLb216NWmIu8G/EzMwMk5OThv4tNjeSfeGc/o5kPyYMDTnVkSRJkiRJUhOyldKWbtcwJ5Wh/xLmhkmvNMpfSo1GA/85MzMzLa5EnRjJHqtVpnbvdaS8JEmSJEmSuqZnQv9YiPXNjdJlMcbtNDESP8bYsjmblE6FQmHFfeqdAkjNaedI9litcmDbpSfcSTC+c4fBvyRJkiRJkjrGJEqSWmBq997jAv+jbbsml+ghSZIkSZIktV7PjPSXpDSbLe9rqF2SJEmSJEn9qZzJrQGeCzwNeAhwOjCcrZSyC/Z7KHAKcHu2UvpBq96/J0P/UAw54AXA44D7kpyYle5aiLEQe/L7lZR+w9mNDbVLkiRJkiSp/5QzuS3AZSS59ZwAxEV2/3WStWzvLGdy985WSne1ooaeCsFDMawHLgeeNdfUxXIk6aixiTxjWzefMKf/2ES+i1VJ6kV3TsN0FarV5Osvfn9/dwtaxn8fPPZ85tbW19no8dtdz81rku2+YVi3Fh5yJpxxcsvfRpIkSVKPKmdyzwQ+RjJAPQCHgYPAaUt0eRdQAO4BbAX+vRV19FToD3wYuIjkhE0B3wMeT3KV5FrgLuD+QKa2fwS+WdtXktomDA0xvnMHU7smmS3vYzi7kbGJvIv4SmrYvjsgLjb+Q6ly92H44c3wpPt1uxJJkiRJaVDO5M4E3g+sAW4H/gz4EPA/gI8v1idbKVXKmdyXgBzwVAYt9A/FMAH8GkmQ/xFgWyzEg6EYjtR2eX0sxCtr+z4SuJTkjoCTgN+KhXhDF8qWNEDC0BDrL76w7v1jtcrU7r0tuUhwzTXXMDk5yczMTF37b2c700yzhz1NvZ+k9qmG4do2+WdaZe2GbpazrMrQsZsuh9fep+vHb3s9t0EYGubGm+ARZyXBvyRJkiTV/AnJiP0Z4H9kK6VvAJQzuZX6fQXYDDyyVYX0TOgPPL+2/SVwSSzEJec3ioX4beA3QjHsAF4PXBGK4TGxEO/uQJ2StKJYrXJg26UnTAc0vnNHU8F/I4H/nFFG2cKWht9L6dDKi0ZqTLvP/djp44Sw1HSP6qYwNMzQPca7XYYkSZKkdHo6yS9yH54L/Ot0fW17TqsK6aXQ/3EkJ+19SwT+J8zvHwvxf4Vi2Ao8HHgp8Lb2lihJ9Znavfe4wP9o267Jhu4WmNNo4D9nlNGm+qm7Wn3RSPXrxLkfXjfGmrXDR/9hc8HDzmvJcdvha/tvP/r8gg2tr7PR47e7HoDv3NSWw0qSJEnqfdna9uoG+839InNKqwrppdD/XrXt9Qva54bBrVui378CjwCei6G/pJSYLe9rqL0RhUJhxX2KxeKq30fd0+qLRmnS6FRVACMjI+TzeTZt2tTGyhL9fO4lSZIkSasyVtve0WC/k2rbls1S00vDAecuUFQWtB+sbTMsbi5Be2DLK5KkJg1nNzbULs3XzotG3dbMVFUzMzNMTk62qaLj9fO5lyRJkiStyi21baNzgj6otl2Yezetl0b63wKcxbErJnMOAOuBBy/R76za9vQ21SWlivN894axiTxjWzefMEXI2ES+i1WpV/TzRaNmp6qamZmp6w6W1S5i3c/nXpIkSZK0Kj8gyaK3AP/YQL+LSWaz+XqrCuml0P9HJCctu6D9P0hG8U+EYnhFLMQjC15/dm17C1Kfc57v3hGGhhjfuYOpXZNeoFHDBuWiUT1TVb3xjW/s6CLWg3LuJUmSJEkN2w08Fbi4nMmdn62Url2pQzmTewHJerQRuLJVhfRS6P9l4ELgsQvarwCeA2wE3h2K4ZWxEO8IxTAG/BWwmeSklTpZrNQNzjXdW8LQkD8XNcWLRsfk8/mmpgRqdhFrz70kSZIkaQn/DPwFyTT0u8uZ3MXZSul7S+1czuR+n2QN2gjcAHyoVYX0Uuj/aeB1QD4UwymxEOcWRPgwcCnJHQCXAL8biuEWkoV/Q22fI8DfdbZcqfOca1oaHI1cNOrnab82bdrU0AK+rVjE2gt2kiRJkqSFspXSVDmTezHJiP37Ad8sZ3KfB+6c26ecyRWA+wJPAe5Pkl9PA8/PVkoLZ7BpWs+E/rEQvxiK4TJgHfAw4Eu19plQDM8BPkdyFWWYY/P4A1SBP4mF+LUOlyx1nHNNS1rIab8kSZIkSeqMbKX0qXIm91vAe4BTgKfVXoq17aXzdg/AbcBvZSullmbXPfXbfizEF8dC/O1YiF9a0P49koV8t5NM43M98B3g3cAFsRDf2elapW6Ym2v6uDbnmpYG2nLTfkmSJEmSpNbKVkofBR4KvAO4lSTcX/i4E/jfwMOyldJnW11Dz4z0X0ksxFuBN9Qe0kByrmk1o97pTkZGRsjn8w1NpaLuc9ovSZIkSZI6K1sp/Qx4BfCKcib3K8DZwKnAQWA/8O1WTuezUN+E/pISzjWtekwz3fBCpjMzM0xOThr69xin/ZIkSZIkqXuyldIPgB908j17ZvhvKIadtccjGuz30Fq/97SrNknqNXvYwzTTDfebmZlpQzVqJ6f9kiRJkiRpsPTSSP9LSBY8+ATJfP312jCv77aWVyVJPejLtf8AYiGusHf9UwApfZz2q7OuueYaJicnG7pA5tRZkiRJkqRW6qXQX5La5gk8gS1sYZRR57hX33Har85pNPAHp86SJEmSpH5TzuSGgccC5wOnA+vq6ZetlFqyXu0ghP5z3+PhrlahrlouxDW4FXA08G9EO4O6ZkYLS81wZHprNftn1j/rkiRJktT7ypncKPB64I+A05o4hKF/nc6rbW/rahVKLUdYCmg48J/TrqCu2cB/ZGSkDdWonzkyvX0KhcKK+zh1liRJkiT1h3ImNwJ8BsgBoYlDrDz/cp1SGfqHYjiFpa+E3CsUw/1WOgQwBjwKeA3JCft+6ypUv3GEpeZrNKirJ7TbznammWYPe+qqodnAP593cVY1xpHpkiRJkiS1xCuBzbXndwHvB74IHACmO1lIKkN/khN06SLtAXhXg8cKJKH/h1ZblHrXUiGuIyzVrJGRkYZDz1FG2cKWht+rnosQUis4Ml2SJEmSpKY9v7a9GXhitlL6cbcKGerWG9chLHgs1b7SA+CDwLs7UrWkgZDP55uaSqfZaYQkSZIkSZKUalmSwedv62bgD+kd6f8d4LIFbS8iOWl7gBtX6H8EOAj8F/D5WIjfa3WBkgbbpk2bGprPvNHpgCRJkiRJktRTpoB1wI+6XUgqQ/9YiFcAV8xvC8XwotrTt8ZCvLLzVUlS86aZbmqUvwvzSpIkSZIk9YQfA2fUHl2VytB/CZeTjPRfaZS/1BfqHQ0+t3hrI6PO1Xl72MMWtjQU/LswryRJkiRJUs+4HHgCsJXG16VtqZ4J/WMhXtLtGqR2a2Zx2JmZGa666iquuuqqFffdznammWYPe5qsUM36cu0/gFiIXa5GkiRJkiRJLfZe4PeBreVM7nnZSulD3SokzQv5SgOn2cVhGzHKKFvY0tb3kCRJkiRJkgZJtlKaBiZI1qt9fzmTe3s5k3tIN2rpmZH+ywnF8EDgz4GnAPchWcT3WpJbKnbGQnRYrXpCo4vDXnPNNUxOTjZ8d0Azc8tLkiRJkiRJWlq2UjpQzuSeBOwFXg68vJzJTQG/BI6s0D1mK6VsK+pIZegfimEt8D5gDfCdWIj/3zL7Xgz8G3DSXBMwCjyp9vidUAwTsRDvam/VUuc1epGg3nUCJEmSJEmSJDWmnMk9HPh34JxaUwDW1x4radnA9VSG/sATgeeRfKO7ltqpNsL/34CTa/uG+S/XtluAt5PMpyRJkiRJkiRJUkuVM7n7A18ATuNYNj0L3AJMd7KWtIb+m2vbaZIrI0vZwbHA/27gDcDngRngWcBfAOuAS0IxvDkW4nVtq1iSJEmSJEmSNKheB5xOklV/BigCX89WStVOF5LW0P/Rte2eWIiHFtshFMNpwG/Ma3p6LMS9877+biiGH5BcNAjAbwPb21CrJEmp8gSewBa2MMqo03r1kLmf1Y1rz+X22++gGpJ/pn3npm5Wtbyf3Hba0ecja7p//HbXI0mSJEnLeApJ4P+lbKX09G4WktbQ/0EkJ+gry+zzZGCktt9VCwJ/AGIhfiwUw1eAx5FMGSRJUt+bC/wbMTIy0vD71HtBYWRkhHw+39AaJINiZGSk4cXYJUmSJKkfhRDuAbwKeA7wAKAKXA98EHh7jDHtvzxtqG3f19UqSG/oP3eCfrLMPvND/I8us9+ngMcDD15lTZJ6iCOdNciaCfzz+Xzd+zYaUs/MzDA5OWnov4h8Ps/k5ORx53QtswCsiYcBeMRZXSmtLjPV244+b0edjR6/3fUstC6t/5KWJEmSekwI4f7AHuDsWtMhYBS4oPZ4fgjhKTHGW7tSYH0qJLn2bSvt2G5p/VVlrLY9uMw+F8x7/qVl9ivXtqcts4+kPtPMSGeA6c6uqyIdFatVpnbvZba8j+HsRsYm8oShoVUft1AotKC6YxYLqevhaPbFbdq06YSLIbccgs+8943E2KWiVJd1a+EhZ3a7CkmSJKn3hRDWAp8kCfx/Drwwxvi5EMIQ8Fzg3cAjgfcDW7tVZx2+ThL6n9vtQtIa+t9FEvyfutiLoRgC8Kjal4eAHy5zrLkEr/H0T1LPajbw38Oe1hcjrSBWqxzYdilTu4/NVDe2dTPjO3e0JPhvpcVC6uV4p03jzjgZTpr3L7SnntO9WlZy1+yBo8/bUWejx293PZIkSZLa4kXAw2rPnxNj/DJAjPEI8KFa+P9vwDNqo/0/36U6V/KPJGvQXlJGzDSqAAAgAElEQVTO5N6crZS6NvotraF/hST0/9UlXn947fUIfCMWlh0LNzfCf6p15akf1RNMbWe7wXAPqmekcyiGDlQiLW5q997jAv+jbbsmWX/xhV2qSpIkSZKkjnhRbXv1XOC/wAeBvyaZ5/+FQCpD/2yl9PlyJvdm4DXAh8uZ3AuyldKd3aglraH/t0l+iM8JxfDaWDhhkYbfnPf8hAV8F3hgbfvfrSpO/aOZualHGWULW9pTkKSBNFvet2z7Nddc09SUOmnjqH9JkiRJ0nwhhJM5tnbrpxbbJ8YYQwifBv4QeFqnamtUOZPbDOwmybV/E7i+nMm9D/gqcAtwZKVjZCullbLuuqQ19P8E8GySOZD+MRTDH8RCrAKEYng48Mfz9l1uEV9IFvGNJCs9S8dpdm5qF4eV1ErD2Y3Ltjcb+KdhjYpmLq7O9ZMkSZIkpU8I4Zv17BdjfHQduz0EmJvX9vvL7Df32lkhhHvGGH9ZTw0dtockh6a2HQde1UD/SIvy+rSG/h8B3gDcH3gx8NRQDF8GMiRXfkZJTsLeWIjfXeogoRjO5NiVoq+0tWL1pEbnpn5d8XUuDiup5cYm8oxt3XzCnP5jE3mguUVw0zIVWTMXV0dGRsjn822sqn79cpeFJEmSJKXUfeY937/MfvNfuw+QxtAfYOH80V2ZTzqVoX8sxOlQDC8EPgOsAzbWHvPdBfzJCof6XZLvMQJXt7pODZ497GELW44L/sORyMYbfsE9bjvEnaedzI3Ze0E49uc5LcGbpPQKQ0OM79zB1K5JZsv7GM5uZGwiv+givr22RkWjF1fTptnA3zsVJEmSJPWrOkfw1+se854fWma/+a/dY8m9uis104KkMvQHiIX4xVAMTwbexYkL+l4HbIuFuOQtH6EYhoE/q33581iIX2tPpRokX679BxALkVitcmDbpUx9+ntH9xnbupnxnTsIQ0OpCt4kpVsYGnLR3hRqNvBPy50KkiRJkqTOyFZKhv71iIX4VeARoRjOBx4MrAHKwLdjIcZlO8PJwEtqz3/Rvio1yKZ27z1uOo6jbbsmDe8kaQmxWmVq994V72pIm3ruspAkSZIkNeTOec9PXma/+a/dueReAlIe+s+JhXgtcG2DfW4nmR5IapvZ8r6G2iVp0B29Q2rB+gVzd0hJkiRJkgbKf897vgFYav3WDUv00SJ6IvSX0mo4u3CpieXbJWnQeYfUyqo330o8dDexdlPj1Ge+1OWKlrb+Z/959PnUT1pfZ6PHX2094aRRRs/PsubM0xvuK0mSJKkpPwSOAEPAQ4FPLbHfQ2vbm2KMaV3Ed1HlTG4UOB0YyVZKN3biPQ39pVUYm8gztnXzCSNWxyacy1nS4Ghkuh7vkFrZ9Pd/zJFDd8Phw7B2LfHIEe+C6JB41zTT15Y5efMF3S5FkiRJGggxxkMhhC8BOeDXgDcv3CeEEICLal9+toPlNa2cyT0E+FPgacD9a82RBXl8OZN7HpAFbspWSjtb9f6G/tIqhKEhxnfuYGrXZM/NTS1JrdDodD3eIbW8WK3yyzft5Mittx9tu+UN72T9M/MQ0rc4/Ek3//zo87t/0dBMjG05/mrrWfeo84l3TTfcT5IkSdKqXEYS+l8YQnhcjPGrC15/LnBO7fnlHa2sCeVM7lLgf5HcvbDSL3LrgL8CDpczud3ZSulAK2owmZRWKQwNsf7iCzn9lS9k/cUXGvhLGijLTdezmLk7pI5r8w6po6Z272X6Gz84ru3wf97I7I9/2qWKJEmSJKntLgO+RxKQfzSE8BSAEMJQCOG5wLtr+30qxvj5LtVYl3ImVwQKwBqSaYu+DHxxmS4fAqZq+z+rVXU40l8aUMVisa79RkZGyOfzbNq0qc0VSepFjU7X4x1Sy1vyvJ20jnWPOr/D1azsrp8dPPp83X1bX1+jx2+2nru/1fq7FCRJkiTVJ8Z4OIRwMXA1cDbwuRDCIZIB6+tqu30beH53KqxPOZN7KPD62pffAZ6XrZR+XM7kngU8abE+2Urp7nIm93ngmcAW4J9aUYuhvzRApplmlNGG+szMzDA5OWnoL2lRzUzXM3eHlE601Hlbe9aZHa5EkiRJkjonxviTEMKvAq8Gng08AJgFfgB8AHh7jHGmiyXW4+UkFyp+CVyUrZQqdfb7BnAx8LBWFeKwOmmA7GEP0zQ+V/HMTNr/TpXULU7X01pjE3lGL/iV49pGL/gVRh/z0C5VJEmSJEmdEWO8M8ZYiDE+LMa4PsZ4SozxghjjW3og8Ae4kGSx3vc2EPgD3Fjb3rdVhTjSXxogX679BxALccX9650CSNLgcrqe1gpDQ5z2iucz9I0riHdPw5rka8+nJEmSJKXehtr2mw32m5undKxVhRj6S5KkVXG6ntYKQ0OEk0aTJaxqX0uSJEmSUm9NbVttsN+pte2drSrE3yIlSZIkSZIkSVqdA7Xt/Rvs9/Dadn+rCumZkf6hGF5Ye/qFWIg/a6DffYCnAsRCvLwdtUmSJEmSJEmSBtrXgLOBCeDN9XQoZ3LDwHNJ1gL4YqsK6aWR/u8F/gV4VIP9Hlbru7PF9UiSJEmSJEmSBPDR2vZJ5Uzu2XX2eRNw79rzD7SqkJ4Z6d8CodsFSFqda665hsnJSWZmemHBdkmSJEmSJA2Qfwf+g2S6nveXM7lXA/+82I7lTO4c4A3Ab5OM8v98tlIqtaqQQQj95+5mONLVKqQmxWqVqd17mS3vYzi7kbGJ/MAu6thM4D/NdJuqkZrnBSxJkiRJkvpLtlKK5UzuN4GvAGcAbwf+Gvj53D7lTO5q4L7AObWmAPwMeEEraxmE0H/u9oiWrX4sdUqsVjmw7VKmdu892ja2dTPjO3cMZPDfTOC/hz3tKUZahWYD/5GRkTZUI0mSJEmSWiFbKZXLmdzjgQ8DjwROBU4hGc0PsLm2nZuV5uvAc7KV0gFaqK9D/1AM9wX+sPZluZu1SM2Y2r33uMD/aNuuSdZffGGXqlpaM6OXR0ZGyOfzbNq0qaH3KhQKy74eis7opfRqNvDP5/NtqEaSJEmSJLVKLfi/APh1khH8OZKR/3MOAnuBy4B/z1ZK8cSjrE4qQ/9QDH8K/OkSL/9TKIZ/WOkQwBjHTmYEPtWi8qSOmS3va6i925oZvTwzM8Pk5GTDob/UL1a6gCVJkiRJknpLLcj/eO1BOZMbIxn1fzBbKd3R7vdPZegPnAacTRLWzx+uG4B7NXG864C3rL4sqbOGsxsbau+2ZucnX8285q55IEmSJEmSpG4rZ3JfqD3dm62Uts9/LVspTQFTnaolraH/bcBPF7Tdn+QiwM3AoRX6HyG5TeK/gM8DO2MhduykqrelKUQem8gztnXzCXP6j02kf4qPekYvF4vFVb3HcmseSKvxBJ7AFrYwymhdn9PtbHcNiR602r+DJEmSJEmaZy6w+0hXqyCloX8sxLcCb53fForhSO3pS2IhXtn5qjQI0rZwbhgaYnznDqZ2TabiIkTaLLfmgfpbu9ePmAv8GzHKKFvY0lAfdd400w3/bMFFlCVJkiRJK6oAmdq2q3opObyx9lhplL/UtDSGyGFoiPUXX8jpr3wh6y++0MB/nl5b80Cts5r1I+rRTCi8mn7qnD3sYZrphvq4iLIkSZIkqQ4/rm3v09UqSOlI/8XEQjy72zWo/xki95Zl1zz4doeLUUd1cv2ITkxVpc75cu0/gFiIXa5GkiRJktRHPgI8EXg28LZuFtIzob/UCb22cO6gW3bNA0P/gWEoL0mSJEmSUuBdwEuBXDmTe0W2Uupa8G/oL83TywvntlsaQ1PXPJAkSZIkSVIaZCul6XImNwF8DPj7ciaXA94BfDlbKTU3ZUGTei70D8WwFvh14CLgfOB0YF0dXWMsxGw7a1PvM0Q+3sjISFPToTSz4GWzFxXm1jyQJEmSJEmSuqWcyd1QezoKBJJpfp4NVMuZ3C3AXSscImYrpZbk1z0V+odieCTwQeCBC1+qo7sT96ouhsjH5PP5hhdMbWTBy05eVJAkSZIkSZLa6GyOZdBz20CSwY/X0b9l+XXPhP6hGDYAnwNO41jIfxi4GZjuVl1SP9u0aRObNm1q2/HbfVFBkiRJkiRJ6pAbScnA854J/YH/STKVTwS+CvwlsDcW4mxXq5LUtHZfVJAWk8b1KSRJkiRJUm/LVkpnd7uGOb0U+l9EEvj/AMjHQuzo4geSpN7V7FRS095IJkmSJEmSekwvrU5639r2nw38JUmNyOfzDa8FMc00e9jTnoIkSZIkSZLapJdG+k+RrHy8v9uFSKpfrFaZ2r2X2fI+hrMbGZvIE4Z66XqjmnHNNdc0vV5DO6Z8anQqqVCsZ314SZIkSZKk9Oml0P9HwCbg3t0uRFJ9YrXKgW2XMrV779G2sa2bGd+5w+C/zzUa+APMzMwwOTnpOg+SJEmSJEmr0Euh//uAJwLPAt7R5Vok1WFq997jAv+jbbsmWX/xhV2qSp3QzPz5q+kn9ZNDszMcrlY5EiMAP/zGt7pc0dLuvOMXR5//8KbW19no8e+84xesiZF7HDnC3b+4tuX1SJIkSdJSypnczlUeImYrpW2tqKWXQv/3AC8EnhyKYVssxPd0uyBJy5st72uoXf2pUCisuE+xWFz0uTSIKocOErtdRA+rhsCd3k0mSZIkqfMugVX/OjdYoX8sxGoohmcBHwX+KRTD44C3xUL8fpdLk7SE4ezGhto1uEZGRpoa5T9/cV7Xj1C/OLw2+dxWa9tbxk/pZjnLuuWkg0efj57S+jobPf4tJx3kHiNrAFj3oPObes9w0mhT/SRJkiQJaHSRwDivT8vGf/VM6B+K4Yba07UkJ2IbsC0UwyHgFuDICoeIsRCzbSxR0gJjE3nGtm4+YU7/sYl8F6tSGuXz+aYX/gXXj1B/Gd54VuP/TFRLhJNGGT3ffy5KkiRJasoD6thnCDgTeBzwh8BDgA8Af8nK+Xbdeib0B87m2NWO+VdAxmqPlXinvNRhYWiI8Z07mNo16ehrLWvTpk2rWsDX9SPUT4ZOWU8YHSEcPgzA2bnHd7mipf1i/9eOPj97w2O7evz9+/czfctdrD0j+Wfh2JOf2PJ6JEmSJGkp2Urpp3Xu+l/A18uZ3DuBfwJeBNyZrZRe1qpaein0vxGDe6nnhKEhQ1e1netHSJIkSZKkXpKtlA6XM7mXAJuAl5QzuU9kK6VPt+LYPRP6x0I8u9s1SJLSqRPrR7hmgCRJkiRJaqVspVQtZ3KXAX9NMt3PYIX+kiQtpd3rR7hmgCRJkiRJapP/rG0vaNUBDf0lST2v3etHuGaAJEmSJElqk3vUtme06oCG/pKkvtDO9SNcM0CSJEmSJLXJs2vbm1t1wJ4N/UMxPB54GvAQ4HRgOBbiUxbscyYwAtwdC/GXna9yZSGEtUAeeBTw6Nr2gUAALosxXtK96iRJ0NiaAcVisd3lSJIkSZKkHlfO5E4GisAzgAiUWnXsngv9QzE8GNgJPG5+M8mJWei1wJ8BN4di2BAL8XAHSmzUfYHPdbsISarXIIbaK60ZMM00o4w2fNyRkZGW1ShJkiRJkrqnnMntrHPXEeA+wGOAk2ttR4C3tKqWngr9a6P7ryI5GaGOLu8AXgWcSXJXwP9pX3WrcifwH8A3gW8BrwQe0dWKJGmekZERZmZmmurXD1ZaM2APe9jCloaC/5GREfL51iw0LEmSJEmSuu4SFh+YvpS5fHsGeHm2UvpGqwrpmdA/FMMY8HFgDJgF/gZ4P/Bw4MOL9YmF+NNQDN8gmTYnraH/jcCpMcajH4gQwu91sR5JOkE+n2dycrKh4L/fQu3l1gz4cu0/gFho5P/vkiRJkiSpj9QzUH3OT4BPA2/LVko/amURPRP6Ay8HxkludXh2LMTdAKEYzl+h3xeBC2qP1IkxHul2DZK0kk2bNrFp06ZulyFJkiRJkpRWD6hzv2ngtmyldHe7Cuml0P+ZJLdHXDkX+Ndp7irJA1tfkiRJkiRJkiRp0GUrpZ92u4Y5vRT6P7i2/XSD/X5Z257awlqkvhGrVaZ27110nnJJkiRJkiRJvaWXQv+50P7mBvsN17bVFtaSeiGEb9ax27q2F9LHQrGRKbrSJxQDQ0fg7Z9+MBfdcObR9s+cczN//PQfEXv721uVXv/ZNmrQvt9283z2jrT+rM7lXH52x89Y28A/0762/2ttrCgdVvoep26Z6lAljfvkdZ/s6eOnzaB9v2niue8uz7/m+FnoLf68+tdSP9tnnvfMDlcinaiXQv9fAvcCzmiw39xcSo1eLJBOsH5kPQdnDjbVLw0W1v+0G87gohvOJBIJBCKRi244k4vKZ/DpB97SxUpbp95z3+zPtlFp/SxocWn7/DQqLZ+3NEnrz6rXrQlr2nbcamx83Ea76mnE2qG1HD5yuKl+aTh+2jT7/TbzPjreoH3W0qZTn321Trs++/492FsG8c/uoHx2BvFnq8aUM7lTak/vylZKs4u8fh6wA3gSSTb/HeCN2Urp6lbW0UtzePy4tm10Jcmnk6wF8O3WlpNuMcZHr/QA2rZYRL/ant/ecIi2fmQ92/Pb21NQgxbW/4DbTgIg1BYWn9vOtfe6Rs59Mz/bdtbTbp34fntd2j4/jUrT5y1N0viz6nVrwho2nLKhLcfecMqGhgP8dtbTiHPPOLfhX37XDq3l3DPOTcXx06aZ77dRvXx+2mnQPmtp04nPvlqnnZ99/x7sLYP2Z3eQPjuD9rNVY8qZ3K8Bt5IMXn/kIq8/CPgy8BxgHDgTeApwVTmT+51W1hJijK08XtuEYngd8FfAFPDgWIj7a+3PAj4OxFiIaxb0uQj4FEno/7JYiO/uaM0hfIzFL1LsizE+Zpl+e4A8cFmM8ZL2VAchhKmTTjrp5EOHDrXrLZRyB6+8mgPbLj2hffw9b2D9xRd2oSJJ0nXXXccznvEMDh9ORhB99rOf7XJFvWH//v0AbNiQBP7nnXdeN8uRJEmS+lk650rtsnIm9w7g5cCPspXS+Yu8vptkgDokU9HfShL8AxwEzs1WSje1opZeGun/LuBO4GTgilAMZy23cyiGpwL/WvvyAHB5e8tb1D1JrtosfGS6UIt0grGJPGNbNx/ftnUzYxP5LlUkSZIkSZIk9aRHkQw+//zCF8qZ3P2AX6u9fhVwRrZSuhfwPOAIMAZsa1UhPXM/SizEW0Ix/Cmwk+T2iB+FYvgA8xboDcXwIuC+wNNI5kUKJCftJbEQpztec4xbOv2eUiPC0BDjO3cwtWuS2fI+hrMbGZvIE4Z66XqgJEmSJEmS1HXjte33F3ltK0lWHYGXZyulOwCyldJHypncJSR3ADwN+OtWFNIzoT9ALMT3hmI4FXgzcArw0rmXatud83YPwCzwh7EQd3euSqm3hKEhp/KRJEmSJEmSVmduqp6bF3ltbqqN72YrpfKC1z5LEvo/uFWF9Nxw3liIbyWZJ38XSdgfFnlAMpf/42Mh7lzsOJIkSZIkSZIktci62naxzH0TSZa9Z5HX5ubxP61VhfTUSP85sRC/AVwciuE04InA2cCpJAse7Af2xkKsdK/CxoQQTgWG5zXNPR8NIZw5r302xnh75yqTJEmSJEmSJNXhNpLR/veb31jO5B4IbCQJ/a9ZpN/cRYLqIq81pSdD/zmxEG8D+mHqniuAxVZO/a3aY84ksKUTBUmSJEmSJEmS6vZDkml8JoC3zGv/nXnPS4v021DbLjYtUFN6JvQPxTB3heQXsRDvbqDfKLVFFGIh3tiO2iRJkiRJkiRJA+1TJKH/5nIm93bgn4FfAV5DMsr/q9lK6aZF+j26tr2+VYX00pz+PwFuIFnFuBFb5vVNpRjjlhhjqOOxpdu1SpIkSZIkSZJO8E5gbsr5lwPfAt4HjNXa3rSwQzmTW0uSd0fg660qpJdCfzi2SG+n+0qSJEmSJEmStKhspXQ7ydQ+PyfJouceEfibbKV0xSLdLgZOrz2/ulW19Mz0PpIkSZIkSZIkpVW2Uvp6OZN7EPAM4IHAIeBz2Urph0t02QBcRnJhYE+r6hiE0P+02vZQV6uQJEmSJEmSJPW1bKV0F/DROvd9eztqGITQ/9m17b6uViFJklSHO6dhugrVavL1F7+/v7sFpdzaITjzZDhpuNuVSJIkSVI6pDL0D8XwLOBZS7z8ilAMv77SIUgWSHgEkCW5PaLUugolSZLaY98dEGO3q+gdh4/AzYdg46ndrkSSJEmS0iGVoT9JWH8JSVg/XwAubPBYgWRqn79bfVmSJEntVQ3DtW3yz7TK2g3dLCf1zqlN5LjhrGNtw8MO+5ckSZI0uNIa+s8JdbYt5XbgC8AbYiFe15qSJEmS2mfs9HFCCJw49kH1GB4eZnx8vNtlSJIkSRpg5UwuB7wAeBxwX+AUYGiFbjFbKbUkr09r6P8PwHvnfR2AG0h++/0D4KoV+h8BDsZCvLUt1UmSJLXJ8Lox1qwdPjrK4YKHndfVetLqOzcl23vWRvifd073apEkSZIkgHImtx64nGNT1zcygL1lUhn6x0K8nWSU/lGhGCA5Sb+IhfjTbtQlSZIkSZIkSdISPgxcRJJjTwHfAx5PMpj9WuAu4P5AprZ/BL5Z27dlVrqlIE0eUHusNMpfkiRJkiRJkqSOKWdyE8Cv1b78CHDvbKW0ad4ur89WSo/NVkrjwKOBK0guDpwEbMtWSo2uZbukVI70X4yj+yVJkiRJkiRJKfX82vaXwCXZSumupXbMVkrfBn6jnMntAF4PXFHO5B6TrZTubkUhvTTSX5IkSZIkSZKkNHocyXQ971si8D9hfv9spfS/gO8A5wMvbVUhPTPSf6FQDGuAX+XY6sdrVuoTC/HydtclSZIkSZIkSRo496ptr1/QHmvbdUv0+1fgEcBzgbe1opCeC/1DMdwPKADPI5nvqF6RZOVkSZIkSZIkSZJaaS5rryxoPwis59jivQvtq20f2OpCekIohicCnwROZZHbISRJkiRJkiRJ6oJbgLOAsQXtB0hC/wcv0e+s2vb0VhXSM3P6h2I4BfgYcBrHRu2/rPZyBN4O/DHwZuC789rfD7wY+L1O1itJkv5ve/ceZdlV14v++6ukQ5JKCLmhaBWbBIpzIID4CHIV7O5EOEjoFhHRAR6iwRC9KOBBEcTDTSfmeC9DQOD65GFDUE4QkMMjzUsxpouHolEQD08LAm2AUECApPNquuf9Y69K7y6rq6vpqtpVqz6fMfZYa80119q/zsjs6vruuecCAACAdeMT3XZyTvtHMpjAvn16YvN8efzju+1Xl6qQNRP6ZxDwT2QQ5D+57WgXth3tFUPn39t2tD9qO9pz2472fUl+MsmNSZ6YJG1Hu2LFKwYAAAAAYD34YAbh/kPntL+1225K8srpic13TZLpic3j0xObX5JkSwaZ99RSFbKWQv/zu+21bUd7/ZE6tx3trUm2ZfAf+o/qsjrc1ycAAAAAAOBYvKvbbp0N9jtvSPJv3f6FSWamJzZ/Ick3kjyzaz+Q5PeWqpC1FPo/IINPPN5ymPPHzW1oO9rfZ/Af9aQcXAoIAAAAAACWzOTM1PuSXJHBzP7vGWq/I8lPJflKBhPUN2Swjv9Yd7w/yTMmZ6Y+tFS1rKUH+d6t2+6Z074vgz/H3AckzHpvkicledQy1QXAIrT9+7N31+7sm96TDZObMr59a2psLX32DAAAAHB4kzNTTzlM+0enJzbfP8kzkjwiycYktyT5hyR/NDkz9ZGlrGMthf53ZFDvbXPab8rgycb3PMx1t3bbw50HYJm1/ftzw0WXZO+u3Xe2jW/bko07Lxf8AwAAAL03OTN1Y5Lf7l7Lai0lLdd32zPmtH+m2/7gYa67X7ddSx9wAPTK3l27Dwn872y76poRVQQAAADQT2sp9P+Xbnv2nPa/y2Dto8fUZXXm8Im6rO6WwVr+Lclnl71CAOa1b3ruymwLtwMAAADw7VlLs9+vSfKEJOfOaf/zJE9Pcpcku+uyekGS6SSTSZ6d5B5Z+AHAACyzDZObjqodAAAAYC2bntj8Qxk8Z/bsDJan3zA5M/WIOX3unuSEJLdNzkx9baneey3N9H9bt31QXVYPnG1sO9qHMgj+K8l3J/mDJO/stmd13fYkefGKVQrAIca3b834ti2Htm3bkvHtW0dUEQAAAMDSm57YfP/pic0fSPL+JDuS/EwG4f+583R/bgbZ9cenJzYv2QT9NTPTv+1oe+qyOi/JiUm+Oef0RUluT/ILGYT/w65N8sS2o924/FUCMJ8aG8vGnZdn71XXZN/0nmyY3JTx7Vs9xBcAAADojW52/18lOTn/Maeezx8k+fUkd8/gg4F3LEUdayb0T5K2o837xMe2o+1LcnFdVv8jyY8m2ZjkliT/0Ha0D65giQAcRo2N5ZTHnjfqMgAAAACW3PTE5vEk/yvJeJJ9SV6QwQo135vkDfNdMzkz9bnpic3/mOScrNfQ/0jajva5JK8edR0AAAAAAKwrv5zBZPQDSR4/OTO1K0mmJzY/4AjXvS/JQ7rXkuhV6D+fuqx+MsmPJ2ltR7to1PUAAAAAANA7P56kJXnbbOC/SJ/otvddqkJ6H/on+YEkF2bwH1zoD6tc278/e3fttu47AAAAAGvJ/bvtu47yuq9129OWqpD1EPoDa0Tbvz83XHRJ9u7afWfb+LYt2bjzcsE/AAAAAKvZbGj/laO8bkO33b9UhUjRgFVj767dhwT+d7ZdNe8zvAEAAABgtZidsX/GUV537257tB8WHJbQH1g19k3vOap2AAAAAFglPt1tH3aU152fwdL0/7xUhQj9gVVjw+Smo2oHAAAAgFXiXUkqyROmJzbfczEXTE9s/rEkD+8O37FUhQj9gVVjfPvWjG/bcmjbti0Z3751RBUBAAAAwKK8PMlNSU5O8tbpic3fsVDn6YnNj0zyuu7whiSvXapCPMgXWDVqbCwbd16evVddk33Te7JhclPGt9MftdAAACAASURBVG/1EF+WRdu/P3t37fb/Gqveh7806goAAAA4ksmZqa9OT2z+1SQ7k3x/kk9MT2y+MkMP6J2e2PzzSb47yaOS/EgG3ww4kOTiyZmp25eqFqE/sKrU2FhOeex5oy6Dnmv79+eGiy455MHR49u2ZOPOywX/AAAAsIZV1RlJHpvkEUl+IMmZGeTgM0n+MckVrbX/tRzvPTkz9Zrpic2nJXlhkrsm+cXuVOu2O4dLTbIvydMmZ6Z2LWUdQn8A1p29u3YfEvjf2XbVNT50YuROPP7Q7fct+IVQkoP/rQAAAJJ8KYfm3rdlEK7fs3v9RFW9M8kTWmu3LPWbT85MvWx6YvP7k1yS5DGZf4n9luSdSZ4/OTO1ZA/wneVXJOCoWBKFPtg3veeo2mElnX33pCpp7ch9GQT+Z9991FUAAACryPFJPpTkNUne3Vr7TJJU1VlJnp/koiTnZ7AG/wXLUcDkzNQ/Jnns9MTmu2XwoN6zkpyW5OYk1yfZPTkzNbMc752s0tC/Lqv9R+4FrDRLotAXGyY3HVU7rKQzTk5OGvoX2iPvM7paAAAA1qAfba1dPbextXZdkqdW1beS/FKSJ1fVb7XWlm0G4OTM1NeTLOnSPYuxWlO6Gtoe6wtYIgstiQJryfj2rRnftuXQtm1bMr5964gqAgAAAJbCfIH/HH86tP+Q5axlVFblTP/OUgX2gn9YIpZEoS9qbCwbd16evVddY6kqAAAAWF9uG9o/bmRVLKNVGfq3HU3qAquQJVHokxob89BeAAAAWH/OHdr/6KiKWE6rMvQHVqfZJVHmrulvSRQAAACA9aGqrl1Mv9baOctdy9GqqrsleV53ONVa++S3c5/pic3L8UzaNjkztSR5vdAfWDRLogAAAACwFlXVWJI/S/KdGSzx8/Rjud2SFLVMhP7AUbEkCgAAAMD6tdQz+KvqwiSvPoZbnN9ae9ci+r0syfZu/1daa/9yDO+ZJC3Jt5J85hjvs+SE/gAAAAAA9FZVvSgHZ/Y/q7W2c4luPZuvX5HktZMzU19Yovsek2qtjboGRqSq9p500kkn33LLLaMuBQAYcvbZZ9+5//GPf3yElQAAAPwHS7q0TVXdJcmpx3CLb7TW9i1w/99N8hvd4bNbay8+hvdKkkxPbH5pkp9NcvcMZvwnyYEkf53kNUneMjkzdfuxvs+3S+i/jgn9AWB1EvoDAACr2Kpez35YVb0wybO7w+e01l64VPeenth8fAbLBT0lyaOTbMjBDwC+keQvklwxOTP1d0v1nosl9F/HhP4AsDoJ/QEAgFVsTYT+3ZI+v94dLmngP9f0xOa7J7kgyc8l+d6ueTZ4/1QGs///bKWW/xH6r2NCfwBYnYT+AADAKrbqQ/85gf+SLOmzWNMTm78vg9n/T8pg+Z9k8AHAgSTvzeChxcu6/M/Yct0YAAAAAABWUreG/2zg/2srGfgnyeTM1IcnZ6Z+Ncl3JfmpJG9Psj/JcUkeleR/Jvni9MTm/3u5ajDTfx0z0x8AVicz/QEAgFVs1c70r6p7Jflcd3ggycwRLnlRa+1Fy1tVMj2xeSLJk5P8fJIHd81/Nzkz9bDleL/jl+OmAAAAAACwwsbm7G88Qv9TlrGWYQe6V3Jwrf9lI/QHAAAAAGDNa61dl1XyTYTpic3HJfnxDGb3n59kQ3eqknwzybuX672F/gAAAAAAsAS6B/lemEMf5FsZzPT/mySvSfLmyZmp25arBqE/AAAAAAB8m7o1+/9rDl2zf/YbB59OckWS107OTP37StQj9AcAAAAAgKMwPbH5+AyW77kwyaMzyNpng/5vJnlDktdMzkx9YKVrE/oDAAAAAMAiTU9sflkGy/eckYNB/4Ek780KLN9zJEJ/AAAAAABYvGckaRkE/p/KweV7rh9pVR2hPwAAAAAAHL19GczwvyDJBdMTm4/lXm1yZuqBS1GU0B8AAAAAAI7e8UnutwT3qQy+ObAkhP4AAAAAAHB06shdRkPoD8Cq1Pbvz95du7Nvek82TG7K+PatqbGxUZcFAAAArHOTM1OrOqAQ+gOw6rT9+3PDRZdk767dd7aNb9uSjTsvF/wDAAAALEByAsCqs3fX7kMC/zvbrrpmRBUBAAAArA1CfwBWnX3Te46qHQAAAIABoT8Aq86GyU1H1Q4AAADAgNAfgFVnfPvWjG/bcmjbti0Z3751RBUBAAAArA0e5AvAqlNjY9m48/Lsveqa7Jvekw2TmzK+fauH+AIAAAAcgdAfgFWpxsZyymPPG3UZAAAAAGuKKZMAAAAAANATQn8AAAAAAOgJoT8AAAAAAPSE0B8AAAAAAHpC6A8AAAAAAD1x/KgLAAAYpbZ/f/bu2p1903uyYXJTxrdvTY2ZFwEAAMDaJPQHANattn9/brjokuzdtfvOtvFtW7Jx5+WCfwAAANYkv80CAOvW3l27Dwn872y76poRVQQAAADHRugPAKxb+6b3HFU7AAAArHZCfwBg3dowuemo2gEAAGC1E/oDAOvW+PatGd+25dC2bVsyvn3riCoCAACAY+NBvgDAulVjY9m48/Lsveqa7Jvekw2TmzK+fauH+AIAALBmCf0BgHWtxsZyymPPG3UZAAAAsCRMYwMAAAAAgJ4Q+gMAAAAAQE8I/QEAAAAAoCeE/gAAAAAA0BNCfwAAAAAA6AmhPwAAAAAA9ITQHwAAAAAAekLoDwAAAAAAPSH0BwAAAACAnhD6AwAAAABATwj9AQAAAACgJ4T+AAAAAADQE0J/AAAAAADoCaE/AAAAAAD0hNAfAAAAAAB6QugPAAAAAAA9IfQHAAAAAICeEPoDAAAAAEBPCP0BAAAAAKAnhP4AAAAAANATQn8AAAAAAOgJoT8AAAAAAPSE0B8AAAAAAHpC6A8AAAAAAD0h9AcAAAAAgJ4Q+gMAAAAAQE8I/QEAAAAAoCeE/gAAAAAA0BNCfwAAAAAA6AmhPwAAAAAA9ITQHwAAAAAAekLoDwAAAAAAPSH0BwAAAACAnhD6AwAAAABATwj9AQAAAACgJ4T+AAAAAADQE0J/AAAAAADoCaE/AAAAAAD0hNAfAAAAAAB6QugPAAAAAAA9IfQHAAAAAICeEPoDAAAAAEBPCP0BAAAAAKAnhP4AAAAAANATQn8AAAAAAOgJoT8AAAAAAPSE0B8AAAAAAHpC6A8AAAAAAD0h9AcAAAAAgJ4Q+gMAAAAAQE8I/QEAAAAAoCeE/gAAAAAA0BNCfwAAAAAA6AmhPwAAAAAA9ITQHwAAAAAAekLoDwAAAAAAPSH0BwAAAACAnhD6AwAAAABATwj9AQAAAACgJ4T+AAAAAADQE0J/AAAAAADoCaE/AAAAAAC9VlW/WVVt9jXqepaT0B8AAAAAgN6qqvsl2THqOlaK0B8AAAAAgF6qqrEkO5OcmOSDIy5nRQj9AQAAAADoq2ckeViS1yV5z4hrWRFCfwAAAAAAeqeq7p3kd5J8NcmzRlzOijl+1AUAAAAAAMAyeGWS8SS/3FqbqapR17MizPQHAAAAAKBXquriJI9I8tettdeOup6VZKY/AAAAAACLUlXXLqZfa+2c5a7lcKrqnklemOTWJL80qjpGRegPAAAAAECfvDzJaUme21r7zKiLWWlCfwAAAAAAFmWpZ/BX1YVJXn0Mtzi/tfauofs9Ocm2JB9O8nvHVt3aZE1/AAAAAADWvKramOSlSfYnubi19q0RlzQSZvoDAAAAADAqVya56hiu/8bQ/guSnJHkj5N8oqpOmdP3hNmdoXN3tNbuOIb3X3WE/gAAAAAAjERr7fYkty/R7e7dbZ/WvRZyU7d9WZL/tkTvvypY3gcAAAAAAHrCTH8AAAAAANa81tq5C52vqkuT7Oj61gqUNBJm+gMAAAAAQE8I/QEAAAAAoCeE/gAAAAAA0BNCfwAAAAAAeq+1dmlrrfq8nn8i9AcAAAAAgN4Q+gMAAAAAQE8I/QEAAAAAoCeE/gAAAAAA0BNCfwAAAAAA6AmhPwAAAAAA9ITQHwAAAAAAekLoDwAAAAAAPSH0BwAAAACAnhD6AwAAAABATwj9AQAAAACgJ4T+AAAAAADQE8ePugAA6KO2f3/27tqdfdN7smFyU8a3b02N+awdAAAAWF5CfwBYYm3//txw0SXZu2v3nW3j27Zk487LBf8AAADAspI8AMAS27tr9yGB/51tV10zoooAAACA9ULoDwBLbN/0nqNqBwAAAFgqQn8AWGIbJjcdVTsAAADAUhH6A8ASG9++NePbthzatm1LxrdvHVFFAAAAwHrhQb4AsMRqbCwbd16evVddk33Te7JhclPGt2/1EF8AAABg2Qn9AWAZ1NhYTnnseaMuAwAAAFhnTDkEAAAAAICeEPoDAAAAAEBPCP0BAAAAAKAnhP4AAAAAANATQn8AAAAAAOgJoT8AAAAAAPSE0B8AAAAAAHpC6A8AAAAAAD0h9AcAAAAAgJ4Q+gMAAAAAQE8I/QEAAAAAoCeE/gAAAAAA0BNCfwAAAAAA6AmhPwAAAAAA9ITQHwAAAAAAekLoDwAAAAAAPSH0BwAAAACAnhD6AwAAAABATwj9AQAAAACgJ4T+AAAAAADQE0J/AAAAAADoCaE/AAAAAAD0hNAfAAAAAAB6QugPAAAAAAA9IfQHAAAAAICeEPoDAAAAAEBPCP0BAAAAAKAnhP4AAAAAANATQn8AAAAAAOgJoT8AAAAAAPSE0B8AAAAAAHpC6A8AAAAAAD0h9AcAAAAAgJ4Q+gMAAAAAQE8I/QEAAAAAoCeE/gAAAAAA0BNCfwAAAAAA6AmhPwAAAAAA9ITQHwAAAAAAekLoDwAAAAAAPSH0BwAAAACAnhD6AwAAAABATwj9AQAAAACgJ4T+AAAAAADQE0J/AAAAAADoCaE/AAAAAAD0hNAfAAAAAAB6QugPAAAAAAA9IfQHAAAAAICeEPoDAAAAAEBPCP0BAAAAAKAnhP4AAAAAANATQn8AAAAAAOgJoT8AAAAAAPSE0B8AAAAAAHpC6A8AAAAAAD0h9AcAAAAAgJ4Q+gMAAAAAQE8I/QEAAAAAoCeE/gAAAAAA0BNCfwAAAAAA6AmhPwAAAAAA9ITQHwAAAAAAekLoDwAAAAAAPSH0BwAAAACAnhD6AwAAAABATwj9AQAAAACgJ4T+AAAAAADQE0J/AAAAAADoCaE/AAAAAAD0hNAfAAAAAAB6QugPAAAAAEDvVNVdq+q5VfWBqpqpqtur6t+r6uqqurSq7jbqGpfD8aMuAAAAAAAAllJVnZfkyiQbu6Y7ktyS5J7d69wkb0ny4VHUt5zM9AcAAAAAoDeq6uFJdmUQ+L85yQ8mObG1dnqS8SQPTfI7Sb4xsiKXkZn+AAAAAAD0QlWdnOS1SU5K8vuttWcOn2+t3ZLkH7pXL5npDwAAAABAX1yQ5D5JvpTkOSOuZSSE/gAAAAAA9MXPdds3ttZuG2klI2J5HwAAAAAAFqWqrl1Mv9baOctdy1xVdZckD+kOr62qeyV5fpLzM1jf/8YkH0ryJ621XStd30ox0x8AAAAAgD44K8kJ3f59kvxrkouT3CPJ3m67PclVVfXKqqpRFLnczPQHAAAAAGBRRjGD/yicPrT//CRfT/LTSd7aWtvXzfx/Udf21CQfT/J7K17lMjPTHwAAAACAkaiqC6uqHcPr0UO3G5uzf1Fr7U2ttX1J0lr7fJInJvlI1+e3qqp3E+OF/gAAAAAA9MFNQ/ufbq29ZW6H1tqBDGb7J8kZSVbzNxe+Lb37FAMAAAAAgDXjyiRXHcP13xjav35o/xMLXPOxof0zk/z9Mbz/qiP0BwAAAABgJFprtye5fYnu9bWquj7JPY/QdfgBvm0p3ns1sbwPAAAAAAB98Z5ue/YCfR4wtP/ZZaxlJIT+AHxb2v79ufltV+fGl7w2N7/t6rQDB0ZdEgAAAMCru+19q+pxc09W1ViSZ3eH1yf5p5UqbKVY3geAo9b2788NF12Svbt239k2vm1LNu68PDXm82QAAABgNFprU1X1piRPSPKqqjouyVtba9+qqnsleWGSB3fd/3v3YN9eqdZ6t2QRi1RVB5LUSSedNOpSgDVm/EBl47fqP7TfcHzL3jE/V+BY3XbbbXfun3jiiSOsBAAA4FC33nrrda21e4+6joVU1XiSdyTZ0jXdnuSWJKcPdbustXbpCpe2IoT+61hV7UtyXJJbR13LCphNTG5bsBewKBO1YcM9xk7YMLf9ywfu2DfT9u1bwrcydmFtMnZh7TFuYW0ydmFtWutj98urPfRP7lzG5xeSXJDkQUlOTfLlJFNJfr+19oERlreshP6sC1V1bZK01s4ZdS3A4hm7sDYZu7D2GLewNhm7sDYZuyw3Cy8DAAAAAEBPCP0BAAAAAKAnhP4AAAAAANATQn8AAAAAAOgJoT8AAAAAAPSE0B8AAAAAAHpC6A8AAAAAAD0h9AcAAAAAgJ6o1tqoawAAAAAAAJaAmf4AAAAAANATQn8AAAAAAOgJoT8AAAAAAPSE0B8AAAAAAHpC6A8AAAAAAD0h9AcAAAAAgJ4Q+gMAAAAAQE8I/em1qjq1qi6tqo9W1c1V9Y2q+oeq+vWqOmHU9cF6U1VnVNVTqurPq+pjVbW3qm6vqn+vqrdU1U8u4h7GNawCVfWbVdVmX0foa9zCCFXVXavquVX1gaqaGfrZe3U3Nu92mOuMXRiRqvovVfWGqvpcVd1WVbdW1Weq6nVVtfUI1xq7sMSq6uSqOr+qnl9Vb+7G5uy/hS9d5D02VtWLq+qT3Zj+WlVNVdVTq6oWcf1kVb28qj7b/b0wU1XvrqqfOuY/IL1TrS34OxqsWVV1ZpK/TXJW13RLkuOS3KU7/uckj2it3bjixcE6VVX7khw/1HRbkv1Jxofa3pnkCa21W+a53riGVaCq7pfkw0lOnG1rrc37i4pxC6NVVecluTLJxq7pjgzG4XDQ//2ttQ/Puc7YhRHogr8/TvJLQ823dtuThtpe0lr7tXmuN3ZhGVTVuUmuPszpy1prlx7h+nOSvDvJGV3TzRn8W3r29+N3J3lsa+2Ow1z/mCRvTHJy1/TNJKfk4ITuVye5qAl66ZjpTy9V1fFJ3p7BP3S+mOS/tNbGM/jL8YlJbkry/Un+fFQ1wjp1fJIPJfnlJJOttZNaa6ckuXeSP+36nJ/k5XMvNK5hdaiqsSQ7M/gl5YNH6GvcwghV1cOT7Mog8H9zkh9McmJr7fQMPnB/aJLfSfKNOdcZuzA6F+Zg4P+mJP+5tXZya+3kJPdP8tbu3LPmfkvW2IVld2OS9yZ5YZInJfnSYi6qqtOSXJVB4P+JJD/YWjs1g5/FT0+yL8mPJXnpYa6/d5I3ZDCW35/kfq2105KcluS3u25PSfIb39afil4y059eqqqLkryqO3xYa+2Dc84/Kcn/7A4f2Vp770rWB+tVVZ3XWjvc7IhU1Z/k4C8592qt7Rk6Z1zDKlBVv5rBLySvS/JvSXYk88/0N25hdKrq5CQfTXKfJL/fWnvmUVxr7MKIVNXVSc7N4Gfs2a21b805vyGD0PA+SV7fWnvS0DljF5ZJVR3XWts/p+26JGfmCDP9q+ryJM/P4Fs7D2ytfXbO+ecl+X8y+Bb8A1prn5pz/s+SPDmDDxnObq19fc75lyf5xQxm/5/lmzwkZvrTXz/fba+e+w+dzuuTzP4l+3MrUxKwUODf+dOh/YfMOWdcw4h1s4x+J8lXkzxrEZcYtzA6F2QQCn4pyXOO8lpjF0bnO7vtR+YG/knSWtuXwRJ7yWBpj2HGLiyTuYH/UZodb6+fG/h3fj+D5X6OS/Jfh09U1XiS2TX7/3hu4N/5f7vtXZM87hjqpEeE/vRON6vp4d3hO+fr061x9q7u8FErURewKLcN7R83u2Ncw6rxygy+hvxrrbWZhToatzByswHDG1trty3Yc4ixCyP3mW77vd1yPYfoZvp/X3f4j0Ptxi6sQt2zsO7VHR5ubN6cZKo7nDs2fyQHn+dxuOuvS/Lxw1zPOiX0p4/OzsH/t/91gX6z576jqv6P5S0JWKRzh/Y/OrRvXMOIVdXFSR6R5K9ba69dxCXGLYxIVd0lB78xd21V3auqXlFVe6rqjqq6oareXlXb5rnc2IXR+uNue98kV1bVfWdPdOHhGzL4Fs90kpcMXWfswur0oKH9xYzNBxzj9Q9cZF30nNCfPvquof3rF+g3fO67DtsLWBFVdbckz+sOp1prnxw6bVzDCFXVPTN4YNmtOfjcjSMxbmF0zkpyQrd/nwyCgIuT3CPJ3m67PclVVfXKqhp+JoexCyPUWnt7Bkvo3ZHkCUk+XVW3VNUtGazlf24GHww8tLX2zaFLjV1YnY52bN61qoaX7pq9/sbW2q2LuN64JonQn346dWj/lgX6DZ879bC9gGVXVWNJ/iyDNUxvS/L0OV2Maxitlyc5LcmlrbXPHKlzx7iF0Tl9aP/5SfYl+ekkp7TWTs/goYNv7M4/NYc+o8PYhRFrrb00yeOTfLlrOikHl/c4IYO1/E+bc5mxC6vTsY7NU+c5v9D1xjVJhP4ArA4vy2DGYZL8SmvtX0ZZDHBQVT05ybYMHhr4eyMuB1icsTn7F7XW3tQ9ADSttc8neWKSj3R9fmu+tcOBlVdVJ1fVXyS5KsnnM1ife6J7PSrJxzJ4UPeHqurBIysUgFVN6E8f3TS0f/IC/YbP3XTYXsCyqqoX5eDM/me11nbO0824hhGoqo1JXppkf5KLW2vfOorLjVsYneGx9OnW2lvmdmitHUjyou7wjCTnzHOtsQsr74VJfibJJ5Nsbq39VWvtK93rr5JsSfKpJHdP8odD1xm7sDod69i8aZ7zC11vXJNE6E8/fWFo/54L9Bs+94XD9gKWTVX9bpJf7w6f3X2VeT7GNYzGCzIIA1+R5BNVdcrwKwfXDM9Q+2ybcQujM7xm8CcW6Pexof0zu62xCyNSVacm+cXu8A9ba7fN7dOt6f0H3eGPVNU9un1jF1anox2b32yt3TzP9adX1Uk5vNnrjWuSCP3pp48nOdDtP2iBfrPnvtRa+9rylgTMVVUvTPIb3eFzWmsvXqC7cQ2jce9u+7QMZg3NfT1vqO9s2+92x8YtjEg3lhZ6WOCs4Qf4tm5r7MLo/Ocks0ttTS/Q79ND+7M/q41dWJ3+dWh/MWPzY3Paj/b6/73Iuug5oT+901q7Jcn7u8NHz9enqirJj3WH71mJuoCDuiV9nt0dPqe19sKF+hvXsPYYtzBys2Pq7AX6PGBo/7OJsQsjdmBo/8zD9ko2Du3flBi7sIp9KoPncySHH5vjSTZ3h3PH5vuS3HqE68/MwZ/3xjZJhP701xXd9ryq+j/nOf/TSe7T7b92ZUoCkjsD/+ElfRYM/IcY17DCWmvnttbqcK8klw31nW3/b0O3MG5hdF7dbe9bVY+be7KqxnLwA/jrk/zT0GljF0bjEzkY7j11vgdsV9VxObgE0I0ZrP0/y9iFVaa11nJwvD2xqs6ap9uvJDklg+dovW7O9XuT/GV3+LSqOm2e65/bbW9K8h+e48P6JPSnr65I8tEMvrL8l1X1iGTwy01V/XSSV3b93tlae++IaoR1Z84a/r92hCV95jKuYe0xbmFEWmtTSd7UHb6qqn5qNkCsqnsluTLJg7vz/717sO8sYxdGoFuv/1Xd4Q8keXtVfU839saq6sFJ3pHkYV2fl7bW9g/dwtiFZVRVp1fV3WdfOZirnjzc3j37atiLknwpg4ft7qqqc7r7nVBVT0tyedfvFa21T83z1pck2ZvkOzP4e+E/ddePV9UlSf6vrt//aK3duFR/Xta2GnzgBP3TfXp6dZKzuqZbMvgL+cTu+J+TPMJfiLAyuoDhc93hgSQzR7jkRa21F825x1kxrmHVqKpLk+xIBjP9D9PnrBi3MBLdcgHvSLKla7o9gzF4+lC3y1prl85z7VkxdmHFdQ/qfHMOXcbj9m57l6G2K5NcMCf0N3ZhGVXVdVl46a1ZV7TWLpxz7TlJ3p3kjK7ppgzG5Ybu+D1JHttauz3zqKrHJHljBh8cJMk3Mvh2wHHd8auTXNQEvXTM9Ke3WmvXZTB76bczePBJS7IvybUZfJX5h/xDB1bU2Jz9jUd4zZ0dYVzDGmTcwuh0SwKcl+TiJLszmCV4SgbL+bw+ycPnC/y7a6+LsQsrrpvt/5gMluJ5a5J/z8GHbu/JYJmP7a21n50b+HfXXxdjF1ad1tq1SR6Y5CUZPIx7QwY/l9+Xwc/p8w8X+HfXvyODsf3KJNdl8IHBjUn+KskTWmu/IPBnmJn+AAAAAADQE2b6AwAAAABATwj9AQAAAACgJ4T+AAAAAADQE0J/AAAAAADoCaE/AAAAAAD0hNAfAAAAAAB6QugPAAAAAAA9IfQHAAAAAICeEPoDAAAAAEBPCP0BAAAAAKAnhP4AAAAAANATQn8AAAAAAOgJoT8AAPRMVf1tVbWqaqOuBQAAWFnHj7oAAABY76rqrCSfXaLbPWWJ7gMAAKxBZvoDAAAAAEBPVGu+8QsAAKNUVScnedQCXX40yTO6/auT/H8L9P2n1trnl6o2AABgbbG8DwAAjFhr7ZYkbznc+aq629Dh51trh+0LAACsb5b3AQAAAACAnhD6AwBAz1TV31ZVq6p51/Ksqgtnz1fVhV3bQ6rqiqr6bFXdWlWfq6orq+pBc649rqp+tqr+pqq+WFW3VdWnquoFVXXXRdZ3QlVdVFVvq6o93T2+XlX/UlUv7h5sDAAAfBss7wMAAOtcVT09yUty6O8H9+peP1lVP9Fae3dVnZrkL5KcP+cW/ynJc5P8RFVtaa3NLPBeD0nyhiT3nnPqLkm+p3s9vaqe2Vp7+bH8uQAAYD0S+gMAwPq2Pcnjk8wkeVWSf01yUte2LYMw/i+q6t5Jrsgg8H9/kjcm+WKSM5P8Sre9fwYfHjx5vjeqqh9O8tdJTk7Skrw7yXuSXN+91CPOPwAAAzZJREFU5w8nuaA7/ydVdXtr7TVL/QcGAIA+q9bm/cYvAACwSnRL8Ly6O7yitXbhEfr/bZKtSdJaqyPcL0k+lOTRrbUb5/R7RZKLu8Nrk5yT5HmttRfM6XePJB9O8p1J9ifZ1Fr74pw+pyb530k2Jfl6kse11q6Zp7b7JnlvBt8y2JvkrNbaVxb68wIAAAdZ0x8AANa3O5L8zNzAv3NZBjPyk0Hg/865gX+StNa+nOQPusPjkjxynntdnEHgnyQ/N1/g393r35I8pTscT/KLi/lDAAAAA0J/AABY397eWvvcfCdaa9cnuW6o6Q8XuM/7hvYfMM/5C7rtp1prb1+ooNba3yT5Qnf4qIX6AgAAh7KmPwAArG9/f4TzN+TgQ3c/dIR+s04fPlFVpyV58Gy/qnrcIuq6uduevYi+AABAR+gPAADr21ePcP72RfYd7nfinHObcvBbxpu712KdfuQuAADALMv7AADA+nZgsR1ba4vuO8dp3+Z1SbLhGK4FAIB1R+gPAAAst5uH9l/bWqujeY2sagAAWIOE/gAAwHK7fmj/u0dWBQAArANCfwAAYFm11r6S5GPd4Q9V1V1HWQ8AAPSZ0B8AAFgJV3Tbk5P85igLAQCAPhP6AwAAK+EPk3yu2//NqvqNqjrs7yNVdVpVPbOqHrky5QEAQD8cP+oCAACA/mut7a2qxyW5Jsldk/xukl+qqr/MYOmfm7v2+yR5aJJzk5yQ5IKRFAwAAGuU0B8AAFgRrbUPV9VDk1yZ5PuTTCZ5zgKX3J7kKytRGwAA9IXQHwAAWDGttU9W1TlJfjzJ45P8cJLvSDKe5KYMlgD6SJK/SfK21tqNo6oVAADWomqtjboGAAAAAABgCXiQLwAAAAAA9ITQHwAAAAAAekLoDwAAAAAAPSH0BwAAAACAnhD6AwAAAABATwj9AQAAAACgJ4T+AAAAAADQE0J/AAAAAADoCaE/AAAAAAD0hNAfAAAAAAB6QugPAAAAAAA9IfQHAAAAAICeEPoDAAAAAEBPCP0BAAAAAKAnhP4AAAAAANATQn8AAAAAAOgJoT8AAAAAAPSE0B8AAAAAAHpC6A8AAAAAAD3x/wNfz8RzvgK+ggAAAABJRU5ErkJggg==\n",
                "text/plain": "<Figure size 792x432 with 2 Axes>"
              }
            ],
            "_view_module": "@jupyter-widgets/output",
            "_model_module_version": "1.0.0",
            "_view_count": null,
            "_view_module_version": "1.0.0",
            "layout": "IPY_MODEL_ddf0f8a2d5b5471ebfd5f6d5d9a0c582",
            "_model_module": "@jupyter-widgets/output"
          }
        },
        "a7d603ace1b9460b8bf1ac2a6d090f49": {
          "model_module": "@jupyter-widgets/controls",
          "model_name": "SliderStyleModel",
          "state": {
            "_view_name": "StyleView",
            "handle_color": null,
            "_model_name": "SliderStyleModel",
            "description_width": "",
            "_view_module": "@jupyter-widgets/base",
            "_model_module_version": "1.5.0",
            "_view_count": null,
            "_view_module_version": "1.2.0",
            "_model_module": "@jupyter-widgets/controls"
          }
        },
        "b289de9e690f44dfb1afd6583cb04385": {
          "model_module": "@jupyter-widgets/base",
          "model_name": "LayoutModel",
          "state": {
            "_view_name": "LayoutView",
            "grid_template_rows": null,
            "right": null,
            "justify_content": null,
            "_view_module": "@jupyter-widgets/base",
            "overflow": null,
            "_model_module_version": "1.2.0",
            "_view_count": null,
            "flex_flow": null,
            "width": null,
            "min_width": null,
            "border": null,
            "align_items": null,
            "bottom": null,
            "_model_module": "@jupyter-widgets/base",
            "top": null,
            "grid_column": null,
            "overflow_y": null,
            "overflow_x": null,
            "grid_auto_flow": null,
            "grid_area": null,
            "grid_template_columns": null,
            "flex": null,
            "_model_name": "LayoutModel",
            "justify_items": null,
            "grid_row": null,
            "max_height": null,
            "align_content": null,
            "visibility": null,
            "align_self": null,
            "height": null,
            "min_height": null,
            "padding": null,
            "grid_auto_rows": null,
            "grid_gap": null,
            "max_width": null,
            "order": null,
            "_view_module_version": "1.2.0",
            "grid_template_areas": null,
            "object_position": null,
            "object_fit": null,
            "grid_auto_columns": null,
            "margin": null,
            "display": null,
            "left": null
          }
        },
        "bb9e6198078d4074807f1dfab473f3ad": {
          "model_module": "@jupyter-widgets/controls",
          "model_name": "SliderStyleModel",
          "state": {
            "_view_name": "StyleView",
            "handle_color": null,
            "_model_name": "SliderStyleModel",
            "description_width": "",
            "_view_module": "@jupyter-widgets/base",
            "_model_module_version": "1.5.0",
            "_view_count": null,
            "_view_module_version": "1.2.0",
            "_model_module": "@jupyter-widgets/controls"
          }
        },
        "72cda81d15c64db7a20c58a28e7ebdb0": {
          "model_module": "@jupyter-widgets/base",
          "model_name": "LayoutModel",
          "state": {
            "_view_name": "LayoutView",
            "grid_template_rows": null,
            "right": null,
            "justify_content": null,
            "_view_module": "@jupyter-widgets/base",
            "overflow": null,
            "_model_module_version": "1.2.0",
            "_view_count": null,
            "flex_flow": null,
            "width": null,
            "min_width": null,
            "border": null,
            "align_items": null,
            "bottom": null,
            "_model_module": "@jupyter-widgets/base",
            "top": null,
            "grid_column": null,
            "overflow_y": null,
            "overflow_x": null,
            "grid_auto_flow": null,
            "grid_area": null,
            "grid_template_columns": null,
            "flex": null,
            "_model_name": "LayoutModel",
            "justify_items": null,
            "grid_row": null,
            "max_height": null,
            "align_content": null,
            "visibility": null,
            "align_self": null,
            "height": null,
            "min_height": null,
            "padding": null,
            "grid_auto_rows": null,
            "grid_gap": null,
            "max_width": null,
            "order": null,
            "_view_module_version": "1.2.0",
            "grid_template_areas": null,
            "object_position": null,
            "object_fit": null,
            "grid_auto_columns": null,
            "margin": null,
            "display": null,
            "left": null
          }
        },
        "f6e147af0a70484089e2c3900701cec4": {
          "model_module": "@jupyter-widgets/controls",
          "model_name": "SliderStyleModel",
          "state": {
            "_view_name": "StyleView",
            "handle_color": null,
            "_model_name": "SliderStyleModel",
            "description_width": "",
            "_view_module": "@jupyter-widgets/base",
            "_model_module_version": "1.5.0",
            "_view_count": null,
            "_view_module_version": "1.2.0",
            "_model_module": "@jupyter-widgets/controls"
          }
        },
        "8975a2ffe6664ae880f83dbd91137226": {
          "model_module": "@jupyter-widgets/base",
          "model_name": "LayoutModel",
          "state": {
            "_view_name": "LayoutView",
            "grid_template_rows": null,
            "right": null,
            "justify_content": null,
            "_view_module": "@jupyter-widgets/base",
            "overflow": null,
            "_model_module_version": "1.2.0",
            "_view_count": null,
            "flex_flow": null,
            "width": null,
            "min_width": null,
            "border": null,
            "align_items": null,
            "bottom": null,
            "_model_module": "@jupyter-widgets/base",
            "top": null,
            "grid_column": null,
            "overflow_y": null,
            "overflow_x": null,
            "grid_auto_flow": null,
            "grid_area": null,
            "grid_template_columns": null,
            "flex": null,
            "_model_name": "LayoutModel",
            "justify_items": null,
            "grid_row": null,
            "max_height": null,
            "align_content": null,
            "visibility": null,
            "align_self": null,
            "height": null,
            "min_height": null,
            "padding": null,
            "grid_auto_rows": null,
            "grid_gap": null,
            "max_width": null,
            "order": null,
            "_view_module_version": "1.2.0",
            "grid_template_areas": null,
            "object_position": null,
            "object_fit": null,
            "grid_auto_columns": null,
            "margin": null,
            "display": null,
            "left": null
          }
        },
        "e06dd639bdee491ba4843b525257f5e5": {
          "model_module": "@jupyter-widgets/controls",
          "model_name": "DescriptionStyleModel",
          "state": {
            "_view_name": "StyleView",
            "_model_name": "DescriptionStyleModel",
            "description_width": "",
            "_view_module": "@jupyter-widgets/base",
            "_model_module_version": "1.5.0",
            "_view_count": null,
            "_view_module_version": "1.2.0",
            "_model_module": "@jupyter-widgets/controls"
          }
        },
        "e2ed582f3e88405ebe54455ccdb2aeef": {
          "model_module": "@jupyter-widgets/base",
          "model_name": "LayoutModel",
          "state": {
            "_view_name": "LayoutView",
            "grid_template_rows": null,
            "right": null,
            "justify_content": null,
            "_view_module": "@jupyter-widgets/base",
            "overflow": null,
            "_model_module_version": "1.2.0",
            "_view_count": null,
            "flex_flow": null,
            "width": null,
            "min_width": null,
            "border": null,
            "align_items": null,
            "bottom": null,
            "_model_module": "@jupyter-widgets/base",
            "top": null,
            "grid_column": null,
            "overflow_y": null,
            "overflow_x": null,
            "grid_auto_flow": null,
            "grid_area": null,
            "grid_template_columns": null,
            "flex": null,
            "_model_name": "LayoutModel",
            "justify_items": null,
            "grid_row": null,
            "max_height": null,
            "align_content": null,
            "visibility": null,
            "align_self": null,
            "height": null,
            "min_height": null,
            "padding": null,
            "grid_auto_rows": null,
            "grid_gap": null,
            "max_width": null,
            "order": null,
            "_view_module_version": "1.2.0",
            "grid_template_areas": null,
            "object_position": null,
            "object_fit": null,
            "grid_auto_columns": null,
            "margin": null,
            "display": null,
            "left": null
          }
        },
        "56e9b8ea22f3499b9b67311509841537": {
          "model_module": "@jupyter-widgets/controls",
          "model_name": "DescriptionStyleModel",
          "state": {
            "_view_name": "StyleView",
            "_model_name": "DescriptionStyleModel",
            "description_width": "",
            "_view_module": "@jupyter-widgets/base",
            "_model_module_version": "1.5.0",
            "_view_count": null,
            "_view_module_version": "1.2.0",
            "_model_module": "@jupyter-widgets/controls"
          }
        },
        "4ddd5ffd6e184df7bbb6712e762218e2": {
          "model_module": "@jupyter-widgets/base",
          "model_name": "LayoutModel",
          "state": {
            "_view_name": "LayoutView",
            "grid_template_rows": null,
            "right": null,
            "justify_content": null,
            "_view_module": "@jupyter-widgets/base",
            "overflow": null,
            "_model_module_version": "1.2.0",
            "_view_count": null,
            "flex_flow": null,
            "width": null,
            "min_width": null,
            "border": null,
            "align_items": null,
            "bottom": null,
            "_model_module": "@jupyter-widgets/base",
            "top": null,
            "grid_column": null,
            "overflow_y": null,
            "overflow_x": null,
            "grid_auto_flow": null,
            "grid_area": null,
            "grid_template_columns": null,
            "flex": null,
            "_model_name": "LayoutModel",
            "justify_items": null,
            "grid_row": null,
            "max_height": null,
            "align_content": null,
            "visibility": null,
            "align_self": null,
            "height": null,
            "min_height": null,
            "padding": null,
            "grid_auto_rows": null,
            "grid_gap": null,
            "max_width": null,
            "order": null,
            "_view_module_version": "1.2.0",
            "grid_template_areas": null,
            "object_position": null,
            "object_fit": null,
            "grid_auto_columns": null,
            "margin": null,
            "display": null,
            "left": null
          }
        },
        "516952a5f36a4657b40d0a4ccc35559d": {
          "model_module": "@jupyter-widgets/controls",
          "model_name": "DescriptionStyleModel",
          "state": {
            "_view_name": "StyleView",
            "_model_name": "DescriptionStyleModel",
            "description_width": "",
            "_view_module": "@jupyter-widgets/base",
            "_model_module_version": "1.5.0",
            "_view_count": null,
            "_view_module_version": "1.2.0",
            "_model_module": "@jupyter-widgets/controls"
          }
        },
        "5c93b8ce16094aeb9406af6bc73c1045": {
          "model_module": "@jupyter-widgets/base",
          "model_name": "LayoutModel",
          "state": {
            "_view_name": "LayoutView",
            "grid_template_rows": null,
            "right": null,
            "justify_content": null,
            "_view_module": "@jupyter-widgets/base",
            "overflow": null,
            "_model_module_version": "1.2.0",
            "_view_count": null,
            "flex_flow": null,
            "width": null,
            "min_width": null,
            "border": null,
            "align_items": null,
            "bottom": null,
            "_model_module": "@jupyter-widgets/base",
            "top": null,
            "grid_column": null,
            "overflow_y": null,
            "overflow_x": null,
            "grid_auto_flow": null,
            "grid_area": null,
            "grid_template_columns": null,
            "flex": null,
            "_model_name": "LayoutModel",
            "justify_items": null,
            "grid_row": null,
            "max_height": null,
            "align_content": null,
            "visibility": null,
            "align_self": null,
            "height": null,
            "min_height": null,
            "padding": null,
            "grid_auto_rows": null,
            "grid_gap": null,
            "max_width": null,
            "order": null,
            "_view_module_version": "1.2.0",
            "grid_template_areas": null,
            "object_position": null,
            "object_fit": null,
            "grid_auto_columns": null,
            "margin": null,
            "display": null,
            "left": null
          }
        },
        "e70bd2fdc68d439c85dfd6bafbb29a96": {
          "model_module": "@jupyter-widgets/controls",
          "model_name": "DescriptionStyleModel",
          "state": {
            "_view_name": "StyleView",
            "_model_name": "DescriptionStyleModel",
            "description_width": "",
            "_view_module": "@jupyter-widgets/base",
            "_model_module_version": "1.5.0",
            "_view_count": null,
            "_view_module_version": "1.2.0",
            "_model_module": "@jupyter-widgets/controls"
          }
        },
        "57f7922cccef45dc90c013c68cf6bb5f": {
          "model_module": "@jupyter-widgets/base",
          "model_name": "LayoutModel",
          "state": {
            "_view_name": "LayoutView",
            "grid_template_rows": null,
            "right": null,
            "justify_content": null,
            "_view_module": "@jupyter-widgets/base",
            "overflow": null,
            "_model_module_version": "1.2.0",
            "_view_count": null,
            "flex_flow": null,
            "width": null,
            "min_width": null,
            "border": null,
            "align_items": null,
            "bottom": null,
            "_model_module": "@jupyter-widgets/base",
            "top": null,
            "grid_column": null,
            "overflow_y": null,
            "overflow_x": null,
            "grid_auto_flow": null,
            "grid_area": null,
            "grid_template_columns": null,
            "flex": null,
            "_model_name": "LayoutModel",
            "justify_items": null,
            "grid_row": null,
            "max_height": null,
            "align_content": null,
            "visibility": null,
            "align_self": null,
            "height": null,
            "min_height": null,
            "padding": null,
            "grid_auto_rows": null,
            "grid_gap": null,
            "max_width": null,
            "order": null,
            "_view_module_version": "1.2.0",
            "grid_template_areas": null,
            "object_position": null,
            "object_fit": null,
            "grid_auto_columns": null,
            "margin": null,
            "display": null,
            "left": null
          }
        },
        "ddf0f8a2d5b5471ebfd5f6d5d9a0c582": {
          "model_module": "@jupyter-widgets/base",
          "model_name": "LayoutModel",
          "state": {
            "_view_name": "LayoutView",
            "grid_template_rows": null,
            "right": null,
            "justify_content": null,
            "_view_module": "@jupyter-widgets/base",
            "overflow": null,
            "_model_module_version": "1.2.0",
            "_view_count": null,
            "flex_flow": null,
            "width": null,
            "min_width": null,
            "border": null,
            "align_items": null,
            "bottom": null,
            "_model_module": "@jupyter-widgets/base",
            "top": null,
            "grid_column": null,
            "overflow_y": null,
            "overflow_x": null,
            "grid_auto_flow": null,
            "grid_area": null,
            "grid_template_columns": null,
            "flex": null,
            "_model_name": "LayoutModel",
            "justify_items": null,
            "grid_row": null,
            "max_height": null,
            "align_content": null,
            "visibility": null,
            "align_self": null,
            "height": null,
            "min_height": null,
            "padding": null,
            "grid_auto_rows": null,
            "grid_gap": null,
            "max_width": null,
            "order": null,
            "_view_module_version": "1.2.0",
            "grid_template_areas": null,
            "object_position": null,
            "object_fit": null,
            "grid_auto_columns": null,
            "margin": null,
            "display": null,
            "left": null
          }
        },
        "3c1e9f7fc695445fa261b524e1e4f822": {
          "model_module": "@jupyter-widgets/controls",
          "model_name": "TabModel",
          "state": {
            "_view_name": "TabView",
            "_dom_classes": [],
            "_titles": {
              "0": "Youtube",
              "1": "Bilibili"
            },
            "_model_name": "TabModel",
            "_view_module": "@jupyter-widgets/controls",
            "selected_index": 0,
            "_model_module_version": "1.5.0",
            "_view_count": null,
            "_view_module_version": "1.5.0",
            "box_style": "",
            "layout": "IPY_MODEL_0869afe9caf348eca4a5368476eee633",
            "_model_module": "@jupyter-widgets/controls",
            "children": [
              "IPY_MODEL_ebb830eaf999436db7905f2cfece16cc",
              "IPY_MODEL_a67271224f2148b1913dcbb354e1e8b9"
            ]
          }
        },
        "0869afe9caf348eca4a5368476eee633": {
          "model_module": "@jupyter-widgets/base",
          "model_name": "LayoutModel",
          "state": {
            "_view_name": "LayoutView",
            "grid_template_rows": null,
            "right": null,
            "justify_content": null,
            "_view_module": "@jupyter-widgets/base",
            "overflow": null,
            "_model_module_version": "1.2.0",
            "_view_count": null,
            "flex_flow": null,
            "width": null,
            "min_width": null,
            "border": null,
            "align_items": null,
            "bottom": null,
            "_model_module": "@jupyter-widgets/base",
            "top": null,
            "grid_column": null,
            "overflow_y": null,
            "overflow_x": null,
            "grid_auto_flow": null,
            "grid_area": null,
            "grid_template_columns": null,
            "flex": null,
            "_model_name": "LayoutModel",
            "justify_items": null,
            "grid_row": null,
            "max_height": null,
            "align_content": null,
            "visibility": null,
            "align_self": null,
            "height": null,
            "min_height": null,
            "padding": null,
            "grid_auto_rows": null,
            "grid_gap": null,
            "max_width": null,
            "order": null,
            "_view_module_version": "1.2.0",
            "grid_template_areas": null,
            "object_position": null,
            "object_fit": null,
            "grid_auto_columns": null,
            "margin": null,
            "display": null,
            "left": null
          }
        },
        "ebb830eaf999436db7905f2cfece16cc": {
          "model_module": "@jupyter-widgets/output",
          "model_name": "OutputModel",
          "state": {
            "_view_name": "OutputView",
            "msg_id": "",
            "_dom_classes": [],
            "_model_name": "OutputModel",
            "outputs": [
              {
                "output_type": "stream",
                "metadata": {
                  "tags": []
                },
                "text": "Video available at https://youtube.com/watch?v=CNrjxNedqV0\n",
                "stream": "stdout"
              },
              {
                "output_type": "display_data",
                "metadata": {
                  "tags": []
                },
                "text/html": "\n        <iframe\n            width=\"854\"\n            height=\"480\"\n            src=\"https://www.youtube.com/embed/CNrjxNedqV0?fs=1&rel=0\"\n            frameborder=\"0\"\n            allowfullscreen\n        ></iframe>\n        ",
                "text/plain": "<IPython.lib.display.YouTubeVideo at 0x7f1a96d085d0>",
                "image/jpeg": "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\n"
              }
            ],
            "_view_module": "@jupyter-widgets/output",
            "_model_module_version": "1.0.0",
            "_view_count": null,
            "_view_module_version": "1.0.0",
            "layout": "IPY_MODEL_646765442209427f8c04636206dce0c1",
            "_model_module": "@jupyter-widgets/output"
          }
        },
        "a67271224f2148b1913dcbb354e1e8b9": {
          "model_module": "@jupyter-widgets/output",
          "model_name": "OutputModel",
          "state": {
            "_view_name": "OutputView",
            "msg_id": "",
            "_dom_classes": [],
            "_model_name": "OutputModel",
            "outputs": [
              {
                "output_type": "stream",
                "metadata": {
                  "tags": []
                },
                "text": "Video available at https://www.bilibili.com/video/BV1EM4y1T7cB\n",
                "stream": "stdout"
              },
              {
                "output_type": "display_data",
                "metadata": {
                  "tags": []
                },
                "text/html": "\n        <iframe\n            width=\"854\"\n            height=\"480\"\n            src=\"https://player.bilibili.com/player.html?bvid=BV1EM4y1T7cB&page=1?fs=1\"\n            frameborder=\"0\"\n            allowfullscreen\n        ></iframe>\n        ",
                "text/plain": "<__main__.BiliVideo at 0x7f1a8dafec10>"
              }
            ],
            "_view_module": "@jupyter-widgets/output",
            "_model_module_version": "1.0.0",
            "_view_count": null,
            "_view_module_version": "1.0.0",
            "layout": "IPY_MODEL_d17df878e36a4edca0b26e5a06b60135",
            "_model_module": "@jupyter-widgets/output"
          }
        },
        "646765442209427f8c04636206dce0c1": {
          "model_module": "@jupyter-widgets/base",
          "model_name": "LayoutModel",
          "state": {
            "_view_name": "LayoutView",
            "grid_template_rows": null,
            "right": null,
            "justify_content": null,
            "_view_module": "@jupyter-widgets/base",
            "overflow": null,
            "_model_module_version": "1.2.0",
            "_view_count": null,
            "flex_flow": null,
            "width": null,
            "min_width": null,
            "border": null,
            "align_items": null,
            "bottom": null,
            "_model_module": "@jupyter-widgets/base",
            "top": null,
            "grid_column": null,
            "overflow_y": null,
            "overflow_x": null,
            "grid_auto_flow": null,
            "grid_area": null,
            "grid_template_columns": null,
            "flex": null,
            "_model_name": "LayoutModel",
            "justify_items": null,
            "grid_row": null,
            "max_height": null,
            "align_content": null,
            "visibility": null,
            "align_self": null,
            "height": null,
            "min_height": null,
            "padding": null,
            "grid_auto_rows": null,
            "grid_gap": null,
            "max_width": null,
            "order": null,
            "_view_module_version": "1.2.0",
            "grid_template_areas": null,
            "object_position": null,
            "object_fit": null,
            "grid_auto_columns": null,
            "margin": null,
            "display": null,
            "left": null
          }
        },
        "d17df878e36a4edca0b26e5a06b60135": {
          "model_module": "@jupyter-widgets/base",
          "model_name": "LayoutModel",
          "state": {
            "_view_name": "LayoutView",
            "grid_template_rows": null,
            "right": null,
            "justify_content": null,
            "_view_module": "@jupyter-widgets/base",
            "overflow": null,
            "_model_module_version": "1.2.0",
            "_view_count": null,
            "flex_flow": null,
            "width": null,
            "min_width": null,
            "border": null,
            "align_items": null,
            "bottom": null,
            "_model_module": "@jupyter-widgets/base",
            "top": null,
            "grid_column": null,
            "overflow_y": null,
            "overflow_x": null,
            "grid_auto_flow": null,
            "grid_area": null,
            "grid_template_columns": null,
            "flex": null,
            "_model_name": "LayoutModel",
            "justify_items": null,
            "grid_row": null,
            "max_height": null,
            "align_content": null,
            "visibility": null,
            "align_self": null,
            "height": null,
            "min_height": null,
            "padding": null,
            "grid_auto_rows": null,
            "grid_gap": null,
            "max_width": null,
            "order": null,
            "_view_module_version": "1.2.0",
            "grid_template_areas": null,
            "object_position": null,
            "object_fit": null,
            "grid_auto_columns": null,
            "margin": null,
            "display": null,
            "left": null
          }
        }
      }
    }
  },
  "cells": [
    {
      "cell_type": "markdown",
      "metadata": {
        "id": "view-in-github",
        "colab_type": "text"
      },
      "source": [
        "<a href=\"https://colab.research.google.com/github/luisarai/NMA2021/blob/main/tutorials/W3D2_HiddenDynamics/student/W3D2_Tutorial2.ipynb\" target=\"_parent\"><img src=\"https://colab.research.google.com/assets/colab-badge.svg\" alt=\"Open In Colab\"/></a>"
      ]
    },
    {
      "cell_type": "markdown",
      "metadata": {
        "execution": {},
        "id": "aXqyVLPJDz7v"
      },
      "source": [
        "# Tutorial 2: Hidden Markov Model\n",
        "**Week 3, Day 2: Hidden Dynamics**\n",
        "\n",
        "**By Neuromatch Academy**\n",
        "\n",
        "__Content creators:__ Yicheng Fei with help from Jesse Livezey and Xaq Pitkow\n",
        "\n",
        "__Content reviewers:__ John Butler, Matt Krause, Meenakshi Khosla, Spiros Chavlis, Michael Waskom\n",
        "\n",
        "__Production editor:__ Ella Batty"
      ]
    },
    {
      "cell_type": "markdown",
      "metadata": {
        "execution": {},
        "id": "Rq-q3PGbDz70"
      },
      "source": [
        "# Tutorial objectives\n",
        "\n",
        "*Estimated timing of tutorial: 1 hour, 5 minutes*\n",
        "\n",
        "The world around us is often changing, but we only have noisy sensory measurements. Similarly, neural systems switch between discrete states (e.g. sleep/wake) which are observable only indirectly, through their impact on neural activity. **Hidden Markov Models** (HMM) let us reason about these unobserved (also called hidden or latent) states using a time series of measurements. \n",
        "\n",
        "Here we'll learn how changing the HMM's transition probability and measurement noise impacts the data. We'll look at how uncertainty increases as we predict the future, and how to gain information from the measurements.\n",
        "\n",
        "We will use a binary latent variable $s_t \\in \\{0,1\\}$ that switches randomly between the two states, and a 1D Gaussian emission model $m_t|s_t \\sim \\mathcal{N}(\\mu_{s_t},\\sigma^2_{s_t})$ that provides evidence about the current state.\n",
        "\n",
        "By the end of this tutorial, you should be able to:\n",
        "- Describe how the hidden states in a Hidden Markov model evolve over time, both in words, mathematically, and in code\n",
        "- Estimate hidden states from data using forward inference in a Hidden Markov model\n",
        "- Describe how measurement noise and state transition probabilities affect uncertainty in predictions in the future and the ability to estimate hidden states.\n",
        "\n",
        "**Summary of Exercises**\n",
        "\n",
        "1. Generate data from an HMM.\n",
        "\n",
        "2. Calculate how predictions propagate in a Markov Chain without evidence.\n",
        "\n",
        "3. Combine new evidence and prediction from past evidence to estimate hidden states."
      ]
    },
    {
      "cell_type": "code",
      "metadata": {
        "cellView": "form",
        "execution": {},
        "id": "qZc3nFWpDz70",
        "outputId": "b63a8a81-848b-4c46-c775-d05934fd5878",
        "colab": {
          "base_uri": "https://localhost:8080/",
          "height": 581,
          "referenced_widgets": [
            "e0b9f669160a494282a70cc945316bdf",
            "1cb6d374d607456ca8adab6cbca0ded6",
            "c9ffe234844e43fcb444cd6017a2866f",
            "c816bc119fa6423796c0ecd545d6cad4",
            "bbb950c1e19b40b8906b75a700a14373",
            "992b9618380843f8b983a79b76f767d2"
          ]
        }
      },
      "source": [
        "# @title Video 1: Introduction\n",
        "from ipywidgets import widgets\n",
        "\n",
        "out2 = widgets.Output()\n",
        "with out2:\n",
        "  from IPython.display import IFrame\n",
        "  class BiliVideo(IFrame):\n",
        "      def __init__(self, id, page=1, width=400, height=300, **kwargs):\n",
        "          self.id=id\n",
        "          src = 'https://player.bilibili.com/player.html?bvid={0}&page={1}'.format(id, page)\n",
        "          super(BiliVideo, self).__init__(src, width, height, **kwargs)\n",
        "\n",
        "  video = BiliVideo(id=\"BV1Hh411r7JE\", width=854, height=480, fs=1)\n",
        "  print('Video available at https://www.bilibili.com/video/{0}'.format(video.id))\n",
        "  display(video)\n",
        "\n",
        "out1 = widgets.Output()\n",
        "with out1:\n",
        "  from IPython.display import YouTubeVideo\n",
        "  video = YouTubeVideo(id=\"pIXxVl1A4l0\", width=854, height=480, fs=1, rel=0)\n",
        "  print('Video available at https://youtube.com/watch?v=' + video.id)\n",
        "  display(video)\n",
        "\n",
        "out = widgets.Tab([out1, out2])\n",
        "out.set_title(0, 'Youtube')\n",
        "out.set_title(1, 'Bilibili')\n",
        "\n",
        "display(out)"
      ],
      "execution_count": 1,
      "outputs": [
        {
          "output_type": "display_data",
          "data": {
            "application/vnd.jupyter.widget-view+json": {
              "model_id": "e0b9f669160a494282a70cc945316bdf",
              "version_minor": 0,
              "version_major": 2
            },
            "text/plain": [
              "Tab(children=(Output(), Output()), _titles={'0': 'Youtube', '1': 'Bilibili'})"
            ]
          },
          "metadata": {
            "tags": []
          }
        }
      ]
    },
    {
      "cell_type": "markdown",
      "metadata": {
        "execution": {},
        "id": "D6JJQ284Dz72"
      },
      "source": [
        "# Setup"
      ]
    },
    {
      "cell_type": "code",
      "metadata": {
        "execution": {},
        "id": "ilOOcS1_Dz72"
      },
      "source": [
        "# Imports\n",
        "\n",
        "import numpy as np\n",
        "import time\n",
        "from scipy import stats\n",
        "from scipy.optimize import linear_sum_assignment\n",
        "from collections import namedtuple\n",
        "\n",
        "import matplotlib.pyplot as plt\n",
        "from matplotlib import patches"
      ],
      "execution_count": 2,
      "outputs": []
    },
    {
      "cell_type": "code",
      "metadata": {
        "cellView": "form",
        "execution": {},
        "id": "v0IsKAnGDz73",
        "outputId": "dfdd3598-abcf-44c7-d2a7-08fccf0a507e",
        "colab": {
          "base_uri": "https://localhost:8080/"
        }
      },
      "source": [
        "#@title Figure Settings\n",
        "# import ipywidgets as widgets       # interactive display\n",
        "from IPython.html import widgets\n",
        "from ipywidgets import interactive, interact, HBox, Layout,VBox\n",
        "from IPython.display import HTML\n",
        "%config InlineBackend.figure_format = 'retina'\n",
        "plt.style.use(\"https://raw.githubusercontent.com/NeuromatchAcademy/course-content/NMA2020/nma.mplstyle\")"
      ],
      "execution_count": 3,
      "outputs": [
        {
          "output_type": "stream",
          "text": [
            "/usr/local/lib/python3.7/dist-packages/IPython/html.py:14: ShimWarning: The `IPython.html` package has been deprecated since IPython 4.0. You should import from `notebook` instead. `IPython.html.widgets` has moved to `ipywidgets`.\n",
            "  \"`IPython.html.widgets` has moved to `ipywidgets`.\", ShimWarning)\n"
          ],
          "name": "stderr"
        }
      ]
    },
    {
      "cell_type": "code",
      "metadata": {
        "cellView": "form",
        "execution": {},
        "id": "WJnG57tJDz74"
      },
      "source": [
        "# @title Plotting Functions\n",
        "\n",
        "def plot_hmm1(model, states, measurements, flag_m=True):\n",
        "  \"\"\"Plots HMM states and measurements for 1d states and measurements.\n",
        "\n",
        "  Args:\n",
        "    model (hmmlearn model):               hmmlearn model used to get state means.\n",
        "    states (numpy array of floats):       Samples of the states.\n",
        "    measurements (numpy array of floats): Samples of the states.\n",
        "  \"\"\"\n",
        "  T = states.shape[0]\n",
        "  nsteps = states.size\n",
        "  aspect_ratio = 2\n",
        "  fig, ax1 = plt.subplots(figsize=(8,4))\n",
        "  states_forplot = list(map(lambda s: model.means[s], states))\n",
        "  ax1.step(np.arange(nstep), states_forplot, \"-\", where=\"mid\", alpha=1.0, c=\"green\")\n",
        "  ax1.set_xlabel(\"Time\")\n",
        "  ax1.set_ylabel(\"Latent State\", c=\"green\")\n",
        "  ax1.set_yticks([-1, 1])\n",
        "  ax1.set_yticklabels([\"-1\", \"+1\"])\n",
        "  ax1.set_xticks(np.arange(0,T,10))\n",
        "  ymin = min(measurements)\n",
        "  ymax = max(measurements)\n",
        "\n",
        "  ax2 = ax1.twinx()\n",
        "  ax2.set_ylabel(\"Measurements\", c=\"crimson\")\n",
        "\n",
        "  # show measurement gaussian\n",
        "  if flag_m:\n",
        "    ax2.plot([T,T],ax2.get_ylim(), color=\"maroon\", alpha=0.6)\n",
        "    for i in range(model.n_components):\n",
        "      mu = model.means[i]\n",
        "      scale = np.sqrt(model.vars[i])\n",
        "      rv = stats.norm(mu, scale)\n",
        "      num_points = 50\n",
        "      domain = np.linspace(mu-3*scale, mu+3*scale, num_points)\n",
        "\n",
        "      left = np.repeat(float(T), num_points)\n",
        "      # left = np.repeat(0.0, num_points)\n",
        "      offset = rv.pdf(domain)\n",
        "      offset *= T / 15\n",
        "      lbl = \"measurement\" if i == 0 else \"\"\n",
        "      # ax2.fill_betweenx(domain, left, left-offset, alpha=0.3, lw=2, color=\"maroon\", label=lbl)\n",
        "      ax2.fill_betweenx(domain, left+offset, left, alpha=0.3, lw=2, color=\"maroon\", label=lbl)\n",
        "      ax2.scatter(np.arange(nstep), measurements, c=\"crimson\", s=4)\n",
        "      ax2.legend(loc=\"upper left\")\n",
        "    ax1.set_ylim(ax2.get_ylim())\n",
        "  plt.show(fig)\n",
        "\n",
        "\n",
        "def plot_marginal_seq(predictive_probs, switch_prob):\n",
        "  \"\"\"Plots the sequence of marginal predictive distributions.\n",
        "\n",
        "    Args:\n",
        "      predictive_probs (list of numpy vectors): sequence of predictive probability vectors\n",
        "      switch_prob (float):                      Probability of switching states.\n",
        "  \"\"\"\n",
        "  T = len(predictive_probs)\n",
        "  prob_neg = [p_vec[0] for p_vec in predictive_probs]\n",
        "  prob_pos = [p_vec[1] for p_vec in predictive_probs]\n",
        "  fig, ax = plt.subplots()\n",
        "  ax.plot(np.arange(T), prob_neg, color=\"blue\")\n",
        "  ax.plot(np.arange(T), prob_pos, color=\"orange\")\n",
        "  ax.legend([\n",
        "    \"prob in state -1\", \"prob in state 1\"\n",
        "  ])\n",
        "  ax.text(T/2, 0.05, \"switching probability={}\".format(switch_prob), fontsize=12,\n",
        "          bbox=dict(boxstyle=\"round\", facecolor=\"wheat\", alpha=0.6))\n",
        "  ax.set_xlabel(\"Time\")\n",
        "  ax.set_ylabel(\"Probability\")\n",
        "  ax.set_title(\"Forgetting curve in a changing world\")\n",
        "  #ax.set_aspect(aspect_ratio)\n",
        "  plt.show(fig)\n",
        "\n",
        "def plot_evidence_vs_noevidence(posterior_matrix, predictive_probs):\n",
        "  \"\"\"Plots the average posterior probabilities with evidence v.s. no evidence\n",
        "\n",
        "  Args:\n",
        "    posterior_matrix: (2d numpy array of floats): The posterior probabilities in state 1 from evidence (samples, time)\n",
        "    predictive_probs (numpy array of floats):  Predictive probabilities in state 1 without evidence\n",
        "  \"\"\"\n",
        "  nsample, T = posterior_matrix.shape\n",
        "  posterior_mean = posterior_matrix.mean(axis=0)\n",
        "  fig, ax = plt.subplots(1)\n",
        "  # ax.plot([0.0, T],[0.5, 0.5], color=\"red\", linestyle=\"dashed\")\n",
        "  ax.plot([0.0, T],[0., 0.], color=\"red\", linestyle=\"dashed\")\n",
        "  ax.plot(np.arange(T), predictive_probs, c=\"orange\", linewidth=2, label=\"No evidence\")\n",
        "  ax.scatter(np.tile(np.arange(T), (nsample, 1)), posterior_matrix, s=0.8, c=\"green\", alpha=0.3, label=\"With evidence(Sample)\")\n",
        "  ax.plot(np.arange(T), posterior_mean, c='green', linewidth=2, label=\"With evidence(Average)\")\n",
        "  ax.legend()\n",
        "  ax.set_yticks([0.0, 0.25, 0.5, 0.75, 1.0])\n",
        "  ax.set_xlabel(\"Time\")\n",
        "  ax.set_ylabel(\"Probability in State +1\")\n",
        "  ax.set_title(\"Gain confidence with evidence\")\n",
        "  plt.show(fig)\n",
        "\n",
        "\n",
        "def plot_forward_inference(model, states, measurements, states_inferred,\n",
        "                           predictive_probs, likelihoods, posterior_probs,\n",
        "                           t=None,\n",
        "                           flag_m=True, flag_d=True, flag_pre=True, flag_like=True, flag_post=True,\n",
        "                           ):\n",
        "  \"\"\"Plot ground truth state sequence with noisy measurements, and ground truth states v.s. inferred ones\n",
        "\n",
        "      Args:\n",
        "          model (instance of hmmlearn.GaussianHMM): an instance of HMM\n",
        "          states (numpy vector): vector of 0 or 1(int or Bool), the sequences of true latent states\n",
        "          measurements (numpy vector of numpy vector): the un-flattened Gaussian measurements at each time point, element has size (1,)\n",
        "          states_inferred (numpy vector): vector of 0 or 1(int or Bool), the sequences of inferred latent states\n",
        "  \"\"\"\n",
        "  T = states.shape[0]\n",
        "  if t is None:\n",
        "    t = T-1\n",
        "  nsteps = states.size\n",
        "  fig, ax1 = plt.subplots(figsize=(11,6))\n",
        "  # inferred states\n",
        "  #ax1.step(np.arange(nstep)[:t+1], states_forplot[:t+1], \"-\", where=\"mid\", alpha=1.0, c=\"orange\", label=\"inferred\")\n",
        "  # true states\n",
        "  states_forplot = list(map(lambda s: model.means[s], states))\n",
        "  ax1.step(np.arange(nstep)[:t+1], states_forplot[:t+1], \"-\", where=\"mid\", alpha=1.0, c=\"green\", label=\"true\")\n",
        "  ax1.step(np.arange(nstep)[t+1:], states_forplot[t+1:], \"-\", where=\"mid\", alpha=0.3, c=\"green\", label=\"\")\n",
        "  # Posterior curve\n",
        "  delta = model.means[1] - model.means[0]\n",
        "  states_interpolation = model.means[0] + delta * posterior_probs[:,1]\n",
        "  if flag_post:\n",
        "    ax1.step(np.arange(nstep)[:t+1], states_interpolation[:t+1], \"-\", where=\"mid\", c=\"grey\", label=\"posterior\")\n",
        "\n",
        "  ax1.set_xlabel(\"Time\")\n",
        "  ax1.set_ylabel(\"Latent State\", c=\"green\")\n",
        "  ax1.set_yticks([-1, 1])\n",
        "  ax1.set_yticklabels([\"-1\", \"+1\"])\n",
        "  ax1.legend(bbox_to_anchor=(0,1.02,0.2,0.1), borderaxespad=0, ncol=2)\n",
        "\n",
        "\n",
        "\n",
        "  ax2 = ax1.twinx()\n",
        "  ax2.set_ylim(\n",
        "      min(-1.2, np.min(measurements)),\n",
        "      max(1.2, np.max(measurements))\n",
        "      )\n",
        "  if flag_d:\n",
        "    ax2.scatter(np.arange(nstep)[:t+1], measurements[:t+1], c=\"crimson\", s=4, label=\"measurement\")\n",
        "    ax2.set_ylabel(\"Measurements\", c=\"crimson\")\n",
        "\n",
        "  # show measurement distributions\n",
        "  if flag_m:\n",
        "    for i in range(model.n_components):\n",
        "      mu = model.means[i]\n",
        "      scale = np.sqrt(model.vars[i])\n",
        "      rv = stats.norm(mu, scale)\n",
        "      num_points = 50\n",
        "      domain = np.linspace(mu-3*scale, mu+3*scale, num_points)\n",
        "\n",
        "      left = np.repeat(float(T), num_points)\n",
        "      offset = rv.pdf(domain)\n",
        "      offset *= T /15\n",
        "      # lbl = \"measurement\" if i == 0 else \"\"\n",
        "      lbl = \"\"\n",
        "      # ax2.fill_betweenx(domain, left, left-offset, alpha=0.3, lw=2, color=\"maroon\", label=lbl)\n",
        "      ax2.fill_betweenx(domain, left+offset, left, alpha=0.3, lw=2, color=\"maroon\", label=lbl)\n",
        "  ymin, ymax = ax2.get_ylim()\n",
        "  width = 0.1 * (ymax-ymin) / 2.0\n",
        "  centers = [-1.0, 1.0]\n",
        "  bar_scale = 15\n",
        "\n",
        "  # Predictions\n",
        "  data = predictive_probs\n",
        "  if flag_pre:\n",
        "    for i in range(model.n_components):\n",
        "      domain = np.array([centers[i]-1.5*width, centers[i]-0.5*width])\n",
        "      left = np.array([t,t])\n",
        "      offset = np.array([data[t,i]]*2)\n",
        "      offset *= bar_scale\n",
        "      lbl = \"todays prior\" if i == 0 else \"\"\n",
        "      ax2.fill_betweenx(domain, left+offset, left, alpha=0.3, lw=2, color=\"dodgerblue\", label=lbl)\n",
        "\n",
        "  # Likelihoods\n",
        "  # data = np.stack([likelihoods, 1.0-likelihoods],axis=-1)\n",
        "  data = likelihoods\n",
        "  data /= np.sum(data,axis=-1, keepdims=True)\n",
        "  if flag_like:\n",
        "    for i in range(model.n_components):\n",
        "      domain = np.array([centers[i]+0.5*width, centers[i]+1.5*width])\n",
        "      left = np.array([t,t])\n",
        "      offset = np.array([data[t,i]]*2)\n",
        "      offset *= bar_scale\n",
        "      lbl = \"likelihood\" if i == 0 else \"\"\n",
        "      ax2.fill_betweenx(domain, left+offset, left, alpha=0.3, lw=2, color=\"crimson\", label=lbl)\n",
        "  # Posteriors\n",
        "  data = posterior_probs\n",
        "  if flag_post:\n",
        "    for i in range(model.n_components):\n",
        "      domain = np.array([centers[i]-0.5*width, centers[i]+0.5*width])\n",
        "      left = np.array([t,t])\n",
        "      offset = np.array([data[t,i]]*2)\n",
        "      offset *= bar_scale\n",
        "      lbl = \"posterior\" if i == 0 else \"\"\n",
        "      ax2.fill_betweenx(domain, left+offset, left, alpha=0.3, lw=2, color=\"grey\", label=lbl)\n",
        "  if t<T-1:\n",
        "    ax2.plot([t,t],ax2.get_ylim(), color='black',alpha=0.6)\n",
        "  if flag_pre or flag_like or flag_post:\n",
        "    ax2.plot([t,t],ax2.get_ylim(), color='black',alpha=0.6)\n",
        "\n",
        "    ax2.legend(bbox_to_anchor=(0.4,1.02,0.6, 0.1), borderaxespad=0, ncol=4)\n",
        "  ax1.set_ylim(ax2.get_ylim())\n",
        "  return fig\n",
        "  # plt.show(fig)"
      ],
      "execution_count": 4,
      "outputs": []
    },
    {
      "cell_type": "markdown",
      "metadata": {
        "execution": {},
        "id": "E6QfAI9YDz75"
      },
      "source": [
        "---\n",
        "# Section 1: Binary HMM with Gaussian measurements\n",
        "\n",
        "In contrast to last tutorial, the latent state in an HMM is not fixed, but may switch to a different state at each time step. The time dependence is simple: the probability of the state at time $t$ is wholely determined by the state at time $t-1$. This is called called the **Markov property** and the dependency of the whole state sequence $\\{s_1,...,s_t\\}$ can be described by a chain structure called a Markov Chain. You have seen a Markov chain in the [pre-reqs Statistics day](https://compneuro.neuromatch.io/tutorials/W0D5_Statistics/student/W0D5_Tutorial2.html#section-1-2-markov-chains) and in the [Linear Systems Tutorial 2](https://compneuro.neuromatch.io/tutorials/W2D2_LinearSystems/student/W2D2_Tutorial2.html).\n",
        "\n",
        "\n",
        "**Markov model for binary latent dynamics**\n",
        "\n",
        "Let's reuse the binary switching process you saw in the [Linear Systems Tutorial 2](https://compneuro.neuromatch.io/tutorials/W2D2_LinearSystems/student/W2D2_Tutorial2.html): our state can be either +1 or -1. The probability of switching to state $s_t=j$ from the previous state $s_{t-1}=i$ is the conditional probability distribution $p(s_t = j| s_{t-1} = i)$. We can summarize these as a $2\\times 2$ matrix we will denote $D$ for Dynamics.\n",
        "\n",
        "\\begin{align*}\n",
        "D = \\begin{bmatrix}p(s_t = +1 | s_{t-1} = +1) & p(s_t = -1 | s_{t-1} = +1)\\\\p(s_t = +1 | s_{t-1} = -1)& p(s_t = -1 | s_{t-1} = -1)\\end{bmatrix}\n",
        "\\end{align*}\n",
        "\n",
        "$D_{ij}$ represents the transition probability to switch from state $i$ to state $j$ at next time step. Please note that this is contrast to the meaning used in the intro and in Linear Systems (their transition matrices are the transpose of ours) but syncs with the [pre-reqs Statistics day](https://compneuro.neuromatch.io/tutorials/W0D5_Statistics/student/W0D5_Tutorial2.html#section-1-2-markov-chains).\n",
        "\n",
        "We can represent the probability of the _current_ state as a 2-dimensional vector \n",
        "\n",
        "$ P_t = [p(s_t = +1), p(s_t = -1)]$\n",
        "\n",
        ". The entries are the probability that the current state is +1 and the probability that the current state is -1 so these must sum up to 1.\n",
        "\n",
        "We then update the probabilities over time following the Markov process:\n",
        "\n",
        "\\begin{align*}\n",
        "P_{t}= P_{t-1}D \\tag{1}\n",
        "\\end{align*}\n",
        "\n",
        "If you know the state, the entries of $P_{t-1}$ would be either 1 or 0 as there is no uncertainty.\n",
        "\n",
        "**Measurements**\n",
        "\n",
        "In a _Hidden_ Markov model, we cannot directly observe the latent states $s_t$. Instead we get noisy measurements $m_t\\sim p(m|s_t)$."
      ]
    },
    {
      "cell_type": "code",
      "metadata": {
        "cellView": "form",
        "execution": {},
        "id": "sBnTFpniDz77",
        "outputId": "29eea90b-2a23-4e98-a118-0527742dcdee",
        "colab": {
          "base_uri": "https://localhost:8080/",
          "height": 581,
          "referenced_widgets": [
            "be1afe3def36473ebc9d2bf5f7dd7e45",
            "4e6d846def7641fe9613769cff9a0ae5",
            "b157f19435d9408e8d601ded137b4d77",
            "ec5fa7b7841f41358b9898baaecdd71a",
            "75b3c31438394ce0a579ead61155dd10",
            "6ac3b39e160b4fa9ad82b006be4348f5"
          ]
        }
      },
      "source": [
        "# @title Video 2: Binary HMM with Gaussian measurements\n",
        "from ipywidgets import widgets\n",
        "\n",
        "out2 = widgets.Output()\n",
        "with out2:\n",
        "  from IPython.display import IFrame\n",
        "  class BiliVideo(IFrame):\n",
        "      def __init__(self, id, page=1, width=400, height=300, **kwargs):\n",
        "          self.id=id\n",
        "          src = 'https://player.bilibili.com/player.html?bvid={0}&page={1}'.format(id, page)\n",
        "          super(BiliVideo, self).__init__(src, width, height, **kwargs)\n",
        "\n",
        "  video = BiliVideo(id=\"BV1Sw41197Mj\", width=854, height=480, fs=1)\n",
        "  print('Video available at https://www.bilibili.com/video/{0}'.format(video.id))\n",
        "  display(video)\n",
        "\n",
        "out1 = widgets.Output()\n",
        "with out1:\n",
        "  from IPython.display import YouTubeVideo\n",
        "  video = YouTubeVideo(id=\"z6KbKILMIPU\", width=854, height=480, fs=1, rel=0)\n",
        "  print('Video available at https://youtube.com/watch?v=' + video.id)\n",
        "  display(video)\n",
        "\n",
        "out = widgets.Tab([out1, out2])\n",
        "out.set_title(0, 'Youtube')\n",
        "out.set_title(1, 'Bilibili')\n",
        "\n",
        "display(out)"
      ],
      "execution_count": 5,
      "outputs": [
        {
          "output_type": "display_data",
          "data": {
            "application/vnd.jupyter.widget-view+json": {
              "model_id": "be1afe3def36473ebc9d2bf5f7dd7e45",
              "version_minor": 0,
              "version_major": 2
            },
            "text/plain": [
              "Tab(children=(Output(), Output()), _titles={'0': 'Youtube', '1': 'Bilibili'})"
            ]
          },
          "metadata": {
            "tags": []
          }
        }
      ]
    },
    {
      "cell_type": "markdown",
      "metadata": {
        "execution": {},
        "id": "FwtgZmZbDz78"
      },
      "source": [
        "## Coding Exercise 1.1: Simulate a binary HMM with Gaussian measurements\n",
        "\n",
        "In this exercise, you will implement a binary HMM with Gaussian measurements. Your HMM will start in State +1 and transition between states (both $-1 \\rightarrow 1$ and $1 \\rightarrow -1$) with probability `switch_prob`. Each state emits measurements drawn from a Gaussian with mean $+1$ for State +1 and mean $-1$ for State -1. The variance of both states is given by `noise_level`.\n",
        "\n",
        "The exercises in the next cell have three steps:\n",
        "\n",
        "**STEP 1**. In `create_HMM`, complete the transition matrix  `transmat_` (i.e., $D$) in the code. \n",
        "\\begin{equation*}\n",
        "D = \n",
        "\\begin{pmatrix}\n",
        "p_{\\rm stay} & p_{\\rm switch} \\\\\n",
        "p_{\\rm switch} & p_{\\rm stay} \\\\\n",
        "\\end{pmatrix}\n",
        "\\end{equation*}\n",
        "with $p_{\\rm stay} = 1 - p_{\\rm switch}$. \n",
        "\n",
        "**STEP 2**. In `create_HMM`, specify gaussian measurements $m_t | s_t$, by specifying the means for each state, and the standard deviation.\n",
        "\n",
        "**STEP 3**. In `sample`, use the transition matrix to specify the probabilities for the next state $s_t$ given the previous state $s_{t-1}$.\n",
        "\n",
        "\n",
        "In this exercise, we will use a helper data structure named `GaussianHMM1D`, implemented in the following cell. This allows us to set the information we need about the HMM model (the starting probabilities of state, the transition matrix, the means and variances of the Gaussian distributions, and the number of components) and easily access it. For example, if we can set our model using:\n",
        "\n",
        "\n",
        "```\n",
        "  model = GaussianHMM1D(\n",
        "    startprob = startprob_vec,\n",
        "    transmat = transmat_mat,\n",
        "    means = means_vec,\n",
        "    vars = vars_vec,\n",
        "    n_components = n_components\n",
        "  )\n",
        "```\n",
        "and then access the variances as:\n",
        "\n",
        "```\n",
        "model.vars\n",
        "```\n",
        "\n",
        "Also note that we refer to the states as `0` and `1` in the code, instead of as `-1` and `+1`."
      ]
    },
    {
      "cell_type": "code",
      "metadata": {
        "execution": {},
        "id": "6T_uWbJ9Dz79"
      },
      "source": [
        "GaussianHMM1D = namedtuple('GaussianHMM1D', ['startprob', 'transmat','means','vars','n_components'])"
      ],
      "execution_count": 6,
      "outputs": []
    },
    {
      "cell_type": "code",
      "metadata": {
        "execution": {},
        "id": "e0De5hCwDz7-",
        "outputId": "ebe8d8e3-94b9-4ec0-d83f-27626b67c720",
        "colab": {
          "base_uri": "https://localhost:8080/"
        }
      },
      "source": [
        "def create_HMM(switch_prob=0.1, noise_level=1e-1, startprob=[1.0, 0.0]):\n",
        "  \"\"\"Create an HMM with binary state variable and 1D Gaussian measurements\n",
        "  The probability to switch to the other state is `switch_prob`. Two\n",
        "  measurement models have mean 1.0 and -1.0 respectively. `noise_level`\n",
        "  specifies the standard deviation of the measurement models.\n",
        "\n",
        "  Args:\n",
        "      switch_prob (float): probability to jump to the other state\n",
        "      noise_level (float): standard deviation of measurement models. Same for\n",
        "      two components\n",
        "\n",
        "  Returns:\n",
        "      model (GaussianHMM instance): the described HMM\n",
        "  \"\"\"\n",
        "\n",
        "  ############################################################################\n",
        "  # Insert your code here to:\n",
        "  #   * Create the transition matrix, `transmat_mat` so that the odds of\n",
        "  #      switching is `switch_prob`\n",
        "  #\t\t* Set the measurement model variances, to `noise_level ^ 2` for both\n",
        "  #      states\n",
        "  #raise NotImplementedError(\"`create_HMM` is incomplete\")\n",
        "  ############################################################################\n",
        "\n",
        "  n_components = 2\n",
        "\n",
        "  startprob_vec = np.asarray(startprob)\n",
        "\n",
        "  # STEP 1: Transition probabilities\n",
        "  transmat_mat = np.array([[1. - switch_prob, switch_prob], [switch_prob, 1. - switch_prob]])\n",
        "\n",
        "  # STEP 2: Measurement probabilities\n",
        "\n",
        "  # Mean measurements for each state\n",
        "  means_vec =  np.array([-1.0, 1.0])\n",
        "\n",
        "  # Noise for each state\n",
        "  vars_vec = np.ones(2) * noise_level**2\n",
        "\n",
        "  # Initialize model\n",
        "  model = GaussianHMM1D(\n",
        "    startprob = startprob_vec,\n",
        "    transmat = transmat_mat,\n",
        "    means = means_vec,\n",
        "    vars = vars_vec,\n",
        "    n_components = n_components\n",
        "  )\n",
        "\n",
        "  return model\n",
        "\n",
        "def sample(model, T):\n",
        "  \"\"\"Generate samples from the given HMM\n",
        "\n",
        "  Args:\n",
        "    model (GaussianHMM1D): the HMM with Gaussian measurement\n",
        "    T (int): number of time steps to sample\n",
        "\n",
        "  Returns:\n",
        "    M (numpy vector): the series of measurements\n",
        "    S (numpy vector): the series of latent states\n",
        "\n",
        "  \"\"\"\n",
        "  ############################################################################\n",
        "  # Insert your code here to:\n",
        "  #   * take column i from `model.transmat` to get the transition probabilities\n",
        "  #       from state i to all states\n",
        "  #raise NotImplementedError(\"`sample` is incomplete\")\n",
        "  ############################################################################\n",
        "  # Initialize S and M\n",
        "  S = np.zeros((T,),dtype=int)\n",
        "  M = np.zeros((T,))\n",
        "\n",
        "  # Calculate initial state\n",
        "  S[0] = np.random.choice([0,1],p=model.startprob)\n",
        "\n",
        "  # Latent state at time `t` depends on `t-1` and the corresponding transition probabilities to other states\n",
        "  for t in range(1,T):\n",
        "\n",
        "    # STEP 3: Get vector of probabilities for all possible `S[t]` given a particular `S[t-1]`\n",
        "    transition_vector = model.transmat[S[t-1],:]\n",
        "\n",
        "    # Calculate latent state at time `t`\n",
        "    S[t] = np.random.choice([0,1],p=transition_vector)\n",
        "\n",
        "  # Calculate measurements conditioned on the latent states\n",
        "  # Since measurements are independent of each other given the latent states, we could calculate them as a batch\n",
        "  means = model.means[S]\n",
        "  scales = np.sqrt(model.vars[S])\n",
        "  M = np.random.normal(loc=means, scale=scales, size=(T,))\n",
        "\n",
        "  return M, S\n",
        "\n",
        "\n",
        "# Set random seed\n",
        "np.random.seed(101)\n",
        "\n",
        "# Set parameters of HMM\n",
        "T = 100\n",
        "switch_prob = 0.1\n",
        "noise_level = 2.0\n",
        "\n",
        "# Create HMM\n",
        "model = create_HMM(switch_prob=switch_prob, noise_level=noise_level)\n",
        "\n",
        "# Sample from HMM\n",
        "M, S = sample(model,T)\n",
        "assert M.shape==(T,)\n",
        "assert S.shape==(T,)\n",
        "\n",
        "# Print values\n",
        "print(M[:5])\n",
        "print(S[:5])"
      ],
      "execution_count": 7,
      "outputs": [
        {
          "output_type": "stream",
          "text": [
            "[-3.09355908  1.58552915 -3.93502804 -1.98819072 -1.32506947]\n",
            "[0 0 0 0 0]\n"
          ],
          "name": "stdout"
        }
      ]
    },
    {
      "cell_type": "markdown",
      "metadata": {
        "execution": {},
        "id": "Ecahfw7iDz7_"
      },
      "source": [
        "[*Click for solution*](https://github.com/NeuromatchAcademy/course-content/tree/master//tutorials/W3D2_HiddenDynamics/solutions/W3D2_Tutorial2_Solution_76573dcd.py)\n",
        "\n"
      ]
    },
    {
      "cell_type": "markdown",
      "metadata": {
        "execution": {},
        "id": "A7bqImdYDz8A"
      },
      "source": [
        "You should see that the first five measurements are:\n",
        " \n",
        " `[-3.09355908  1.58552915 -3.93502804 -1.98819072 -1.32506947]`\n",
        "\n",
        " while the first five states are:\n",
        "\n",
        " `[0 0 0 0 0]`"
      ]
    },
    {
      "cell_type": "markdown",
      "metadata": {
        "execution": {},
        "id": "2xpSIvz3Dz8A"
      },
      "source": [
        "## Interactive Demo 1.2: Binary HMM\n",
        "\n",
        "In the demo below, we simulate and plot a similar HMM. You can change the probability of switching states and the noise level (the standard deviation of the Gaussian distributions for measurements). You can click the empty box to also visualize the measurements.\n",
        "\n",
        "**First**, think about and discuss these questions:\n",
        "\n",
        "1.   What will the states do if the switching probability is zero? One?\n",
        "2.   What will measurements look like with high noise? Low?\n",
        "\n",
        "\n",
        "\n",
        "**Then**, play with the demo to see if you were correct or not."
      ]
    },
    {
      "cell_type": "code",
      "metadata": {
        "cellView": "form",
        "execution": {},
        "id": "00FC1gcrDz8A",
        "outputId": "f84e3fa1-ef44-4c85-d7a5-cea214de4aeb",
        "colab": {
          "base_uri": "https://localhost:8080/",
          "height": 419,
          "referenced_widgets": [
            "63e4e0d4f0d64313b2f72e13fa6c55da",
            "f1a473beb11b414d8e4c488039e24221",
            "9e0d9df2e9d34bde9e9ff9414de37852",
            "78d1111588c14147b12fc68897898279",
            "4e061af2801b4e1b9879c13f3fc8be8a",
            "a4348f659b484ff798d3a9469c0381fa",
            "303606e250304120966d139e01f7059f",
            "15de212d8e524c0eb3d676b06c1a1319",
            "88cd4ba35b0e4a15bcab15b5fc203b11",
            "241e280c06eb4919a0d52159f1a28054",
            "084a76c13cc84f739f6882140ebbcff9",
            "7661b2f4ae34483bad811e425b4dced7",
            "b9cc07dba10c464d87160a77b3a8afa0"
          ]
        }
      },
      "source": [
        "#@title\n",
        "\n",
        "#@markdown Execute this cell to enable the widget!\n",
        "\n",
        "nstep = 100\n",
        "\n",
        "@widgets.interact\n",
        "def plot_samples_widget(\n",
        "    switch_prob=widgets.FloatSlider(min=0.0, max=1.0, step=0.02, value=0.1),\n",
        "    log10_noise_level=widgets.FloatSlider(min=-1., max=1., step=.01, value=-0.3),\n",
        "    flag_m=widgets.Checkbox(value=False, description='measurements', disabled=False, indent=False)\n",
        "    ):\n",
        "  np.random.seed(101)\n",
        "  model = create_HMM(switch_prob=switch_prob,\n",
        "                     noise_level=10.**log10_noise_level)\n",
        "  print(model)\n",
        "  observations, states = sample(model, nstep)\n",
        "  plot_hmm1(model, states, observations, flag_m=flag_m)"
      ],
      "execution_count": 8,
      "outputs": [
        {
          "output_type": "display_data",
          "data": {
            "application/vnd.jupyter.widget-view+json": {
              "model_id": "63e4e0d4f0d64313b2f72e13fa6c55da",
              "version_minor": 0,
              "version_major": 2
            },
            "text/plain": [
              "interactive(children=(FloatSlider(value=0.1, description='switch_prob', max=1.0, step=0.02), FloatSlider(value…"
            ]
          },
          "metadata": {
            "tags": []
          }
        }
      ]
    },
    {
      "cell_type": "markdown",
      "metadata": {
        "execution": {},
        "id": "NzzdeLfmDz8A"
      },
      "source": [
        "[*Click for solution*](https://github.com/NeuromatchAcademy/course-content/tree/master//tutorials/W3D2_HiddenDynamics/solutions/W3D2_Tutorial2_Solution_507ce9e9.py)\n",
        "\n"
      ]
    },
    {
      "cell_type": "code",
      "metadata": {
        "cellView": "form",
        "execution": {},
        "id": "SZwvHjapDz8B",
        "outputId": "612951b9-0400-43ca-f649-5910a11c4967",
        "colab": {
          "base_uri": "https://localhost:8080/",
          "height": 581,
          "referenced_widgets": [
            "d4c43bfbfc1340dab5ea6c8c70125370",
            "a71a22cd65c547a2a3714aa601054e1f",
            "90a2ce8a89154916b3c4f0a62622dfb2",
            "4e36ebd8600c46d989f46ea2a06d4fa1",
            "4d158d6e8d7e4ef79bbb20fa6af9b437",
            "33519e360b2f4a3eae3287489e26f492"
          ]
        }
      },
      "source": [
        "# @title Video 3: Section 1 Exercises Discussion\n",
        "from ipywidgets import widgets\n",
        "\n",
        "out2 = widgets.Output()\n",
        "with out2:\n",
        "  from IPython.display import IFrame\n",
        "  class BiliVideo(IFrame):\n",
        "      def __init__(self, id, page=1, width=400, height=300, **kwargs):\n",
        "          self.id=id\n",
        "          src = 'https://player.bilibili.com/player.html?bvid={0}&page={1}'.format(id, page)\n",
        "          super(BiliVideo, self).__init__(src, width, height, **kwargs)\n",
        "\n",
        "  video = BiliVideo(id=\"BV1dX4y1F7Fq\", width=854, height=480, fs=1)\n",
        "  print('Video available at https://www.bilibili.com/video/{0}'.format(video.id))\n",
        "  display(video)\n",
        "\n",
        "out1 = widgets.Output()\n",
        "with out1:\n",
        "  from IPython.display import YouTubeVideo\n",
        "  video = YouTubeVideo(id=\"bDDRgAvQeFA\", width=854, height=480, fs=1, rel=0)\n",
        "  print('Video available at https://youtube.com/watch?v=' + video.id)\n",
        "  display(video)\n",
        "\n",
        "out = widgets.Tab([out1, out2])\n",
        "out.set_title(0, 'Youtube')\n",
        "out.set_title(1, 'Bilibili')\n",
        "\n",
        "display(out)"
      ],
      "execution_count": 9,
      "outputs": [
        {
          "output_type": "display_data",
          "data": {
            "application/vnd.jupyter.widget-view+json": {
              "model_id": "d4c43bfbfc1340dab5ea6c8c70125370",
              "version_minor": 0,
              "version_major": 2
            },
            "text/plain": [
              "Tab(children=(Output(), Output()), _titles={'0': 'Youtube', '1': 'Bilibili'})"
            ]
          },
          "metadata": {
            "tags": []
          }
        }
      ]
    },
    {
      "cell_type": "markdown",
      "metadata": {
        "execution": {},
        "id": "PDQbCCMDDz8B"
      },
      "source": [
        "\n",
        "**Applications**. Measurements could be:\n",
        "* fish caught at different times as the school of fish moves from left to right\n",
        "* membrane voltage when an ion channel changes between open and closed\n",
        "* EEG frequency measurements as the brain moves between sleep states\n",
        "\n",
        "What phenomena can you imagine modeling with these HMMs?"
      ]
    },
    {
      "cell_type": "markdown",
      "metadata": {
        "execution": {},
        "id": "mqMRrnt8Dz8C"
      },
      "source": [
        "----\n",
        "\n",
        "# Section 2: Predicting the future in an HMM\n",
        "\n",
        "\n",
        "*Estimated timing to here from start of tutorial: 20 min*\n",
        "\n",
        "\n",
        "\n"
      ]
    },
    {
      "cell_type": "code",
      "metadata": {
        "cellView": "form",
        "execution": {},
        "id": "yhzYJK52Dz8C",
        "outputId": "f40622c4-bdf0-4ebc-e62a-d6808382ca58",
        "colab": {
          "base_uri": "https://localhost:8080/",
          "height": 581,
          "referenced_widgets": [
            "2c2aff34cde34aee9f95838c32cf7ac2",
            "d91501ac64934ec79e48136f04c4808f",
            "04f9fc790ff642628698816d2850dbd2",
            "7d0b3468b8f24b2d8ac62f34efafd005",
            "c9a488bc99e74365be6d05a2ad09af43",
            "48da939602104e8d9d39f7b73295d65a"
          ]
        }
      },
      "source": [
        "# @title Video 4: Forgetting in a changing world\n",
        "from ipywidgets import widgets\n",
        "\n",
        "out2 = widgets.Output()\n",
        "with out2:\n",
        "  from IPython.display import IFrame\n",
        "  class BiliVideo(IFrame):\n",
        "      def __init__(self, id, page=1, width=400, height=300, **kwargs):\n",
        "          self.id=id\n",
        "          src = 'https://player.bilibili.com/player.html?bvid={0}&page={1}'.format(id, page)\n",
        "          super(BiliVideo, self).__init__(src, width, height, **kwargs)\n",
        "\n",
        "  video = BiliVideo(id=\"BV1o64y1s7M7\", width=854, height=480, fs=1)\n",
        "  print('Video available at https://www.bilibili.com/video/{0}'.format(video.id))\n",
        "  display(video)\n",
        "\n",
        "out1 = widgets.Output()\n",
        "with out1:\n",
        "  from IPython.display import YouTubeVideo\n",
        "  video = YouTubeVideo(id=\"XOec560m61o\", width=854, height=480, fs=1, rel=0)\n",
        "  print('Video available at https://youtube.com/watch?v=' + video.id)\n",
        "  display(video)\n",
        "\n",
        "out = widgets.Tab([out1, out2])\n",
        "out.set_title(0, 'Youtube')\n",
        "out.set_title(1, 'Bilibili')\n",
        "\n",
        "display(out)"
      ],
      "execution_count": 10,
      "outputs": [
        {
          "output_type": "display_data",
          "data": {
            "application/vnd.jupyter.widget-view+json": {
              "model_id": "2c2aff34cde34aee9f95838c32cf7ac2",
              "version_minor": 0,
              "version_major": 2
            },
            "text/plain": [
              "Tab(children=(Output(), Output()), _titles={'0': 'Youtube', '1': 'Bilibili'})"
            ]
          },
          "metadata": {
            "tags": []
          }
        }
      ]
    },
    {
      "cell_type": "markdown",
      "metadata": {
        "execution": {},
        "id": "ov5umTefDz8C"
      },
      "source": [
        "### Interactive Demo 2.1: Forgetting in a changing world\n",
        "\n",
        "\n",
        "Even if we know the world state for sure, the world changes. We become less and less certain as time goes by since our last measurement. In this exercise, we'll see how a Hidden Markov Model gradually \"forgets\" the current state when predicting the future without measurements.\n",
        "\n",
        "Assume we know that the initial state is -1, $s_0=-1$, so $p(s_0)=[1,0]$. We will plot $p(s_t)$ versus time.\n",
        "\n",
        "1. Examine helper function `simulate_prediction_only` and understand how the predicted distribution changes over time.\n",
        "\n",
        "2. Using our provided code, plot this distribution over time, and manipulate the process dynamics via the slider controlling the switching probability.\n",
        "\n",
        "Do you forget more quickly with low or high switching probability? Why? How does the curve look when `prob_switch` $>0.5$? Why?\n",
        "\n",
        "\n",
        "\n"
      ]
    },
    {
      "cell_type": "code",
      "metadata": {
        "cellView": "form",
        "execution": {},
        "id": "uVjV50xoDz8D"
      },
      "source": [
        "# @markdown Execute this cell to enable helper function `simulate_prediction_only`\n",
        "\n",
        "def simulate_prediction_only(model, nstep):\n",
        "  \"\"\"\n",
        "  Simulate the diffusion of HMM with no observations\n",
        "\n",
        "  Args:\n",
        "    model (GaussianHMM1D instance): the HMM instance\n",
        "    nstep (int): total number of time steps to simulate(include initial time)\n",
        "\n",
        "  Returns:\n",
        "    predictive_probs (list of numpy vector): the list of marginal probabilities\n",
        "  \"\"\"\n",
        "  entropy_list = []\n",
        "  predictive_probs = []\n",
        "  prob = model.startprob\n",
        "  for i in range(nstep):\n",
        "\n",
        "    # Log probabilities\n",
        "    predictive_probs.append(prob)\n",
        "\n",
        "    # One step forward\n",
        "    prob = prob @ model.transmat\n",
        "\n",
        "  return predictive_probs"
      ],
      "execution_count": 11,
      "outputs": []
    },
    {
      "cell_type": "code",
      "metadata": {
        "cellView": "form",
        "execution": {},
        "id": "wQ4Bg6_EDz8D",
        "outputId": "103346cd-b8ce-46e0-a32f-eba7446747df",
        "colab": {
          "base_uri": "https://localhost:8080/",
          "height": 462,
          "referenced_widgets": [
            "ad461bb4706542f386e0ec6409bb16d7",
            "1980490d57b944a881b47183a9d08b38",
            "a3c66befbb0d46b78293fb24c5d6e6b2",
            "bc6931e499774d599cd9f1ccda26530b",
            "ea9446e7031745439de51ae8bddd55b9",
            "5b77cdaaaaaa44708e783a2d6d34e8c2",
            "af7d0a91a37b4fc797e76537b92fce5b"
          ]
        }
      },
      "source": [
        "# @markdown Execute this cell to enable the widget!\n",
        "\n",
        "np.random.seed(101)\n",
        "T = 100\n",
        "noise_level = 0.5\n",
        "\n",
        "@widgets.interact(switch_prob=widgets.FloatSlider(min=0.0, max=1.0, step=0.01, value=0.1))\n",
        "def plot(switch_prob=switch_prob):\n",
        "  model = create_HMM(switch_prob=switch_prob, noise_level=noise_level)\n",
        "  predictive_probs = simulate_prediction_only(model, T)\n",
        "  plot_marginal_seq(predictive_probs, switch_prob)"
      ],
      "execution_count": 12,
      "outputs": [
        {
          "output_type": "display_data",
          "data": {
            "application/vnd.jupyter.widget-view+json": {
              "model_id": "ad461bb4706542f386e0ec6409bb16d7",
              "version_minor": 0,
              "version_major": 2
            },
            "text/plain": [
              "interactive(children=(FloatSlider(value=0.1, description='switch_prob', max=1.0, step=0.01), Output()), _dom_c…"
            ]
          },
          "metadata": {
            "tags": []
          }
        }
      ]
    },
    {
      "cell_type": "markdown",
      "metadata": {
        "execution": {},
        "id": "dLQa4pTWDz8E"
      },
      "source": [
        "[*Click for solution*](https://github.com/NeuromatchAcademy/course-content/tree/master//tutorials/W3D2_HiddenDynamics/solutions/W3D2_Tutorial2_Solution_8357dee2.py)\n",
        "\n"
      ]
    },
    {
      "cell_type": "code",
      "metadata": {
        "cellView": "form",
        "execution": {},
        "id": "TtPm0nSdDz8E",
        "outputId": "09847f3e-7cab-4d1f-a886-8d97296c321d",
        "colab": {
          "base_uri": "https://localhost:8080/",
          "height": 581,
          "referenced_widgets": [
            "bb01062bced940cbb89e14912e966006",
            "599262de7a674d288413618693878df5",
            "56639302ccb74931aa1c9dfd22aa259a",
            "7a9b2ef129ab4bae99e6ea7ced7a7666",
            "3e3f7c2c110146698cbf227647400ffb",
            "cfb041cb12aa48df981841f9872b8b65"
          ]
        }
      },
      "source": [
        "# @title Video 5: Section 2 Exercise Discussion\n",
        "from ipywidgets import widgets\n",
        "\n",
        "out2 = widgets.Output()\n",
        "with out2:\n",
        "  from IPython.display import IFrame\n",
        "  class BiliVideo(IFrame):\n",
        "      def __init__(self, id, page=1, width=400, height=300, **kwargs):\n",
        "          self.id=id\n",
        "          src = 'https://player.bilibili.com/player.html?bvid={0}&page={1}'.format(id, page)\n",
        "          super(BiliVideo, self).__init__(src, width, height, **kwargs)\n",
        "\n",
        "  video = BiliVideo(id=\"BV1DM4y1K7tK\", width=854, height=480, fs=1)\n",
        "  print('Video available at https://www.bilibili.com/video/{0}'.format(video.id))\n",
        "  display(video)\n",
        "\n",
        "out1 = widgets.Output()\n",
        "with out1:\n",
        "  from IPython.display import YouTubeVideo\n",
        "  video = YouTubeVideo(id=\"GRnlvxZ_ozk\", width=854, height=480, fs=1, rel=0)\n",
        "  print('Video available at https://youtube.com/watch?v=' + video.id)\n",
        "  display(video)\n",
        "\n",
        "out = widgets.Tab([out1, out2])\n",
        "out.set_title(0, 'Youtube')\n",
        "out.set_title(1, 'Bilibili')\n",
        "\n",
        "display(out)"
      ],
      "execution_count": 13,
      "outputs": [
        {
          "output_type": "display_data",
          "data": {
            "application/vnd.jupyter.widget-view+json": {
              "model_id": "bb01062bced940cbb89e14912e966006",
              "version_minor": 0,
              "version_major": 2
            },
            "text/plain": [
              "Tab(children=(Output(), Output()), _titles={'0': 'Youtube', '1': 'Bilibili'})"
            ]
          },
          "metadata": {
            "tags": []
          }
        }
      ]
    },
    {
      "cell_type": "markdown",
      "metadata": {
        "execution": {},
        "id": "oYmzV6qZDz8E"
      },
      "source": [
        "# Section 3: Forward inference in an HMM\n",
        "\n",
        "*Estimated timing to here from start of tutorial: 35 min*"
      ]
    },
    {
      "cell_type": "code",
      "metadata": {
        "cellView": "form",
        "execution": {},
        "id": "TrbAljsbDz8F",
        "outputId": "f3656383-a8dd-4231-ee66-48a3c6cdbdad",
        "colab": {
          "base_uri": "https://localhost:8080/",
          "height": 581,
          "referenced_widgets": [
            "78e8889505a64297ad56da15bedad2bb",
            "e2515f4d4f4c4146a4099dce01b05cf0",
            "14a63c532fc64e19a795864ad34859bc",
            "fd56ec6eebef466bb2a5e614b5e4e644",
            "950a6900ac4d4b08b52bb41ff6ea88bb",
            "3e2921230b5a43d297a94db0c293b54a"
          ]
        }
      },
      "source": [
        "# @title Video 6: Inference in an HMM\n",
        "from ipywidgets import widgets\n",
        "\n",
        "out2 = widgets.Output()\n",
        "with out2:\n",
        "  from IPython.display import IFrame\n",
        "  class BiliVideo(IFrame):\n",
        "      def __init__(self, id, page=1, width=400, height=300, **kwargs):\n",
        "          self.id=id\n",
        "          src = 'https://player.bilibili.com/player.html?bvid={0}&page={1}'.format(id, page)\n",
        "          super(BiliVideo, self).__init__(src, width, height, **kwargs)\n",
        "\n",
        "  video = BiliVideo(id=\"BV17f4y1571y\", width=854, height=480, fs=1)\n",
        "  print('Video available at https://www.bilibili.com/video/{0}'.format(video.id))\n",
        "  display(video)\n",
        "\n",
        "out1 = widgets.Output()\n",
        "with out1:\n",
        "  from IPython.display import YouTubeVideo\n",
        "  video = YouTubeVideo(id=\"fErhvxE9SHs\", width=854, height=480, fs=1, rel=0)\n",
        "  print('Video available at https://youtube.com/watch?v=' + video.id)\n",
        "  display(video)\n",
        "\n",
        "out = widgets.Tab([out1, out2])\n",
        "out.set_title(0, 'Youtube')\n",
        "out.set_title(1, 'Bilibili')\n",
        "\n",
        "display(out)"
      ],
      "execution_count": 14,
      "outputs": [
        {
          "output_type": "display_data",
          "data": {
            "application/vnd.jupyter.widget-view+json": {
              "model_id": "78e8889505a64297ad56da15bedad2bb",
              "version_minor": 0,
              "version_major": 2
            },
            "text/plain": [
              "Tab(children=(Output(), Output()), _titles={'0': 'Youtube', '1': 'Bilibili'})"
            ]
          },
          "metadata": {
            "tags": []
          }
        }
      ]
    },
    {
      "cell_type": "markdown",
      "metadata": {
        "execution": {},
        "id": "wtXKIiNSDz8F"
      },
      "source": [
        "### Coding Exercise 3.1: Forward inference of HMM\n",
        "\n",
        "As a recursive algorithm, let's assume we already have yesterday's posterior from time $t-1$: $p(s_{t-1}|m_{1:t-1})$. When the new data $m_{t}$ comes in, the algorithm performs the following steps:\n",
        "\n",
        "* **Predict**: transform yesterday's posterior over $s_{t-1}$ into today's prior over $s_t$ using the transition matrix $D$:\n",
        "\n",
        "$$\\text{today's prior}=p(s_t|m_{1:t-1})= p(s_{t-1}|m_{1:t-1}) D$$\n",
        "\n",
        "* **Update**: Incorporate measurement $m_t$ to calculate the posterior $p(s_t|m_{0:t})$\n",
        "\n",
        "$$\\text{posterior} \\propto \\text{prior}\\cdot \\text{likelihood}=p(m_t|s_t)p(s_t|m_{0:t-1})$$\n",
        "\n",
        "In this exercise, you will:\n",
        "\n",
        "* STEP 1: Complete the code in function `markov_forward` to calculate the predictive marginal distribution at next time step\n",
        "\n",
        "* STEP 2: Complete the code in function `one_step_update` to combine predictive probabilities and data likelihood into a new posterior\n",
        "  * Hint: We have provided a function to calculate the likelihood of $m_t$ under the two possible states: `compute_likelihood(model,M_t)`.\n",
        "\n",
        "* STEP 3: Using code we provide, plot the posterior and compare with the true values \n",
        "\n",
        "The complete forward inference is implemented in `simulate_forward_inference` which just calls `one_step_update` recursively.\n",
        "\n",
        "\n"
      ]
    },
    {
      "cell_type": "code",
      "metadata": {
        "cellView": "form",
        "execution": {},
        "id": "9DzSXw1JDz8G",
        "outputId": "ccf45eac-a983-492a-8569-320826dca99c",
        "colab": {
          "base_uri": "https://localhost:8080/"
        }
      },
      "source": [
        "# @markdown Execute to enable helper functions `compute_likelihood` and `simulate_forward_inference`\n",
        "\n",
        "def compute_likelihood(model, M):\n",
        "  \"\"\"\n",
        "  Calculate likelihood of seeing data `M` for all measurement models\n",
        "\n",
        "  Args:\n",
        "    model (GaussianHMM1D): HMM\n",
        "    M (float or numpy vector)\n",
        "\n",
        "  Returns:\n",
        "    L (numpy vector or matrix): the likelihood\n",
        "  \"\"\"\n",
        "  rv0 = stats.norm(model.means[0], np.sqrt(model.vars[0]))\n",
        "  rv1 = stats.norm(model.means[1], np.sqrt(model.vars[1]))\n",
        "  L = np.stack([rv0.pdf(M), rv1.pdf(M)],axis=0)\n",
        "  if L.size==2:\n",
        "    L = L.flatten()\n",
        "  return L\n",
        "\n",
        "\n",
        "def simulate_forward_inference(model, T, data=None):\n",
        "  \"\"\"\n",
        "  Given HMM `model`, calculate posterior marginal predictions of x_t for T-1 time steps ahead based on\n",
        "  evidence `data`. If `data` is not give, generate a sequence of measurements from first component.\n",
        "\n",
        "  Args:\n",
        "    model (GaussianHMM instance): the HMM\n",
        "    T (int): length of returned array\n",
        "\n",
        "  Returns:\n",
        "    predictive_state1: predictive probabilities in first state w.r.t no evidence\n",
        "    posterior_state1: posterior probabilities in first state w.r.t evidence\n",
        "  \"\"\"\n",
        "\n",
        "  # First re-calculate hte predictive probabilities without evidence\n",
        "  # predictive_probs = simulate_prediction_only(model, T)\n",
        "  predictive_probs = np.zeros((T,2))\n",
        "  likelihoods = np.zeros((T,2))\n",
        "  posterior_probs = np.zeros((T, 2))\n",
        "  # Generate an measurement trajectory condtioned on that latent state x is always 1\n",
        "  if data is not None:\n",
        "    M = data\n",
        "  else:\n",
        "    M = np.random.normal(model.means[0], np.sqrt(model.vars[0]), (T,))\n",
        "\n",
        "  # Calculate marginal for each latent state x_t\n",
        "  predictive_probs[0,:] = model.startprob\n",
        "  likelihoods[0,:] = compute_likelihood(model, M[[0]])\n",
        "  posterior = predictive_probs[0,:] * likelihoods[0,:]\n",
        "  posterior /= np.sum(posterior)\n",
        "  posterior_probs[0,:] = posterior\n",
        "\n",
        "  for t in range(1, T):\n",
        "    prediction, likelihood, posterior = one_step_update(model, posterior_probs[t-1], M[[t]])\n",
        "    # normalize and add to the list\n",
        "    posterior /= np.sum(posterior)\n",
        "    predictive_probs[t,:] = prediction\n",
        "    likelihoods[t,:] = likelihood\n",
        "    posterior_probs[t,:] = posterior\n",
        "  return predictive_probs, likelihoods, posterior_probs\n",
        "\n",
        "help(compute_likelihood)\n",
        "help(simulate_forward_inference)"
      ],
      "execution_count": 15,
      "outputs": [
        {
          "output_type": "stream",
          "text": [
            "Help on function compute_likelihood in module __main__:\n",
            "\n",
            "compute_likelihood(model, M)\n",
            "    Calculate likelihood of seeing data `M` for all measurement models\n",
            "    \n",
            "    Args:\n",
            "      model (GaussianHMM1D): HMM\n",
            "      M (float or numpy vector)\n",
            "    \n",
            "    Returns:\n",
            "      L (numpy vector or matrix): the likelihood\n",
            "\n",
            "Help on function simulate_forward_inference in module __main__:\n",
            "\n",
            "simulate_forward_inference(model, T, data=None)\n",
            "    Given HMM `model`, calculate posterior marginal predictions of x_t for T-1 time steps ahead based on\n",
            "    evidence `data`. If `data` is not give, generate a sequence of measurements from first component.\n",
            "    \n",
            "    Args:\n",
            "      model (GaussianHMM instance): the HMM\n",
            "      T (int): length of returned array\n",
            "    \n",
            "    Returns:\n",
            "      predictive_state1: predictive probabilities in first state w.r.t no evidence\n",
            "      posterior_state1: posterior probabilities in first state w.r.t evidence\n",
            "\n"
          ],
          "name": "stdout"
        }
      ]
    },
    {
      "cell_type": "code",
      "metadata": {
        "execution": {},
        "id": "ImeMFxUpDz8H",
        "outputId": "35ed8593-93d5-432a-b673-40aac8c946f3",
        "colab": {
          "base_uri": "https://localhost:8080/",
          "height": 844
        }
      },
      "source": [
        "def markov_forward(p0, D):\n",
        "  \"\"\"Calculate the forward predictive distribution in a discrete Markov chain\n",
        "\n",
        "  Args:\n",
        "    p0 (numpy vector): a discrete probability vector\n",
        "    D (numpy matrix): the transition matrix, D[i,j] means the prob. to\n",
        "    switch FROM i TO j\n",
        "\n",
        "  Returns:\n",
        "    p1 (numpy vector): the predictive probabilities in next time step\n",
        "  \"\"\"\n",
        "  ##############################################################################\n",
        "  # Insert your code here to:\n",
        "  #    1. Calculate the predicted probabilities at next time step using the\n",
        "  #      probabilities at current time and the transition matrix\n",
        "  #raise NotImplementedError(\"`markov_forward` is incomplete\")\n",
        "  ##############################################################################\n",
        "\n",
        "  # Calculate predictive probabilities (prior)\n",
        "  p1 = p0@D\n",
        "\n",
        "  return p1\n",
        "\n",
        "def one_step_update(model, posterior_tm1, M_t):\n",
        "  \"\"\"Given a HMM model, calculate the one-time-step updates to the posterior.\n",
        "  Args:\n",
        "    model (GaussianHMM1D instance): the HMM\n",
        "    posterior_tm1 (numpy vector): Posterior at `t-1`\n",
        "    M_t (numpy array): measurement at `t`\n",
        "\n",
        "  Returns:\n",
        "    posterior_t (numpy array): Posterior at `t`\n",
        "  \"\"\"\n",
        "  ##############################################################################\n",
        "  # Insert your code here to:\n",
        "  #    1. Call function `markov_forward` to calculate the prior for next time\n",
        "  #      step\n",
        "  #    2. Calculate likelihood of seeing current data `M_t` under both states\n",
        "  #      as a vector.\n",
        "  #    3. Calculate the posterior which is proportional to\n",
        "  #      likelihood x prediction elementwise,\n",
        "  #    4. Don't forget to normalize\n",
        "  #raise NotImplementedError(\"`one_step_update` is incomplete\")\n",
        "  ##############################################################################\n",
        "\n",
        "  # Calculate predictive probabilities (prior)\n",
        "  prediction = markov_forward(posterior_tm1, model.transmat)\n",
        "\n",
        "  # Get the likelihood\n",
        "  likelihood = compute_likelihood(model, M_t)\n",
        "\n",
        "  # Calculate posterior\n",
        "  posterior_t = likelihood * prediction\n",
        "\n",
        "  # Normalize\n",
        "  posterior_t /= np.sum(posterior_t)\n",
        "\n",
        "  return prediction, likelihood, posterior_t\n",
        "\n",
        "\n",
        "# Set random seed\n",
        "np.random.seed(12)\n",
        "\n",
        "# Set parameters\n",
        "switch_prob = 0.4\n",
        "noise_level = .4\n",
        "t = 75\n",
        "\n",
        "# Create and sample from model\n",
        "model = create_HMM(switch_prob = switch_prob,\n",
        "                    noise_level = noise_level,\n",
        "                    startprob=[0.5, 0.5])\n",
        "\n",
        "measurements, states = sample(model, nstep)\n",
        "\n",
        "# Infer state sequence\n",
        "predictive_probs, likelihoods, posterior_probs = simulate_forward_inference(model, nstep,\n",
        "                                                            measurements)\n",
        "states_inferred = np.asarray(posterior_probs[:,0] <= 0.5, dtype=int)\n",
        "\n",
        "# Visualize\n",
        "plot_forward_inference(\n",
        "      model, states, measurements, states_inferred,\n",
        "      predictive_probs, likelihoods, posterior_probs,t=t, flag_m = 0\n",
        "    )"
      ],
      "execution_count": 17,
      "outputs": [
        {
          "output_type": "execute_result",
          "data": {
            "image/png": "[encoded data removed]",
            "text/plain": [
              "<Figure size 792x432 with 2 Axes>"
            ]
          },
          "metadata": {
            "tags": [],
            "image/png": {
              "width": 769,
              "height": 413
            }
          },
          "execution_count": 17
        },
        {
          "output_type": "display_data",
          "data": {
            "image/png": "[encoded data removed]",
            "text/plain": [
              "<Figure size 792x432 with 2 Axes>"
            ]
          },
          "metadata": {
            "tags": [],
            "image/png": {
              "width": 773,
              "height": 414
            },
            "needs_background": "light"
          }
        }
      ]
    },
    {
      "cell_type": "markdown",
      "metadata": {
        "execution": {},
        "id": "exWvwAlsDz8H"
      },
      "source": [
        "[*Click for solution*](https://github.com/NeuromatchAcademy/course-content/tree/master//tutorials/W3D2_HiddenDynamics/solutions/W3D2_Tutorial2_Solution_69ce2879.py)\n",
        "\n",
        "*Example output:*\n",
        "\n",
        "<img alt='Solution hint' align='left' width=1532.0 height=825.0 src=https://raw.githubusercontent.com/NeuromatchAcademy/course-content/master/tutorials/W3D2_HiddenDynamics/static/W3D2_Tutorial2_Solution_69ce2879_0.png>\n",
        "\n"
      ]
    },
    {
      "cell_type": "markdown",
      "metadata": {
        "execution": {},
        "id": "zyWf9HrIDz8I"
      },
      "source": [
        "## Interactive Demo 3.2: Forward inference in binary HMM\n",
        "\n",
        "Now visualize your inference algorithm. Play with the sliders and checkboxes to help you gain intuition. \n",
        "\n",
        "* Use the sliders `switch_prob` and `log10_noise_level` to change the switching probability and measurement noise level.\n",
        "\n",
        "* Use the slider `t` to view prediction (prior) probabilities, likelihood, and posteriors at different times.\n",
        "\n",
        "When does the inference make a mistake? For example, set `switch_prob=0.1`, `log_10_noise_level=-0.2`, and take a look at the probabilities at time `t=2`."
      ]
    },
    {
      "cell_type": "code",
      "metadata": {
        "cellView": "form",
        "execution": {},
        "id": "B5J_U_oqDz8I",
        "outputId": "f27eb92c-1516-452c-e457-b95d5a6e2d55",
        "colab": {
          "base_uri": "https://localhost:8080/",
          "height": 654,
          "referenced_widgets": [
            "491898825ea748738c2a20726bd5059c",
            "8bf46e43dcb541e882d59d24d36649ac",
            "752ff230f661457da9d97a45fcb8d227",
            "5aae707b5ff3413e8beef5a6fc10f55d",
            "a2a86041e64948bea0a6bf6f20dd4821",
            "871aa9afce224c5882381b5b1d781d10",
            "38f452fed29c41448efd38c2c8d31d04",
            "3d6b29e88dd5405ab73b871a739ea886",
            "dcb8effd2ba64bc9ab6cac99ccd3c7ae",
            "36e67d80f774480685ca6d1184f4a8f1",
            "a7d603ace1b9460b8bf1ac2a6d090f49",
            "b289de9e690f44dfb1afd6583cb04385",
            "bb9e6198078d4074807f1dfab473f3ad",
            "72cda81d15c64db7a20c58a28e7ebdb0",
            "f6e147af0a70484089e2c3900701cec4",
            "8975a2ffe6664ae880f83dbd91137226",
            "e06dd639bdee491ba4843b525257f5e5",
            "e2ed582f3e88405ebe54455ccdb2aeef",
            "56e9b8ea22f3499b9b67311509841537",
            "4ddd5ffd6e184df7bbb6712e762218e2",
            "516952a5f36a4657b40d0a4ccc35559d",
            "5c93b8ce16094aeb9406af6bc73c1045",
            "e70bd2fdc68d439c85dfd6bafbb29a96",
            "57f7922cccef45dc90c013c68cf6bb5f",
            "ddf0f8a2d5b5471ebfd5f6d5d9a0c582"
          ]
        }
      },
      "source": [
        "# @markdown Execute this cell to enable the demo\n",
        "\n",
        "nstep = 100\n",
        "\n",
        "@widgets.interact\n",
        "def plot_forward_inference_widget(\n",
        "    switch_prob=widgets.FloatSlider(min=0.0, max=1.0, step=0.01, value=0.05),\n",
        "    log10_noise_level=widgets.FloatSlider(min=-1., max=1., step=.01, value=0.1),\n",
        "    t=widgets.IntSlider(min=0, max=nstep-1, step=1, value=nstep//2),\n",
        "    #flag_m=widgets.Checkbox(value=True, description='measurement distribution', disabled=False, indent=False),\n",
        "    flag_d=widgets.Checkbox(value=True, description='measurements', disabled=False, indent=False),\n",
        "    flag_pre=widgets.Checkbox(value=True, description='todays prior', disabled=False, indent=False),\n",
        "    flag_like=widgets.Checkbox(value=True, description='likelihood', disabled=False, indent=False),\n",
        "    flag_post=widgets.Checkbox(value=True, description='posterior', disabled=False, indent=False),\n",
        "    ):\n",
        "\n",
        "  np.random.seed(102)\n",
        "\n",
        "  # global model, measurements, states, states_inferred, predictive_probs, likelihoods, posterior_probs\n",
        "  model = create_HMM(switch_prob=switch_prob,\n",
        "                      noise_level=10.**log10_noise_level,\n",
        "                      startprob=[0.5, 0.5])\n",
        "  measurements, states = sample(model, nstep)\n",
        "\n",
        "  # Infer state sequence\n",
        "  predictive_probs, likelihoods, posterior_probs = simulate_forward_inference(model, nstep,\n",
        "                                                              measurements)\n",
        "  states_inferred = np.asarray(posterior_probs[:,0] <= 0.5, dtype=int)\n",
        "\n",
        "  fig = plot_forward_inference(\n",
        "        model, states, measurements, states_inferred,\n",
        "        predictive_probs, likelihoods, posterior_probs,t=t,\n",
        "        flag_m=0,\n",
        "        flag_d=flag_d,flag_pre=flag_pre,flag_like=flag_like,flag_post=flag_post\n",
        "      )\n",
        "  plt.show(fig)"
      ],
      "execution_count": 18,
      "outputs": [
        {
          "output_type": "display_data",
          "data": {
            "application/vnd.jupyter.widget-view+json": {
              "model_id": "491898825ea748738c2a20726bd5059c",
              "version_minor": 0,
              "version_major": 2
            },
            "text/plain": [
              "interactive(children=(FloatSlider(value=0.05, description='switch_prob', max=1.0, step=0.01), FloatSlider(valu…"
            ]
          },
          "metadata": {
            "tags": []
          }
        }
      ]
    },
    {
      "cell_type": "code",
      "metadata": {
        "cellView": "form",
        "execution": {},
        "id": "nSeo1mHJDz8J",
        "outputId": "dbc740dc-b5bd-4a9b-a981-f9b9f6022961",
        "colab": {
          "base_uri": "https://localhost:8080/",
          "height": 581,
          "referenced_widgets": [
            "3c1e9f7fc695445fa261b524e1e4f822",
            "0869afe9caf348eca4a5368476eee633",
            "ebb830eaf999436db7905f2cfece16cc",
            "a67271224f2148b1913dcbb354e1e8b9",
            "646765442209427f8c04636206dce0c1",
            "d17df878e36a4edca0b26e5a06b60135"
          ]
        }
      },
      "source": [
        "# @title Video 7: Section 3 Exercise Discussion\n",
        "from ipywidgets import widgets\n",
        "\n",
        "out2 = widgets.Output()\n",
        "with out2:\n",
        "  from IPython.display import IFrame\n",
        "  class BiliVideo(IFrame):\n",
        "      def __init__(self, id, page=1, width=400, height=300, **kwargs):\n",
        "          self.id=id\n",
        "          src = 'https://player.bilibili.com/player.html?bvid={0}&page={1}'.format(id, page)\n",
        "          super(BiliVideo, self).__init__(src, width, height, **kwargs)\n",
        "\n",
        "  video = BiliVideo(id=\"BV1EM4y1T7cB\", width=854, height=480, fs=1)\n",
        "  print('Video available at https://www.bilibili.com/video/{0}'.format(video.id))\n",
        "  display(video)\n",
        "\n",
        "out1 = widgets.Output()\n",
        "with out1:\n",
        "  from IPython.display import YouTubeVideo\n",
        "  video = YouTubeVideo(id=\"CNrjxNedqV0\", width=854, height=480, fs=1, rel=0)\n",
        "  print('Video available at https://youtube.com/watch?v=' + video.id)\n",
        "  display(video)\n",
        "\n",
        "out = widgets.Tab([out1, out2])\n",
        "out.set_title(0, 'Youtube')\n",
        "out.set_title(1, 'Bilibili')\n",
        "\n",
        "display(out)"
      ],
      "execution_count": 19,
      "outputs": [
        {
          "output_type": "display_data",
          "data": {
            "application/vnd.jupyter.widget-view+json": {
              "model_id": "3c1e9f7fc695445fa261b524e1e4f822",
              "version_minor": 0,
              "version_major": 2
            },
            "text/plain": [
              "Tab(children=(Output(), Output()), _titles={'0': 'Youtube', '1': 'Bilibili'})"
            ]
          },
          "metadata": {
            "tags": []
          }
        }
      ]
    },
    {
      "cell_type": "markdown",
      "metadata": {
        "execution": {},
        "id": "wX2uxrcXDz8J"
      },
      "source": [
        "---\n",
        "# Summary\n",
        "\n",
        "*Estimated timing of tutorial: 1 hour, 5 minutes*\n",
        "\n",
        "In this tutorial, you\n",
        "\n",
        "* Simulated the dynamics of the hidden state in a Hidden Markov model and visualized the measured data (Section 1)\n",
        "* Explored how uncertainty in a future hidden state changes based on the probabilities of switching between states (Section 2)\n",
        "* Estimated hidden states from the measurements using forward inference, connected this to Bayesian ideas, and explored the effects of noise and transition matrix probabilities on this process (Section 3)"
      ]
    }
  ]
}